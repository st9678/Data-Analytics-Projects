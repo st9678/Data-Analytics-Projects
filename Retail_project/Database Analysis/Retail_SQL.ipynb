{
 "cells": [
  {
   "cell_type": "code",
   "execution_count": 1,
   "metadata": {},
   "outputs": [],
   "source": [
    "import pandas as pd\n",
    "from sqlalchemy import create_engine"
   ]
  },
  {
   "cell_type": "markdown",
   "metadata": {},
   "source": [
    "# Анализ базы данных\n",
    "\n",
    "Компания вышла на книжный рынок, приобретя крупный сервис для чтения книг по подписке. Первостепенная задача аналитиков проанализировать базу данных, хранащую информацию о книгах, издательствах, авторах, а также пользовательские обзоры книг. Все это необходимо для возможности формировать ценые предложения для нового продукта.\n",
    "\n",
    "## Коннекция  и выгрузка данных\n",
    "\n",
    "Создадим соединения с базой данных SQL по средством библиотеки sqlalchemy, а также выгрузим данные для первостепенной оценки."
   ]
  },
  {
   "cell_type": "code",
   "execution_count": 2,
   "metadata": {},
   "outputs": [],
   "source": [
    "db_config = {'user':'praktikum_student',\n",
    "             'pwd':'Sdf4$2;d-d30pp',\n",
    "             'host':'rc1b-wcoijxj3yxfsf3fs.mdb.yandexcloud.net',\n",
    "             'port':6432, \n",
    "             'db':'data-analyst-final-project-db'\n",
    "             }"
   ]
  },
  {
   "cell_type": "code",
   "execution_count": 3,
   "metadata": {},
   "outputs": [],
   "source": [
    "connection_string = 'postgresql://{}:{}@{}:{}/{}'.format(db_config['user'],\n",
    "                                                       db_config['pwd'],\n",
    "                                                       db_config['host'],\n",
    "                                                       db_config['port'],\n",
    "                                                       db_config['db'])\n",
    "engine = create_engine(connection_string, connect_args={'sslmode':'require'})"
   ]
  },
  {
   "cell_type": "code",
   "execution_count": 4,
   "metadata": {},
   "outputs": [
    {
     "name": "stdout",
     "output_type": "stream",
     "text": [
      "Количество дубликатов: 0\n"
     ]
    },
    {
     "data": {
      "text/html": [
       "<div>\n",
       "<style scoped>\n",
       "    .dataframe tbody tr th:only-of-type {\n",
       "        vertical-align: middle;\n",
       "    }\n",
       "\n",
       "    .dataframe tbody tr th {\n",
       "        vertical-align: top;\n",
       "    }\n",
       "\n",
       "    .dataframe thead th {\n",
       "        text-align: right;\n",
       "    }\n",
       "</style>\n",
       "<table border=\"1\" class=\"dataframe\">\n",
       "  <thead>\n",
       "    <tr style=\"text-align: right;\">\n",
       "      <th></th>\n",
       "      <th>book_id</th>\n",
       "      <th>author_id</th>\n",
       "      <th>title</th>\n",
       "      <th>num_pages</th>\n",
       "      <th>publication_date</th>\n",
       "      <th>publisher_id</th>\n",
       "    </tr>\n",
       "  </thead>\n",
       "  <tbody>\n",
       "    <tr>\n",
       "      <td>0</td>\n",
       "      <td>1</td>\n",
       "      <td>546</td>\n",
       "      <td>'Salem's Lot</td>\n",
       "      <td>594</td>\n",
       "      <td>2005-11-01</td>\n",
       "      <td>93</td>\n",
       "    </tr>\n",
       "    <tr>\n",
       "      <td>1</td>\n",
       "      <td>2</td>\n",
       "      <td>465</td>\n",
       "      <td>1 000 Places to See Before You Die</td>\n",
       "      <td>992</td>\n",
       "      <td>2003-05-22</td>\n",
       "      <td>336</td>\n",
       "    </tr>\n",
       "    <tr>\n",
       "      <td>2</td>\n",
       "      <td>3</td>\n",
       "      <td>407</td>\n",
       "      <td>13 Little Blue Envelopes (Little Blue Envelope...</td>\n",
       "      <td>322</td>\n",
       "      <td>2010-12-21</td>\n",
       "      <td>135</td>\n",
       "    </tr>\n",
       "    <tr>\n",
       "      <td>3</td>\n",
       "      <td>4</td>\n",
       "      <td>82</td>\n",
       "      <td>1491: New Revelations of the Americas Before C...</td>\n",
       "      <td>541</td>\n",
       "      <td>2006-10-10</td>\n",
       "      <td>309</td>\n",
       "    </tr>\n",
       "    <tr>\n",
       "      <td>4</td>\n",
       "      <td>5</td>\n",
       "      <td>125</td>\n",
       "      <td>1776</td>\n",
       "      <td>386</td>\n",
       "      <td>2006-07-04</td>\n",
       "      <td>268</td>\n",
       "    </tr>\n",
       "    <tr>\n",
       "      <td>...</td>\n",
       "      <td>...</td>\n",
       "      <td>...</td>\n",
       "      <td>...</td>\n",
       "      <td>...</td>\n",
       "      <td>...</td>\n",
       "      <td>...</td>\n",
       "    </tr>\n",
       "    <tr>\n",
       "      <td>995</td>\n",
       "      <td>996</td>\n",
       "      <td>571</td>\n",
       "      <td>Wyrd Sisters (Discworld  #6; Witches #2)</td>\n",
       "      <td>265</td>\n",
       "      <td>2001-02-06</td>\n",
       "      <td>147</td>\n",
       "    </tr>\n",
       "    <tr>\n",
       "      <td>996</td>\n",
       "      <td>997</td>\n",
       "      <td>454</td>\n",
       "      <td>Xenocide (Ender's Saga  #3)</td>\n",
       "      <td>592</td>\n",
       "      <td>1996-07-15</td>\n",
       "      <td>297</td>\n",
       "    </tr>\n",
       "    <tr>\n",
       "      <td>997</td>\n",
       "      <td>998</td>\n",
       "      <td>201</td>\n",
       "      <td>Year of Wonders</td>\n",
       "      <td>358</td>\n",
       "      <td>2002-04-30</td>\n",
       "      <td>212</td>\n",
       "    </tr>\n",
       "    <tr>\n",
       "      <td>998</td>\n",
       "      <td>999</td>\n",
       "      <td>94</td>\n",
       "      <td>You Suck (A Love Story  #2)</td>\n",
       "      <td>328</td>\n",
       "      <td>2007-01-16</td>\n",
       "      <td>331</td>\n",
       "    </tr>\n",
       "    <tr>\n",
       "      <td>999</td>\n",
       "      <td>1000</td>\n",
       "      <td>509</td>\n",
       "      <td>Zen and the Art of Motorcycle Maintenance: An ...</td>\n",
       "      <td>540</td>\n",
       "      <td>2006-04-25</td>\n",
       "      <td>143</td>\n",
       "    </tr>\n",
       "  </tbody>\n",
       "</table>\n",
       "<p>1000 rows × 6 columns</p>\n",
       "</div>"
      ],
      "text/plain": [
       "     book_id  author_id                                              title  \\\n",
       "0          1        546                                       'Salem's Lot   \n",
       "1          2        465                 1 000 Places to See Before You Die   \n",
       "2          3        407  13 Little Blue Envelopes (Little Blue Envelope...   \n",
       "3          4         82  1491: New Revelations of the Americas Before C...   \n",
       "4          5        125                                               1776   \n",
       "..       ...        ...                                                ...   \n",
       "995      996        571           Wyrd Sisters (Discworld  #6; Witches #2)   \n",
       "996      997        454                        Xenocide (Ender's Saga  #3)   \n",
       "997      998        201                                    Year of Wonders   \n",
       "998      999         94                        You Suck (A Love Story  #2)   \n",
       "999     1000        509  Zen and the Art of Motorcycle Maintenance: An ...   \n",
       "\n",
       "     num_pages publication_date  publisher_id  \n",
       "0          594       2005-11-01            93  \n",
       "1          992       2003-05-22           336  \n",
       "2          322       2010-12-21           135  \n",
       "3          541       2006-10-10           309  \n",
       "4          386       2006-07-04           268  \n",
       "..         ...              ...           ...  \n",
       "995        265       2001-02-06           147  \n",
       "996        592       1996-07-15           297  \n",
       "997        358       2002-04-30           212  \n",
       "998        328       2007-01-16           331  \n",
       "999        540       2006-04-25           143  \n",
       "\n",
       "[1000 rows x 6 columns]"
      ]
     },
     "execution_count": 4,
     "metadata": {},
     "output_type": "execute_result"
    }
   ],
   "source": [
    "query = '''SELECT *\n",
    "           FROM books;'''\n",
    "\n",
    "books = pd.io.sql.read_sql(query, con = engine)\n",
    "print(f'Количество дубликатов: {books.duplicated().sum()}')\n",
    "books"
   ]
  },
  {
   "cell_type": "code",
   "execution_count": 5,
   "metadata": {},
   "outputs": [
    {
     "data": {
      "text/html": [
       "<div>\n",
       "<style scoped>\n",
       "    .dataframe tbody tr th:only-of-type {\n",
       "        vertical-align: middle;\n",
       "    }\n",
       "\n",
       "    .dataframe tbody tr th {\n",
       "        vertical-align: top;\n",
       "    }\n",
       "\n",
       "    .dataframe thead th {\n",
       "        text-align: right;\n",
       "    }\n",
       "</style>\n",
       "<table border=\"1\" class=\"dataframe\">\n",
       "  <thead>\n",
       "    <tr style=\"text-align: right;\">\n",
       "      <th></th>\n",
       "      <th>book_id</th>\n",
       "      <th>author_id</th>\n",
       "      <th>title</th>\n",
       "      <th>num_pages</th>\n",
       "      <th>publication_date</th>\n",
       "      <th>publisher_id</th>\n",
       "    </tr>\n",
       "  </thead>\n",
       "  <tbody>\n",
       "    <tr>\n",
       "      <td>425</td>\n",
       "      <td>426</td>\n",
       "      <td>39</td>\n",
       "      <td>Memoirs of a Geisha</td>\n",
       "      <td>434</td>\n",
       "      <td>2005-11-15</td>\n",
       "      <td>241</td>\n",
       "    </tr>\n",
       "    <tr>\n",
       "      <td>426</td>\n",
       "      <td>427</td>\n",
       "      <td>39</td>\n",
       "      <td>Memoirs of a Geisha</td>\n",
       "      <td>503</td>\n",
       "      <td>2005-11-22</td>\n",
       "      <td>311</td>\n",
       "    </tr>\n",
       "  </tbody>\n",
       "</table>\n",
       "</div>"
      ],
      "text/plain": [
       "     book_id  author_id                title  num_pages publication_date  \\\n",
       "425      426         39  Memoirs of a Geisha        434       2005-11-15   \n",
       "426      427         39  Memoirs of a Geisha        503       2005-11-22   \n",
       "\n",
       "     publisher_id  \n",
       "425           241  \n",
       "426           311  "
      ]
     },
     "execution_count": 5,
     "metadata": {},
     "output_type": "execute_result"
    }
   ],
   "source": [
    "books[books['title'] == 'Memoirs of a Geisha']"
   ]
  },
  {
   "cell_type": "code",
   "execution_count": 6,
   "metadata": {},
   "outputs": [
    {
     "name": "stdout",
     "output_type": "stream",
     "text": [
      "Количество дубликатов: 0\n"
     ]
    },
    {
     "data": {
      "text/html": [
       "<div>\n",
       "<style scoped>\n",
       "    .dataframe tbody tr th:only-of-type {\n",
       "        vertical-align: middle;\n",
       "    }\n",
       "\n",
       "    .dataframe tbody tr th {\n",
       "        vertical-align: top;\n",
       "    }\n",
       "\n",
       "    .dataframe thead th {\n",
       "        text-align: right;\n",
       "    }\n",
       "</style>\n",
       "<table border=\"1\" class=\"dataframe\">\n",
       "  <thead>\n",
       "    <tr style=\"text-align: right;\">\n",
       "      <th></th>\n",
       "      <th>author_id</th>\n",
       "      <th>author</th>\n",
       "    </tr>\n",
       "  </thead>\n",
       "  <tbody>\n",
       "    <tr>\n",
       "      <td>0</td>\n",
       "      <td>1</td>\n",
       "      <td>A.S. Byatt</td>\n",
       "    </tr>\n",
       "    <tr>\n",
       "      <td>1</td>\n",
       "      <td>2</td>\n",
       "      <td>Aesop/Laura Harris/Laura Gibbs</td>\n",
       "    </tr>\n",
       "    <tr>\n",
       "      <td>2</td>\n",
       "      <td>3</td>\n",
       "      <td>Agatha Christie</td>\n",
       "    </tr>\n",
       "    <tr>\n",
       "      <td>3</td>\n",
       "      <td>4</td>\n",
       "      <td>Alan Brennert</td>\n",
       "    </tr>\n",
       "    <tr>\n",
       "      <td>4</td>\n",
       "      <td>5</td>\n",
       "      <td>Alan Moore/David   Lloyd</td>\n",
       "    </tr>\n",
       "    <tr>\n",
       "      <td>...</td>\n",
       "      <td>...</td>\n",
       "      <td>...</td>\n",
       "    </tr>\n",
       "    <tr>\n",
       "      <td>631</td>\n",
       "      <td>632</td>\n",
       "      <td>William Strunk Jr./E.B. White</td>\n",
       "    </tr>\n",
       "    <tr>\n",
       "      <td>632</td>\n",
       "      <td>633</td>\n",
       "      <td>Zadie Smith</td>\n",
       "    </tr>\n",
       "    <tr>\n",
       "      <td>633</td>\n",
       "      <td>634</td>\n",
       "      <td>Zilpha Keatley Snyder</td>\n",
       "    </tr>\n",
       "    <tr>\n",
       "      <td>634</td>\n",
       "      <td>635</td>\n",
       "      <td>Zora Neale Hurston</td>\n",
       "    </tr>\n",
       "    <tr>\n",
       "      <td>635</td>\n",
       "      <td>636</td>\n",
       "      <td>Åsne Seierstad/Ingrid Christopherson</td>\n",
       "    </tr>\n",
       "  </tbody>\n",
       "</table>\n",
       "<p>636 rows × 2 columns</p>\n",
       "</div>"
      ],
      "text/plain": [
       "     author_id                                author\n",
       "0            1                            A.S. Byatt\n",
       "1            2        Aesop/Laura Harris/Laura Gibbs\n",
       "2            3                       Agatha Christie\n",
       "3            4                         Alan Brennert\n",
       "4            5              Alan Moore/David   Lloyd\n",
       "..         ...                                   ...\n",
       "631        632         William Strunk Jr./E.B. White\n",
       "632        633                           Zadie Smith\n",
       "633        634                 Zilpha Keatley Snyder\n",
       "634        635                    Zora Neale Hurston\n",
       "635        636  Åsne Seierstad/Ingrid Christopherson\n",
       "\n",
       "[636 rows x 2 columns]"
      ]
     },
     "execution_count": 6,
     "metadata": {},
     "output_type": "execute_result"
    }
   ],
   "source": [
    "query = '''SELECT *\n",
    "           FROM authors;'''\n",
    "\n",
    "authors = pd.io.sql.read_sql(query, con = engine)\n",
    "print(f'Количество дубликатов: {authors.duplicated().sum()}')\n",
    "authors"
   ]
  },
  {
   "cell_type": "code",
   "execution_count": 7,
   "metadata": {},
   "outputs": [
    {
     "name": "stdout",
     "output_type": "stream",
     "text": [
      "Количество дубликатов: 0\n"
     ]
    },
    {
     "data": {
      "text/html": [
       "<div>\n",
       "<style scoped>\n",
       "    .dataframe tbody tr th:only-of-type {\n",
       "        vertical-align: middle;\n",
       "    }\n",
       "\n",
       "    .dataframe tbody tr th {\n",
       "        vertical-align: top;\n",
       "    }\n",
       "\n",
       "    .dataframe thead th {\n",
       "        text-align: right;\n",
       "    }\n",
       "</style>\n",
       "<table border=\"1\" class=\"dataframe\">\n",
       "  <thead>\n",
       "    <tr style=\"text-align: right;\">\n",
       "      <th></th>\n",
       "      <th>publisher_id</th>\n",
       "      <th>publisher</th>\n",
       "    </tr>\n",
       "  </thead>\n",
       "  <tbody>\n",
       "    <tr>\n",
       "      <td>0</td>\n",
       "      <td>1</td>\n",
       "      <td>Ace</td>\n",
       "    </tr>\n",
       "    <tr>\n",
       "      <td>1</td>\n",
       "      <td>2</td>\n",
       "      <td>Ace Book</td>\n",
       "    </tr>\n",
       "    <tr>\n",
       "      <td>2</td>\n",
       "      <td>3</td>\n",
       "      <td>Ace Books</td>\n",
       "    </tr>\n",
       "    <tr>\n",
       "      <td>3</td>\n",
       "      <td>4</td>\n",
       "      <td>Ace Hardcover</td>\n",
       "    </tr>\n",
       "    <tr>\n",
       "      <td>4</td>\n",
       "      <td>5</td>\n",
       "      <td>Addison Wesley Publishing Company</td>\n",
       "    </tr>\n",
       "    <tr>\n",
       "      <td>...</td>\n",
       "      <td>...</td>\n",
       "      <td>...</td>\n",
       "    </tr>\n",
       "    <tr>\n",
       "      <td>335</td>\n",
       "      <td>336</td>\n",
       "      <td>Workman Publishing Company</td>\n",
       "    </tr>\n",
       "    <tr>\n",
       "      <td>336</td>\n",
       "      <td>337</td>\n",
       "      <td>Wyatt Book</td>\n",
       "    </tr>\n",
       "    <tr>\n",
       "      <td>337</td>\n",
       "      <td>338</td>\n",
       "      <td>Yale University Press</td>\n",
       "    </tr>\n",
       "    <tr>\n",
       "      <td>338</td>\n",
       "      <td>339</td>\n",
       "      <td>Yearling</td>\n",
       "    </tr>\n",
       "    <tr>\n",
       "      <td>339</td>\n",
       "      <td>340</td>\n",
       "      <td>Yearling Books</td>\n",
       "    </tr>\n",
       "  </tbody>\n",
       "</table>\n",
       "<p>340 rows × 2 columns</p>\n",
       "</div>"
      ],
      "text/plain": [
       "     publisher_id                          publisher\n",
       "0               1                                Ace\n",
       "1               2                           Ace Book\n",
       "2               3                          Ace Books\n",
       "3               4                      Ace Hardcover\n",
       "4               5  Addison Wesley Publishing Company\n",
       "..            ...                                ...\n",
       "335           336         Workman Publishing Company\n",
       "336           337                         Wyatt Book\n",
       "337           338              Yale University Press\n",
       "338           339                           Yearling\n",
       "339           340                     Yearling Books\n",
       "\n",
       "[340 rows x 2 columns]"
      ]
     },
     "execution_count": 7,
     "metadata": {},
     "output_type": "execute_result"
    }
   ],
   "source": [
    "query = '''SELECT *\n",
    "           FROM publishers;'''\n",
    "\n",
    "publishers = pd.io.sql.read_sql(query, con = engine)\n",
    "print(f'Количество дубликатов: {publishers.duplicated().sum()}')\n",
    "publishers"
   ]
  },
  {
   "cell_type": "code",
   "execution_count": 8,
   "metadata": {},
   "outputs": [
    {
     "name": "stdout",
     "output_type": "stream",
     "text": [
      "Количество дубликатов: 0\n"
     ]
    },
    {
     "data": {
      "text/html": [
       "<div>\n",
       "<style scoped>\n",
       "    .dataframe tbody tr th:only-of-type {\n",
       "        vertical-align: middle;\n",
       "    }\n",
       "\n",
       "    .dataframe tbody tr th {\n",
       "        vertical-align: top;\n",
       "    }\n",
       "\n",
       "    .dataframe thead th {\n",
       "        text-align: right;\n",
       "    }\n",
       "</style>\n",
       "<table border=\"1\" class=\"dataframe\">\n",
       "  <thead>\n",
       "    <tr style=\"text-align: right;\">\n",
       "      <th></th>\n",
       "      <th>rating_id</th>\n",
       "      <th>book_id</th>\n",
       "      <th>username</th>\n",
       "      <th>rating</th>\n",
       "    </tr>\n",
       "  </thead>\n",
       "  <tbody>\n",
       "    <tr>\n",
       "      <td>0</td>\n",
       "      <td>1</td>\n",
       "      <td>1</td>\n",
       "      <td>ryanfranco</td>\n",
       "      <td>4</td>\n",
       "    </tr>\n",
       "    <tr>\n",
       "      <td>1</td>\n",
       "      <td>2</td>\n",
       "      <td>1</td>\n",
       "      <td>grantpatricia</td>\n",
       "      <td>2</td>\n",
       "    </tr>\n",
       "    <tr>\n",
       "      <td>2</td>\n",
       "      <td>3</td>\n",
       "      <td>1</td>\n",
       "      <td>brandtandrea</td>\n",
       "      <td>5</td>\n",
       "    </tr>\n",
       "    <tr>\n",
       "      <td>3</td>\n",
       "      <td>4</td>\n",
       "      <td>2</td>\n",
       "      <td>lorichen</td>\n",
       "      <td>3</td>\n",
       "    </tr>\n",
       "    <tr>\n",
       "      <td>4</td>\n",
       "      <td>5</td>\n",
       "      <td>2</td>\n",
       "      <td>mariokeller</td>\n",
       "      <td>2</td>\n",
       "    </tr>\n",
       "    <tr>\n",
       "      <td>...</td>\n",
       "      <td>...</td>\n",
       "      <td>...</td>\n",
       "      <td>...</td>\n",
       "      <td>...</td>\n",
       "    </tr>\n",
       "    <tr>\n",
       "      <td>6451</td>\n",
       "      <td>6452</td>\n",
       "      <td>1000</td>\n",
       "      <td>carolrodriguez</td>\n",
       "      <td>4</td>\n",
       "    </tr>\n",
       "    <tr>\n",
       "      <td>6452</td>\n",
       "      <td>6453</td>\n",
       "      <td>1000</td>\n",
       "      <td>wendy18</td>\n",
       "      <td>4</td>\n",
       "    </tr>\n",
       "    <tr>\n",
       "      <td>6453</td>\n",
       "      <td>6454</td>\n",
       "      <td>1000</td>\n",
       "      <td>jarvispaul</td>\n",
       "      <td>5</td>\n",
       "    </tr>\n",
       "    <tr>\n",
       "      <td>6454</td>\n",
       "      <td>6455</td>\n",
       "      <td>1000</td>\n",
       "      <td>zross</td>\n",
       "      <td>2</td>\n",
       "    </tr>\n",
       "    <tr>\n",
       "      <td>6455</td>\n",
       "      <td>6456</td>\n",
       "      <td>1000</td>\n",
       "      <td>fharris</td>\n",
       "      <td>5</td>\n",
       "    </tr>\n",
       "  </tbody>\n",
       "</table>\n",
       "<p>6456 rows × 4 columns</p>\n",
       "</div>"
      ],
      "text/plain": [
       "      rating_id  book_id        username  rating\n",
       "0             1        1      ryanfranco       4\n",
       "1             2        1   grantpatricia       2\n",
       "2             3        1    brandtandrea       5\n",
       "3             4        2        lorichen       3\n",
       "4             5        2     mariokeller       2\n",
       "...         ...      ...             ...     ...\n",
       "6451       6452     1000  carolrodriguez       4\n",
       "6452       6453     1000         wendy18       4\n",
       "6453       6454     1000      jarvispaul       5\n",
       "6454       6455     1000           zross       2\n",
       "6455       6456     1000         fharris       5\n",
       "\n",
       "[6456 rows x 4 columns]"
      ]
     },
     "execution_count": 8,
     "metadata": {},
     "output_type": "execute_result"
    }
   ],
   "source": [
    "query = '''SELECT *\n",
    "           FROM ratings;'''\n",
    "\n",
    "ratings = pd.io.sql.read_sql(query, con = engine)\n",
    "print(f'Количество дубликатов: {ratings.duplicated().sum()}')\n",
    "ratings"
   ]
  },
  {
   "cell_type": "code",
   "execution_count": 9,
   "metadata": {},
   "outputs": [
    {
     "name": "stdout",
     "output_type": "stream",
     "text": [
      "Количество дубликатов: 0\n"
     ]
    },
    {
     "data": {
      "text/html": [
       "<div>\n",
       "<style scoped>\n",
       "    .dataframe tbody tr th:only-of-type {\n",
       "        vertical-align: middle;\n",
       "    }\n",
       "\n",
       "    .dataframe tbody tr th {\n",
       "        vertical-align: top;\n",
       "    }\n",
       "\n",
       "    .dataframe thead th {\n",
       "        text-align: right;\n",
       "    }\n",
       "</style>\n",
       "<table border=\"1\" class=\"dataframe\">\n",
       "  <thead>\n",
       "    <tr style=\"text-align: right;\">\n",
       "      <th></th>\n",
       "      <th>review_id</th>\n",
       "      <th>book_id</th>\n",
       "      <th>username</th>\n",
       "      <th>text</th>\n",
       "    </tr>\n",
       "  </thead>\n",
       "  <tbody>\n",
       "    <tr>\n",
       "      <td>0</td>\n",
       "      <td>1</td>\n",
       "      <td>1</td>\n",
       "      <td>brandtandrea</td>\n",
       "      <td>Mention society tell send professor analysis. ...</td>\n",
       "    </tr>\n",
       "    <tr>\n",
       "      <td>1</td>\n",
       "      <td>2</td>\n",
       "      <td>1</td>\n",
       "      <td>ryanfranco</td>\n",
       "      <td>Foot glass pretty audience hit themselves. Amo...</td>\n",
       "    </tr>\n",
       "    <tr>\n",
       "      <td>2</td>\n",
       "      <td>3</td>\n",
       "      <td>2</td>\n",
       "      <td>lorichen</td>\n",
       "      <td>Listen treat keep worry. Miss husband tax but ...</td>\n",
       "    </tr>\n",
       "    <tr>\n",
       "      <td>3</td>\n",
       "      <td>4</td>\n",
       "      <td>3</td>\n",
       "      <td>johnsonamanda</td>\n",
       "      <td>Finally month interesting blue could nature cu...</td>\n",
       "    </tr>\n",
       "    <tr>\n",
       "      <td>4</td>\n",
       "      <td>5</td>\n",
       "      <td>3</td>\n",
       "      <td>scotttamara</td>\n",
       "      <td>Nation purpose heavy give wait song will. List...</td>\n",
       "    </tr>\n",
       "    <tr>\n",
       "      <td>...</td>\n",
       "      <td>...</td>\n",
       "      <td>...</td>\n",
       "      <td>...</td>\n",
       "      <td>...</td>\n",
       "    </tr>\n",
       "    <tr>\n",
       "      <td>2788</td>\n",
       "      <td>2789</td>\n",
       "      <td>999</td>\n",
       "      <td>martinadam</td>\n",
       "      <td>Later hospital turn easy community. Fact same ...</td>\n",
       "    </tr>\n",
       "    <tr>\n",
       "      <td>2789</td>\n",
       "      <td>2790</td>\n",
       "      <td>1000</td>\n",
       "      <td>wknight</td>\n",
       "      <td>Change lose answer close pressure. Spend so now.</td>\n",
       "    </tr>\n",
       "    <tr>\n",
       "      <td>2790</td>\n",
       "      <td>2791</td>\n",
       "      <td>1000</td>\n",
       "      <td>carolrodriguez</td>\n",
       "      <td>Authority go who television entire hair guy po...</td>\n",
       "    </tr>\n",
       "    <tr>\n",
       "      <td>2791</td>\n",
       "      <td>2792</td>\n",
       "      <td>1000</td>\n",
       "      <td>wendy18</td>\n",
       "      <td>Or western offer wonder ask. More hear phone f...</td>\n",
       "    </tr>\n",
       "    <tr>\n",
       "      <td>2792</td>\n",
       "      <td>2793</td>\n",
       "      <td>1000</td>\n",
       "      <td>jarvispaul</td>\n",
       "      <td>Republican staff bit eat material measure plan...</td>\n",
       "    </tr>\n",
       "  </tbody>\n",
       "</table>\n",
       "<p>2793 rows × 4 columns</p>\n",
       "</div>"
      ],
      "text/plain": [
       "      review_id  book_id        username  \\\n",
       "0             1        1    brandtandrea   \n",
       "1             2        1      ryanfranco   \n",
       "2             3        2        lorichen   \n",
       "3             4        3   johnsonamanda   \n",
       "4             5        3     scotttamara   \n",
       "...         ...      ...             ...   \n",
       "2788       2789      999      martinadam   \n",
       "2789       2790     1000         wknight   \n",
       "2790       2791     1000  carolrodriguez   \n",
       "2791       2792     1000         wendy18   \n",
       "2792       2793     1000      jarvispaul   \n",
       "\n",
       "                                                   text  \n",
       "0     Mention society tell send professor analysis. ...  \n",
       "1     Foot glass pretty audience hit themselves. Amo...  \n",
       "2     Listen treat keep worry. Miss husband tax but ...  \n",
       "3     Finally month interesting blue could nature cu...  \n",
       "4     Nation purpose heavy give wait song will. List...  \n",
       "...                                                 ...  \n",
       "2788  Later hospital turn easy community. Fact same ...  \n",
       "2789   Change lose answer close pressure. Spend so now.  \n",
       "2790  Authority go who television entire hair guy po...  \n",
       "2791  Or western offer wonder ask. More hear phone f...  \n",
       "2792  Republican staff bit eat material measure plan...  \n",
       "\n",
       "[2793 rows x 4 columns]"
      ]
     },
     "execution_count": 9,
     "metadata": {},
     "output_type": "execute_result"
    }
   ],
   "source": [
    "query = '''SELECT *\n",
    "           FROM reviews;'''\n",
    "\n",
    "reviews = pd.io.sql.read_sql(query, con = engine)\n",
    "print(f'Количество дубликатов: {reviews.duplicated().sum()}')\n",
    "reviews"
   ]
  },
  {
   "cell_type": "markdown",
   "metadata": {},
   "source": [
    "Соединение создано и теперь имеется представление о хранимых в ней данных.\n",
    "\n",
    "## Создание SQL-запросов\n",
    "\n",
    "Сформируем все SQL-запросы которые помогут ответить на вопросы из поставленных задач.\n",
    "\n",
    "Задачи:\n",
    " - Посчитайте, сколько книг вышло после 1 января 2000 года;"
   ]
  },
  {
   "cell_type": "code",
   "execution_count": 10,
   "metadata": {},
   "outputs": [],
   "source": [
    "query_1 = '''\n",
    "            SELECT \n",
    "                COUNT(book_id)\n",
    "                 \n",
    "            FROM \n",
    "                books\n",
    "                     \n",
    "            WHERE\n",
    "                CAST(publication_date AS timestamp) > '2000-01-01;'\n",
    "          '''"
   ]
  },
  {
   "cell_type": "markdown",
   "metadata": {},
   "source": [
    " - Для каждой книги посчитайте количество обзоров и среднюю оценку;"
   ]
  },
  {
   "cell_type": "code",
   "execution_count": 11,
   "metadata": {},
   "outputs": [],
   "source": [
    "query_2 = '''\n",
    "\n",
    "\n",
    "        SELECT\n",
    "            title,\n",
    "            reviews_count,\n",
    "            avg_rating\n",
    "            \n",
    "        FROM\n",
    "            (\n",
    "            SELECT \n",
    "                 ratings.book_id AS id,\n",
    "                 count(reviews.book_id) as reviews_count,\n",
    "                 AVG(ratings.rating) as avg_rating\n",
    "                             \n",
    "             FROM \n",
    "                 ratings\n",
    "                 LEFT JOIN reviews ON ratings.book_id = reviews.book_id \n",
    "                 AND ratings.username = reviews.username\n",
    "                 \n",
    "             GROUP BY\n",
    "                 ratings.book_id\n",
    "                 \n",
    "             ORDER BY\n",
    "                 id ) AS tbl\n",
    "            INNER JOIN books ON books.book_id = tbl.id\n",
    "            \n",
    "        ORDER BY\n",
    "            reviews_count DESC;\n",
    "             \n",
    "          '''"
   ]
  },
  {
   "cell_type": "markdown",
   "metadata": {},
   "source": [
    " - Определите издательство, которое выпустило наибольшее число книг толще 50 страниц;"
   ]
  },
  {
   "cell_type": "code",
   "execution_count": 12,
   "metadata": {},
   "outputs": [],
   "source": [
    "query_3 = '''\n",
    "\n",
    "                    SELECT \n",
    "                        publisher,\n",
    "                        count(book_id) as books_count\n",
    "                        \n",
    "                    FROM \n",
    "                        books\n",
    "                        INNER JOIN publishers ON books.publisher_id = publishers.publisher_id\n",
    "                 \n",
    "                    WHERE\n",
    "                        num_pages > 50\n",
    "             \n",
    "                    GROUP BY\n",
    "                        publisher\n",
    "                        \n",
    "                    ORDER BY\n",
    "                        books_count DESC\n",
    "                        \n",
    "                    LIMIT 1;\n",
    "          '''"
   ]
  },
  {
   "cell_type": "markdown",
   "metadata": {},
   "source": [
    " - Определите автора с самой высокой средней оценкой книг — учитывайте только книги с 50 и более оценками;"
   ]
  },
  {
   "cell_type": "code",
   "execution_count": 13,
   "metadata": {},
   "outputs": [],
   "source": [
    "query_4 = '''\n",
    "\n",
    "            SELECT\n",
    "                author,\n",
    "                AVG(avg_rating)\n",
    "\n",
    "            FROM\n",
    "                (\n",
    "                SELECT \n",
    "                    MAX(authors.author) AS author,\n",
    "                    COUNT(books.book_id) AS rating_count,\n",
    "                    AVG(ratings.rating) AS avg_rating\n",
    "                        \n",
    "                FROM \n",
    "                    books\n",
    "                    INNER JOIN authors ON books.author_id = authors.author_id\n",
    "                    INNER JOIN ratings ON books.book_id = ratings.book_id\n",
    "                \n",
    "                GROUP BY\n",
    "                    books.book_id\n",
    "                    \n",
    "                HAVING\n",
    "                    COUNT(books.book_id) >= 50\n",
    "                    \n",
    "                ORDER BY\n",
    "                    avg_rating DESC\n",
    "                ) as tbl\n",
    "                \n",
    "            GROUP BY\n",
    "                author\n",
    "                \n",
    "            ORDER BY\n",
    "                avg DESC\n",
    "                \n",
    "            LIMIT 1;\n",
    "            \n",
    "          '''"
   ]
  },
  {
   "cell_type": "markdown",
   "metadata": {},
   "source": [
    " - Посчитайте среднее количество обзоров от пользователей, которые поставили больше 50 оценок."
   ]
  },
  {
   "cell_type": "code",
   "execution_count": 14,
   "metadata": {},
   "outputs": [],
   "source": [
    "query_5 = '''\n",
    "            \n",
    "            SELECT\n",
    "                AVG(text_count)\n",
    "            \n",
    "            FROM\n",
    "                (\n",
    "                SELECT \n",
    "                    ratings.username as user,\n",
    "                    COUNT(text) AS text_count\n",
    "                        \n",
    "                FROM \n",
    "                    ratings\n",
    "                    LEFT JOIN reviews ON ratings.book_id = reviews.book_id\n",
    "                    AND ratings.username = reviews.username\n",
    "                \n",
    "                GROUP BY\n",
    "                    ratings.username\n",
    "                    \n",
    "                HAVING\n",
    "                    COUNT(rating) > 50\n",
    "                ) as tbl;\n",
    "                                   \n",
    "          '''"
   ]
  },
  {
   "cell_type": "markdown",
   "metadata": {},
   "source": [
    "Запросы сформированы, выведем их результаты и сделаем вывод по кождому из них.\n",
    "\n",
    "## Вывод результатов запроса"
   ]
  },
  {
   "cell_type": "code",
   "execution_count": 15,
   "metadata": {},
   "outputs": [
    {
     "data": {
      "text/html": [
       "<div>\n",
       "<style scoped>\n",
       "    .dataframe tbody tr th:only-of-type {\n",
       "        vertical-align: middle;\n",
       "    }\n",
       "\n",
       "    .dataframe tbody tr th {\n",
       "        vertical-align: top;\n",
       "    }\n",
       "\n",
       "    .dataframe thead th {\n",
       "        text-align: right;\n",
       "    }\n",
       "</style>\n",
       "<table border=\"1\" class=\"dataframe\">\n",
       "  <thead>\n",
       "    <tr style=\"text-align: right;\">\n",
       "      <th></th>\n",
       "      <th>count</th>\n",
       "    </tr>\n",
       "  </thead>\n",
       "  <tbody>\n",
       "    <tr>\n",
       "      <td>0</td>\n",
       "      <td>819</td>\n",
       "    </tr>\n",
       "  </tbody>\n",
       "</table>\n",
       "</div>"
      ],
      "text/plain": [
       "   count\n",
       "0    819"
      ]
     },
     "execution_count": 15,
     "metadata": {},
     "output_type": "execute_result"
    }
   ],
   "source": [
    "exercize_1 = pd.io.sql.read_sql(query_1, con = engine)\n",
    "exercize_1"
   ]
  },
  {
   "cell_type": "markdown",
   "metadata": {},
   "source": [
    "Итак, после 1 января 2020 года вышло 819 книг."
   ]
  },
  {
   "cell_type": "code",
   "execution_count": 16,
   "metadata": {},
   "outputs": [
    {
     "data": {
      "text/html": [
       "<div>\n",
       "<style scoped>\n",
       "    .dataframe tbody tr th:only-of-type {\n",
       "        vertical-align: middle;\n",
       "    }\n",
       "\n",
       "    .dataframe tbody tr th {\n",
       "        vertical-align: top;\n",
       "    }\n",
       "\n",
       "    .dataframe thead th {\n",
       "        text-align: right;\n",
       "    }\n",
       "</style>\n",
       "<table border=\"1\" class=\"dataframe\">\n",
       "  <thead>\n",
       "    <tr style=\"text-align: right;\">\n",
       "      <th></th>\n",
       "      <th>title</th>\n",
       "      <th>reviews_count</th>\n",
       "      <th>avg_rating</th>\n",
       "    </tr>\n",
       "  </thead>\n",
       "  <tbody>\n",
       "    <tr>\n",
       "      <td>0</td>\n",
       "      <td>Twilight (Twilight  #1)</td>\n",
       "      <td>7</td>\n",
       "      <td>3.662500</td>\n",
       "    </tr>\n",
       "    <tr>\n",
       "      <td>1</td>\n",
       "      <td>Water for Elephants</td>\n",
       "      <td>6</td>\n",
       "      <td>3.977273</td>\n",
       "    </tr>\n",
       "    <tr>\n",
       "      <td>2</td>\n",
       "      <td>The Glass Castle</td>\n",
       "      <td>6</td>\n",
       "      <td>4.206897</td>\n",
       "    </tr>\n",
       "    <tr>\n",
       "      <td>3</td>\n",
       "      <td>Harry Potter and the Prisoner of Azkaban (Harr...</td>\n",
       "      <td>6</td>\n",
       "      <td>4.414634</td>\n",
       "    </tr>\n",
       "    <tr>\n",
       "      <td>4</td>\n",
       "      <td>The Curious Incident of the Dog in the Night-Time</td>\n",
       "      <td>6</td>\n",
       "      <td>4.081081</td>\n",
       "    </tr>\n",
       "    <tr>\n",
       "      <td>...</td>\n",
       "      <td>...</td>\n",
       "      <td>...</td>\n",
       "      <td>...</td>\n",
       "    </tr>\n",
       "    <tr>\n",
       "      <td>995</td>\n",
       "      <td>Anne Rice's The Vampire Lestat: A Graphic Novel</td>\n",
       "      <td>0</td>\n",
       "      <td>3.666667</td>\n",
       "    </tr>\n",
       "    <tr>\n",
       "      <td>996</td>\n",
       "      <td>The Natural Way to Draw</td>\n",
       "      <td>0</td>\n",
       "      <td>3.000000</td>\n",
       "    </tr>\n",
       "    <tr>\n",
       "      <td>997</td>\n",
       "      <td>The Cat in the Hat and Other Dr. Seuss Favorites</td>\n",
       "      <td>0</td>\n",
       "      <td>5.000000</td>\n",
       "    </tr>\n",
       "    <tr>\n",
       "      <td>998</td>\n",
       "      <td>Essential Tales and Poems</td>\n",
       "      <td>0</td>\n",
       "      <td>4.000000</td>\n",
       "    </tr>\n",
       "    <tr>\n",
       "      <td>999</td>\n",
       "      <td>Disney's Beauty and the Beast (A Little Golden...</td>\n",
       "      <td>0</td>\n",
       "      <td>4.000000</td>\n",
       "    </tr>\n",
       "  </tbody>\n",
       "</table>\n",
       "<p>1000 rows × 3 columns</p>\n",
       "</div>"
      ],
      "text/plain": [
       "                                                 title  reviews_count  \\\n",
       "0                              Twilight (Twilight  #1)              7   \n",
       "1                                  Water for Elephants              6   \n",
       "2                                     The Glass Castle              6   \n",
       "3    Harry Potter and the Prisoner of Azkaban (Harr...              6   \n",
       "4    The Curious Incident of the Dog in the Night-Time              6   \n",
       "..                                                 ...            ...   \n",
       "995    Anne Rice's The Vampire Lestat: A Graphic Novel              0   \n",
       "996                            The Natural Way to Draw              0   \n",
       "997   The Cat in the Hat and Other Dr. Seuss Favorites              0   \n",
       "998                          Essential Tales and Poems              0   \n",
       "999  Disney's Beauty and the Beast (A Little Golden...              0   \n",
       "\n",
       "     avg_rating  \n",
       "0      3.662500  \n",
       "1      3.977273  \n",
       "2      4.206897  \n",
       "3      4.414634  \n",
       "4      4.081081  \n",
       "..          ...  \n",
       "995    3.666667  \n",
       "996    3.000000  \n",
       "997    5.000000  \n",
       "998    4.000000  \n",
       "999    4.000000  \n",
       "\n",
       "[1000 rows x 3 columns]"
      ]
     },
     "execution_count": 16,
     "metadata": {},
     "output_type": "execute_result"
    }
   ],
   "source": [
    "exercize_2 = pd.io.sql.read_sql(query_2, con = engine)\n",
    "exercize_2"
   ]
  },
  {
   "cell_type": "markdown",
   "metadata": {},
   "source": [
    "Наибольшее число отзывов у книги Twilight(Twilight # 1), правда средний рейтинг не самый лучший."
   ]
  },
  {
   "cell_type": "code",
   "execution_count": 17,
   "metadata": {},
   "outputs": [
    {
     "data": {
      "text/html": [
       "<div>\n",
       "<style scoped>\n",
       "    .dataframe tbody tr th:only-of-type {\n",
       "        vertical-align: middle;\n",
       "    }\n",
       "\n",
       "    .dataframe tbody tr th {\n",
       "        vertical-align: top;\n",
       "    }\n",
       "\n",
       "    .dataframe thead th {\n",
       "        text-align: right;\n",
       "    }\n",
       "</style>\n",
       "<table border=\"1\" class=\"dataframe\">\n",
       "  <thead>\n",
       "    <tr style=\"text-align: right;\">\n",
       "      <th></th>\n",
       "      <th>publisher</th>\n",
       "      <th>books_count</th>\n",
       "    </tr>\n",
       "  </thead>\n",
       "  <tbody>\n",
       "    <tr>\n",
       "      <td>0</td>\n",
       "      <td>Penguin Books</td>\n",
       "      <td>42</td>\n",
       "    </tr>\n",
       "  </tbody>\n",
       "</table>\n",
       "</div>"
      ],
      "text/plain": [
       "       publisher  books_count\n",
       "0  Penguin Books           42"
      ]
     },
     "execution_count": 17,
     "metadata": {},
     "output_type": "execute_result"
    }
   ],
   "source": [
    "exercize_3 = pd.io.sql.read_sql(query_3, con = engine)\n",
    "exercize_3"
   ]
  },
  {
   "cell_type": "markdown",
   "metadata": {},
   "source": [
    "Penguin Books - издательство, выпустившее наибольшее число книг (42) толще 50 страниц."
   ]
  },
  {
   "cell_type": "code",
   "execution_count": 18,
   "metadata": {},
   "outputs": [
    {
     "data": {
      "text/html": [
       "<div>\n",
       "<style scoped>\n",
       "    .dataframe tbody tr th:only-of-type {\n",
       "        vertical-align: middle;\n",
       "    }\n",
       "\n",
       "    .dataframe tbody tr th {\n",
       "        vertical-align: top;\n",
       "    }\n",
       "\n",
       "    .dataframe thead th {\n",
       "        text-align: right;\n",
       "    }\n",
       "</style>\n",
       "<table border=\"1\" class=\"dataframe\">\n",
       "  <thead>\n",
       "    <tr style=\"text-align: right;\">\n",
       "      <th></th>\n",
       "      <th>author</th>\n",
       "      <th>avg</th>\n",
       "    </tr>\n",
       "  </thead>\n",
       "  <tbody>\n",
       "    <tr>\n",
       "      <td>0</td>\n",
       "      <td>J.K. Rowling/Mary GrandPré</td>\n",
       "      <td>4.283844</td>\n",
       "    </tr>\n",
       "  </tbody>\n",
       "</table>\n",
       "</div>"
      ],
      "text/plain": [
       "                       author       avg\n",
       "0  J.K. Rowling/Mary GrandPré  4.283844"
      ]
     },
     "execution_count": 18,
     "metadata": {},
     "output_type": "execute_result"
    }
   ],
   "source": [
    "exercize_4 = pd.io.sql.read_sql(query_4, con = engine)\n",
    "exercize_4"
   ]
  },
  {
   "cell_type": "markdown",
   "metadata": {},
   "source": [
    "Автор с самой высокой средней оценкой книг - J.K. Rowling/Mary GrandPre"
   ]
  },
  {
   "cell_type": "code",
   "execution_count": 19,
   "metadata": {},
   "outputs": [
    {
     "data": {
      "text/html": [
       "<div>\n",
       "<style scoped>\n",
       "    .dataframe tbody tr th:only-of-type {\n",
       "        vertical-align: middle;\n",
       "    }\n",
       "\n",
       "    .dataframe tbody tr th {\n",
       "        vertical-align: top;\n",
       "    }\n",
       "\n",
       "    .dataframe thead th {\n",
       "        text-align: right;\n",
       "    }\n",
       "</style>\n",
       "<table border=\"1\" class=\"dataframe\">\n",
       "  <thead>\n",
       "    <tr style=\"text-align: right;\">\n",
       "      <th></th>\n",
       "      <th>avg</th>\n",
       "    </tr>\n",
       "  </thead>\n",
       "  <tbody>\n",
       "    <tr>\n",
       "      <td>0</td>\n",
       "      <td>24.333333</td>\n",
       "    </tr>\n",
       "  </tbody>\n",
       "</table>\n",
       "</div>"
      ],
      "text/plain": [
       "         avg\n",
       "0  24.333333"
      ]
     },
     "execution_count": 19,
     "metadata": {},
     "output_type": "execute_result"
    }
   ],
   "source": [
    "exercize_5 = pd.io.sql.read_sql(query_5, con = engine)\n",
    "exercize_5"
   ]
  },
  {
   "cell_type": "markdown",
   "metadata": {},
   "source": [
    "Среднее количество обзоров от пользователей, поставивших более 50 оценок - 24.33.\n",
    "\n",
    "## Вывод\n",
    "\n",
    "Благодара запоросам из базы данных SQL удалось подробно изучить имеющиеся данные по выпущенным книгам, а также издательствам выпустившим этим книги, отзывах по этим книгам и наиболее востребованным авторам. Теперь сервис для чтения книг может сформировать маркетинговую политику, зная какие книги являются наиболее популярными и читаемыми."
   ]
  }
 ],
 "metadata": {
  "ExecuteTimeLog": [
   {
    "duration": 662,
    "start_time": "2022-02-14T18:49:51.794Z"
   },
   {
    "duration": 3,
    "start_time": "2022-02-14T18:49:52.457Z"
   },
   {
    "duration": 156,
    "start_time": "2022-02-14T18:49:52.462Z"
   },
   {
    "duration": 111,
    "start_time": "2022-02-14T18:49:52.620Z"
   },
   {
    "duration": 7,
    "start_time": "2022-02-14T18:49:52.732Z"
   },
   {
    "duration": 15,
    "start_time": "2022-02-14T18:49:52.741Z"
   },
   {
    "duration": 12,
    "start_time": "2022-02-14T18:49:52.758Z"
   },
   {
    "duration": 26,
    "start_time": "2022-02-14T18:49:52.772Z"
   },
   {
    "duration": 44,
    "start_time": "2022-02-14T18:49:52.800Z"
   },
   {
    "duration": 3,
    "start_time": "2022-02-14T18:49:52.845Z"
   },
   {
    "duration": 5,
    "start_time": "2022-02-14T18:49:52.849Z"
   },
   {
    "duration": 5,
    "start_time": "2022-02-14T18:49:52.856Z"
   },
   {
    "duration": 4,
    "start_time": "2022-02-14T18:49:52.863Z"
   },
   {
    "duration": 6,
    "start_time": "2022-02-14T18:49:52.869Z"
   },
   {
    "duration": 12,
    "start_time": "2022-02-14T18:49:52.876Z"
   },
   {
    "duration": 19,
    "start_time": "2022-02-14T18:49:52.889Z"
   },
   {
    "duration": 9,
    "start_time": "2022-02-14T18:49:52.909Z"
   },
   {
    "duration": 13,
    "start_time": "2022-02-14T18:49:52.927Z"
   },
   {
    "duration": 11,
    "start_time": "2022-02-14T18:49:52.941Z"
   },
   {
    "duration": 639,
    "start_time": "2022-02-14T18:52:20.099Z"
   },
   {
    "duration": 3,
    "start_time": "2022-02-14T18:52:20.740Z"
   },
   {
    "duration": 22,
    "start_time": "2022-02-14T18:52:20.745Z"
   },
   {
    "duration": 38,
    "start_time": "2022-02-14T18:52:20.769Z"
   },
   {
    "duration": 7,
    "start_time": "2022-02-14T18:52:20.808Z"
   },
   {
    "duration": 21,
    "start_time": "2022-02-14T18:52:20.817Z"
   },
   {
    "duration": 13,
    "start_time": "2022-02-14T18:52:20.840Z"
   },
   {
    "duration": 26,
    "start_time": "2022-02-14T18:52:20.855Z"
   },
   {
    "duration": 20,
    "start_time": "2022-02-14T18:52:20.883Z"
   },
   {
    "duration": 3,
    "start_time": "2022-02-14T18:52:20.904Z"
   },
   {
    "duration": 8,
    "start_time": "2022-02-14T18:52:20.926Z"
   },
   {
    "duration": 6,
    "start_time": "2022-02-14T18:52:20.936Z"
   },
   {
    "duration": 10,
    "start_time": "2022-02-14T18:52:20.943Z"
   },
   {
    "duration": 12,
    "start_time": "2022-02-14T18:52:20.954Z"
   },
   {
    "duration": 16,
    "start_time": "2022-02-14T18:52:20.967Z"
   },
   {
    "duration": 26,
    "start_time": "2022-02-14T18:52:20.984Z"
   },
   {
    "duration": 9,
    "start_time": "2022-02-14T18:52:21.011Z"
   },
   {
    "duration": 14,
    "start_time": "2022-02-14T18:52:21.022Z"
   },
   {
    "duration": 13,
    "start_time": "2022-02-14T18:52:21.037Z"
   },
   {
    "duration": 730,
    "start_time": "2022-02-15T15:42:02.432Z"
   },
   {
    "duration": 3,
    "start_time": "2022-02-15T15:42:03.165Z"
   },
   {
    "duration": 512,
    "start_time": "2022-02-15T15:42:03.170Z"
   },
   {
    "duration": 388,
    "start_time": "2022-02-15T15:42:03.684Z"
   },
   {
    "duration": 9,
    "start_time": "2022-02-15T15:42:04.074Z"
   },
   {
    "duration": 90,
    "start_time": "2022-02-15T15:42:04.085Z"
   },
   {
    "duration": 74,
    "start_time": "2022-02-15T15:42:04.178Z"
   },
   {
    "duration": 114,
    "start_time": "2022-02-15T15:42:04.254Z"
   },
   {
    "duration": 91,
    "start_time": "2022-02-15T15:42:04.372Z"
   },
   {
    "duration": 3,
    "start_time": "2022-02-15T15:42:04.465Z"
   },
   {
    "duration": 15,
    "start_time": "2022-02-15T15:42:04.470Z"
   },
   {
    "duration": 17,
    "start_time": "2022-02-15T15:42:04.487Z"
   },
   {
    "duration": 21,
    "start_time": "2022-02-15T15:42:04.506Z"
   },
   {
    "duration": 20,
    "start_time": "2022-02-15T15:42:04.530Z"
   },
   {
    "duration": 92,
    "start_time": "2022-02-15T15:42:04.552Z"
   },
   {
    "duration": 84,
    "start_time": "2022-02-15T15:42:04.646Z"
   },
   {
    "duration": 70,
    "start_time": "2022-02-15T15:42:04.732Z"
   },
   {
    "duration": 74,
    "start_time": "2022-02-15T15:42:04.804Z"
   },
   {
    "duration": 72,
    "start_time": "2022-02-15T15:42:04.881Z"
   },
   {
    "duration": 9,
    "start_time": "2022-02-15T15:46:11.552Z"
   },
   {
    "duration": 43,
    "start_time": "2022-02-15T17:03:09.095Z"
   },
   {
    "duration": 181,
    "start_time": "2022-02-15T17:12:49.741Z"
   },
   {
    "duration": 606,
    "start_time": "2022-02-15T17:12:55.572Z"
   },
   {
    "duration": 3,
    "start_time": "2022-02-15T17:12:56.180Z"
   },
   {
    "duration": 36,
    "start_time": "2022-02-15T17:12:56.188Z"
   },
   {
    "duration": 269,
    "start_time": "2022-02-15T17:12:56.226Z"
   },
   {
    "duration": 7,
    "start_time": "2022-02-15T17:12:56.497Z"
   },
   {
    "duration": 70,
    "start_time": "2022-02-15T17:12:56.506Z"
   },
   {
    "duration": 67,
    "start_time": "2022-02-15T17:12:56.578Z"
   },
   {
    "duration": 97,
    "start_time": "2022-02-15T17:12:56.648Z"
   },
   {
    "duration": 82,
    "start_time": "2022-02-15T17:12:56.748Z"
   },
   {
    "duration": 2,
    "start_time": "2022-02-15T17:12:56.832Z"
   },
   {
    "duration": 6,
    "start_time": "2022-02-15T17:12:56.836Z"
   },
   {
    "duration": 6,
    "start_time": "2022-02-15T17:12:56.843Z"
   },
   {
    "duration": 7,
    "start_time": "2022-02-15T17:12:56.850Z"
   },
   {
    "duration": 5,
    "start_time": "2022-02-15T17:12:56.859Z"
   },
   {
    "duration": 10,
    "start_time": "2022-02-15T17:12:56.865Z"
   },
   {
    "duration": 66,
    "start_time": "2022-02-15T17:12:56.877Z"
   },
   {
    "duration": 62,
    "start_time": "2022-02-15T17:12:56.945Z"
   },
   {
    "duration": 73,
    "start_time": "2022-02-15T17:12:57.008Z"
   },
   {
    "duration": 62,
    "start_time": "2022-02-15T17:12:57.083Z"
   },
   {
    "duration": 67,
    "start_time": "2022-02-15T17:12:57.147Z"
   },
   {
    "duration": 66,
    "start_time": "2022-02-15T17:12:57.216Z"
   },
   {
    "duration": 568,
    "start_time": "2022-02-15T17:19:21.188Z"
   },
   {
    "duration": 2,
    "start_time": "2022-02-15T17:19:21.759Z"
   },
   {
    "duration": 29,
    "start_time": "2022-02-15T17:19:21.763Z"
   },
   {
    "duration": 292,
    "start_time": "2022-02-15T17:19:21.794Z"
   },
   {
    "duration": 9,
    "start_time": "2022-02-15T17:19:22.087Z"
   },
   {
    "duration": 77,
    "start_time": "2022-02-15T17:19:22.098Z"
   },
   {
    "duration": 72,
    "start_time": "2022-02-15T17:19:22.177Z"
   },
   {
    "duration": 95,
    "start_time": "2022-02-15T17:19:22.252Z"
   },
   {
    "duration": 87,
    "start_time": "2022-02-15T17:19:22.349Z"
   },
   {
    "duration": 2,
    "start_time": "2022-02-15T17:19:22.438Z"
   },
   {
    "duration": 10,
    "start_time": "2022-02-15T17:19:22.441Z"
   },
   {
    "duration": 5,
    "start_time": "2022-02-15T17:19:22.453Z"
   },
   {
    "duration": 7,
    "start_time": "2022-02-15T17:19:22.459Z"
   },
   {
    "duration": 7,
    "start_time": "2022-02-15T17:19:22.468Z"
   },
   {
    "duration": 8,
    "start_time": "2022-02-15T17:19:22.476Z"
   },
   {
    "duration": 82,
    "start_time": "2022-02-15T17:19:22.485Z"
   },
   {
    "duration": 67,
    "start_time": "2022-02-15T17:19:22.568Z"
   },
   {
    "duration": 77,
    "start_time": "2022-02-15T17:19:22.637Z"
   },
   {
    "duration": 68,
    "start_time": "2022-02-15T17:19:22.715Z"
   },
   {
    "duration": 72,
    "start_time": "2022-02-15T17:19:22.785Z"
   },
   {
    "duration": 69,
    "start_time": "2022-02-15T17:19:22.859Z"
   },
   {
    "duration": 637,
    "start_time": "2022-02-15T17:19:58.047Z"
   },
   {
    "duration": 2,
    "start_time": "2022-02-15T17:19:58.686Z"
   },
   {
    "duration": 40,
    "start_time": "2022-02-15T17:19:58.694Z"
   },
   {
    "duration": 273,
    "start_time": "2022-02-15T17:19:58.736Z"
   },
   {
    "duration": 8,
    "start_time": "2022-02-15T17:19:59.011Z"
   },
   {
    "duration": 81,
    "start_time": "2022-02-15T17:19:59.021Z"
   },
   {
    "duration": 77,
    "start_time": "2022-02-15T17:19:59.105Z"
   },
   {
    "duration": 101,
    "start_time": "2022-02-15T17:19:59.185Z"
   },
   {
    "duration": 89,
    "start_time": "2022-02-15T17:19:59.288Z"
   },
   {
    "duration": 3,
    "start_time": "2022-02-15T17:19:59.379Z"
   },
   {
    "duration": 12,
    "start_time": "2022-02-15T17:19:59.383Z"
   },
   {
    "duration": 8,
    "start_time": "2022-02-15T17:19:59.397Z"
   },
   {
    "duration": 8,
    "start_time": "2022-02-15T17:19:59.407Z"
   },
   {
    "duration": 8,
    "start_time": "2022-02-15T17:19:59.417Z"
   },
   {
    "duration": 7,
    "start_time": "2022-02-15T17:19:59.427Z"
   },
   {
    "duration": 70,
    "start_time": "2022-02-15T17:19:59.435Z"
   },
   {
    "duration": 67,
    "start_time": "2022-02-15T17:19:59.507Z"
   },
   {
    "duration": 77,
    "start_time": "2022-02-15T17:19:59.576Z"
   },
   {
    "duration": 66,
    "start_time": "2022-02-15T17:19:59.655Z"
   },
   {
    "duration": 71,
    "start_time": "2022-02-15T17:19:59.723Z"
   },
   {
    "duration": 70,
    "start_time": "2022-02-15T17:19:59.796Z"
   }
  ],
  "kernelspec": {
   "display_name": "Python 3 (ipykernel)",
   "language": "python",
   "name": "python3"
  },
  "language_info": {
   "codemirror_mode": {
    "name": "ipython",
    "version": 3
   },
   "file_extension": ".py",
   "mimetype": "text/x-python",
   "name": "python",
   "nbconvert_exporter": "python",
   "pygments_lexer": "ipython3",
   "version": "3.7.8"
  },
  "toc": {
   "base_numbering": 1,
   "nav_menu": {},
   "number_sections": false,
   "sideBar": true,
   "skip_h1_title": false,
   "title_cell": "Table of Contents",
   "title_sidebar": "Contents",
   "toc_cell": false,
   "toc_position": {
    "height": "calc(100% - 180px)",
    "left": "10px",
    "top": "150px",
    "width": "310.398px"
   },
   "toc_section_display": true,
   "toc_window_display": true
  }
 },
 "nbformat": 4,
 "nbformat_minor": 2
}
