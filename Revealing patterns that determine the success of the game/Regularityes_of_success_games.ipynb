{
 "cells": [
  {
   "cell_type": "code",
   "execution_count": 1,
   "metadata": {},
   "outputs": [],
   "source": [
    "import warnings\n",
    "warnings.filterwarnings('ignore')\n",
    "from IPython.display import display "
   ]
  },
  {
   "cell_type": "code",
   "execution_count": 2,
   "metadata": {},
   "outputs": [],
   "source": [
    "import numpy as np                   \n",
    "from scipy import stats as st          \n",
    "import pandas as pd                    \n",
    "import matplotlib.pyplot as plt      \n",
    "import seaborn as sns"
   ]
  },
  {
   "cell_type": "markdown",
   "metadata": {},
   "source": [
    "# Выявление закономерностей определяющих успешность игры\n",
    "\n",
    "Работнику интернет-магазина \"Стримчик\", магазин занимается продажей компьютерных игра по всему миру, предоставленные исторические данные о продажах игр, оценки пользователей и экспертов, жанры и платформы. Из имеющихся данных необходимо выделить факторы, которые отвечают за то, будет ли игра успешной или нет. Это позволит сделать ставку на потенциально популярный продукт и спланировать рекламные компании.\n",
    "\n",
    "Все предоставленные данные имеют сведения до 2016 года. Нужно отработать принцип работы с данными, который позволит спланировать компанию на последующий год."
   ]
  },
  {
   "cell_type": "markdown",
   "metadata": {},
   "source": [
    "## Изучение данных из файла"
   ]
  },
  {
   "cell_type": "code",
   "execution_count": 3,
   "metadata": {},
   "outputs": [
    {
     "name": "stdout",
     "output_type": "stream",
     "text": [
      "<class 'pandas.core.frame.DataFrame'>\n",
      "RangeIndex: 16715 entries, 0 to 16714\n",
      "Data columns (total 11 columns):\n",
      "Name               16713 non-null object\n",
      "Platform           16715 non-null object\n",
      "Year_of_Release    16446 non-null float64\n",
      "Genre              16713 non-null object\n",
      "NA_sales           16715 non-null float64\n",
      "EU_sales           16715 non-null float64\n",
      "JP_sales           16715 non-null float64\n",
      "Other_sales        16715 non-null float64\n",
      "Critic_Score       8137 non-null float64\n",
      "User_Score         10014 non-null object\n",
      "Rating             9949 non-null object\n",
      "dtypes: float64(6), object(5)\n",
      "memory usage: 1.4+ MB\n",
      "Количество дубликатов: 0\n"
     ]
    },
    {
     "data": {
      "text/html": [
       "<div>\n",
       "<style scoped>\n",
       "    .dataframe tbody tr th:only-of-type {\n",
       "        vertical-align: middle;\n",
       "    }\n",
       "\n",
       "    .dataframe tbody tr th {\n",
       "        vertical-align: top;\n",
       "    }\n",
       "\n",
       "    .dataframe thead th {\n",
       "        text-align: right;\n",
       "    }\n",
       "</style>\n",
       "<table border=\"1\" class=\"dataframe\">\n",
       "  <thead>\n",
       "    <tr style=\"text-align: right;\">\n",
       "      <th></th>\n",
       "      <th>Name</th>\n",
       "      <th>Platform</th>\n",
       "      <th>Year_of_Release</th>\n",
       "      <th>Genre</th>\n",
       "      <th>NA_sales</th>\n",
       "      <th>EU_sales</th>\n",
       "      <th>JP_sales</th>\n",
       "      <th>Other_sales</th>\n",
       "      <th>Critic_Score</th>\n",
       "      <th>User_Score</th>\n",
       "      <th>Rating</th>\n",
       "    </tr>\n",
       "  </thead>\n",
       "  <tbody>\n",
       "    <tr>\n",
       "      <td>0</td>\n",
       "      <td>Wii Sports</td>\n",
       "      <td>Wii</td>\n",
       "      <td>2006.0</td>\n",
       "      <td>Sports</td>\n",
       "      <td>41.36</td>\n",
       "      <td>28.96</td>\n",
       "      <td>3.77</td>\n",
       "      <td>8.45</td>\n",
       "      <td>76.0</td>\n",
       "      <td>8</td>\n",
       "      <td>E</td>\n",
       "    </tr>\n",
       "    <tr>\n",
       "      <td>1</td>\n",
       "      <td>Super Mario Bros.</td>\n",
       "      <td>NES</td>\n",
       "      <td>1985.0</td>\n",
       "      <td>Platform</td>\n",
       "      <td>29.08</td>\n",
       "      <td>3.58</td>\n",
       "      <td>6.81</td>\n",
       "      <td>0.77</td>\n",
       "      <td>NaN</td>\n",
       "      <td>NaN</td>\n",
       "      <td>NaN</td>\n",
       "    </tr>\n",
       "    <tr>\n",
       "      <td>2</td>\n",
       "      <td>Mario Kart Wii</td>\n",
       "      <td>Wii</td>\n",
       "      <td>2008.0</td>\n",
       "      <td>Racing</td>\n",
       "      <td>15.68</td>\n",
       "      <td>12.76</td>\n",
       "      <td>3.79</td>\n",
       "      <td>3.29</td>\n",
       "      <td>82.0</td>\n",
       "      <td>8.3</td>\n",
       "      <td>E</td>\n",
       "    </tr>\n",
       "    <tr>\n",
       "      <td>3</td>\n",
       "      <td>Wii Sports Resort</td>\n",
       "      <td>Wii</td>\n",
       "      <td>2009.0</td>\n",
       "      <td>Sports</td>\n",
       "      <td>15.61</td>\n",
       "      <td>10.93</td>\n",
       "      <td>3.28</td>\n",
       "      <td>2.95</td>\n",
       "      <td>80.0</td>\n",
       "      <td>8</td>\n",
       "      <td>E</td>\n",
       "    </tr>\n",
       "    <tr>\n",
       "      <td>4</td>\n",
       "      <td>Pokemon Red/Pokemon Blue</td>\n",
       "      <td>GB</td>\n",
       "      <td>1996.0</td>\n",
       "      <td>Role-Playing</td>\n",
       "      <td>11.27</td>\n",
       "      <td>8.89</td>\n",
       "      <td>10.22</td>\n",
       "      <td>1.00</td>\n",
       "      <td>NaN</td>\n",
       "      <td>NaN</td>\n",
       "      <td>NaN</td>\n",
       "    </tr>\n",
       "    <tr>\n",
       "      <td>...</td>\n",
       "      <td>...</td>\n",
       "      <td>...</td>\n",
       "      <td>...</td>\n",
       "      <td>...</td>\n",
       "      <td>...</td>\n",
       "      <td>...</td>\n",
       "      <td>...</td>\n",
       "      <td>...</td>\n",
       "      <td>...</td>\n",
       "      <td>...</td>\n",
       "      <td>...</td>\n",
       "    </tr>\n",
       "    <tr>\n",
       "      <td>16710</td>\n",
       "      <td>Samurai Warriors: Sanada Maru</td>\n",
       "      <td>PS3</td>\n",
       "      <td>2016.0</td>\n",
       "      <td>Action</td>\n",
       "      <td>0.00</td>\n",
       "      <td>0.00</td>\n",
       "      <td>0.01</td>\n",
       "      <td>0.00</td>\n",
       "      <td>NaN</td>\n",
       "      <td>NaN</td>\n",
       "      <td>NaN</td>\n",
       "    </tr>\n",
       "    <tr>\n",
       "      <td>16711</td>\n",
       "      <td>LMA Manager 2007</td>\n",
       "      <td>X360</td>\n",
       "      <td>2006.0</td>\n",
       "      <td>Sports</td>\n",
       "      <td>0.00</td>\n",
       "      <td>0.01</td>\n",
       "      <td>0.00</td>\n",
       "      <td>0.00</td>\n",
       "      <td>NaN</td>\n",
       "      <td>NaN</td>\n",
       "      <td>NaN</td>\n",
       "    </tr>\n",
       "    <tr>\n",
       "      <td>16712</td>\n",
       "      <td>Haitaka no Psychedelica</td>\n",
       "      <td>PSV</td>\n",
       "      <td>2016.0</td>\n",
       "      <td>Adventure</td>\n",
       "      <td>0.00</td>\n",
       "      <td>0.00</td>\n",
       "      <td>0.01</td>\n",
       "      <td>0.00</td>\n",
       "      <td>NaN</td>\n",
       "      <td>NaN</td>\n",
       "      <td>NaN</td>\n",
       "    </tr>\n",
       "    <tr>\n",
       "      <td>16713</td>\n",
       "      <td>Spirits &amp; Spells</td>\n",
       "      <td>GBA</td>\n",
       "      <td>2003.0</td>\n",
       "      <td>Platform</td>\n",
       "      <td>0.01</td>\n",
       "      <td>0.00</td>\n",
       "      <td>0.00</td>\n",
       "      <td>0.00</td>\n",
       "      <td>NaN</td>\n",
       "      <td>NaN</td>\n",
       "      <td>NaN</td>\n",
       "    </tr>\n",
       "    <tr>\n",
       "      <td>16714</td>\n",
       "      <td>Winning Post 8 2016</td>\n",
       "      <td>PSV</td>\n",
       "      <td>2016.0</td>\n",
       "      <td>Simulation</td>\n",
       "      <td>0.00</td>\n",
       "      <td>0.00</td>\n",
       "      <td>0.01</td>\n",
       "      <td>0.00</td>\n",
       "      <td>NaN</td>\n",
       "      <td>NaN</td>\n",
       "      <td>NaN</td>\n",
       "    </tr>\n",
       "  </tbody>\n",
       "</table>\n",
       "<p>16715 rows × 11 columns</p>\n",
       "</div>"
      ],
      "text/plain": [
       "                                Name Platform  Year_of_Release         Genre  \\\n",
       "0                         Wii Sports      Wii           2006.0        Sports   \n",
       "1                  Super Mario Bros.      NES           1985.0      Platform   \n",
       "2                     Mario Kart Wii      Wii           2008.0        Racing   \n",
       "3                  Wii Sports Resort      Wii           2009.0        Sports   \n",
       "4           Pokemon Red/Pokemon Blue       GB           1996.0  Role-Playing   \n",
       "...                              ...      ...              ...           ...   \n",
       "16710  Samurai Warriors: Sanada Maru      PS3           2016.0        Action   \n",
       "16711               LMA Manager 2007     X360           2006.0        Sports   \n",
       "16712        Haitaka no Psychedelica      PSV           2016.0     Adventure   \n",
       "16713               Spirits & Spells      GBA           2003.0      Platform   \n",
       "16714            Winning Post 8 2016      PSV           2016.0    Simulation   \n",
       "\n",
       "       NA_sales  EU_sales  JP_sales  Other_sales  Critic_Score User_Score  \\\n",
       "0         41.36     28.96      3.77         8.45          76.0          8   \n",
       "1         29.08      3.58      6.81         0.77           NaN        NaN   \n",
       "2         15.68     12.76      3.79         3.29          82.0        8.3   \n",
       "3         15.61     10.93      3.28         2.95          80.0          8   \n",
       "4         11.27      8.89     10.22         1.00           NaN        NaN   \n",
       "...         ...       ...       ...          ...           ...        ...   \n",
       "16710      0.00      0.00      0.01         0.00           NaN        NaN   \n",
       "16711      0.00      0.01      0.00         0.00           NaN        NaN   \n",
       "16712      0.00      0.00      0.01         0.00           NaN        NaN   \n",
       "16713      0.01      0.00      0.00         0.00           NaN        NaN   \n",
       "16714      0.00      0.00      0.01         0.00           NaN        NaN   \n",
       "\n",
       "      Rating  \n",
       "0          E  \n",
       "1        NaN  \n",
       "2          E  \n",
       "3          E  \n",
       "4        NaN  \n",
       "...      ...  \n",
       "16710    NaN  \n",
       "16711    NaN  \n",
       "16712    NaN  \n",
       "16713    NaN  \n",
       "16714    NaN  \n",
       "\n",
       "[16715 rows x 11 columns]"
      ]
     },
     "execution_count": 3,
     "metadata": {},
     "output_type": "execute_result"
    }
   ],
   "source": [
    "df = pd.read_csv('games.csv')\n",
    "df.info()\n",
    "print(f'Количество дубликатов: {df.duplicated().sum()}')\n",
    "df"
   ]
  },
  {
   "cell_type": "markdown",
   "metadata": {},
   "source": [
    "### Вывод\n",
    "Датафрэйм предоставленный для исследования содержит 11 столбцов и 16715 наблюдений. В нем содержатся сведения об игре: год выпуска, жанр, подажи в региона, оценки пользователей и критиков и еще возрастной рейтинг. Этих данных должно быть достаточно, чтобы ответить на основную задачу проекта, цель которой заключается в определении факторов, делающих игру успешной и популярной."
   ]
  },
  {
   "cell_type": "markdown",
   "metadata": {},
   "source": [
    "## Подготовка данных\n",
    "Для того, чтобы составить правильную модель определения успешной игры, необходимо сначала сделать тщательную предобработку исходного датафрэйма, поскольку от этого зависит правильность итоговых выводов. В подготовке предстоит заполнить пропуски, переименовать столбцы, привести данные к нужным типа и добавить расчеты."
   ]
  },
  {
   "cell_type": "markdown",
   "metadata": {},
   "source": [
    "### Замена названий столбцов (приведение к нижнему регистру)\n",
    "Предобработку данных начнем прежде всего с переименования столбцов датафрэйма, а точнее нужно просто привести их названия к нижнему регистру:"
   ]
  },
  {
   "cell_type": "code",
   "execution_count": 4,
   "metadata": {},
   "outputs": [
    {
     "name": "stdout",
     "output_type": "stream",
     "text": [
      "Index(['Name', 'Platform', 'Year_of_Release', 'Genre', 'NA_sales', 'EU_sales',\n",
      "       'JP_sales', 'Other_sales', 'Critic_Score', 'User_Score', 'Rating'],\n",
      "      dtype='object')\n",
      "Index(['name', 'platform', 'year_of_release', 'genre', 'na_sales', 'eu_sales',\n",
      "       'jp_sales', 'other_sales', 'critic_score', 'user_score', 'rating'],\n",
      "      dtype='object')\n"
     ]
    },
    {
     "data": {
      "text/html": [
       "<div>\n",
       "<style scoped>\n",
       "    .dataframe tbody tr th:only-of-type {\n",
       "        vertical-align: middle;\n",
       "    }\n",
       "\n",
       "    .dataframe tbody tr th {\n",
       "        vertical-align: top;\n",
       "    }\n",
       "\n",
       "    .dataframe thead th {\n",
       "        text-align: right;\n",
       "    }\n",
       "</style>\n",
       "<table border=\"1\" class=\"dataframe\">\n",
       "  <thead>\n",
       "    <tr style=\"text-align: right;\">\n",
       "      <th></th>\n",
       "      <th>name</th>\n",
       "      <th>platform</th>\n",
       "      <th>year_of_release</th>\n",
       "      <th>genre</th>\n",
       "      <th>na_sales</th>\n",
       "      <th>eu_sales</th>\n",
       "      <th>jp_sales</th>\n",
       "      <th>other_sales</th>\n",
       "      <th>critic_score</th>\n",
       "      <th>user_score</th>\n",
       "      <th>rating</th>\n",
       "    </tr>\n",
       "  </thead>\n",
       "  <tbody>\n",
       "    <tr>\n",
       "      <td>0</td>\n",
       "      <td>Wii Sports</td>\n",
       "      <td>Wii</td>\n",
       "      <td>2006.0</td>\n",
       "      <td>Sports</td>\n",
       "      <td>41.36</td>\n",
       "      <td>28.96</td>\n",
       "      <td>3.77</td>\n",
       "      <td>8.45</td>\n",
       "      <td>76.0</td>\n",
       "      <td>8</td>\n",
       "      <td>E</td>\n",
       "    </tr>\n",
       "    <tr>\n",
       "      <td>1</td>\n",
       "      <td>Super Mario Bros.</td>\n",
       "      <td>NES</td>\n",
       "      <td>1985.0</td>\n",
       "      <td>Platform</td>\n",
       "      <td>29.08</td>\n",
       "      <td>3.58</td>\n",
       "      <td>6.81</td>\n",
       "      <td>0.77</td>\n",
       "      <td>NaN</td>\n",
       "      <td>NaN</td>\n",
       "      <td>NaN</td>\n",
       "    </tr>\n",
       "    <tr>\n",
       "      <td>2</td>\n",
       "      <td>Mario Kart Wii</td>\n",
       "      <td>Wii</td>\n",
       "      <td>2008.0</td>\n",
       "      <td>Racing</td>\n",
       "      <td>15.68</td>\n",
       "      <td>12.76</td>\n",
       "      <td>3.79</td>\n",
       "      <td>3.29</td>\n",
       "      <td>82.0</td>\n",
       "      <td>8.3</td>\n",
       "      <td>E</td>\n",
       "    </tr>\n",
       "    <tr>\n",
       "      <td>3</td>\n",
       "      <td>Wii Sports Resort</td>\n",
       "      <td>Wii</td>\n",
       "      <td>2009.0</td>\n",
       "      <td>Sports</td>\n",
       "      <td>15.61</td>\n",
       "      <td>10.93</td>\n",
       "      <td>3.28</td>\n",
       "      <td>2.95</td>\n",
       "      <td>80.0</td>\n",
       "      <td>8</td>\n",
       "      <td>E</td>\n",
       "    </tr>\n",
       "    <tr>\n",
       "      <td>4</td>\n",
       "      <td>Pokemon Red/Pokemon Blue</td>\n",
       "      <td>GB</td>\n",
       "      <td>1996.0</td>\n",
       "      <td>Role-Playing</td>\n",
       "      <td>11.27</td>\n",
       "      <td>8.89</td>\n",
       "      <td>10.22</td>\n",
       "      <td>1.00</td>\n",
       "      <td>NaN</td>\n",
       "      <td>NaN</td>\n",
       "      <td>NaN</td>\n",
       "    </tr>\n",
       "  </tbody>\n",
       "</table>\n",
       "</div>"
      ],
      "text/plain": [
       "                       name platform  year_of_release         genre  na_sales  \\\n",
       "0                Wii Sports      Wii           2006.0        Sports     41.36   \n",
       "1         Super Mario Bros.      NES           1985.0      Platform     29.08   \n",
       "2            Mario Kart Wii      Wii           2008.0        Racing     15.68   \n",
       "3         Wii Sports Resort      Wii           2009.0        Sports     15.61   \n",
       "4  Pokemon Red/Pokemon Blue       GB           1996.0  Role-Playing     11.27   \n",
       "\n",
       "   eu_sales  jp_sales  other_sales  critic_score user_score rating  \n",
       "0     28.96      3.77         8.45          76.0          8      E  \n",
       "1      3.58      6.81         0.77           NaN        NaN    NaN  \n",
       "2     12.76      3.79         3.29          82.0        8.3      E  \n",
       "3     10.93      3.28         2.95          80.0          8      E  \n",
       "4      8.89     10.22         1.00           NaN        NaN    NaN  "
      ]
     },
     "execution_count": 4,
     "metadata": {},
     "output_type": "execute_result"
    }
   ],
   "source": [
    "print(df.columns)\n",
    "df.columns = df.columns.str.lower()    \n",
    "print(df.columns)\n",
    "df.head()"
   ]
  },
  {
   "cell_type": "markdown",
   "metadata": {},
   "source": [
    "Теперь названия столбцов в нижнем регистре, и благодаря этому к ним стало проще обращаться."
   ]
  },
  {
   "cell_type": "markdown",
   "metadata": {},
   "source": [
    "### Преобразование данных в нужные типы\n",
    "Далее выполним преобразование данных к нужным типам данных, для большего удобства и упрощения работы при исследовании. Значения в столбцах *'year_of_release'* и *'user_score'* приведем к типу Int64, а в столбце *'user_score'* к типу float64:"
   ]
  },
  {
   "cell_type": "code",
   "execution_count": 5,
   "metadata": {},
   "outputs": [
    {
     "data": {
      "text/plain": [
       "name                object\n",
       "platform            object\n",
       "year_of_release    float64\n",
       "genre               object\n",
       "na_sales           float64\n",
       "eu_sales           float64\n",
       "jp_sales           float64\n",
       "other_sales        float64\n",
       "critic_score       float64\n",
       "user_score          object\n",
       "rating              object\n",
       "dtype: object"
      ]
     },
     "execution_count": 5,
     "metadata": {},
     "output_type": "execute_result"
    }
   ],
   "source": [
    "df.dtypes "
   ]
  },
  {
   "cell_type": "code",
   "execution_count": 6,
   "metadata": {},
   "outputs": [],
   "source": [
    "df[['year_of_release', 'critic_score']] = df[['year_of_release', 'critic_score']].astype('Int64')\n",
    "df.loc[:,'user_score'] = pd.to_numeric(df.loc[:,'user_score'], errors='coerce')"
   ]
  },
  {
   "cell_type": "code",
   "execution_count": 7,
   "metadata": {},
   "outputs": [
    {
     "data": {
      "text/plain": [
       "name                object\n",
       "platform            object\n",
       "year_of_release      Int64\n",
       "genre               object\n",
       "na_sales           float64\n",
       "eu_sales           float64\n",
       "jp_sales           float64\n",
       "other_sales        float64\n",
       "critic_score         Int64\n",
       "user_score         float64\n",
       "rating              object\n",
       "dtype: object"
      ]
     },
     "execution_count": 7,
     "metadata": {},
     "output_type": "execute_result"
    }
   ],
   "source": [
    "df.dtypes "
   ]
  },
  {
   "cell_type": "markdown",
   "metadata": {},
   "source": [
    "Типы данных стали более подходящими, и теперь стало удобнее обрабатывать значения года релиза и оценок критиков, а также стало возможным работать с пользовательским рейтингом как с числовыми данными."
   ]
  },
  {
   "cell_type": "markdown",
   "metadata": {},
   "source": [
    "### Обработка пропусков\n",
    "Теперь предстоит приступить к наиболее важному пункту предобработки - это обработка пропусков. В исходных данных имеются относительно небольшое количество пропусков в столбце с датой релиза и весьма значительное количество пропущенных значений с данными об оценке пользователей и кртиков. Думаю пропуски возникли по банальной причине физического отсутствия некоторых  данных на некоторые игры, ведь данные собранны по достаточно большому количеству данных за весьма длительный период времени, да еще и по очень отдаленным регионам. Сложно представить, что до 2000 года, на этапе становления игровой индустрии очень активно собирались данные об оценках пользователей, и всем играм присваивался рейтинг ESRB особенно если учесть, что компания начала свое существование с 1994 года. А еще трудности с получением данных из Японии, при том что регион обладает очень крупным рынком игровой индустрии."
   ]
  },
  {
   "cell_type": "code",
   "execution_count": 8,
   "metadata": {},
   "outputs": [
    {
     "name": "stdout",
     "output_type": "stream",
     "text": [
      "<class 'pandas.core.frame.DataFrame'>\n",
      "RangeIndex: 16715 entries, 0 to 16714\n",
      "Data columns (total 11 columns):\n",
      "name               16713 non-null object\n",
      "platform           16715 non-null object\n",
      "year_of_release    16446 non-null Int64\n",
      "genre              16713 non-null object\n",
      "na_sales           16715 non-null float64\n",
      "eu_sales           16715 non-null float64\n",
      "jp_sales           16715 non-null float64\n",
      "other_sales        16715 non-null float64\n",
      "critic_score       8137 non-null Int64\n",
      "user_score         7590 non-null float64\n",
      "rating             9949 non-null object\n",
      "dtypes: Int64(2), float64(5), object(4)\n",
      "memory usage: 1.4+ MB\n"
     ]
    }
   ],
   "source": [
    "df.info()"
   ]
  },
  {
   "cell_type": "markdown",
   "metadata": {},
   "source": [
    "В столбце с названиями имеются 2 пропуска, рассмотрим их:"
   ]
  },
  {
   "cell_type": "code",
   "execution_count": 9,
   "metadata": {},
   "outputs": [
    {
     "data": {
      "text/html": [
       "<div>\n",
       "<style scoped>\n",
       "    .dataframe tbody tr th:only-of-type {\n",
       "        vertical-align: middle;\n",
       "    }\n",
       "\n",
       "    .dataframe tbody tr th {\n",
       "        vertical-align: top;\n",
       "    }\n",
       "\n",
       "    .dataframe thead th {\n",
       "        text-align: right;\n",
       "    }\n",
       "</style>\n",
       "<table border=\"1\" class=\"dataframe\">\n",
       "  <thead>\n",
       "    <tr style=\"text-align: right;\">\n",
       "      <th></th>\n",
       "      <th>name</th>\n",
       "      <th>platform</th>\n",
       "      <th>year_of_release</th>\n",
       "      <th>genre</th>\n",
       "      <th>na_sales</th>\n",
       "      <th>eu_sales</th>\n",
       "      <th>jp_sales</th>\n",
       "      <th>other_sales</th>\n",
       "      <th>critic_score</th>\n",
       "      <th>user_score</th>\n",
       "      <th>rating</th>\n",
       "    </tr>\n",
       "  </thead>\n",
       "  <tbody>\n",
       "    <tr>\n",
       "      <td>659</td>\n",
       "      <td>NaN</td>\n",
       "      <td>GEN</td>\n",
       "      <td>1993</td>\n",
       "      <td>NaN</td>\n",
       "      <td>1.78</td>\n",
       "      <td>0.53</td>\n",
       "      <td>0.00</td>\n",
       "      <td>0.08</td>\n",
       "      <td>NaN</td>\n",
       "      <td>NaN</td>\n",
       "      <td>NaN</td>\n",
       "    </tr>\n",
       "    <tr>\n",
       "      <td>14244</td>\n",
       "      <td>NaN</td>\n",
       "      <td>GEN</td>\n",
       "      <td>1993</td>\n",
       "      <td>NaN</td>\n",
       "      <td>0.00</td>\n",
       "      <td>0.00</td>\n",
       "      <td>0.03</td>\n",
       "      <td>0.00</td>\n",
       "      <td>NaN</td>\n",
       "      <td>NaN</td>\n",
       "      <td>NaN</td>\n",
       "    </tr>\n",
       "  </tbody>\n",
       "</table>\n",
       "</div>"
      ],
      "text/plain": [
       "      name platform  year_of_release genre  na_sales  eu_sales  jp_sales  \\\n",
       "659    NaN      GEN             1993   NaN      1.78      0.53      0.00   \n",
       "14244  NaN      GEN             1993   NaN      0.00      0.00      0.03   \n",
       "\n",
       "       other_sales  critic_score  user_score rating  \n",
       "659           0.08           NaN         NaN    NaN  \n",
       "14244         0.00           NaN         NaN    NaN  "
      ]
     },
     "execution_count": 9,
     "metadata": {},
     "output_type": "execute_result"
    }
   ],
   "source": [
    "df[df['name'].isnull()]"
   ]
  },
  {
   "cell_type": "markdown",
   "metadata": {},
   "source": [
    "Эти же стоки отвечают за 2 пропуска столбца *'genre'*. Тут имеются только данные о продажах, поскольку количество сторок всего 2, можно легко избавиться от этих данных."
   ]
  },
  {
   "cell_type": "code",
   "execution_count": 10,
   "metadata": {},
   "outputs": [
    {
     "name": "stdout",
     "output_type": "stream",
     "text": [
      "<class 'pandas.core.frame.DataFrame'>\n",
      "Int64Index: 16713 entries, 0 to 16714\n",
      "Data columns (total 11 columns):\n",
      "name               16713 non-null object\n",
      "platform           16713 non-null object\n",
      "year_of_release    16444 non-null Int64\n",
      "genre              16713 non-null object\n",
      "na_sales           16713 non-null float64\n",
      "eu_sales           16713 non-null float64\n",
      "jp_sales           16713 non-null float64\n",
      "other_sales        16713 non-null float64\n",
      "critic_score       8137 non-null Int64\n",
      "user_score         7590 non-null float64\n",
      "rating             9949 non-null object\n",
      "dtypes: Int64(2), float64(5), object(4)\n",
      "memory usage: 1.6+ MB\n"
     ]
    }
   ],
   "source": [
    "df = df[df['name'].notnull()]      #удаление данных для неизвестных игр\n",
    "df.info()"
   ]
  },
  {
   "cell_type": "markdown",
   "metadata": {},
   "source": [
    "Что касается зполнения пропусков в столбцах *'year_of_release', 'critic_score', 'user_score', 'rating'*. Невозможно на основании имеющихся данных заполнить отсутствующие значения не исказив при этом результаты исследования. Мы не можем верно предположить год релиза или оценки пользователей, и потому все попытки заполнения приведут к сильному смещению значений в сгруппированных данных. Поэтому все пропуски решено оставить без изменений."
   ]
  },
  {
   "cell_type": "markdown",
   "metadata": {},
   "source": [
    " Заполним пропуски столбца *'rating'* значением *undefined*. Благодаря такому заполнению у нас появится еще одна группа игр, в которой отсутствует возрастной рейтинг. Таким образом, появится возможность оценить и проанализировать каков успех при продаже игр без присвоенного возрастного рейтинга."
   ]
  },
  {
   "cell_type": "code",
   "execution_count": 11,
   "metadata": {},
   "outputs": [
    {
     "data": {
      "text/plain": [
       "array(['E', 'undefined', 'M', 'T', 'E10+', 'K-A', 'AO', 'EC', 'RP'],\n",
       "      dtype=object)"
      ]
     },
     "execution_count": 11,
     "metadata": {},
     "output_type": "execute_result"
    }
   ],
   "source": [
    "df['rating'] = df['rating'].fillna('undefined')\n",
    "df['rating'].unique()"
   ]
  },
  {
   "cell_type": "markdown",
   "metadata": {},
   "source": [
    "### Подсчет суммарных продаж во всех регионах\n",
    "Для четкого представления о продаваемости и успешности игры необходимо иметь сведения о продажах не только по регионам, но и всеобщую прибыль от игры. Добавим в исходный датафрэм сумму продаж в регионах:"
   ]
  },
  {
   "cell_type": "code",
   "execution_count": 12,
   "metadata": {},
   "outputs": [
    {
     "data": {
      "text/html": [
       "<div>\n",
       "<style scoped>\n",
       "    .dataframe tbody tr th:only-of-type {\n",
       "        vertical-align: middle;\n",
       "    }\n",
       "\n",
       "    .dataframe tbody tr th {\n",
       "        vertical-align: top;\n",
       "    }\n",
       "\n",
       "    .dataframe thead th {\n",
       "        text-align: right;\n",
       "    }\n",
       "</style>\n",
       "<table border=\"1\" class=\"dataframe\">\n",
       "  <thead>\n",
       "    <tr style=\"text-align: right;\">\n",
       "      <th></th>\n",
       "      <th>name</th>\n",
       "      <th>platform</th>\n",
       "      <th>year_of_release</th>\n",
       "      <th>genre</th>\n",
       "      <th>na_sales</th>\n",
       "      <th>eu_sales</th>\n",
       "      <th>jp_sales</th>\n",
       "      <th>other_sales</th>\n",
       "      <th>critic_score</th>\n",
       "      <th>user_score</th>\n",
       "      <th>rating</th>\n",
       "      <th>total_sales</th>\n",
       "    </tr>\n",
       "  </thead>\n",
       "  <tbody>\n",
       "    <tr>\n",
       "      <td>0</td>\n",
       "      <td>Wii Sports</td>\n",
       "      <td>Wii</td>\n",
       "      <td>2006</td>\n",
       "      <td>Sports</td>\n",
       "      <td>41.36</td>\n",
       "      <td>28.96</td>\n",
       "      <td>3.77</td>\n",
       "      <td>8.45</td>\n",
       "      <td>76</td>\n",
       "      <td>8.0</td>\n",
       "      <td>E</td>\n",
       "      <td>82.54</td>\n",
       "    </tr>\n",
       "    <tr>\n",
       "      <td>1</td>\n",
       "      <td>Super Mario Bros.</td>\n",
       "      <td>NES</td>\n",
       "      <td>1985</td>\n",
       "      <td>Platform</td>\n",
       "      <td>29.08</td>\n",
       "      <td>3.58</td>\n",
       "      <td>6.81</td>\n",
       "      <td>0.77</td>\n",
       "      <td>NaN</td>\n",
       "      <td>NaN</td>\n",
       "      <td>undefined</td>\n",
       "      <td>40.24</td>\n",
       "    </tr>\n",
       "    <tr>\n",
       "      <td>2</td>\n",
       "      <td>Mario Kart Wii</td>\n",
       "      <td>Wii</td>\n",
       "      <td>2008</td>\n",
       "      <td>Racing</td>\n",
       "      <td>15.68</td>\n",
       "      <td>12.76</td>\n",
       "      <td>3.79</td>\n",
       "      <td>3.29</td>\n",
       "      <td>82</td>\n",
       "      <td>8.3</td>\n",
       "      <td>E</td>\n",
       "      <td>35.52</td>\n",
       "    </tr>\n",
       "    <tr>\n",
       "      <td>3</td>\n",
       "      <td>Wii Sports Resort</td>\n",
       "      <td>Wii</td>\n",
       "      <td>2009</td>\n",
       "      <td>Sports</td>\n",
       "      <td>15.61</td>\n",
       "      <td>10.93</td>\n",
       "      <td>3.28</td>\n",
       "      <td>2.95</td>\n",
       "      <td>80</td>\n",
       "      <td>8.0</td>\n",
       "      <td>E</td>\n",
       "      <td>32.77</td>\n",
       "    </tr>\n",
       "    <tr>\n",
       "      <td>4</td>\n",
       "      <td>Pokemon Red/Pokemon Blue</td>\n",
       "      <td>GB</td>\n",
       "      <td>1996</td>\n",
       "      <td>Role-Playing</td>\n",
       "      <td>11.27</td>\n",
       "      <td>8.89</td>\n",
       "      <td>10.22</td>\n",
       "      <td>1.00</td>\n",
       "      <td>NaN</td>\n",
       "      <td>NaN</td>\n",
       "      <td>undefined</td>\n",
       "      <td>31.38</td>\n",
       "    </tr>\n",
       "  </tbody>\n",
       "</table>\n",
       "</div>"
      ],
      "text/plain": [
       "                       name platform  year_of_release         genre  na_sales  \\\n",
       "0                Wii Sports      Wii             2006        Sports     41.36   \n",
       "1         Super Mario Bros.      NES             1985      Platform     29.08   \n",
       "2            Mario Kart Wii      Wii             2008        Racing     15.68   \n",
       "3         Wii Sports Resort      Wii             2009        Sports     15.61   \n",
       "4  Pokemon Red/Pokemon Blue       GB             1996  Role-Playing     11.27   \n",
       "\n",
       "   eu_sales  jp_sales  other_sales  critic_score  user_score     rating  \\\n",
       "0     28.96      3.77         8.45            76         8.0          E   \n",
       "1      3.58      6.81         0.77           NaN         NaN  undefined   \n",
       "2     12.76      3.79         3.29            82         8.3          E   \n",
       "3     10.93      3.28         2.95            80         8.0          E   \n",
       "4      8.89     10.22         1.00           NaN         NaN  undefined   \n",
       "\n",
       "   total_sales  \n",
       "0        82.54  \n",
       "1        40.24  \n",
       "2        35.52  \n",
       "3        32.77  \n",
       "4        31.38  "
      ]
     },
     "execution_count": 12,
     "metadata": {},
     "output_type": "execute_result"
    }
   ],
   "source": [
    "df['total_sales'] = df['na_sales'] + df['eu_sales'] + df['jp_sales'] + df['other_sales'] #добаление столбцам с суммой продаж \n",
    "df.head()                                                                                #во всех регионах"
   ]
  },
  {
   "cell_type": "markdown",
   "metadata": {},
   "source": [
    "### Вывод\n",
    "Теперь предобработка всех данных завершена, а значит все данные пригодны для анализа, и для проверки гипотез."
   ]
  },
  {
   "cell_type": "markdown",
   "metadata": {},
   "source": [
    "## Исследовательский анализ данных\n",
    "Предоставленние данные требуется тщательно проанализировать и выявить необходимые зависимости и закономерности."
   ]
  },
  {
   "cell_type": "markdown",
   "metadata": {},
   "source": [
    "### Количество выпущенных игр за каждый год\n"
   ]
  },
  {
   "cell_type": "markdown",
   "metadata": {},
   "source": [
    "Визуализируем объем выпускаемых игр в различные годы, для оценки соотношения данных за различные периоды:"
   ]
  },
  {
   "cell_type": "code",
   "execution_count": 13,
   "metadata": {},
   "outputs": [
    {
     "data": {
      "image/png": "[encoded data removed]",
      "text/plain": [
       "<Figure size 792x576 with 1 Axes>"
      ]
     },
     "metadata": {
      "needs_background": "light"
     },
     "output_type": "display_data"
    }
   ],
   "source": [
    "df.pivot_table(index='year_of_release', values='name', aggfunc='count').plot(kind='bar', legend=False, grid=True, figsize=(11, 8))\n",
    "plt.title('Количество выпущенных игр за каждый год')\n",
    "plt.xlabel('Год')\n",
    "plt.ylabel('Количество игр')\n",
    "plt.show()"
   ]
  },
  {
   "cell_type": "markdown",
   "metadata": {},
   "source": [
    "На полученном графике отчетливо видна неравномерность количества релизов в разные годы. "
   ]
  },
  {
   "cell_type": "markdown",
   "metadata": {},
   "source": [
    "### Анализ изменения продаж по платформам\n",
    "Рассмотрим как менялись продажи в разные годы, на основаннии данных популярных платформ."
   ]
  },
  {
   "cell_type": "code",
   "execution_count": 14,
   "metadata": {},
   "outputs": [
    {
     "data": {
      "image/png": "[encoded data removed]",
      "text/plain": [
       "<Figure size 432x288 with 1 Axes>"
      ]
     },
     "metadata": {
      "needs_background": "light"
     },
     "output_type": "display_data"
    },
    {
     "data": {
      "image/png": "[encoded data removed]",
      "text/plain": [
       "<Figure size 432x288 with 1 Axes>"
      ]
     },
     "metadata": {
      "needs_background": "light"
     },
     "output_type": "display_data"
    },
    {
     "data": {
      "image/png": "[encoded data removed]",
      "text/plain": [
       "<Figure size 432x288 with 1 Axes>"
      ]
     },
     "metadata": {
      "needs_background": "light"
     },
     "output_type": "display_data"
    },
    {
     "data": {
      "image/png": "[encoded data removed]",
      "text/plain": [
       "<Figure size 432x288 with 1 Axes>"
      ]
     },
     "metadata": {
      "needs_background": "light"
     },
     "output_type": "display_data"
    },
    {
     "data": {
      "image/png": "[encoded data removed]",
      "text/plain": [
       "<Figure size 432x288 with 1 Axes>"
      ]
     },
     "metadata": {
      "needs_background": "light"
     },
     "output_type": "display_data"
    },
    {
     "data": {
      "image/png": "[encoded data removed]",
      "text/plain": [
       "<Figure size 432x288 with 1 Axes>"
      ]
     },
     "metadata": {
      "needs_background": "light"
     },
     "output_type": "display_data"
    },
    {
     "data": {
      "image/png": "[encoded data removed]",
      "text/plain": [
       "<Figure size 432x288 with 1 Axes>"
      ]
     },
     "metadata": {
      "needs_background": "light"
     },
     "output_type": "display_data"
    },
    {
     "data": {
      "image/png": "[encoded data removed]",
      "text/plain": [
       "<Figure size 432x288 with 1 Axes>"
      ]
     },
     "metadata": {
      "needs_background": "light"
     },
     "output_type": "display_data"
    },
    {
     "data": {
      "image/png": "[encoded data removed]",
      "text/plain": [
       "<Figure size 432x288 with 1 Axes>"
      ]
     },
     "metadata": {
      "needs_background": "light"
     },
     "output_type": "display_data"
    },
    {
     "data": {
      "image/png": "[encoded data removed]",
      "text/plain": [
       "<Figure size 432x288 with 1 Axes>"
      ]
     },
     "metadata": {
      "needs_background": "light"
     },
     "output_type": "display_data"
    }
   ],
   "source": [
    "platform_sales = df.groupby('platform').sum().sort_values('total_sales', ascending=False).head(10)\n",
    "\n",
    "for i in platform_sales.index:                            #цикл отображения продаж за год для успешных платформ\n",
    "    slice_df = df.query('platform == @i')\n",
    "    slice_df.pivot_table(index='year_of_release', values='total_sales', aggfunc='sum').plot(kind='bar', title=i)"
   ]
  },
  {
   "cell_type": "markdown",
   "metadata": {},
   "source": [
    "Из полученных графиков можно выделить среднюю характерную продолжительность активности различных платформ. Она составлять около 9 лет."
   ]
  },
  {
   "cell_type": "markdown",
   "metadata": {},
   "source": [
    "### Определение актуального периода\n",
    "В исходных данных имеются сведения о продажах игр в период с 1980 по 2016 годы. Такой период излишне продолжителен для нашего анализа, поэтому необходимо выделить **актуальный период**, за время которого собраны сведения самых успешных платформ с высокими продажами. \n",
    "\n",
    "Итак, за **актуальный период** принято взять данные начина с 2012 по 2016 годы."
   ]
  },
  {
   "cell_type": "code",
   "execution_count": 15,
   "metadata": {},
   "outputs": [
    {
     "name": "stdout",
     "output_type": "stream",
     "text": [
      "<class 'pandas.core.frame.DataFrame'>\n",
      "Int64Index: 16713 entries, 0 to 16714\n",
      "Data columns (total 12 columns):\n",
      "name               16713 non-null object\n",
      "platform           16713 non-null object\n",
      "year_of_release    16444 non-null Int64\n",
      "genre              16713 non-null object\n",
      "na_sales           16713 non-null float64\n",
      "eu_sales           16713 non-null float64\n",
      "jp_sales           16713 non-null float64\n",
      "other_sales        16713 non-null float64\n",
      "critic_score       8137 non-null Int64\n",
      "user_score         7590 non-null float64\n",
      "rating             16713 non-null object\n",
      "total_sales        16713 non-null float64\n",
      "dtypes: Int64(2), float64(6), object(4)\n",
      "memory usage: 1.7+ MB\n"
     ]
    }
   ],
   "source": [
    "df.info()"
   ]
  },
  {
   "cell_type": "code",
   "execution_count": 16,
   "metadata": {},
   "outputs": [
    {
     "name": "stdout",
     "output_type": "stream",
     "text": [
      "<class 'pandas.core.frame.DataFrame'>\n",
      "Int64Index: 2886 entries, 16 to 16714\n",
      "Data columns (total 12 columns):\n",
      "name               2886 non-null object\n",
      "platform           2886 non-null object\n",
      "year_of_release    2886 non-null Int64\n",
      "genre              2886 non-null object\n",
      "na_sales           2886 non-null float64\n",
      "eu_sales           2886 non-null float64\n",
      "jp_sales           2886 non-null float64\n",
      "other_sales        2886 non-null float64\n",
      "critic_score       1312 non-null Int64\n",
      "user_score         1531 non-null float64\n",
      "rating             2886 non-null object\n",
      "total_sales        2886 non-null float64\n",
      "dtypes: Int64(2), float64(6), object(4)\n",
      "memory usage: 298.7+ KB\n"
     ]
    }
   ],
   "source": [
    "df = df.query('year_of_release > 2011')           \n",
    "df.info()"
   ]
  },
  {
   "cell_type": "code",
   "execution_count": 17,
   "metadata": {},
   "outputs": [
    {
     "data": {
      "image/png": "[encoded data removed]",
      "text/plain": [
       "<Figure size 576x360 with 1 Axes>"
      ]
     },
     "metadata": {
      "needs_background": "light"
     },
     "output_type": "display_data"
    }
   ],
   "source": [
    "df.pivot_table(index='year_of_release', values='name', aggfunc='count').plot(kind='bar', legend=False, grid=True, figsize=(8, 5))\n",
    "plt.title('Количество выпущенных игр за каждый год')\n",
    "plt.xlabel('Год')                          \n",
    "plt.ylabel('Количество игр')\n",
    "plt.show()"
   ]
  },
  {
   "cell_type": "markdown",
   "metadata": {},
   "source": [
    "В обновленном датафрэйме содержится 2886 строки. Хотя большая часть данных отброшена, теперь мы располагаем более актуальными данными о современных тенденциях."
   ]
  },
  {
   "cell_type": "markdown",
   "metadata": {},
   "source": [
    "### Выбор потенциально прибыльных  платформ\n",
    "Проанализируем общую прибыль для всех платфор за каждый год, и тем самым определим у каких продажи растут, у каких падают, а какие себя изжили.\n",
    "\n",
    "Сделаем это с помощью сводных таблиц и графиков, отображающих зависимость прибыль платформы за определенный год:"
   ]
  },
  {
   "cell_type": "code",
   "execution_count": 18,
   "metadata": {},
   "outputs": [
    {
     "data": {
      "text/plain": [
       "array(['PS3', 'X360', 'PS4', '3DS', 'DS', 'XOne', 'WiiU', 'Wii', 'PC',\n",
       "       'PSV', 'PSP'], dtype=object)"
      ]
     },
     "execution_count": 18,
     "metadata": {},
     "output_type": "execute_result"
    }
   ],
   "source": [
    "df['platform'].unique() "
   ]
  },
  {
   "cell_type": "code",
   "execution_count": 19,
   "metadata": {},
   "outputs": [
    {
     "data": {
      "text/html": [
       "<div>\n",
       "<style scoped>\n",
       "    .dataframe tbody tr th:only-of-type {\n",
       "        vertical-align: middle;\n",
       "    }\n",
       "\n",
       "    .dataframe tbody tr th {\n",
       "        vertical-align: top;\n",
       "    }\n",
       "\n",
       "    .dataframe thead th {\n",
       "        text-align: right;\n",
       "    }\n",
       "</style>\n",
       "<table border=\"1\" class=\"dataframe\">\n",
       "  <thead>\n",
       "    <tr style=\"text-align: right;\">\n",
       "      <th>year_of_release</th>\n",
       "      <th>2012</th>\n",
       "      <th>2013</th>\n",
       "      <th>2014</th>\n",
       "      <th>2015</th>\n",
       "      <th>2016</th>\n",
       "    </tr>\n",
       "    <tr>\n",
       "      <th>platform</th>\n",
       "      <th></th>\n",
       "      <th></th>\n",
       "      <th></th>\n",
       "      <th></th>\n",
       "      <th></th>\n",
       "    </tr>\n",
       "  </thead>\n",
       "  <tbody>\n",
       "    <tr>\n",
       "      <td>3DS</td>\n",
       "      <td>51.36</td>\n",
       "      <td>56.57</td>\n",
       "      <td>43.76</td>\n",
       "      <td>27.78</td>\n",
       "      <td>15.14</td>\n",
       "    </tr>\n",
       "    <tr>\n",
       "      <td>DS</td>\n",
       "      <td>11.01</td>\n",
       "      <td>1.54</td>\n",
       "      <td>NaN</td>\n",
       "      <td>NaN</td>\n",
       "      <td>NaN</td>\n",
       "    </tr>\n",
       "    <tr>\n",
       "      <td>PC</td>\n",
       "      <td>23.22</td>\n",
       "      <td>12.38</td>\n",
       "      <td>13.28</td>\n",
       "      <td>8.52</td>\n",
       "      <td>5.25</td>\n",
       "    </tr>\n",
       "    <tr>\n",
       "      <td>PS3</td>\n",
       "      <td>107.36</td>\n",
       "      <td>113.25</td>\n",
       "      <td>47.76</td>\n",
       "      <td>16.82</td>\n",
       "      <td>3.60</td>\n",
       "    </tr>\n",
       "    <tr>\n",
       "      <td>PS4</td>\n",
       "      <td>NaN</td>\n",
       "      <td>25.99</td>\n",
       "      <td>100.00</td>\n",
       "      <td>118.90</td>\n",
       "      <td>69.25</td>\n",
       "    </tr>\n",
       "    <tr>\n",
       "      <td>PSP</td>\n",
       "      <td>7.69</td>\n",
       "      <td>3.14</td>\n",
       "      <td>0.24</td>\n",
       "      <td>0.12</td>\n",
       "      <td>NaN</td>\n",
       "    </tr>\n",
       "    <tr>\n",
       "      <td>PSV</td>\n",
       "      <td>16.19</td>\n",
       "      <td>10.59</td>\n",
       "      <td>11.90</td>\n",
       "      <td>6.25</td>\n",
       "      <td>4.25</td>\n",
       "    </tr>\n",
       "    <tr>\n",
       "      <td>Wii</td>\n",
       "      <td>21.71</td>\n",
       "      <td>8.59</td>\n",
       "      <td>3.75</td>\n",
       "      <td>1.14</td>\n",
       "      <td>0.18</td>\n",
       "    </tr>\n",
       "    <tr>\n",
       "      <td>WiiU</td>\n",
       "      <td>17.56</td>\n",
       "      <td>21.65</td>\n",
       "      <td>22.03</td>\n",
       "      <td>16.35</td>\n",
       "      <td>4.60</td>\n",
       "    </tr>\n",
       "    <tr>\n",
       "      <td>X360</td>\n",
       "      <td>99.74</td>\n",
       "      <td>88.58</td>\n",
       "      <td>34.74</td>\n",
       "      <td>11.96</td>\n",
       "      <td>1.52</td>\n",
       "    </tr>\n",
       "    <tr>\n",
       "      <td>XOne</td>\n",
       "      <td>NaN</td>\n",
       "      <td>18.96</td>\n",
       "      <td>54.07</td>\n",
       "      <td>60.14</td>\n",
       "      <td>26.15</td>\n",
       "    </tr>\n",
       "  </tbody>\n",
       "</table>\n",
       "</div>"
      ],
      "text/plain": [
       "year_of_release    2012    2013    2014    2015   2016\n",
       "platform                                              \n",
       "3DS               51.36   56.57   43.76   27.78  15.14\n",
       "DS                11.01    1.54     NaN     NaN    NaN\n",
       "PC                23.22   12.38   13.28    8.52   5.25\n",
       "PS3              107.36  113.25   47.76   16.82   3.60\n",
       "PS4                 NaN   25.99  100.00  118.90  69.25\n",
       "PSP                7.69    3.14    0.24    0.12    NaN\n",
       "PSV               16.19   10.59   11.90    6.25   4.25\n",
       "Wii               21.71    8.59    3.75    1.14   0.18\n",
       "WiiU              17.56   21.65   22.03   16.35   4.60\n",
       "X360              99.74   88.58   34.74   11.96   1.52\n",
       "XOne                NaN   18.96   54.07   60.14  26.15"
      ]
     },
     "execution_count": 19,
     "metadata": {},
     "output_type": "execute_result"
    }
   ],
   "source": [
    "pivot_tbl = df.pivot_table(index='platform', columns='year_of_release', values='total_sales', aggfunc='sum')\n",
    "pivot_tbl  "
   ]
  },
  {
   "cell_type": "markdown",
   "metadata": {},
   "source": [
    "График прибыли платформы за каждый год:"
   ]
  },
  {
   "cell_type": "code",
   "execution_count": 20,
   "metadata": {},
   "outputs": [
    {
     "data": {
      "image/png": "[encoded data removed]",
      "text/plain": [
       "<Figure size 1080x648 with 1 Axes>"
      ]
     },
     "metadata": {
      "needs_background": "light"
     },
     "output_type": "display_data"
    }
   ],
   "source": [
    "st_1 = df.pivot_table(index=['platform', 'year_of_release'], values='total_sales', aggfunc='sum')\n",
    "st_1 = st_1.reset_index()\n",
    "platform_name = st_1['platform'].unique()\n",
    "ax = st_1.query('platform == \"3DS\"').plot(x='year_of_release', y='total_sales', style='o-', label='3DS', figsize=(15, 9), grid=True, xlim=(2011, 2017))\n",
    "plt.title('Продажи игр за каждый год')\n",
    "plt.ylabel('Продаж')\n",
    "\n",
    "for i in range(1, 11):\n",
    "    a = st_1.query('platform == @platform_name[@i]').plot(x='year_of_release', y='total_sales', style='o-', ax=ax, label=platform_name[i], grid=True, xlim=(2011, 2017)) \n",
    "    ax = a\n",
    "    plt.xlabel('Год релиза')"
   ]
  },
  {
   "cell_type": "markdown",
   "metadata": {},
   "source": [
    "Благодаря этому исследованию можно выделить потенциально прибыльные платформы. Ими являются: **XboxOne, PS4, 3DS, WiiU, PSV и PC**."
   ]
  },
  {
   "cell_type": "markdown",
   "metadata": {},
   "source": [
    "### \"Ящик с усами\"\n",
    "Исследование разброса данных о количестве глобальных продаж для всех платформ."
   ]
  },
  {
   "cell_type": "code",
   "execution_count": 21,
   "metadata": {},
   "outputs": [
    {
     "data": {
      "image/png": "[encoded data removed]",
      "text/plain": [
       "<Figure size 1080x576 with 1 Axes>"
      ]
     },
     "metadata": {
      "needs_background": "light"
     },
     "output_type": "display_data"
    }
   ],
   "source": [
    "df.boxplot(column='total_sales', by='platform', figsize=(15, 8))\n",
    "plt.title('Глобальные продажи игр')\n",
    "plt.xlabel('Платформы')\n",
    "plt.ylabel('Продажи')\n",
    "plt.show()"
   ]
  },
  {
   "cell_type": "markdown",
   "metadata": {},
   "source": [
    "Более детальное отображение:"
   ]
  },
  {
   "cell_type": "code",
   "execution_count": 22,
   "metadata": {},
   "outputs": [
    {
     "data": {
      "image/png": "[encoded data removed]",
      "text/plain": [
       "<Figure size 1080x576 with 1 Axes>"
      ]
     },
     "metadata": {
      "needs_background": "light"
     },
     "output_type": "display_data"
    }
   ],
   "source": [
    "df.boxplot(column='total_sales', by='platform', figsize=(15, 8))\n",
    "plt.title('Глобальные продажи игр')\n",
    "plt.xlabel('Платформы')\n",
    "plt.ylabel('Продажи')\n",
    "plt.ylim(-1, 5)\n",
    "plt.show()"
   ]
  },
  {
   "cell_type": "markdown",
   "metadata": {},
   "source": [
    "В диаграммах размаха наблюдается очень сильный разброс значений. У популярных платфор есть масса очень популярных продаваемых игр, которые имеют запредельно большые продажи по отношению к сравнительно средним играм."
   ]
  },
  {
   "cell_type": "markdown",
   "metadata": {},
   "source": [
    "### Влияние отзывов на продажи\n",
    "Для большого количества игр имеются данные с пользовательскими и профессиональными оценками. На примере одной популярной платформы проверим влияние отзывов на продаваемость игр.\n",
    "\n",
    "В качестве популярной платформы была выбрана Play Station 4:"
   ]
  },
  {
   "cell_type": "code",
   "execution_count": 23,
   "metadata": {
    "scrolled": true
   },
   "outputs": [
    {
     "name": "stdout",
     "output_type": "stream",
     "text": [
      "<class 'pandas.core.frame.DataFrame'>\n",
      "Int64Index: 392 entries, 31 to 16585\n",
      "Data columns (total 12 columns):\n",
      "name               392 non-null object\n",
      "platform           392 non-null object\n",
      "year_of_release    392 non-null Int64\n",
      "genre              392 non-null object\n",
      "na_sales           392 non-null float64\n",
      "eu_sales           392 non-null float64\n",
      "jp_sales           392 non-null float64\n",
      "other_sales        392 non-null float64\n",
      "critic_score       252 non-null Int64\n",
      "user_score         257 non-null float64\n",
      "rating             392 non-null object\n",
      "total_sales        392 non-null float64\n",
      "dtypes: Int64(2), float64(6), object(4)\n",
      "memory usage: 40.6+ KB\n"
     ]
    }
   ],
   "source": [
    "PS4 = df.query('platform == \"PS4\"')           #срез данных для Play Station 4 без пропущенных значений\n",
    "PS4.info()"
   ]
  },
  {
   "cell_type": "code",
   "execution_count": 24,
   "metadata": {},
   "outputs": [
    {
     "data": {
      "image/png": "[encoded data removed]",
      "text/plain": [
       "<Figure size 648x432 with 1 Axes>"
      ]
     },
     "metadata": {
      "needs_background": "light"
     },
     "output_type": "display_data"
    }
   ],
   "source": [
    "PS4.plot(x='user_score', y='total_sales', kind='scatter', title='Диаграмма рассеяния продаж и оценки пользователей', figsize=(9, 6))\n",
    "plt.xlabel('Оценка пользователей')\n",
    "plt.ylabel('Продажи')\n",
    "plt.show()"
   ]
  },
  {
   "cell_type": "code",
   "execution_count": 25,
   "metadata": {},
   "outputs": [
    {
     "data": {
      "image/png": "[encoded data removed]",
      "text/plain": [
       "<Figure size 648x432 with 1 Axes>"
      ]
     },
     "metadata": {
      "needs_background": "light"
     },
     "output_type": "display_data"
    }
   ],
   "source": [
    "PS4.plot(x='critic_score', y='total_sales', kind='scatter', title='Диаграмма рассеяния продаж и оценки критиков', figsize=(9, 6))\n",
    "plt.xlabel('Оценка критиков')\n",
    "plt.ylabel('Продажи')\n",
    "plt.show()"
   ]
  },
  {
   "cell_type": "code",
   "execution_count": 26,
   "metadata": {},
   "outputs": [
    {
     "data": {
      "text/html": [
       "<div>\n",
       "<style scoped>\n",
       "    .dataframe tbody tr th:only-of-type {\n",
       "        vertical-align: middle;\n",
       "    }\n",
       "\n",
       "    .dataframe tbody tr th {\n",
       "        vertical-align: top;\n",
       "    }\n",
       "\n",
       "    .dataframe thead th {\n",
       "        text-align: right;\n",
       "    }\n",
       "</style>\n",
       "<table border=\"1\" class=\"dataframe\">\n",
       "  <thead>\n",
       "    <tr style=\"text-align: right;\">\n",
       "      <th></th>\n",
       "      <th>total_sales</th>\n",
       "      <th>critic_score</th>\n",
       "      <th>user_score</th>\n",
       "    </tr>\n",
       "  </thead>\n",
       "  <tbody>\n",
       "    <tr>\n",
       "      <td>total_sales</td>\n",
       "      <td>1.000000</td>\n",
       "      <td>0.406568</td>\n",
       "      <td>-0.031957</td>\n",
       "    </tr>\n",
       "    <tr>\n",
       "      <td>critic_score</td>\n",
       "      <td>0.406568</td>\n",
       "      <td>1.000000</td>\n",
       "      <td>0.557654</td>\n",
       "    </tr>\n",
       "    <tr>\n",
       "      <td>user_score</td>\n",
       "      <td>-0.031957</td>\n",
       "      <td>0.557654</td>\n",
       "      <td>1.000000</td>\n",
       "    </tr>\n",
       "  </tbody>\n",
       "</table>\n",
       "</div>"
      ],
      "text/plain": [
       "              total_sales  critic_score  user_score\n",
       "total_sales      1.000000      0.406568   -0.031957\n",
       "critic_score     0.406568      1.000000    0.557654\n",
       "user_score      -0.031957      0.557654    1.000000"
      ]
     },
     "execution_count": 26,
     "metadata": {},
     "output_type": "execute_result"
    }
   ],
   "source": [
    "PS4[['total_sales', 'critic_score', 'user_score']].corr()"
   ]
  },
  {
   "cell_type": "markdown",
   "metadata": {},
   "source": [
    "Выполнив исследование вазаимосвязи между отзывами и продажами для одной из популярных платформ, можно утверждать о наличии достаточно явной прямой зависимости между оценками критиков и продажами игры (коэффициент Пирсона равен 0,407). А вот взаимосвяззь пользовательских оценок и продаваемости продукта практически отсутствует (коэффициент Пирсона -0,032). Видимо покупатели при покупке ориентируются на рецензии профессианалов, а не на общее мнение."
   ]
  },
  {
   "cell_type": "markdown",
   "metadata": {},
   "source": [
    "Построим матрицы корреляции и для других платформ:"
   ]
  },
  {
   "cell_type": "code",
   "execution_count": 27,
   "metadata": {},
   "outputs": [
    {
     "name": "stdout",
     "output_type": "stream",
     "text": [
      "Матрица корреляции для PS3:\n"
     ]
    },
    {
     "data": {
      "text/html": [
       "<div>\n",
       "<style scoped>\n",
       "    .dataframe tbody tr th:only-of-type {\n",
       "        vertical-align: middle;\n",
       "    }\n",
       "\n",
       "    .dataframe tbody tr th {\n",
       "        vertical-align: top;\n",
       "    }\n",
       "\n",
       "    .dataframe thead th {\n",
       "        text-align: right;\n",
       "    }\n",
       "</style>\n",
       "<table border=\"1\" class=\"dataframe\">\n",
       "  <thead>\n",
       "    <tr style=\"text-align: right;\">\n",
       "      <th></th>\n",
       "      <th>total_sales</th>\n",
       "      <th>critic_score</th>\n",
       "      <th>user_score</th>\n",
       "    </tr>\n",
       "  </thead>\n",
       "  <tbody>\n",
       "    <tr>\n",
       "      <td>total_sales</td>\n",
       "      <td>1.000000</td>\n",
       "      <td>0.331497</td>\n",
       "      <td>-0.005144</td>\n",
       "    </tr>\n",
       "    <tr>\n",
       "      <td>critic_score</td>\n",
       "      <td>0.331497</td>\n",
       "      <td>1.000000</td>\n",
       "      <td>0.539456</td>\n",
       "    </tr>\n",
       "    <tr>\n",
       "      <td>user_score</td>\n",
       "      <td>-0.005144</td>\n",
       "      <td>0.539456</td>\n",
       "      <td>1.000000</td>\n",
       "    </tr>\n",
       "  </tbody>\n",
       "</table>\n",
       "</div>"
      ],
      "text/plain": [
       "              total_sales  critic_score  user_score\n",
       "total_sales      1.000000      0.331497   -0.005144\n",
       "critic_score     0.331497      1.000000    0.539456\n",
       "user_score      -0.005144      0.539456    1.000000"
      ]
     },
     "metadata": {},
     "output_type": "display_data"
    },
    {
     "name": "stdout",
     "output_type": "stream",
     "text": [
      "Матрица корреляции для X360:\n"
     ]
    },
    {
     "data": {
      "text/html": [
       "<div>\n",
       "<style scoped>\n",
       "    .dataframe tbody tr th:only-of-type {\n",
       "        vertical-align: middle;\n",
       "    }\n",
       "\n",
       "    .dataframe tbody tr th {\n",
       "        vertical-align: top;\n",
       "    }\n",
       "\n",
       "    .dataframe thead th {\n",
       "        text-align: right;\n",
       "    }\n",
       "</style>\n",
       "<table border=\"1\" class=\"dataframe\">\n",
       "  <thead>\n",
       "    <tr style=\"text-align: right;\">\n",
       "      <th></th>\n",
       "      <th>total_sales</th>\n",
       "      <th>critic_score</th>\n",
       "      <th>user_score</th>\n",
       "    </tr>\n",
       "  </thead>\n",
       "  <tbody>\n",
       "    <tr>\n",
       "      <td>total_sales</td>\n",
       "      <td>1.000000</td>\n",
       "      <td>0.360573</td>\n",
       "      <td>0.006164</td>\n",
       "    </tr>\n",
       "    <tr>\n",
       "      <td>critic_score</td>\n",
       "      <td>0.360573</td>\n",
       "      <td>1.000000</td>\n",
       "      <td>0.557352</td>\n",
       "    </tr>\n",
       "    <tr>\n",
       "      <td>user_score</td>\n",
       "      <td>0.006164</td>\n",
       "      <td>0.557352</td>\n",
       "      <td>1.000000</td>\n",
       "    </tr>\n",
       "  </tbody>\n",
       "</table>\n",
       "</div>"
      ],
      "text/plain": [
       "              total_sales  critic_score  user_score\n",
       "total_sales      1.000000      0.360573    0.006164\n",
       "critic_score     0.360573      1.000000    0.557352\n",
       "user_score       0.006164      0.557352    1.000000"
      ]
     },
     "metadata": {},
     "output_type": "display_data"
    },
    {
     "name": "stdout",
     "output_type": "stream",
     "text": [
      "Матрица корреляции для PS4:\n"
     ]
    },
    {
     "data": {
      "text/html": [
       "<div>\n",
       "<style scoped>\n",
       "    .dataframe tbody tr th:only-of-type {\n",
       "        vertical-align: middle;\n",
       "    }\n",
       "\n",
       "    .dataframe tbody tr th {\n",
       "        vertical-align: top;\n",
       "    }\n",
       "\n",
       "    .dataframe thead th {\n",
       "        text-align: right;\n",
       "    }\n",
       "</style>\n",
       "<table border=\"1\" class=\"dataframe\">\n",
       "  <thead>\n",
       "    <tr style=\"text-align: right;\">\n",
       "      <th></th>\n",
       "      <th>total_sales</th>\n",
       "      <th>critic_score</th>\n",
       "      <th>user_score</th>\n",
       "    </tr>\n",
       "  </thead>\n",
       "  <tbody>\n",
       "    <tr>\n",
       "      <td>total_sales</td>\n",
       "      <td>1.000000</td>\n",
       "      <td>0.406568</td>\n",
       "      <td>-0.031957</td>\n",
       "    </tr>\n",
       "    <tr>\n",
       "      <td>critic_score</td>\n",
       "      <td>0.406568</td>\n",
       "      <td>1.000000</td>\n",
       "      <td>0.557654</td>\n",
       "    </tr>\n",
       "    <tr>\n",
       "      <td>user_score</td>\n",
       "      <td>-0.031957</td>\n",
       "      <td>0.557654</td>\n",
       "      <td>1.000000</td>\n",
       "    </tr>\n",
       "  </tbody>\n",
       "</table>\n",
       "</div>"
      ],
      "text/plain": [
       "              total_sales  critic_score  user_score\n",
       "total_sales      1.000000      0.406568   -0.031957\n",
       "critic_score     0.406568      1.000000    0.557654\n",
       "user_score      -0.031957      0.557654    1.000000"
      ]
     },
     "metadata": {},
     "output_type": "display_data"
    },
    {
     "name": "stdout",
     "output_type": "stream",
     "text": [
      "Матрица корреляции для 3DS:\n"
     ]
    },
    {
     "data": {
      "text/html": [
       "<div>\n",
       "<style scoped>\n",
       "    .dataframe tbody tr th:only-of-type {\n",
       "        vertical-align: middle;\n",
       "    }\n",
       "\n",
       "    .dataframe tbody tr th {\n",
       "        vertical-align: top;\n",
       "    }\n",
       "\n",
       "    .dataframe thead th {\n",
       "        text-align: right;\n",
       "    }\n",
       "</style>\n",
       "<table border=\"1\" class=\"dataframe\">\n",
       "  <thead>\n",
       "    <tr style=\"text-align: right;\">\n",
       "      <th></th>\n",
       "      <th>total_sales</th>\n",
       "      <th>critic_score</th>\n",
       "      <th>user_score</th>\n",
       "    </tr>\n",
       "  </thead>\n",
       "  <tbody>\n",
       "    <tr>\n",
       "      <td>total_sales</td>\n",
       "      <td>1.000000</td>\n",
       "      <td>0.320803</td>\n",
       "      <td>0.197583</td>\n",
       "    </tr>\n",
       "    <tr>\n",
       "      <td>critic_score</td>\n",
       "      <td>0.320803</td>\n",
       "      <td>1.000000</td>\n",
       "      <td>0.722762</td>\n",
       "    </tr>\n",
       "    <tr>\n",
       "      <td>user_score</td>\n",
       "      <td>0.197583</td>\n",
       "      <td>0.722762</td>\n",
       "      <td>1.000000</td>\n",
       "    </tr>\n",
       "  </tbody>\n",
       "</table>\n",
       "</div>"
      ],
      "text/plain": [
       "              total_sales  critic_score  user_score\n",
       "total_sales      1.000000      0.320803    0.197583\n",
       "critic_score     0.320803      1.000000    0.722762\n",
       "user_score       0.197583      0.722762    1.000000"
      ]
     },
     "metadata": {},
     "output_type": "display_data"
    },
    {
     "name": "stdout",
     "output_type": "stream",
     "text": [
      "Матрица корреляции для DS:\n"
     ]
    },
    {
     "data": {
      "text/html": [
       "<div>\n",
       "<style scoped>\n",
       "    .dataframe tbody tr th:only-of-type {\n",
       "        vertical-align: middle;\n",
       "    }\n",
       "\n",
       "    .dataframe tbody tr th {\n",
       "        vertical-align: top;\n",
       "    }\n",
       "\n",
       "    .dataframe thead th {\n",
       "        text-align: right;\n",
       "    }\n",
       "</style>\n",
       "<table border=\"1\" class=\"dataframe\">\n",
       "  <thead>\n",
       "    <tr style=\"text-align: right;\">\n",
       "      <th></th>\n",
       "      <th>total_sales</th>\n",
       "      <th>critic_score</th>\n",
       "      <th>user_score</th>\n",
       "    </tr>\n",
       "  </thead>\n",
       "  <tbody>\n",
       "    <tr>\n",
       "      <td>total_sales</td>\n",
       "      <td>1.000000</td>\n",
       "      <td>NaN</td>\n",
       "      <td>0.882709</td>\n",
       "    </tr>\n",
       "    <tr>\n",
       "      <td>critic_score</td>\n",
       "      <td>NaN</td>\n",
       "      <td>NaN</td>\n",
       "      <td>NaN</td>\n",
       "    </tr>\n",
       "    <tr>\n",
       "      <td>user_score</td>\n",
       "      <td>0.882709</td>\n",
       "      <td>NaN</td>\n",
       "      <td>1.000000</td>\n",
       "    </tr>\n",
       "  </tbody>\n",
       "</table>\n",
       "</div>"
      ],
      "text/plain": [
       "              total_sales  critic_score  user_score\n",
       "total_sales      1.000000           NaN    0.882709\n",
       "critic_score          NaN           NaN         NaN\n",
       "user_score       0.882709           NaN    1.000000"
      ]
     },
     "metadata": {},
     "output_type": "display_data"
    },
    {
     "name": "stdout",
     "output_type": "stream",
     "text": [
      "Матрица корреляции для XOne:\n"
     ]
    },
    {
     "data": {
      "text/html": [
       "<div>\n",
       "<style scoped>\n",
       "    .dataframe tbody tr th:only-of-type {\n",
       "        vertical-align: middle;\n",
       "    }\n",
       "\n",
       "    .dataframe tbody tr th {\n",
       "        vertical-align: top;\n",
       "    }\n",
       "\n",
       "    .dataframe thead th {\n",
       "        text-align: right;\n",
       "    }\n",
       "</style>\n",
       "<table border=\"1\" class=\"dataframe\">\n",
       "  <thead>\n",
       "    <tr style=\"text-align: right;\">\n",
       "      <th></th>\n",
       "      <th>total_sales</th>\n",
       "      <th>critic_score</th>\n",
       "      <th>user_score</th>\n",
       "    </tr>\n",
       "  </thead>\n",
       "  <tbody>\n",
       "    <tr>\n",
       "      <td>total_sales</td>\n",
       "      <td>1.000000</td>\n",
       "      <td>0.416998</td>\n",
       "      <td>-0.068925</td>\n",
       "    </tr>\n",
       "    <tr>\n",
       "      <td>critic_score</td>\n",
       "      <td>0.416998</td>\n",
       "      <td>1.000000</td>\n",
       "      <td>0.472462</td>\n",
       "    </tr>\n",
       "    <tr>\n",
       "      <td>user_score</td>\n",
       "      <td>-0.068925</td>\n",
       "      <td>0.472462</td>\n",
       "      <td>1.000000</td>\n",
       "    </tr>\n",
       "  </tbody>\n",
       "</table>\n",
       "</div>"
      ],
      "text/plain": [
       "              total_sales  critic_score  user_score\n",
       "total_sales      1.000000      0.416998   -0.068925\n",
       "critic_score     0.416998      1.000000    0.472462\n",
       "user_score      -0.068925      0.472462    1.000000"
      ]
     },
     "metadata": {},
     "output_type": "display_data"
    },
    {
     "name": "stdout",
     "output_type": "stream",
     "text": [
      "Матрица корреляции для WiiU:\n"
     ]
    },
    {
     "data": {
      "text/html": [
       "<div>\n",
       "<style scoped>\n",
       "    .dataframe tbody tr th:only-of-type {\n",
       "        vertical-align: middle;\n",
       "    }\n",
       "\n",
       "    .dataframe tbody tr th {\n",
       "        vertical-align: top;\n",
       "    }\n",
       "\n",
       "    .dataframe thead th {\n",
       "        text-align: right;\n",
       "    }\n",
       "</style>\n",
       "<table border=\"1\" class=\"dataframe\">\n",
       "  <thead>\n",
       "    <tr style=\"text-align: right;\">\n",
       "      <th></th>\n",
       "      <th>total_sales</th>\n",
       "      <th>critic_score</th>\n",
       "      <th>user_score</th>\n",
       "    </tr>\n",
       "  </thead>\n",
       "  <tbody>\n",
       "    <tr>\n",
       "      <td>total_sales</td>\n",
       "      <td>1.000000</td>\n",
       "      <td>0.34838</td>\n",
       "      <td>0.400219</td>\n",
       "    </tr>\n",
       "    <tr>\n",
       "      <td>critic_score</td>\n",
       "      <td>0.348380</td>\n",
       "      <td>1.00000</td>\n",
       "      <td>0.770080</td>\n",
       "    </tr>\n",
       "    <tr>\n",
       "      <td>user_score</td>\n",
       "      <td>0.400219</td>\n",
       "      <td>0.77008</td>\n",
       "      <td>1.000000</td>\n",
       "    </tr>\n",
       "  </tbody>\n",
       "</table>\n",
       "</div>"
      ],
      "text/plain": [
       "              total_sales  critic_score  user_score\n",
       "total_sales      1.000000       0.34838    0.400219\n",
       "critic_score     0.348380       1.00000    0.770080\n",
       "user_score       0.400219       0.77008    1.000000"
      ]
     },
     "metadata": {},
     "output_type": "display_data"
    },
    {
     "name": "stdout",
     "output_type": "stream",
     "text": [
      "Матрица корреляции для Wii:\n"
     ]
    },
    {
     "data": {
      "text/html": [
       "<div>\n",
       "<style scoped>\n",
       "    .dataframe tbody tr th:only-of-type {\n",
       "        vertical-align: middle;\n",
       "    }\n",
       "\n",
       "    .dataframe tbody tr th {\n",
       "        vertical-align: top;\n",
       "    }\n",
       "\n",
       "    .dataframe thead th {\n",
       "        text-align: right;\n",
       "    }\n",
       "</style>\n",
       "<table border=\"1\" class=\"dataframe\">\n",
       "  <thead>\n",
       "    <tr style=\"text-align: right;\">\n",
       "      <th></th>\n",
       "      <th>total_sales</th>\n",
       "      <th>critic_score</th>\n",
       "      <th>user_score</th>\n",
       "    </tr>\n",
       "  </thead>\n",
       "  <tbody>\n",
       "    <tr>\n",
       "      <td>total_sales</td>\n",
       "      <td>1.000000</td>\n",
       "      <td>-0.424341</td>\n",
       "      <td>0.296197</td>\n",
       "    </tr>\n",
       "    <tr>\n",
       "      <td>critic_score</td>\n",
       "      <td>-0.424341</td>\n",
       "      <td>1.000000</td>\n",
       "      <td>0.816295</td>\n",
       "    </tr>\n",
       "    <tr>\n",
       "      <td>user_score</td>\n",
       "      <td>0.296197</td>\n",
       "      <td>0.816295</td>\n",
       "      <td>1.000000</td>\n",
       "    </tr>\n",
       "  </tbody>\n",
       "</table>\n",
       "</div>"
      ],
      "text/plain": [
       "              total_sales  critic_score  user_score\n",
       "total_sales      1.000000     -0.424341    0.296197\n",
       "critic_score    -0.424341      1.000000    0.816295\n",
       "user_score       0.296197      0.816295    1.000000"
      ]
     },
     "metadata": {},
     "output_type": "display_data"
    },
    {
     "name": "stdout",
     "output_type": "stream",
     "text": [
      "Матрица корреляции для PC:\n"
     ]
    },
    {
     "data": {
      "text/html": [
       "<div>\n",
       "<style scoped>\n",
       "    .dataframe tbody tr th:only-of-type {\n",
       "        vertical-align: middle;\n",
       "    }\n",
       "\n",
       "    .dataframe tbody tr th {\n",
       "        vertical-align: top;\n",
       "    }\n",
       "\n",
       "    .dataframe thead th {\n",
       "        text-align: right;\n",
       "    }\n",
       "</style>\n",
       "<table border=\"1\" class=\"dataframe\">\n",
       "  <thead>\n",
       "    <tr style=\"text-align: right;\">\n",
       "      <th></th>\n",
       "      <th>total_sales</th>\n",
       "      <th>critic_score</th>\n",
       "      <th>user_score</th>\n",
       "    </tr>\n",
       "  </thead>\n",
       "  <tbody>\n",
       "    <tr>\n",
       "      <td>total_sales</td>\n",
       "      <td>1.000000</td>\n",
       "      <td>0.237243</td>\n",
       "      <td>-0.121867</td>\n",
       "    </tr>\n",
       "    <tr>\n",
       "      <td>critic_score</td>\n",
       "      <td>0.237243</td>\n",
       "      <td>1.000000</td>\n",
       "      <td>0.432587</td>\n",
       "    </tr>\n",
       "    <tr>\n",
       "      <td>user_score</td>\n",
       "      <td>-0.121867</td>\n",
       "      <td>0.432587</td>\n",
       "      <td>1.000000</td>\n",
       "    </tr>\n",
       "  </tbody>\n",
       "</table>\n",
       "</div>"
      ],
      "text/plain": [
       "              total_sales  critic_score  user_score\n",
       "total_sales      1.000000      0.237243   -0.121867\n",
       "critic_score     0.237243      1.000000    0.432587\n",
       "user_score      -0.121867      0.432587    1.000000"
      ]
     },
     "metadata": {},
     "output_type": "display_data"
    },
    {
     "name": "stdout",
     "output_type": "stream",
     "text": [
      "Матрица корреляции для PSV:\n"
     ]
    },
    {
     "data": {
      "text/html": [
       "<div>\n",
       "<style scoped>\n",
       "    .dataframe tbody tr th:only-of-type {\n",
       "        vertical-align: middle;\n",
       "    }\n",
       "\n",
       "    .dataframe tbody tr th {\n",
       "        vertical-align: top;\n",
       "    }\n",
       "\n",
       "    .dataframe thead th {\n",
       "        text-align: right;\n",
       "    }\n",
       "</style>\n",
       "<table border=\"1\" class=\"dataframe\">\n",
       "  <thead>\n",
       "    <tr style=\"text-align: right;\">\n",
       "      <th></th>\n",
       "      <th>total_sales</th>\n",
       "      <th>critic_score</th>\n",
       "      <th>user_score</th>\n",
       "    </tr>\n",
       "  </thead>\n",
       "  <tbody>\n",
       "    <tr>\n",
       "      <td>total_sales</td>\n",
       "      <td>1.000000</td>\n",
       "      <td>0.094488</td>\n",
       "      <td>-0.004339</td>\n",
       "    </tr>\n",
       "    <tr>\n",
       "      <td>critic_score</td>\n",
       "      <td>0.094488</td>\n",
       "      <td>1.000000</td>\n",
       "      <td>0.699199</td>\n",
       "    </tr>\n",
       "    <tr>\n",
       "      <td>user_score</td>\n",
       "      <td>-0.004339</td>\n",
       "      <td>0.699199</td>\n",
       "      <td>1.000000</td>\n",
       "    </tr>\n",
       "  </tbody>\n",
       "</table>\n",
       "</div>"
      ],
      "text/plain": [
       "              total_sales  critic_score  user_score\n",
       "total_sales      1.000000      0.094488   -0.004339\n",
       "critic_score     0.094488      1.000000    0.699199\n",
       "user_score      -0.004339      0.699199    1.000000"
      ]
     },
     "metadata": {},
     "output_type": "display_data"
    },
    {
     "name": "stdout",
     "output_type": "stream",
     "text": [
      "Матрица корреляции для PSP:\n"
     ]
    },
    {
     "data": {
      "text/html": [
       "<div>\n",
       "<style scoped>\n",
       "    .dataframe tbody tr th:only-of-type {\n",
       "        vertical-align: middle;\n",
       "    }\n",
       "\n",
       "    .dataframe tbody tr th {\n",
       "        vertical-align: top;\n",
       "    }\n",
       "\n",
       "    .dataframe thead th {\n",
       "        text-align: right;\n",
       "    }\n",
       "</style>\n",
       "<table border=\"1\" class=\"dataframe\">\n",
       "  <thead>\n",
       "    <tr style=\"text-align: right;\">\n",
       "      <th></th>\n",
       "      <th>total_sales</th>\n",
       "      <th>critic_score</th>\n",
       "      <th>user_score</th>\n",
       "    </tr>\n",
       "  </thead>\n",
       "  <tbody>\n",
       "    <tr>\n",
       "      <td>total_sales</td>\n",
       "      <td>1.000000</td>\n",
       "      <td>NaN</td>\n",
       "      <td>-0.802302</td>\n",
       "    </tr>\n",
       "    <tr>\n",
       "      <td>critic_score</td>\n",
       "      <td>NaN</td>\n",
       "      <td>NaN</td>\n",
       "      <td>NaN</td>\n",
       "    </tr>\n",
       "    <tr>\n",
       "      <td>user_score</td>\n",
       "      <td>-0.802302</td>\n",
       "      <td>NaN</td>\n",
       "      <td>1.000000</td>\n",
       "    </tr>\n",
       "  </tbody>\n",
       "</table>\n",
       "</div>"
      ],
      "text/plain": [
       "              total_sales  critic_score  user_score\n",
       "total_sales      1.000000           NaN   -0.802302\n",
       "critic_score          NaN           NaN         NaN\n",
       "user_score      -0.802302           NaN    1.000000"
      ]
     },
     "metadata": {},
     "output_type": "display_data"
    }
   ],
   "source": [
    "for i in df['platform'].unique():\n",
    "    data = df.query('platform == @i')\n",
    "    print(f'Матрица корреляции для {i}:')\n",
    "    display(data[['total_sales', 'critic_score', 'user_score']].corr())"
   ]
  },
  {
   "cell_type": "markdown",
   "metadata": {},
   "source": [
    "Все выше сказанное о играх разработанных для PS4 совершенно справедливо и для других платформ. За исключением того, что для игровых платформ 3DS, Wii, DS и WiiU коэффициент корреляции взаимосвязи отзывов пользователей и продаж, принимает весьма ощутимые значения (от 0.15 до 0.40). В чем особенность этих платформ, пока сложно сказать. "
   ]
  },
  {
   "cell_type": "markdown",
   "metadata": {},
   "source": [
    "### Распределение игр по жанрам\n",
    "Необходимо оценить как распределены продажи игр по их жанрам. Постром столбчатую диаграмму с суммарным количеством продаж для каждого жанра:"
   ]
  },
  {
   "cell_type": "code",
   "execution_count": 28,
   "metadata": {},
   "outputs": [
    {
     "data": {
      "image/png": "[encoded data removed]",
      "text/plain": [
       "<Figure size 648x432 with 1 Axes>"
      ]
     },
     "metadata": {
      "needs_background": "light"
     },
     "output_type": "display_data"
    }
   ],
   "source": [
    "genre_df = df.groupby('genre').sum().sort_values('total_sales')\n",
    "genre_df['total_sales'].plot(kind='bar', title='Продаваемость игр по жанрам', grid=True, figsize=(9, 6))\n",
    "plt.xlabel('Жанр')\n",
    "plt.ylabel('Продажи')\n",
    "plt.show()"
   ]
  },
  {
   "cell_type": "markdown",
   "metadata": {},
   "source": [
    "По полученной диаграмме можно сказать, что данные распределены очень неравномерно. Если у самых продаваемых жанров прибыль составила в среднем около 300 млн., то у непопулярных жанров можно говорить о средней прибыли около 15 млн. Можно выделить, что наибольшую популярность имеют активные игры, с большим количеством действий и манипуляций, в то время как игры с малой активность и задействующие интеллект не очень интересны широкой публике."
   ]
  },
  {
   "cell_type": "code",
   "execution_count": 29,
   "metadata": {},
   "outputs": [
    {
     "data": {
      "text/plain": [
       "Action          1031\n",
       "Role-Playing     370\n",
       "Adventure        302\n",
       "Sports           268\n",
       "Shooter          235\n",
       "Misc             192\n",
       "Racing           115\n",
       "Fighting         109\n",
       "Platform          85\n",
       "Simulation        80\n",
       "Strategy          71\n",
       "Puzzle            28\n",
       "Name: genre, dtype: int64"
      ]
     },
     "execution_count": 29,
     "metadata": {},
     "output_type": "execute_result"
    }
   ],
   "source": [
    "df['genre'].value_counts()"
   ]
  },
  {
   "cell_type": "code",
   "execution_count": 30,
   "metadata": {},
   "outputs": [
    {
     "data": {
      "image/png": "[encoded data removed]",
      "text/plain": [
       "<Figure size 648x432 with 1 Axes>"
      ]
     },
     "metadata": {
      "needs_background": "light"
     },
     "output_type": "display_data"
    }
   ],
   "source": [
    "genre_df = df.groupby('genre').count().sort_values('total_sales')\n",
    "genre_df['total_sales'].plot(kind='bar', title='Количество выпущенных игр каждого жанра', grid=True, figsize=(9, 6))\n",
    "plt.xlabel('Жанр')\n",
    "plt.ylabel('Количество')\n",
    "plt.show()"
   ]
  },
  {
   "cell_type": "markdown",
   "metadata": {},
   "source": [
    "Количество выпускаемых игра для каждого жанра слишком неодинаково. Поэтому нельзя утверждать, что жанр с наибольшей глобальной прибылью будет стабильно популярным и продаваемым, даже наоборот все продукты этого жанра претерпевают высокую конкуренцию, и сложно быть уверенным, что игра точно будет успешной. Более правильным подходом будет оценить характеристику положения данных для продаж каждой игры жанра. А поскольку эти данные не лишены большого количества выбросов, а количество игр от жанра к жанру не близки по своим значениям, лучше всего будет использовать структурную характеристику положения, а именно медиану. "
   ]
  },
  {
   "cell_type": "code",
   "execution_count": 31,
   "metadata": {},
   "outputs": [
    {
     "data": {
      "image/png": "[encoded data removed]",
      "text/plain": [
       "<Figure size 648x432 with 1 Axes>"
      ]
     },
     "metadata": {
      "needs_background": "light"
     },
     "output_type": "display_data"
    }
   ],
   "source": [
    "genre_df = df.groupby('genre').median().sort_values('total_sales')\n",
    "genre_df['total_sales'].plot(kind='bar', title='Продаваемость жанра', grid=True, figsize=(9, 6))\n",
    "plt.xlabel('Жанр')\n",
    "plt.ylabel('Медианное значение продаж')\n",
    "plt.show()"
   ]
  },
  {
   "cell_type": "markdown",
   "metadata": {},
   "source": [
    "Можно утверждать, что самым прибильным жанром с большим отрывом является жанр - *Shooter*. Удивительно, но жанр *Action* который был лидером глобальных продаж даже не в вошел в топ-5."
   ]
  },
  {
   "cell_type": "markdown",
   "metadata": {},
   "source": [
    "### Вывод\n",
    "Анализ данных завершен. По итогам удалось установить: актуальный период, потенциально прибыльные платформы, взаимосвязь продаж и отзывов и самые прибыльные жанры. Все это необходимо для ответа на поставленную задачу."
   ]
  },
  {
   "cell_type": "markdown",
   "metadata": {},
   "source": [
    "## Составление портрета пользователя каждого региона\n",
    "Для того, чтобы составить портрет пользователя по регионам, нужно выделить самые популярные платформы и жанры. Это позволит составить представление о предпочтениях покупателей в различных регионах. В дополнение исследуем как в каждом регионе влияет возрастной рейтинг ESRB на продаваемость продукта."
   ]
  },
  {
   "cell_type": "markdown",
   "metadata": {},
   "source": [
    "### Самые популярные платформы в регионах\n",
    "Составим рейтинг 5 самых популярных платформ для регионов *NA, EU, JP*:"
   ]
  },
  {
   "cell_type": "code",
   "execution_count": 32,
   "metadata": {},
   "outputs": [
    {
     "data": {
      "text/html": [
       "<div>\n",
       "<style scoped>\n",
       "    .dataframe tbody tr th:only-of-type {\n",
       "        vertical-align: middle;\n",
       "    }\n",
       "\n",
       "    .dataframe tbody tr th {\n",
       "        vertical-align: top;\n",
       "    }\n",
       "\n",
       "    .dataframe thead th {\n",
       "        text-align: right;\n",
       "    }\n",
       "</style>\n",
       "<table border=\"1\" class=\"dataframe\">\n",
       "  <thead>\n",
       "    <tr style=\"text-align: right;\">\n",
       "      <th></th>\n",
       "      <th>na_sales</th>\n",
       "      <th>total_sales</th>\n",
       "      <th>share_total</th>\n",
       "      <th>share_region</th>\n",
       "    </tr>\n",
       "    <tr>\n",
       "      <th>platform</th>\n",
       "      <th></th>\n",
       "      <th></th>\n",
       "      <th></th>\n",
       "      <th></th>\n",
       "    </tr>\n",
       "  </thead>\n",
       "  <tbody>\n",
       "    <tr>\n",
       "      <td>X360</td>\n",
       "      <td>140.05</td>\n",
       "      <td>236.54</td>\n",
       "      <td>59.2</td>\n",
       "      <td>28.0</td>\n",
       "    </tr>\n",
       "    <tr>\n",
       "      <td>PS4</td>\n",
       "      <td>108.74</td>\n",
       "      <td>314.14</td>\n",
       "      <td>34.6</td>\n",
       "      <td>21.7</td>\n",
       "    </tr>\n",
       "    <tr>\n",
       "      <td>PS3</td>\n",
       "      <td>103.38</td>\n",
       "      <td>288.79</td>\n",
       "      <td>35.8</td>\n",
       "      <td>20.7</td>\n",
       "    </tr>\n",
       "    <tr>\n",
       "      <td>XOne</td>\n",
       "      <td>93.12</td>\n",
       "      <td>159.32</td>\n",
       "      <td>58.4</td>\n",
       "      <td>18.6</td>\n",
       "    </tr>\n",
       "    <tr>\n",
       "      <td>3DS</td>\n",
       "      <td>55.31</td>\n",
       "      <td>194.61</td>\n",
       "      <td>28.4</td>\n",
       "      <td>11.0</td>\n",
       "    </tr>\n",
       "  </tbody>\n",
       "</table>\n",
       "</div>"
      ],
      "text/plain": [
       "          na_sales  total_sales  share_total  share_region\n",
       "platform                                                  \n",
       "X360        140.05       236.54         59.2          28.0\n",
       "PS4         108.74       314.14         34.6          21.7\n",
       "PS3         103.38       288.79         35.8          20.7\n",
       "XOne         93.12       159.32         58.4          18.6\n",
       "3DS          55.31       194.61         28.4          11.0"
      ]
     },
     "metadata": {},
     "output_type": "display_data"
    },
    {
     "data": {
      "text/html": [
       "<div>\n",
       "<style scoped>\n",
       "    .dataframe tbody tr th:only-of-type {\n",
       "        vertical-align: middle;\n",
       "    }\n",
       "\n",
       "    .dataframe tbody tr th {\n",
       "        vertical-align: top;\n",
       "    }\n",
       "\n",
       "    .dataframe thead th {\n",
       "        text-align: right;\n",
       "    }\n",
       "</style>\n",
       "<table border=\"1\" class=\"dataframe\">\n",
       "  <thead>\n",
       "    <tr style=\"text-align: right;\">\n",
       "      <th></th>\n",
       "      <th>eu_sales</th>\n",
       "      <th>total_sales</th>\n",
       "      <th>share_total</th>\n",
       "      <th>share_region</th>\n",
       "    </tr>\n",
       "    <tr>\n",
       "      <th>platform</th>\n",
       "      <th></th>\n",
       "      <th></th>\n",
       "      <th></th>\n",
       "      <th></th>\n",
       "    </tr>\n",
       "  </thead>\n",
       "  <tbody>\n",
       "    <tr>\n",
       "      <td>PS4</td>\n",
       "      <td>141.09</td>\n",
       "      <td>314.14</td>\n",
       "      <td>44.9</td>\n",
       "      <td>33.9</td>\n",
       "    </tr>\n",
       "    <tr>\n",
       "      <td>PS3</td>\n",
       "      <td>106.86</td>\n",
       "      <td>288.79</td>\n",
       "      <td>37.0</td>\n",
       "      <td>25.6</td>\n",
       "    </tr>\n",
       "    <tr>\n",
       "      <td>X360</td>\n",
       "      <td>74.52</td>\n",
       "      <td>236.54</td>\n",
       "      <td>31.5</td>\n",
       "      <td>17.9</td>\n",
       "    </tr>\n",
       "    <tr>\n",
       "      <td>XOne</td>\n",
       "      <td>51.59</td>\n",
       "      <td>159.32</td>\n",
       "      <td>32.4</td>\n",
       "      <td>12.4</td>\n",
       "    </tr>\n",
       "    <tr>\n",
       "      <td>3DS</td>\n",
       "      <td>42.64</td>\n",
       "      <td>194.61</td>\n",
       "      <td>21.9</td>\n",
       "      <td>10.2</td>\n",
       "    </tr>\n",
       "  </tbody>\n",
       "</table>\n",
       "</div>"
      ],
      "text/plain": [
       "          eu_sales  total_sales  share_total  share_region\n",
       "platform                                                  \n",
       "PS4         141.09       314.14         44.9          33.9\n",
       "PS3         106.86       288.79         37.0          25.6\n",
       "X360         74.52       236.54         31.5          17.9\n",
       "XOne         51.59       159.32         32.4          12.4\n",
       "3DS          42.64       194.61         21.9          10.2"
      ]
     },
     "metadata": {},
     "output_type": "display_data"
    },
    {
     "data": {
      "text/html": [
       "<div>\n",
       "<style scoped>\n",
       "    .dataframe tbody tr th:only-of-type {\n",
       "        vertical-align: middle;\n",
       "    }\n",
       "\n",
       "    .dataframe tbody tr th {\n",
       "        vertical-align: top;\n",
       "    }\n",
       "\n",
       "    .dataframe thead th {\n",
       "        text-align: right;\n",
       "    }\n",
       "</style>\n",
       "<table border=\"1\" class=\"dataframe\">\n",
       "  <thead>\n",
       "    <tr style=\"text-align: right;\">\n",
       "      <th></th>\n",
       "      <th>jp_sales</th>\n",
       "      <th>total_sales</th>\n",
       "      <th>share_total</th>\n",
       "      <th>share_region</th>\n",
       "    </tr>\n",
       "    <tr>\n",
       "      <th>platform</th>\n",
       "      <th></th>\n",
       "      <th></th>\n",
       "      <th></th>\n",
       "      <th></th>\n",
       "    </tr>\n",
       "  </thead>\n",
       "  <tbody>\n",
       "    <tr>\n",
       "      <td>3DS</td>\n",
       "      <td>87.79</td>\n",
       "      <td>194.61</td>\n",
       "      <td>45.1</td>\n",
       "      <td>50.7</td>\n",
       "    </tr>\n",
       "    <tr>\n",
       "      <td>PS3</td>\n",
       "      <td>35.29</td>\n",
       "      <td>288.79</td>\n",
       "      <td>12.2</td>\n",
       "      <td>20.4</td>\n",
       "    </tr>\n",
       "    <tr>\n",
       "      <td>PSV</td>\n",
       "      <td>21.04</td>\n",
       "      <td>49.18</td>\n",
       "      <td>42.8</td>\n",
       "      <td>12.2</td>\n",
       "    </tr>\n",
       "    <tr>\n",
       "      <td>PS4</td>\n",
       "      <td>15.96</td>\n",
       "      <td>314.14</td>\n",
       "      <td>5.1</td>\n",
       "      <td>9.2</td>\n",
       "    </tr>\n",
       "    <tr>\n",
       "      <td>WiiU</td>\n",
       "      <td>13.01</td>\n",
       "      <td>82.19</td>\n",
       "      <td>15.8</td>\n",
       "      <td>7.5</td>\n",
       "    </tr>\n",
       "  </tbody>\n",
       "</table>\n",
       "</div>"
      ],
      "text/plain": [
       "          jp_sales  total_sales  share_total  share_region\n",
       "platform                                                  \n",
       "3DS          87.79       194.61         45.1          50.7\n",
       "PS3          35.29       288.79         12.2          20.4\n",
       "PSV          21.04        49.18         42.8          12.2\n",
       "PS4          15.96       314.14          5.1           9.2\n",
       "WiiU         13.01        82.19         15.8           7.5"
      ]
     },
     "metadata": {},
     "output_type": "display_data"
    }
   ],
   "source": [
    "for i in ['na_sales', 'eu_sales', 'jp_sales']:\n",
    "    d = df.pivot_table(index='platform', values=[i, 'total_sales'], aggfunc='sum').sort_values(i, ascending=False).head()\n",
    "    d['share_total'] = round(d[i] / d['total_sales'], 3) * 100\n",
    "    d['share_region'] = round(d[i] / d[i].sum(), 3) * 100\n",
    "    display(d)"
   ]
  },
  {
   "cell_type": "markdown",
   "metadata": {},
   "source": [
    "Популярность платформ для исследуемых регионов весьма различна, это важно учитывать при распространении. Если оценивать долю продаж топовых платформ региона, то можно отметить, что в японском регионе есть ярковыраженный лидер, а в других регионах все не так однозначно. Так же, очень важно не забывать, что такие платформы как PS3, X360 и PSP хоть и находятся в топе, их время уходит, продажи неумолимо падают, поэтому не стоит на них ориентироваться."
   ]
  },
  {
   "cell_type": "markdown",
   "metadata": {},
   "source": [
    "### Самые популярные жанры в регионах\n",
    "Составим рейтинг 5 самых популярных жанров для регионов *NA, EU, JP*:"
   ]
  },
  {
   "cell_type": "code",
   "execution_count": 33,
   "metadata": {},
   "outputs": [
    {
     "data": {
      "text/html": [
       "<div>\n",
       "<style scoped>\n",
       "    .dataframe tbody tr th:only-of-type {\n",
       "        vertical-align: middle;\n",
       "    }\n",
       "\n",
       "    .dataframe tbody tr th {\n",
       "        vertical-align: top;\n",
       "    }\n",
       "\n",
       "    .dataframe thead th {\n",
       "        text-align: right;\n",
       "    }\n",
       "</style>\n",
       "<table border=\"1\" class=\"dataframe\">\n",
       "  <thead>\n",
       "    <tr style=\"text-align: right;\">\n",
       "      <th></th>\n",
       "      <th>na_sales_sum</th>\n",
       "      <th>na_sales_median</th>\n",
       "    </tr>\n",
       "    <tr>\n",
       "      <th>genre</th>\n",
       "      <th></th>\n",
       "      <th></th>\n",
       "    </tr>\n",
       "  </thead>\n",
       "  <tbody>\n",
       "    <tr>\n",
       "      <td>Shooter</td>\n",
       "      <td>144.77</td>\n",
       "      <td>0.20</td>\n",
       "    </tr>\n",
       "    <tr>\n",
       "      <td>Platform</td>\n",
       "      <td>25.38</td>\n",
       "      <td>0.09</td>\n",
       "    </tr>\n",
       "    <tr>\n",
       "      <td>Sports</td>\n",
       "      <td>81.53</td>\n",
       "      <td>0.08</td>\n",
       "    </tr>\n",
       "    <tr>\n",
       "      <td>Fighting</td>\n",
       "      <td>19.79</td>\n",
       "      <td>0.05</td>\n",
       "    </tr>\n",
       "    <tr>\n",
       "      <td>Racing</td>\n",
       "      <td>17.22</td>\n",
       "      <td>0.04</td>\n",
       "    </tr>\n",
       "  </tbody>\n",
       "</table>\n",
       "</div>"
      ],
      "text/plain": [
       "          na_sales_sum  na_sales_median\n",
       "genre                                  \n",
       "Shooter         144.77             0.20\n",
       "Platform         25.38             0.09\n",
       "Sports           81.53             0.08\n",
       "Fighting         19.79             0.05\n",
       "Racing           17.22             0.04"
      ]
     },
     "metadata": {},
     "output_type": "display_data"
    },
    {
     "data": {
      "text/html": [
       "<div>\n",
       "<style scoped>\n",
       "    .dataframe tbody tr th:only-of-type {\n",
       "        vertical-align: middle;\n",
       "    }\n",
       "\n",
       "    .dataframe tbody tr th {\n",
       "        vertical-align: top;\n",
       "    }\n",
       "\n",
       "    .dataframe thead th {\n",
       "        text-align: right;\n",
       "    }\n",
       "</style>\n",
       "<table border=\"1\" class=\"dataframe\">\n",
       "  <thead>\n",
       "    <tr style=\"text-align: right;\">\n",
       "      <th></th>\n",
       "      <th>eu_sales_sum</th>\n",
       "      <th>eu_sales_median</th>\n",
       "    </tr>\n",
       "    <tr>\n",
       "      <th>genre</th>\n",
       "      <th></th>\n",
       "      <th></th>\n",
       "    </tr>\n",
       "  </thead>\n",
       "  <tbody>\n",
       "    <tr>\n",
       "      <td>Shooter</td>\n",
       "      <td>113.47</td>\n",
       "      <td>0.17</td>\n",
       "    </tr>\n",
       "    <tr>\n",
       "      <td>Racing</td>\n",
       "      <td>27.29</td>\n",
       "      <td>0.09</td>\n",
       "    </tr>\n",
       "    <tr>\n",
       "      <td>Platform</td>\n",
       "      <td>21.41</td>\n",
       "      <td>0.08</td>\n",
       "    </tr>\n",
       "    <tr>\n",
       "      <td>Sports</td>\n",
       "      <td>69.09</td>\n",
       "      <td>0.05</td>\n",
       "    </tr>\n",
       "    <tr>\n",
       "      <td>Simulation</td>\n",
       "      <td>14.55</td>\n",
       "      <td>0.03</td>\n",
       "    </tr>\n",
       "  </tbody>\n",
       "</table>\n",
       "</div>"
      ],
      "text/plain": [
       "            eu_sales_sum  eu_sales_median\n",
       "genre                                    \n",
       "Shooter           113.47             0.17\n",
       "Racing             27.29             0.09\n",
       "Platform           21.41             0.08\n",
       "Sports             69.09             0.05\n",
       "Simulation         14.55             0.03"
      ]
     },
     "metadata": {},
     "output_type": "display_data"
    },
    {
     "data": {
      "text/html": [
       "<div>\n",
       "<style scoped>\n",
       "    .dataframe tbody tr th:only-of-type {\n",
       "        vertical-align: middle;\n",
       "    }\n",
       "\n",
       "    .dataframe tbody tr th {\n",
       "        vertical-align: top;\n",
       "    }\n",
       "\n",
       "    .dataframe thead th {\n",
       "        text-align: right;\n",
       "    }\n",
       "</style>\n",
       "<table border=\"1\" class=\"dataframe\">\n",
       "  <thead>\n",
       "    <tr style=\"text-align: right;\">\n",
       "      <th></th>\n",
       "      <th>jp_sales_sum</th>\n",
       "      <th>jp_sales_median</th>\n",
       "    </tr>\n",
       "    <tr>\n",
       "      <th>genre</th>\n",
       "      <th></th>\n",
       "      <th></th>\n",
       "    </tr>\n",
       "  </thead>\n",
       "  <tbody>\n",
       "    <tr>\n",
       "      <td>Role-Playing</td>\n",
       "      <td>65.44</td>\n",
       "      <td>0.06</td>\n",
       "    </tr>\n",
       "    <tr>\n",
       "      <td>Fighting</td>\n",
       "      <td>9.44</td>\n",
       "      <td>0.03</td>\n",
       "    </tr>\n",
       "    <tr>\n",
       "      <td>Misc</td>\n",
       "      <td>12.86</td>\n",
       "      <td>0.02</td>\n",
       "    </tr>\n",
       "    <tr>\n",
       "      <td>Action</td>\n",
       "      <td>52.80</td>\n",
       "      <td>0.01</td>\n",
       "    </tr>\n",
       "    <tr>\n",
       "      <td>Adventure</td>\n",
       "      <td>8.24</td>\n",
       "      <td>0.01</td>\n",
       "    </tr>\n",
       "  </tbody>\n",
       "</table>\n",
       "</div>"
      ],
      "text/plain": [
       "              jp_sales_sum  jp_sales_median\n",
       "genre                                      \n",
       "Role-Playing         65.44             0.06\n",
       "Fighting              9.44             0.03\n",
       "Misc                 12.86             0.02\n",
       "Action               52.80             0.01\n",
       "Adventure             8.24             0.01"
      ]
     },
     "metadata": {},
     "output_type": "display_data"
    }
   ],
   "source": [
    "for i in ['na_sales', 'eu_sales', 'jp_sales']:\n",
    "    data = df.pivot_table(index='genre', values=i, aggfunc=['sum', 'median'])\n",
    "    data.columns = [f'{i}_sum', f'{i}_median']\n",
    "    display(data.sort_values(f'{i}_median', ascending=False).head())"
   ]
  },
  {
   "cell_type": "markdown",
   "metadata": {},
   "source": [
    "Здесь стоит отметить специфику японского региона. Можно проследить, что жанры предпочитаемые в Америке и Европе, практически  идентичен, в то время как в Японии топ-5 жанров выглядит совсем подругому."
   ]
  },
  {
   "cell_type": "markdown",
   "metadata": {},
   "source": [
    "### Влияние рейтинга ESRB на продажи в регионах\n",
    "Важно определить как возрастные ограничения влияют на продаваемость игр в отдельном регионе. Создадим сводную таблицу сгруппированую по рейтингу ESRB:"
   ]
  },
  {
   "cell_type": "code",
   "execution_count": 34,
   "metadata": {},
   "outputs": [
    {
     "data": {
      "text/html": [
       "<div>\n",
       "<style scoped>\n",
       "    .dataframe tbody tr th:only-of-type {\n",
       "        vertical-align: middle;\n",
       "    }\n",
       "\n",
       "    .dataframe tbody tr th {\n",
       "        vertical-align: top;\n",
       "    }\n",
       "\n",
       "    .dataframe thead th {\n",
       "        text-align: right;\n",
       "    }\n",
       "</style>\n",
       "<table border=\"1\" class=\"dataframe\">\n",
       "  <thead>\n",
       "    <tr style=\"text-align: right;\">\n",
       "      <th></th>\n",
       "      <th>eu_sales</th>\n",
       "      <th>jp_sales</th>\n",
       "      <th>na_sales</th>\n",
       "      <th>other_sales</th>\n",
       "    </tr>\n",
       "    <tr>\n",
       "      <th>rating</th>\n",
       "      <th></th>\n",
       "      <th></th>\n",
       "      <th></th>\n",
       "      <th></th>\n",
       "    </tr>\n",
       "  </thead>\n",
       "  <tbody>\n",
       "    <tr>\n",
       "      <td>M</td>\n",
       "      <td>193.96</td>\n",
       "      <td>21.20</td>\n",
       "      <td>231.57</td>\n",
       "      <td>63.38</td>\n",
       "    </tr>\n",
       "    <tr>\n",
       "      <td>E</td>\n",
       "      <td>113.03</td>\n",
       "      <td>28.33</td>\n",
       "      <td>114.37</td>\n",
       "      <td>31.44</td>\n",
       "    </tr>\n",
       "    <tr>\n",
       "      <td>undefined</td>\n",
       "      <td>91.50</td>\n",
       "      <td>108.84</td>\n",
       "      <td>103.31</td>\n",
       "      <td>27.17</td>\n",
       "    </tr>\n",
       "    <tr>\n",
       "      <td>E10+</td>\n",
       "      <td>55.37</td>\n",
       "      <td>8.19</td>\n",
       "      <td>75.70</td>\n",
       "      <td>16.23</td>\n",
       "    </tr>\n",
       "    <tr>\n",
       "      <td>T</td>\n",
       "      <td>52.96</td>\n",
       "      <td>26.02</td>\n",
       "      <td>66.02</td>\n",
       "      <td>17.94</td>\n",
       "    </tr>\n",
       "  </tbody>\n",
       "</table>\n",
       "</div>"
      ],
      "text/plain": [
       "           eu_sales  jp_sales  na_sales  other_sales\n",
       "rating                                              \n",
       "M            193.96     21.20    231.57        63.38\n",
       "E            113.03     28.33    114.37        31.44\n",
       "undefined     91.50    108.84    103.31        27.17\n",
       "E10+          55.37      8.19     75.70        16.23\n",
       "T             52.96     26.02     66.02        17.94"
      ]
     },
     "execution_count": 34,
     "metadata": {},
     "output_type": "execute_result"
    }
   ],
   "source": [
    "df.pivot_table(index='rating', values=['na_sales', 'eu_sales', 'jp_sales', 'other_sales'], aggfunc='sum').sort_values('eu_sales', ascending=False)"
   ]
  },
  {
   "cell_type": "markdown",
   "metadata": {},
   "source": [
    "Несомненно рейтинг влияет на продажи, и это справедливо для каждого региона. Наиболее активно продаюстя игры с рейтингом 17, затем идут 6+, игры без рейтинга, 10+, 13+... Однако очень важно заметить, что это совершенно не относится к японскому региону. Он максимально специфичен и не входит в общие рамки. В большей степени покупаемы игры без рейтинга, затем идут рейтинги: 6+, 13+, 17+, 10+ и тд. \n",
    "\n",
    "Мое личное предположение, что пользователи этого региона покупают в основном свои игры, которым попросту не присвоин рейтинг, из-за всемирной неактуальности, отсюда и другой список популярных жанров для Японии, просто совершенно другие интересы и свой собственный рынок для этого региона."
   ]
  },
  {
   "cell_type": "markdown",
   "metadata": {},
   "source": [
    "### Вывод\n",
    "В этом разделе был составлен портрет пользователя каждого региона. Это необходимо для решения поставленной задачи, поскольку важно знать интересы и предпочтения, а также важные особенности и специфики, в различных регионах."
   ]
  },
  {
   "cell_type": "markdown",
   "metadata": {},
   "source": [
    "## Проверка гипотез"
   ]
  },
  {
   "cell_type": "markdown",
   "metadata": {},
   "source": [
    "### Проверка гипотезы: cредние пользовательские рейтинги платформ Xbox One и PC одинаковые"
   ]
  },
  {
   "cell_type": "markdown",
   "metadata": {},
   "source": [
    "Проверим одинаковы ли средние значения пользовательского рейтинга для платформ *Xbox One* и *PC*. В этом поможет метод *ttest_ind* из библиотеки stats модуля scipy.\n",
    "\n",
    "Прежде всего нужно строго сформулировать нулевую и альтернативную ей теории:\n",
    "\n",
    "Нулевая теория(Н0) - cредние пользовательские рейтинги платформ Xbox One и PC **одинаковые**\n",
    "\n",
    "Альтернативная теория(Н1) - cредние пользовательские рейтинги платформ Xbox One и PC **разные**"
   ]
  },
  {
   "cell_type": "code",
   "execution_count": 35,
   "metadata": {},
   "outputs": [
    {
     "name": "stdout",
     "output_type": "stream",
     "text": [
      "p-значение: 0.5535080500643661\n",
      "Не удалось отвергнуть нулевую гипотезу.\n"
     ]
    }
   ],
   "source": [
    "array_PC = df[(df['platform'] == 'PC') & (df['user_score'].notnull())]['user_score']\n",
    "array_XOne = df[(df['platform'] == 'XOne') & (df['user_score'].notnull())]['user_score']\n",
    "\n",
    "alpha = 0.05\n",
    "\n",
    "results = st.ttest_ind(array_PC, array_XOne)\n",
    "\n",
    "print('p-значение:', results.pvalue)\n",
    "\n",
    "if results.pvalue < alpha:\n",
    "    print('Отвергаем нулевую гипотезу.')\n",
    "else:\n",
    "    print('Не удалось отвергнуть нулевую гипотезу.')"
   ]
  },
  {
   "cell_type": "markdown",
   "metadata": {},
   "source": [
    "В ходе исследования было получено очень высокое р-значение, всвязи с этим нулевую гипотезу просто невозможно отвергнуть, значит можно утверждать, что средние пользовательские рейтинги платформ Xbox One и PC предположительно **одинаковые**."
   ]
  },
  {
   "cell_type": "markdown",
   "metadata": {},
   "source": [
    "### Проверка гипотезы: cредние пользовательские рейтинги жанров Action и Sports разные"
   ]
  },
  {
   "cell_type": "markdown",
   "metadata": {},
   "source": [
    "Теперь исследуем другое предположение. Действительно ли средние значения пользовательского рейтинга жанров *Action* и *Sports* различны. В этом поможет тот же метод, который использовали для предыдущей гипотезы.\n",
    "\n",
    "Прежде всего нужно строго сформулировать нулевую и альтернативную ей теории:\n",
    "\n",
    "Нулевая теория(Н0) - cредние пользовательские рейтинги жанров Action и Sports **равны**\n",
    "\n",
    "Альтернативная теория(Н1) - cредние пользовательские рейтинги жанров Action и Sports **не равны**"
   ]
  },
  {
   "cell_type": "code",
   "execution_count": 36,
   "metadata": {},
   "outputs": [
    {
     "name": "stdout",
     "output_type": "stream",
     "text": [
      "p-значение: 3.716308946093486e-26\n",
      "Отвергаем нулевую гипотезу.\n"
     ]
    }
   ],
   "source": [
    "array_A = df[(df['genre'] == 'Action') & (df['user_score'].notnull())]['user_score']\n",
    "array_S = df[(df['genre'] == 'Sports') & (df['user_score'].notnull())]['user_score']\n",
    "\n",
    "alpha = 0.05\n",
    "\n",
    "results = st.ttest_ind(array_A, array_S)\n",
    "\n",
    "print('p-значение:', results.pvalue)\n",
    "\n",
    "if results.pvalue < alpha:\n",
    "    print('Отвергаем нулевую гипотезу.')\n",
    "else:\n",
    "    print('Не удалось отвергнуть нулевую гипотезу.')"
   ]
  },
  {
   "cell_type": "markdown",
   "metadata": {},
   "source": [
    "Нулевая гипотеза определенно отвергнута, а значит **нельзя** утверждать, что cредние пользовательские рейтинги жанров Action и Sports **одинаковые**. Следовательно гипотеза о **различии** средних пользовательских оценок **подтвердилась**."
   ]
  },
  {
   "cell_type": "markdown",
   "metadata": {},
   "source": [
    "### Вывод\n",
    "В настоящем шаге исследовательского проекта, с помощью статистических методов анализа данных, были проверены две гипотезы, и обе гипотезы были подтверждены."
   ]
  },
  {
   "cell_type": "markdown",
   "metadata": {},
   "source": [
    "## Общий вывод"
   ]
  },
  {
   "cell_type": "markdown",
   "metadata": {},
   "source": [
    "Проделав данную проектную работу, мне удалось вспомнить и закрепить знания полученные за весь модуль. А так же выполинить задачу поставленню заказчиком, по выявлению закономерностей определяющих успешность игры. Чтобы определить успешную игру необходимо учесть некоторые факторы:\n",
    "- Потенциально успешная платформа. Не стоит продвигать продукты разработанные для не самых успешных и непопулярных платформ, а также для устаревших игровых средсв. На 2017 год к перспективным можно отнести: *Xbox One, Play Station 4, WiiU, 3DS и PC*;\n",
    "- Рейтинги критиков и пользователей. В первую очередь необходимь ориентироваться на игры, отзывы критиков о которых имеют высокие показатели;\n",
    "- Жанр игры. Несомнено во главе стоит ставить распространение игр с самыми успешными и популярными жанрами (прежде всего *Shooting*, затем *Platform, Racing, Fighting и Sports*);\n",
    "- Рейтинг *ESRB*. Наибольшее число продаж имеют игры для детей и подростков;\n",
    "- Регион. Очень важно учитывать интересы пользователей региона в котором игра будет продвигаться.\n",
    "Все это просто необходимо при определении потенциально успешного продукта и планировании рекламной компании."
   ]
  }
 ],
 "metadata": {
  "ExecuteTimeLog": [
   {
    "duration": 936,
    "start_time": "2021-09-28T18:52:48.659Z"
   },
   {
    "duration": 108,
    "start_time": "2021-09-28T18:55:15.999Z"
   },
   {
    "duration": 466,
    "start_time": "2021-09-28T18:57:04.757Z"
   },
   {
    "duration": 76,
    "start_time": "2021-09-28T18:57:05.978Z"
   },
   {
    "duration": 4,
    "start_time": "2021-09-28T18:59:14.736Z"
   },
   {
    "duration": 68,
    "start_time": "2021-09-28T19:14:02.878Z"
   },
   {
    "duration": 322,
    "start_time": "2021-09-28T19:14:52.114Z"
   },
   {
    "duration": 82,
    "start_time": "2021-09-28T19:15:01.956Z"
   },
   {
    "duration": 213,
    "start_time": "2021-09-29T13:36:44.592Z"
   },
   {
    "duration": 169,
    "start_time": "2021-09-29T13:36:48.047Z"
   },
   {
    "duration": 1113,
    "start_time": "2021-09-29T13:36:54.788Z"
   },
   {
    "duration": 63,
    "start_time": "2021-09-29T13:36:55.904Z"
   },
   {
    "duration": 4,
    "start_time": "2021-09-29T13:36:55.969Z"
   },
   {
    "duration": 367,
    "start_time": "2021-09-29T13:56:50.952Z"
   },
   {
    "duration": 212,
    "start_time": "2021-09-29T13:57:05.486Z"
   },
   {
    "duration": 5,
    "start_time": "2021-09-29T14:03:19.342Z"
   },
   {
    "duration": 5,
    "start_time": "2021-09-29T14:03:29.210Z"
   },
   {
    "duration": 5,
    "start_time": "2021-09-29T14:04:03.541Z"
   },
   {
    "duration": 5,
    "start_time": "2021-09-29T14:04:13.784Z"
   },
   {
    "duration": 6,
    "start_time": "2021-09-29T14:04:21.406Z"
   },
   {
    "duration": 5,
    "start_time": "2021-09-29T14:04:26.232Z"
   },
   {
    "duration": 4,
    "start_time": "2021-09-29T14:07:51.487Z"
   },
   {
    "duration": 20,
    "start_time": "2021-09-29T14:07:53.965Z"
   },
   {
    "duration": 4,
    "start_time": "2021-09-29T14:08:16.069Z"
   },
   {
    "duration": 4867,
    "start_time": "2021-09-29T14:12:56.742Z"
   },
   {
    "duration": 8,
    "start_time": "2021-09-29T14:13:17.150Z"
   },
   {
    "duration": 6,
    "start_time": "2021-09-29T14:17:55.996Z"
   },
   {
    "duration": 6,
    "start_time": "2021-09-29T14:18:31.956Z"
   },
   {
    "duration": 6,
    "start_time": "2021-09-29T14:18:46.981Z"
   },
   {
    "duration": 13,
    "start_time": "2021-09-29T14:18:54.927Z"
   },
   {
    "duration": 5,
    "start_time": "2021-09-29T14:19:23.486Z"
   },
   {
    "duration": 408,
    "start_time": "2021-09-29T14:20:58.160Z"
   },
   {
    "duration": 183,
    "start_time": "2021-09-29T14:21:37.280Z"
   },
   {
    "duration": 231,
    "start_time": "2021-09-29T14:21:44.801Z"
   },
   {
    "duration": 9,
    "start_time": "2021-09-29T14:21:55.581Z"
   },
   {
    "duration": 19,
    "start_time": "2021-09-29T14:25:43.496Z"
   },
   {
    "duration": 451,
    "start_time": "2021-09-29T14:26:01.961Z"
   },
   {
    "duration": 22,
    "start_time": "2021-09-29T14:27:09.381Z"
   },
   {
    "duration": 17,
    "start_time": "2021-09-29T14:27:21.528Z"
   },
   {
    "duration": 21,
    "start_time": "2021-09-29T14:27:35.549Z"
   },
   {
    "duration": 19,
    "start_time": "2021-09-29T14:27:42.546Z"
   },
   {
    "duration": 13,
    "start_time": "2021-09-29T14:27:48.193Z"
   },
   {
    "duration": 14,
    "start_time": "2021-09-29T14:27:53.373Z"
   },
   {
    "duration": 15,
    "start_time": "2021-09-29T14:28:44.822Z"
   },
   {
    "duration": 16,
    "start_time": "2021-09-29T14:29:22.381Z"
   },
   {
    "duration": 36,
    "start_time": "2021-09-29T14:29:35.792Z"
   },
   {
    "duration": 187,
    "start_time": "2021-09-29T14:31:24.146Z"
   },
   {
    "duration": 29,
    "start_time": "2021-09-29T14:31:29.134Z"
   },
   {
    "duration": 188,
    "start_time": "2021-09-29T14:33:16.849Z"
   },
   {
    "duration": 63,
    "start_time": "2021-09-29T14:35:15.792Z"
   },
   {
    "duration": 82,
    "start_time": "2021-09-29T14:35:20.021Z"
   },
   {
    "duration": 6,
    "start_time": "2021-09-29T14:35:33.519Z"
   },
   {
    "duration": 6,
    "start_time": "2021-09-29T14:36:03.249Z"
   },
   {
    "duration": 6,
    "start_time": "2021-09-29T14:36:08.168Z"
   },
   {
    "duration": 980,
    "start_time": "2021-09-29T14:37:32.150Z"
   },
   {
    "duration": 64,
    "start_time": "2021-09-29T14:37:33.132Z"
   },
   {
    "duration": 13,
    "start_time": "2021-09-29T14:37:33.200Z"
   },
   {
    "duration": 271,
    "start_time": "2021-09-29T14:37:33.214Z"
   },
   {
    "duration": 623,
    "start_time": "2021-09-29T14:37:32.865Z"
   },
   {
    "duration": 4,
    "start_time": "2021-09-29T15:19:25.958Z"
   },
   {
    "duration": 7,
    "start_time": "2021-09-29T15:26:19.408Z"
   },
   {
    "duration": 3,
    "start_time": "2021-09-29T15:41:33.360Z"
   },
   {
    "duration": 4,
    "start_time": "2021-09-29T15:41:48.294Z"
   },
   {
    "duration": 3,
    "start_time": "2021-09-29T15:41:54.711Z"
   },
   {
    "duration": 174,
    "start_time": "2021-09-29T15:42:04.783Z"
   },
   {
    "duration": 3,
    "start_time": "2021-09-29T15:42:13.787Z"
   },
   {
    "duration": 186,
    "start_time": "2021-09-29T15:42:26.765Z"
   },
   {
    "duration": 4,
    "start_time": "2021-09-29T15:42:29.970Z"
   },
   {
    "duration": 4,
    "start_time": "2021-09-29T15:42:37.030Z"
   },
   {
    "duration": 7,
    "start_time": "2021-09-29T15:44:11.556Z"
   },
   {
    "duration": 5,
    "start_time": "2021-09-29T15:44:25.182Z"
   },
   {
    "duration": 5,
    "start_time": "2021-09-29T15:44:36.605Z"
   },
   {
    "duration": 3,
    "start_time": "2021-09-29T15:44:53.206Z"
   },
   {
    "duration": 6,
    "start_time": "2021-09-29T15:44:55.695Z"
   },
   {
    "duration": 198,
    "start_time": "2021-09-29T15:52:44.710Z"
   },
   {
    "duration": 426,
    "start_time": "2021-09-30T09:17:06.029Z"
   },
   {
    "duration": 1317,
    "start_time": "2021-09-30T09:17:11.502Z"
   },
   {
    "duration": 81,
    "start_time": "2021-09-30T09:17:12.822Z"
   },
   {
    "duration": 19,
    "start_time": "2021-09-30T09:17:12.906Z"
   },
   {
    "duration": 485,
    "start_time": "2021-09-30T09:17:12.928Z"
   },
   {
    "duration": 1068,
    "start_time": "2021-09-30T09:17:12.348Z"
   },
   {
    "duration": 9,
    "start_time": "2021-09-30T09:17:21.923Z"
   },
   {
    "duration": 10,
    "start_time": "2021-09-30T09:18:37.156Z"
   },
   {
    "duration": 18,
    "start_time": "2021-09-30T09:18:47.186Z"
   },
   {
    "duration": 476,
    "start_time": "2021-09-30T09:19:51.885Z"
   },
   {
    "duration": 597,
    "start_time": "2021-09-30T09:21:21.452Z"
   },
   {
    "duration": 2632,
    "start_time": "2021-09-30T09:21:30.275Z"
   },
   {
    "duration": 19,
    "start_time": "2021-09-30T09:25:40.667Z"
   },
   {
    "duration": 6,
    "start_time": "2021-09-30T09:26:13.110Z"
   },
   {
    "duration": 20,
    "start_time": "2021-09-30T09:27:11.223Z"
   },
   {
    "duration": 7,
    "start_time": "2021-09-30T09:27:14.523Z"
   },
   {
    "duration": 3136,
    "start_time": "2021-09-30T09:27:45.649Z"
   },
   {
    "duration": 8,
    "start_time": "2021-09-30T09:27:55.567Z"
   },
   {
    "duration": 342,
    "start_time": "2021-09-30T09:28:40.628Z"
   },
   {
    "duration": 384,
    "start_time": "2021-09-30T09:28:51.268Z"
   },
   {
    "duration": 455,
    "start_time": "2021-09-30T09:28:55.218Z"
   },
   {
    "duration": 28,
    "start_time": "2021-09-30T09:29:45.871Z"
   },
   {
    "duration": 8,
    "start_time": "2021-09-30T09:29:49.560Z"
   },
   {
    "duration": 10921,
    "start_time": "2021-09-30T09:39:57.428Z"
   },
   {
    "duration": 9,
    "start_time": "2021-09-30T09:40:09.481Z"
   },
   {
    "duration": 326,
    "start_time": "2021-09-30T09:40:22.846Z"
   },
   {
    "duration": 8,
    "start_time": "2021-09-30T09:40:34.829Z"
   },
   {
    "duration": 22,
    "start_time": "2021-09-30T09:41:08.544Z"
   },
   {
    "duration": 21,
    "start_time": "2021-09-30T09:42:45.802Z"
   },
   {
    "duration": 41,
    "start_time": "2021-09-30T09:52:52.816Z"
   },
   {
    "duration": 24,
    "start_time": "2021-09-30T09:56:11.938Z"
   },
   {
    "duration": 386,
    "start_time": "2021-09-30T09:56:43.548Z"
   },
   {
    "duration": 622,
    "start_time": "2021-09-30T09:56:59.292Z"
   },
   {
    "duration": 533,
    "start_time": "2021-09-30T10:04:14.925Z"
   },
   {
    "duration": 526,
    "start_time": "2021-09-30T10:05:40.962Z"
   },
   {
    "duration": 615,
    "start_time": "2021-09-30T10:05:50.911Z"
   },
   {
    "duration": 560,
    "start_time": "2021-09-30T10:07:05.485Z"
   },
   {
    "duration": 39,
    "start_time": "2021-09-30T10:07:52.944Z"
   },
   {
    "duration": 120,
    "start_time": "2021-09-30T10:14:46.279Z"
   },
   {
    "duration": 83,
    "start_time": "2021-09-30T10:14:55.682Z"
   },
   {
    "duration": 6,
    "start_time": "2021-09-30T10:16:09.395Z"
   },
   {
    "duration": 38,
    "start_time": "2021-09-30T10:18:35.251Z"
   },
   {
    "duration": 34,
    "start_time": "2021-09-30T10:18:53.308Z"
   },
   {
    "duration": 39,
    "start_time": "2021-09-30T10:19:11.021Z"
   },
   {
    "duration": 439,
    "start_time": "2021-09-30T10:20:48.007Z"
   },
   {
    "duration": 32,
    "start_time": "2021-09-30T10:20:53.953Z"
   },
   {
    "duration": 395,
    "start_time": "2021-09-30T10:21:32.528Z"
   },
   {
    "duration": 23,
    "start_time": "2021-09-30T10:21:40.494Z"
   },
   {
    "duration": 57,
    "start_time": "2021-09-30T10:21:47.341Z"
   },
   {
    "duration": 358,
    "start_time": "2021-09-30T10:23:55.808Z"
   },
   {
    "duration": 24,
    "start_time": "2021-09-30T10:24:49.461Z"
   },
   {
    "duration": 25,
    "start_time": "2021-09-30T10:25:06.767Z"
   },
   {
    "duration": 198,
    "start_time": "2021-09-30T10:26:04.837Z"
   },
   {
    "duration": 1679,
    "start_time": "2021-09-30T10:26:47.142Z"
   },
   {
    "duration": 2113,
    "start_time": "2021-09-30T10:28:52.797Z"
   },
   {
    "duration": 1674,
    "start_time": "2021-09-30T10:29:22.639Z"
   },
   {
    "duration": 671,
    "start_time": "2021-09-30T10:29:47.494Z"
   },
   {
    "duration": 1740,
    "start_time": "2021-09-30T10:32:16.161Z"
   },
   {
    "duration": 3643,
    "start_time": "2021-09-30T10:32:31.021Z"
   },
   {
    "duration": 1767,
    "start_time": "2021-09-30T10:35:03.559Z"
   },
   {
    "duration": 341,
    "start_time": "2021-09-30T10:39:33.321Z"
   },
   {
    "duration": 1692,
    "start_time": "2021-09-30T10:40:55.972Z"
   },
   {
    "duration": 102,
    "start_time": "2021-09-30T10:40:57.667Z"
   },
   {
    "duration": 36,
    "start_time": "2021-09-30T10:40:57.788Z"
   },
   {
    "duration": 63,
    "start_time": "2021-09-30T10:40:57.828Z"
   },
   {
    "duration": 21,
    "start_time": "2021-09-30T10:40:57.894Z"
   },
   {
    "duration": 26,
    "start_time": "2021-09-30T10:40:57.918Z"
   },
   {
    "duration": 71,
    "start_time": "2021-09-30T10:40:57.946Z"
   },
   {
    "duration": 682,
    "start_time": "2021-09-30T10:40:58.023Z"
   },
   {
    "duration": 28,
    "start_time": "2021-09-30T10:40:58.708Z"
   },
   {
    "duration": 2224,
    "start_time": "2021-09-30T10:40:58.740Z"
   },
   {
    "duration": 334,
    "start_time": "2021-09-30T10:41:00.966Z"
   },
   {
    "duration": 13,
    "start_time": "2021-09-30T10:41:35.897Z"
   },
   {
    "duration": 19,
    "start_time": "2021-09-30T10:41:53.995Z"
   },
   {
    "duration": 24,
    "start_time": "2021-09-30T10:42:03.553Z"
   },
   {
    "duration": 13,
    "start_time": "2021-09-30T10:42:47.504Z"
   },
   {
    "duration": 14,
    "start_time": "2021-09-30T10:43:31.246Z"
   },
   {
    "duration": 18,
    "start_time": "2021-09-30T10:44:43.759Z"
   },
   {
    "duration": 38,
    "start_time": "2021-09-30T10:45:37.977Z"
   },
   {
    "duration": 9,
    "start_time": "2021-09-30T10:46:03.813Z"
   },
   {
    "duration": 37,
    "start_time": "2021-09-30T10:46:15.738Z"
   },
   {
    "duration": 3,
    "start_time": "2021-09-30T10:46:21.354Z"
   },
   {
    "duration": 352,
    "start_time": "2021-09-30T10:46:52.144Z"
   },
   {
    "duration": 30,
    "start_time": "2021-09-30T10:56:56.442Z"
   },
   {
    "duration": 27,
    "start_time": "2021-09-30T10:57:03.700Z"
   },
   {
    "duration": 25,
    "start_time": "2021-09-30T10:57:07.420Z"
   },
   {
    "duration": 3451,
    "start_time": "2021-09-30T10:57:20.635Z"
   },
   {
    "duration": 3396,
    "start_time": "2021-09-30T10:58:29.409Z"
   },
   {
    "duration": 6581,
    "start_time": "2021-09-30T10:58:50.907Z"
   },
   {
    "duration": 3263,
    "start_time": "2021-09-30T10:59:16.732Z"
   },
   {
    "duration": 2774,
    "start_time": "2021-09-30T10:59:23.500Z"
   },
   {
    "duration": 9,
    "start_time": "2021-09-30T11:07:09.330Z"
   },
   {
    "duration": 36,
    "start_time": "2021-09-30T11:07:13.219Z"
   },
   {
    "duration": 13,
    "start_time": "2021-09-30T11:07:17.697Z"
   },
   {
    "duration": 527,
    "start_time": "2021-09-30T13:24:25.925Z"
   },
   {
    "duration": 145,
    "start_time": "2021-09-30T13:24:28.620Z"
   },
   {
    "duration": 7,
    "start_time": "2021-09-30T13:27:43.995Z"
   },
   {
    "duration": 2812,
    "start_time": "2021-09-30T13:28:53.440Z"
   },
   {
    "duration": 24,
    "start_time": "2021-09-30T13:32:42.946Z"
   },
   {
    "duration": 55,
    "start_time": "2021-09-30T13:32:46.189Z"
   },
   {
    "duration": 58,
    "start_time": "2021-09-30T13:33:31.294Z"
   },
   {
    "duration": 51,
    "start_time": "2021-09-30T13:34:04.250Z"
   },
   {
    "duration": 121,
    "start_time": "2021-09-30T13:42:39.977Z"
   },
   {
    "duration": 102,
    "start_time": "2021-09-30T13:43:27.148Z"
   },
   {
    "duration": 342,
    "start_time": "2021-09-30T13:43:32.562Z"
   },
   {
    "duration": 397,
    "start_time": "2021-09-30T13:43:46.697Z"
   },
   {
    "duration": 193,
    "start_time": "2021-09-30T13:44:00.205Z"
   },
   {
    "duration": 7,
    "start_time": "2021-09-30T13:44:05.632Z"
   },
   {
    "duration": 352,
    "start_time": "2021-09-30T13:44:22.389Z"
   },
   {
    "duration": 349,
    "start_time": "2021-09-30T13:44:30.347Z"
   },
   {
    "duration": 566,
    "start_time": "2021-09-30T13:44:37.475Z"
   },
   {
    "duration": 597,
    "start_time": "2021-09-30T13:51:28.268Z"
   },
   {
    "duration": 655,
    "start_time": "2021-09-30T13:51:34.963Z"
   },
   {
    "duration": 34,
    "start_time": "2021-09-30T13:54:25.899Z"
   },
   {
    "duration": 23,
    "start_time": "2021-09-30T13:55:56.615Z"
   },
   {
    "duration": 33,
    "start_time": "2021-09-30T13:58:56.948Z"
   },
   {
    "duration": 21,
    "start_time": "2021-09-30T14:02:21.948Z"
   },
   {
    "duration": 31,
    "start_time": "2021-09-30T14:02:43.410Z"
   },
   {
    "duration": 312,
    "start_time": "2021-09-30T14:03:54.474Z"
   },
   {
    "duration": 305,
    "start_time": "2021-09-30T14:04:12.826Z"
   },
   {
    "duration": 411,
    "start_time": "2021-09-30T14:04:21.120Z"
   },
   {
    "duration": 284,
    "start_time": "2021-09-30T14:06:03.047Z"
   },
   {
    "duration": 285,
    "start_time": "2021-09-30T14:09:48.976Z"
   },
   {
    "duration": 23,
    "start_time": "2021-09-30T14:09:54.034Z"
   },
   {
    "duration": 25,
    "start_time": "2021-09-30T14:10:02.118Z"
   },
   {
    "duration": 5853,
    "start_time": "2021-09-30T14:12:16.098Z"
   },
   {
    "duration": 3,
    "start_time": "2021-09-30T14:12:23.887Z"
   },
   {
    "duration": 6293,
    "start_time": "2021-09-30T14:15:04.917Z"
   },
   {
    "duration": 10850,
    "start_time": "2021-09-30T14:15:55.628Z"
   },
   {
    "duration": 295,
    "start_time": "2021-09-30T14:18:11.072Z"
   },
   {
    "duration": 653,
    "start_time": "2021-09-30T14:23:15.256Z"
   },
   {
    "duration": 8779,
    "start_time": "2021-09-30T14:23:28.709Z"
   },
   {
    "duration": 9113,
    "start_time": "2021-09-30T14:25:03.013Z"
   },
   {
    "duration": 948,
    "start_time": "2021-09-30T14:26:18.681Z"
   },
   {
    "duration": 1052,
    "start_time": "2021-09-30T14:26:51.074Z"
   },
   {
    "duration": 8603,
    "start_time": "2021-09-30T14:27:59.810Z"
   },
   {
    "duration": 9805,
    "start_time": "2021-09-30T14:28:23.853Z"
   },
   {
    "duration": 8816,
    "start_time": "2021-09-30T14:28:47.932Z"
   },
   {
    "duration": 10980,
    "start_time": "2021-09-30T14:29:22.809Z"
   },
   {
    "duration": 8345,
    "start_time": "2021-09-30T14:29:54.522Z"
   },
   {
    "duration": 8591,
    "start_time": "2021-09-30T14:31:10.706Z"
   },
   {
    "duration": 138,
    "start_time": "2021-09-30T14:31:29.890Z"
   },
   {
    "duration": 8018,
    "start_time": "2021-09-30T14:31:37.300Z"
   },
   {
    "duration": 32,
    "start_time": "2021-09-30T16:00:07.951Z"
   },
   {
    "duration": 243,
    "start_time": "2021-09-30T16:00:32.443Z"
   },
   {
    "duration": 34,
    "start_time": "2021-09-30T16:00:48.221Z"
   },
   {
    "duration": 1408,
    "start_time": "2021-09-30T17:10:53.911Z"
   },
   {
    "duration": 95,
    "start_time": "2021-09-30T17:10:55.322Z"
   },
   {
    "duration": 19,
    "start_time": "2021-09-30T17:10:55.420Z"
   },
   {
    "duration": 54,
    "start_time": "2021-09-30T17:10:55.442Z"
   },
   {
    "duration": 15,
    "start_time": "2021-09-30T17:10:55.500Z"
   },
   {
    "duration": 20,
    "start_time": "2021-09-30T17:10:55.518Z"
   },
   {
    "duration": 70,
    "start_time": "2021-09-30T17:10:55.540Z"
   },
   {
    "duration": 591,
    "start_time": "2021-09-30T17:10:55.614Z"
   },
   {
    "duration": 26,
    "start_time": "2021-09-30T17:10:56.213Z"
   },
   {
    "duration": 3138,
    "start_time": "2021-09-30T17:10:56.242Z"
   },
   {
    "duration": 27,
    "start_time": "2021-09-30T17:10:59.385Z"
   },
   {
    "duration": 8,
    "start_time": "2021-09-30T17:10:59.415Z"
   },
   {
    "duration": 406,
    "start_time": "2021-09-30T17:10:59.425Z"
   },
   {
    "duration": 9,
    "start_time": "2021-09-30T17:10:59.834Z"
   },
   {
    "duration": 7,
    "start_time": "2021-09-30T17:10:59.845Z"
   },
   {
    "duration": 84,
    "start_time": "2021-09-30T17:10:59.855Z"
   },
   {
    "duration": 9444,
    "start_time": "2021-09-30T17:10:59.942Z"
   },
   {
    "duration": 3,
    "start_time": "2021-09-30T17:11:09.389Z"
   },
   {
    "duration": 41,
    "start_time": "2021-09-30T17:11:09.397Z"
   },
   {
    "duration": 236,
    "start_time": "2021-09-30T17:11:45.132Z"
   },
   {
    "duration": 10,
    "start_time": "2021-09-30T17:31:06.260Z"
   },
   {
    "duration": 37,
    "start_time": "2021-09-30T17:31:10.422Z"
   },
   {
    "duration": 24,
    "start_time": "2021-09-30T17:31:16.936Z"
   },
   {
    "duration": 21,
    "start_time": "2021-09-30T17:31:36.349Z"
   },
   {
    "duration": 30,
    "start_time": "2021-09-30T17:31:40.072Z"
   },
   {
    "duration": 16,
    "start_time": "2021-09-30T17:32:48.672Z"
   },
   {
    "duration": 28,
    "start_time": "2021-09-30T17:33:00.316Z"
   },
   {
    "duration": 737,
    "start_time": "2021-09-30T17:35:02.082Z"
   },
   {
    "duration": 784,
    "start_time": "2021-09-30T17:37:26.445Z"
   },
   {
    "duration": 344,
    "start_time": "2021-09-30T17:38:14.729Z"
   },
   {
    "duration": 369,
    "start_time": "2021-09-30T17:39:01.795Z"
   },
   {
    "duration": 426,
    "start_time": "2021-09-30T17:39:14.388Z"
   },
   {
    "duration": 1424,
    "start_time": "2021-09-30T17:46:17.905Z"
   },
   {
    "duration": 91,
    "start_time": "2021-09-30T17:46:19.332Z"
   },
   {
    "duration": 19,
    "start_time": "2021-09-30T17:46:19.426Z"
   },
   {
    "duration": 72,
    "start_time": "2021-09-30T17:46:19.448Z"
   },
   {
    "duration": 7,
    "start_time": "2021-09-30T17:46:19.523Z"
   },
   {
    "duration": 21,
    "start_time": "2021-09-30T17:46:19.532Z"
   },
   {
    "duration": 71,
    "start_time": "2021-09-30T17:46:19.555Z"
   },
   {
    "duration": 580,
    "start_time": "2021-09-30T17:46:19.629Z"
   },
   {
    "duration": 26,
    "start_time": "2021-09-30T17:46:20.212Z"
   },
   {
    "duration": 3066,
    "start_time": "2021-09-30T17:46:20.240Z"
   },
   {
    "duration": 19,
    "start_time": "2021-09-30T17:46:23.309Z"
   },
   {
    "duration": 3,
    "start_time": "2021-09-30T17:46:23.330Z"
   },
   {
    "duration": 395,
    "start_time": "2021-09-30T17:46:23.335Z"
   },
   {
    "duration": 9,
    "start_time": "2021-09-30T17:46:23.733Z"
   },
   {
    "duration": 7,
    "start_time": "2021-09-30T17:46:23.745Z"
   },
   {
    "duration": 84,
    "start_time": "2021-09-30T17:46:23.754Z"
   },
   {
    "duration": 9071,
    "start_time": "2021-09-30T17:46:23.840Z"
   },
   {
    "duration": 4,
    "start_time": "2021-09-30T17:46:32.914Z"
   },
   {
    "duration": 272,
    "start_time": "2021-09-30T17:46:32.921Z"
   },
   {
    "duration": 31,
    "start_time": "2021-09-30T17:46:33.196Z"
   },
   {
    "duration": 21,
    "start_time": "2021-09-30T17:46:33.230Z"
   },
   {
    "duration": 361,
    "start_time": "2021-09-30T17:46:33.285Z"
   },
   {
    "duration": 22,
    "start_time": "2021-09-30T18:13:14.092Z"
   },
   {
    "duration": 392,
    "start_time": "2021-09-30T18:13:58.026Z"
   },
   {
    "duration": 27,
    "start_time": "2021-09-30T18:14:05.619Z"
   },
   {
    "duration": 27,
    "start_time": "2021-09-30T18:15:52.401Z"
   },
   {
    "duration": 36,
    "start_time": "2021-09-30T18:16:06.276Z"
   },
   {
    "duration": 41,
    "start_time": "2021-09-30T18:16:33.361Z"
   },
   {
    "duration": 37,
    "start_time": "2021-09-30T18:17:29.792Z"
   },
   {
    "duration": 75,
    "start_time": "2021-09-30T18:19:40.069Z"
   },
   {
    "duration": 56,
    "start_time": "2021-09-30T18:25:08.764Z"
   },
   {
    "duration": 63,
    "start_time": "2021-09-30T18:29:56.823Z"
   },
   {
    "duration": 173,
    "start_time": "2021-09-30T18:30:23.614Z"
   },
   {
    "duration": 46,
    "start_time": "2021-09-30T18:32:21.751Z"
   },
   {
    "duration": 88,
    "start_time": "2021-09-30T18:32:30.104Z"
   },
   {
    "duration": 9,
    "start_time": "2021-09-30T18:34:12.860Z"
   },
   {
    "duration": 104,
    "start_time": "2021-09-30T18:37:54.924Z"
   },
   {
    "duration": 353,
    "start_time": "2021-09-30T18:38:12.817Z"
   },
   {
    "duration": 38,
    "start_time": "2021-09-30T18:38:16.355Z"
   },
   {
    "duration": 12,
    "start_time": "2021-09-30T18:38:39.785Z"
   },
   {
    "duration": 7,
    "start_time": "2021-09-30T18:39:07.553Z"
   },
   {
    "duration": 35,
    "start_time": "2021-09-30T18:39:11.075Z"
   },
   {
    "duration": 6,
    "start_time": "2021-09-30T18:43:20.984Z"
   },
   {
    "duration": 23,
    "start_time": "2021-09-30T18:47:25.267Z"
   },
   {
    "duration": 23,
    "start_time": "2021-09-30T18:48:07.043Z"
   },
   {
    "duration": 33,
    "start_time": "2021-09-30T18:49:13.355Z"
   },
   {
    "duration": 47,
    "start_time": "2021-09-30T18:49:39.703Z"
   },
   {
    "duration": 74,
    "start_time": "2021-09-30T18:50:33.381Z"
   },
   {
    "duration": 39,
    "start_time": "2021-09-30T18:51:35.683Z"
   },
   {
    "duration": 49,
    "start_time": "2021-09-30T18:51:42.304Z"
   },
   {
    "duration": 162,
    "start_time": "2021-09-30T18:53:03.218Z"
   },
   {
    "duration": 23,
    "start_time": "2021-09-30T18:53:07.398Z"
   },
   {
    "duration": 34,
    "start_time": "2021-09-30T18:55:54.961Z"
   },
   {
    "duration": 23,
    "start_time": "2021-09-30T18:57:15.541Z"
   },
   {
    "duration": 4,
    "start_time": "2021-09-30T19:43:27.425Z"
   },
   {
    "duration": 9551,
    "start_time": "2021-09-30T19:49:53.325Z"
   },
   {
    "duration": 417,
    "start_time": "2021-09-30T19:50:29.202Z"
   },
   {
    "duration": 5,
    "start_time": "2021-09-30T19:51:08.825Z"
   },
   {
    "duration": 16,
    "start_time": "2021-09-30T19:51:24.207Z"
   },
   {
    "duration": 141,
    "start_time": "2021-09-30T19:52:33.278Z"
   },
   {
    "duration": 17,
    "start_time": "2021-09-30T19:52:53.607Z"
   },
   {
    "duration": 10,
    "start_time": "2021-09-30T19:53:09.586Z"
   },
   {
    "duration": 13,
    "start_time": "2021-09-30T19:53:16.247Z"
   },
   {
    "duration": 17,
    "start_time": "2021-09-30T19:53:31.694Z"
   },
   {
    "duration": 24,
    "start_time": "2021-09-30T19:53:39.377Z"
   },
   {
    "duration": 372,
    "start_time": "2021-09-30T19:53:50.173Z"
   },
   {
    "duration": 11,
    "start_time": "2021-09-30T19:54:04.423Z"
   },
   {
    "duration": 418,
    "start_time": "2021-09-30T19:54:38.788Z"
   },
   {
    "duration": 919,
    "start_time": "2021-09-30T19:55:49.922Z"
   },
   {
    "duration": 1155,
    "start_time": "2021-09-30T19:56:20.378Z"
   },
   {
    "duration": 12,
    "start_time": "2021-09-30T19:56:44.928Z"
   },
   {
    "duration": 16,
    "start_time": "2021-09-30T19:57:51.933Z"
   },
   {
    "duration": 74,
    "start_time": "2021-09-30T19:58:35.073Z"
   },
   {
    "duration": 12,
    "start_time": "2021-09-30T19:59:02.675Z"
   },
   {
    "duration": 41,
    "start_time": "2021-09-30T19:59:16.506Z"
   },
   {
    "duration": 4781,
    "start_time": "2021-09-30T19:59:57.364Z"
   },
   {
    "duration": 5387,
    "start_time": "2021-09-30T20:00:20.489Z"
   },
   {
    "duration": 44,
    "start_time": "2021-09-30T20:01:55.748Z"
   },
   {
    "duration": 40,
    "start_time": "2021-09-30T20:02:35.846Z"
   },
   {
    "duration": 9,
    "start_time": "2021-09-30T20:03:17.551Z"
   },
   {
    "duration": 38,
    "start_time": "2021-09-30T20:03:25.960Z"
   },
   {
    "duration": 660,
    "start_time": "2021-09-30T20:03:38.504Z"
   },
   {
    "duration": 9,
    "start_time": "2021-09-30T20:04:14.542Z"
   },
   {
    "duration": 18,
    "start_time": "2021-09-30T20:04:22.281Z"
   },
   {
    "duration": 23,
    "start_time": "2021-09-30T20:04:32.924Z"
   },
   {
    "duration": 11,
    "start_time": "2021-09-30T20:05:08.591Z"
   },
   {
    "duration": 11,
    "start_time": "2021-09-30T20:05:14.613Z"
   },
   {
    "duration": 16,
    "start_time": "2021-09-30T20:05:41.899Z"
   },
   {
    "duration": 16,
    "start_time": "2021-09-30T20:08:30.456Z"
   },
   {
    "duration": 17,
    "start_time": "2021-09-30T20:08:58.362Z"
   },
   {
    "duration": 17,
    "start_time": "2021-09-30T20:09:08.049Z"
   },
   {
    "duration": 22,
    "start_time": "2021-09-30T20:09:27.274Z"
   },
   {
    "duration": 19,
    "start_time": "2021-09-30T20:09:32.472Z"
   },
   {
    "duration": 20,
    "start_time": "2021-09-30T20:09:40.988Z"
   },
   {
    "duration": 815,
    "start_time": "2021-09-30T20:10:14.742Z"
   },
   {
    "duration": 21,
    "start_time": "2021-09-30T20:10:18.093Z"
   },
   {
    "duration": 28,
    "start_time": "2021-09-30T20:10:50.886Z"
   },
   {
    "duration": 1435,
    "start_time": "2021-09-30T20:12:29.763Z"
   },
   {
    "duration": 83,
    "start_time": "2021-09-30T20:12:31.201Z"
   },
   {
    "duration": 22,
    "start_time": "2021-09-30T20:12:31.289Z"
   },
   {
    "duration": 33,
    "start_time": "2021-09-30T20:12:31.314Z"
   },
   {
    "duration": 7,
    "start_time": "2021-09-30T20:12:31.349Z"
   },
   {
    "duration": 21,
    "start_time": "2021-09-30T20:12:31.383Z"
   },
   {
    "duration": 38,
    "start_time": "2021-09-30T20:12:31.407Z"
   },
   {
    "duration": 597,
    "start_time": "2021-09-30T20:12:31.449Z"
   },
   {
    "duration": 39,
    "start_time": "2021-09-30T20:12:32.049Z"
   },
   {
    "duration": 3043,
    "start_time": "2021-09-30T20:12:32.092Z"
   },
   {
    "duration": 19,
    "start_time": "2021-09-30T20:12:35.138Z"
   },
   {
    "duration": 23,
    "start_time": "2021-09-30T20:12:35.160Z"
   },
   {
    "duration": 358,
    "start_time": "2021-09-30T20:12:35.187Z"
   },
   {
    "duration": 12,
    "start_time": "2021-09-30T20:12:35.548Z"
   },
   {
    "duration": 38,
    "start_time": "2021-09-30T20:12:35.563Z"
   },
   {
    "duration": 10,
    "start_time": "2021-09-30T20:12:35.604Z"
   },
   {
    "duration": 162,
    "start_time": "2021-09-30T20:12:35.616Z"
   },
   {
    "duration": 8723,
    "start_time": "2021-09-30T20:12:35.783Z"
   },
   {
    "duration": 3,
    "start_time": "2021-09-30T20:12:44.509Z"
   },
   {
    "duration": 267,
    "start_time": "2021-09-30T20:12:44.515Z"
   },
   {
    "duration": 29,
    "start_time": "2021-09-30T20:12:44.786Z"
   },
   {
    "duration": 18,
    "start_time": "2021-09-30T20:12:44.817Z"
   },
   {
    "duration": 371,
    "start_time": "2021-09-30T20:12:44.839Z"
   },
   {
    "duration": 27,
    "start_time": "2021-09-30T20:12:45.213Z"
   },
   {
    "duration": 97,
    "start_time": "2021-09-30T20:12:45.243Z"
   },
   {
    "duration": 75,
    "start_time": "2021-09-30T20:12:45.342Z"
   },
   {
    "duration": 24,
    "start_time": "2021-09-30T20:12:45.419Z"
   },
   {
    "duration": 52,
    "start_time": "2021-09-30T20:12:45.445Z"
   },
   {
    "duration": 393,
    "start_time": "2021-09-30T20:12:45.499Z"
   },
   {
    "duration": 311,
    "start_time": "2021-09-30T20:12:45.585Z"
   },
   {
    "duration": 311,
    "start_time": "2021-09-30T20:12:45.587Z"
   },
   {
    "duration": 387,
    "start_time": "2021-09-30T20:17:45.648Z"
   },
   {
    "duration": 392,
    "start_time": "2021-09-30T20:18:26.735Z"
   },
   {
    "duration": 1526,
    "start_time": "2021-09-30T20:18:32.674Z"
   },
   {
    "duration": 83,
    "start_time": "2021-09-30T20:18:34.204Z"
   },
   {
    "duration": 25,
    "start_time": "2021-09-30T20:18:34.291Z"
   },
   {
    "duration": 33,
    "start_time": "2021-09-30T20:18:34.320Z"
   },
   {
    "duration": 42,
    "start_time": "2021-09-30T20:18:34.355Z"
   },
   {
    "duration": 31,
    "start_time": "2021-09-30T20:18:34.401Z"
   },
   {
    "duration": 80,
    "start_time": "2021-09-30T20:18:34.435Z"
   },
   {
    "duration": 581,
    "start_time": "2021-09-30T20:18:34.519Z"
   },
   {
    "duration": 41,
    "start_time": "2021-09-30T20:18:35.105Z"
   },
   {
    "duration": 3012,
    "start_time": "2021-09-30T20:18:35.149Z"
   },
   {
    "duration": 25,
    "start_time": "2021-09-30T20:18:38.163Z"
   },
   {
    "duration": 4,
    "start_time": "2021-09-30T20:18:38.191Z"
   },
   {
    "duration": 384,
    "start_time": "2021-09-30T20:18:38.198Z"
   },
   {
    "duration": 16,
    "start_time": "2021-09-30T20:18:38.585Z"
   },
   {
    "duration": 16,
    "start_time": "2021-09-30T20:18:38.604Z"
   },
   {
    "duration": 10,
    "start_time": "2021-09-30T20:18:38.623Z"
   },
   {
    "duration": 182,
    "start_time": "2021-09-30T20:18:38.635Z"
   },
   {
    "duration": 10827,
    "start_time": "2021-09-30T20:18:38.820Z"
   },
   {
    "duration": 2,
    "start_time": "2021-09-30T20:18:49.650Z"
   },
   {
    "duration": 263,
    "start_time": "2021-09-30T20:18:49.655Z"
   },
   {
    "duration": 35,
    "start_time": "2021-09-30T20:18:49.922Z"
   },
   {
    "duration": 49,
    "start_time": "2021-09-30T20:18:49.960Z"
   },
   {
    "duration": 520,
    "start_time": "2021-09-30T20:18:50.015Z"
   },
   {
    "duration": 24,
    "start_time": "2021-09-30T20:18:50.539Z"
   },
   {
    "duration": 120,
    "start_time": "2021-09-30T20:18:50.585Z"
   },
   {
    "duration": 100,
    "start_time": "2021-09-30T20:18:50.708Z"
   },
   {
    "duration": 35,
    "start_time": "2021-09-30T20:18:50.811Z"
   },
   {
    "duration": 420,
    "start_time": "2021-09-30T20:18:50.849Z"
   },
   {
    "duration": 317,
    "start_time": "2021-09-30T20:18:50.954Z"
   },
   {
    "duration": 313,
    "start_time": "2021-09-30T20:18:50.959Z"
   },
   {
    "duration": 7,
    "start_time": "2021-09-30T20:19:13.916Z"
   },
   {
    "duration": 1356,
    "start_time": "2021-09-30T20:20:12.743Z"
   },
   {
    "duration": 91,
    "start_time": "2021-09-30T20:20:14.102Z"
   },
   {
    "duration": 19,
    "start_time": "2021-09-30T20:20:14.198Z"
   },
   {
    "duration": 29,
    "start_time": "2021-09-30T20:20:14.220Z"
   },
   {
    "duration": 41,
    "start_time": "2021-09-30T20:20:14.252Z"
   },
   {
    "duration": 37,
    "start_time": "2021-09-30T20:20:14.296Z"
   },
   {
    "duration": 70,
    "start_time": "2021-09-30T20:20:14.335Z"
   },
   {
    "duration": 553,
    "start_time": "2021-09-30T20:20:14.408Z"
   },
   {
    "duration": 45,
    "start_time": "2021-09-30T20:20:14.965Z"
   },
   {
    "duration": 2949,
    "start_time": "2021-09-30T20:20:15.014Z"
   },
   {
    "duration": 34,
    "start_time": "2021-09-30T20:20:17.966Z"
   },
   {
    "duration": 4,
    "start_time": "2021-09-30T20:20:18.002Z"
   },
   {
    "duration": 380,
    "start_time": "2021-09-30T20:20:18.009Z"
   },
   {
    "duration": 12,
    "start_time": "2021-09-30T20:20:18.392Z"
   },
   {
    "duration": 14,
    "start_time": "2021-09-30T20:20:18.407Z"
   },
   {
    "duration": 9,
    "start_time": "2021-09-30T20:20:18.424Z"
   },
   {
    "duration": 198,
    "start_time": "2021-09-30T20:20:18.436Z"
   },
   {
    "duration": 8995,
    "start_time": "2021-09-30T20:20:18.637Z"
   },
   {
    "duration": 3,
    "start_time": "2021-09-30T20:20:27.635Z"
   },
   {
    "duration": 299,
    "start_time": "2021-09-30T20:20:27.640Z"
   },
   {
    "duration": 46,
    "start_time": "2021-09-30T20:20:27.942Z"
   },
   {
    "duration": 24,
    "start_time": "2021-09-30T20:20:27.992Z"
   },
   {
    "duration": 620,
    "start_time": "2021-09-30T20:20:28.019Z"
   },
   {
    "duration": 31,
    "start_time": "2021-09-30T20:20:28.643Z"
   },
   {
    "duration": 67,
    "start_time": "2021-09-30T20:20:28.684Z"
   },
   {
    "duration": 93,
    "start_time": "2021-09-30T20:20:28.754Z"
   },
   {
    "duration": 22,
    "start_time": "2021-09-30T20:20:28.852Z"
   },
   {
    "duration": 24,
    "start_time": "2021-09-30T20:20:28.889Z"
   },
   {
    "duration": 17,
    "start_time": "2021-09-30T20:20:28.915Z"
   },
   {
    "duration": 22,
    "start_time": "2021-09-30T20:20:28.934Z"
   },
   {
    "duration": 322,
    "start_time": "2021-09-30T20:24:19.593Z"
   },
   {
    "duration": 326,
    "start_time": "2021-09-30T20:24:51.732Z"
   },
   {
    "duration": 344,
    "start_time": "2021-09-30T20:25:05.052Z"
   },
   {
    "duration": 366,
    "start_time": "2021-09-30T20:25:18.880Z"
   },
   {
    "duration": 415,
    "start_time": "2021-09-30T20:25:37.930Z"
   },
   {
    "duration": 1128,
    "start_time": "2021-10-01T06:04:48.532Z"
   },
   {
    "duration": 62,
    "start_time": "2021-10-01T06:04:49.662Z"
   },
   {
    "duration": 12,
    "start_time": "2021-10-01T06:04:49.726Z"
   },
   {
    "duration": 33,
    "start_time": "2021-10-01T06:04:49.740Z"
   },
   {
    "duration": 5,
    "start_time": "2021-10-01T06:04:49.775Z"
   },
   {
    "duration": 28,
    "start_time": "2021-10-01T06:04:49.782Z"
   },
   {
    "duration": 33,
    "start_time": "2021-10-01T06:04:49.812Z"
   },
   {
    "duration": 320,
    "start_time": "2021-10-01T06:04:49.848Z"
   },
   {
    "duration": 16,
    "start_time": "2021-10-01T06:04:50.170Z"
   },
   {
    "duration": 1715,
    "start_time": "2021-10-01T06:04:50.188Z"
   },
   {
    "duration": 14,
    "start_time": "2021-10-01T06:04:51.905Z"
   },
   {
    "duration": 9,
    "start_time": "2021-10-01T06:04:51.921Z"
   },
   {
    "duration": 237,
    "start_time": "2021-10-01T06:04:51.932Z"
   },
   {
    "duration": 7,
    "start_time": "2021-10-01T06:04:52.171Z"
   },
   {
    "duration": 9,
    "start_time": "2021-10-01T06:04:52.179Z"
   },
   {
    "duration": 29,
    "start_time": "2021-10-01T06:04:52.190Z"
   },
   {
    "duration": 142,
    "start_time": "2021-10-01T06:04:52.220Z"
   },
   {
    "duration": 5631,
    "start_time": "2021-10-01T06:04:52.363Z"
   },
   {
    "duration": 2,
    "start_time": "2021-10-01T06:04:57.996Z"
   },
   {
    "duration": 166,
    "start_time": "2021-10-01T06:04:58.000Z"
   },
   {
    "duration": 16,
    "start_time": "2021-10-01T06:04:58.168Z"
   },
   {
    "duration": 12,
    "start_time": "2021-10-01T06:04:58.186Z"
   },
   {
    "duration": 216,
    "start_time": "2021-10-01T06:04:58.201Z"
   },
   {
    "duration": 13,
    "start_time": "2021-10-01T06:04:58.419Z"
   },
   {
    "duration": 50,
    "start_time": "2021-10-01T06:04:58.434Z"
   },
   {
    "duration": 33,
    "start_time": "2021-10-01T06:04:58.486Z"
   },
   {
    "duration": 39,
    "start_time": "2021-10-01T06:04:58.520Z"
   },
   {
    "duration": 10,
    "start_time": "2021-10-01T06:04:58.561Z"
   },
   {
    "duration": 202,
    "start_time": "2021-10-01T06:04:58.572Z"
   },
   {
    "duration": 13,
    "start_time": "2021-10-01T06:04:58.775Z"
   },
   {
    "duration": 10,
    "start_time": "2021-10-01T06:04:58.790Z"
   },
   {
    "duration": 71,
    "start_time": "2021-10-01T06:06:33.634Z"
   },
   {
    "duration": 14,
    "start_time": "2021-10-01T08:04:51.549Z"
   },
   {
    "duration": 14,
    "start_time": "2021-10-01T08:05:08.891Z"
   },
   {
    "duration": 1004,
    "start_time": "2021-10-01T08:05:21.960Z"
   },
   {
    "duration": 79,
    "start_time": "2021-10-01T08:05:22.966Z"
   },
   {
    "duration": 14,
    "start_time": "2021-10-01T08:05:23.047Z"
   },
   {
    "duration": 21,
    "start_time": "2021-10-01T08:05:23.063Z"
   },
   {
    "duration": 5,
    "start_time": "2021-10-01T08:05:23.085Z"
   },
   {
    "duration": 18,
    "start_time": "2021-10-01T08:05:23.092Z"
   },
   {
    "duration": 38,
    "start_time": "2021-10-01T08:05:23.112Z"
   },
   {
    "duration": 311,
    "start_time": "2021-10-01T08:05:23.152Z"
   },
   {
    "duration": 16,
    "start_time": "2021-10-01T08:05:23.465Z"
   },
   {
    "duration": 1838,
    "start_time": "2021-10-01T08:05:23.483Z"
   },
   {
    "duration": 14,
    "start_time": "2021-10-01T08:05:25.323Z"
   },
   {
    "duration": 3,
    "start_time": "2021-10-01T08:05:25.349Z"
   },
   {
    "duration": 218,
    "start_time": "2021-10-01T08:05:25.354Z"
   },
   {
    "duration": 7,
    "start_time": "2021-10-01T08:05:25.573Z"
   },
   {
    "duration": 13,
    "start_time": "2021-10-01T08:05:25.582Z"
   },
   {
    "duration": 4,
    "start_time": "2021-10-01T08:05:25.597Z"
   },
   {
    "duration": 132,
    "start_time": "2021-10-01T08:05:25.602Z"
   },
   {
    "duration": 6831,
    "start_time": "2021-10-01T08:05:25.736Z"
   },
   {
    "duration": 2,
    "start_time": "2021-10-01T08:05:32.569Z"
   },
   {
    "duration": 151,
    "start_time": "2021-10-01T08:05:32.573Z"
   },
   {
    "duration": 24,
    "start_time": "2021-10-01T08:05:32.726Z"
   },
   {
    "duration": 12,
    "start_time": "2021-10-01T08:05:32.751Z"
   },
   {
    "duration": 197,
    "start_time": "2021-10-01T08:05:32.767Z"
   },
   {
    "duration": 13,
    "start_time": "2021-10-01T08:05:32.966Z"
   },
   {
    "duration": 37,
    "start_time": "2021-10-01T08:05:32.980Z"
   },
   {
    "duration": 53,
    "start_time": "2021-10-01T08:05:33.019Z"
   },
   {
    "duration": 14,
    "start_time": "2021-10-01T08:05:33.073Z"
   },
   {
    "duration": 9,
    "start_time": "2021-10-01T08:05:33.089Z"
   },
   {
    "duration": 198,
    "start_time": "2021-10-01T08:05:33.100Z"
   },
   {
    "duration": 10,
    "start_time": "2021-10-01T08:05:33.300Z"
   },
   {
    "duration": 11,
    "start_time": "2021-10-01T08:05:33.311Z"
   },
   {
    "duration": 8,
    "start_time": "2021-10-01T08:09:49.014Z"
   },
   {
    "duration": 262,
    "start_time": "2021-10-01T08:09:58.004Z"
   },
   {
    "duration": 587,
    "start_time": "2021-10-01T08:10:00.075Z"
   },
   {
    "duration": 6,
    "start_time": "2021-10-01T08:10:23.504Z"
   },
   {
    "duration": 10,
    "start_time": "2021-10-01T08:10:35.456Z"
   },
   {
    "duration": 7,
    "start_time": "2021-10-01T08:10:48.432Z"
   },
   {
    "duration": 5,
    "start_time": "2021-10-01T08:10:51.568Z"
   },
   {
    "duration": 8,
    "start_time": "2021-10-01T08:10:55.775Z"
   },
   {
    "duration": 9,
    "start_time": "2021-10-01T08:11:45.070Z"
   },
   {
    "duration": 8,
    "start_time": "2021-10-01T08:12:11.511Z"
   },
   {
    "duration": 7,
    "start_time": "2021-10-01T08:12:20.579Z"
   },
   {
    "duration": 6,
    "start_time": "2021-10-01T08:12:23.617Z"
   },
   {
    "duration": 4,
    "start_time": "2021-10-01T08:12:28.764Z"
   },
   {
    "duration": 4,
    "start_time": "2021-10-01T08:12:59.022Z"
   },
   {
    "duration": 8,
    "start_time": "2021-10-01T08:13:02.811Z"
   },
   {
    "duration": 1161,
    "start_time": "2021-10-01T08:13:11.647Z"
   },
   {
    "duration": 74,
    "start_time": "2021-10-01T08:13:12.810Z"
   },
   {
    "duration": 13,
    "start_time": "2021-10-01T08:13:12.888Z"
   },
   {
    "duration": 7,
    "start_time": "2021-10-01T08:13:12.902Z"
   },
   {
    "duration": 13,
    "start_time": "2021-10-01T08:13:12.911Z"
   },
   {
    "duration": 24,
    "start_time": "2021-10-01T08:13:12.926Z"
   },
   {
    "duration": 6,
    "start_time": "2021-10-01T08:13:12.952Z"
   },
   {
    "duration": 14,
    "start_time": "2021-10-01T08:13:12.960Z"
   },
   {
    "duration": 23,
    "start_time": "2021-10-01T08:13:12.976Z"
   },
   {
    "duration": 351,
    "start_time": "2021-10-01T08:13:13.001Z"
   },
   {
    "duration": 15,
    "start_time": "2021-10-01T08:13:13.354Z"
   },
   {
    "duration": 1812,
    "start_time": "2021-10-01T08:13:13.371Z"
   },
   {
    "duration": 65,
    "start_time": "2021-10-01T08:13:15.184Z"
   },
   {
    "duration": 2,
    "start_time": "2021-10-01T08:13:15.251Z"
   },
   {
    "duration": 334,
    "start_time": "2021-10-01T08:13:15.255Z"
   },
   {
    "duration": 9,
    "start_time": "2021-10-01T08:13:15.591Z"
   },
   {
    "duration": 13,
    "start_time": "2021-10-01T08:13:15.602Z"
   },
   {
    "duration": 10,
    "start_time": "2021-10-01T08:13:15.617Z"
   },
   {
    "duration": 158,
    "start_time": "2021-10-01T08:13:15.629Z"
   },
   {
    "duration": 6330,
    "start_time": "2021-10-01T08:13:15.789Z"
   },
   {
    "duration": 2,
    "start_time": "2021-10-01T08:13:22.121Z"
   },
   {
    "duration": 159,
    "start_time": "2021-10-01T08:13:22.126Z"
   },
   {
    "duration": 16,
    "start_time": "2021-10-01T08:13:22.287Z"
   },
   {
    "duration": 16,
    "start_time": "2021-10-01T08:13:22.305Z"
   },
   {
    "duration": 212,
    "start_time": "2021-10-01T08:13:22.322Z"
   },
   {
    "duration": 18,
    "start_time": "2021-10-01T08:13:22.536Z"
   },
   {
    "duration": 54,
    "start_time": "2021-10-01T08:13:22.556Z"
   },
   {
    "duration": 45,
    "start_time": "2021-10-01T08:13:22.612Z"
   },
   {
    "duration": 16,
    "start_time": "2021-10-01T08:13:22.659Z"
   },
   {
    "duration": 12,
    "start_time": "2021-10-01T08:13:22.676Z"
   },
   {
    "duration": 212,
    "start_time": "2021-10-01T08:13:22.689Z"
   },
   {
    "duration": 12,
    "start_time": "2021-10-01T08:13:22.903Z"
   },
   {
    "duration": 11,
    "start_time": "2021-10-01T08:13:22.916Z"
   },
   {
    "duration": 9,
    "start_time": "2021-10-01T08:31:18.139Z"
   },
   {
    "duration": 1148,
    "start_time": "2021-10-01T08:31:31.244Z"
   },
   {
    "duration": 78,
    "start_time": "2021-10-01T08:31:32.394Z"
   },
   {
    "duration": 14,
    "start_time": "2021-10-01T08:31:32.474Z"
   },
   {
    "duration": 11,
    "start_time": "2021-10-01T08:31:32.490Z"
   },
   {
    "duration": 20,
    "start_time": "2021-10-01T08:31:32.502Z"
   },
   {
    "duration": 28,
    "start_time": "2021-10-01T08:31:32.523Z"
   },
   {
    "duration": 13,
    "start_time": "2021-10-01T08:31:32.553Z"
   },
   {
    "duration": 16,
    "start_time": "2021-10-01T08:31:32.569Z"
   },
   {
    "duration": 30,
    "start_time": "2021-10-01T08:31:32.589Z"
   },
   {
    "duration": 367,
    "start_time": "2021-10-01T08:31:32.621Z"
   },
   {
    "duration": 18,
    "start_time": "2021-10-01T08:31:32.991Z"
   },
   {
    "duration": 1808,
    "start_time": "2021-10-01T08:31:33.011Z"
   },
   {
    "duration": 27,
    "start_time": "2021-10-01T08:31:34.822Z"
   },
   {
    "duration": 3,
    "start_time": "2021-10-01T08:31:34.852Z"
   },
   {
    "duration": 514,
    "start_time": "2021-10-01T08:31:34.857Z"
   },
   {
    "duration": 7,
    "start_time": "2021-10-01T08:31:35.373Z"
   },
   {
    "duration": 14,
    "start_time": "2021-10-01T08:31:35.382Z"
   },
   {
    "duration": 5,
    "start_time": "2021-10-01T08:31:35.449Z"
   },
   {
    "duration": 215,
    "start_time": "2021-10-01T08:31:35.456Z"
   },
   {
    "duration": 7218,
    "start_time": "2021-10-01T08:31:35.674Z"
   },
   {
    "duration": 2,
    "start_time": "2021-10-01T08:31:42.894Z"
   },
   {
    "duration": 158,
    "start_time": "2021-10-01T08:31:42.897Z"
   },
   {
    "duration": 20,
    "start_time": "2021-10-01T08:31:43.058Z"
   },
   {
    "duration": 16,
    "start_time": "2021-10-01T08:31:43.080Z"
   },
   {
    "duration": 236,
    "start_time": "2021-10-01T08:31:43.098Z"
   },
   {
    "duration": 20,
    "start_time": "2021-10-01T08:31:43.335Z"
   },
   {
    "duration": 47,
    "start_time": "2021-10-01T08:31:43.357Z"
   },
   {
    "duration": 56,
    "start_time": "2021-10-01T08:31:43.406Z"
   },
   {
    "duration": 16,
    "start_time": "2021-10-01T08:31:43.464Z"
   },
   {
    "duration": 15,
    "start_time": "2021-10-01T08:31:43.482Z"
   },
   {
    "duration": 215,
    "start_time": "2021-10-01T08:31:43.499Z"
   },
   {
    "duration": 12,
    "start_time": "2021-10-01T08:31:43.716Z"
   },
   {
    "duration": 41,
    "start_time": "2021-10-01T08:31:43.729Z"
   },
   {
    "duration": 1648,
    "start_time": "2021-10-01T08:35:43.118Z"
   },
   {
    "duration": 13,
    "start_time": "2021-10-01T08:39:11.261Z"
   },
   {
    "duration": 1111,
    "start_time": "2021-10-01T08:39:18.268Z"
   },
   {
    "duration": 79,
    "start_time": "2021-10-01T08:39:19.381Z"
   },
   {
    "duration": 15,
    "start_time": "2021-10-01T08:39:19.463Z"
   },
   {
    "duration": 8,
    "start_time": "2021-10-01T08:39:19.480Z"
   },
   {
    "duration": 17,
    "start_time": "2021-10-01T08:39:19.489Z"
   },
   {
    "duration": 5,
    "start_time": "2021-10-01T08:39:19.508Z"
   },
   {
    "duration": 41,
    "start_time": "2021-10-01T08:39:19.515Z"
   },
   {
    "duration": 15,
    "start_time": "2021-10-01T08:39:19.559Z"
   },
   {
    "duration": 12,
    "start_time": "2021-10-01T08:39:19.577Z"
   },
   {
    "duration": 25,
    "start_time": "2021-10-01T08:39:19.590Z"
   },
   {
    "duration": 368,
    "start_time": "2021-10-01T08:39:19.616Z"
   },
   {
    "duration": 17,
    "start_time": "2021-10-01T08:39:19.986Z"
   },
   {
    "duration": 2174,
    "start_time": "2021-10-01T08:39:20.005Z"
   },
   {
    "duration": 73,
    "start_time": "2021-10-01T08:39:22.180Z"
   },
   {
    "duration": 2,
    "start_time": "2021-10-01T08:39:22.255Z"
   },
   {
    "duration": 303,
    "start_time": "2021-10-01T08:39:22.259Z"
   },
   {
    "duration": 7,
    "start_time": "2021-10-01T08:39:22.564Z"
   },
   {
    "duration": 13,
    "start_time": "2021-10-01T08:39:22.572Z"
   },
   {
    "duration": 24,
    "start_time": "2021-10-01T08:39:22.586Z"
   },
   {
    "duration": 132,
    "start_time": "2021-10-01T08:39:22.612Z"
   },
   {
    "duration": 7004,
    "start_time": "2021-10-01T08:39:22.746Z"
   },
   {
    "duration": 2,
    "start_time": "2021-10-01T08:39:29.752Z"
   },
   {
    "duration": 154,
    "start_time": "2021-10-01T08:39:29.757Z"
   },
   {
    "duration": 17,
    "start_time": "2021-10-01T08:39:29.913Z"
   },
   {
    "duration": 27,
    "start_time": "2021-10-01T08:39:29.932Z"
   },
   {
    "duration": 213,
    "start_time": "2021-10-01T08:39:29.961Z"
   },
   {
    "duration": 15,
    "start_time": "2021-10-01T08:39:30.176Z"
   },
   {
    "duration": 65,
    "start_time": "2021-10-01T08:39:30.192Z"
   },
   {
    "duration": 35,
    "start_time": "2021-10-01T08:39:30.259Z"
   },
   {
    "duration": 16,
    "start_time": "2021-10-01T08:39:30.295Z"
   },
   {
    "duration": 39,
    "start_time": "2021-10-01T08:39:30.313Z"
   },
   {
    "duration": 198,
    "start_time": "2021-10-01T08:39:30.354Z"
   },
   {
    "duration": 12,
    "start_time": "2021-10-01T08:39:30.554Z"
   },
   {
    "duration": 16,
    "start_time": "2021-10-01T08:39:30.567Z"
   },
   {
    "duration": 9,
    "start_time": "2021-10-01T10:12:21.630Z"
   },
   {
    "duration": 26,
    "start_time": "2021-10-01T10:12:28.114Z"
   },
   {
    "duration": 23,
    "start_time": "2021-10-01T10:12:36.917Z"
   },
   {
    "duration": 41,
    "start_time": "2021-10-01T10:12:40.639Z"
   },
   {
    "duration": 1118,
    "start_time": "2021-10-01T10:12:46.142Z"
   },
   {
    "duration": 111,
    "start_time": "2021-10-01T10:12:47.262Z"
   },
   {
    "duration": 16,
    "start_time": "2021-10-01T10:12:47.377Z"
   },
   {
    "duration": 13,
    "start_time": "2021-10-01T10:12:47.395Z"
   },
   {
    "duration": 15,
    "start_time": "2021-10-01T10:12:47.410Z"
   },
   {
    "duration": 27,
    "start_time": "2021-10-01T10:12:47.427Z"
   },
   {
    "duration": 14,
    "start_time": "2021-10-01T10:12:47.460Z"
   },
   {
    "duration": 14,
    "start_time": "2021-10-01T10:12:47.476Z"
   },
   {
    "duration": 13,
    "start_time": "2021-10-01T10:12:47.492Z"
   },
   {
    "duration": 72,
    "start_time": "2021-10-01T10:12:47.507Z"
   },
   {
    "duration": 355,
    "start_time": "2021-10-01T10:12:47.581Z"
   },
   {
    "duration": 35,
    "start_time": "2021-10-01T10:12:47.937Z"
   },
   {
    "duration": 1859,
    "start_time": "2021-10-01T10:12:47.974Z"
   },
   {
    "duration": 28,
    "start_time": "2021-10-01T10:12:49.835Z"
   },
   {
    "duration": 2,
    "start_time": "2021-10-01T10:12:49.866Z"
   },
   {
    "duration": 246,
    "start_time": "2021-10-01T10:12:49.870Z"
   },
   {
    "duration": 8,
    "start_time": "2021-10-01T10:12:50.118Z"
   },
   {
    "duration": 26,
    "start_time": "2021-10-01T10:12:50.128Z"
   },
   {
    "duration": 6,
    "start_time": "2021-10-01T10:12:50.157Z"
   },
   {
    "duration": 144,
    "start_time": "2021-10-01T10:12:50.165Z"
   },
   {
    "duration": 6591,
    "start_time": "2021-10-01T10:12:50.311Z"
   },
   {
    "duration": 2,
    "start_time": "2021-10-01T10:12:56.906Z"
   },
   {
    "duration": 160,
    "start_time": "2021-10-01T10:12:56.911Z"
   },
   {
    "duration": 17,
    "start_time": "2021-10-01T10:12:57.073Z"
   },
   {
    "duration": 13,
    "start_time": "2021-10-01T10:12:57.092Z"
   },
   {
    "duration": 233,
    "start_time": "2021-10-01T10:12:57.107Z"
   },
   {
    "duration": 20,
    "start_time": "2021-10-01T10:12:57.342Z"
   },
   {
    "duration": 40,
    "start_time": "2021-10-01T10:12:57.369Z"
   },
   {
    "duration": 68,
    "start_time": "2021-10-01T10:12:57.411Z"
   },
   {
    "duration": 23,
    "start_time": "2021-10-01T10:12:57.481Z"
   },
   {
    "duration": 11,
    "start_time": "2021-10-01T10:12:57.506Z"
   },
   {
    "duration": 325,
    "start_time": "2021-10-01T10:12:57.519Z"
   },
   {
    "duration": 18,
    "start_time": "2021-10-01T10:12:57.846Z"
   },
   {
    "duration": 19,
    "start_time": "2021-10-01T10:12:57.867Z"
   },
   {
    "duration": 19,
    "start_time": "2021-10-01T10:15:17.198Z"
   },
   {
    "duration": 1276,
    "start_time": "2021-10-01T10:15:28.062Z"
   },
   {
    "duration": 112,
    "start_time": "2021-10-01T10:15:29.340Z"
   },
   {
    "duration": 18,
    "start_time": "2021-10-01T10:15:29.457Z"
   },
   {
    "duration": 6,
    "start_time": "2021-10-01T10:15:29.476Z"
   },
   {
    "duration": 31,
    "start_time": "2021-10-01T10:15:29.483Z"
   },
   {
    "duration": 15,
    "start_time": "2021-10-01T10:15:29.516Z"
   },
   {
    "duration": 27,
    "start_time": "2021-10-01T10:15:29.533Z"
   },
   {
    "duration": 24,
    "start_time": "2021-10-01T10:15:29.562Z"
   },
   {
    "duration": 19,
    "start_time": "2021-10-01T10:15:29.588Z"
   },
   {
    "duration": 57,
    "start_time": "2021-10-01T10:15:29.610Z"
   },
   {
    "duration": 400,
    "start_time": "2021-10-01T10:15:29.669Z"
   },
   {
    "duration": 18,
    "start_time": "2021-10-01T10:15:30.071Z"
   },
   {
    "duration": 2594,
    "start_time": "2021-10-01T10:15:30.091Z"
   },
   {
    "duration": 14,
    "start_time": "2021-10-01T10:15:32.687Z"
   },
   {
    "duration": 2,
    "start_time": "2021-10-01T10:15:32.703Z"
   },
   {
    "duration": 252,
    "start_time": "2021-10-01T10:15:32.707Z"
   },
   {
    "duration": 8,
    "start_time": "2021-10-01T10:15:32.961Z"
   },
   {
    "duration": 10,
    "start_time": "2021-10-01T10:15:32.971Z"
   },
   {
    "duration": 5,
    "start_time": "2021-10-01T10:15:32.983Z"
   },
   {
    "duration": 34,
    "start_time": "2021-10-01T10:15:32.990Z"
   },
   {
    "duration": 6150,
    "start_time": "2021-10-01T10:15:33.051Z"
   },
   {
    "duration": 3,
    "start_time": "2021-10-01T10:15:39.204Z"
   },
   {
    "duration": 172,
    "start_time": "2021-10-01T10:15:39.209Z"
   },
   {
    "duration": 19,
    "start_time": "2021-10-01T10:15:39.383Z"
   },
   {
    "duration": 14,
    "start_time": "2021-10-01T10:15:39.403Z"
   },
   {
    "duration": 341,
    "start_time": "2021-10-01T10:15:39.419Z"
   },
   {
    "duration": 15,
    "start_time": "2021-10-01T10:15:39.764Z"
   },
   {
    "duration": 41,
    "start_time": "2021-10-01T10:15:39.781Z"
   },
   {
    "duration": 60,
    "start_time": "2021-10-01T10:15:39.824Z"
   },
   {
    "duration": 16,
    "start_time": "2021-10-01T10:15:39.886Z"
   },
   {
    "duration": 12,
    "start_time": "2021-10-01T10:15:39.904Z"
   },
   {
    "duration": 222,
    "start_time": "2021-10-01T10:15:39.958Z"
   },
   {
    "duration": 12,
    "start_time": "2021-10-01T10:15:40.182Z"
   },
   {
    "duration": 13,
    "start_time": "2021-10-01T10:15:40.196Z"
   },
   {
    "duration": 17,
    "start_time": "2021-10-01T10:18:09.898Z"
   },
   {
    "duration": 16,
    "start_time": "2021-10-01T10:21:43.600Z"
   },
   {
    "duration": 1142,
    "start_time": "2021-10-01T10:21:50.917Z"
   },
   {
    "duration": 78,
    "start_time": "2021-10-01T10:21:52.061Z"
   },
   {
    "duration": 23,
    "start_time": "2021-10-01T10:21:52.141Z"
   },
   {
    "duration": 8,
    "start_time": "2021-10-01T10:21:52.169Z"
   },
   {
    "duration": 16,
    "start_time": "2021-10-01T10:21:52.179Z"
   },
   {
    "duration": 5,
    "start_time": "2021-10-01T10:21:52.196Z"
   },
   {
    "duration": 15,
    "start_time": "2021-10-01T10:21:52.203Z"
   },
   {
    "duration": 46,
    "start_time": "2021-10-01T10:21:52.221Z"
   },
   {
    "duration": 20,
    "start_time": "2021-10-01T10:21:52.269Z"
   },
   {
    "duration": 20,
    "start_time": "2021-10-01T10:21:52.291Z"
   },
   {
    "duration": 386,
    "start_time": "2021-10-01T10:21:52.313Z"
   },
   {
    "duration": 18,
    "start_time": "2021-10-01T10:21:52.701Z"
   },
   {
    "duration": 2363,
    "start_time": "2021-10-01T10:21:52.721Z"
   },
   {
    "duration": 14,
    "start_time": "2021-10-01T10:21:55.086Z"
   },
   {
    "duration": 3,
    "start_time": "2021-10-01T10:21:55.101Z"
   },
   {
    "duration": 272,
    "start_time": "2021-10-01T10:21:55.105Z"
   },
   {
    "duration": 8,
    "start_time": "2021-10-01T10:21:55.379Z"
   },
   {
    "duration": 11,
    "start_time": "2021-10-01T10:21:55.388Z"
   },
   {
    "duration": 4,
    "start_time": "2021-10-01T10:21:55.401Z"
   },
   {
    "duration": 69,
    "start_time": "2021-10-01T10:21:55.407Z"
   },
   {
    "duration": 5852,
    "start_time": "2021-10-01T10:21:55.479Z"
   },
   {
    "duration": 3,
    "start_time": "2021-10-01T10:22:01.333Z"
   },
   {
    "duration": 177,
    "start_time": "2021-10-01T10:22:01.351Z"
   },
   {
    "duration": 37,
    "start_time": "2021-10-01T10:22:01.530Z"
   },
   {
    "duration": 20,
    "start_time": "2021-10-01T10:22:01.569Z"
   },
   {
    "duration": 362,
    "start_time": "2021-10-01T10:22:01.591Z"
   },
   {
    "duration": 22,
    "start_time": "2021-10-01T10:22:01.955Z"
   },
   {
    "duration": 78,
    "start_time": "2021-10-01T10:22:01.981Z"
   },
   {
    "duration": 45,
    "start_time": "2021-10-01T10:22:02.062Z"
   },
   {
    "duration": 56,
    "start_time": "2021-10-01T10:22:02.109Z"
   },
   {
    "duration": 66,
    "start_time": "2021-10-01T10:22:02.169Z"
   },
   {
    "duration": 263,
    "start_time": "2021-10-01T10:22:02.237Z"
   },
   {
    "duration": 12,
    "start_time": "2021-10-01T10:22:02.502Z"
   },
   {
    "duration": 26,
    "start_time": "2021-10-01T10:22:02.516Z"
   },
   {
    "duration": 98,
    "start_time": "2021-10-01T10:25:02.331Z"
   },
   {
    "duration": 88,
    "start_time": "2021-10-01T10:26:42.498Z"
   },
   {
    "duration": 428,
    "start_time": "2021-10-01T10:26:56.456Z"
   },
   {
    "duration": 789,
    "start_time": "2021-10-01T10:27:34.226Z"
   },
   {
    "duration": 493,
    "start_time": "2021-10-01T10:28:55.795Z"
   },
   {
    "duration": 264,
    "start_time": "2021-10-01T10:30:07.721Z"
   },
   {
    "duration": 1175,
    "start_time": "2021-10-01T10:30:15.587Z"
   },
   {
    "duration": 79,
    "start_time": "2021-10-01T10:30:16.767Z"
   },
   {
    "duration": 25,
    "start_time": "2021-10-01T10:30:16.851Z"
   },
   {
    "duration": 6,
    "start_time": "2021-10-01T10:30:16.878Z"
   },
   {
    "duration": 19,
    "start_time": "2021-10-01T10:30:16.886Z"
   },
   {
    "duration": 5,
    "start_time": "2021-10-01T10:30:16.907Z"
   },
   {
    "duration": 46,
    "start_time": "2021-10-01T10:30:16.914Z"
   },
   {
    "duration": 19,
    "start_time": "2021-10-01T10:30:16.963Z"
   },
   {
    "duration": 13,
    "start_time": "2021-10-01T10:30:16.984Z"
   },
   {
    "duration": 21,
    "start_time": "2021-10-01T10:30:16.999Z"
   },
   {
    "duration": 424,
    "start_time": "2021-10-01T10:30:17.022Z"
   },
   {
    "duration": 29,
    "start_time": "2021-10-01T10:30:17.453Z"
   },
   {
    "duration": 1965,
    "start_time": "2021-10-01T10:30:17.484Z"
   },
   {
    "duration": 22,
    "start_time": "2021-10-01T10:30:19.455Z"
   },
   {
    "duration": 3,
    "start_time": "2021-10-01T10:30:19.480Z"
   },
   {
    "duration": 269,
    "start_time": "2021-10-01T10:30:19.485Z"
   },
   {
    "duration": 13,
    "start_time": "2021-10-01T10:30:19.756Z"
   },
   {
    "duration": 14,
    "start_time": "2021-10-01T10:30:19.772Z"
   },
   {
    "duration": 4,
    "start_time": "2021-10-01T10:30:19.788Z"
   },
   {
    "duration": 66,
    "start_time": "2021-10-01T10:30:19.794Z"
   },
   {
    "duration": 6629,
    "start_time": "2021-10-01T10:30:19.862Z"
   },
   {
    "duration": 3,
    "start_time": "2021-10-01T10:30:26.495Z"
   },
   {
    "duration": 164,
    "start_time": "2021-10-01T10:30:26.501Z"
   },
   {
    "duration": 22,
    "start_time": "2021-10-01T10:30:26.668Z"
   },
   {
    "duration": 16,
    "start_time": "2021-10-01T10:30:26.693Z"
   },
   {
    "duration": 234,
    "start_time": "2021-10-01T10:30:26.711Z"
   },
   {
    "duration": 23,
    "start_time": "2021-10-01T10:30:26.949Z"
   },
   {
    "duration": 62,
    "start_time": "2021-10-01T10:30:26.975Z"
   },
   {
    "duration": 61,
    "start_time": "2021-10-01T10:30:27.038Z"
   },
   {
    "duration": 17,
    "start_time": "2021-10-01T10:30:27.101Z"
   },
   {
    "duration": 36,
    "start_time": "2021-10-01T10:30:27.120Z"
   },
   {
    "duration": 214,
    "start_time": "2021-10-01T10:30:27.162Z"
   },
   {
    "duration": 13,
    "start_time": "2021-10-01T10:30:27.379Z"
   },
   {
    "duration": 27,
    "start_time": "2021-10-01T10:30:27.393Z"
   },
   {
    "duration": 13,
    "start_time": "2021-10-01T10:31:00.729Z"
   },
   {
    "duration": 1141,
    "start_time": "2021-10-01T10:31:07.639Z"
   },
   {
    "duration": 89,
    "start_time": "2021-10-01T10:31:08.782Z"
   },
   {
    "duration": 16,
    "start_time": "2021-10-01T10:31:08.874Z"
   },
   {
    "duration": 21,
    "start_time": "2021-10-01T10:31:08.892Z"
   },
   {
    "duration": 23,
    "start_time": "2021-10-01T10:31:08.915Z"
   },
   {
    "duration": 36,
    "start_time": "2021-10-01T10:31:08.940Z"
   },
   {
    "duration": 29,
    "start_time": "2021-10-01T10:31:08.978Z"
   },
   {
    "duration": 31,
    "start_time": "2021-10-01T10:31:09.009Z"
   },
   {
    "duration": 42,
    "start_time": "2021-10-01T10:31:09.042Z"
   },
   {
    "duration": 24,
    "start_time": "2021-10-01T10:31:09.087Z"
   },
   {
    "duration": 390,
    "start_time": "2021-10-01T10:31:09.113Z"
   },
   {
    "duration": 25,
    "start_time": "2021-10-01T10:31:09.505Z"
   },
   {
    "duration": 1980,
    "start_time": "2021-10-01T10:31:09.532Z"
   },
   {
    "duration": 14,
    "start_time": "2021-10-01T10:31:11.514Z"
   },
   {
    "duration": 22,
    "start_time": "2021-10-01T10:31:11.530Z"
   },
   {
    "duration": 267,
    "start_time": "2021-10-01T10:31:11.555Z"
   },
   {
    "duration": 8,
    "start_time": "2021-10-01T10:31:11.824Z"
   },
   {
    "duration": 28,
    "start_time": "2021-10-01T10:31:11.834Z"
   },
   {
    "duration": 18,
    "start_time": "2021-10-01T10:31:11.865Z"
   },
   {
    "duration": 40,
    "start_time": "2021-10-01T10:31:11.885Z"
   },
   {
    "duration": 6471,
    "start_time": "2021-10-01T10:31:11.927Z"
   },
   {
    "duration": 2,
    "start_time": "2021-10-01T10:31:18.400Z"
   },
   {
    "duration": 180,
    "start_time": "2021-10-01T10:31:18.405Z"
   },
   {
    "duration": 18,
    "start_time": "2021-10-01T10:31:18.590Z"
   },
   {
    "duration": 13,
    "start_time": "2021-10-01T10:31:18.610Z"
   },
   {
    "duration": 241,
    "start_time": "2021-10-01T10:31:18.625Z"
   },
   {
    "duration": 17,
    "start_time": "2021-10-01T10:31:18.868Z"
   },
   {
    "duration": 61,
    "start_time": "2021-10-01T10:31:18.887Z"
   },
   {
    "duration": 46,
    "start_time": "2021-10-01T10:31:18.951Z"
   },
   {
    "duration": 18,
    "start_time": "2021-10-01T10:31:18.999Z"
   },
   {
    "duration": 54,
    "start_time": "2021-10-01T10:31:19.019Z"
   },
   {
    "duration": 231,
    "start_time": "2021-10-01T10:31:19.075Z"
   },
   {
    "duration": 12,
    "start_time": "2021-10-01T10:31:19.308Z"
   },
   {
    "duration": 15,
    "start_time": "2021-10-01T10:31:19.321Z"
   },
   {
    "duration": 308,
    "start_time": "2021-10-01T10:32:54.147Z"
   },
   {
    "duration": 270,
    "start_time": "2021-10-01T10:33:00.520Z"
   },
   {
    "duration": 1109,
    "start_time": "2021-10-01T10:33:13.292Z"
   },
   {
    "duration": 84,
    "start_time": "2021-10-01T10:33:14.403Z"
   },
   {
    "duration": 15,
    "start_time": "2021-10-01T10:33:14.490Z"
   },
   {
    "duration": 8,
    "start_time": "2021-10-01T10:33:14.507Z"
   },
   {
    "duration": 47,
    "start_time": "2021-10-01T10:33:14.517Z"
   },
   {
    "duration": 5,
    "start_time": "2021-10-01T10:33:14.566Z"
   },
   {
    "duration": 15,
    "start_time": "2021-10-01T10:33:14.573Z"
   },
   {
    "duration": 14,
    "start_time": "2021-10-01T10:33:14.591Z"
   },
   {
    "duration": 24,
    "start_time": "2021-10-01T10:33:14.607Z"
   },
   {
    "duration": 40,
    "start_time": "2021-10-01T10:33:14.633Z"
   },
   {
    "duration": 389,
    "start_time": "2021-10-01T10:33:14.675Z"
   },
   {
    "duration": 25,
    "start_time": "2021-10-01T10:33:15.067Z"
   },
   {
    "duration": 2149,
    "start_time": "2021-10-01T10:33:15.094Z"
   },
   {
    "duration": 17,
    "start_time": "2021-10-01T10:33:17.249Z"
   },
   {
    "duration": 2,
    "start_time": "2021-10-01T10:33:17.268Z"
   },
   {
    "duration": 235,
    "start_time": "2021-10-01T10:33:17.272Z"
   },
   {
    "duration": 7,
    "start_time": "2021-10-01T10:33:17.509Z"
   },
   {
    "duration": 12,
    "start_time": "2021-10-01T10:33:17.518Z"
   },
   {
    "duration": 21,
    "start_time": "2021-10-01T10:33:17.532Z"
   },
   {
    "duration": 37,
    "start_time": "2021-10-01T10:33:17.555Z"
   },
   {
    "duration": 6318,
    "start_time": "2021-10-01T10:33:17.593Z"
   },
   {
    "duration": 2,
    "start_time": "2021-10-01T10:33:23.913Z"
   },
   {
    "duration": 173,
    "start_time": "2021-10-01T10:33:23.918Z"
   },
   {
    "duration": 18,
    "start_time": "2021-10-01T10:33:24.093Z"
   },
   {
    "duration": 13,
    "start_time": "2021-10-01T10:33:24.113Z"
   },
   {
    "duration": 227,
    "start_time": "2021-10-01T10:33:24.128Z"
   },
   {
    "duration": 15,
    "start_time": "2021-10-01T10:33:24.357Z"
   },
   {
    "duration": 41,
    "start_time": "2021-10-01T10:33:24.374Z"
   },
   {
    "duration": 64,
    "start_time": "2021-10-01T10:33:24.417Z"
   },
   {
    "duration": 17,
    "start_time": "2021-10-01T10:33:24.482Z"
   },
   {
    "duration": 12,
    "start_time": "2021-10-01T10:33:24.501Z"
   },
   {
    "duration": 245,
    "start_time": "2021-10-01T10:33:24.516Z"
   },
   {
    "duration": 13,
    "start_time": "2021-10-01T10:33:24.763Z"
   },
   {
    "duration": 13,
    "start_time": "2021-10-01T10:33:24.778Z"
   },
   {
    "duration": 1131,
    "start_time": "2021-10-01T10:59:36.293Z"
   },
   {
    "duration": 78,
    "start_time": "2021-10-01T10:59:37.426Z"
   },
   {
    "duration": 15,
    "start_time": "2021-10-01T10:59:37.507Z"
   },
   {
    "duration": 8,
    "start_time": "2021-10-01T10:59:37.523Z"
   },
   {
    "duration": 29,
    "start_time": "2021-10-01T10:59:37.533Z"
   },
   {
    "duration": 5,
    "start_time": "2021-10-01T10:59:37.563Z"
   },
   {
    "duration": 12,
    "start_time": "2021-10-01T10:59:37.569Z"
   },
   {
    "duration": 13,
    "start_time": "2021-10-01T10:59:37.584Z"
   },
   {
    "duration": 14,
    "start_time": "2021-10-01T10:59:37.599Z"
   },
   {
    "duration": 53,
    "start_time": "2021-10-01T10:59:37.614Z"
   },
   {
    "duration": 366,
    "start_time": "2021-10-01T10:59:37.669Z"
   },
   {
    "duration": 1676,
    "start_time": "2021-10-01T10:59:38.037Z"
   },
   {
    "duration": 13,
    "start_time": "2021-10-01T10:59:39.715Z"
   },
   {
    "duration": 3,
    "start_time": "2021-10-01T10:59:39.730Z"
   },
   {
    "duration": 222,
    "start_time": "2021-10-01T10:59:39.734Z"
   },
   {
    "duration": 7,
    "start_time": "2021-10-01T10:59:39.958Z"
   },
   {
    "duration": 12,
    "start_time": "2021-10-01T10:59:39.966Z"
   },
   {
    "duration": 6,
    "start_time": "2021-10-01T10:59:39.980Z"
   },
   {
    "duration": 36,
    "start_time": "2021-10-01T10:59:39.987Z"
   },
   {
    "duration": 5601,
    "start_time": "2021-10-01T10:59:40.025Z"
   },
   {
    "duration": 3,
    "start_time": "2021-10-01T10:59:45.628Z"
   },
   {
    "duration": 159,
    "start_time": "2021-10-01T10:59:45.633Z"
   },
   {
    "duration": 17,
    "start_time": "2021-10-01T10:59:45.794Z"
   },
   {
    "duration": 11,
    "start_time": "2021-10-01T10:59:45.813Z"
   },
   {
    "duration": 216,
    "start_time": "2021-10-01T10:59:45.826Z"
   },
   {
    "duration": 14,
    "start_time": "2021-10-01T10:59:46.048Z"
   },
   {
    "duration": 40,
    "start_time": "2021-10-01T10:59:46.065Z"
   },
   {
    "duration": 65,
    "start_time": "2021-10-01T10:59:46.107Z"
   },
   {
    "duration": 16,
    "start_time": "2021-10-01T10:59:46.174Z"
   },
   {
    "duration": 14,
    "start_time": "2021-10-01T10:59:46.192Z"
   },
   {
    "duration": 234,
    "start_time": "2021-10-01T10:59:46.208Z"
   },
   {
    "duration": 11,
    "start_time": "2021-10-01T10:59:46.449Z"
   },
   {
    "duration": 12,
    "start_time": "2021-10-01T10:59:46.462Z"
   },
   {
    "duration": 270,
    "start_time": "2021-10-01T11:21:41.176Z"
   },
   {
    "duration": 2060,
    "start_time": "2021-10-01T11:21:54.889Z"
   },
   {
    "duration": 1094,
    "start_time": "2021-10-01T11:22:30.391Z"
   },
   {
    "duration": 75,
    "start_time": "2021-10-01T11:22:31.488Z"
   },
   {
    "duration": 14,
    "start_time": "2021-10-01T11:22:31.566Z"
   },
   {
    "duration": 12,
    "start_time": "2021-10-01T11:22:31.582Z"
   },
   {
    "duration": 17,
    "start_time": "2021-10-01T11:22:31.595Z"
   },
   {
    "duration": 4,
    "start_time": "2021-10-01T11:22:31.614Z"
   },
   {
    "duration": 34,
    "start_time": "2021-10-01T11:22:31.620Z"
   },
   {
    "duration": 13,
    "start_time": "2021-10-01T11:22:31.657Z"
   },
   {
    "duration": 14,
    "start_time": "2021-10-01T11:22:31.672Z"
   },
   {
    "duration": 18,
    "start_time": "2021-10-01T11:22:31.689Z"
   },
   {
    "duration": 398,
    "start_time": "2021-10-01T11:22:31.709Z"
   },
   {
    "duration": 1947,
    "start_time": "2021-10-01T11:22:32.109Z"
   },
   {
    "duration": 14,
    "start_time": "2021-10-01T11:22:34.058Z"
   },
   {
    "duration": 2,
    "start_time": "2021-10-01T11:22:34.074Z"
   },
   {
    "duration": 321,
    "start_time": "2021-10-01T11:22:34.078Z"
   },
   {
    "duration": 6,
    "start_time": "2021-10-01T11:22:34.401Z"
   },
   {
    "duration": 9,
    "start_time": "2021-10-01T11:22:34.409Z"
   },
   {
    "duration": 5,
    "start_time": "2021-10-01T11:22:34.420Z"
   },
   {
    "duration": 33,
    "start_time": "2021-10-01T11:22:34.449Z"
   },
   {
    "duration": 5480,
    "start_time": "2021-10-01T11:22:34.484Z"
   },
   {
    "duration": 3,
    "start_time": "2021-10-01T11:22:39.966Z"
   },
   {
    "duration": 178,
    "start_time": "2021-10-01T11:22:39.971Z"
   },
   {
    "duration": 18,
    "start_time": "2021-10-01T11:22:40.152Z"
   },
   {
    "duration": 13,
    "start_time": "2021-10-01T11:22:40.173Z"
   },
   {
    "duration": 230,
    "start_time": "2021-10-01T11:22:40.188Z"
   },
   {
    "duration": 31,
    "start_time": "2021-10-01T11:22:40.420Z"
   },
   {
    "duration": 48,
    "start_time": "2021-10-01T11:22:40.453Z"
   },
   {
    "duration": 59,
    "start_time": "2021-10-01T11:22:40.503Z"
   },
   {
    "duration": 18,
    "start_time": "2021-10-01T11:22:40.565Z"
   },
   {
    "duration": 17,
    "start_time": "2021-10-01T11:22:40.586Z"
   },
   {
    "duration": 243,
    "start_time": "2021-10-01T11:22:40.606Z"
   },
   {
    "duration": 13,
    "start_time": "2021-10-01T11:22:40.851Z"
   },
   {
    "duration": 13,
    "start_time": "2021-10-01T11:22:40.866Z"
   },
   {
    "duration": 1536,
    "start_time": "2021-10-01T11:47:33.526Z"
   },
   {
    "duration": 1824,
    "start_time": "2021-10-01T11:48:11.856Z"
   },
   {
    "duration": 1120,
    "start_time": "2021-10-01T11:50:31.825Z"
   },
   {
    "duration": 75,
    "start_time": "2021-10-01T11:50:32.947Z"
   },
   {
    "duration": 14,
    "start_time": "2021-10-01T11:50:33.025Z"
   },
   {
    "duration": 12,
    "start_time": "2021-10-01T11:50:33.050Z"
   },
   {
    "duration": 20,
    "start_time": "2021-10-01T11:50:33.064Z"
   },
   {
    "duration": 7,
    "start_time": "2021-10-01T11:50:33.086Z"
   },
   {
    "duration": 21,
    "start_time": "2021-10-01T11:50:33.095Z"
   },
   {
    "duration": 33,
    "start_time": "2021-10-01T11:50:33.120Z"
   },
   {
    "duration": 16,
    "start_time": "2021-10-01T11:50:33.155Z"
   },
   {
    "duration": 20,
    "start_time": "2021-10-01T11:50:33.173Z"
   },
   {
    "duration": 382,
    "start_time": "2021-10-01T11:50:33.195Z"
   },
   {
    "duration": 1970,
    "start_time": "2021-10-01T11:50:33.579Z"
   },
   {
    "duration": 81,
    "start_time": "2021-10-01T11:50:35.551Z"
   },
   {
    "duration": 272,
    "start_time": "2021-10-01T11:50:35.363Z"
   },
   {
    "duration": 269,
    "start_time": "2021-10-01T11:50:35.367Z"
   },
   {
    "duration": 267,
    "start_time": "2021-10-01T11:50:35.370Z"
   },
   {
    "duration": 266,
    "start_time": "2021-10-01T11:50:35.371Z"
   },
   {
    "duration": 265,
    "start_time": "2021-10-01T11:50:35.373Z"
   },
   {
    "duration": 264,
    "start_time": "2021-10-01T11:50:35.375Z"
   },
   {
    "duration": 263,
    "start_time": "2021-10-01T11:50:35.377Z"
   },
   {
    "duration": 263,
    "start_time": "2021-10-01T11:50:35.378Z"
   },
   {
    "duration": 262,
    "start_time": "2021-10-01T11:50:35.380Z"
   },
   {
    "duration": 261,
    "start_time": "2021-10-01T11:50:35.382Z"
   },
   {
    "duration": 258,
    "start_time": "2021-10-01T11:50:35.386Z"
   },
   {
    "duration": 256,
    "start_time": "2021-10-01T11:50:35.388Z"
   },
   {
    "duration": 254,
    "start_time": "2021-10-01T11:50:35.391Z"
   },
   {
    "duration": 254,
    "start_time": "2021-10-01T11:50:35.393Z"
   },
   {
    "duration": 252,
    "start_time": "2021-10-01T11:50:35.396Z"
   },
   {
    "duration": 250,
    "start_time": "2021-10-01T11:50:35.399Z"
   },
   {
    "duration": 248,
    "start_time": "2021-10-01T11:50:35.401Z"
   },
   {
    "duration": 248,
    "start_time": "2021-10-01T11:50:35.402Z"
   },
   {
    "duration": 247,
    "start_time": "2021-10-01T11:50:35.404Z"
   },
   {
    "duration": 246,
    "start_time": "2021-10-01T11:50:35.406Z"
   },
   {
    "duration": 242,
    "start_time": "2021-10-01T11:50:35.411Z"
   },
   {
    "duration": 19,
    "start_time": "2021-10-01T12:45:05.845Z"
   },
   {
    "duration": 3,
    "start_time": "2021-10-01T12:45:07.417Z"
   },
   {
    "duration": 420,
    "start_time": "2021-10-01T12:45:07.841Z"
   },
   {
    "duration": 7,
    "start_time": "2021-10-01T12:45:08.263Z"
   },
   {
    "duration": 10,
    "start_time": "2021-10-01T12:45:12.336Z"
   },
   {
    "duration": 217,
    "start_time": "2021-10-01T12:45:58.015Z"
   },
   {
    "duration": 1096,
    "start_time": "2021-10-01T12:46:56.796Z"
   },
   {
    "duration": 76,
    "start_time": "2021-10-01T12:46:57.894Z"
   },
   {
    "duration": 14,
    "start_time": "2021-10-01T12:46:57.972Z"
   },
   {
    "duration": 7,
    "start_time": "2021-10-01T12:46:57.987Z"
   },
   {
    "duration": 17,
    "start_time": "2021-10-01T12:46:57.996Z"
   },
   {
    "duration": 5,
    "start_time": "2021-10-01T12:46:58.015Z"
   },
   {
    "duration": 10,
    "start_time": "2021-10-01T12:46:58.050Z"
   },
   {
    "duration": 18,
    "start_time": "2021-10-01T12:46:58.064Z"
   },
   {
    "duration": 20,
    "start_time": "2021-10-01T12:46:58.084Z"
   },
   {
    "duration": 57,
    "start_time": "2021-10-01T12:46:58.107Z"
   },
   {
    "duration": 553,
    "start_time": "2021-10-01T12:46:58.166Z"
   },
   {
    "duration": 2290,
    "start_time": "2021-10-01T12:46:58.721Z"
   },
   {
    "duration": 15,
    "start_time": "2021-10-01T12:47:01.014Z"
   },
   {
    "duration": 488,
    "start_time": "2021-10-01T12:47:01.031Z"
   },
   {
    "duration": 5,
    "start_time": "2021-10-01T12:47:01.521Z"
   },
   {
    "duration": 57,
    "start_time": "2021-10-01T12:47:01.528Z"
   },
   {
    "duration": 5807,
    "start_time": "2021-10-01T12:47:01.587Z"
   },
   {
    "duration": 2,
    "start_time": "2021-10-01T12:47:07.396Z"
   },
   {
    "duration": 154,
    "start_time": "2021-10-01T12:47:07.400Z"
   },
   {
    "duration": 19,
    "start_time": "2021-10-01T12:47:07.555Z"
   },
   {
    "duration": 13,
    "start_time": "2021-10-01T12:47:07.576Z"
   },
   {
    "duration": 213,
    "start_time": "2021-10-01T12:47:07.591Z"
   },
   {
    "duration": 13,
    "start_time": "2021-10-01T12:47:07.807Z"
   },
   {
    "duration": 55,
    "start_time": "2021-10-01T12:47:07.822Z"
   },
   {
    "duration": 34,
    "start_time": "2021-10-01T12:47:07.879Z"
   },
   {
    "duration": 42,
    "start_time": "2021-10-01T12:47:07.914Z"
   },
   {
    "duration": 22,
    "start_time": "2021-10-01T12:47:07.958Z"
   },
   {
    "duration": 260,
    "start_time": "2021-10-01T12:47:07.982Z"
   },
   {
    "duration": 21,
    "start_time": "2021-10-01T12:47:08.243Z"
   },
   {
    "duration": 20,
    "start_time": "2021-10-01T12:47:08.266Z"
   },
   {
    "duration": 1066,
    "start_time": "2021-10-01T13:02:39.193Z"
   },
   {
    "duration": 74,
    "start_time": "2021-10-01T13:02:40.261Z"
   },
   {
    "duration": 20,
    "start_time": "2021-10-01T13:02:40.338Z"
   },
   {
    "duration": 7,
    "start_time": "2021-10-01T13:02:40.361Z"
   },
   {
    "duration": 16,
    "start_time": "2021-10-01T13:02:40.369Z"
   },
   {
    "duration": 5,
    "start_time": "2021-10-01T13:02:40.387Z"
   },
   {
    "duration": 12,
    "start_time": "2021-10-01T13:02:40.394Z"
   },
   {
    "duration": 50,
    "start_time": "2021-10-01T13:02:40.409Z"
   },
   {
    "duration": 12,
    "start_time": "2021-10-01T13:02:40.462Z"
   },
   {
    "duration": 17,
    "start_time": "2021-10-01T13:02:40.476Z"
   },
   {
    "duration": 394,
    "start_time": "2021-10-01T13:02:40.495Z"
   },
   {
    "duration": 1962,
    "start_time": "2021-10-01T13:02:40.891Z"
   },
   {
    "duration": 15,
    "start_time": "2021-10-01T13:02:42.856Z"
   },
   {
    "duration": 320,
    "start_time": "2021-10-01T13:02:42.873Z"
   },
   {
    "duration": 6,
    "start_time": "2021-10-01T13:02:43.195Z"
   },
   {
    "duration": 49,
    "start_time": "2021-10-01T13:02:43.203Z"
   },
   {
    "duration": 5596,
    "start_time": "2021-10-01T13:02:43.254Z"
   },
   {
    "duration": 2,
    "start_time": "2021-10-01T13:02:48.852Z"
   },
   {
    "duration": 146,
    "start_time": "2021-10-01T13:02:48.856Z"
   },
   {
    "duration": 17,
    "start_time": "2021-10-01T13:02:49.004Z"
   },
   {
    "duration": 28,
    "start_time": "2021-10-01T13:02:49.022Z"
   },
   {
    "duration": 199,
    "start_time": "2021-10-01T13:02:49.052Z"
   },
   {
    "duration": 14,
    "start_time": "2021-10-01T13:02:49.255Z"
   },
   {
    "duration": 43,
    "start_time": "2021-10-01T13:02:49.271Z"
   },
   {
    "duration": 57,
    "start_time": "2021-10-01T13:02:49.316Z"
   },
   {
    "duration": 16,
    "start_time": "2021-10-01T13:02:49.375Z"
   },
   {
    "duration": 24,
    "start_time": "2021-10-01T13:02:49.392Z"
   },
   {
    "duration": 195,
    "start_time": "2021-10-01T13:02:49.418Z"
   },
   {
    "duration": 12,
    "start_time": "2021-10-01T13:02:49.614Z"
   },
   {
    "duration": 24,
    "start_time": "2021-10-01T13:02:49.628Z"
   },
   {
    "duration": 5,
    "start_time": "2021-10-01T13:05:01.062Z"
   },
   {
    "duration": 259,
    "start_time": "2021-10-01T13:09:54.327Z"
   },
   {
    "duration": 33,
    "start_time": "2021-10-01T13:10:04.832Z"
   },
   {
    "duration": 5401,
    "start_time": "2021-10-01T13:12:04.858Z"
   },
   {
    "duration": 7216,
    "start_time": "2021-10-01T13:12:48.042Z"
   },
   {
    "duration": 250,
    "start_time": "2021-10-01T13:13:24.139Z"
   },
   {
    "duration": 239,
    "start_time": "2021-10-01T13:13:33.258Z"
   },
   {
    "duration": 5953,
    "start_time": "2021-10-01T13:14:39.115Z"
   },
   {
    "duration": 397,
    "start_time": "2021-10-01T13:30:07.236Z"
   },
   {
    "duration": 447,
    "start_time": "2021-10-01T13:30:18.397Z"
   },
   {
    "duration": 718,
    "start_time": "2021-10-01T13:30:45.155Z"
   },
   {
    "duration": 813,
    "start_time": "2021-10-01T13:31:08.180Z"
   },
   {
    "duration": 629,
    "start_time": "2021-10-01T13:32:15.664Z"
   },
   {
    "duration": 617,
    "start_time": "2021-10-01T13:32:23.793Z"
   },
   {
    "duration": 840,
    "start_time": "2021-10-01T13:33:39.054Z"
   },
   {
    "duration": 569,
    "start_time": "2021-10-01T13:33:57.483Z"
   },
   {
    "duration": 661,
    "start_time": "2021-10-01T13:34:20.220Z"
   },
   {
    "duration": 1138,
    "start_time": "2021-10-01T13:34:56.529Z"
   },
   {
    "duration": 664,
    "start_time": "2021-10-01T13:35:19.472Z"
   },
   {
    "duration": 684,
    "start_time": "2021-10-01T13:35:43.893Z"
   },
   {
    "duration": 671,
    "start_time": "2021-10-01T13:36:06.358Z"
   },
   {
    "duration": 1152,
    "start_time": "2021-10-01T13:36:48.161Z"
   },
   {
    "duration": 1201,
    "start_time": "2021-10-01T13:36:59.918Z"
   },
   {
    "duration": 875,
    "start_time": "2021-10-01T13:37:29.109Z"
   },
   {
    "duration": 649,
    "start_time": "2021-10-01T13:37:44.963Z"
   },
   {
    "duration": 596,
    "start_time": "2021-10-01T13:38:00.525Z"
   },
   {
    "duration": 784,
    "start_time": "2021-10-01T13:42:04.401Z"
   },
   {
    "duration": 543,
    "start_time": "2021-10-01T13:43:02.172Z"
   },
   {
    "duration": 730,
    "start_time": "2021-10-01T13:44:09.592Z"
   },
   {
    "duration": 576,
    "start_time": "2021-10-01T13:44:37.898Z"
   },
   {
    "duration": 583,
    "start_time": "2021-10-01T13:44:54.923Z"
   },
   {
    "duration": 878,
    "start_time": "2021-10-01T13:45:20.698Z"
   },
   {
    "duration": 573,
    "start_time": "2021-10-01T13:45:38.505Z"
   },
   {
    "duration": 552,
    "start_time": "2021-10-01T13:45:59.400Z"
   },
   {
    "duration": 34,
    "start_time": "2021-10-01T14:03:17.981Z"
   },
   {
    "duration": 14,
    "start_time": "2021-10-01T14:03:43.063Z"
   },
   {
    "duration": 10,
    "start_time": "2021-10-01T14:03:56.879Z"
   },
   {
    "duration": 13,
    "start_time": "2021-10-01T14:04:01.642Z"
   },
   {
    "duration": 11,
    "start_time": "2021-10-01T14:05:17.274Z"
   },
   {
    "duration": 13,
    "start_time": "2021-10-01T14:06:02.366Z"
   },
   {
    "duration": 15,
    "start_time": "2021-10-01T14:06:03.669Z"
   },
   {
    "duration": 206,
    "start_time": "2021-10-01T14:06:04.659Z"
   },
   {
    "duration": 15,
    "start_time": "2021-10-01T14:08:14.240Z"
   },
   {
    "duration": 11,
    "start_time": "2021-10-01T14:13:51.739Z"
   },
   {
    "duration": 6857,
    "start_time": "2021-10-01T14:14:49.281Z"
   },
   {
    "duration": 3,
    "start_time": "2021-10-01T14:15:24.985Z"
   },
   {
    "duration": 1182,
    "start_time": "2021-10-01T14:15:30.944Z"
   },
   {
    "duration": 85,
    "start_time": "2021-10-01T14:15:32.128Z"
   },
   {
    "duration": 16,
    "start_time": "2021-10-01T14:15:32.216Z"
   },
   {
    "duration": 6,
    "start_time": "2021-10-01T14:15:32.251Z"
   },
   {
    "duration": 16,
    "start_time": "2021-10-01T14:15:32.260Z"
   },
   {
    "duration": 8,
    "start_time": "2021-10-01T14:15:32.279Z"
   },
   {
    "duration": 13,
    "start_time": "2021-10-01T14:15:32.289Z"
   },
   {
    "duration": 49,
    "start_time": "2021-10-01T14:15:32.306Z"
   },
   {
    "duration": 16,
    "start_time": "2021-10-01T14:15:32.358Z"
   },
   {
    "duration": 23,
    "start_time": "2021-10-01T14:15:32.376Z"
   },
   {
    "duration": 404,
    "start_time": "2021-10-01T14:15:32.401Z"
   },
   {
    "duration": 2159,
    "start_time": "2021-10-01T14:15:32.807Z"
   },
   {
    "duration": 10,
    "start_time": "2021-10-01T14:15:34.968Z"
   },
   {
    "duration": 23,
    "start_time": "2021-10-01T14:15:34.979Z"
   },
   {
    "duration": 391,
    "start_time": "2021-10-01T14:15:35.004Z"
   },
   {
    "duration": 6,
    "start_time": "2021-10-01T14:15:35.397Z"
   },
   {
    "duration": 54,
    "start_time": "2021-10-01T14:15:35.404Z"
   },
   {
    "duration": 8193,
    "start_time": "2021-10-01T14:15:35.460Z"
   },
   {
    "duration": 588,
    "start_time": "2021-10-01T14:15:43.655Z"
   },
   {
    "duration": 590,
    "start_time": "2021-10-01T14:15:44.249Z"
   },
   {
    "duration": 11,
    "start_time": "2021-10-01T14:15:44.849Z"
   },
   {
    "duration": 2,
    "start_time": "2021-10-01T14:15:44.862Z"
   },
   {
    "duration": 16,
    "start_time": "2021-10-01T14:15:44.867Z"
   },
   {
    "duration": 326,
    "start_time": "2021-10-01T14:15:44.885Z"
   },
   {
    "duration": 15,
    "start_time": "2021-10-01T14:15:45.213Z"
   },
   {
    "duration": 57,
    "start_time": "2021-10-01T14:15:45.230Z"
   },
   {
    "duration": 36,
    "start_time": "2021-10-01T14:15:45.289Z"
   },
   {
    "duration": 37,
    "start_time": "2021-10-01T14:15:45.327Z"
   },
   {
    "duration": 16,
    "start_time": "2021-10-01T14:15:45.367Z"
   },
   {
    "duration": 227,
    "start_time": "2021-10-01T14:15:45.385Z"
   },
   {
    "duration": 15,
    "start_time": "2021-10-01T14:15:45.614Z"
   },
   {
    "duration": 31,
    "start_time": "2021-10-01T14:15:45.631Z"
   },
   {
    "duration": 6214,
    "start_time": "2021-10-01T14:45:15.438Z"
   },
   {
    "duration": 1706,
    "start_time": "2021-10-01T14:47:14.531Z"
   },
   {
    "duration": 287,
    "start_time": "2021-10-01T14:50:42.097Z"
   },
   {
    "duration": 1185,
    "start_time": "2021-10-01T14:51:14.141Z"
   },
   {
    "duration": 969,
    "start_time": "2021-10-01T14:51:27.455Z"
   },
   {
    "duration": 1032,
    "start_time": "2021-10-01T14:51:44.831Z"
   },
   {
    "duration": 1207,
    "start_time": "2021-10-01T14:52:36.329Z"
   },
   {
    "duration": 1190,
    "start_time": "2021-10-01T14:52:47.224Z"
   },
   {
    "duration": 1226,
    "start_time": "2021-10-01T14:53:34.163Z"
   },
   {
    "duration": 1238,
    "start_time": "2021-10-01T14:55:22.215Z"
   },
   {
    "duration": 126,
    "start_time": "2021-10-01T14:55:47.271Z"
   },
   {
    "duration": 995,
    "start_time": "2021-10-01T14:55:52.731Z"
   },
   {
    "duration": 1084,
    "start_time": "2021-10-01T14:56:29.855Z"
   },
   {
    "duration": 5473,
    "start_time": "2021-10-01T14:57:54.149Z"
   },
   {
    "duration": 3750,
    "start_time": "2021-10-01T14:58:56.495Z"
   },
   {
    "duration": 14,
    "start_time": "2021-10-01T14:59:11.486Z"
   },
   {
    "duration": 23,
    "start_time": "2021-10-01T15:01:31.148Z"
   },
   {
    "duration": 5830,
    "start_time": "2021-10-01T15:02:52.044Z"
   },
   {
    "duration": 14,
    "start_time": "2021-10-01T15:03:42.759Z"
   },
   {
    "duration": 3797,
    "start_time": "2021-10-01T15:03:49.172Z"
   },
   {
    "duration": 3322,
    "start_time": "2021-10-01T15:04:26.464Z"
   },
   {
    "duration": 1097,
    "start_time": "2021-10-01T15:04:38.074Z"
   },
   {
    "duration": 76,
    "start_time": "2021-10-01T15:04:39.173Z"
   },
   {
    "duration": 14,
    "start_time": "2021-10-01T15:04:39.251Z"
   },
   {
    "duration": 18,
    "start_time": "2021-10-01T15:04:39.267Z"
   },
   {
    "duration": 30,
    "start_time": "2021-10-01T15:04:39.287Z"
   },
   {
    "duration": 8,
    "start_time": "2021-10-01T15:04:39.318Z"
   },
   {
    "duration": 18,
    "start_time": "2021-10-01T15:04:39.327Z"
   },
   {
    "duration": 17,
    "start_time": "2021-10-01T15:04:39.347Z"
   },
   {
    "duration": 29,
    "start_time": "2021-10-01T15:04:39.366Z"
   },
   {
    "duration": 19,
    "start_time": "2021-10-01T15:04:39.396Z"
   },
   {
    "duration": 362,
    "start_time": "2021-10-01T15:04:39.417Z"
   },
   {
    "duration": 2040,
    "start_time": "2021-10-01T15:04:39.781Z"
   },
   {
    "duration": 10,
    "start_time": "2021-10-01T15:04:41.822Z"
   },
   {
    "duration": 27,
    "start_time": "2021-10-01T15:04:41.834Z"
   },
   {
    "duration": 342,
    "start_time": "2021-10-01T15:04:41.863Z"
   },
   {
    "duration": 4,
    "start_time": "2021-10-01T15:04:42.207Z"
   },
   {
    "duration": 54,
    "start_time": "2021-10-01T15:04:42.213Z"
   },
   {
    "duration": 5559,
    "start_time": "2021-10-01T15:04:42.270Z"
   },
   {
    "duration": 569,
    "start_time": "2021-10-01T15:04:47.831Z"
   },
   {
    "duration": 562,
    "start_time": "2021-10-01T15:04:48.402Z"
   },
   {
    "duration": 11,
    "start_time": "2021-10-01T15:04:48.965Z"
   },
   {
    "duration": 23,
    "start_time": "2021-10-01T15:04:48.978Z"
   },
   {
    "duration": 3566,
    "start_time": "2021-10-01T15:04:49.004Z"
   },
   {
    "duration": 218,
    "start_time": "2021-10-01T15:04:52.354Z"
   },
   {
    "duration": 217,
    "start_time": "2021-10-01T15:04:52.356Z"
   },
   {
    "duration": 216,
    "start_time": "2021-10-01T15:04:52.358Z"
   },
   {
    "duration": 215,
    "start_time": "2021-10-01T15:04:52.360Z"
   },
   {
    "duration": 207,
    "start_time": "2021-10-01T15:04:52.369Z"
   },
   {
    "duration": 206,
    "start_time": "2021-10-01T15:04:52.371Z"
   },
   {
    "duration": 205,
    "start_time": "2021-10-01T15:04:52.373Z"
   },
   {
    "duration": 204,
    "start_time": "2021-10-01T15:04:52.375Z"
   },
   {
    "duration": 203,
    "start_time": "2021-10-01T15:04:52.377Z"
   },
   {
    "duration": 201,
    "start_time": "2021-10-01T15:04:52.380Z"
   },
   {
    "duration": 199,
    "start_time": "2021-10-01T15:04:52.382Z"
   },
   {
    "duration": 4300,
    "start_time": "2021-10-01T15:05:28.802Z"
   },
   {
    "duration": 315,
    "start_time": "2021-10-01T15:07:37.423Z"
   },
   {
    "duration": 292,
    "start_time": "2021-10-01T15:08:40.467Z"
   },
   {
    "duration": 270,
    "start_time": "2021-10-01T15:08:52.890Z"
   },
   {
    "duration": 319,
    "start_time": "2021-10-01T15:09:22.137Z"
   },
   {
    "duration": 386,
    "start_time": "2021-10-01T15:09:44.312Z"
   },
   {
    "duration": 355,
    "start_time": "2021-10-01T15:09:53.542Z"
   },
   {
    "duration": 314,
    "start_time": "2021-10-01T15:10:49.083Z"
   },
   {
    "duration": 338,
    "start_time": "2021-10-01T15:11:28.059Z"
   },
   {
    "duration": 371,
    "start_time": "2021-10-01T15:11:28.549Z"
   },
   {
    "duration": 333,
    "start_time": "2021-10-01T15:12:16.670Z"
   },
   {
    "duration": 365,
    "start_time": "2021-10-01T15:12:32.112Z"
   },
   {
    "duration": 331,
    "start_time": "2021-10-01T15:13:45.254Z"
   },
   {
    "duration": 324,
    "start_time": "2021-10-01T15:13:51.590Z"
   },
   {
    "duration": 7,
    "start_time": "2021-10-01T15:14:27.640Z"
   },
   {
    "duration": 717,
    "start_time": "2021-10-01T15:14:49.619Z"
   },
   {
    "duration": 708,
    "start_time": "2021-10-01T15:15:19.133Z"
   },
   {
    "duration": 790,
    "start_time": "2021-10-01T15:15:44.194Z"
   },
   {
    "duration": 1131,
    "start_time": "2021-10-01T15:15:49.531Z"
   },
   {
    "duration": 79,
    "start_time": "2021-10-01T15:15:50.664Z"
   },
   {
    "duration": 14,
    "start_time": "2021-10-01T15:15:50.749Z"
   },
   {
    "duration": 14,
    "start_time": "2021-10-01T15:15:50.766Z"
   },
   {
    "duration": 26,
    "start_time": "2021-10-01T15:15:50.782Z"
   },
   {
    "duration": 7,
    "start_time": "2021-10-01T15:15:50.810Z"
   },
   {
    "duration": 39,
    "start_time": "2021-10-01T15:15:50.819Z"
   },
   {
    "duration": 14,
    "start_time": "2021-10-01T15:15:50.861Z"
   },
   {
    "duration": 17,
    "start_time": "2021-10-01T15:15:50.877Z"
   },
   {
    "duration": 19,
    "start_time": "2021-10-01T15:15:50.896Z"
   },
   {
    "duration": 401,
    "start_time": "2021-10-01T15:15:50.917Z"
   },
   {
    "duration": 2013,
    "start_time": "2021-10-01T15:15:51.320Z"
   },
   {
    "duration": 18,
    "start_time": "2021-10-01T15:15:53.335Z"
   },
   {
    "duration": 15,
    "start_time": "2021-10-01T15:15:53.355Z"
   },
   {
    "duration": 348,
    "start_time": "2021-10-01T15:15:53.372Z"
   },
   {
    "duration": 5,
    "start_time": "2021-10-01T15:15:53.722Z"
   },
   {
    "duration": 46,
    "start_time": "2021-10-01T15:15:53.729Z"
   },
   {
    "duration": 5952,
    "start_time": "2021-10-01T15:15:53.777Z"
   },
   {
    "duration": 594,
    "start_time": "2021-10-01T15:15:59.731Z"
   },
   {
    "duration": 622,
    "start_time": "2021-10-01T15:16:00.328Z"
   },
   {
    "duration": 12,
    "start_time": "2021-10-01T15:16:00.952Z"
   },
   {
    "duration": 28,
    "start_time": "2021-10-01T15:16:00.966Z"
   },
   {
    "duration": 620,
    "start_time": "2021-10-01T15:16:00.998Z"
   },
   {
    "duration": 7,
    "start_time": "2021-10-01T15:16:01.620Z"
   },
   {
    "duration": 482,
    "start_time": "2021-10-01T15:16:01.629Z"
   },
   {
    "duration": 769,
    "start_time": "2021-10-01T15:16:02.113Z"
   },
   {
    "duration": 212,
    "start_time": "2021-10-01T15:16:02.672Z"
   },
   {
    "duration": 210,
    "start_time": "2021-10-01T15:16:02.675Z"
   },
   {
    "duration": 209,
    "start_time": "2021-10-01T15:16:02.677Z"
   },
   {
    "duration": 208,
    "start_time": "2021-10-01T15:16:02.679Z"
   },
   {
    "duration": 207,
    "start_time": "2021-10-01T15:16:02.681Z"
   },
   {
    "duration": 207,
    "start_time": "2021-10-01T15:16:02.683Z"
   },
   {
    "duration": 206,
    "start_time": "2021-10-01T15:16:02.685Z"
   },
   {
    "duration": 205,
    "start_time": "2021-10-01T15:16:02.687Z"
   },
   {
    "duration": 204,
    "start_time": "2021-10-01T15:16:02.689Z"
   },
   {
    "duration": 1462,
    "start_time": "2021-10-01T15:17:02.896Z"
   },
   {
    "duration": 787,
    "start_time": "2021-10-01T15:17:27.930Z"
   },
   {
    "duration": 1409,
    "start_time": "2021-10-01T15:18:06.773Z"
   },
   {
    "duration": 113,
    "start_time": "2021-10-01T15:18:08.184Z"
   },
   {
    "duration": 20,
    "start_time": "2021-10-01T15:18:08.300Z"
   },
   {
    "duration": 6,
    "start_time": "2021-10-01T15:18:08.323Z"
   },
   {
    "duration": 37,
    "start_time": "2021-10-01T15:18:08.332Z"
   },
   {
    "duration": 7,
    "start_time": "2021-10-01T15:18:08.371Z"
   },
   {
    "duration": 33,
    "start_time": "2021-10-01T15:18:08.379Z"
   },
   {
    "duration": 18,
    "start_time": "2021-10-01T15:18:08.414Z"
   },
   {
    "duration": 28,
    "start_time": "2021-10-01T15:18:08.434Z"
   },
   {
    "duration": 30,
    "start_time": "2021-10-01T15:18:08.464Z"
   },
   {
    "duration": 386,
    "start_time": "2021-10-01T15:18:08.496Z"
   },
   {
    "duration": 2279,
    "start_time": "2021-10-01T15:18:08.884Z"
   },
   {
    "duration": 15,
    "start_time": "2021-10-01T15:18:11.166Z"
   },
   {
    "duration": 22,
    "start_time": "2021-10-01T15:18:11.184Z"
   },
   {
    "duration": 559,
    "start_time": "2021-10-01T15:18:11.208Z"
   },
   {
    "duration": 5,
    "start_time": "2021-10-01T15:18:11.769Z"
   },
   {
    "duration": 34,
    "start_time": "2021-10-01T15:18:11.776Z"
   },
   {
    "duration": 5507,
    "start_time": "2021-10-01T15:18:11.812Z"
   },
   {
    "duration": 898,
    "start_time": "2021-10-01T15:18:17.321Z"
   },
   {
    "duration": 928,
    "start_time": "2021-10-01T15:18:18.221Z"
   },
   {
    "duration": 16,
    "start_time": "2021-10-01T15:18:19.151Z"
   },
   {
    "duration": 34,
    "start_time": "2021-10-01T15:18:19.169Z"
   },
   {
    "duration": 593,
    "start_time": "2021-10-01T15:18:19.208Z"
   },
   {
    "duration": 6,
    "start_time": "2021-10-01T15:18:19.803Z"
   },
   {
    "duration": 673,
    "start_time": "2021-10-01T15:18:19.811Z"
   },
   {
    "duration": 748,
    "start_time": "2021-10-01T15:18:20.486Z"
   },
   {
    "duration": 210,
    "start_time": "2021-10-01T15:18:21.026Z"
   },
   {
    "duration": 209,
    "start_time": "2021-10-01T15:18:21.028Z"
   },
   {
    "duration": 208,
    "start_time": "2021-10-01T15:18:21.030Z"
   },
   {
    "duration": 207,
    "start_time": "2021-10-01T15:18:21.032Z"
   },
   {
    "duration": 205,
    "start_time": "2021-10-01T15:18:21.035Z"
   },
   {
    "duration": 205,
    "start_time": "2021-10-01T15:18:21.036Z"
   },
   {
    "duration": 204,
    "start_time": "2021-10-01T15:18:21.038Z"
   },
   {
    "duration": 203,
    "start_time": "2021-10-01T15:18:21.040Z"
   },
   {
    "duration": 201,
    "start_time": "2021-10-01T15:18:21.043Z"
   },
   {
    "duration": 260,
    "start_time": "2021-10-01T15:21:13.541Z"
   },
   {
    "duration": 11,
    "start_time": "2021-10-01T15:21:32.071Z"
   },
   {
    "duration": 228,
    "start_time": "2021-10-01T15:32:57.926Z"
   },
   {
    "duration": 222,
    "start_time": "2021-10-01T15:34:52.097Z"
   },
   {
    "duration": 1206,
    "start_time": "2021-10-01T15:39:36.929Z"
   },
   {
    "duration": 83,
    "start_time": "2021-10-01T15:39:38.137Z"
   },
   {
    "duration": 26,
    "start_time": "2021-10-01T15:39:38.222Z"
   },
   {
    "duration": 5,
    "start_time": "2021-10-01T15:39:38.251Z"
   },
   {
    "duration": 17,
    "start_time": "2021-10-01T15:39:38.258Z"
   },
   {
    "duration": 6,
    "start_time": "2021-10-01T15:39:38.277Z"
   },
   {
    "duration": 21,
    "start_time": "2021-10-01T15:39:38.284Z"
   },
   {
    "duration": 42,
    "start_time": "2021-10-01T15:39:38.309Z"
   },
   {
    "duration": 15,
    "start_time": "2021-10-01T15:39:38.353Z"
   },
   {
    "duration": 22,
    "start_time": "2021-10-01T15:39:38.370Z"
   },
   {
    "duration": 415,
    "start_time": "2021-10-01T15:39:38.394Z"
   },
   {
    "duration": 2075,
    "start_time": "2021-10-01T15:39:38.811Z"
   },
   {
    "duration": 10,
    "start_time": "2021-10-01T15:39:40.887Z"
   },
   {
    "duration": 27,
    "start_time": "2021-10-01T15:39:40.899Z"
   },
   {
    "duration": 357,
    "start_time": "2021-10-01T15:39:40.928Z"
   },
   {
    "duration": 5,
    "start_time": "2021-10-01T15:39:41.287Z"
   },
   {
    "duration": 36,
    "start_time": "2021-10-01T15:39:41.294Z"
   },
   {
    "duration": 6477,
    "start_time": "2021-10-01T15:39:41.332Z"
   },
   {
    "duration": 572,
    "start_time": "2021-10-01T15:39:47.811Z"
   },
   {
    "duration": 583,
    "start_time": "2021-10-01T15:39:48.385Z"
   },
   {
    "duration": 11,
    "start_time": "2021-10-01T15:39:48.970Z"
   },
   {
    "duration": 444,
    "start_time": "2021-10-01T15:39:48.983Z"
   },
   {
    "duration": 356,
    "start_time": "2021-10-01T15:39:49.430Z"
   },
   {
    "duration": 10,
    "start_time": "2021-10-01T15:39:49.788Z"
   },
   {
    "duration": 265,
    "start_time": "2021-10-01T15:39:49.800Z"
   },
   {
    "duration": 237,
    "start_time": "2021-10-01T15:39:50.066Z"
   },
   {
    "duration": 14,
    "start_time": "2021-10-01T15:39:50.305Z"
   },
   {
    "duration": 59,
    "start_time": "2021-10-01T15:39:50.321Z"
   },
   {
    "duration": 36,
    "start_time": "2021-10-01T15:39:50.382Z"
   },
   {
    "duration": 41,
    "start_time": "2021-10-01T15:39:50.419Z"
   },
   {
    "duration": 13,
    "start_time": "2021-10-01T15:39:50.462Z"
   },
   {
    "duration": 216,
    "start_time": "2021-10-01T15:39:50.477Z"
   },
   {
    "duration": 12,
    "start_time": "2021-10-01T15:39:50.695Z"
   },
   {
    "duration": 13,
    "start_time": "2021-10-01T15:39:50.709Z"
   },
   {
    "duration": 204,
    "start_time": "2021-10-01T15:40:48.813Z"
   },
   {
    "duration": 214,
    "start_time": "2021-10-01T15:41:00.244Z"
   },
   {
    "duration": 210,
    "start_time": "2021-10-01T15:41:38.025Z"
   },
   {
    "duration": 213,
    "start_time": "2021-10-01T15:41:47.507Z"
   },
   {
    "duration": 247,
    "start_time": "2021-10-01T15:42:06.942Z"
   },
   {
    "duration": 55,
    "start_time": "2021-10-01T15:56:18.496Z"
   },
   {
    "duration": 42,
    "start_time": "2021-10-01T16:03:28.256Z"
   },
   {
    "duration": 42,
    "start_time": "2021-10-01T16:03:34.306Z"
   },
   {
    "duration": 42,
    "start_time": "2021-10-01T16:08:07.923Z"
   },
   {
    "duration": 39,
    "start_time": "2021-10-01T16:09:36.989Z"
   },
   {
    "duration": 18,
    "start_time": "2021-10-01T16:33:08.946Z"
   },
   {
    "duration": 18,
    "start_time": "2021-10-01T16:33:49.329Z"
   },
   {
    "duration": 12,
    "start_time": "2021-10-01T16:49:42.773Z"
   },
   {
    "duration": 11,
    "start_time": "2021-10-01T16:53:27.308Z"
   },
   {
    "duration": 1923,
    "start_time": "2021-10-01T17:06:37.708Z"
   },
   {
    "duration": 77,
    "start_time": "2021-10-01T17:06:39.635Z"
   },
   {
    "duration": 15,
    "start_time": "2021-10-01T17:06:39.714Z"
   },
   {
    "duration": 6,
    "start_time": "2021-10-01T17:06:39.749Z"
   },
   {
    "duration": 23,
    "start_time": "2021-10-01T17:06:39.757Z"
   },
   {
    "duration": 6,
    "start_time": "2021-10-01T17:06:39.782Z"
   },
   {
    "duration": 13,
    "start_time": "2021-10-01T17:06:39.790Z"
   },
   {
    "duration": 42,
    "start_time": "2021-10-01T17:06:39.807Z"
   },
   {
    "duration": 18,
    "start_time": "2021-10-01T17:06:39.852Z"
   },
   {
    "duration": 17,
    "start_time": "2021-10-01T17:06:39.872Z"
   },
   {
    "duration": 391,
    "start_time": "2021-10-01T17:06:39.891Z"
   },
   {
    "duration": 2029,
    "start_time": "2021-10-01T17:06:40.284Z"
   },
   {
    "duration": 10,
    "start_time": "2021-10-01T17:06:42.315Z"
   },
   {
    "duration": 30,
    "start_time": "2021-10-01T17:06:42.327Z"
   },
   {
    "duration": 332,
    "start_time": "2021-10-01T17:06:42.358Z"
   },
   {
    "duration": 5,
    "start_time": "2021-10-01T17:06:42.691Z"
   },
   {
    "duration": 51,
    "start_time": "2021-10-01T17:06:42.698Z"
   },
   {
    "duration": 7719,
    "start_time": "2021-10-01T17:06:42.751Z"
   },
   {
    "duration": 620,
    "start_time": "2021-10-01T17:06:50.472Z"
   },
   {
    "duration": 578,
    "start_time": "2021-10-01T17:06:51.094Z"
   },
   {
    "duration": 11,
    "start_time": "2021-10-01T17:06:51.674Z"
   },
   {
    "duration": 474,
    "start_time": "2021-10-01T17:06:51.687Z"
   },
   {
    "duration": 363,
    "start_time": "2021-10-01T17:06:52.163Z"
   },
   {
    "duration": 9,
    "start_time": "2021-10-01T17:06:52.528Z"
   },
   {
    "duration": 262,
    "start_time": "2021-10-01T17:06:52.549Z"
   },
   {
    "duration": 285,
    "start_time": "2021-10-01T17:06:52.815Z"
   },
   {
    "duration": 60,
    "start_time": "2021-10-01T17:06:53.102Z"
   },
   {
    "duration": 36,
    "start_time": "2021-10-01T17:06:53.163Z"
   },
   {
    "duration": 18,
    "start_time": "2021-10-01T17:06:53.201Z"
   },
   {
    "duration": 37,
    "start_time": "2021-10-01T17:06:53.221Z"
   },
   {
    "duration": 12,
    "start_time": "2021-10-01T17:06:53.259Z"
   },
   {
    "duration": 1189,
    "start_time": "2021-10-01T17:30:49.739Z"
   },
   {
    "duration": 76,
    "start_time": "2021-10-01T17:30:50.930Z"
   },
   {
    "duration": 13,
    "start_time": "2021-10-01T17:30:51.008Z"
   },
   {
    "duration": 18,
    "start_time": "2021-10-01T17:30:51.023Z"
   },
   {
    "duration": 24,
    "start_time": "2021-10-01T17:30:51.043Z"
   },
   {
    "duration": 10,
    "start_time": "2021-10-01T17:30:51.069Z"
   },
   {
    "duration": 20,
    "start_time": "2021-10-01T17:30:51.080Z"
   },
   {
    "duration": 20,
    "start_time": "2021-10-01T17:30:51.103Z"
   },
   {
    "duration": 18,
    "start_time": "2021-10-01T17:30:51.125Z"
   },
   {
    "duration": 20,
    "start_time": "2021-10-01T17:30:51.145Z"
   },
   {
    "duration": 380,
    "start_time": "2021-10-01T17:30:51.166Z"
   },
   {
    "duration": 2100,
    "start_time": "2021-10-01T17:30:51.549Z"
   },
   {
    "duration": 9,
    "start_time": "2021-10-01T17:30:53.651Z"
   },
   {
    "duration": 17,
    "start_time": "2021-10-01T17:30:53.661Z"
   },
   {
    "duration": 335,
    "start_time": "2021-10-01T17:30:53.679Z"
   },
   {
    "duration": 4,
    "start_time": "2021-10-01T17:30:54.016Z"
   },
   {
    "duration": 47,
    "start_time": "2021-10-01T17:30:54.022Z"
   },
   {
    "duration": 5399,
    "start_time": "2021-10-01T17:30:54.071Z"
   },
   {
    "duration": 539,
    "start_time": "2021-10-01T17:30:59.472Z"
   },
   {
    "duration": 584,
    "start_time": "2021-10-01T17:31:00.013Z"
   },
   {
    "duration": 11,
    "start_time": "2021-10-01T17:31:00.599Z"
   },
   {
    "duration": 478,
    "start_time": "2021-10-01T17:31:00.612Z"
   },
   {
    "duration": 319,
    "start_time": "2021-10-01T17:31:01.094Z"
   },
   {
    "duration": 10,
    "start_time": "2021-10-01T17:31:01.415Z"
   },
   {
    "duration": 257,
    "start_time": "2021-10-01T17:31:01.427Z"
   },
   {
    "duration": 264,
    "start_time": "2021-10-01T17:31:01.685Z"
   },
   {
    "duration": 42,
    "start_time": "2021-10-01T17:31:01.951Z"
   },
   {
    "duration": 59,
    "start_time": "2021-10-01T17:31:01.994Z"
   },
   {
    "duration": 18,
    "start_time": "2021-10-01T17:31:02.055Z"
   },
   {
    "duration": 12,
    "start_time": "2021-10-01T17:31:02.075Z"
   },
   {
    "duration": 23,
    "start_time": "2021-10-01T17:31:02.089Z"
   },
   {
    "duration": 1042,
    "start_time": "2021-10-01T17:36:12.808Z"
   },
   {
    "duration": 76,
    "start_time": "2021-10-01T17:36:13.852Z"
   },
   {
    "duration": 13,
    "start_time": "2021-10-01T17:36:13.930Z"
   },
   {
    "duration": 5,
    "start_time": "2021-10-01T17:36:13.950Z"
   },
   {
    "duration": 16,
    "start_time": "2021-10-01T17:36:13.957Z"
   },
   {
    "duration": 5,
    "start_time": "2021-10-01T17:36:13.974Z"
   },
   {
    "duration": 10,
    "start_time": "2021-10-01T17:36:13.981Z"
   },
   {
    "duration": 13,
    "start_time": "2021-10-01T17:36:13.994Z"
   },
   {
    "duration": 45,
    "start_time": "2021-10-01T17:36:14.009Z"
   },
   {
    "duration": 21,
    "start_time": "2021-10-01T17:36:14.056Z"
   },
   {
    "duration": 375,
    "start_time": "2021-10-01T17:36:14.079Z"
   },
   {
    "duration": 1934,
    "start_time": "2021-10-01T17:36:14.456Z"
   },
   {
    "duration": 9,
    "start_time": "2021-10-01T17:36:16.392Z"
   },
   {
    "duration": 27,
    "start_time": "2021-10-01T17:36:16.403Z"
   },
   {
    "duration": 324,
    "start_time": "2021-10-01T17:36:16.432Z"
   },
   {
    "duration": 4,
    "start_time": "2021-10-01T17:36:16.758Z"
   },
   {
    "duration": 34,
    "start_time": "2021-10-01T17:36:16.764Z"
   },
   {
    "duration": 5336,
    "start_time": "2021-10-01T17:36:16.800Z"
   },
   {
    "duration": 538,
    "start_time": "2021-10-01T17:36:22.138Z"
   },
   {
    "duration": 574,
    "start_time": "2021-10-01T17:36:22.678Z"
   },
   {
    "duration": 11,
    "start_time": "2021-10-01T17:36:23.254Z"
   },
   {
    "duration": 447,
    "start_time": "2021-10-01T17:36:23.266Z"
   },
   {
    "duration": 385,
    "start_time": "2021-10-01T17:36:23.716Z"
   },
   {
    "duration": 10,
    "start_time": "2021-10-01T17:36:24.103Z"
   },
   {
    "duration": 264,
    "start_time": "2021-10-01T17:36:24.114Z"
   },
   {
    "duration": 271,
    "start_time": "2021-10-01T17:36:24.379Z"
   },
   {
    "duration": 39,
    "start_time": "2021-10-01T17:36:24.652Z"
   },
   {
    "duration": 58,
    "start_time": "2021-10-01T17:36:24.693Z"
   },
   {
    "duration": 17,
    "start_time": "2021-10-01T17:36:24.753Z"
   },
   {
    "duration": 12,
    "start_time": "2021-10-01T17:36:24.772Z"
   },
   {
    "duration": 10,
    "start_time": "2021-10-01T17:36:24.786Z"
   },
   {
    "duration": 1019,
    "start_time": "2021-10-02T12:39:30.273Z"
   },
   {
    "duration": 74,
    "start_time": "2021-10-02T12:39:31.294Z"
   },
   {
    "duration": 13,
    "start_time": "2021-10-02T12:39:31.371Z"
   },
   {
    "duration": 15,
    "start_time": "2021-10-02T12:39:31.386Z"
   },
   {
    "duration": 22,
    "start_time": "2021-10-02T12:39:31.402Z"
   },
   {
    "duration": 4,
    "start_time": "2021-10-02T12:39:31.426Z"
   },
   {
    "duration": 16,
    "start_time": "2021-10-02T12:39:31.432Z"
   },
   {
    "duration": 18,
    "start_time": "2021-10-02T12:39:31.449Z"
   },
   {
    "duration": 21,
    "start_time": "2021-10-02T12:39:31.468Z"
   },
   {
    "duration": 25,
    "start_time": "2021-10-02T12:39:31.490Z"
   },
   {
    "duration": 396,
    "start_time": "2021-10-02T12:39:31.517Z"
   },
   {
    "duration": 2039,
    "start_time": "2021-10-02T12:39:31.915Z"
   },
   {
    "duration": 8,
    "start_time": "2021-10-02T12:39:33.956Z"
   },
   {
    "duration": 11,
    "start_time": "2021-10-02T12:39:33.965Z"
   },
   {
    "duration": 335,
    "start_time": "2021-10-02T12:39:33.978Z"
   },
   {
    "duration": 5,
    "start_time": "2021-10-02T12:39:34.315Z"
   },
   {
    "duration": 32,
    "start_time": "2021-10-02T12:39:34.321Z"
   },
   {
    "duration": 4595,
    "start_time": "2021-10-02T12:39:34.355Z"
   },
   {
    "duration": 601,
    "start_time": "2021-10-02T12:39:38.952Z"
   },
   {
    "duration": 602,
    "start_time": "2021-10-02T12:39:39.555Z"
   },
   {
    "duration": 10,
    "start_time": "2021-10-02T12:39:40.159Z"
   },
   {
    "duration": 449,
    "start_time": "2021-10-02T12:39:40.172Z"
   },
   {
    "duration": 339,
    "start_time": "2021-10-02T12:39:40.623Z"
   },
   {
    "duration": 8,
    "start_time": "2021-10-02T12:39:40.964Z"
   },
   {
    "duration": 243,
    "start_time": "2021-10-02T12:39:40.974Z"
   },
   {
    "duration": 265,
    "start_time": "2021-10-02T12:39:41.219Z"
   },
   {
    "duration": 48,
    "start_time": "2021-10-02T12:39:41.485Z"
   },
   {
    "duration": 28,
    "start_time": "2021-10-02T12:39:41.534Z"
   },
   {
    "duration": 40,
    "start_time": "2021-10-02T12:39:41.563Z"
   },
   {
    "duration": 14,
    "start_time": "2021-10-02T12:39:41.605Z"
   },
   {
    "duration": 30,
    "start_time": "2021-10-02T12:39:41.621Z"
   },
   {
    "duration": 81,
    "start_time": "2021-10-02T13:46:41.175Z"
   },
   {
    "duration": 1144,
    "start_time": "2021-10-02T14:25:47.149Z"
   },
   {
    "duration": 75,
    "start_time": "2021-10-02T14:25:48.295Z"
   },
   {
    "duration": 14,
    "start_time": "2021-10-02T14:25:48.376Z"
   },
   {
    "duration": 7,
    "start_time": "2021-10-02T14:25:48.392Z"
   },
   {
    "duration": 15,
    "start_time": "2021-10-02T14:25:48.400Z"
   },
   {
    "duration": 5,
    "start_time": "2021-10-02T14:25:48.417Z"
   },
   {
    "duration": 12,
    "start_time": "2021-10-02T14:25:48.423Z"
   },
   {
    "duration": 44,
    "start_time": "2021-10-02T14:25:48.437Z"
   },
   {
    "duration": 13,
    "start_time": "2021-10-02T14:25:48.483Z"
   },
   {
    "duration": 20,
    "start_time": "2021-10-02T14:25:48.498Z"
   },
   {
    "duration": 404,
    "start_time": "2021-10-02T14:25:48.521Z"
   },
   {
    "duration": 2026,
    "start_time": "2021-10-02T14:25:48.927Z"
   },
   {
    "duration": 24,
    "start_time": "2021-10-02T14:25:50.955Z"
   },
   {
    "duration": 15,
    "start_time": "2021-10-02T14:25:50.981Z"
   },
   {
    "duration": 340,
    "start_time": "2021-10-02T14:25:50.997Z"
   },
   {
    "duration": 5,
    "start_time": "2021-10-02T14:25:51.339Z"
   },
   {
    "duration": 51,
    "start_time": "2021-10-02T14:25:51.346Z"
   },
   {
    "duration": 6032,
    "start_time": "2021-10-02T14:25:51.399Z"
   },
   {
    "duration": 575,
    "start_time": "2021-10-02T14:25:57.433Z"
   },
   {
    "duration": 578,
    "start_time": "2021-10-02T14:25:58.010Z"
   },
   {
    "duration": 10,
    "start_time": "2021-10-02T14:25:58.590Z"
   },
   {
    "duration": 457,
    "start_time": "2021-10-02T14:25:58.602Z"
   },
   {
    "duration": 376,
    "start_time": "2021-10-02T14:25:59.062Z"
   },
   {
    "duration": 10,
    "start_time": "2021-10-02T14:25:59.440Z"
   },
   {
    "duration": 246,
    "start_time": "2021-10-02T14:25:59.451Z"
   },
   {
    "duration": 270,
    "start_time": "2021-10-02T14:25:59.699Z"
   },
   {
    "duration": 47,
    "start_time": "2021-10-02T14:25:59.970Z"
   },
   {
    "duration": 60,
    "start_time": "2021-10-02T14:26:00.018Z"
   },
   {
    "duration": 18,
    "start_time": "2021-10-02T14:26:00.080Z"
   },
   {
    "duration": 12,
    "start_time": "2021-10-02T14:26:00.100Z"
   },
   {
    "duration": 17,
    "start_time": "2021-10-02T14:26:00.114Z"
   },
   {
    "duration": 7,
    "start_time": "2021-10-02T14:45:55.560Z"
   },
   {
    "duration": 1077,
    "start_time": "2021-10-02T14:46:49.420Z"
   },
   {
    "duration": 76,
    "start_time": "2021-10-02T14:46:50.499Z"
   },
   {
    "duration": 13,
    "start_time": "2021-10-02T14:46:50.577Z"
   },
   {
    "duration": 10,
    "start_time": "2021-10-02T14:46:50.592Z"
   },
   {
    "duration": 16,
    "start_time": "2021-10-02T14:46:50.604Z"
   },
   {
    "duration": 6,
    "start_time": "2021-10-02T14:46:50.622Z"
   },
   {
    "duration": 12,
    "start_time": "2021-10-02T14:46:50.630Z"
   },
   {
    "duration": 43,
    "start_time": "2021-10-02T14:46:50.646Z"
   },
   {
    "duration": 13,
    "start_time": "2021-10-02T14:46:50.692Z"
   },
   {
    "duration": 9,
    "start_time": "2021-10-02T14:46:50.707Z"
   },
   {
    "duration": 19,
    "start_time": "2021-10-02T14:46:50.718Z"
   },
   {
    "duration": 407,
    "start_time": "2021-10-02T14:46:50.739Z"
   },
   {
    "duration": 2001,
    "start_time": "2021-10-02T14:46:51.148Z"
   },
   {
    "duration": 9,
    "start_time": "2021-10-02T14:46:53.150Z"
   },
   {
    "duration": 28,
    "start_time": "2021-10-02T14:46:53.161Z"
   },
   {
    "duration": 333,
    "start_time": "2021-10-02T14:46:53.191Z"
   },
   {
    "duration": 5,
    "start_time": "2021-10-02T14:46:53.526Z"
   },
   {
    "duration": 47,
    "start_time": "2021-10-02T14:46:53.533Z"
   },
   {
    "duration": 6841,
    "start_time": "2021-10-02T14:46:53.582Z"
   },
   {
    "duration": 579,
    "start_time": "2021-10-02T14:47:00.424Z"
   },
   {
    "duration": 597,
    "start_time": "2021-10-02T14:47:01.005Z"
   },
   {
    "duration": 11,
    "start_time": "2021-10-02T14:47:01.604Z"
   },
   {
    "duration": 432,
    "start_time": "2021-10-02T14:47:01.618Z"
   },
   {
    "duration": 389,
    "start_time": "2021-10-02T14:47:02.052Z"
   },
   {
    "duration": 10,
    "start_time": "2021-10-02T14:47:02.442Z"
   },
   {
    "duration": 261,
    "start_time": "2021-10-02T14:47:02.454Z"
   },
   {
    "duration": 278,
    "start_time": "2021-10-02T14:47:02.717Z"
   },
   {
    "duration": 41,
    "start_time": "2021-10-02T14:47:02.997Z"
   },
   {
    "duration": 59,
    "start_time": "2021-10-02T14:47:03.040Z"
   },
   {
    "duration": 16,
    "start_time": "2021-10-02T14:47:03.101Z"
   },
   {
    "duration": 13,
    "start_time": "2021-10-02T14:47:03.119Z"
   },
   {
    "duration": 12,
    "start_time": "2021-10-02T14:47:03.133Z"
   },
   {
    "duration": 11,
    "start_time": "2021-10-02T15:00:37.378Z"
   },
   {
    "duration": 152,
    "start_time": "2021-10-02T15:00:45.586Z"
   },
   {
    "duration": 10,
    "start_time": "2021-10-02T15:00:58.629Z"
   },
   {
    "duration": 152,
    "start_time": "2021-10-02T15:00:59.108Z"
   },
   {
    "duration": 1102,
    "start_time": "2021-10-02T15:01:09.974Z"
   },
   {
    "duration": 77,
    "start_time": "2021-10-02T15:01:11.078Z"
   },
   {
    "duration": 14,
    "start_time": "2021-10-02T15:01:11.157Z"
   },
   {
    "duration": 7,
    "start_time": "2021-10-02T15:01:11.173Z"
   },
   {
    "duration": 15,
    "start_time": "2021-10-02T15:01:11.182Z"
   },
   {
    "duration": 5,
    "start_time": "2021-10-02T15:01:11.200Z"
   },
   {
    "duration": 11,
    "start_time": "2021-10-02T15:01:11.207Z"
   },
   {
    "duration": 16,
    "start_time": "2021-10-02T15:01:11.220Z"
   },
   {
    "duration": 48,
    "start_time": "2021-10-02T15:01:11.238Z"
   },
   {
    "duration": 8,
    "start_time": "2021-10-02T15:01:11.288Z"
   },
   {
    "duration": 21,
    "start_time": "2021-10-02T15:01:11.297Z"
   },
   {
    "duration": 408,
    "start_time": "2021-10-02T15:01:11.320Z"
   },
   {
    "duration": 2323,
    "start_time": "2021-10-02T15:01:11.730Z"
   },
   {
    "duration": 21,
    "start_time": "2021-10-02T15:01:14.055Z"
   },
   {
    "duration": 11,
    "start_time": "2021-10-02T15:01:14.078Z"
   },
   {
    "duration": 288,
    "start_time": "2021-10-02T15:01:14.091Z"
   },
   {
    "duration": 5,
    "start_time": "2021-10-02T15:01:14.380Z"
   },
   {
    "duration": 23,
    "start_time": "2021-10-02T15:01:14.387Z"
   },
   {
    "duration": 4138,
    "start_time": "2021-10-02T15:01:14.412Z"
   },
   {
    "duration": -68,
    "start_time": "2021-10-02T15:01:18.621Z"
   },
   {
    "duration": -75,
    "start_time": "2021-10-02T15:01:18.629Z"
   },
   {
    "duration": -77,
    "start_time": "2021-10-02T15:01:18.632Z"
   },
   {
    "duration": -79,
    "start_time": "2021-10-02T15:01:18.635Z"
   },
   {
    "duration": -80,
    "start_time": "2021-10-02T15:01:18.637Z"
   },
   {
    "duration": -87,
    "start_time": "2021-10-02T15:01:18.645Z"
   },
   {
    "duration": -88,
    "start_time": "2021-10-02T15:01:18.647Z"
   },
   {
    "duration": -91,
    "start_time": "2021-10-02T15:01:18.651Z"
   },
   {
    "duration": -78,
    "start_time": "2021-10-02T15:01:18.654Z"
   },
   {
    "duration": -84,
    "start_time": "2021-10-02T15:01:18.661Z"
   },
   {
    "duration": -86,
    "start_time": "2021-10-02T15:01:18.664Z"
   },
   {
    "duration": -87,
    "start_time": "2021-10-02T15:01:18.666Z"
   },
   {
    "duration": -89,
    "start_time": "2021-10-02T15:01:18.669Z"
   },
   {
    "duration": 4214,
    "start_time": "2021-10-02T15:18:31.235Z"
   },
   {
    "duration": 1082,
    "start_time": "2021-10-02T15:19:17.714Z"
   },
   {
    "duration": 77,
    "start_time": "2021-10-02T15:19:18.798Z"
   },
   {
    "duration": 14,
    "start_time": "2021-10-02T15:19:18.877Z"
   },
   {
    "duration": 6,
    "start_time": "2021-10-02T15:19:18.893Z"
   },
   {
    "duration": 35,
    "start_time": "2021-10-02T15:19:18.901Z"
   },
   {
    "duration": 5,
    "start_time": "2021-10-02T15:19:18.938Z"
   },
   {
    "duration": 18,
    "start_time": "2021-10-02T15:19:18.945Z"
   },
   {
    "duration": 25,
    "start_time": "2021-10-02T15:19:18.966Z"
   },
   {
    "duration": 15,
    "start_time": "2021-10-02T15:19:18.993Z"
   },
   {
    "duration": 8,
    "start_time": "2021-10-02T15:19:19.009Z"
   },
   {
    "duration": 21,
    "start_time": "2021-10-02T15:19:19.019Z"
   },
   {
    "duration": 420,
    "start_time": "2021-10-02T15:19:19.042Z"
   },
   {
    "duration": 2321,
    "start_time": "2021-10-02T15:19:19.464Z"
   },
   {
    "duration": 9,
    "start_time": "2021-10-02T15:19:21.787Z"
   },
   {
    "duration": 10,
    "start_time": "2021-10-02T15:19:21.798Z"
   },
   {
    "duration": 294,
    "start_time": "2021-10-02T15:19:21.810Z"
   },
   {
    "duration": 5,
    "start_time": "2021-10-02T15:19:22.106Z"
   },
   {
    "duration": 27,
    "start_time": "2021-10-02T15:19:22.112Z"
   },
   {
    "duration": 4265,
    "start_time": "2021-10-02T15:19:22.141Z"
   },
   {
    "duration": -84,
    "start_time": "2021-10-02T15:19:26.493Z"
   },
   {
    "duration": -93,
    "start_time": "2021-10-02T15:19:26.503Z"
   },
   {
    "duration": -95,
    "start_time": "2021-10-02T15:19:26.506Z"
   },
   {
    "duration": -97,
    "start_time": "2021-10-02T15:19:26.509Z"
   },
   {
    "duration": -100,
    "start_time": "2021-10-02T15:19:26.513Z"
   },
   {
    "duration": -103,
    "start_time": "2021-10-02T15:19:26.517Z"
   },
   {
    "duration": -105,
    "start_time": "2021-10-02T15:19:26.520Z"
   },
   {
    "duration": -106,
    "start_time": "2021-10-02T15:19:26.522Z"
   },
   {
    "duration": -108,
    "start_time": "2021-10-02T15:19:26.525Z"
   },
   {
    "duration": -110,
    "start_time": "2021-10-02T15:19:26.528Z"
   },
   {
    "duration": -113,
    "start_time": "2021-10-02T15:19:26.532Z"
   },
   {
    "duration": -115,
    "start_time": "2021-10-02T15:19:26.535Z"
   },
   {
    "duration": -115,
    "start_time": "2021-10-02T15:19:26.537Z"
   },
   {
    "duration": 3576,
    "start_time": "2021-10-02T15:21:14.500Z"
   },
   {
    "duration": 1078,
    "start_time": "2021-10-02T15:28:17.444Z"
   },
   {
    "duration": 73,
    "start_time": "2021-10-02T15:28:18.524Z"
   },
   {
    "duration": 13,
    "start_time": "2021-10-02T15:28:18.598Z"
   },
   {
    "duration": 5,
    "start_time": "2021-10-02T15:28:18.613Z"
   },
   {
    "duration": 16,
    "start_time": "2021-10-02T15:28:18.620Z"
   },
   {
    "duration": 5,
    "start_time": "2021-10-02T15:28:18.637Z"
   },
   {
    "duration": 33,
    "start_time": "2021-10-02T15:28:18.644Z"
   },
   {
    "duration": 14,
    "start_time": "2021-10-02T15:28:18.680Z"
   },
   {
    "duration": 18,
    "start_time": "2021-10-02T15:28:18.696Z"
   },
   {
    "duration": 7,
    "start_time": "2021-10-02T15:28:18.715Z"
   },
   {
    "duration": 19,
    "start_time": "2021-10-02T15:28:18.724Z"
   },
   {
    "duration": 398,
    "start_time": "2021-10-02T15:28:18.745Z"
   },
   {
    "duration": 2022,
    "start_time": "2021-10-02T15:28:19.145Z"
   },
   {
    "duration": 13,
    "start_time": "2021-10-02T15:28:21.169Z"
   },
   {
    "duration": 12,
    "start_time": "2021-10-02T15:28:21.185Z"
   },
   {
    "duration": 385,
    "start_time": "2021-10-02T15:28:21.199Z"
   },
   {
    "duration": 4,
    "start_time": "2021-10-02T15:28:21.586Z"
   },
   {
    "duration": 26,
    "start_time": "2021-10-02T15:28:21.592Z"
   },
   {
    "duration": 3957,
    "start_time": "2021-10-02T15:28:21.620Z"
   },
   {
    "duration": 430,
    "start_time": "2021-10-02T15:28:25.579Z"
   },
   {
    "duration": 432,
    "start_time": "2021-10-02T15:28:26.011Z"
   },
   {
    "duration": 9,
    "start_time": "2021-10-02T15:28:26.445Z"
   },
   {
    "duration": 352,
    "start_time": "2021-10-02T15:28:26.457Z"
   },
   {
    "duration": 311,
    "start_time": "2021-10-02T15:28:26.811Z"
   },
   {
    "duration": 9,
    "start_time": "2021-10-02T15:28:27.124Z"
   },
   {
    "duration": 150,
    "start_time": "2021-10-02T15:28:27.134Z"
   },
   {
    "duration": 315,
    "start_time": "2021-10-02T15:28:27.286Z"
   },
   {
    "duration": 36,
    "start_time": "2021-10-02T15:28:27.603Z"
   },
   {
    "duration": 53,
    "start_time": "2021-10-02T15:28:27.640Z"
   },
   {
    "duration": 113,
    "start_time": "2021-10-02T15:28:27.695Z"
   },
   {
    "duration": 9,
    "start_time": "2021-10-02T15:28:27.810Z"
   },
   {
    "duration": 10,
    "start_time": "2021-10-02T15:28:27.821Z"
   },
   {
    "duration": 684,
    "start_time": "2021-10-02T15:30:23.732Z"
   },
   {
    "duration": 10,
    "start_time": "2021-10-02T15:31:24.946Z"
   },
   {
    "duration": 348,
    "start_time": "2021-10-02T15:31:30.772Z"
   },
   {
    "duration": 336,
    "start_time": "2021-10-02T15:31:43.385Z"
   },
   {
    "duration": 11,
    "start_time": "2021-10-02T15:31:56.381Z"
   },
   {
    "duration": 160,
    "start_time": "2021-10-02T15:44:03.869Z"
   },
   {
    "duration": 110,
    "start_time": "2021-10-02T15:44:13.008Z"
   },
   {
    "duration": 138,
    "start_time": "2021-10-02T15:44:24.083Z"
   },
   {
    "duration": 235,
    "start_time": "2021-10-02T15:51:22.725Z"
   },
   {
    "duration": 237,
    "start_time": "2021-10-02T15:51:35.324Z"
   },
   {
    "duration": 280,
    "start_time": "2021-10-02T15:52:42.084Z"
   },
   {
    "duration": 42,
    "start_time": "2021-10-02T16:08:44.639Z"
   },
   {
    "duration": 66,
    "start_time": "2021-10-02T16:11:34.987Z"
   },
   {
    "duration": 42,
    "start_time": "2021-10-02T16:11:43.468Z"
   },
   {
    "duration": 48,
    "start_time": "2021-10-02T16:12:13.351Z"
   },
   {
    "duration": 46,
    "start_time": "2021-10-02T16:14:12.509Z"
   },
   {
    "duration": 50,
    "start_time": "2021-10-02T16:14:20.693Z"
   },
   {
    "duration": 49,
    "start_time": "2021-10-02T16:14:32.972Z"
   },
   {
    "duration": 50,
    "start_time": "2021-10-02T16:14:43.981Z"
   },
   {
    "duration": 42,
    "start_time": "2021-10-02T16:15:02.801Z"
   },
   {
    "duration": 44,
    "start_time": "2021-10-02T16:15:24.004Z"
   },
   {
    "duration": 747,
    "start_time": "2021-10-02T16:16:56.409Z"
   },
   {
    "duration": 280,
    "start_time": "2021-10-02T16:17:06.659Z"
   },
   {
    "duration": 262,
    "start_time": "2021-10-02T16:17:19.074Z"
   },
   {
    "duration": 667,
    "start_time": "2021-10-02T16:20:49.899Z"
   },
   {
    "duration": 33,
    "start_time": "2021-10-02T16:21:15.082Z"
   },
   {
    "duration": 7,
    "start_time": "2021-10-02T16:26:34.104Z"
   },
   {
    "duration": 1081,
    "start_time": "2021-10-02T18:43:53.905Z"
   },
   {
    "duration": 76,
    "start_time": "2021-10-02T18:43:54.988Z"
   },
   {
    "duration": 15,
    "start_time": "2021-10-02T18:43:55.066Z"
   },
   {
    "duration": 6,
    "start_time": "2021-10-02T18:43:55.083Z"
   },
   {
    "duration": 19,
    "start_time": "2021-10-02T18:43:55.091Z"
   },
   {
    "duration": 5,
    "start_time": "2021-10-02T18:43:55.111Z"
   },
   {
    "duration": 15,
    "start_time": "2021-10-02T18:43:55.117Z"
   },
   {
    "duration": 14,
    "start_time": "2021-10-02T18:43:55.135Z"
   },
   {
    "duration": 38,
    "start_time": "2021-10-02T18:43:55.151Z"
   },
   {
    "duration": 7,
    "start_time": "2021-10-02T18:43:55.191Z"
   },
   {
    "duration": 21,
    "start_time": "2021-10-02T18:43:55.199Z"
   },
   {
    "duration": 400,
    "start_time": "2021-10-02T18:43:55.222Z"
   },
   {
    "duration": 2056,
    "start_time": "2021-10-02T18:43:55.624Z"
   },
   {
    "duration": 9,
    "start_time": "2021-10-02T18:43:57.682Z"
   },
   {
    "duration": 11,
    "start_time": "2021-10-02T18:43:57.693Z"
   },
   {
    "duration": 282,
    "start_time": "2021-10-02T18:43:57.706Z"
   },
   {
    "duration": 4,
    "start_time": "2021-10-02T18:43:57.990Z"
   },
   {
    "duration": 34,
    "start_time": "2021-10-02T18:43:57.996Z"
   },
   {
    "duration": 6278,
    "start_time": "2021-10-02T18:43:58.032Z"
   },
   {
    "duration": 441,
    "start_time": "2021-10-02T18:44:04.312Z"
   },
   {
    "duration": 461,
    "start_time": "2021-10-02T18:44:04.755Z"
   },
   {
    "duration": 10,
    "start_time": "2021-10-02T18:44:05.218Z"
   },
   {
    "duration": 350,
    "start_time": "2021-10-02T18:44:05.232Z"
   },
   {
    "duration": 358,
    "start_time": "2021-10-02T18:44:05.584Z"
   },
   {
    "duration": 10,
    "start_time": "2021-10-02T18:44:05.944Z"
   },
   {
    "duration": 190,
    "start_time": "2021-10-02T18:44:05.955Z"
   },
   {
    "duration": 394,
    "start_time": "2021-10-02T18:44:06.147Z"
   },
   {
    "duration": 8,
    "start_time": "2021-10-02T18:44:06.543Z"
   },
   {
    "duration": 326,
    "start_time": "2021-10-02T18:44:06.553Z"
   },
   {
    "duration": 90,
    "start_time": "2021-10-02T18:44:06.880Z"
   },
   {
    "duration": -102,
    "start_time": "2021-10-02T18:44:07.074Z"
   },
   {
    "duration": -104,
    "start_time": "2021-10-02T18:44:07.077Z"
   },
   {
    "duration": -105,
    "start_time": "2021-10-02T18:44:07.079Z"
   },
   {
    "duration": -109,
    "start_time": "2021-10-02T18:44:07.084Z"
   },
   {
    "duration": -110,
    "start_time": "2021-10-02T18:44:07.086Z"
   },
   {
    "duration": -113,
    "start_time": "2021-10-02T18:44:07.089Z"
   },
   {
    "duration": 5,
    "start_time": "2021-10-02T18:53:32.454Z"
   },
   {
    "duration": 34,
    "start_time": "2021-10-02T18:53:33.380Z"
   },
   {
    "duration": 1459,
    "start_time": "2021-10-02T18:53:39.762Z"
   },
   {
    "duration": 79,
    "start_time": "2021-10-02T18:53:41.224Z"
   },
   {
    "duration": 14,
    "start_time": "2021-10-02T18:53:41.306Z"
   },
   {
    "duration": 6,
    "start_time": "2021-10-02T18:53:41.323Z"
   },
   {
    "duration": 16,
    "start_time": "2021-10-02T18:53:41.331Z"
   },
   {
    "duration": 5,
    "start_time": "2021-10-02T18:53:41.349Z"
   },
   {
    "duration": 29,
    "start_time": "2021-10-02T18:53:41.356Z"
   },
   {
    "duration": 14,
    "start_time": "2021-10-02T18:53:41.388Z"
   },
   {
    "duration": 12,
    "start_time": "2021-10-02T18:53:41.405Z"
   },
   {
    "duration": 8,
    "start_time": "2021-10-02T18:53:41.419Z"
   },
   {
    "duration": 53,
    "start_time": "2021-10-02T18:53:41.428Z"
   },
   {
    "duration": 405,
    "start_time": "2021-10-02T18:53:41.483Z"
   },
   {
    "duration": 2209,
    "start_time": "2021-10-02T18:53:41.889Z"
   },
   {
    "duration": 10,
    "start_time": "2021-10-02T18:53:44.100Z"
   },
   {
    "duration": 10,
    "start_time": "2021-10-02T18:53:44.112Z"
   },
   {
    "duration": 291,
    "start_time": "2021-10-02T18:53:44.124Z"
   },
   {
    "duration": 4,
    "start_time": "2021-10-02T18:53:44.416Z"
   },
   {
    "duration": 25,
    "start_time": "2021-10-02T18:53:44.422Z"
   },
   {
    "duration": 3807,
    "start_time": "2021-10-02T18:53:44.449Z"
   },
   {
    "duration": 632,
    "start_time": "2021-10-02T18:53:48.258Z"
   },
   {
    "duration": 878,
    "start_time": "2021-10-02T18:53:48.893Z"
   },
   {
    "duration": 10,
    "start_time": "2021-10-02T18:53:49.776Z"
   },
   {
    "duration": 354,
    "start_time": "2021-10-02T18:53:49.790Z"
   },
   {
    "duration": 395,
    "start_time": "2021-10-02T18:53:50.146Z"
   },
   {
    "duration": 11,
    "start_time": "2021-10-02T18:53:50.542Z"
   },
   {
    "duration": 158,
    "start_time": "2021-10-02T18:53:50.554Z"
   },
   {
    "duration": 275,
    "start_time": "2021-10-02T18:53:50.714Z"
   },
   {
    "duration": 6,
    "start_time": "2021-10-02T18:53:50.991Z"
   },
   {
    "duration": 333,
    "start_time": "2021-10-02T18:53:50.998Z"
   },
   {
    "duration": 88,
    "start_time": "2021-10-02T18:53:51.332Z"
   },
   {
    "duration": -125,
    "start_time": "2021-10-02T18:53:51.547Z"
   },
   {
    "duration": -129,
    "start_time": "2021-10-02T18:53:51.552Z"
   },
   {
    "duration": -135,
    "start_time": "2021-10-02T18:53:51.559Z"
   },
   {
    "duration": -137,
    "start_time": "2021-10-02T18:53:51.562Z"
   },
   {
    "duration": -141,
    "start_time": "2021-10-02T18:53:51.566Z"
   },
   {
    "duration": -143,
    "start_time": "2021-10-02T18:53:51.569Z"
   },
   {
    "duration": 3956,
    "start_time": "2021-10-02T18:54:49.486Z"
   },
   {
    "duration": 3848,
    "start_time": "2021-10-02T18:55:03.811Z"
   },
   {
    "duration": 1139,
    "start_time": "2021-10-02T18:55:41.577Z"
   },
   {
    "duration": 78,
    "start_time": "2021-10-02T18:55:42.718Z"
   },
   {
    "duration": 15,
    "start_time": "2021-10-02T18:55:42.798Z"
   },
   {
    "duration": 10,
    "start_time": "2021-10-02T18:55:42.814Z"
   },
   {
    "duration": 17,
    "start_time": "2021-10-02T18:55:42.826Z"
   },
   {
    "duration": 5,
    "start_time": "2021-10-02T18:55:42.845Z"
   },
   {
    "duration": 34,
    "start_time": "2021-10-02T18:55:42.852Z"
   },
   {
    "duration": 14,
    "start_time": "2021-10-02T18:55:42.889Z"
   },
   {
    "duration": 15,
    "start_time": "2021-10-02T18:55:42.905Z"
   },
   {
    "duration": 7,
    "start_time": "2021-10-02T18:55:42.922Z"
   },
   {
    "duration": 56,
    "start_time": "2021-10-02T18:55:42.931Z"
   },
   {
    "duration": 406,
    "start_time": "2021-10-02T18:55:42.989Z"
   },
   {
    "duration": 2111,
    "start_time": "2021-10-02T18:55:43.397Z"
   },
   {
    "duration": 10,
    "start_time": "2021-10-02T18:55:45.511Z"
   },
   {
    "duration": 11,
    "start_time": "2021-10-02T18:55:45.523Z"
   },
   {
    "duration": 291,
    "start_time": "2021-10-02T18:55:45.535Z"
   },
   {
    "duration": 5,
    "start_time": "2021-10-02T18:55:45.828Z"
   },
   {
    "duration": 28,
    "start_time": "2021-10-02T18:55:45.835Z"
   },
   {
    "duration": 3735,
    "start_time": "2021-10-02T18:55:45.865Z"
   },
   {
    "duration": 437,
    "start_time": "2021-10-02T18:55:49.601Z"
   },
   {
    "duration": 543,
    "start_time": "2021-10-02T18:55:50.039Z"
   },
   {
    "duration": 14,
    "start_time": "2021-10-02T18:55:50.584Z"
   },
   {
    "duration": 626,
    "start_time": "2021-10-02T18:55:50.603Z"
   },
   {
    "duration": 329,
    "start_time": "2021-10-02T18:55:51.231Z"
   },
   {
    "duration": 18,
    "start_time": "2021-10-02T18:55:51.562Z"
   },
   {
    "duration": 149,
    "start_time": "2021-10-02T18:55:51.583Z"
   },
   {
    "duration": 277,
    "start_time": "2021-10-02T18:55:51.734Z"
   },
   {
    "duration": 7,
    "start_time": "2021-10-02T18:55:52.013Z"
   },
   {
    "duration": 324,
    "start_time": "2021-10-02T18:55:52.022Z"
   },
   {
    "duration": 91,
    "start_time": "2021-10-02T18:55:52.349Z"
   },
   {
    "duration": -114,
    "start_time": "2021-10-02T18:55:52.556Z"
   },
   {
    "duration": -115,
    "start_time": "2021-10-02T18:55:52.559Z"
   },
   {
    "duration": -117,
    "start_time": "2021-10-02T18:55:52.562Z"
   },
   {
    "duration": -118,
    "start_time": "2021-10-02T18:55:52.564Z"
   },
   {
    "duration": -123,
    "start_time": "2021-10-02T18:55:52.571Z"
   },
   {
    "duration": -125,
    "start_time": "2021-10-02T18:55:52.574Z"
   },
   {
    "duration": 1211,
    "start_time": "2021-10-02T19:10:46.604Z"
   },
   {
    "duration": 75,
    "start_time": "2021-10-02T19:10:47.817Z"
   },
   {
    "duration": 15,
    "start_time": "2021-10-02T19:10:47.894Z"
   },
   {
    "duration": 6,
    "start_time": "2021-10-02T19:10:47.911Z"
   },
   {
    "duration": 18,
    "start_time": "2021-10-02T19:10:47.919Z"
   },
   {
    "duration": 6,
    "start_time": "2021-10-02T19:10:47.939Z"
   },
   {
    "duration": 32,
    "start_time": "2021-10-02T19:10:47.947Z"
   },
   {
    "duration": 15,
    "start_time": "2021-10-02T19:10:47.983Z"
   },
   {
    "duration": 14,
    "start_time": "2021-10-02T19:10:48.000Z"
   },
   {
    "duration": 8,
    "start_time": "2021-10-02T19:10:48.016Z"
   },
   {
    "duration": 60,
    "start_time": "2021-10-02T19:10:48.025Z"
   },
   {
    "duration": 392,
    "start_time": "2021-10-02T19:10:48.087Z"
   },
   {
    "duration": 2043,
    "start_time": "2021-10-02T19:10:48.481Z"
   },
   {
    "duration": 9,
    "start_time": "2021-10-02T19:10:50.526Z"
   },
   {
    "duration": 21,
    "start_time": "2021-10-02T19:10:50.537Z"
   },
   {
    "duration": 267,
    "start_time": "2021-10-02T19:10:50.560Z"
   },
   {
    "duration": 4,
    "start_time": "2021-10-02T19:10:50.829Z"
   },
   {
    "duration": 26,
    "start_time": "2021-10-02T19:10:50.835Z"
   },
   {
    "duration": 4392,
    "start_time": "2021-10-02T19:10:50.876Z"
   },
   {
    "duration": 449,
    "start_time": "2021-10-02T19:10:55.270Z"
   },
   {
    "duration": 446,
    "start_time": "2021-10-02T19:10:55.721Z"
   },
   {
    "duration": 12,
    "start_time": "2021-10-02T19:10:56.169Z"
   },
   {
    "duration": 334,
    "start_time": "2021-10-02T19:10:56.184Z"
   },
   {
    "duration": 312,
    "start_time": "2021-10-02T19:10:56.520Z"
   },
   {
    "duration": 10,
    "start_time": "2021-10-02T19:10:56.834Z"
   },
   {
    "duration": 155,
    "start_time": "2021-10-02T19:10:56.845Z"
   },
   {
    "duration": 265,
    "start_time": "2021-10-02T19:10:57.002Z"
   },
   {
    "duration": 12,
    "start_time": "2021-10-02T19:10:57.268Z"
   },
   {
    "duration": 398,
    "start_time": "2021-10-02T19:10:57.281Z"
   },
   {
    "duration": 88,
    "start_time": "2021-10-02T19:10:57.681Z"
   },
   {
    "duration": -110,
    "start_time": "2021-10-02T19:10:57.881Z"
   },
   {
    "duration": -112,
    "start_time": "2021-10-02T19:10:57.884Z"
   },
   {
    "duration": -121,
    "start_time": "2021-10-02T19:10:57.894Z"
   },
   {
    "duration": -123,
    "start_time": "2021-10-02T19:10:57.897Z"
   },
   {
    "duration": -123,
    "start_time": "2021-10-02T19:10:57.899Z"
   },
   {
    "duration": -125,
    "start_time": "2021-10-02T19:10:57.901Z"
   },
   {
    "duration": 1111,
    "start_time": "2021-10-02T19:11:54.659Z"
   },
   {
    "duration": 74,
    "start_time": "2021-10-02T19:11:55.772Z"
   },
   {
    "duration": 14,
    "start_time": "2021-10-02T19:11:55.851Z"
   },
   {
    "duration": 6,
    "start_time": "2021-10-02T19:11:55.877Z"
   },
   {
    "duration": 18,
    "start_time": "2021-10-02T19:11:55.885Z"
   },
   {
    "duration": 4,
    "start_time": "2021-10-02T19:11:55.905Z"
   },
   {
    "duration": 10,
    "start_time": "2021-10-02T19:11:55.912Z"
   },
   {
    "duration": 14,
    "start_time": "2021-10-02T19:11:55.924Z"
   },
   {
    "duration": 46,
    "start_time": "2021-10-02T19:11:55.939Z"
   },
   {
    "duration": 9,
    "start_time": "2021-10-02T19:11:55.987Z"
   },
   {
    "duration": 21,
    "start_time": "2021-10-02T19:11:55.998Z"
   },
   {
    "duration": 403,
    "start_time": "2021-10-02T19:11:56.021Z"
   },
   {
    "duration": 2174,
    "start_time": "2021-10-02T19:11:56.426Z"
   },
   {
    "duration": 9,
    "start_time": "2021-10-02T19:11:58.602Z"
   },
   {
    "duration": 12,
    "start_time": "2021-10-02T19:11:58.613Z"
   },
   {
    "duration": 414,
    "start_time": "2021-10-02T19:11:58.628Z"
   },
   {
    "duration": 34,
    "start_time": "2021-10-02T19:11:59.045Z"
   },
   {
    "duration": 23,
    "start_time": "2021-10-02T19:11:59.080Z"
   },
   {
    "duration": 3971,
    "start_time": "2021-10-02T19:11:59.105Z"
   },
   {
    "duration": 444,
    "start_time": "2021-10-02T19:12:03.078Z"
   },
   {
    "duration": 452,
    "start_time": "2021-10-02T19:12:03.524Z"
   },
   {
    "duration": 11,
    "start_time": "2021-10-02T19:12:03.979Z"
   },
   {
    "duration": 351,
    "start_time": "2021-10-02T19:12:03.992Z"
   },
   {
    "duration": 364,
    "start_time": "2021-10-02T19:12:04.346Z"
   },
   {
    "duration": 11,
    "start_time": "2021-10-02T19:12:04.712Z"
   },
   {
    "duration": 163,
    "start_time": "2021-10-02T19:12:04.725Z"
   },
   {
    "duration": 250,
    "start_time": "2021-10-02T19:12:04.889Z"
   },
   {
    "duration": 6,
    "start_time": "2021-10-02T19:12:05.141Z"
   },
   {
    "duration": 336,
    "start_time": "2021-10-02T19:12:05.149Z"
   },
   {
    "duration": 283,
    "start_time": "2021-10-02T19:12:05.486Z"
   },
   {
    "duration": 43,
    "start_time": "2021-10-02T19:12:05.771Z"
   },
   {
    "duration": 29,
    "start_time": "2021-10-02T19:12:05.815Z"
   },
   {
    "duration": 44,
    "start_time": "2021-10-02T19:12:05.845Z"
   },
   {
    "duration": 9,
    "start_time": "2021-10-02T19:12:05.891Z"
   },
   {
    "duration": 10,
    "start_time": "2021-10-02T19:12:05.902Z"
   },
   {
    "duration": 266,
    "start_time": "2021-10-02T19:13:24.212Z"
   },
   {
    "duration": 1125,
    "start_time": "2021-10-02T19:28:39.384Z"
   },
   {
    "duration": 77,
    "start_time": "2021-10-02T19:28:40.510Z"
   },
   {
    "duration": 14,
    "start_time": "2021-10-02T19:28:40.589Z"
   },
   {
    "duration": 7,
    "start_time": "2021-10-02T19:28:40.605Z"
   },
   {
    "duration": 16,
    "start_time": "2021-10-02T19:28:40.614Z"
   },
   {
    "duration": 5,
    "start_time": "2021-10-02T19:28:40.632Z"
   },
   {
    "duration": 40,
    "start_time": "2021-10-02T19:28:40.639Z"
   },
   {
    "duration": 14,
    "start_time": "2021-10-02T19:28:40.682Z"
   },
   {
    "duration": 13,
    "start_time": "2021-10-02T19:28:40.698Z"
   },
   {
    "duration": 7,
    "start_time": "2021-10-02T19:28:40.713Z"
   },
   {
    "duration": 22,
    "start_time": "2021-10-02T19:28:40.721Z"
   },
   {
    "duration": 415,
    "start_time": "2021-10-02T19:28:40.744Z"
   },
   {
    "duration": 2022,
    "start_time": "2021-10-02T19:28:41.161Z"
   },
   {
    "duration": 9,
    "start_time": "2021-10-02T19:28:43.185Z"
   },
   {
    "duration": 14,
    "start_time": "2021-10-02T19:28:43.196Z"
   },
   {
    "duration": 278,
    "start_time": "2021-10-02T19:28:43.212Z"
   },
   {
    "duration": 4,
    "start_time": "2021-10-02T19:28:43.492Z"
   },
   {
    "duration": 23,
    "start_time": "2021-10-02T19:28:43.498Z"
   },
   {
    "duration": 3703,
    "start_time": "2021-10-02T19:28:43.523Z"
   },
   {
    "duration": 450,
    "start_time": "2021-10-02T19:28:47.228Z"
   },
   {
    "duration": 445,
    "start_time": "2021-10-02T19:28:47.680Z"
   },
   {
    "duration": 10,
    "start_time": "2021-10-02T19:28:48.126Z"
   },
   {
    "duration": 360,
    "start_time": "2021-10-02T19:28:48.139Z"
   },
   {
    "duration": 324,
    "start_time": "2021-10-02T19:28:48.501Z"
   },
   {
    "duration": 11,
    "start_time": "2021-10-02T19:28:48.829Z"
   },
   {
    "duration": 151,
    "start_time": "2021-10-02T19:28:48.842Z"
   },
   {
    "duration": 254,
    "start_time": "2021-10-02T19:28:48.994Z"
   },
   {
    "duration": 6,
    "start_time": "2021-10-02T19:28:49.250Z"
   },
   {
    "duration": 315,
    "start_time": "2021-10-02T19:28:49.257Z"
   },
   {
    "duration": 277,
    "start_time": "2021-10-02T19:28:49.574Z"
   },
   {
    "duration": 53,
    "start_time": "2021-10-02T19:28:49.853Z"
   },
   {
    "duration": 32,
    "start_time": "2021-10-02T19:28:49.907Z"
   },
   {
    "duration": 40,
    "start_time": "2021-10-02T19:28:49.941Z"
   },
   {
    "duration": 11,
    "start_time": "2021-10-02T19:28:49.984Z"
   },
   {
    "duration": 12,
    "start_time": "2021-10-02T19:28:49.997Z"
   },
   {
    "duration": 275,
    "start_time": "2021-10-02T19:33:55.904Z"
   },
   {
    "duration": 30,
    "start_time": "2021-10-02T19:34:22.580Z"
   },
   {
    "duration": 279,
    "start_time": "2021-10-02T19:35:31.784Z"
   },
   {
    "duration": 32,
    "start_time": "2021-10-02T19:36:00.976Z"
   },
   {
    "duration": 277,
    "start_time": "2021-10-02T19:36:37.713Z"
   },
   {
    "duration": 116,
    "start_time": "2021-10-02T19:37:30.267Z"
   },
   {
    "duration": 52,
    "start_time": "2021-10-02T19:37:38.592Z"
   },
   {
    "duration": 85,
    "start_time": "2021-10-02T19:37:56.055Z"
   },
   {
    "duration": 274,
    "start_time": "2021-10-02T19:38:02.455Z"
   },
   {
    "duration": 830,
    "start_time": "2021-10-02T19:38:10.512Z"
   },
   {
    "duration": 49,
    "start_time": "2021-10-02T19:40:40.685Z"
   },
   {
    "duration": 51,
    "start_time": "2021-10-02T19:41:06.917Z"
   },
   {
    "duration": 1081,
    "start_time": "2021-10-02T19:41:41.526Z"
   },
   {
    "duration": 77,
    "start_time": "2021-10-02T19:41:42.609Z"
   },
   {
    "duration": 15,
    "start_time": "2021-10-02T19:41:42.690Z"
   },
   {
    "duration": 15,
    "start_time": "2021-10-02T19:41:42.706Z"
   },
   {
    "duration": 18,
    "start_time": "2021-10-02T19:41:42.723Z"
   },
   {
    "duration": 10,
    "start_time": "2021-10-02T19:41:42.742Z"
   },
   {
    "duration": 27,
    "start_time": "2021-10-02T19:41:42.756Z"
   },
   {
    "duration": 14,
    "start_time": "2021-10-02T19:41:42.785Z"
   },
   {
    "duration": 16,
    "start_time": "2021-10-02T19:41:42.801Z"
   },
   {
    "duration": 7,
    "start_time": "2021-10-02T19:41:42.819Z"
   },
   {
    "duration": 21,
    "start_time": "2021-10-02T19:41:42.828Z"
   },
   {
    "duration": 405,
    "start_time": "2021-10-02T19:41:42.851Z"
   },
   {
    "duration": 2037,
    "start_time": "2021-10-02T19:41:43.258Z"
   },
   {
    "duration": 9,
    "start_time": "2021-10-02T19:41:45.297Z"
   },
   {
    "duration": 10,
    "start_time": "2021-10-02T19:41:45.308Z"
   },
   {
    "duration": 276,
    "start_time": "2021-10-02T19:41:45.320Z"
   },
   {
    "duration": 4,
    "start_time": "2021-10-02T19:41:45.598Z"
   },
   {
    "duration": 26,
    "start_time": "2021-10-02T19:41:45.604Z"
   },
   {
    "duration": 3740,
    "start_time": "2021-10-02T19:41:45.631Z"
   },
   {
    "duration": 430,
    "start_time": "2021-10-02T19:41:49.376Z"
   },
   {
    "duration": 448,
    "start_time": "2021-10-02T19:41:49.808Z"
   },
   {
    "duration": 19,
    "start_time": "2021-10-02T19:41:50.259Z"
   },
   {
    "duration": 334,
    "start_time": "2021-10-02T19:41:50.280Z"
   },
   {
    "duration": 316,
    "start_time": "2021-10-02T19:41:50.616Z"
   },
   {
    "duration": 10,
    "start_time": "2021-10-02T19:41:50.933Z"
   },
   {
    "duration": 150,
    "start_time": "2021-10-02T19:41:50.944Z"
   },
   {
    "duration": 253,
    "start_time": "2021-10-02T19:41:51.096Z"
   },
   {
    "duration": 6,
    "start_time": "2021-10-02T19:41:51.350Z"
   },
   {
    "duration": 321,
    "start_time": "2021-10-02T19:41:51.357Z"
   },
   {
    "duration": 274,
    "start_time": "2021-10-02T19:41:51.680Z"
   },
   {
    "duration": 49,
    "start_time": "2021-10-02T19:41:51.956Z"
   },
   {
    "duration": 69,
    "start_time": "2021-10-02T19:41:52.007Z"
   },
   {
    "duration": 16,
    "start_time": "2021-10-02T19:41:52.078Z"
   },
   {
    "duration": 26,
    "start_time": "2021-10-02T19:41:52.096Z"
   },
   {
    "duration": 19,
    "start_time": "2021-10-02T19:41:52.124Z"
   },
   {
    "duration": 17,
    "start_time": "2021-10-02T20:06:33.475Z"
   },
   {
    "duration": 16,
    "start_time": "2021-10-02T20:07:08.563Z"
   },
   {
    "duration": 16,
    "start_time": "2021-10-02T20:09:58.697Z"
   },
   {
    "duration": 1031,
    "start_time": "2021-10-02T20:19:52.428Z"
   },
   {
    "duration": 72,
    "start_time": "2021-10-02T20:19:53.461Z"
   },
   {
    "duration": 14,
    "start_time": "2021-10-02T20:19:53.536Z"
   },
   {
    "duration": 7,
    "start_time": "2021-10-02T20:19:53.552Z"
   },
   {
    "duration": 16,
    "start_time": "2021-10-02T20:19:53.577Z"
   },
   {
    "duration": 6,
    "start_time": "2021-10-02T20:19:53.594Z"
   },
   {
    "duration": 12,
    "start_time": "2021-10-02T20:19:53.601Z"
   },
   {
    "duration": 14,
    "start_time": "2021-10-02T20:19:53.616Z"
   },
   {
    "duration": 46,
    "start_time": "2021-10-02T20:19:53.632Z"
   },
   {
    "duration": 9,
    "start_time": "2021-10-02T20:19:53.680Z"
   },
   {
    "duration": 22,
    "start_time": "2021-10-02T20:19:53.691Z"
   },
   {
    "duration": 384,
    "start_time": "2021-10-02T20:19:53.714Z"
   },
   {
    "duration": 2428,
    "start_time": "2021-10-02T20:19:54.100Z"
   },
   {
    "duration": 9,
    "start_time": "2021-10-02T20:19:56.530Z"
   },
   {
    "duration": 10,
    "start_time": "2021-10-02T20:19:56.540Z"
   },
   {
    "duration": 280,
    "start_time": "2021-10-02T20:19:56.552Z"
   },
   {
    "duration": 4,
    "start_time": "2021-10-02T20:19:56.834Z"
   },
   {
    "duration": 23,
    "start_time": "2021-10-02T20:19:56.840Z"
   },
   {
    "duration": 4040,
    "start_time": "2021-10-02T20:19:56.877Z"
   },
   {
    "duration": 452,
    "start_time": "2021-10-02T20:20:00.919Z"
   },
   {
    "duration": 433,
    "start_time": "2021-10-02T20:20:01.376Z"
   },
   {
    "duration": 11,
    "start_time": "2021-10-02T20:20:01.811Z"
   },
   {
    "duration": 360,
    "start_time": "2021-10-02T20:20:01.826Z"
   },
   {
    "duration": 390,
    "start_time": "2021-10-02T20:20:02.188Z"
   },
   {
    "duration": 9,
    "start_time": "2021-10-02T20:20:02.580Z"
   },
   {
    "duration": 142,
    "start_time": "2021-10-02T20:20:02.590Z"
   },
   {
    "duration": 267,
    "start_time": "2021-10-02T20:20:02.734Z"
   },
   {
    "duration": 7,
    "start_time": "2021-10-02T20:20:03.003Z"
   },
   {
    "duration": 318,
    "start_time": "2021-10-02T20:20:03.011Z"
   },
   {
    "duration": 280,
    "start_time": "2021-10-02T20:20:03.331Z"
   },
   {
    "duration": 41,
    "start_time": "2021-10-02T20:20:03.613Z"
   },
   {
    "duration": 65,
    "start_time": "2021-10-02T20:20:03.656Z"
   },
   {
    "duration": 15,
    "start_time": "2021-10-02T20:20:03.723Z"
   },
   {
    "duration": 9,
    "start_time": "2021-10-02T20:20:03.740Z"
   },
   {
    "duration": 35,
    "start_time": "2021-10-02T20:20:03.751Z"
   },
   {
    "duration": 271,
    "start_time": "2021-10-02T20:25:00.748Z"
   },
   {
    "duration": 9,
    "start_time": "2021-10-02T20:25:05.010Z"
   },
   {
    "duration": 48,
    "start_time": "2021-10-02T20:25:15.602Z"
   },
   {
    "duration": 45,
    "start_time": "2021-10-02T20:25:37.685Z"
   },
   {
    "duration": 1092,
    "start_time": "2021-10-02T20:25:46.798Z"
   },
   {
    "duration": 74,
    "start_time": "2021-10-02T20:25:47.892Z"
   },
   {
    "duration": 14,
    "start_time": "2021-10-02T20:25:47.968Z"
   },
   {
    "duration": 6,
    "start_time": "2021-10-02T20:25:47.984Z"
   },
   {
    "duration": 17,
    "start_time": "2021-10-02T20:25:47.992Z"
   },
   {
    "duration": 5,
    "start_time": "2021-10-02T20:25:48.011Z"
   },
   {
    "duration": 13,
    "start_time": "2021-10-02T20:25:48.017Z"
   },
   {
    "duration": 45,
    "start_time": "2021-10-02T20:25:48.033Z"
   },
   {
    "duration": 14,
    "start_time": "2021-10-02T20:25:48.080Z"
   },
   {
    "duration": 8,
    "start_time": "2021-10-02T20:25:48.096Z"
   },
   {
    "duration": 20,
    "start_time": "2021-10-02T20:25:48.106Z"
   },
   {
    "duration": 511,
    "start_time": "2021-10-02T20:25:48.129Z"
   },
   {
    "duration": 2036,
    "start_time": "2021-10-02T20:25:48.642Z"
   },
   {
    "duration": 11,
    "start_time": "2021-10-02T20:25:50.680Z"
   },
   {
    "duration": 22,
    "start_time": "2021-10-02T20:25:50.693Z"
   },
   {
    "duration": 374,
    "start_time": "2021-10-02T20:25:50.717Z"
   },
   {
    "duration": 5,
    "start_time": "2021-10-02T20:25:51.092Z"
   },
   {
    "duration": 30,
    "start_time": "2021-10-02T20:25:51.098Z"
   },
   {
    "duration": 4227,
    "start_time": "2021-10-02T20:25:51.130Z"
   },
   {
    "duration": 443,
    "start_time": "2021-10-02T20:25:55.359Z"
   },
   {
    "duration": 442,
    "start_time": "2021-10-02T20:25:55.804Z"
   },
   {
    "duration": 10,
    "start_time": "2021-10-02T20:25:56.248Z"
   },
   {
    "duration": 364,
    "start_time": "2021-10-02T20:25:56.261Z"
   },
   {
    "duration": 331,
    "start_time": "2021-10-02T20:25:56.627Z"
   },
   {
    "duration": 8,
    "start_time": "2021-10-02T20:25:56.960Z"
   },
   {
    "duration": 142,
    "start_time": "2021-10-02T20:25:56.970Z"
   },
   {
    "duration": 258,
    "start_time": "2021-10-02T20:25:57.114Z"
   },
   {
    "duration": 7,
    "start_time": "2021-10-02T20:25:57.373Z"
   },
   {
    "duration": 331,
    "start_time": "2021-10-02T20:25:57.381Z"
   },
   {
    "duration": 273,
    "start_time": "2021-10-02T20:25:57.713Z"
   },
   {
    "duration": 45,
    "start_time": "2021-10-02T20:25:57.988Z"
   },
   {
    "duration": 73,
    "start_time": "2021-10-02T20:25:58.035Z"
   },
   {
    "duration": 16,
    "start_time": "2021-10-02T20:25:58.110Z"
   },
   {
    "duration": 11,
    "start_time": "2021-10-02T20:25:58.128Z"
   },
   {
    "duration": 44,
    "start_time": "2021-10-02T20:25:58.142Z"
   },
   {
    "duration": 1079,
    "start_time": "2021-10-02T20:46:51.916Z"
   },
   {
    "duration": 76,
    "start_time": "2021-10-02T20:46:52.997Z"
   },
   {
    "duration": 20,
    "start_time": "2021-10-02T20:46:53.075Z"
   },
   {
    "duration": 31,
    "start_time": "2021-10-02T20:46:53.097Z"
   },
   {
    "duration": 16,
    "start_time": "2021-10-02T20:46:53.130Z"
   },
   {
    "duration": 5,
    "start_time": "2021-10-02T20:46:53.149Z"
   },
   {
    "duration": 12,
    "start_time": "2021-10-02T20:46:53.157Z"
   },
   {
    "duration": 20,
    "start_time": "2021-10-02T20:46:53.171Z"
   },
   {
    "duration": 15,
    "start_time": "2021-10-02T20:46:53.193Z"
   },
   {
    "duration": 9,
    "start_time": "2021-10-02T20:46:53.210Z"
   },
   {
    "duration": 21,
    "start_time": "2021-10-02T20:46:53.221Z"
   },
   {
    "duration": 389,
    "start_time": "2021-10-02T20:46:53.278Z"
   },
   {
    "duration": 2226,
    "start_time": "2021-10-02T20:46:53.670Z"
   },
   {
    "duration": 10,
    "start_time": "2021-10-02T20:46:55.898Z"
   },
   {
    "duration": 11,
    "start_time": "2021-10-02T20:46:55.910Z"
   },
   {
    "duration": 288,
    "start_time": "2021-10-02T20:46:55.922Z"
   },
   {
    "duration": 4,
    "start_time": "2021-10-02T20:46:56.212Z"
   },
   {
    "duration": 22,
    "start_time": "2021-10-02T20:46:56.220Z"
   },
   {
    "duration": 3473,
    "start_time": "2021-10-02T20:46:56.244Z"
   },
   {
    "duration": 444,
    "start_time": "2021-10-02T20:46:59.718Z"
   },
   {
    "duration": 438,
    "start_time": "2021-10-02T20:47:00.164Z"
   },
   {
    "duration": 11,
    "start_time": "2021-10-02T20:47:00.604Z"
   },
   {
    "duration": 318,
    "start_time": "2021-10-02T20:47:00.617Z"
   },
   {
    "duration": 342,
    "start_time": "2021-10-02T20:47:00.937Z"
   },
   {
    "duration": 10,
    "start_time": "2021-10-02T20:47:01.281Z"
   },
   {
    "duration": 141,
    "start_time": "2021-10-02T20:47:01.292Z"
   },
   {
    "duration": 263,
    "start_time": "2021-10-02T20:47:01.434Z"
   },
   {
    "duration": 7,
    "start_time": "2021-10-02T20:47:01.699Z"
   },
   {
    "duration": 316,
    "start_time": "2021-10-02T20:47:01.707Z"
   },
   {
    "duration": 281,
    "start_time": "2021-10-02T20:47:02.025Z"
   },
   {
    "duration": 45,
    "start_time": "2021-10-02T20:47:02.307Z"
   },
   {
    "duration": 82,
    "start_time": "2021-10-02T20:47:02.353Z"
   },
   {
    "duration": 42,
    "start_time": "2021-10-02T20:47:02.437Z"
   },
   {
    "duration": 11,
    "start_time": "2021-10-02T20:47:02.480Z"
   },
   {
    "duration": 11,
    "start_time": "2021-10-02T20:47:02.493Z"
   },
   {
    "duration": 1180,
    "start_time": "2021-10-02T20:53:37.549Z"
   },
   {
    "duration": 77,
    "start_time": "2021-10-02T20:53:38.731Z"
   },
   {
    "duration": 16,
    "start_time": "2021-10-02T20:53:38.811Z"
   },
   {
    "duration": 6,
    "start_time": "2021-10-02T20:53:38.830Z"
   },
   {
    "duration": 40,
    "start_time": "2021-10-02T20:53:38.837Z"
   },
   {
    "duration": 8,
    "start_time": "2021-10-02T20:53:38.880Z"
   },
   {
    "duration": 18,
    "start_time": "2021-10-02T20:53:38.890Z"
   },
   {
    "duration": 17,
    "start_time": "2021-10-02T20:53:38.912Z"
   },
   {
    "duration": 15,
    "start_time": "2021-10-02T20:53:38.931Z"
   },
   {
    "duration": 10,
    "start_time": "2021-10-02T20:53:38.977Z"
   },
   {
    "duration": 28,
    "start_time": "2021-10-02T20:53:38.992Z"
   },
   {
    "duration": 422,
    "start_time": "2021-10-02T20:53:39.022Z"
   },
   {
    "duration": 2318,
    "start_time": "2021-10-02T20:53:39.447Z"
   },
   {
    "duration": 14,
    "start_time": "2021-10-02T20:53:41.766Z"
   },
   {
    "duration": 14,
    "start_time": "2021-10-02T20:53:41.781Z"
   },
   {
    "duration": 259,
    "start_time": "2021-10-02T20:53:41.797Z"
   },
   {
    "duration": 4,
    "start_time": "2021-10-02T20:53:42.058Z"
   },
   {
    "duration": 29,
    "start_time": "2021-10-02T20:53:42.064Z"
   },
   {
    "duration": 4644,
    "start_time": "2021-10-02T20:53:42.095Z"
   },
   {
    "duration": -190,
    "start_time": "2021-10-02T20:53:46.932Z"
   },
   {
    "duration": -195,
    "start_time": "2021-10-02T20:53:46.938Z"
   },
   {
    "duration": -195,
    "start_time": "2021-10-02T20:53:46.940Z"
   },
   {
    "duration": -196,
    "start_time": "2021-10-02T20:53:46.942Z"
   },
   {
    "duration": -197,
    "start_time": "2021-10-02T20:53:46.945Z"
   },
   {
    "duration": -202,
    "start_time": "2021-10-02T20:53:46.951Z"
   },
   {
    "duration": -202,
    "start_time": "2021-10-02T20:53:46.953Z"
   },
   {
    "duration": -204,
    "start_time": "2021-10-02T20:53:46.956Z"
   },
   {
    "duration": -206,
    "start_time": "2021-10-02T20:53:46.959Z"
   },
   {
    "duration": -185,
    "start_time": "2021-10-02T20:53:46.961Z"
   },
   {
    "duration": -186,
    "start_time": "2021-10-02T20:53:46.964Z"
   },
   {
    "duration": -188,
    "start_time": "2021-10-02T20:53:46.967Z"
   },
   {
    "duration": -188,
    "start_time": "2021-10-02T20:53:46.969Z"
   },
   {
    "duration": -189,
    "start_time": "2021-10-02T20:53:46.971Z"
   },
   {
    "duration": -190,
    "start_time": "2021-10-02T20:53:46.973Z"
   },
   {
    "duration": -191,
    "start_time": "2021-10-02T20:53:46.976Z"
   },
   {
    "duration": 5698,
    "start_time": "2021-10-02T20:55:04.601Z"
   },
   {
    "duration": 3387,
    "start_time": "2021-10-02T20:55:20.449Z"
   },
   {
    "duration": 1033,
    "start_time": "2021-10-02T20:55:41.442Z"
   },
   {
    "duration": 74,
    "start_time": "2021-10-02T20:55:42.477Z"
   },
   {
    "duration": 13,
    "start_time": "2021-10-02T20:55:42.553Z"
   },
   {
    "duration": 22,
    "start_time": "2021-10-02T20:55:42.567Z"
   },
   {
    "duration": 21,
    "start_time": "2021-10-02T20:55:42.590Z"
   },
   {
    "duration": 5,
    "start_time": "2021-10-02T20:55:42.612Z"
   },
   {
    "duration": 18,
    "start_time": "2021-10-02T20:55:42.619Z"
   },
   {
    "duration": 13,
    "start_time": "2021-10-02T20:55:42.640Z"
   },
   {
    "duration": 26,
    "start_time": "2021-10-02T20:55:42.655Z"
   },
   {
    "duration": 7,
    "start_time": "2021-10-02T20:55:42.683Z"
   },
   {
    "duration": 22,
    "start_time": "2021-10-02T20:55:42.692Z"
   },
   {
    "duration": 381,
    "start_time": "2021-10-02T20:55:42.715Z"
   },
   {
    "duration": 1960,
    "start_time": "2021-10-02T20:55:43.098Z"
   },
   {
    "duration": 9,
    "start_time": "2021-10-02T20:55:45.060Z"
   },
   {
    "duration": 10,
    "start_time": "2021-10-02T20:55:45.077Z"
   },
   {
    "duration": 269,
    "start_time": "2021-10-02T20:55:45.089Z"
   },
   {
    "duration": 4,
    "start_time": "2021-10-02T20:55:45.360Z"
   },
   {
    "duration": 29,
    "start_time": "2021-10-02T20:55:45.366Z"
   },
   {
    "duration": 3267,
    "start_time": "2021-10-02T20:55:45.397Z"
   },
   {
    "duration": 434,
    "start_time": "2021-10-02T20:55:48.666Z"
   },
   {
    "duration": 420,
    "start_time": "2021-10-02T20:55:49.101Z"
   },
   {
    "duration": 9,
    "start_time": "2021-10-02T20:55:49.523Z"
   },
   {
    "duration": 392,
    "start_time": "2021-10-02T20:55:49.536Z"
   },
   {
    "duration": 350,
    "start_time": "2021-10-02T20:55:49.931Z"
   },
   {
    "duration": 9,
    "start_time": "2021-10-02T20:55:50.283Z"
   },
   {
    "duration": 125,
    "start_time": "2021-10-02T20:55:50.294Z"
   },
   {
    "duration": 250,
    "start_time": "2021-10-02T20:55:50.421Z"
   },
   {
    "duration": 8,
    "start_time": "2021-10-02T20:55:50.676Z"
   },
   {
    "duration": 240,
    "start_time": "2021-10-02T20:55:50.686Z"
   },
   {
    "duration": 348,
    "start_time": "2021-10-02T20:55:50.928Z"
   },
   {
    "duration": 55,
    "start_time": "2021-10-02T20:55:51.278Z"
   },
   {
    "duration": 72,
    "start_time": "2021-10-02T20:55:51.335Z"
   },
   {
    "duration": 16,
    "start_time": "2021-10-02T20:55:51.409Z"
   },
   {
    "duration": 10,
    "start_time": "2021-10-02T20:55:51.427Z"
   },
   {
    "duration": 39,
    "start_time": "2021-10-02T20:55:51.438Z"
   },
   {
    "duration": 1071,
    "start_time": "2021-10-02T21:08:04.474Z"
   },
   {
    "duration": 75,
    "start_time": "2021-10-02T21:08:05.549Z"
   },
   {
    "duration": 13,
    "start_time": "2021-10-02T21:08:05.627Z"
   },
   {
    "duration": 7,
    "start_time": "2021-10-02T21:08:05.642Z"
   },
   {
    "duration": 35,
    "start_time": "2021-10-02T21:08:05.651Z"
   },
   {
    "duration": 4,
    "start_time": "2021-10-02T21:08:05.688Z"
   },
   {
    "duration": 13,
    "start_time": "2021-10-02T21:08:05.694Z"
   },
   {
    "duration": 14,
    "start_time": "2021-10-02T21:08:05.710Z"
   },
   {
    "duration": 15,
    "start_time": "2021-10-02T21:08:05.726Z"
   },
   {
    "duration": 7,
    "start_time": "2021-10-02T21:08:05.743Z"
   },
   {
    "duration": 43,
    "start_time": "2021-10-02T21:08:05.751Z"
   },
   {
    "duration": 389,
    "start_time": "2021-10-02T21:08:05.796Z"
   },
   {
    "duration": 2269,
    "start_time": "2021-10-02T21:08:06.187Z"
   },
   {
    "duration": 22,
    "start_time": "2021-10-02T21:08:08.458Z"
   },
   {
    "duration": 10,
    "start_time": "2021-10-02T21:08:08.482Z"
   },
   {
    "duration": 265,
    "start_time": "2021-10-02T21:08:08.494Z"
   },
   {
    "duration": 5,
    "start_time": "2021-10-02T21:08:08.760Z"
   },
   {
    "duration": 21,
    "start_time": "2021-10-02T21:08:08.776Z"
   },
   {
    "duration": 3794,
    "start_time": "2021-10-02T21:08:08.799Z"
   },
   {
    "duration": 437,
    "start_time": "2021-10-02T21:08:12.596Z"
   },
   {
    "duration": 466,
    "start_time": "2021-10-02T21:08:13.035Z"
   },
   {
    "duration": 10,
    "start_time": "2021-10-02T21:08:13.503Z"
   },
   {
    "duration": 311,
    "start_time": "2021-10-02T21:08:13.515Z"
   },
   {
    "duration": 340,
    "start_time": "2021-10-02T21:08:13.828Z"
   },
   {
    "duration": 14,
    "start_time": "2021-10-02T21:08:14.170Z"
   },
   {
    "duration": 137,
    "start_time": "2021-10-02T21:08:14.188Z"
   },
   {
    "duration": 270,
    "start_time": "2021-10-02T21:08:14.327Z"
   },
   {
    "duration": 6,
    "start_time": "2021-10-02T21:08:14.599Z"
   },
   {
    "duration": 251,
    "start_time": "2021-10-02T21:08:14.607Z"
   },
   {
    "duration": 350,
    "start_time": "2021-10-02T21:08:14.860Z"
   },
   {
    "duration": 44,
    "start_time": "2021-10-02T21:08:15.212Z"
   },
   {
    "duration": 54,
    "start_time": "2021-10-02T21:08:15.277Z"
   },
   {
    "duration": 15,
    "start_time": "2021-10-02T21:08:15.333Z"
   },
   {
    "duration": 34,
    "start_time": "2021-10-02T21:08:15.349Z"
   },
   {
    "duration": 9,
    "start_time": "2021-10-02T21:08:15.385Z"
   },
   {
    "duration": 1092,
    "start_time": "2021-10-02T21:17:14.545Z"
   },
   {
    "duration": 75,
    "start_time": "2021-10-02T21:17:15.642Z"
   },
   {
    "duration": 14,
    "start_time": "2021-10-02T21:17:15.719Z"
   },
   {
    "duration": 6,
    "start_time": "2021-10-02T21:17:15.734Z"
   },
   {
    "duration": 34,
    "start_time": "2021-10-02T21:17:15.742Z"
   },
   {
    "duration": 5,
    "start_time": "2021-10-02T21:17:15.778Z"
   },
   {
    "duration": 14,
    "start_time": "2021-10-02T21:17:15.785Z"
   },
   {
    "duration": 14,
    "start_time": "2021-10-02T21:17:15.801Z"
   },
   {
    "duration": 15,
    "start_time": "2021-10-02T21:17:15.817Z"
   },
   {
    "duration": 7,
    "start_time": "2021-10-02T21:17:15.833Z"
   },
   {
    "duration": 54,
    "start_time": "2021-10-02T21:17:15.841Z"
   },
   {
    "duration": 388,
    "start_time": "2021-10-02T21:17:15.896Z"
   },
   {
    "duration": 2092,
    "start_time": "2021-10-02T21:17:16.286Z"
   },
   {
    "duration": 9,
    "start_time": "2021-10-02T21:17:18.380Z"
   },
   {
    "duration": 15,
    "start_time": "2021-10-02T21:17:18.391Z"
   },
   {
    "duration": 286,
    "start_time": "2021-10-02T21:17:18.408Z"
   },
   {
    "duration": 4,
    "start_time": "2021-10-02T21:17:18.696Z"
   },
   {
    "duration": 23,
    "start_time": "2021-10-02T21:17:18.702Z"
   },
   {
    "duration": 3725,
    "start_time": "2021-10-02T21:17:18.727Z"
   },
   {
    "duration": 440,
    "start_time": "2021-10-02T21:17:22.454Z"
   },
   {
    "duration": 453,
    "start_time": "2021-10-02T21:17:22.896Z"
   },
   {
    "duration": 25,
    "start_time": "2021-10-02T21:17:23.351Z"
   },
   {
    "duration": 360,
    "start_time": "2021-10-02T21:17:23.379Z"
   },
   {
    "duration": 348,
    "start_time": "2021-10-02T21:17:23.740Z"
   },
   {
    "duration": 11,
    "start_time": "2021-10-02T21:17:24.090Z"
   },
   {
    "duration": 143,
    "start_time": "2021-10-02T21:17:24.104Z"
   },
   {
    "duration": 275,
    "start_time": "2021-10-02T21:17:24.249Z"
   },
   {
    "duration": 6,
    "start_time": "2021-10-02T21:17:24.525Z"
   },
   {
    "duration": 260,
    "start_time": "2021-10-02T21:17:24.533Z"
   },
   {
    "duration": 359,
    "start_time": "2021-10-02T21:17:24.795Z"
   },
   {
    "duration": 57,
    "start_time": "2021-10-02T21:17:25.156Z"
   },
   {
    "duration": 79,
    "start_time": "2021-10-02T21:17:25.215Z"
   },
   {
    "duration": 17,
    "start_time": "2021-10-02T21:17:25.296Z"
   },
   {
    "duration": 11,
    "start_time": "2021-10-02T21:17:25.315Z"
   },
   {
    "duration": 29,
    "start_time": "2021-10-02T21:17:25.328Z"
   },
   {
    "duration": 1371,
    "start_time": "2021-10-03T08:02:44.391Z"
   },
   {
    "duration": 108,
    "start_time": "2021-10-03T08:02:45.765Z"
   },
   {
    "duration": 22,
    "start_time": "2021-10-03T08:02:45.876Z"
   },
   {
    "duration": 7,
    "start_time": "2021-10-03T08:02:45.901Z"
   },
   {
    "duration": 22,
    "start_time": "2021-10-03T08:02:45.910Z"
   },
   {
    "duration": 7,
    "start_time": "2021-10-03T08:02:45.968Z"
   },
   {
    "duration": 19,
    "start_time": "2021-10-03T08:02:45.978Z"
   },
   {
    "duration": 21,
    "start_time": "2021-10-03T08:02:46.001Z"
   },
   {
    "duration": 54,
    "start_time": "2021-10-03T08:02:46.025Z"
   },
   {
    "duration": 10,
    "start_time": "2021-10-03T08:02:46.081Z"
   },
   {
    "duration": 29,
    "start_time": "2021-10-03T08:02:46.094Z"
   },
   {
    "duration": 652,
    "start_time": "2021-10-03T08:02:46.126Z"
   },
   {
    "duration": 3346,
    "start_time": "2021-10-03T08:02:46.780Z"
   },
   {
    "duration": 13,
    "start_time": "2021-10-03T08:02:50.128Z"
   },
   {
    "duration": 34,
    "start_time": "2021-10-03T08:02:50.144Z"
   },
   {
    "duration": 424,
    "start_time": "2021-10-03T08:02:50.180Z"
   },
   {
    "duration": 5,
    "start_time": "2021-10-03T08:02:50.607Z"
   },
   {
    "duration": 57,
    "start_time": "2021-10-03T08:02:50.616Z"
   },
   {
    "duration": 4197,
    "start_time": "2021-10-03T08:02:50.676Z"
   },
   {
    "duration": 741,
    "start_time": "2021-10-03T08:02:54.876Z"
   },
   {
    "duration": 719,
    "start_time": "2021-10-03T08:02:55.620Z"
   },
   {
    "duration": 14,
    "start_time": "2021-10-03T08:02:56.342Z"
   },
   {
    "duration": 466,
    "start_time": "2021-10-03T08:02:56.361Z"
   },
   {
    "duration": 637,
    "start_time": "2021-10-03T08:02:56.830Z"
   },
   {
    "duration": 15,
    "start_time": "2021-10-03T08:02:57.470Z"
   },
   {
    "duration": 236,
    "start_time": "2021-10-03T08:02:57.488Z"
   },
   {
    "duration": 415,
    "start_time": "2021-10-03T08:02:57.726Z"
   },
   {
    "duration": 8,
    "start_time": "2021-10-03T08:02:58.143Z"
   },
   {
    "duration": 399,
    "start_time": "2021-10-03T08:02:58.153Z"
   },
   {
    "duration": 517,
    "start_time": "2021-10-03T08:02:58.555Z"
   },
   {
    "duration": 93,
    "start_time": "2021-10-03T08:02:59.074Z"
   },
   {
    "duration": 76,
    "start_time": "2021-10-03T08:02:59.169Z"
   },
   {
    "duration": 24,
    "start_time": "2021-10-03T08:02:59.267Z"
   },
   {
    "duration": 14,
    "start_time": "2021-10-03T08:02:59.293Z"
   },
   {
    "duration": 18,
    "start_time": "2021-10-03T08:02:59.310Z"
   },
   {
    "duration": 467,
    "start_time": "2021-10-03T08:17:04.037Z"
   },
   {
    "duration": 338,
    "start_time": "2021-10-03T08:17:16.168Z"
   },
   {
    "duration": 36,
    "start_time": "2021-10-03T08:17:24.009Z"
   },
   {
    "duration": 1045,
    "start_time": "2021-10-03T08:17:49.349Z"
   },
   {
    "duration": 853,
    "start_time": "2021-10-03T08:18:37.689Z"
   },
   {
    "duration": 4,
    "start_time": "2021-10-03T08:18:47.880Z"
   },
   {
    "duration": 423,
    "start_time": "2021-10-03T08:19:00.137Z"
   },
   {
    "duration": 10,
    "start_time": "2021-10-03T08:19:16.756Z"
   },
   {
    "duration": 839,
    "start_time": "2021-10-03T08:19:38.899Z"
   },
   {
    "duration": 15,
    "start_time": "2021-10-03T08:19:57.070Z"
   },
   {
    "duration": 1016,
    "start_time": "2021-10-03T08:22:13.810Z"
   },
   {
    "duration": 641,
    "start_time": "2021-10-03T08:24:18.551Z"
   },
   {
    "duration": 16,
    "start_time": "2021-10-03T08:25:58.309Z"
   },
   {
    "duration": 766,
    "start_time": "2021-10-03T08:27:47.510Z"
   }
  ],
  "kernelspec": {
   "display_name": "Python 3 (ipykernel)",
   "language": "python",
   "name": "python3"
  },
  "language_info": {
   "codemirror_mode": {
    "name": "ipython",
    "version": 3
   },
   "file_extension": ".py",
   "mimetype": "text/x-python",
   "name": "python",
   "nbconvert_exporter": "python",
   "pygments_lexer": "ipython3",
   "version": "3.7.8"
  },
  "toc": {
   "base_numbering": 1,
   "nav_menu": {},
   "number_sections": true,
   "sideBar": true,
   "skip_h1_title": true,
   "title_cell": "Table of Contents",
   "title_sidebar": "Contents",
   "toc_cell": false,
   "toc_position": {
    "height": "calc(100% - 180px)",
    "left": "10px",
    "top": "150px",
    "width": "366.391px"
   },
   "toc_section_display": true,
   "toc_window_display": true
  }
 },
 "nbformat": 4,
 "nbformat_minor": 2
}
