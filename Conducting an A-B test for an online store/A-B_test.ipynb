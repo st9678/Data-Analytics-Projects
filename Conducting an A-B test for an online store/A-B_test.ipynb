{
 "cells": [
  {
   "cell_type": "code",
   "execution_count": 1,
   "metadata": {},
   "outputs": [],
   "source": [
    "import warnings\n",
    "warnings.filterwarnings('ignore')\n",
    "from IPython.display import display "
   ]
  },
  {
   "cell_type": "code",
   "execution_count": 2,
   "metadata": {},
   "outputs": [],
   "source": [
    "import numpy as np                     \n",
    "import pandas as pd                  \n",
    "import matplotlib.pyplot as plt        \n",
    "import seaborn as sns                 \n",
    "import datetime as dt                \n",
    "from scipy import stats as st    "
   ]
  },
  {
   "cell_type": "markdown",
   "metadata": {},
   "source": [
    "# Проведение А/В-теста для интернет-магазина\n",
    "\n",
    "Выполняя роль аналитика крпного интернет-магазина. В сотрудничестве с отделом маркетинга, разрботан список гипотез для увеличения выручки. Необходимо приоритизировать гипотезы для выделения наиболее важных перспективных, и провести А\\В тестирование в целях статистического подтверждения целесообразности и успешности выдвинутых гипотез."
   ]
  },
  {
   "cell_type": "markdown",
   "metadata": {},
   "source": [
    "## Приоритезация гипотез\n",
    "\n",
    "А\\В тестирование является относительно дорогостоящим инструментом, поэтому невозможно проверять все возможные гипотезы сколь угодно долго, на это попросту не хватит ресурсов. Для того, чтобы максимизировать ожидаемое улучшение ключевых метрик бизнеса, сформулированные гипотезы приоритизируют. Существует множество методов приоритезации, в рамках данного проекта воспользуемся фреймворками ICE и RICE:"
   ]
  },
  {
   "cell_type": "code",
   "execution_count": 3,
   "metadata": {},
   "outputs": [
    {
     "data": {
      "text/html": [
       "<div>\n",
       "<style scoped>\n",
       "    .dataframe tbody tr th:only-of-type {\n",
       "        vertical-align: middle;\n",
       "    }\n",
       "\n",
       "    .dataframe tbody tr th {\n",
       "        vertical-align: top;\n",
       "    }\n",
       "\n",
       "    .dataframe thead th {\n",
       "        text-align: right;\n",
       "    }\n",
       "</style>\n",
       "<table border=\"1\" class=\"dataframe\">\n",
       "  <thead>\n",
       "    <tr style=\"text-align: right;\">\n",
       "      <th></th>\n",
       "      <th>Hypothesis</th>\n",
       "      <th>Reach</th>\n",
       "      <th>Impact</th>\n",
       "      <th>Confidence</th>\n",
       "      <th>Efforts</th>\n",
       "    </tr>\n",
       "  </thead>\n",
       "  <tbody>\n",
       "    <tr>\n",
       "      <td>0</td>\n",
       "      <td>Добавить два новых канала привлечения трафика,...</td>\n",
       "      <td>3</td>\n",
       "      <td>10</td>\n",
       "      <td>8</td>\n",
       "      <td>6</td>\n",
       "    </tr>\n",
       "    <tr>\n",
       "      <td>1</td>\n",
       "      <td>Запустить собственную службу доставки, что сок...</td>\n",
       "      <td>2</td>\n",
       "      <td>5</td>\n",
       "      <td>4</td>\n",
       "      <td>10</td>\n",
       "    </tr>\n",
       "    <tr>\n",
       "      <td>2</td>\n",
       "      <td>Добавить блоки рекомендаций товаров на сайт ин...</td>\n",
       "      <td>8</td>\n",
       "      <td>3</td>\n",
       "      <td>7</td>\n",
       "      <td>3</td>\n",
       "    </tr>\n",
       "    <tr>\n",
       "      <td>3</td>\n",
       "      <td>Изменить структура категорий, что увеличит кон...</td>\n",
       "      <td>8</td>\n",
       "      <td>3</td>\n",
       "      <td>3</td>\n",
       "      <td>8</td>\n",
       "    </tr>\n",
       "    <tr>\n",
       "      <td>4</td>\n",
       "      <td>Изменить цвет фона главной страницы, чтобы уве...</td>\n",
       "      <td>3</td>\n",
       "      <td>1</td>\n",
       "      <td>1</td>\n",
       "      <td>1</td>\n",
       "    </tr>\n",
       "    <tr>\n",
       "      <td>5</td>\n",
       "      <td>Добавить страницу отзывов клиентов о магазине,...</td>\n",
       "      <td>3</td>\n",
       "      <td>2</td>\n",
       "      <td>2</td>\n",
       "      <td>3</td>\n",
       "    </tr>\n",
       "    <tr>\n",
       "      <td>6</td>\n",
       "      <td>Показать на главной странице баннеры с актуаль...</td>\n",
       "      <td>5</td>\n",
       "      <td>3</td>\n",
       "      <td>8</td>\n",
       "      <td>3</td>\n",
       "    </tr>\n",
       "    <tr>\n",
       "      <td>7</td>\n",
       "      <td>Добавить форму подписки на все основные страни...</td>\n",
       "      <td>10</td>\n",
       "      <td>7</td>\n",
       "      <td>8</td>\n",
       "      <td>5</td>\n",
       "    </tr>\n",
       "    <tr>\n",
       "      <td>8</td>\n",
       "      <td>Запустить акцию, дающую скидку на товар в день...</td>\n",
       "      <td>1</td>\n",
       "      <td>9</td>\n",
       "      <td>9</td>\n",
       "      <td>5</td>\n",
       "    </tr>\n",
       "  </tbody>\n",
       "</table>\n",
       "</div>"
      ],
      "text/plain": [
       "                                          Hypothesis  Reach  Impact  \\\n",
       "0  Добавить два новых канала привлечения трафика,...      3      10   \n",
       "1  Запустить собственную службу доставки, что сок...      2       5   \n",
       "2  Добавить блоки рекомендаций товаров на сайт ин...      8       3   \n",
       "3  Изменить структура категорий, что увеличит кон...      8       3   \n",
       "4  Изменить цвет фона главной страницы, чтобы уве...      3       1   \n",
       "5  Добавить страницу отзывов клиентов о магазине,...      3       2   \n",
       "6  Показать на главной странице баннеры с актуаль...      5       3   \n",
       "7  Добавить форму подписки на все основные страни...     10       7   \n",
       "8  Запустить акцию, дающую скидку на товар в день...      1       9   \n",
       "\n",
       "   Confidence  Efforts  \n",
       "0           8        6  \n",
       "1           4       10  \n",
       "2           7        3  \n",
       "3           3        8  \n",
       "4           1        1  \n",
       "5           2        3  \n",
       "6           8        3  \n",
       "7           8        5  \n",
       "8           9        5  "
      ]
     },
     "execution_count": 3,
     "metadata": {},
     "output_type": "execute_result"
    }
   ],
   "source": [
    "hypothesis = pd.read_csv('hypothesis.csv')\n",
    "hypothesis"
   ]
  },
  {
   "cell_type": "code",
   "execution_count": 4,
   "metadata": {},
   "outputs": [
    {
     "data": {
      "text/plain": [
       "array(['Добавить два новых канала привлечения трафика, что позволит привлекать на 30% больше пользователей',\n",
       "       'Запустить собственную службу доставки, что сократит срок доставки заказов',\n",
       "       'Добавить блоки рекомендаций товаров на сайт интернет магазина, чтобы повысить конверсию и средний чек заказа',\n",
       "       'Изменить структура категорий, что увеличит конверсию, т.к. пользователи быстрее найдут нужный товар',\n",
       "       'Изменить цвет фона главной страницы, чтобы увеличить вовлеченность пользователей',\n",
       "       'Добавить страницу отзывов клиентов о магазине, что позволит увеличить количество заказов',\n",
       "       'Показать на главной странице баннеры с актуальными акциями и распродажами, чтобы увеличить конверсию',\n",
       "       'Добавить форму подписки на все основные страницы, чтобы собрать базу клиентов для email-рассылок',\n",
       "       'Запустить акцию, дающую скидку на товар в день рождения'],\n",
       "      dtype=object)"
      ]
     },
     "execution_count": 4,
     "metadata": {},
     "output_type": "execute_result"
    }
   ],
   "source": [
    "hypothesis['Hypothesis'].unique()"
   ]
  },
  {
   "cell_type": "code",
   "execution_count": 5,
   "metadata": {},
   "outputs": [
    {
     "data": {
      "text/html": [
       "<div>\n",
       "<style scoped>\n",
       "    .dataframe tbody tr th:only-of-type {\n",
       "        vertical-align: middle;\n",
       "    }\n",
       "\n",
       "    .dataframe tbody tr th {\n",
       "        vertical-align: top;\n",
       "    }\n",
       "\n",
       "    .dataframe thead th {\n",
       "        text-align: right;\n",
       "    }\n",
       "</style>\n",
       "<table border=\"1\" class=\"dataframe\">\n",
       "  <thead>\n",
       "    <tr style=\"text-align: right;\">\n",
       "      <th></th>\n",
       "      <th>Hypothesis</th>\n",
       "      <th>Reach</th>\n",
       "      <th>Impact</th>\n",
       "      <th>Confidence</th>\n",
       "      <th>Efforts</th>\n",
       "    </tr>\n",
       "  </thead>\n",
       "  <tbody>\n",
       "    <tr>\n",
       "      <td>0</td>\n",
       "      <td>Добавить два новых канала привлечения трафика, что позволит привлекать на 30% больше пользователей</td>\n",
       "      <td>3</td>\n",
       "      <td>10</td>\n",
       "      <td>8</td>\n",
       "      <td>6</td>\n",
       "    </tr>\n",
       "    <tr>\n",
       "      <td>1</td>\n",
       "      <td>Запустить собственную службу доставки, что сократит срок доставки заказов</td>\n",
       "      <td>2</td>\n",
       "      <td>5</td>\n",
       "      <td>4</td>\n",
       "      <td>10</td>\n",
       "    </tr>\n",
       "    <tr>\n",
       "      <td>2</td>\n",
       "      <td>Добавить блоки рекомендаций товаров на сайт интернет магазина, чтобы повысить конверсию и средний чек заказа</td>\n",
       "      <td>8</td>\n",
       "      <td>3</td>\n",
       "      <td>7</td>\n",
       "      <td>3</td>\n",
       "    </tr>\n",
       "    <tr>\n",
       "      <td>3</td>\n",
       "      <td>Изменить структура категорий, что увеличит конверсию, т.к. пользователи быстрее найдут нужный товар</td>\n",
       "      <td>8</td>\n",
       "      <td>3</td>\n",
       "      <td>3</td>\n",
       "      <td>8</td>\n",
       "    </tr>\n",
       "    <tr>\n",
       "      <td>4</td>\n",
       "      <td>Изменить цвет фона главной страницы, чтобы увеличить вовлеченность пользователей</td>\n",
       "      <td>3</td>\n",
       "      <td>1</td>\n",
       "      <td>1</td>\n",
       "      <td>1</td>\n",
       "    </tr>\n",
       "    <tr>\n",
       "      <td>5</td>\n",
       "      <td>Добавить страницу отзывов клиентов о магазине, что позволит увеличить количество заказов</td>\n",
       "      <td>3</td>\n",
       "      <td>2</td>\n",
       "      <td>2</td>\n",
       "      <td>3</td>\n",
       "    </tr>\n",
       "    <tr>\n",
       "      <td>6</td>\n",
       "      <td>Показать на главной странице баннеры с актуальными акциями и распродажами, чтобы увеличить конверсию</td>\n",
       "      <td>5</td>\n",
       "      <td>3</td>\n",
       "      <td>8</td>\n",
       "      <td>3</td>\n",
       "    </tr>\n",
       "    <tr>\n",
       "      <td>7</td>\n",
       "      <td>Добавить форму подписки на все основные страницы, чтобы собрать базу клиентов для email-рассылок</td>\n",
       "      <td>10</td>\n",
       "      <td>7</td>\n",
       "      <td>8</td>\n",
       "      <td>5</td>\n",
       "    </tr>\n",
       "    <tr>\n",
       "      <td>8</td>\n",
       "      <td>Запустить акцию, дающую скидку на товар в день рождения</td>\n",
       "      <td>1</td>\n",
       "      <td>9</td>\n",
       "      <td>9</td>\n",
       "      <td>5</td>\n",
       "    </tr>\n",
       "  </tbody>\n",
       "</table>\n",
       "</div>"
      ],
      "text/plain": [
       "                                                                                                     Hypothesis  \\\n",
       "0            Добавить два новых канала привлечения трафика, что позволит привлекать на 30% больше пользователей   \n",
       "1                                     Запустить собственную службу доставки, что сократит срок доставки заказов   \n",
       "2  Добавить блоки рекомендаций товаров на сайт интернет магазина, чтобы повысить конверсию и средний чек заказа   \n",
       "3           Изменить структура категорий, что увеличит конверсию, т.к. пользователи быстрее найдут нужный товар   \n",
       "4                              Изменить цвет фона главной страницы, чтобы увеличить вовлеченность пользователей   \n",
       "5                      Добавить страницу отзывов клиентов о магазине, что позволит увеличить количество заказов   \n",
       "6          Показать на главной странице баннеры с актуальными акциями и распродажами, чтобы увеличить конверсию   \n",
       "7              Добавить форму подписки на все основные страницы, чтобы собрать базу клиентов для email-рассылок   \n",
       "8                                                       Запустить акцию, дающую скидку на товар в день рождения   \n",
       "\n",
       "   Reach  Impact  Confidence  Efforts  \n",
       "0      3      10           8        6  \n",
       "1      2       5           4       10  \n",
       "2      8       3           7        3  \n",
       "3      8       3           3        8  \n",
       "4      3       1           1        1  \n",
       "5      3       2           2        3  \n",
       "6      5       3           8        3  \n",
       "7     10       7           8        5  \n",
       "8      1       9           9        5  "
      ]
     },
     "execution_count": 5,
     "metadata": {},
     "output_type": "execute_result"
    }
   ],
   "source": [
    "pd.set_option(\"max_colwidth\", 110)\n",
    "hypothesis"
   ]
  },
  {
   "cell_type": "code",
   "execution_count": 6,
   "metadata": {},
   "outputs": [],
   "source": [
    "pd.set_option(\"max_colwidth\", 50)"
   ]
  },
  {
   "cell_type": "markdown",
   "metadata": {},
   "source": [
    "В полученном датафрэйме содержатся девять гипотез с кратким описанием, а так же параметры Reach, Impact, Confidence и  Efforts необходимые для расчета фреймворков.\n",
    "\n",
    "Одни из самых популярных способов приоритизации задач являются фреймворки ICE и RICE. Добавим столбцы с рассчитаными фреймворками и отсортируем гипотезы по приоритету."
   ]
  },
  {
   "cell_type": "markdown",
   "metadata": {},
   "source": [
    "### Фреймворк ICE\n",
    "\n",
    "Выстроим гипотезы по приоритету расчитав для каждой параметр\n",
    "$$ICE = \\frac{Impact * Confidence}{Efforts}$$\n",
    ":"
   ]
  },
  {
   "cell_type": "code",
   "execution_count": 7,
   "metadata": {},
   "outputs": [
    {
     "data": {
      "text/html": [
       "<div>\n",
       "<style scoped>\n",
       "    .dataframe tbody tr th:only-of-type {\n",
       "        vertical-align: middle;\n",
       "    }\n",
       "\n",
       "    .dataframe tbody tr th {\n",
       "        vertical-align: top;\n",
       "    }\n",
       "\n",
       "    .dataframe thead th {\n",
       "        text-align: right;\n",
       "    }\n",
       "</style>\n",
       "<table border=\"1\" class=\"dataframe\">\n",
       "  <thead>\n",
       "    <tr style=\"text-align: right;\">\n",
       "      <th></th>\n",
       "      <th>Hypothesis</th>\n",
       "      <th>ICE</th>\n",
       "    </tr>\n",
       "  </thead>\n",
       "  <tbody>\n",
       "    <tr>\n",
       "      <td>8</td>\n",
       "      <td>Запустить акцию, дающую скидку на товар в день...</td>\n",
       "      <td>16.200000</td>\n",
       "    </tr>\n",
       "    <tr>\n",
       "      <td>0</td>\n",
       "      <td>Добавить два новых канала привлечения трафика,...</td>\n",
       "      <td>13.333333</td>\n",
       "    </tr>\n",
       "    <tr>\n",
       "      <td>7</td>\n",
       "      <td>Добавить форму подписки на все основные страни...</td>\n",
       "      <td>11.200000</td>\n",
       "    </tr>\n",
       "    <tr>\n",
       "      <td>6</td>\n",
       "      <td>Показать на главной странице баннеры с актуаль...</td>\n",
       "      <td>8.000000</td>\n",
       "    </tr>\n",
       "    <tr>\n",
       "      <td>2</td>\n",
       "      <td>Добавить блоки рекомендаций товаров на сайт ин...</td>\n",
       "      <td>7.000000</td>\n",
       "    </tr>\n",
       "    <tr>\n",
       "      <td>1</td>\n",
       "      <td>Запустить собственную службу доставки, что сок...</td>\n",
       "      <td>2.000000</td>\n",
       "    </tr>\n",
       "    <tr>\n",
       "      <td>5</td>\n",
       "      <td>Добавить страницу отзывов клиентов о магазине,...</td>\n",
       "      <td>1.333333</td>\n",
       "    </tr>\n",
       "    <tr>\n",
       "      <td>3</td>\n",
       "      <td>Изменить структура категорий, что увеличит кон...</td>\n",
       "      <td>1.125000</td>\n",
       "    </tr>\n",
       "    <tr>\n",
       "      <td>4</td>\n",
       "      <td>Изменить цвет фона главной страницы, чтобы уве...</td>\n",
       "      <td>1.000000</td>\n",
       "    </tr>\n",
       "  </tbody>\n",
       "</table>\n",
       "</div>"
      ],
      "text/plain": [
       "                                          Hypothesis        ICE\n",
       "8  Запустить акцию, дающую скидку на товар в день...  16.200000\n",
       "0  Добавить два новых канала привлечения трафика,...  13.333333\n",
       "7  Добавить форму подписки на все основные страни...  11.200000\n",
       "6  Показать на главной странице баннеры с актуаль...   8.000000\n",
       "2  Добавить блоки рекомендаций товаров на сайт ин...   7.000000\n",
       "1  Запустить собственную службу доставки, что сок...   2.000000\n",
       "5  Добавить страницу отзывов клиентов о магазине,...   1.333333\n",
       "3  Изменить структура категорий, что увеличит кон...   1.125000\n",
       "4  Изменить цвет фона главной страницы, чтобы уве...   1.000000"
      ]
     },
     "execution_count": 7,
     "metadata": {},
     "output_type": "execute_result"
    }
   ],
   "source": [
    "hypothesis['ICE'] = hypothesis['Impact'] * hypothesis['Confidence'] / hypothesis['Efforts'] \n",
    "ICE_priority = hypothesis[['Hypothesis', 'ICE']].sort_values(by='ICE', ascending=False)\n",
    "ICE_priority"
   ]
  },
  {
   "cell_type": "markdown",
   "metadata": {},
   "source": [
    "Согласно методу приоритезации ICE наиболее важными считаются гипотезы: скидка в День Рождения, добавление двух новых каналов привлечения и добавление формы подписки на основных страницах. А самыми незначительными оказались гипотезы по изменению структуры категорий и изменение цвета фона главной страницы."
   ]
  },
  {
   "cell_type": "markdown",
   "metadata": {},
   "source": [
    "### Фреймворк RICE\n",
    "\n",
    "Теперь перейдем к определению показателя \n",
    "\n",
    "$$RICE = \\frac{Rearch * Impact * Confidence}{Efforts}$$:"
   ]
  },
  {
   "cell_type": "code",
   "execution_count": 8,
   "metadata": {},
   "outputs": [
    {
     "data": {
      "text/html": [
       "<div>\n",
       "<style scoped>\n",
       "    .dataframe tbody tr th:only-of-type {\n",
       "        vertical-align: middle;\n",
       "    }\n",
       "\n",
       "    .dataframe tbody tr th {\n",
       "        vertical-align: top;\n",
       "    }\n",
       "\n",
       "    .dataframe thead th {\n",
       "        text-align: right;\n",
       "    }\n",
       "</style>\n",
       "<table border=\"1\" class=\"dataframe\">\n",
       "  <thead>\n",
       "    <tr style=\"text-align: right;\">\n",
       "      <th></th>\n",
       "      <th>Hypothesis</th>\n",
       "      <th>RICE</th>\n",
       "    </tr>\n",
       "  </thead>\n",
       "  <tbody>\n",
       "    <tr>\n",
       "      <td>7</td>\n",
       "      <td>Добавить форму подписки на все основные страни...</td>\n",
       "      <td>112.0</td>\n",
       "    </tr>\n",
       "    <tr>\n",
       "      <td>2</td>\n",
       "      <td>Добавить блоки рекомендаций товаров на сайт ин...</td>\n",
       "      <td>56.0</td>\n",
       "    </tr>\n",
       "    <tr>\n",
       "      <td>0</td>\n",
       "      <td>Добавить два новых канала привлечения трафика,...</td>\n",
       "      <td>40.0</td>\n",
       "    </tr>\n",
       "    <tr>\n",
       "      <td>6</td>\n",
       "      <td>Показать на главной странице баннеры с актуаль...</td>\n",
       "      <td>40.0</td>\n",
       "    </tr>\n",
       "    <tr>\n",
       "      <td>8</td>\n",
       "      <td>Запустить акцию, дающую скидку на товар в день...</td>\n",
       "      <td>16.2</td>\n",
       "    </tr>\n",
       "    <tr>\n",
       "      <td>3</td>\n",
       "      <td>Изменить структура категорий, что увеличит кон...</td>\n",
       "      <td>9.0</td>\n",
       "    </tr>\n",
       "    <tr>\n",
       "      <td>1</td>\n",
       "      <td>Запустить собственную службу доставки, что сок...</td>\n",
       "      <td>4.0</td>\n",
       "    </tr>\n",
       "    <tr>\n",
       "      <td>5</td>\n",
       "      <td>Добавить страницу отзывов клиентов о магазине,...</td>\n",
       "      <td>4.0</td>\n",
       "    </tr>\n",
       "    <tr>\n",
       "      <td>4</td>\n",
       "      <td>Изменить цвет фона главной страницы, чтобы уве...</td>\n",
       "      <td>3.0</td>\n",
       "    </tr>\n",
       "  </tbody>\n",
       "</table>\n",
       "</div>"
      ],
      "text/plain": [
       "                                          Hypothesis   RICE\n",
       "7  Добавить форму подписки на все основные страни...  112.0\n",
       "2  Добавить блоки рекомендаций товаров на сайт ин...   56.0\n",
       "0  Добавить два новых канала привлечения трафика,...   40.0\n",
       "6  Показать на главной странице баннеры с актуаль...   40.0\n",
       "8  Запустить акцию, дающую скидку на товар в день...   16.2\n",
       "3  Изменить структура категорий, что увеличит кон...    9.0\n",
       "1  Запустить собственную службу доставки, что сок...    4.0\n",
       "5  Добавить страницу отзывов клиентов о магазине,...    4.0\n",
       "4  Изменить цвет фона главной страницы, чтобы уве...    3.0"
      ]
     },
     "execution_count": 8,
     "metadata": {},
     "output_type": "execute_result"
    }
   ],
   "source": [
    "hypothesis['RICE'] = hypothesis['Reach'] * hypothesis['Impact'] * hypothesis['Confidence'] / hypothesis['Efforts'] \n",
    "RICE_priority = hypothesis[['Hypothesis', 'RICE']].sort_values(by='RICE', ascending=False)\n",
    "RICE_priority"
   ]
  },
  {
   "cell_type": "markdown",
   "metadata": {},
   "source": [
    "В данном рейтинге абсолютное лидерство у гипотезы с добавлением формы подписки на все основные страницы, также высокий приоритет имеет гипотеза с добавлением блоков рекомендаций товаров на сайте. Самая безперспективная гипотеза по прежнему - изменение  цвета фона главной страницы."
   ]
  },
  {
   "cell_type": "markdown",
   "metadata": {},
   "source": [
    "### Различия приоритезации фреймворков"
   ]
  },
  {
   "cell_type": "code",
   "execution_count": 9,
   "metadata": {},
   "outputs": [
    {
     "data": {
      "text/html": [
       "<div>\n",
       "<style scoped>\n",
       "    .dataframe tbody tr th:only-of-type {\n",
       "        vertical-align: middle;\n",
       "    }\n",
       "\n",
       "    .dataframe tbody tr th {\n",
       "        vertical-align: top;\n",
       "    }\n",
       "\n",
       "    .dataframe thead th {\n",
       "        text-align: right;\n",
       "    }\n",
       "</style>\n",
       "<table border=\"1\" class=\"dataframe\">\n",
       "  <thead>\n",
       "    <tr style=\"text-align: right;\">\n",
       "      <th></th>\n",
       "      <th>Hypothesis</th>\n",
       "      <th>RICE</th>\n",
       "      <th>ICE</th>\n",
       "    </tr>\n",
       "  </thead>\n",
       "  <tbody>\n",
       "    <tr>\n",
       "      <td>0</td>\n",
       "      <td>Добавить форму подписки на все основные страни...</td>\n",
       "      <td>112.0</td>\n",
       "      <td>11.200000</td>\n",
       "    </tr>\n",
       "    <tr>\n",
       "      <td>1</td>\n",
       "      <td>Добавить блоки рекомендаций товаров на сайт ин...</td>\n",
       "      <td>56.0</td>\n",
       "      <td>7.000000</td>\n",
       "    </tr>\n",
       "    <tr>\n",
       "      <td>2</td>\n",
       "      <td>Добавить два новых канала привлечения трафика,...</td>\n",
       "      <td>40.0</td>\n",
       "      <td>13.333333</td>\n",
       "    </tr>\n",
       "    <tr>\n",
       "      <td>3</td>\n",
       "      <td>Показать на главной странице баннеры с актуаль...</td>\n",
       "      <td>40.0</td>\n",
       "      <td>8.000000</td>\n",
       "    </tr>\n",
       "    <tr>\n",
       "      <td>4</td>\n",
       "      <td>Запустить акцию, дающую скидку на товар в день...</td>\n",
       "      <td>16.2</td>\n",
       "      <td>16.200000</td>\n",
       "    </tr>\n",
       "    <tr>\n",
       "      <td>5</td>\n",
       "      <td>Изменить структура категорий, что увеличит кон...</td>\n",
       "      <td>9.0</td>\n",
       "      <td>1.125000</td>\n",
       "    </tr>\n",
       "    <tr>\n",
       "      <td>6</td>\n",
       "      <td>Запустить собственную службу доставки, что сок...</td>\n",
       "      <td>4.0</td>\n",
       "      <td>2.000000</td>\n",
       "    </tr>\n",
       "    <tr>\n",
       "      <td>7</td>\n",
       "      <td>Добавить страницу отзывов клиентов о магазине,...</td>\n",
       "      <td>4.0</td>\n",
       "      <td>1.333333</td>\n",
       "    </tr>\n",
       "    <tr>\n",
       "      <td>8</td>\n",
       "      <td>Изменить цвет фона главной страницы, чтобы уве...</td>\n",
       "      <td>3.0</td>\n",
       "      <td>1.000000</td>\n",
       "    </tr>\n",
       "  </tbody>\n",
       "</table>\n",
       "</div>"
      ],
      "text/plain": [
       "                                          Hypothesis   RICE        ICE\n",
       "0  Добавить форму подписки на все основные страни...  112.0  11.200000\n",
       "1  Добавить блоки рекомендаций товаров на сайт ин...   56.0   7.000000\n",
       "2  Добавить два новых канала привлечения трафика,...   40.0  13.333333\n",
       "3  Показать на главной странице баннеры с актуаль...   40.0   8.000000\n",
       "4  Запустить акцию, дающую скидку на товар в день...   16.2  16.200000\n",
       "5  Изменить структура категорий, что увеличит кон...    9.0   1.125000\n",
       "6  Запустить собственную службу доставки, что сок...    4.0   2.000000\n",
       "7  Добавить страницу отзывов клиентов о магазине,...    4.0   1.333333\n",
       "8  Изменить цвет фона главной страницы, чтобы уве...    3.0   1.000000"
      ]
     },
     "execution_count": 9,
     "metadata": {},
     "output_type": "execute_result"
    }
   ],
   "source": [
    "priority = RICE_priority.merge(ICE_priority, on='Hypothesis')\n",
    "priority"
   ]
  },
  {
   "cell_type": "markdown",
   "metadata": {},
   "source": [
    "По итогам расчетов получены разные рейтинги приоритета гипотез для каждого фреймворка. Это связано с различием в подходах данных фреймворков. Дело в том, что в RICE в отличие от ICE учитывается парметр Reach который учитывает количество пользователей на которых изменение повлияет, это добавляет тщательности и точности при определении приоритетов гипотезы. В нашем случае при расчете ICE не все гипотезы, имевшие высокий приоритет, оказывали влияние на большое количество аудитории, поэтому при вычислении RICE данные гипотезы потерялии свои лидирующие позиции в рейтинге."
   ]
  },
  {
   "cell_type": "markdown",
   "metadata": {},
   "source": [
    "## Анализ A/B-теста\n",
    "\n",
    "Был проведен A/B-тест и получены результаты которые необходимо проанализировать и оценить. В наличии имеются два датафрейма один с данными о заказах и второй с данными о визитах. Изучим как в ходе испытания менялись интересующие нас метрики в каждой группе, а так же сформулируем решение по всем имеющимся результатам теста."
   ]
  },
  {
   "cell_type": "code",
   "execution_count": 10,
   "metadata": {},
   "outputs": [
    {
     "name": "stdout",
     "output_type": "stream",
     "text": [
      "<class 'pandas.core.frame.DataFrame'>\n",
      "RangeIndex: 1197 entries, 0 to 1196\n",
      "Data columns (total 5 columns):\n",
      "transactionId    1197 non-null int64\n",
      "visitorId        1197 non-null int64\n",
      "date             1197 non-null object\n",
      "revenue          1197 non-null int64\n",
      "group            1197 non-null object\n",
      "dtypes: int64(3), object(2)\n",
      "memory usage: 46.9+ KB\n"
     ]
    },
    {
     "data": {
      "text/html": [
       "<div>\n",
       "<style scoped>\n",
       "    .dataframe tbody tr th:only-of-type {\n",
       "        vertical-align: middle;\n",
       "    }\n",
       "\n",
       "    .dataframe tbody tr th {\n",
       "        vertical-align: top;\n",
       "    }\n",
       "\n",
       "    .dataframe thead th {\n",
       "        text-align: right;\n",
       "    }\n",
       "</style>\n",
       "<table border=\"1\" class=\"dataframe\">\n",
       "  <thead>\n",
       "    <tr style=\"text-align: right;\">\n",
       "      <th></th>\n",
       "      <th>transactionId</th>\n",
       "      <th>visitorId</th>\n",
       "      <th>date</th>\n",
       "      <th>revenue</th>\n",
       "      <th>group</th>\n",
       "    </tr>\n",
       "  </thead>\n",
       "  <tbody>\n",
       "    <tr>\n",
       "      <td>0</td>\n",
       "      <td>3667963787</td>\n",
       "      <td>3312258926</td>\n",
       "      <td>2019-08-15</td>\n",
       "      <td>1650</td>\n",
       "      <td>B</td>\n",
       "    </tr>\n",
       "    <tr>\n",
       "      <td>1</td>\n",
       "      <td>2804400009</td>\n",
       "      <td>3642806036</td>\n",
       "      <td>2019-08-15</td>\n",
       "      <td>730</td>\n",
       "      <td>B</td>\n",
       "    </tr>\n",
       "    <tr>\n",
       "      <td>2</td>\n",
       "      <td>2961555356</td>\n",
       "      <td>4069496402</td>\n",
       "      <td>2019-08-15</td>\n",
       "      <td>400</td>\n",
       "      <td>A</td>\n",
       "    </tr>\n",
       "    <tr>\n",
       "      <td>3</td>\n",
       "      <td>3797467345</td>\n",
       "      <td>1196621759</td>\n",
       "      <td>2019-08-15</td>\n",
       "      <td>9759</td>\n",
       "      <td>B</td>\n",
       "    </tr>\n",
       "    <tr>\n",
       "      <td>4</td>\n",
       "      <td>2282983706</td>\n",
       "      <td>2322279887</td>\n",
       "      <td>2019-08-15</td>\n",
       "      <td>2308</td>\n",
       "      <td>B</td>\n",
       "    </tr>\n",
       "  </tbody>\n",
       "</table>\n",
       "</div>"
      ],
      "text/plain": [
       "   transactionId   visitorId        date  revenue group\n",
       "0     3667963787  3312258926  2019-08-15     1650     B\n",
       "1     2804400009  3642806036  2019-08-15      730     B\n",
       "2     2961555356  4069496402  2019-08-15      400     A\n",
       "3     3797467345  1196621759  2019-08-15     9759     B\n",
       "4     2282983706  2322279887  2019-08-15     2308     B"
      ]
     },
     "execution_count": 10,
     "metadata": {},
     "output_type": "execute_result"
    }
   ],
   "source": [
    "orders = pd.read_csv('orders.csv')\n",
    "orders.info()\n",
    "orders.head()"
   ]
  },
  {
   "cell_type": "code",
   "execution_count": 11,
   "metadata": {},
   "outputs": [
    {
     "name": "stdout",
     "output_type": "stream",
     "text": [
      "<class 'pandas.core.frame.DataFrame'>\n",
      "RangeIndex: 1197 entries, 0 to 1196\n",
      "Data columns (total 5 columns):\n",
      "transactionId    1197 non-null int64\n",
      "visitorId        1197 non-null int64\n",
      "date             1197 non-null datetime64[ns]\n",
      "revenue          1197 non-null int64\n",
      "group            1197 non-null object\n",
      "dtypes: datetime64[ns](1), int64(3), object(1)\n",
      "memory usage: 46.9+ KB\n"
     ]
    }
   ],
   "source": [
    "orders['date'] = orders['date'].map(lambda x: dt.datetime.strptime(x, '%Y-%m-%d'))     #приведение даты к нужному типу данных\n",
    "orders.info()"
   ]
  },
  {
   "cell_type": "code",
   "execution_count": 12,
   "metadata": {},
   "outputs": [
    {
     "name": "stdout",
     "output_type": "stream",
     "text": [
      "<class 'pandas.core.frame.DataFrame'>\n",
      "RangeIndex: 62 entries, 0 to 61\n",
      "Data columns (total 3 columns):\n",
      "date        62 non-null object\n",
      "group       62 non-null object\n",
      "visitors    62 non-null int64\n",
      "dtypes: int64(1), object(2)\n",
      "memory usage: 1.6+ KB\n"
     ]
    },
    {
     "data": {
      "text/html": [
       "<div>\n",
       "<style scoped>\n",
       "    .dataframe tbody tr th:only-of-type {\n",
       "        vertical-align: middle;\n",
       "    }\n",
       "\n",
       "    .dataframe tbody tr th {\n",
       "        vertical-align: top;\n",
       "    }\n",
       "\n",
       "    .dataframe thead th {\n",
       "        text-align: right;\n",
       "    }\n",
       "</style>\n",
       "<table border=\"1\" class=\"dataframe\">\n",
       "  <thead>\n",
       "    <tr style=\"text-align: right;\">\n",
       "      <th></th>\n",
       "      <th>date</th>\n",
       "      <th>group</th>\n",
       "      <th>visitors</th>\n",
       "    </tr>\n",
       "  </thead>\n",
       "  <tbody>\n",
       "    <tr>\n",
       "      <td>0</td>\n",
       "      <td>2019-08-01</td>\n",
       "      <td>A</td>\n",
       "      <td>719</td>\n",
       "    </tr>\n",
       "    <tr>\n",
       "      <td>1</td>\n",
       "      <td>2019-08-02</td>\n",
       "      <td>A</td>\n",
       "      <td>619</td>\n",
       "    </tr>\n",
       "    <tr>\n",
       "      <td>2</td>\n",
       "      <td>2019-08-03</td>\n",
       "      <td>A</td>\n",
       "      <td>507</td>\n",
       "    </tr>\n",
       "    <tr>\n",
       "      <td>3</td>\n",
       "      <td>2019-08-04</td>\n",
       "      <td>A</td>\n",
       "      <td>717</td>\n",
       "    </tr>\n",
       "    <tr>\n",
       "      <td>4</td>\n",
       "      <td>2019-08-05</td>\n",
       "      <td>A</td>\n",
       "      <td>756</td>\n",
       "    </tr>\n",
       "  </tbody>\n",
       "</table>\n",
       "</div>"
      ],
      "text/plain": [
       "         date group  visitors\n",
       "0  2019-08-01     A       719\n",
       "1  2019-08-02     A       619\n",
       "2  2019-08-03     A       507\n",
       "3  2019-08-04     A       717\n",
       "4  2019-08-05     A       756"
      ]
     },
     "execution_count": 12,
     "metadata": {},
     "output_type": "execute_result"
    }
   ],
   "source": [
    "visitors = pd.read_csv('visitors.csv')\n",
    "visitors.info()\n",
    "visitors.head()"
   ]
  },
  {
   "cell_type": "code",
   "execution_count": 13,
   "metadata": {},
   "outputs": [
    {
     "name": "stdout",
     "output_type": "stream",
     "text": [
      "<class 'pandas.core.frame.DataFrame'>\n",
      "RangeIndex: 62 entries, 0 to 61\n",
      "Data columns (total 3 columns):\n",
      "date        62 non-null datetime64[ns]\n",
      "group       62 non-null object\n",
      "visitors    62 non-null int64\n",
      "dtypes: datetime64[ns](1), int64(1), object(1)\n",
      "memory usage: 1.6+ KB\n"
     ]
    }
   ],
   "source": [
    "visitors['date'] = visitors['date'].map(lambda x: dt.datetime.strptime(x, '%Y-%m-%d'))   #приведение даты к нужному типу данных\n",
    "visitors.info()"
   ]
  },
  {
   "cell_type": "markdown",
   "metadata": {},
   "source": [
    "Все необходимые данные выгружены и приведены к нужным типа, теперь можно приступать к анализу результатов А/В-теста."
   ]
  },
  {
   "cell_type": "code",
   "execution_count": 14,
   "metadata": {},
   "outputs": [
    {
     "name": "stdout",
     "output_type": "stream",
     "text": [
      "Количество дубликатов в orders: 0\n",
      "Количество дубликатов в visitors: 0\n"
     ]
    }
   ],
   "source": [
    "print(f'Количество дубликатов в orders: {orders.duplicated().sum()}')\n",
    "print(f'Количество дубликатов в visitors: {visitors.duplicated().sum()}')"
   ]
  },
  {
   "cell_type": "code",
   "execution_count": 15,
   "metadata": {},
   "outputs": [
    {
     "data": {
      "text/html": [
       "<div>\n",
       "<style scoped>\n",
       "    .dataframe tbody tr th:only-of-type {\n",
       "        vertical-align: middle;\n",
       "    }\n",
       "\n",
       "    .dataframe tbody tr th {\n",
       "        vertical-align: top;\n",
       "    }\n",
       "\n",
       "    .dataframe thead th {\n",
       "        text-align: right;\n",
       "    }\n",
       "</style>\n",
       "<table border=\"1\" class=\"dataframe\">\n",
       "  <thead>\n",
       "    <tr style=\"text-align: right;\">\n",
       "      <th></th>\n",
       "      <th>visitorId</th>\n",
       "      <th>group</th>\n",
       "    </tr>\n",
       "  </thead>\n",
       "  <tbody>\n",
       "    <tr>\n",
       "      <td>0</td>\n",
       "      <td>8300375</td>\n",
       "      <td>BA</td>\n",
       "    </tr>\n",
       "    <tr>\n",
       "      <td>1</td>\n",
       "      <td>199603092</td>\n",
       "      <td>AABAA</td>\n",
       "    </tr>\n",
       "    <tr>\n",
       "      <td>2</td>\n",
       "      <td>232979603</td>\n",
       "      <td>BA</td>\n",
       "    </tr>\n",
       "    <tr>\n",
       "      <td>3</td>\n",
       "      <td>237748145</td>\n",
       "      <td>BAAAA</td>\n",
       "    </tr>\n",
       "    <tr>\n",
       "      <td>...</td>\n",
       "      <td>...</td>\n",
       "      <td>...</td>\n",
       "    </tr>\n",
       "    <tr>\n",
       "      <td>54</td>\n",
       "      <td>4120364173</td>\n",
       "      <td>AB</td>\n",
       "    </tr>\n",
       "    <tr>\n",
       "      <td>55</td>\n",
       "      <td>4186807279</td>\n",
       "      <td>BBA</td>\n",
       "    </tr>\n",
       "    <tr>\n",
       "      <td>56</td>\n",
       "      <td>4256040402</td>\n",
       "      <td>BAAABABAABA</td>\n",
       "    </tr>\n",
       "    <tr>\n",
       "      <td>57</td>\n",
       "      <td>4266935830</td>\n",
       "      <td>AB</td>\n",
       "    </tr>\n",
       "  </tbody>\n",
       "</table>\n",
       "<p>58 rows × 2 columns</p>\n",
       "</div>"
      ],
      "text/plain": [
       "     visitorId        group\n",
       "0      8300375           BA\n",
       "1    199603092        AABAA\n",
       "2    232979603           BA\n",
       "3    237748145        BAAAA\n",
       "..         ...          ...\n",
       "54  4120364173           AB\n",
       "55  4186807279          BBA\n",
       "56  4256040402  BAAABABAABA\n",
       "57  4266935830           AB\n",
       "\n",
       "[58 rows x 2 columns]"
      ]
     },
     "execution_count": 15,
     "metadata": {},
     "output_type": "execute_result"
    }
   ],
   "source": [
    "err_users = orders[(orders['group'] == 'A') & (orders['visitorId'].\n",
    "                    isin(orders[orders['group'] == 'B']['visitorId']))]['visitorId']\n",
    "pd.set_option(\"max_rows\", 8)\n",
    "orders[orders['visitorId'].isin(err_users)].groupby('visitorId').agg({'group':'sum'}).reset_index()"
   ]
  },
  {
   "cell_type": "code",
   "execution_count": 16,
   "metadata": {},
   "outputs": [],
   "source": [
    "orders = orders[~orders['visitorId'].isin(err_users.unique())]"
   ]
  },
  {
   "cell_type": "markdown",
   "metadata": {},
   "source": [
    "### График куммулятивной выручки по группам"
   ]
  },
  {
   "cell_type": "code",
   "execution_count": 17,
   "metadata": {},
   "outputs": [],
   "source": [
    "visitorsADaily = visitors[visitors['group'] == 'A'][['date', 'visitors']]  \n",
    "visitorsADaily.columns = ['date', 'visitorsPerDateA']\n",
    "visitorsACummulative = visitorsADaily.apply(                        \n",
    "    lambda x: visitorsADaily[visitorsADaily['date'] <= x['date']].agg({'date' : 'max', 'visitorsPerDateA' : 'sum'}), axis=1\n",
    ")\n",
    "visitorsACummulative.columns = ['date', 'visitorsCummulativeA']"
   ]
  },
  {
   "cell_type": "code",
   "execution_count": 18,
   "metadata": {},
   "outputs": [],
   "source": [
    "visitorsBDaily = visitors[visitors['group'] == 'B'][['date', 'visitors']]\n",
    "visitorsBDaily.columns = ['date', 'visitorsPerDateB']\n",
    "visitorsBCummulative = visitorsBDaily.apply(                       \n",
    "    lambda x: visitorsBDaily[visitorsBDaily['date'] <= x['date']].agg({'date' : 'max', 'visitorsPerDateB' : 'sum'}), axis=1\n",
    ")\n",
    "visitorsBCummulative.columns = ['date', 'visitorsCummulativeB']"
   ]
  },
  {
   "cell_type": "code",
   "execution_count": 19,
   "metadata": {},
   "outputs": [],
   "source": [
    "ordersADaily = orders[orders['group'] == 'A'][['date', 'transactionId', 'visitorId', 'revenue']].groupby(\n",
    "    'date', as_index=False).agg({'transactionId' : pd.Series.nunique, 'revenue' : 'sum'}  \n",
    ")                                                                   \n",
    "ordersADaily.columns = ['date', 'ordersPerDateA', 'revenuePerDateA']\n",
    "ordersACummulative = ordersADaily.apply(               \n",
    "    lambda x: ordersADaily[ordersADaily['date'] <= x['date']].agg(\n",
    "        {'date' : 'max', 'ordersPerDateA' : 'sum', 'revenuePerDateA' : 'sum'}\n",
    "    ), axis=1\n",
    ").sort_values(by='date')\n",
    "ordersACummulative.columns = ['date', 'ordersCummulativeA', 'revenueCummulativeA']"
   ]
  },
  {
   "cell_type": "code",
   "execution_count": 20,
   "metadata": {},
   "outputs": [],
   "source": [
    "ordersBDaily = orders[orders['group'] == 'B'][['date', 'transactionId', 'visitorId', 'revenue']].groupby(\n",
    "    'date', as_index=False).agg({'transactionId' : pd.Series.nunique, 'revenue' : 'sum'}\n",
    ")                                                                   \n",
    "ordersBDaily.columns = ['date', 'ordersPerDateB', 'revenuePerDateB']\n",
    "ordersBCummulative = ordersBDaily.apply(         \n",
    "    lambda x: ordersBDaily[ordersBDaily['date'] <= x['date']].agg(\n",
    "        {'date' : 'max', 'ordersPerDateB' : 'sum', 'revenuePerDateB' : 'sum'}\n",
    "    ), axis=1\n",
    ").sort_values(by='date')\n",
    "ordersBCummulative.columns = ['date', 'ordersCummulativeB', 'revenueCummulativeB']"
   ]
  },
  {
   "cell_type": "code",
   "execution_count": 21,
   "metadata": {},
   "outputs": [
    {
     "data": {
      "image/png": "[encoded data removed]",
      "text/plain": [
       "<Figure size 1080x648 with 1 Axes>"
      ]
     },
     "metadata": {},
     "output_type": "display_data"
    }
   ],
   "source": [
    "sns.set(style='darkgrid')\n",
    "plt.figure(figsize=(15, 9))\n",
    "plt.plot(ordersACummulative['date'], ordersACummulative['revenueCummulativeA'], label='A')\n",
    "plt.plot(ordersBCummulative['date'], ordersBCummulative['revenueCummulativeB'], label='B')\n",
    "plt.legend()\n",
    "plt.title('График куммулятивной выручки по группам')\n",
    "plt.xlabel('Дата')\n",
    "plt.ylabel('Выручка')\n",
    "plt.show()"
   ]
  },
  {
   "cell_type": "markdown",
   "metadata": {},
   "source": [
    "Выручка растет. По данному показателю группа В лидирует, а так же в ней имеется резкий всплеск роста выручки, возможно наличие аномально дорогих заказов или резкое увеличение их числа."
   ]
  },
  {
   "cell_type": "markdown",
   "metadata": {},
   "source": [
    "### График куммулятивного среднего чека по группам"
   ]
  },
  {
   "cell_type": "code",
   "execution_count": 22,
   "metadata": {},
   "outputs": [
    {
     "data": {
      "image/png": "[encoded data removed]",
      "text/plain": [
       "<Figure size 1080x648 with 1 Axes>"
      ]
     },
     "metadata": {},
     "output_type": "display_data"
    }
   ],
   "source": [
    "plt.figure(figsize=(15, 9))\n",
    "plt.plot(ordersACummulative['date'], ordersACummulative['revenueCummulativeA']/ordersACummulative['ordersCummulativeA'], label='A')\n",
    "plt.plot(ordersBCummulative['date'], ordersBCummulative['revenueCummulativeB']/ordersBCummulative['ordersCummulativeB'], label='B')\n",
    "plt.legend()\n",
    "plt.title('График куммулятивного среднего чека по группам')\n",
    "plt.xlabel('Дата')\n",
    "plt.ylabel('Средний чек')\n",
    "plt.show()"
   ]
  },
  {
   "cell_type": "markdown",
   "metadata": {},
   "source": [
    "Ближе к концу испытания средний чек практически установился группы A, а вот в группе B он продолжает равномерно убывать, это связанно с предшествующим ему аномальным всплеском, возможно в группу попали крупные заказы. В таком случае необходимо больше данных, чтобы прийти к реальному среднему чеку и установиться на его уровне."
   ]
  },
  {
   "cell_type": "markdown",
   "metadata": {},
   "source": [
    "### График относительного изменения куммулятивного среднего чека группы В к группе А"
   ]
  },
  {
   "cell_type": "code",
   "execution_count": 23,
   "metadata": {},
   "outputs": [
    {
     "data": {
      "image/png": "[encoded data removed]",
      "text/plain": [
       "<Figure size 1080x648 with 1 Axes>"
      ]
     },
     "metadata": {},
     "output_type": "display_data"
    }
   ],
   "source": [
    "mergedCumulativeRevenue = ordersACummulative.merge(ordersBCummulative, left_on='date', right_on='date', how='left')\n",
    "plt.figure(figsize=(15, 9))\n",
    "plt.plot(mergedCumulativeRevenue['date'],\n",
    "         (mergedCumulativeRevenue['revenueCummulativeB']/mergedCumulativeRevenue['ordersCummulativeB'])\n",
    "         /(mergedCumulativeRevenue['revenueCummulativeA']/mergedCumulativeRevenue['ordersCummulativeA']) - 1\n",
    ")\n",
    "plt.axhline(y=0, color='black', linestyle='--')\n",
    "plt.title('График относительного изменения куммулятивного среднего чека группы В к группе А')\n",
    "plt.xlabel('Дата')\n",
    "plt.ylabel('Относительное изменение среднего чека')\n",
    "plt.show()"
   ]
  },
  {
   "cell_type": "markdown",
   "metadata": {},
   "source": [
    "Большую часть времени средний чек группы В преобладает над средним чеком группу А. Параметр не установился и резко менятся, это определенно из-за наличия выбросов в данных."
   ]
  },
  {
   "cell_type": "markdown",
   "metadata": {},
   "source": [
    "### График куммулятивной конверсии по группам"
   ]
  },
  {
   "cell_type": "code",
   "execution_count": 24,
   "metadata": {},
   "outputs": [
    {
     "data": {
      "text/html": [
       "<div>\n",
       "<style scoped>\n",
       "    .dataframe tbody tr th:only-of-type {\n",
       "        vertical-align: middle;\n",
       "    }\n",
       "\n",
       "    .dataframe tbody tr th {\n",
       "        vertical-align: top;\n",
       "    }\n",
       "\n",
       "    .dataframe thead th {\n",
       "        text-align: right;\n",
       "    }\n",
       "</style>\n",
       "<table border=\"1\" class=\"dataframe\">\n",
       "  <thead>\n",
       "    <tr style=\"text-align: right;\">\n",
       "      <th></th>\n",
       "      <th>date</th>\n",
       "      <th>ordersPerDateA</th>\n",
       "      <th>revenuePerDateA</th>\n",
       "      <th>ordersPerDateB</th>\n",
       "      <th>revenuePerDateB</th>\n",
       "      <th>ordersCummulativeA</th>\n",
       "      <th>revenueCummulativeA</th>\n",
       "      <th>ordersCummulativeB</th>\n",
       "      <th>revenueCummulativeB</th>\n",
       "      <th>visitorsPerDateA</th>\n",
       "      <th>visitorsPerDateB</th>\n",
       "      <th>visitorsCummulativeA</th>\n",
       "      <th>visitorsCummulativeB</th>\n",
       "    </tr>\n",
       "  </thead>\n",
       "  <tbody>\n",
       "    <tr>\n",
       "      <td>0</td>\n",
       "      <td>2019-08-01</td>\n",
       "      <td>23</td>\n",
       "      <td>142779</td>\n",
       "      <td>17</td>\n",
       "      <td>59758</td>\n",
       "      <td>23</td>\n",
       "      <td>142779</td>\n",
       "      <td>17</td>\n",
       "      <td>59758</td>\n",
       "      <td>719</td>\n",
       "      <td>713</td>\n",
       "      <td>719</td>\n",
       "      <td>713</td>\n",
       "    </tr>\n",
       "    <tr>\n",
       "      <td>1</td>\n",
       "      <td>2019-08-02</td>\n",
       "      <td>19</td>\n",
       "      <td>91602</td>\n",
       "      <td>23</td>\n",
       "      <td>162043</td>\n",
       "      <td>42</td>\n",
       "      <td>234381</td>\n",
       "      <td>40</td>\n",
       "      <td>221801</td>\n",
       "      <td>619</td>\n",
       "      <td>581</td>\n",
       "      <td>1338</td>\n",
       "      <td>1294</td>\n",
       "    </tr>\n",
       "    <tr>\n",
       "      <td>2</td>\n",
       "      <td>2019-08-03</td>\n",
       "      <td>24</td>\n",
       "      <td>112473</td>\n",
       "      <td>14</td>\n",
       "      <td>67049</td>\n",
       "      <td>66</td>\n",
       "      <td>346854</td>\n",
       "      <td>54</td>\n",
       "      <td>288850</td>\n",
       "      <td>507</td>\n",
       "      <td>509</td>\n",
       "      <td>1845</td>\n",
       "      <td>1803</td>\n",
       "    </tr>\n",
       "    <tr>\n",
       "      <td>3</td>\n",
       "      <td>2019-08-04</td>\n",
       "      <td>11</td>\n",
       "      <td>41176</td>\n",
       "      <td>14</td>\n",
       "      <td>96890</td>\n",
       "      <td>77</td>\n",
       "      <td>388030</td>\n",
       "      <td>68</td>\n",
       "      <td>385740</td>\n",
       "      <td>717</td>\n",
       "      <td>770</td>\n",
       "      <td>2562</td>\n",
       "      <td>2573</td>\n",
       "    </tr>\n",
       "    <tr>\n",
       "      <td>4</td>\n",
       "      <td>2019-08-05</td>\n",
       "      <td>22</td>\n",
       "      <td>86383</td>\n",
       "      <td>21</td>\n",
       "      <td>89908</td>\n",
       "      <td>99</td>\n",
       "      <td>474413</td>\n",
       "      <td>89</td>\n",
       "      <td>475648</td>\n",
       "      <td>756</td>\n",
       "      <td>707</td>\n",
       "      <td>3318</td>\n",
       "      <td>3280</td>\n",
       "    </tr>\n",
       "  </tbody>\n",
       "</table>\n",
       "</div>"
      ],
      "text/plain": [
       "        date  ordersPerDateA  revenuePerDateA  ordersPerDateB  \\\n",
       "0 2019-08-01              23           142779              17   \n",
       "1 2019-08-02              19            91602              23   \n",
       "2 2019-08-03              24           112473              14   \n",
       "3 2019-08-04              11            41176              14   \n",
       "4 2019-08-05              22            86383              21   \n",
       "\n",
       "   revenuePerDateB  ordersCummulativeA  revenueCummulativeA  \\\n",
       "0            59758                  23               142779   \n",
       "1           162043                  42               234381   \n",
       "2            67049                  66               346854   \n",
       "3            96890                  77               388030   \n",
       "4            89908                  99               474413   \n",
       "\n",
       "   ordersCummulativeB  revenueCummulativeB  visitorsPerDateA  \\\n",
       "0                  17                59758               719   \n",
       "1                  40               221801               619   \n",
       "2                  54               288850               507   \n",
       "3                  68               385740               717   \n",
       "4                  89               475648               756   \n",
       "\n",
       "   visitorsPerDateB  visitorsCummulativeA  visitorsCummulativeB  \n",
       "0               713                   719                   713  \n",
       "1               581                  1338                  1294  \n",
       "2               509                  1845                  1803  \n",
       "3               770                  2562                  2573  \n",
       "4               707                  3318                  3280  "
      ]
     },
     "execution_count": 24,
     "metadata": {},
     "output_type": "execute_result"
    }
   ],
   "source": [
    "data = (                                                  #создание общего датафрейма со всеми куммулятивными параметрами\n",
    "    ordersADaily.merge(\n",
    "        ordersBDaily, left_on='date', right_on='date', how='left'\n",
    "    )\n",
    "    .merge(ordersACummulative, left_on='date', right_on='date', how='left')\n",
    "    .merge(ordersBCummulative, left_on='date', right_on='date', how='left')\n",
    "    .merge(visitorsADaily, left_on='date', right_on='date', how='left')\n",
    "    .merge(visitorsBDaily, left_on='date', right_on='date', how='left')\n",
    "    .merge(visitorsACummulative, left_on='date', right_on='date', how='left')\n",
    "    .merge(visitorsBCummulative, left_on='date', right_on='date', how='left')\n",
    ")\n",
    "\n",
    "data.head()"
   ]
  },
  {
   "cell_type": "code",
   "execution_count": 25,
   "metadata": {},
   "outputs": [
    {
     "data": {
      "image/png": "[encoded data removed]",
      "text/plain": [
       "<Figure size 1080x648 with 1 Axes>"
      ]
     },
     "metadata": {},
     "output_type": "display_data"
    }
   ],
   "source": [
    "data['conversionA'] = data['ordersCummulativeA'] / data['visitorsCummulativeA']\n",
    "data['conversionB'] = data['ordersCummulativeB'] / data['visitorsCummulativeB']\n",
    "\n",
    "plt.figure(figsize=(15, 9))\n",
    "plt.plot(data['date'], data['conversionA'], label='A')\n",
    "plt.plot(data['date'], data['conversionB'], label='B')\n",
    "\n",
    "plt.legend()\n",
    "plt.title('График куммулятивной конверсии по группам')\n",
    "plt.xlabel('Дата')\n",
    "plt.ylabel('Конверсия')\n",
    "#plt.axis([\"2019-07-31\", '2019-09-1', 0.01, 0.05])\n",
    "plt.axis([\"2019-07-31\", '2019-09-1', 0.02, 0.038])\n",
    "plt.show()"
   ]
  },
  {
   "cell_type": "markdown",
   "metadata": {},
   "source": [
    "После резких колебаний в начале исследования конверсия выровнялась и установилась. Группа В уверенно лидирует над группой А по этому показателю."
   ]
  },
  {
   "cell_type": "markdown",
   "metadata": {},
   "source": [
    "### График относительного изменения куммулятивной конверсии группы В к группе А"
   ]
  },
  {
   "cell_type": "code",
   "execution_count": 26,
   "metadata": {},
   "outputs": [
    {
     "data": {
      "image/png": "[encoded data removed]",
      "text/plain": [
       "<Figure size 1080x648 with 1 Axes>"
      ]
     },
     "metadata": {},
     "output_type": "display_data"
    }
   ],
   "source": [
    "plt.figure(figsize=(15, 9))\n",
    "plt.plot(data['date'], data['conversionB'] / data['conversionA'] - 1)\n",
    "plt.title('График относительного изменения куммулятивной конверсии группы В к группе А')\n",
    "plt.xlabel('Дата')\n",
    "plt.ylabel('Конверсия')\n",
    "plt.axhline(y=0, color='black', linestyle='--')\n",
    "plt.axhline(y=0.12, color='grey', linestyle='--')\n",
    "plt.axis([\"2019-07-31\", '2019-09-1', -0.5, 0.5])\n",
    "plt.show()"
   ]
  },
  {
   "cell_type": "markdown",
   "metadata": {},
   "source": [
    "В начале теста группа B незначительно проигрывала группе A, затем вырвалась вперёд и выровнялась."
   ]
  },
  {
   "cell_type": "markdown",
   "metadata": {},
   "source": [
    "### Точечный график количества заказов по пользователям"
   ]
  },
  {
   "cell_type": "code",
   "execution_count": 27,
   "metadata": {},
   "outputs": [
    {
     "data": {
      "text/html": [
       "<div>\n",
       "<style scoped>\n",
       "    .dataframe tbody tr th:only-of-type {\n",
       "        vertical-align: middle;\n",
       "    }\n",
       "\n",
       "    .dataframe tbody tr th {\n",
       "        vertical-align: top;\n",
       "    }\n",
       "\n",
       "    .dataframe thead th {\n",
       "        text-align: right;\n",
       "    }\n",
       "</style>\n",
       "<table border=\"1\" class=\"dataframe\">\n",
       "  <thead>\n",
       "    <tr style=\"text-align: right;\">\n",
       "      <th></th>\n",
       "      <th>visitorId</th>\n",
       "      <th>orders</th>\n",
       "    </tr>\n",
       "  </thead>\n",
       "  <tbody>\n",
       "    <tr>\n",
       "      <td>908</td>\n",
       "      <td>3967698036</td>\n",
       "      <td>3</td>\n",
       "    </tr>\n",
       "    <tr>\n",
       "      <td>55</td>\n",
       "      <td>249864742</td>\n",
       "      <td>3</td>\n",
       "    </tr>\n",
       "    <tr>\n",
       "      <td>478</td>\n",
       "      <td>2108163459</td>\n",
       "      <td>3</td>\n",
       "    </tr>\n",
       "    <tr>\n",
       "      <td>687</td>\n",
       "      <td>2988190573</td>\n",
       "      <td>3</td>\n",
       "    </tr>\n",
       "    <tr>\n",
       "      <td>890</td>\n",
       "      <td>3908431265</td>\n",
       "      <td>3</td>\n",
       "    </tr>\n",
       "  </tbody>\n",
       "</table>\n",
       "</div>"
      ],
      "text/plain": [
       "      visitorId  orders\n",
       "908  3967698036       3\n",
       "55    249864742       3\n",
       "478  2108163459       3\n",
       "687  2988190573       3\n",
       "890  3908431265       3"
      ]
     },
     "execution_count": 27,
     "metadata": {},
     "output_type": "execute_result"
    }
   ],
   "source": [
    "ordersByUsers = (\n",
    "    orders.groupby('visitorId', as_index=False).agg({'transactionId': pd.Series.nunique})     #количество заказов пользователя\n",
    ")\n",
    "ordersByUsers.columns = ['visitorId', 'orders']\n",
    "ordersByUsers.sort_values(by='orders', ascending=False).head()"
   ]
  },
  {
   "cell_type": "code",
   "execution_count": 28,
   "metadata": {},
   "outputs": [
    {
     "data": {
      "image/png": "[encoded data removed]",
      "text/plain": [
       "<Figure size 1080x648 with 1 Axes>"
      ]
     },
     "metadata": {},
     "output_type": "display_data"
    }
   ],
   "source": [
    "plt.figure(figsize=(15, 9))\n",
    "x_values = pd.Series(range(0, len(ordersByUsers)))\n",
    "plt.scatter(x_values, ordersByUsers['orders'])\n",
    "plt.title('График количества заказов по пользователям')\n",
    "plt.ylabel('Количество заказов')\n",
    "plt.show()"
   ]
  },
  {
   "cell_type": "markdown",
   "metadata": {},
   "source": [
    "Предположения подтвердились, в данных имеются выбросы. На графике наблюдается несколько пользователей с большим количеством заказов. Согласно графику границей аномалий может служить величина в  4 - 5 заказов."
   ]
  },
  {
   "cell_type": "markdown",
   "metadata": {},
   "source": [
    "### Подсчёт  95-ой и 99-ой перцентили количества заказов на пользователя\n",
    "\n",
    "Чтобы определить какое количество заказов можно считать выбросом, для этого необходимо оценить какая доля покупателей совершила определенное количество заказов. Расчет перцентилей поможет в данном вопросе: "
   ]
  },
  {
   "cell_type": "code",
   "execution_count": 29,
   "metadata": {},
   "outputs": [
    {
     "name": "stdout",
     "output_type": "stream",
     "text": [
      "95-ая перцентиль - 1.0\n",
      "99-ая перцентиль - 2.0\n"
     ]
    }
   ],
   "source": [
    "print('95-ая перцентиль - ', end='')\n",
    "print(np.percentile(ordersByUsers['orders'], 95))\n",
    "print('99-ая перцентиль - ', end='')\n",
    "print(np.percentile(ordersByUsers['orders'], 99)) "
   ]
  },
  {
   "cell_type": "markdown",
   "metadata": {},
   "source": [
    "Оказывается менее 5% покупителей делает более двух заказов. Будем считать более 3 покупок от одного покупателя выбросом."
   ]
  },
  {
   "cell_type": "markdown",
   "metadata": {},
   "source": [
    "### Точечный график стоимостей заказов"
   ]
  },
  {
   "cell_type": "code",
   "execution_count": 30,
   "metadata": {},
   "outputs": [
    {
     "data": {
      "image/png": "[encoded data removed]",
      "text/plain": [
       "<Figure size 1080x648 with 1 Axes>"
      ]
     },
     "metadata": {},
     "output_type": "display_data"
    }
   ],
   "source": [
    "plt.figure(figsize=(15, 9))\n",
    "x_values = pd.Series(range(0, len(orders['revenue'])))\n",
    "plt.scatter(x_values, orders['revenue'])\n",
    "plt.title('График стоимостей зказов')\n",
    "plt.ylabel('Стоимость заказа')\n",
    "plt.show()"
   ]
  },
  {
   "cell_type": "markdown",
   "metadata": {},
   "source": [
    "В меньшем масштабе, для наглядности:"
   ]
  },
  {
   "cell_type": "code",
   "execution_count": 31,
   "metadata": {},
   "outputs": [
    {
     "data": {
      "image/png": "[encoded data removed]",
      "text/plain": [
       "<Figure size 1080x648 with 1 Axes>"
      ]
     },
     "metadata": {},
     "output_type": "display_data"
    }
   ],
   "source": [
    "plt.figure(figsize=(15, 9))\n",
    "x_values = pd.Series(range(0, len(orders['revenue'])))\n",
    "plt.scatter(x_values, orders['revenue'])\n",
    "plt.title('График стоимостей зказов')\n",
    "plt.ylabel('Стоимость заказа')\n",
    "plt.axis([-50, len(orders['revenue']) + 50, -10000, 100000])\n",
    "plt.show()"
   ]
  },
  {
   "cell_type": "markdown",
   "metadata": {},
   "source": [
    "Как и предполагалось есть немного очень дорогих заказов, от столь высоких значений следует избавиться.  По графику можно было бы выбрать границу аномальных заказов между 40 000 и 60 000. Снова обратимся к перцентилям, чтобы точно определить граничное значение."
   ]
  },
  {
   "cell_type": "markdown",
   "metadata": {},
   "source": [
    "### Подсчёт  95-ой и 99-ой перцентили стоимости заказов\n",
    "\n",
    "И снова для определения доли покупателей совершивших очень дорогие заказы, вызовем метод для расчета перцентилей:"
   ]
  },
  {
   "cell_type": "code",
   "execution_count": 32,
   "metadata": {},
   "outputs": [
    {
     "name": "stdout",
     "output_type": "stream",
     "text": [
      "95-ая перцентиль - 26785.0\n",
      "99-ая перцентиль - 53904.0\n"
     ]
    }
   ],
   "source": [
    "print('95-ая перцентиль - ', end='')\n",
    "print(np.percentile(orders['revenue'], 95).round())\n",
    "print('99-ая перцентиль - ', end='')\n",
    "print(np.percentile(orders['revenue'], 99).round()) "
   ]
  },
  {
   "cell_type": "markdown",
   "metadata": {},
   "source": [
    "Решено, границей аномальных значений будет являться отметка в 40000. Все заказы дороже этого числа, отнесем к выбросам.\n",
    "\n",
    "Теперь приступим к расчетам статистических параметров, чтобы оценить степень различия между группами это необходимо для принятия итогового решения по проведению А/В-теста. Для \"сырых\" и \"очищенных\" данных нужно посчитать статистические значимости различий в конверсии и среднем чеке, между группами. После этого, на основании всех исследовании принять решение по А/В-тесту.\n",
    "И еще, за уровень статистической значимости принято значение - 0.05."
   ]
  },
  {
   "cell_type": "markdown",
   "metadata": {},
   "source": [
    "### Подсчёт статистической значимости различий в конверсии между группами по «сырым» данным\n",
    "\n",
    "С помощью непараметрического теста Уилкоксона-Манна-Уитни определим достаточно ли разнятся данные по конверсии в группах."
   ]
  },
  {
   "cell_type": "code",
   "execution_count": 33,
   "metadata": {},
   "outputs": [],
   "source": [
    "ordersByUsersA = orders[orders['group'] == 'A'].groupby('visitorId', as_index=False).agg({'transactionId' : pd.Series.nunique})\n",
    "ordersByUsersA.columns = ['visitorId', 'orders']                                   "
   ]
  },
  {
   "cell_type": "code",
   "execution_count": 34,
   "metadata": {},
   "outputs": [],
   "source": [
    "ordersByUsersB = orders[orders['group'] == 'B'].groupby('visitorId', as_index=False).agg({'transactionId' : pd.Series.nunique})\n",
    "ordersByUsersB.columns = ['visitorId', 'orders']                                      "
   ]
  },
  {
   "cell_type": "code",
   "execution_count": 35,
   "metadata": {},
   "outputs": [],
   "source": [
    "sampleA = pd.concat([ordersByUsersA['orders'], pd.Series(           \n",
    "    0, index=np.arange(data['visitorsPerDateA'].sum() - len(ordersByUsersA['orders'])), name='orders')], axis=0\n",
    ")                                 "
   ]
  },
  {
   "cell_type": "code",
   "execution_count": 36,
   "metadata": {},
   "outputs": [],
   "source": [
    "sampleB = pd.concat([ordersByUsersB['orders'], pd.Series(\n",
    "    0, index=np.arange(data['visitorsPerDateB'].sum() - len(ordersByUsersB['orders'])), name='orders')], axis=0\n",
    ")                                   "
   ]
  },
  {
   "cell_type": "code",
   "execution_count": 37,
   "metadata": {},
   "outputs": [
    {
     "name": "stdout",
     "output_type": "stream",
     "text": [
      "p_value - 0.006\n",
      "Относительное отличие конверсии группы В от группы А - 16.0%\n"
     ]
    }
   ],
   "source": [
    "print('p_value - ', end='')\n",
    "print(\"{0:.3f}\".format(st.mannwhitneyu(sampleA, sampleB)[1]))\n",
    "print('Относительное отличие конверсии группы В от группы А - ', end='')\n",
    "print(\"{0:.1%}\".format(sampleB.mean() / sampleA.mean() - 1))"
   ]
  },
  {
   "cell_type": "markdown",
   "metadata": {},
   "source": [
    "P-значение меньше установленного уровня значимости, а это значит, что нулевая теория об отсутствии статисически значимых различий в конверсии между группами, может быть уверенно отвергнута. Различия в конверсии групп А и В имеются. В добавок конверсия группы В на 13.8% выше чем в группе А. Похоже мы на пути успешного А/В-теста."
   ]
  },
  {
   "cell_type": "markdown",
   "metadata": {},
   "source": [
    "### Подсчёт статистической значимости различий в среднем чеке заказа между группами по «сырым» данным\n",
    "\n",
    "По аналогии с конверсией, прибегнув к статистическим методам оценим различие в среднем чеке в группах:"
   ]
  },
  {
   "cell_type": "code",
   "execution_count": 38,
   "metadata": {},
   "outputs": [
    {
     "name": "stdout",
     "output_type": "stream",
     "text": [
      "p_value - 0.415\n",
      "Относительное отличие среднего чека группы В от группы А - 28.7%\n"
     ]
    }
   ],
   "source": [
    "print('p_value - ', end='')\n",
    "print('{0:.3f}'.format(st.mannwhitneyu(orders[orders['group']=='A']['revenue'], orders[orders['group']=='B']['revenue'])[1]))\n",
    "print('Относительное отличие среднего чека группы В от группы А - ', end='')\n",
    "print('{0:.1%}'.format(orders[orders['group']=='B']['revenue'].mean()/orders[orders['group']=='A']['revenue'].mean() - 1)) "
   ]
  },
  {
   "cell_type": "markdown",
   "metadata": {},
   "source": [
    "P-value значительно больше 0.05. Значит, причин отвергать нулевую гипотезу и считать, что в среднем чеке есть различия, нет. Однако средний чек группы B значительно выше среднего чека группы A, на целых 25.9% больше. Тут все выглядит не так однозначно. Посмотрим как изменятся показания в \"чистых\" данных."
   ]
  },
  {
   "cell_type": "markdown",
   "metadata": {},
   "source": [
    "### Подсчёт статистической значимости различий в конверсии между группами по «очищенным» данным\n",
    "\n",
    "Перед расчетами отфильтруем данные, избавимся от пользователей совершивших более 3 заказов, а так же заказов дороже 40000:"
   ]
  },
  {
   "cell_type": "code",
   "execution_count": 39,
   "metadata": {},
   "outputs": [
    {
     "name": "stdout",
     "output_type": "stream",
     "text": [
      "1099    148427295\n",
      "684     358944393\n",
      "648     382846391\n",
      "1137    759473111\n",
      "339     834731816\n",
      "Name: visitorId, dtype: int64\n",
      "23\n"
     ]
    }
   ],
   "source": [
    "usersWithManyOrders = pd.concat(\n",
    "    [\n",
    "        ordersByUsersA[ordersByUsersA['orders'] > 3]['visitorId'],\n",
    "        ordersByUsersB[ordersByUsersB['orders'] > 3]['visitorId'],\n",
    "    ],\n",
    "    axis=0,\n",
    ")\n",
    "usersWithExpensiveOrders = orders[orders['revenue'] > 40000]['visitorId']\n",
    "abnormalUsers = (\n",
    "    pd.concat([usersWithManyOrders, usersWithExpensiveOrders], axis=0)\n",
    "    .drop_duplicates()\n",
    "    .sort_values()\n",
    ")\n",
    "print(abnormalUsers.head())\n",
    "print(abnormalUsers.shape[0]) "
   ]
  },
  {
   "cell_type": "markdown",
   "metadata": {},
   "source": [
    "Всего 34 аномальных пользователя. Избавимся от них:"
   ]
  },
  {
   "cell_type": "code",
   "execution_count": 40,
   "metadata": {},
   "outputs": [],
   "source": [
    "sampleAFiltered = pd.concat([ordersByUsersA[np.logical_not(ordersByUsersA['visitorId'].isin(abnormalUsers))]['orders'],\n",
    "    pd.Series(0, index=np.arange(data['visitorsPerDateA'].sum() - len(ordersByUsersA['orders'])), name='orders')],\n",
    "    axis=0\n",
    ")"
   ]
  },
  {
   "cell_type": "code",
   "execution_count": 41,
   "metadata": {},
   "outputs": [],
   "source": [
    "sampleBFiltered = pd.concat([ordersByUsersB[np.logical_not(ordersByUsersB['visitorId'].isin(abnormalUsers))]['orders'],\n",
    "    pd.Series(0, index=np.arange(data['visitorsPerDateB'].sum() - len(ordersByUsersB['orders'])), name='orders')],\n",
    "    axis=0\n",
    ")"
   ]
  },
  {
   "cell_type": "code",
   "execution_count": 42,
   "metadata": {},
   "outputs": [
    {
     "name": "stdout",
     "output_type": "stream",
     "text": [
      "p_value - 0.003\n",
      "Относительное отличие конверсии группы В от группы А - 17.8%\n"
     ]
    }
   ],
   "source": [
    "print('p_value - ', end='')\n",
    "print(\"{0:.3f}\".format(st.mannwhitneyu(sampleAFiltered, sampleBFiltered)[1]))\n",
    "print('Относительное отличие конверсии группы В от группы А - ', end='')\n",
    "print(\"{0:.1%}\".format(sampleBFiltered.mean() / sampleAFiltered.mean() - 1))"
   ]
  },
  {
   "cell_type": "markdown",
   "metadata": {},
   "source": [
    "После \"очистки\" данных р-значение незначительно изменилось, оно попрежнему определенно меньше 0.05, а значит нулевая гипотеза попрежнему отвергнута, и можно говорить о различии в конверсиях исследуемых групп. В новых данных значение относительной конверсии в группах немного возросло и стало равным 16.4%."
   ]
  },
  {
   "cell_type": "markdown",
   "metadata": {},
   "source": [
    "### Подсчёт статистической значимости различий в среднем чеке заказа между группами по «очищенным» данным\n",
    "\n",
    "По аналогии с подпунктом 2.11 определим статистическую значимость различий в среднем чеке, только теперь уже для отфильтрованных данных:"
   ]
  },
  {
   "cell_type": "code",
   "execution_count": 43,
   "metadata": {},
   "outputs": [
    {
     "name": "stdout",
     "output_type": "stream",
     "text": [
      "p_value - 0.416\n",
      "Относительное отличие среднего чека группы В от группы А - 5.1%\n"
     ]
    }
   ],
   "source": [
    "print('p_value - ', end='')\n",
    "print('{0:.3f}'.format(st.mannwhitneyu(orders[np.logical_and(orders['group'] == 'A',\n",
    "    np.logical_not(orders['visitorId'].isin(abnormalUsers)))]['revenue'], orders[np.logical_and(orders['group'] == 'B', \n",
    "    np.logical_not(orders['visitorId'].isin(abnormalUsers)))]['revenue'])[1]\n",
    "    )\n",
    ")\n",
    "print('Относительное отличие среднего чека группы В от группы А - ', end='')\n",
    "print(\"{0:.1%}\".format(orders[np.logical_and(orders['group'] == 'B', np.logical_not(orders['visitorId'].isin(abnormalUsers)))]\n",
    "    ['revenue'].mean() / orders[np.logical_and(orders['group'] == 'A', np.logical_not(orders['visitorId']\n",
    "    .isin(abnormalUsers)))]['revenue'].mean() - 1\n",
    "    )\n",
    ") "
   ]
  },
  {
   "cell_type": "markdown",
   "metadata": {},
   "source": [
    "Очистка данных немного уменьшила р-значение для статистической значимости различий в среднем чеке, только этого совершенно недостаточно для того, чтобы отвергнуть нулевую гипотезу. И кстати, относительное отличие среднего чека упало с 25.9% до 6%, что не так уж и много, значит нельзя сказать о различии исследуемых групп."
   ]
  },
  {
   "cell_type": "markdown",
   "metadata": {},
   "source": [
    "**Нулевая гипотеза** - статисически значимые различия в конверсии/среднем чеке между группами отсутствуют, то есть группы между собой равны.\n",
    "    \n",
    "**Альтернативная гипотеза** - сравниваемые группы имеют значительные статистические различия в конверсии/среднем чеке и не равны между собой. \n"
   ]
  },
  {
   "cell_type": "markdown",
   "metadata": {},
   "source": [
    "### Принятие решения по результатам теста\n",
    "\n",
    "По всем полученным результатам теста, было принято решение продолжить его. Имеется статистически значимое различие по конверсии между группами как по сырым данным, так и после фильтрации аномалий, а график различия конверсии между группами сообщает, что результаты группы B лучше группы A и зафиксировались около среднего значения. Однозначно конверсия в группе В лучше чем в группе А. Все это ведет в сторону успеха гипотезы, вот только этого недостаточно для абсолютного успеха. Необходимы статистические улучшения в выручке группы с нововведениями. Хотя статистические изменения и не наблюдаются, но можно сказать об изменениях систематических. Относительное отличие среднего чека группы В от группы А - 6%, а график относительного изменения куммулятивного среднего чека так же говорит о преобладании группы В. Все дело в том, что график сильно колеблется из-за наличия выбросов, и поэтому не успел установиться вблизи определенного значения. Именно поэтому следует продолжать тест, есть параметры по которым еще рано делать выводы, к тому же есть все предпосылки предполагать успешное завершение теста."
   ]
  },
  {
   "cell_type": "markdown",
   "metadata": {},
   "source": [
    "<hr style=\"border: 2px solid blue;\" />\n",
    "\n",
    "## Дополнительное исследование*\n",
    "\n",
    "Построил графики кумулятивной выручки и кумулятивного среднего чека по очищенным данным и убедился в ваших словах.))\n",
    "\n",
    "Сложно игнорировать превосходство в прибыльности группы В над группой А, в очищенных данных она кажется однозначной, по крайней мере визуально. И поэтому мне сложно точно определиться, можно ли основываясь на этих данных, сдлеать вывод об успешности теста, проигнорировав отсутствие статистических различий в среднем чеке для разных групп???"
   ]
  },
  {
   "cell_type": "code",
   "execution_count": 44,
   "metadata": {},
   "outputs": [],
   "source": [
    "search = orders[orders['revenue'] < 40000]"
   ]
  },
  {
   "cell_type": "code",
   "execution_count": 45,
   "metadata": {},
   "outputs": [],
   "source": [
    "visitorsADaily_1 = visitors[visitors['group'] == 'A'][['date', 'visitors']]  #количество визитов ежедневно группа А\n",
    "visitorsADaily_1.columns = ['date', 'visitorsPerDateA']\n",
    "visitorsACummulative_1 = visitorsADaily_1.apply(                        #куммулятвное количество визитов за каждую дату группа А\n",
    "    lambda x: visitorsADaily_1[visitorsADaily_1['date'] <= x['date']].agg({'date' : 'max', 'visitorsPerDateA' : 'sum'}), axis=1\n",
    ")\n",
    "visitorsACummulative_1.columns = ['date', 'visitorsCummulativeA']"
   ]
  },
  {
   "cell_type": "code",
   "execution_count": 46,
   "metadata": {},
   "outputs": [],
   "source": [
    "visitorsBDaily_1 = visitors[visitors['group'] == 'B'][['date', 'visitors']]  #количество визитов ежедневно группа В\n",
    "visitorsBDaily_1.columns = ['date', 'visitorsPerDateB']\n",
    "visitorsBCummulative_1 = visitorsBDaily_1.apply(                        #куммулятвное количество визитов за каждую дату группа В\n",
    "    lambda x: visitorsBDaily_1[visitorsBDaily_1['date'] <= x['date']].agg({'date' : 'max', 'visitorsPerDateB' : 'sum'}), axis=1\n",
    ")\n",
    "visitorsBCummulative_1.columns = ['date', 'visitorsCummulativeB']"
   ]
  },
  {
   "cell_type": "code",
   "execution_count": 47,
   "metadata": {},
   "outputs": [],
   "source": [
    "ordersADaily_1 = search[search['group'] == 'A'][['date', 'transactionId', 'visitorId', 'revenue']].groupby(\n",
    "    'date', as_index=False).agg({'transactionId' : pd.Series.nunique, 'revenue' : 'sum'}  \n",
    ")                                                                   #количество заказов и выручка ежедневно группа А\n",
    "ordersADaily_1.columns = ['date', 'ordersPerDateA', 'revenuePerDateA']\n",
    "ordersACummulative_1 = ordersADaily_1.apply(                #куммулятвное количество заказов и выручка за каждую дату группа А\n",
    "    lambda x: ordersADaily_1[ordersADaily_1['date'] <= x['date']].agg(\n",
    "        {'date' : 'max', 'ordersPerDateA' : 'sum', 'revenuePerDateA' : 'sum'}\n",
    "    ), axis=1\n",
    ").sort_values(by='date')\n",
    "ordersACummulative_1.columns = ['date', 'ordersCummulativeA', 'revenueCummulativeA']"
   ]
  },
  {
   "cell_type": "code",
   "execution_count": 48,
   "metadata": {},
   "outputs": [],
   "source": [
    "ordersBDaily_1 = search[search['group'] == 'B'][['date', 'transactionId', 'visitorId', 'revenue']].groupby(\n",
    "    'date', as_index=False).agg({'transactionId' : pd.Series.nunique, 'revenue' : 'sum'}\n",
    ")                                                                   #количество заказов и выручка ежедневно группа В\n",
    "ordersBDaily_1.columns = ['date', 'ordersPerDateB', 'revenuePerDateB']\n",
    "ordersBCummulative_1 = ordersBDaily_1.apply(                #куммулятвное количество заказов и выручка за каждую дату группа В\n",
    "    lambda x: ordersBDaily_1[ordersBDaily_1['date'] <= x['date']].agg(\n",
    "        {'date' : 'max', 'ordersPerDateB' : 'sum', 'revenuePerDateB' : 'sum'}\n",
    "    ), axis=1\n",
    ").sort_values(by='date')\n",
    "ordersBCummulative_1.columns = ['date', 'ordersCummulativeB', 'revenueCummulativeB']"
   ]
  },
  {
   "cell_type": "code",
   "execution_count": 49,
   "metadata": {},
   "outputs": [
    {
     "data": {
      "image/png": "[encoded data removed]",
      "text/plain": [
       "<Figure size 1080x648 with 1 Axes>"
      ]
     },
     "metadata": {},
     "output_type": "display_data"
    }
   ],
   "source": [
    "plt.figure(figsize=(15, 9))\n",
    "plt.plot(ordersACummulative_1['date'], ordersACummulative_1['revenueCummulativeA'], label='A')\n",
    "plt.plot(ordersBCummulative_1['date'], ordersBCummulative_1['revenueCummulativeB'], label='B')\n",
    "plt.legend()\n",
    "plt.title('График куммулятивной выручки по группам')\n",
    "plt.xlabel('Дата')\n",
    "plt.ylabel('Выручка')\n",
    "plt.show()"
   ]
  },
  {
   "cell_type": "code",
   "execution_count": 50,
   "metadata": {},
   "outputs": [
    {
     "data": {
      "image/png": "[encoded data removed]",
      "text/plain": [
       "<Figure size 1080x648 with 1 Axes>"
      ]
     },
     "metadata": {},
     "output_type": "display_data"
    }
   ],
   "source": [
    "plt.figure(figsize=(15, 9))\n",
    "plt.plot(ordersACummulative_1['date'], ordersACummulative_1['revenueCummulativeA']/ordersACummulative_1['ordersCummulativeA'], label='A')\n",
    "plt.plot(ordersBCummulative_1['date'], ordersBCummulative_1['revenueCummulativeB']/ordersBCummulative_1['ordersCummulativeB'], label='B')\n",
    "plt.legend()\n",
    "plt.title('График куммулятивного среднего чека по группам')\n",
    "plt.xlabel('Дата')\n",
    "plt.ylabel('Средний чек')\n",
    "plt.show()"
   ]
  }
 ],
 "metadata": {
  "ExecuteTimeLog": [
   {
    "duration": 1510,
    "start_time": "2021-12-04T08:24:47.319Z"
   },
   {
    "duration": 4,
    "start_time": "2021-12-04T08:25:49.072Z"
   },
   {
    "duration": 2909,
    "start_time": "2021-12-04T10:28:45.324Z"
   },
   {
    "duration": 50,
    "start_time": "2021-12-04T10:29:09.339Z"
   },
   {
    "duration": 20,
    "start_time": "2021-12-04T10:38:41.323Z"
   },
   {
    "duration": 14,
    "start_time": "2021-12-04T10:40:03.372Z"
   },
   {
    "duration": 22,
    "start_time": "2021-12-04T10:41:55.369Z"
   },
   {
    "duration": 376,
    "start_time": "2021-12-04T10:43:34.254Z"
   },
   {
    "duration": 16,
    "start_time": "2021-12-04T10:44:14.035Z"
   },
   {
    "duration": 15,
    "start_time": "2021-12-04T10:44:14.432Z"
   },
   {
    "duration": 397,
    "start_time": "2021-12-04T10:44:14.725Z"
   },
   {
    "duration": 17,
    "start_time": "2021-12-04T10:44:23.912Z"
   },
   {
    "duration": 361,
    "start_time": "2021-12-04T21:14:44.828Z"
   },
   {
    "duration": 1515,
    "start_time": "2021-12-04T21:14:53.291Z"
   },
   {
    "duration": 43,
    "start_time": "2021-12-04T21:14:54.809Z"
   },
   {
    "duration": 17,
    "start_time": "2021-12-04T21:14:54.855Z"
   },
   {
    "duration": 22,
    "start_time": "2021-12-04T21:14:54.874Z"
   },
   {
    "duration": 17,
    "start_time": "2021-12-04T21:14:54.899Z"
   },
   {
    "duration": 111,
    "start_time": "2021-12-04T21:14:54.919Z"
   },
   {
    "duration": 6,
    "start_time": "2021-12-04T21:19:11.548Z"
   },
   {
    "duration": 6,
    "start_time": "2021-12-04T21:19:40.782Z"
   },
   {
    "duration": 7,
    "start_time": "2021-12-04T21:21:53.065Z"
   },
   {
    "duration": 6,
    "start_time": "2021-12-04T21:21:58.833Z"
   },
   {
    "duration": 83,
    "start_time": "2021-12-04T22:51:05.499Z"
   },
   {
    "duration": 71,
    "start_time": "2021-12-04T22:51:19.033Z"
   },
   {
    "duration": 1127,
    "start_time": "2021-12-05T07:58:41.274Z"
   },
   {
    "duration": 26,
    "start_time": "2021-12-05T07:58:42.403Z"
   },
   {
    "duration": 343,
    "start_time": "2021-12-05T07:58:42.431Z"
   },
   {
    "duration": 1596,
    "start_time": "2021-12-05T07:58:41.180Z"
   },
   {
    "duration": 1596,
    "start_time": "2021-12-05T07:58:41.182Z"
   },
   {
    "duration": 1594,
    "start_time": "2021-12-05T07:58:41.185Z"
   },
   {
    "duration": 1594,
    "start_time": "2021-12-05T07:58:41.186Z"
   },
   {
    "duration": 35,
    "start_time": "2021-12-05T10:10:59.610Z"
   },
   {
    "duration": 5,
    "start_time": "2021-12-05T10:11:47.707Z"
   },
   {
    "duration": 5,
    "start_time": "2021-12-05T10:11:53.827Z"
   },
   {
    "duration": 310,
    "start_time": "2021-12-05T10:13:07.492Z"
   },
   {
    "duration": 1186,
    "start_time": "2021-12-05T10:13:14.412Z"
   },
   {
    "duration": 28,
    "start_time": "2021-12-05T10:13:15.600Z"
   },
   {
    "duration": 561,
    "start_time": "2021-12-05T10:13:15.631Z"
   },
   {
    "duration": 1570,
    "start_time": "2021-12-05T10:13:14.624Z"
   },
   {
    "duration": 1568,
    "start_time": "2021-12-05T10:13:14.627Z"
   },
   {
    "duration": 1568,
    "start_time": "2021-12-05T10:13:14.629Z"
   },
   {
    "duration": 1568,
    "start_time": "2021-12-05T10:13:14.630Z"
   },
   {
    "duration": 1569,
    "start_time": "2021-12-05T10:13:14.631Z"
   },
   {
    "duration": 1569,
    "start_time": "2021-12-05T10:13:14.632Z"
   },
   {
    "duration": 1569,
    "start_time": "2021-12-05T10:13:14.633Z"
   },
   {
    "duration": 6,
    "start_time": "2021-12-05T10:14:00.335Z"
   },
   {
    "duration": 1157,
    "start_time": "2021-12-05T10:14:10.742Z"
   },
   {
    "duration": 25,
    "start_time": "2021-12-05T10:14:11.901Z"
   },
   {
    "duration": 29,
    "start_time": "2021-12-05T10:14:11.928Z"
   },
   {
    "duration": 29,
    "start_time": "2021-12-05T10:14:11.959Z"
   },
   {
    "duration": 19,
    "start_time": "2021-12-05T10:14:11.989Z"
   },
   {
    "duration": 56,
    "start_time": "2021-12-05T10:14:12.011Z"
   },
   {
    "duration": 67,
    "start_time": "2021-12-05T10:14:12.069Z"
   },
   {
    "duration": 38,
    "start_time": "2021-12-05T10:14:12.139Z"
   },
   {
    "duration": 37,
    "start_time": "2021-12-05T10:14:12.180Z"
   },
   {
    "duration": 367,
    "start_time": "2021-12-05T10:14:12.219Z"
   },
   {
    "duration": 10,
    "start_time": "2021-12-05T10:14:17.947Z"
   },
   {
    "duration": 5,
    "start_time": "2021-12-05T10:16:43.793Z"
   },
   {
    "duration": 267,
    "start_time": "2021-12-05T10:17:09.435Z"
   },
   {
    "duration": 262,
    "start_time": "2021-12-05T10:17:22.358Z"
   },
   {
    "duration": 3,
    "start_time": "2021-12-05T10:17:30.362Z"
   },
   {
    "duration": 3,
    "start_time": "2021-12-05T10:17:36.455Z"
   },
   {
    "duration": 5,
    "start_time": "2021-12-05T10:18:33.034Z"
   },
   {
    "duration": 11,
    "start_time": "2021-12-05T10:48:26.910Z"
   },
   {
    "duration": 309,
    "start_time": "2021-12-05T10:48:54.397Z"
   },
   {
    "duration": 260,
    "start_time": "2021-12-05T10:49:13.002Z"
   },
   {
    "duration": 7,
    "start_time": "2021-12-05T10:49:42.953Z"
   },
   {
    "duration": 8,
    "start_time": "2021-12-05T10:50:05.885Z"
   },
   {
    "duration": 9,
    "start_time": "2021-12-05T10:51:04.769Z"
   },
   {
    "duration": 8,
    "start_time": "2021-12-05T10:51:11.344Z"
   },
   {
    "duration": 10,
    "start_time": "2021-12-05T10:51:18.177Z"
   },
   {
    "duration": 9,
    "start_time": "2021-12-05T10:51:30.814Z"
   },
   {
    "duration": 88,
    "start_time": "2021-12-05T10:56:17.871Z"
   },
   {
    "duration": 1196,
    "start_time": "2021-12-05T10:56:25.583Z"
   },
   {
    "duration": 1112,
    "start_time": "2021-12-05T10:57:35.798Z"
   },
   {
    "duration": 26,
    "start_time": "2021-12-05T10:57:36.912Z"
   },
   {
    "duration": 5,
    "start_time": "2021-12-05T10:57:36.941Z"
   },
   {
    "duration": 20,
    "start_time": "2021-12-05T10:57:36.949Z"
   },
   {
    "duration": 12,
    "start_time": "2021-12-05T10:57:36.971Z"
   },
   {
    "duration": 21,
    "start_time": "2021-12-05T10:57:36.985Z"
   },
   {
    "duration": 38,
    "start_time": "2021-12-05T10:57:37.008Z"
   },
   {
    "duration": 17,
    "start_time": "2021-12-05T10:57:37.048Z"
   },
   {
    "duration": 34,
    "start_time": "2021-12-05T10:57:37.066Z"
   },
   {
    "duration": 4,
    "start_time": "2021-12-05T10:57:37.101Z"
   },
   {
    "duration": 8,
    "start_time": "2021-12-05T10:57:37.107Z"
   },
   {
    "duration": 13,
    "start_time": "2021-12-05T10:57:37.116Z"
   },
   {
    "duration": 1609,
    "start_time": "2021-12-05T10:59:03.585Z"
   },
   {
    "duration": 7,
    "start_time": "2021-12-05T10:59:18.895Z"
   },
   {
    "duration": 3550,
    "start_time": "2021-12-05T12:03:31.301Z"
   },
   {
    "duration": 541,
    "start_time": "2021-12-05T12:04:37.681Z"
   },
   {
    "duration": 7305,
    "start_time": "2021-12-05T12:05:29.118Z"
   },
   {
    "duration": 1206,
    "start_time": "2021-12-05T12:05:51.096Z"
   },
   {
    "duration": 25,
    "start_time": "2021-12-05T12:05:52.304Z"
   },
   {
    "duration": 4,
    "start_time": "2021-12-05T12:05:52.332Z"
   },
   {
    "duration": 10,
    "start_time": "2021-12-05T12:05:52.338Z"
   },
   {
    "duration": 14,
    "start_time": "2021-12-05T12:05:52.350Z"
   },
   {
    "duration": 13,
    "start_time": "2021-12-05T12:05:52.366Z"
   },
   {
    "duration": 47,
    "start_time": "2021-12-05T12:05:52.380Z"
   },
   {
    "duration": 22,
    "start_time": "2021-12-05T12:05:52.429Z"
   },
   {
    "duration": 28,
    "start_time": "2021-12-05T12:05:52.453Z"
   },
   {
    "duration": 7,
    "start_time": "2021-12-05T12:05:52.482Z"
   },
   {
    "duration": 8674,
    "start_time": "2021-12-05T12:05:52.491Z"
   },
   {
    "duration": 1519,
    "start_time": "2021-12-05T12:05:59.648Z"
   },
   {
    "duration": 1519,
    "start_time": "2021-12-05T12:05:59.649Z"
   },
   {
    "duration": 1519,
    "start_time": "2021-12-05T12:05:59.650Z"
   },
   {
    "duration": 65,
    "start_time": "2021-12-05T12:06:44.362Z"
   },
   {
    "duration": 325,
    "start_time": "2021-12-05T12:07:31.903Z"
   },
   {
    "duration": 328,
    "start_time": "2021-12-05T12:07:40.634Z"
   },
   {
    "duration": 63,
    "start_time": "2021-12-05T12:07:59.582Z"
   },
   {
    "duration": 562,
    "start_time": "2021-12-05T12:08:09.898Z"
   },
   {
    "duration": 70,
    "start_time": "2021-12-05T12:08:19.090Z"
   },
   {
    "duration": 58,
    "start_time": "2021-12-05T12:08:29.591Z"
   },
   {
    "duration": 61,
    "start_time": "2021-12-05T12:09:02.529Z"
   },
   {
    "duration": 423,
    "start_time": "2021-12-05T12:24:46.311Z"
   },
   {
    "duration": 271,
    "start_time": "2021-12-05T12:26:17.827Z"
   },
   {
    "duration": 4,
    "start_time": "2021-12-05T12:26:56.852Z"
   },
   {
    "duration": 6625,
    "start_time": "2021-12-05T12:27:16.681Z"
   },
   {
    "duration": 75,
    "start_time": "2021-12-05T12:28:00.776Z"
   },
   {
    "duration": 80,
    "start_time": "2021-12-05T12:28:15.297Z"
   },
   {
    "duration": 95,
    "start_time": "2021-12-05T12:28:54.349Z"
   },
   {
    "duration": 69,
    "start_time": "2021-12-05T12:29:35.318Z"
   },
   {
    "duration": 73,
    "start_time": "2021-12-05T12:29:44.842Z"
   },
   {
    "duration": 71,
    "start_time": "2021-12-05T12:29:53.824Z"
   },
   {
    "duration": 105,
    "start_time": "2021-12-05T12:31:30.109Z"
   },
   {
    "duration": 73,
    "start_time": "2021-12-05T12:31:56.932Z"
   },
   {
    "duration": 70,
    "start_time": "2021-12-05T12:32:18.950Z"
   },
   {
    "duration": 26,
    "start_time": "2021-12-05T12:32:52.146Z"
   },
   {
    "duration": 30,
    "start_time": "2021-12-05T12:33:03.232Z"
   },
   {
    "duration": 62,
    "start_time": "2021-12-05T13:01:41.572Z"
   },
   {
    "duration": 61,
    "start_time": "2021-12-05T13:01:52.046Z"
   },
   {
    "duration": 62,
    "start_time": "2021-12-05T13:02:02.925Z"
   },
   {
    "duration": 53,
    "start_time": "2021-12-05T13:22:39.537Z"
   },
   {
    "duration": 74,
    "start_time": "2021-12-05T13:22:39.887Z"
   },
   {
    "duration": 5,
    "start_time": "2021-12-05T13:24:27.494Z"
   },
   {
    "duration": 5,
    "start_time": "2021-12-05T13:24:30.081Z"
   },
   {
    "duration": 4,
    "start_time": "2021-12-05T13:24:30.439Z"
   },
   {
    "duration": 262,
    "start_time": "2021-12-05T13:28:49.822Z"
   },
   {
    "duration": 1799,
    "start_time": "2021-12-05T13:29:50.655Z"
   },
   {
    "duration": -124,
    "start_time": "2021-12-05T13:29:52.581Z"
   },
   {
    "duration": -124,
    "start_time": "2021-12-05T13:29:52.582Z"
   },
   {
    "duration": -125,
    "start_time": "2021-12-05T13:29:52.584Z"
   },
   {
    "duration": -127,
    "start_time": "2021-12-05T13:29:52.586Z"
   },
   {
    "duration": -127,
    "start_time": "2021-12-05T13:29:52.587Z"
   },
   {
    "duration": -127,
    "start_time": "2021-12-05T13:29:52.588Z"
   },
   {
    "duration": -128,
    "start_time": "2021-12-05T13:29:52.590Z"
   },
   {
    "duration": -128,
    "start_time": "2021-12-05T13:29:52.591Z"
   },
   {
    "duration": -128,
    "start_time": "2021-12-05T13:29:52.592Z"
   },
   {
    "duration": -129,
    "start_time": "2021-12-05T13:29:52.593Z"
   },
   {
    "duration": -129,
    "start_time": "2021-12-05T13:29:52.594Z"
   },
   {
    "duration": -129,
    "start_time": "2021-12-05T13:29:52.595Z"
   },
   {
    "duration": -132,
    "start_time": "2021-12-05T13:29:52.599Z"
   },
   {
    "duration": -133,
    "start_time": "2021-12-05T13:29:52.601Z"
   },
   {
    "duration": -133,
    "start_time": "2021-12-05T13:29:52.602Z"
   },
   {
    "duration": -133,
    "start_time": "2021-12-05T13:29:52.603Z"
   },
   {
    "duration": -133,
    "start_time": "2021-12-05T13:29:52.604Z"
   },
   {
    "duration": -134,
    "start_time": "2021-12-05T13:29:52.605Z"
   },
   {
    "duration": -134,
    "start_time": "2021-12-05T13:29:52.606Z"
   },
   {
    "duration": 1230,
    "start_time": "2021-12-05T13:31:27.953Z"
   },
   {
    "duration": 25,
    "start_time": "2021-12-05T13:31:29.185Z"
   },
   {
    "duration": 11,
    "start_time": "2021-12-05T13:31:29.215Z"
   },
   {
    "duration": 38,
    "start_time": "2021-12-05T13:31:29.228Z"
   },
   {
    "duration": 10,
    "start_time": "2021-12-05T13:31:29.268Z"
   },
   {
    "duration": 20,
    "start_time": "2021-12-05T13:31:29.280Z"
   },
   {
    "duration": 78,
    "start_time": "2021-12-05T13:31:29.302Z"
   },
   {
    "duration": 24,
    "start_time": "2021-12-05T13:31:29.383Z"
   },
   {
    "duration": 30,
    "start_time": "2021-12-05T13:31:29.409Z"
   },
   {
    "duration": 7,
    "start_time": "2021-12-05T13:31:29.441Z"
   },
   {
    "duration": 68,
    "start_time": "2021-12-05T13:31:29.449Z"
   },
   {
    "duration": 62,
    "start_time": "2021-12-05T13:31:29.518Z"
   },
   {
    "duration": 76,
    "start_time": "2021-12-05T13:31:29.582Z"
   },
   {
    "duration": 68,
    "start_time": "2021-12-05T13:31:29.660Z"
   },
   {
    "duration": 28,
    "start_time": "2021-12-05T13:31:29.745Z"
   },
   {
    "duration": 72,
    "start_time": "2021-12-05T13:31:29.775Z"
   },
   {
    "duration": 96,
    "start_time": "2021-12-05T13:31:29.849Z"
   },
   {
    "duration": 5,
    "start_time": "2021-12-05T13:31:29.946Z"
   },
   {
    "duration": 15,
    "start_time": "2021-12-05T13:31:29.952Z"
   },
   {
    "duration": 19,
    "start_time": "2021-12-05T13:31:29.968Z"
   },
   {
    "duration": 10,
    "start_time": "2021-12-05T13:32:26.395Z"
   },
   {
    "duration": 6610,
    "start_time": "2021-12-05T13:55:13.818Z"
   },
   {
    "duration": 166,
    "start_time": "2021-12-05T13:55:58.179Z"
   },
   {
    "duration": 795,
    "start_time": "2021-12-05T13:57:09.549Z"
   },
   {
    "duration": 412,
    "start_time": "2021-12-05T13:57:20.459Z"
   },
   {
    "duration": 391,
    "start_time": "2021-12-05T13:57:35.925Z"
   },
   {
    "duration": 466,
    "start_time": "2021-12-05T13:57:51.858Z"
   },
   {
    "duration": 182,
    "start_time": "2021-12-05T13:58:24.138Z"
   },
   {
    "duration": 188,
    "start_time": "2021-12-05T13:59:28.999Z"
   },
   {
    "duration": 262,
    "start_time": "2021-12-05T14:00:07.799Z"
   },
   {
    "duration": 201,
    "start_time": "2021-12-05T14:00:14.609Z"
   },
   {
    "duration": 415,
    "start_time": "2021-12-05T14:00:35.041Z"
   },
   {
    "duration": 190,
    "start_time": "2021-12-05T14:01:08.579Z"
   },
   {
    "duration": 195,
    "start_time": "2021-12-05T14:01:18.297Z"
   },
   {
    "duration": 198,
    "start_time": "2021-12-05T14:02:01.317Z"
   },
   {
    "duration": 689,
    "start_time": "2021-12-05T14:03:41.313Z"
   },
   {
    "duration": 449,
    "start_time": "2021-12-05T14:03:50.635Z"
   },
   {
    "duration": 410,
    "start_time": "2021-12-05T14:03:59.144Z"
   },
   {
    "duration": 198,
    "start_time": "2021-12-05T14:04:08.224Z"
   },
   {
    "duration": 196,
    "start_time": "2021-12-05T14:04:19.187Z"
   },
   {
    "duration": 5,
    "start_time": "2021-12-05T14:06:06.626Z"
   },
   {
    "duration": 5,
    "start_time": "2021-12-05T14:06:36.966Z"
   },
   {
    "duration": 190,
    "start_time": "2021-12-05T14:09:04.441Z"
   },
   {
    "duration": 266,
    "start_time": "2021-12-05T14:09:43.746Z"
   },
   {
    "duration": 12,
    "start_time": "2021-12-05T14:13:52.998Z"
   },
   {
    "duration": 17,
    "start_time": "2021-12-05T14:14:18.697Z"
   },
   {
    "duration": 313,
    "start_time": "2021-12-05T14:16:37.031Z"
   },
   {
    "duration": 306,
    "start_time": "2021-12-05T14:16:50.541Z"
   },
   {
    "duration": 301,
    "start_time": "2021-12-05T14:17:10.564Z"
   },
   {
    "duration": 295,
    "start_time": "2021-12-05T14:18:27.971Z"
   },
   {
    "duration": 196,
    "start_time": "2021-12-05T15:15:18.955Z"
   },
   {
    "duration": 333,
    "start_time": "2021-12-05T15:22:54.347Z"
   },
   {
    "duration": 250,
    "start_time": "2021-12-05T15:23:11.885Z"
   },
   {
    "duration": 106,
    "start_time": "2021-12-05T15:23:40.687Z"
   },
   {
    "duration": 391,
    "start_time": "2021-12-05T15:23:46.931Z"
   },
   {
    "duration": 280,
    "start_time": "2021-12-05T15:24:38.193Z"
   },
   {
    "duration": 304,
    "start_time": "2021-12-05T15:24:55.170Z"
   },
   {
    "duration": 394,
    "start_time": "2021-12-05T15:26:28.855Z"
   },
   {
    "duration": 298,
    "start_time": "2021-12-05T15:27:10.260Z"
   },
   {
    "duration": 297,
    "start_time": "2021-12-05T15:27:28.399Z"
   },
   {
    "duration": 292,
    "start_time": "2021-12-05T15:28:03.566Z"
   },
   {
    "duration": 202,
    "start_time": "2021-12-05T15:28:44.892Z"
   },
   {
    "duration": 194,
    "start_time": "2021-12-05T15:28:59.412Z"
   },
   {
    "duration": 202,
    "start_time": "2021-12-05T15:29:07.329Z"
   },
   {
    "duration": 196,
    "start_time": "2021-12-05T15:29:28.771Z"
   },
   {
    "duration": 328,
    "start_time": "2021-12-05T15:29:58.139Z"
   },
   {
    "duration": 293,
    "start_time": "2021-12-05T18:08:48.273Z"
   },
   {
    "duration": 261,
    "start_time": "2021-12-05T18:08:57.948Z"
   },
   {
    "duration": 127,
    "start_time": "2021-12-05T18:09:34.150Z"
   },
   {
    "duration": 393,
    "start_time": "2021-12-05T18:10:29.105Z"
   },
   {
    "duration": 125,
    "start_time": "2021-12-05T18:10:35.531Z"
   },
   {
    "duration": 115,
    "start_time": "2021-12-05T18:11:07.708Z"
   },
   {
    "duration": 4,
    "start_time": "2021-12-05T18:11:41.987Z"
   },
   {
    "duration": 110,
    "start_time": "2021-12-05T18:12:20.689Z"
   },
   {
    "duration": 104,
    "start_time": "2021-12-05T18:12:32.602Z"
   },
   {
    "duration": 269,
    "start_time": "2021-12-05T18:14:03.876Z"
   },
   {
    "duration": 1258,
    "start_time": "2021-12-05T18:14:38.076Z"
   },
   {
    "duration": 281,
    "start_time": "2021-12-05T18:15:07.548Z"
   },
   {
    "duration": 425,
    "start_time": "2021-12-05T18:16:15.964Z"
   },
   {
    "duration": 118,
    "start_time": "2021-12-05T18:16:21.458Z"
   },
   {
    "duration": 129,
    "start_time": "2021-12-05T18:16:27.436Z"
   },
   {
    "duration": 298,
    "start_time": "2021-12-05T18:16:33.617Z"
   },
   {
    "duration": 322,
    "start_time": "2021-12-05T18:23:54.348Z"
   },
   {
    "duration": 4,
    "start_time": "2021-12-05T18:26:00.476Z"
   },
   {
    "duration": 526,
    "start_time": "2021-12-05T18:30:25.349Z"
   },
   {
    "duration": 273,
    "start_time": "2021-12-05T18:30:46.189Z"
   },
   {
    "duration": 5,
    "start_time": "2021-12-05T18:31:13.102Z"
   },
   {
    "duration": 286,
    "start_time": "2021-12-05T18:33:15.686Z"
   },
   {
    "duration": 318,
    "start_time": "2021-12-05T18:33:35.944Z"
   },
   {
    "duration": 310,
    "start_time": "2021-12-05T18:33:47.450Z"
   },
   {
    "duration": 325,
    "start_time": "2021-12-05T18:33:57.033Z"
   },
   {
    "duration": 325,
    "start_time": "2021-12-05T18:34:05.335Z"
   },
   {
    "duration": 305,
    "start_time": "2021-12-05T18:34:11.452Z"
   },
   {
    "duration": 268,
    "start_time": "2021-12-05T18:34:17.491Z"
   },
   {
    "duration": 285,
    "start_time": "2021-12-05T18:34:28.974Z"
   },
   {
    "duration": 288,
    "start_time": "2021-12-05T18:34:55.978Z"
   },
   {
    "duration": 302,
    "start_time": "2021-12-05T18:34:56.861Z"
   },
   {
    "duration": 9,
    "start_time": "2021-12-05T20:05:30.658Z"
   },
   {
    "duration": 10,
    "start_time": "2021-12-05T20:05:48.502Z"
   },
   {
    "duration": 314,
    "start_time": "2021-12-05T20:06:24.993Z"
   },
   {
    "duration": 6976,
    "start_time": "2021-12-05T20:06:45.070Z"
   },
   {
    "duration": 5,
    "start_time": "2021-12-05T20:07:16.467Z"
   },
   {
    "duration": 3,
    "start_time": "2021-12-05T20:07:27.919Z"
   },
   {
    "duration": 10,
    "start_time": "2021-12-05T20:08:24.210Z"
   },
   {
    "duration": 5,
    "start_time": "2021-12-05T20:48:45.135Z"
   },
   {
    "duration": 276,
    "start_time": "2021-12-05T20:49:07.899Z"
   },
   {
    "duration": 8,
    "start_time": "2021-12-05T20:49:25.918Z"
   },
   {
    "duration": 1164,
    "start_time": "2021-12-05T20:49:38.636Z"
   },
   {
    "duration": 25,
    "start_time": "2021-12-05T20:49:39.802Z"
   },
   {
    "duration": 5,
    "start_time": "2021-12-05T20:49:39.829Z"
   },
   {
    "duration": 18,
    "start_time": "2021-12-05T20:49:39.836Z"
   },
   {
    "duration": 11,
    "start_time": "2021-12-05T20:49:39.856Z"
   },
   {
    "duration": 12,
    "start_time": "2021-12-05T20:49:39.868Z"
   },
   {
    "duration": 47,
    "start_time": "2021-12-05T20:49:39.882Z"
   },
   {
    "duration": 21,
    "start_time": "2021-12-05T20:49:39.932Z"
   },
   {
    "duration": 27,
    "start_time": "2021-12-05T20:49:39.955Z"
   },
   {
    "duration": 7,
    "start_time": "2021-12-05T20:49:39.984Z"
   },
   {
    "duration": 71,
    "start_time": "2021-12-05T20:49:39.993Z"
   },
   {
    "duration": 60,
    "start_time": "2021-12-05T20:49:40.066Z"
   },
   {
    "duration": 92,
    "start_time": "2021-12-05T20:49:40.128Z"
   },
   {
    "duration": 85,
    "start_time": "2021-12-05T20:49:40.222Z"
   },
   {
    "duration": 213,
    "start_time": "2021-12-05T20:49:40.309Z"
   },
   {
    "duration": 214,
    "start_time": "2021-12-05T20:49:40.523Z"
   },
   {
    "duration": 360,
    "start_time": "2021-12-05T20:49:40.738Z"
   },
   {
    "duration": 53,
    "start_time": "2021-12-05T20:49:41.100Z"
   },
   {
    "duration": 230,
    "start_time": "2021-12-05T20:49:41.155Z"
   },
   {
    "duration": 294,
    "start_time": "2021-12-05T20:49:41.387Z"
   },
   {
    "duration": 110,
    "start_time": "2021-12-05T20:49:41.683Z"
   },
   {
    "duration": 279,
    "start_time": "2021-12-05T20:49:41.795Z"
   },
   {
    "duration": 4,
    "start_time": "2021-12-05T20:49:42.078Z"
   },
   {
    "duration": 380,
    "start_time": "2021-12-05T20:49:42.084Z"
   },
   {
    "duration": 308,
    "start_time": "2021-12-05T20:49:42.465Z"
   },
   {
    "duration": 4,
    "start_time": "2021-12-05T20:49:42.775Z"
   },
   {
    "duration": 70,
    "start_time": "2021-12-05T20:49:42.781Z"
   },
   {
    "duration": 62,
    "start_time": "2021-12-05T20:49:42.853Z"
   },
   {
    "duration": 5,
    "start_time": "2021-12-05T20:49:42.917Z"
   },
   {
    "duration": 23,
    "start_time": "2021-12-05T20:49:42.924Z"
   },
   {
    "duration": 21,
    "start_time": "2021-12-05T20:49:42.951Z"
   },
   {
    "duration": 23,
    "start_time": "2021-12-05T20:49:42.974Z"
   },
   {
    "duration": 22,
    "start_time": "2021-12-05T20:49:42.999Z"
   },
   {
    "duration": 14,
    "start_time": "2021-12-05T20:49:43.023Z"
   },
   {
    "duration": 413,
    "start_time": "2021-12-05T20:49:55.629Z"
   },
   {
    "duration": 10,
    "start_time": "2021-12-05T20:50:00.559Z"
   },
   {
    "duration": 17,
    "start_time": "2021-12-05T20:51:53.812Z"
   },
   {
    "duration": 17,
    "start_time": "2021-12-05T20:52:32.373Z"
   },
   {
    "duration": 12,
    "start_time": "2021-12-05T20:54:14.239Z"
   },
   {
    "duration": 10,
    "start_time": "2021-12-05T20:55:21.625Z"
   },
   {
    "duration": 11,
    "start_time": "2021-12-05T20:55:22.036Z"
   },
   {
    "duration": 9,
    "start_time": "2021-12-05T20:56:18.894Z"
   },
   {
    "duration": 14,
    "start_time": "2021-12-05T21:05:54.999Z"
   },
   {
    "duration": 1260,
    "start_time": "2021-12-05T21:09:33.518Z"
   },
   {
    "duration": 25,
    "start_time": "2021-12-05T21:09:34.780Z"
   },
   {
    "duration": 5,
    "start_time": "2021-12-05T21:09:34.807Z"
   },
   {
    "duration": 12,
    "start_time": "2021-12-05T21:09:34.814Z"
   },
   {
    "duration": 37,
    "start_time": "2021-12-05T21:09:34.828Z"
   },
   {
    "duration": 13,
    "start_time": "2021-12-05T21:09:34.868Z"
   },
   {
    "duration": 46,
    "start_time": "2021-12-05T21:09:34.883Z"
   },
   {
    "duration": 19,
    "start_time": "2021-12-05T21:09:34.931Z"
   },
   {
    "duration": 29,
    "start_time": "2021-12-05T21:09:34.953Z"
   },
   {
    "duration": 7,
    "start_time": "2021-12-05T21:09:34.983Z"
   },
   {
    "duration": 69,
    "start_time": "2021-12-05T21:09:34.992Z"
   },
   {
    "duration": 61,
    "start_time": "2021-12-05T21:09:35.063Z"
   },
   {
    "duration": 94,
    "start_time": "2021-12-05T21:09:35.126Z"
   },
   {
    "duration": 72,
    "start_time": "2021-12-05T21:09:35.222Z"
   },
   {
    "duration": 229,
    "start_time": "2021-12-05T21:09:35.296Z"
   },
   {
    "duration": 230,
    "start_time": "2021-12-05T21:09:35.527Z"
   },
   {
    "duration": 333,
    "start_time": "2021-12-05T21:09:35.759Z"
   },
   {
    "duration": 33,
    "start_time": "2021-12-05T21:09:36.094Z"
   },
   {
    "duration": 255,
    "start_time": "2021-12-05T21:09:36.129Z"
   },
   {
    "duration": 314,
    "start_time": "2021-12-05T21:09:36.385Z"
   },
   {
    "duration": 151,
    "start_time": "2021-12-05T21:09:36.700Z"
   },
   {
    "duration": 296,
    "start_time": "2021-12-05T21:09:36.853Z"
   },
   {
    "duration": 9,
    "start_time": "2021-12-05T21:09:37.152Z"
   },
   {
    "duration": 395,
    "start_time": "2021-12-05T21:09:37.164Z"
   },
   {
    "duration": 298,
    "start_time": "2021-12-05T21:09:37.561Z"
   },
   {
    "duration": 6,
    "start_time": "2021-12-05T21:09:37.862Z"
   },
   {
    "duration": 62,
    "start_time": "2021-12-05T21:09:37.869Z"
   },
   {
    "duration": 90,
    "start_time": "2021-12-05T21:09:37.933Z"
   },
   {
    "duration": 5,
    "start_time": "2021-12-05T21:09:38.025Z"
   },
   {
    "duration": 22,
    "start_time": "2021-12-05T21:09:38.032Z"
   },
   {
    "duration": 9,
    "start_time": "2021-12-05T21:09:38.055Z"
   },
   {
    "duration": 11,
    "start_time": "2021-12-05T21:09:38.066Z"
   },
   {
    "duration": 9,
    "start_time": "2021-12-05T21:09:38.079Z"
   },
   {
    "duration": 7,
    "start_time": "2021-12-05T21:09:38.090Z"
   },
   {
    "duration": 6,
    "start_time": "2021-12-05T21:09:38.099Z"
   },
   {
    "duration": 49,
    "start_time": "2021-12-05T21:09:38.107Z"
   },
   {
    "duration": 17,
    "start_time": "2021-12-05T21:09:38.158Z"
   },
   {
    "duration": 4,
    "start_time": "2021-12-05T21:57:47.911Z"
   },
   {
    "duration": 6,
    "start_time": "2021-12-05T22:30:04.904Z"
   },
   {
    "duration": 5,
    "start_time": "2021-12-05T22:30:12.520Z"
   },
   {
    "duration": 5,
    "start_time": "2021-12-05T23:01:19.561Z"
   },
   {
    "duration": 5,
    "start_time": "2021-12-05T23:01:41.177Z"
   },
   {
    "duration": 3,
    "start_time": "2021-12-05T23:27:42.316Z"
   },
   {
    "duration": 4,
    "start_time": "2021-12-05T23:28:12.003Z"
   },
   {
    "duration": 7,
    "start_time": "2021-12-05T23:35:30.464Z"
   },
   {
    "duration": 8,
    "start_time": "2021-12-05T23:36:44.448Z"
   },
   {
    "duration": 8,
    "start_time": "2021-12-05T23:37:10.814Z"
   },
   {
    "duration": 8,
    "start_time": "2021-12-05T23:37:15.828Z"
   },
   {
    "duration": 12,
    "start_time": "2021-12-05T23:46:04.323Z"
   },
   {
    "duration": 11,
    "start_time": "2021-12-05T23:46:30.695Z"
   },
   {
    "duration": 10,
    "start_time": "2021-12-05T23:53:05.326Z"
   },
   {
    "duration": 11,
    "start_time": "2021-12-05T23:54:31.065Z"
   },
   {
    "duration": 10,
    "start_time": "2021-12-05T23:54:36.736Z"
   },
   {
    "duration": 10,
    "start_time": "2021-12-05T23:54:43.983Z"
   },
   {
    "duration": 10,
    "start_time": "2021-12-05T23:54:49.855Z"
   },
   {
    "duration": 6,
    "start_time": "2021-12-05T23:57:54.254Z"
   },
   {
    "duration": 13,
    "start_time": "2021-12-06T00:02:54.924Z"
   },
   {
    "duration": 15,
    "start_time": "2021-12-06T00:03:18.370Z"
   },
   {
    "duration": 10,
    "start_time": "2021-12-06T00:06:13.618Z"
   },
   {
    "duration": 14,
    "start_time": "2021-12-06T00:06:40.640Z"
   },
   {
    "duration": 7,
    "start_time": "2021-12-06T00:07:33.978Z"
   },
   {
    "duration": 7,
    "start_time": "2021-12-06T00:07:41.016Z"
   },
   {
    "duration": 10,
    "start_time": "2021-12-06T01:00:34.752Z"
   },
   {
    "duration": 6,
    "start_time": "2021-12-06T01:00:37.888Z"
   },
   {
    "duration": 6,
    "start_time": "2021-12-06T01:00:38.747Z"
   },
   {
    "duration": 8,
    "start_time": "2021-12-06T01:00:39.310Z"
   },
   {
    "duration": 14,
    "start_time": "2021-12-06T01:00:45.247Z"
   },
   {
    "duration": 9,
    "start_time": "2021-12-06T01:01:07.602Z"
   },
   {
    "duration": 6,
    "start_time": "2021-12-06T01:01:09.214Z"
   },
   {
    "duration": 6,
    "start_time": "2021-12-06T01:01:10.630Z"
   },
   {
    "duration": 8,
    "start_time": "2021-12-06T01:01:10.987Z"
   },
   {
    "duration": 15,
    "start_time": "2021-12-06T01:01:15.320Z"
   },
   {
    "duration": 1175,
    "start_time": "2021-12-06T01:01:28.224Z"
   },
   {
    "duration": 30,
    "start_time": "2021-12-06T01:01:29.401Z"
   },
   {
    "duration": 6,
    "start_time": "2021-12-06T01:01:29.434Z"
   },
   {
    "duration": 14,
    "start_time": "2021-12-06T01:01:29.445Z"
   },
   {
    "duration": 13,
    "start_time": "2021-12-06T01:01:29.462Z"
   },
   {
    "duration": 14,
    "start_time": "2021-12-06T01:01:29.478Z"
   },
   {
    "duration": 49,
    "start_time": "2021-12-06T01:01:29.494Z"
   },
   {
    "duration": 21,
    "start_time": "2021-12-06T01:01:29.546Z"
   },
   {
    "duration": 25,
    "start_time": "2021-12-06T01:01:29.570Z"
   },
   {
    "duration": 7,
    "start_time": "2021-12-06T01:01:29.597Z"
   },
   {
    "duration": 80,
    "start_time": "2021-12-06T01:01:29.605Z"
   },
   {
    "duration": 62,
    "start_time": "2021-12-06T01:01:29.686Z"
   },
   {
    "duration": 80,
    "start_time": "2021-12-06T01:01:29.750Z"
   },
   {
    "duration": 71,
    "start_time": "2021-12-06T01:01:29.832Z"
   },
   {
    "duration": 215,
    "start_time": "2021-12-06T01:01:29.904Z"
   },
   {
    "duration": 198,
    "start_time": "2021-12-06T01:01:30.121Z"
   },
   {
    "duration": 355,
    "start_time": "2021-12-06T01:01:30.320Z"
   },
   {
    "duration": 29,
    "start_time": "2021-12-06T01:01:30.677Z"
   },
   {
    "duration": 209,
    "start_time": "2021-12-06T01:01:30.708Z"
   },
   {
    "duration": 345,
    "start_time": "2021-12-06T01:01:30.919Z"
   },
   {
    "duration": 112,
    "start_time": "2021-12-06T01:01:31.266Z"
   },
   {
    "duration": 274,
    "start_time": "2021-12-06T01:01:31.379Z"
   },
   {
    "duration": 5,
    "start_time": "2021-12-06T01:01:31.656Z"
   },
   {
    "duration": 367,
    "start_time": "2021-12-06T01:01:31.663Z"
   },
   {
    "duration": 301,
    "start_time": "2021-12-06T01:01:32.032Z"
   },
   {
    "duration": 11,
    "start_time": "2021-12-06T01:01:32.335Z"
   },
   {
    "duration": 54,
    "start_time": "2021-12-06T01:01:32.348Z"
   },
   {
    "duration": 80,
    "start_time": "2021-12-06T01:01:32.403Z"
   },
   {
    "duration": 4,
    "start_time": "2021-12-06T01:01:32.484Z"
   },
   {
    "duration": 6,
    "start_time": "2021-12-06T01:01:32.490Z"
   },
   {
    "duration": 9,
    "start_time": "2021-12-06T01:01:32.497Z"
   },
   {
    "duration": 10,
    "start_time": "2021-12-06T01:01:32.507Z"
   },
   {
    "duration": 10,
    "start_time": "2021-12-06T01:01:32.543Z"
   },
   {
    "duration": 10,
    "start_time": "2021-12-06T01:01:32.554Z"
   },
   {
    "duration": 8,
    "start_time": "2021-12-06T01:01:32.565Z"
   },
   {
    "duration": 14,
    "start_time": "2021-12-06T01:01:32.575Z"
   },
   {
    "duration": 14,
    "start_time": "2021-12-06T01:01:32.590Z"
   },
   {
    "duration": 7,
    "start_time": "2021-12-06T01:02:00.444Z"
   },
   {
    "duration": 1164,
    "start_time": "2021-12-06T01:02:10.841Z"
   },
   {
    "duration": 26,
    "start_time": "2021-12-06T01:02:12.007Z"
   },
   {
    "duration": 5,
    "start_time": "2021-12-06T01:02:12.035Z"
   },
   {
    "duration": 12,
    "start_time": "2021-12-06T01:02:12.045Z"
   },
   {
    "duration": 12,
    "start_time": "2021-12-06T01:02:12.058Z"
   },
   {
    "duration": 15,
    "start_time": "2021-12-06T01:02:12.072Z"
   },
   {
    "duration": 51,
    "start_time": "2021-12-06T01:02:12.089Z"
   },
   {
    "duration": 24,
    "start_time": "2021-12-06T01:02:12.144Z"
   },
   {
    "duration": 24,
    "start_time": "2021-12-06T01:02:12.171Z"
   },
   {
    "duration": 6,
    "start_time": "2021-12-06T01:02:12.197Z"
   },
   {
    "duration": 82,
    "start_time": "2021-12-06T01:02:12.205Z"
   },
   {
    "duration": 71,
    "start_time": "2021-12-06T01:02:12.289Z"
   },
   {
    "duration": 84,
    "start_time": "2021-12-06T01:02:12.362Z"
   },
   {
    "duration": 70,
    "start_time": "2021-12-06T01:02:12.448Z"
   },
   {
    "duration": 226,
    "start_time": "2021-12-06T01:02:12.520Z"
   },
   {
    "duration": 204,
    "start_time": "2021-12-06T01:02:12.748Z"
   },
   {
    "duration": 309,
    "start_time": "2021-12-06T01:02:12.954Z"
   },
   {
    "duration": 28,
    "start_time": "2021-12-06T01:02:13.265Z"
   },
   {
    "duration": 221,
    "start_time": "2021-12-06T01:02:13.295Z"
   },
   {
    "duration": 345,
    "start_time": "2021-12-06T01:02:13.518Z"
   },
   {
    "duration": 114,
    "start_time": "2021-12-06T01:02:13.864Z"
   },
   {
    "duration": 251,
    "start_time": "2021-12-06T01:02:13.979Z"
   },
   {
    "duration": 13,
    "start_time": "2021-12-06T01:02:14.233Z"
   },
   {
    "duration": 332,
    "start_time": "2021-12-06T01:02:14.248Z"
   },
   {
    "duration": 264,
    "start_time": "2021-12-06T01:02:14.582Z"
   },
   {
    "duration": 5,
    "start_time": "2021-12-06T01:02:14.848Z"
   },
   {
    "duration": 52,
    "start_time": "2021-12-06T01:02:14.854Z"
   },
   {
    "duration": 78,
    "start_time": "2021-12-06T01:02:14.908Z"
   },
   {
    "duration": 4,
    "start_time": "2021-12-06T01:02:14.988Z"
   },
   {
    "duration": 11,
    "start_time": "2021-12-06T01:02:14.993Z"
   },
   {
    "duration": 28,
    "start_time": "2021-12-06T01:02:15.005Z"
   },
   {
    "duration": 10,
    "start_time": "2021-12-06T01:02:15.034Z"
   },
   {
    "duration": 18,
    "start_time": "2021-12-06T01:02:15.046Z"
   },
   {
    "duration": 15,
    "start_time": "2021-12-06T01:02:15.066Z"
   },
   {
    "duration": 15,
    "start_time": "2021-12-06T01:02:15.083Z"
   },
   {
    "duration": 11,
    "start_time": "2021-12-06T01:02:15.100Z"
   },
   {
    "duration": 13,
    "start_time": "2021-12-06T01:02:15.112Z"
   },
   {
    "duration": 1143,
    "start_time": "2021-12-06T01:03:21.764Z"
   },
   {
    "duration": 27,
    "start_time": "2021-12-06T01:03:22.909Z"
   },
   {
    "duration": 5,
    "start_time": "2021-12-06T01:03:22.938Z"
   },
   {
    "duration": 12,
    "start_time": "2021-12-06T01:03:22.945Z"
   },
   {
    "duration": 11,
    "start_time": "2021-12-06T01:03:22.958Z"
   },
   {
    "duration": 10,
    "start_time": "2021-12-06T01:03:22.971Z"
   },
   {
    "duration": 47,
    "start_time": "2021-12-06T01:03:22.983Z"
   },
   {
    "duration": 16,
    "start_time": "2021-12-06T01:03:23.032Z"
   },
   {
    "duration": 24,
    "start_time": "2021-12-06T01:03:23.050Z"
   },
   {
    "duration": 6,
    "start_time": "2021-12-06T01:03:23.076Z"
   },
   {
    "duration": 67,
    "start_time": "2021-12-06T01:03:23.084Z"
   },
   {
    "duration": 58,
    "start_time": "2021-12-06T01:03:23.153Z"
   },
   {
    "duration": 87,
    "start_time": "2021-12-06T01:03:23.213Z"
   },
   {
    "duration": 78,
    "start_time": "2021-12-06T01:03:23.301Z"
   },
   {
    "duration": 215,
    "start_time": "2021-12-06T01:03:23.381Z"
   },
   {
    "duration": 220,
    "start_time": "2021-12-06T01:03:23.597Z"
   },
   {
    "duration": 373,
    "start_time": "2021-12-06T01:03:23.818Z"
   },
   {
    "duration": 32,
    "start_time": "2021-12-06T01:03:24.192Z"
   },
   {
    "duration": 224,
    "start_time": "2021-12-06T01:03:24.225Z"
   },
   {
    "duration": 323,
    "start_time": "2021-12-06T01:03:24.450Z"
   },
   {
    "duration": 122,
    "start_time": "2021-12-06T01:03:24.774Z"
   },
   {
    "duration": 273,
    "start_time": "2021-12-06T01:03:24.898Z"
   },
   {
    "duration": 5,
    "start_time": "2021-12-06T01:03:25.174Z"
   },
   {
    "duration": 379,
    "start_time": "2021-12-06T01:03:25.181Z"
   },
   {
    "duration": 304,
    "start_time": "2021-12-06T01:03:25.562Z"
   },
   {
    "duration": 6,
    "start_time": "2021-12-06T01:03:25.867Z"
   },
   {
    "duration": 71,
    "start_time": "2021-12-06T01:03:25.874Z"
   },
   {
    "duration": 63,
    "start_time": "2021-12-06T01:03:25.947Z"
   },
   {
    "duration": 5,
    "start_time": "2021-12-06T01:03:26.012Z"
   },
   {
    "duration": 28,
    "start_time": "2021-12-06T01:03:26.019Z"
   },
   {
    "duration": 11,
    "start_time": "2021-12-06T01:03:26.049Z"
   },
   {
    "duration": 12,
    "start_time": "2021-12-06T01:03:26.062Z"
   },
   {
    "duration": 9,
    "start_time": "2021-12-06T01:03:26.077Z"
   },
   {
    "duration": 9,
    "start_time": "2021-12-06T01:03:26.088Z"
   },
   {
    "duration": 6,
    "start_time": "2021-12-06T01:03:26.099Z"
   },
   {
    "duration": 10,
    "start_time": "2021-12-06T01:03:26.145Z"
   },
   {
    "duration": 15,
    "start_time": "2021-12-06T01:03:26.157Z"
   },
   {
    "duration": 1479,
    "start_time": "2021-12-06T04:14:45.342Z"
   },
   {
    "duration": 31,
    "start_time": "2021-12-06T04:14:46.823Z"
   },
   {
    "duration": 6,
    "start_time": "2021-12-06T04:14:46.857Z"
   },
   {
    "duration": 18,
    "start_time": "2021-12-06T04:14:46.865Z"
   },
   {
    "duration": 15,
    "start_time": "2021-12-06T04:14:46.886Z"
   },
   {
    "duration": 57,
    "start_time": "2021-12-06T04:14:46.904Z"
   },
   {
    "duration": 52,
    "start_time": "2021-12-06T04:14:46.963Z"
   },
   {
    "duration": 25,
    "start_time": "2021-12-06T04:14:47.019Z"
   },
   {
    "duration": 34,
    "start_time": "2021-12-06T04:14:47.049Z"
   },
   {
    "duration": 10,
    "start_time": "2021-12-06T04:14:47.088Z"
   },
   {
    "duration": 119,
    "start_time": "2021-12-06T04:14:47.101Z"
   },
   {
    "duration": 108,
    "start_time": "2021-12-06T04:14:47.223Z"
   },
   {
    "duration": 140,
    "start_time": "2021-12-06T04:14:47.335Z"
   },
   {
    "duration": 134,
    "start_time": "2021-12-06T04:14:47.477Z"
   },
   {
    "duration": 365,
    "start_time": "2021-12-06T04:14:47.613Z"
   },
   {
    "duration": 339,
    "start_time": "2021-12-06T04:14:47.981Z"
   },
   {
    "duration": 472,
    "start_time": "2021-12-06T04:14:48.323Z"
   },
   {
    "duration": 70,
    "start_time": "2021-12-06T04:14:48.798Z"
   },
   {
    "duration": 345,
    "start_time": "2021-12-06T04:14:48.871Z"
   },
   {
    "duration": 431,
    "start_time": "2021-12-06T04:14:49.218Z"
   },
   {
    "duration": 200,
    "start_time": "2021-12-06T04:14:49.652Z"
   },
   {
    "duration": 383,
    "start_time": "2021-12-06T04:14:49.859Z"
   },
   {
    "duration": 14,
    "start_time": "2021-12-06T04:14:50.245Z"
   },
   {
    "duration": 490,
    "start_time": "2021-12-06T04:14:50.261Z"
   },
   {
    "duration": 514,
    "start_time": "2021-12-06T04:14:50.758Z"
   },
   {
    "duration": 9,
    "start_time": "2021-12-06T04:14:51.275Z"
   },
   {
    "duration": 152,
    "start_time": "2021-12-06T04:14:51.291Z"
   },
   {
    "duration": 164,
    "start_time": "2021-12-06T04:14:51.445Z"
   },
   {
    "duration": 7,
    "start_time": "2021-12-06T04:14:51.611Z"
   },
   {
    "duration": 9,
    "start_time": "2021-12-06T04:14:51.621Z"
   },
   {
    "duration": 35,
    "start_time": "2021-12-06T04:14:51.633Z"
   },
   {
    "duration": 17,
    "start_time": "2021-12-06T04:14:51.671Z"
   },
   {
    "duration": 15,
    "start_time": "2021-12-06T04:14:51.691Z"
   },
   {
    "duration": 54,
    "start_time": "2021-12-06T04:14:51.709Z"
   },
   {
    "duration": 13,
    "start_time": "2021-12-06T04:14:51.765Z"
   },
   {
    "duration": 17,
    "start_time": "2021-12-06T04:14:51.781Z"
   },
   {
    "duration": 23,
    "start_time": "2021-12-06T04:14:51.801Z"
   },
   {
    "duration": 356,
    "start_time": "2021-12-06T12:16:34.666Z"
   },
   {
    "duration": 1628,
    "start_time": "2021-12-06T12:16:43.648Z"
   },
   {
    "duration": 28,
    "start_time": "2021-12-06T12:16:45.278Z"
   },
   {
    "duration": 5,
    "start_time": "2021-12-06T12:16:45.308Z"
   },
   {
    "duration": 30,
    "start_time": "2021-12-06T12:16:45.315Z"
   },
   {
    "duration": 12,
    "start_time": "2021-12-06T12:16:45.347Z"
   },
   {
    "duration": 12,
    "start_time": "2021-12-06T12:16:45.361Z"
   },
   {
    "duration": 48,
    "start_time": "2021-12-06T12:16:45.375Z"
   },
   {
    "duration": 19,
    "start_time": "2021-12-06T12:16:45.427Z"
   },
   {
    "duration": 25,
    "start_time": "2021-12-06T12:16:45.449Z"
   },
   {
    "duration": 7,
    "start_time": "2021-12-06T12:16:45.476Z"
   },
   {
    "duration": 77,
    "start_time": "2021-12-06T12:16:45.485Z"
   },
   {
    "duration": 63,
    "start_time": "2021-12-06T12:16:45.564Z"
   },
   {
    "duration": 89,
    "start_time": "2021-12-06T12:16:45.629Z"
   },
   {
    "duration": 91,
    "start_time": "2021-12-06T12:16:45.720Z"
   },
   {
    "duration": 556,
    "start_time": "2021-12-06T12:16:45.813Z"
   },
   {
    "duration": 492,
    "start_time": "2021-12-06T12:16:45.879Z"
   },
   {
    "duration": 490,
    "start_time": "2021-12-06T12:16:45.882Z"
   },
   {
    "duration": 480,
    "start_time": "2021-12-06T12:16:45.893Z"
   },
   {
    "duration": 479,
    "start_time": "2021-12-06T12:16:45.895Z"
   },
   {
    "duration": 478,
    "start_time": "2021-12-06T12:16:45.897Z"
   },
   {
    "duration": 477,
    "start_time": "2021-12-06T12:16:45.899Z"
   },
   {
    "duration": 477,
    "start_time": "2021-12-06T12:16:45.900Z"
   },
   {
    "duration": 476,
    "start_time": "2021-12-06T12:16:45.902Z"
   },
   {
    "duration": 476,
    "start_time": "2021-12-06T12:16:45.903Z"
   },
   {
    "duration": 475,
    "start_time": "2021-12-06T12:16:45.905Z"
   },
   {
    "duration": 475,
    "start_time": "2021-12-06T12:16:45.906Z"
   },
   {
    "duration": 474,
    "start_time": "2021-12-06T12:16:45.908Z"
   },
   {
    "duration": 474,
    "start_time": "2021-12-06T12:16:45.909Z"
   },
   {
    "duration": 473,
    "start_time": "2021-12-06T12:16:45.911Z"
   },
   {
    "duration": 472,
    "start_time": "2021-12-06T12:16:45.913Z"
   },
   {
    "duration": 467,
    "start_time": "2021-12-06T12:16:45.919Z"
   },
   {
    "duration": 466,
    "start_time": "2021-12-06T12:16:45.921Z"
   },
   {
    "duration": 465,
    "start_time": "2021-12-06T12:16:45.923Z"
   },
   {
    "duration": 464,
    "start_time": "2021-12-06T12:16:45.925Z"
   },
   {
    "duration": 462,
    "start_time": "2021-12-06T12:16:45.927Z"
   },
   {
    "duration": 461,
    "start_time": "2021-12-06T12:16:45.929Z"
   },
   {
    "duration": 461,
    "start_time": "2021-12-06T12:16:45.930Z"
   },
   {
    "duration": 462,
    "start_time": "2021-12-06T12:17:02.651Z"
   },
   {
    "duration": 212,
    "start_time": "2021-12-06T12:17:23.944Z"
   },
   {
    "duration": 199,
    "start_time": "2021-12-06T12:17:54.450Z"
   },
   {
    "duration": 673,
    "start_time": "2021-12-06T12:19:30.484Z"
   },
   {
    "duration": 404,
    "start_time": "2021-12-06T12:19:46.030Z"
   },
   {
    "duration": 586,
    "start_time": "2021-12-06T12:21:25.030Z"
   },
   {
    "duration": 432,
    "start_time": "2021-12-06T12:21:36.403Z"
   },
   {
    "duration": 644,
    "start_time": "2021-12-06T12:21:53.758Z"
   },
   {
    "duration": 282,
    "start_time": "2021-12-06T12:22:09.078Z"
   },
   {
    "duration": 193,
    "start_time": "2021-12-06T12:22:19.978Z"
   },
   {
    "duration": 163,
    "start_time": "2021-12-06T12:22:47.293Z"
   },
   {
    "duration": 280,
    "start_time": "2021-12-06T12:22:58.266Z"
   },
   {
    "duration": 311,
    "start_time": "2021-12-06T12:23:15.548Z"
   },
   {
    "duration": 260,
    "start_time": "2021-12-06T12:39:23.953Z"
   },
   {
    "duration": 4,
    "start_time": "2021-12-06T12:39:41.562Z"
   },
   {
    "duration": 10,
    "start_time": "2021-12-06T12:39:52.155Z"
   },
   {
    "duration": 10,
    "start_time": "2021-12-06T12:40:14.689Z"
   },
   {
    "duration": 11,
    "start_time": "2021-12-06T12:40:55.364Z"
   },
   {
    "duration": 3,
    "start_time": "2021-12-06T12:40:58.807Z"
   },
   {
    "duration": 10,
    "start_time": "2021-12-06T12:41:08.630Z"
   },
   {
    "duration": 10,
    "start_time": "2021-12-06T12:41:58.124Z"
   },
   {
    "duration": 11,
    "start_time": "2021-12-06T12:42:34.900Z"
   },
   {
    "duration": 10,
    "start_time": "2021-12-06T12:43:49.710Z"
   },
   {
    "duration": 11,
    "start_time": "2021-12-06T12:43:54.757Z"
   },
   {
    "duration": 10,
    "start_time": "2021-12-06T12:44:08.291Z"
   },
   {
    "duration": 11,
    "start_time": "2021-12-06T12:44:14.103Z"
   },
   {
    "duration": 10,
    "start_time": "2021-12-06T12:44:17.557Z"
   },
   {
    "duration": 10,
    "start_time": "2021-12-06T12:44:29.246Z"
   },
   {
    "duration": 10,
    "start_time": "2021-12-06T12:44:40.075Z"
   },
   {
    "duration": 1143,
    "start_time": "2021-12-06T12:46:45.585Z"
   },
   {
    "duration": 253,
    "start_time": "2021-12-06T12:46:56.724Z"
   },
   {
    "duration": 117,
    "start_time": "2021-12-06T12:52:01.297Z"
   },
   {
    "duration": 116,
    "start_time": "2021-12-06T12:52:06.426Z"
   },
   {
    "duration": 43,
    "start_time": "2021-12-06T13:04:09.775Z"
   },
   {
    "duration": 259,
    "start_time": "2021-12-06T13:24:23.707Z"
   },
   {
    "duration": 1098,
    "start_time": "2021-12-06T13:24:31.103Z"
   },
   {
    "duration": 26,
    "start_time": "2021-12-06T13:24:32.203Z"
   },
   {
    "duration": 5,
    "start_time": "2021-12-06T13:24:32.231Z"
   },
   {
    "duration": 13,
    "start_time": "2021-12-06T13:24:32.238Z"
   },
   {
    "duration": 12,
    "start_time": "2021-12-06T13:24:32.253Z"
   },
   {
    "duration": 12,
    "start_time": "2021-12-06T13:24:32.267Z"
   },
   {
    "duration": 12,
    "start_time": "2021-12-06T13:24:32.281Z"
   },
   {
    "duration": 56,
    "start_time": "2021-12-06T13:24:32.296Z"
   },
   {
    "duration": 17,
    "start_time": "2021-12-06T13:24:32.354Z"
   },
   {
    "duration": 28,
    "start_time": "2021-12-06T13:24:32.373Z"
   },
   {
    "duration": 7,
    "start_time": "2021-12-06T13:24:32.403Z"
   },
   {
    "duration": 397,
    "start_time": "2021-12-06T13:24:32.412Z"
   },
   {
    "duration": 762,
    "start_time": "2021-12-06T13:24:32.051Z"
   },
   {
    "duration": 753,
    "start_time": "2021-12-06T13:24:32.061Z"
   },
   {
    "duration": 753,
    "start_time": "2021-12-06T13:24:32.063Z"
   },
   {
    "duration": 754,
    "start_time": "2021-12-06T13:24:32.064Z"
   },
   {
    "duration": 753,
    "start_time": "2021-12-06T13:24:32.066Z"
   },
   {
    "duration": 752,
    "start_time": "2021-12-06T13:24:32.068Z"
   },
   {
    "duration": 751,
    "start_time": "2021-12-06T13:24:32.070Z"
   },
   {
    "duration": 752,
    "start_time": "2021-12-06T13:24:32.071Z"
   },
   {
    "duration": 747,
    "start_time": "2021-12-06T13:24:32.077Z"
   },
   {
    "duration": 745,
    "start_time": "2021-12-06T13:24:32.080Z"
   },
   {
    "duration": 745,
    "start_time": "2021-12-06T13:24:32.081Z"
   },
   {
    "duration": 745,
    "start_time": "2021-12-06T13:24:32.083Z"
   },
   {
    "duration": 745,
    "start_time": "2021-12-06T13:24:32.084Z"
   },
   {
    "duration": 744,
    "start_time": "2021-12-06T13:24:32.086Z"
   },
   {
    "duration": 743,
    "start_time": "2021-12-06T13:24:32.088Z"
   },
   {
    "duration": 743,
    "start_time": "2021-12-06T13:24:32.090Z"
   },
   {
    "duration": 743,
    "start_time": "2021-12-06T13:24:32.091Z"
   },
   {
    "duration": 738,
    "start_time": "2021-12-06T13:24:32.097Z"
   },
   {
    "duration": 738,
    "start_time": "2021-12-06T13:24:32.099Z"
   },
   {
    "duration": 737,
    "start_time": "2021-12-06T13:24:32.101Z"
   },
   {
    "duration": 736,
    "start_time": "2021-12-06T13:24:32.103Z"
   },
   {
    "duration": 737,
    "start_time": "2021-12-06T13:24:32.104Z"
   },
   {
    "duration": 736,
    "start_time": "2021-12-06T13:24:32.106Z"
   },
   {
    "duration": 736,
    "start_time": "2021-12-06T13:24:32.107Z"
   },
   {
    "duration": 735,
    "start_time": "2021-12-06T13:24:32.109Z"
   },
   {
    "duration": 736,
    "start_time": "2021-12-06T13:24:32.110Z"
   },
   {
    "duration": 735,
    "start_time": "2021-12-06T13:24:32.112Z"
   },
   {
    "duration": 735,
    "start_time": "2021-12-06T13:24:32.113Z"
   },
   {
    "duration": 734,
    "start_time": "2021-12-06T13:24:32.115Z"
   },
   {
    "duration": 7,
    "start_time": "2021-12-06T13:25:36.184Z"
   },
   {
    "duration": 4,
    "start_time": "2021-12-06T13:30:15.523Z"
   },
   {
    "duration": 7,
    "start_time": "2021-12-06T13:30:25.650Z"
   },
   {
    "duration": 9,
    "start_time": "2021-12-06T13:31:37.777Z"
   },
   {
    "duration": 7,
    "start_time": "2021-12-06T13:32:23.166Z"
   },
   {
    "duration": 336,
    "start_time": "2021-12-06T13:32:38.351Z"
   },
   {
    "duration": 16,
    "start_time": "2021-12-06T13:34:20.252Z"
   },
   {
    "duration": 7,
    "start_time": "2021-12-06T13:34:54.219Z"
   },
   {
    "duration": 9,
    "start_time": "2021-12-06T13:35:24.083Z"
   },
   {
    "duration": 18,
    "start_time": "2021-12-06T13:35:56.456Z"
   },
   {
    "duration": 9,
    "start_time": "2021-12-06T13:36:13.676Z"
   },
   {
    "duration": 7,
    "start_time": "2021-12-06T13:54:05.857Z"
   },
   {
    "duration": 7,
    "start_time": "2021-12-06T13:54:14.305Z"
   },
   {
    "duration": 5,
    "start_time": "2021-12-06T13:54:29.795Z"
   },
   {
    "duration": 1333,
    "start_time": "2021-12-06T16:38:19.996Z"
   },
   {
    "duration": 33,
    "start_time": "2021-12-06T16:38:21.332Z"
   },
   {
    "duration": 5,
    "start_time": "2021-12-06T16:38:21.367Z"
   },
   {
    "duration": 11,
    "start_time": "2021-12-06T16:38:21.374Z"
   },
   {
    "duration": 14,
    "start_time": "2021-12-06T16:38:21.387Z"
   },
   {
    "duration": 12,
    "start_time": "2021-12-06T16:38:21.403Z"
   },
   {
    "duration": 34,
    "start_time": "2021-12-06T16:38:21.417Z"
   },
   {
    "duration": 49,
    "start_time": "2021-12-06T16:38:21.454Z"
   },
   {
    "duration": 19,
    "start_time": "2021-12-06T16:38:21.505Z"
   },
   {
    "duration": 25,
    "start_time": "2021-12-06T16:38:21.527Z"
   },
   {
    "duration": 9,
    "start_time": "2021-12-06T16:38:21.554Z"
   },
   {
    "duration": 9,
    "start_time": "2021-12-06T16:38:21.565Z"
   },
   {
    "duration": 12,
    "start_time": "2021-12-06T16:38:21.576Z"
   },
   {
    "duration": 9,
    "start_time": "2021-12-06T16:38:21.590Z"
   },
   {
    "duration": 46,
    "start_time": "2021-12-06T16:38:21.601Z"
   },
   {
    "duration": 62,
    "start_time": "2021-12-06T16:38:21.649Z"
   },
   {
    "duration": 78,
    "start_time": "2021-12-06T16:38:21.713Z"
   },
   {
    "duration": 82,
    "start_time": "2021-12-06T16:38:21.793Z"
   },
   {
    "duration": 77,
    "start_time": "2021-12-06T16:38:21.877Z"
   },
   {
    "duration": 343,
    "start_time": "2021-12-06T16:38:21.956Z"
   },
   {
    "duration": 226,
    "start_time": "2021-12-06T16:38:22.300Z"
   },
   {
    "duration": 368,
    "start_time": "2021-12-06T16:38:22.527Z"
   },
   {
    "duration": 32,
    "start_time": "2021-12-06T16:38:22.899Z"
   },
   {
    "duration": 214,
    "start_time": "2021-12-06T16:38:22.945Z"
   },
   {
    "duration": 298,
    "start_time": "2021-12-06T16:38:23.161Z"
   },
   {
    "duration": 125,
    "start_time": "2021-12-06T16:38:23.461Z"
   },
   {
    "duration": 262,
    "start_time": "2021-12-06T16:38:23.588Z"
   },
   {
    "duration": 6,
    "start_time": "2021-12-06T16:38:23.851Z"
   },
   {
    "duration": 375,
    "start_time": "2021-12-06T16:38:23.859Z"
   },
   {
    "duration": 290,
    "start_time": "2021-12-06T16:38:24.244Z"
   },
   {
    "duration": 11,
    "start_time": "2021-12-06T16:38:24.536Z"
   },
   {
    "duration": 76,
    "start_time": "2021-12-06T16:38:24.549Z"
   },
   {
    "duration": 63,
    "start_time": "2021-12-06T16:38:24.627Z"
   },
   {
    "duration": 4,
    "start_time": "2021-12-06T16:38:24.692Z"
   },
   {
    "duration": 7,
    "start_time": "2021-12-06T16:38:24.697Z"
   },
   {
    "duration": 8,
    "start_time": "2021-12-06T16:38:24.706Z"
   },
   {
    "duration": 38,
    "start_time": "2021-12-06T16:38:24.716Z"
   },
   {
    "duration": 11,
    "start_time": "2021-12-06T16:38:24.756Z"
   },
   {
    "duration": 6,
    "start_time": "2021-12-06T16:38:24.769Z"
   },
   {
    "duration": 7,
    "start_time": "2021-12-06T16:38:24.777Z"
   },
   {
    "duration": 8,
    "start_time": "2021-12-06T16:38:24.786Z"
   },
   {
    "duration": 58,
    "start_time": "2021-12-06T16:38:24.796Z"
   },
   {
    "duration": 382,
    "start_time": "2021-12-06T16:38:24.857Z"
   },
   {
    "duration": 695,
    "start_time": "2021-12-06T16:38:24.547Z"
   },
   {
    "duration": 12,
    "start_time": "2021-12-06T17:09:31.081Z"
   },
   {
    "duration": 11,
    "start_time": "2021-12-06T17:11:52.126Z"
   },
   {
    "duration": 9,
    "start_time": "2021-12-06T17:12:01.957Z"
   },
   {
    "duration": 10,
    "start_time": "2021-12-06T17:12:12.164Z"
   },
   {
    "duration": 9,
    "start_time": "2021-12-06T17:19:45.714Z"
   },
   {
    "duration": 123,
    "start_time": "2021-12-06T17:20:06.887Z"
   },
   {
    "duration": 254,
    "start_time": "2021-12-06T17:20:11.956Z"
   },
   {
    "duration": 15,
    "start_time": "2021-12-06T17:22:10.229Z"
   },
   {
    "duration": 13,
    "start_time": "2021-12-06T17:22:26.697Z"
   },
   {
    "duration": 12,
    "start_time": "2021-12-06T17:22:53.649Z"
   },
   {
    "duration": 17,
    "start_time": "2021-12-06T17:23:01.665Z"
   },
   {
    "duration": 20,
    "start_time": "2021-12-06T17:24:50.884Z"
   },
   {
    "duration": 17,
    "start_time": "2021-12-06T17:25:05.900Z"
   },
   {
    "duration": 22,
    "start_time": "2021-12-06T17:25:13.276Z"
   },
   {
    "duration": 307,
    "start_time": "2021-12-06T17:42:17.210Z"
   },
   {
    "duration": 304,
    "start_time": "2021-12-06T17:44:18.802Z"
   },
   {
    "duration": 309,
    "start_time": "2021-12-06T17:44:50.659Z"
   },
   {
    "duration": 441,
    "start_time": "2021-12-06T17:44:58.024Z"
   },
   {
    "duration": 350,
    "start_time": "2021-12-06T17:45:14.621Z"
   },
   {
    "duration": 100,
    "start_time": "2021-12-06T17:45:20.341Z"
   },
   {
    "duration": 327,
    "start_time": "2021-12-06T17:45:27.179Z"
   },
   {
    "duration": 330,
    "start_time": "2021-12-06T17:46:19.475Z"
   },
   {
    "duration": 337,
    "start_time": "2021-12-06T17:46:31.216Z"
   },
   {
    "duration": 319,
    "start_time": "2021-12-06T17:46:46.951Z"
   },
   {
    "duration": 474,
    "start_time": "2021-12-06T17:47:04.293Z"
   },
   {
    "duration": 336,
    "start_time": "2021-12-06T17:47:10.052Z"
   },
   {
    "duration": 323,
    "start_time": "2021-12-06T17:48:09.840Z"
   },
   {
    "duration": 363,
    "start_time": "2021-12-06T17:48:25.342Z"
   },
   {
    "duration": 85,
    "start_time": "2021-12-06T17:50:54.200Z"
   },
   {
    "duration": 307,
    "start_time": "2021-12-06T17:50:58.144Z"
   },
   {
    "duration": 329,
    "start_time": "2021-12-06T17:52:01.618Z"
   },
   {
    "duration": 392,
    "start_time": "2021-12-06T17:52:12.859Z"
   },
   {
    "duration": 409,
    "start_time": "2021-12-06T17:52:36.226Z"
   },
   {
    "duration": 392,
    "start_time": "2021-12-06T17:52:57.577Z"
   },
   {
    "duration": 428,
    "start_time": "2021-12-06T17:53:05.240Z"
   },
   {
    "duration": 20,
    "start_time": "2021-12-06T17:58:52.397Z"
   },
   {
    "duration": 19,
    "start_time": "2021-12-06T17:59:02.619Z"
   },
   {
    "duration": 22,
    "start_time": "2021-12-06T17:59:09.729Z"
   },
   {
    "duration": 273,
    "start_time": "2021-12-06T17:59:47.296Z"
   },
   {
    "duration": 24,
    "start_time": "2021-12-06T17:59:51.347Z"
   },
   {
    "duration": 23,
    "start_time": "2021-12-06T18:00:35.084Z"
   },
   {
    "duration": 22,
    "start_time": "2021-12-06T18:00:44.944Z"
   },
   {
    "duration": 21,
    "start_time": "2021-12-06T18:00:55.234Z"
   },
   {
    "duration": 23,
    "start_time": "2021-12-06T18:01:11.636Z"
   },
   {
    "duration": 1438,
    "start_time": "2021-12-06T18:06:21.591Z"
   },
   {
    "duration": 25,
    "start_time": "2021-12-06T18:06:23.031Z"
   },
   {
    "duration": 21,
    "start_time": "2021-12-06T18:06:23.058Z"
   },
   {
    "duration": 36,
    "start_time": "2021-12-06T18:06:23.082Z"
   },
   {
    "duration": 19,
    "start_time": "2021-12-06T18:06:23.120Z"
   },
   {
    "duration": 26,
    "start_time": "2021-12-06T18:06:23.141Z"
   },
   {
    "duration": 40,
    "start_time": "2021-12-06T18:06:23.169Z"
   },
   {
    "duration": 65,
    "start_time": "2021-12-06T18:06:23.212Z"
   },
   {
    "duration": 15,
    "start_time": "2021-12-06T18:06:23.279Z"
   },
   {
    "duration": 26,
    "start_time": "2021-12-06T18:06:23.296Z"
   },
   {
    "duration": 8,
    "start_time": "2021-12-06T18:06:23.323Z"
   },
   {
    "duration": 7,
    "start_time": "2021-12-06T18:06:23.333Z"
   },
   {
    "duration": 915,
    "start_time": "2021-12-06T18:06:23.342Z"
   },
   {
    "duration": 677,
    "start_time": "2021-12-06T18:06:23.583Z"
   },
   {
    "duration": 665,
    "start_time": "2021-12-06T18:06:23.596Z"
   },
   {
    "duration": 664,
    "start_time": "2021-12-06T18:06:23.598Z"
   },
   {
    "duration": 664,
    "start_time": "2021-12-06T18:06:23.599Z"
   },
   {
    "duration": 663,
    "start_time": "2021-12-06T18:06:23.601Z"
   },
   {
    "duration": 662,
    "start_time": "2021-12-06T18:06:23.603Z"
   },
   {
    "duration": 660,
    "start_time": "2021-12-06T18:06:23.605Z"
   },
   {
    "duration": 654,
    "start_time": "2021-12-06T18:06:23.612Z"
   },
   {
    "duration": 653,
    "start_time": "2021-12-06T18:06:23.614Z"
   },
   {
    "duration": 652,
    "start_time": "2021-12-06T18:06:23.616Z"
   },
   {
    "duration": 652,
    "start_time": "2021-12-06T18:06:23.617Z"
   },
   {
    "duration": 651,
    "start_time": "2021-12-06T18:06:23.619Z"
   },
   {
    "duration": 651,
    "start_time": "2021-12-06T18:06:23.620Z"
   },
   {
    "duration": 645,
    "start_time": "2021-12-06T18:06:23.627Z"
   },
   {
    "duration": 644,
    "start_time": "2021-12-06T18:06:23.629Z"
   },
   {
    "duration": 643,
    "start_time": "2021-12-06T18:06:23.631Z"
   },
   {
    "duration": 643,
    "start_time": "2021-12-06T18:06:23.632Z"
   },
   {
    "duration": 642,
    "start_time": "2021-12-06T18:06:23.634Z"
   },
   {
    "duration": 642,
    "start_time": "2021-12-06T18:06:23.635Z"
   },
   {
    "duration": 642,
    "start_time": "2021-12-06T18:06:23.636Z"
   },
   {
    "duration": 640,
    "start_time": "2021-12-06T18:06:23.639Z"
   },
   {
    "duration": 632,
    "start_time": "2021-12-06T18:06:23.648Z"
   },
   {
    "duration": 631,
    "start_time": "2021-12-06T18:06:23.650Z"
   },
   {
    "duration": 630,
    "start_time": "2021-12-06T18:06:23.652Z"
   },
   {
    "duration": 629,
    "start_time": "2021-12-06T18:06:23.654Z"
   },
   {
    "duration": 623,
    "start_time": "2021-12-06T18:06:23.661Z"
   },
   {
    "duration": 622,
    "start_time": "2021-12-06T18:06:23.663Z"
   },
   {
    "duration": 263,
    "start_time": "2021-12-06T18:06:51.642Z"
   },
   {
    "duration": 25,
    "start_time": "2021-12-06T18:06:56.103Z"
   },
   {
    "duration": 13,
    "start_time": "2021-12-06T18:24:02.977Z"
   },
   {
    "duration": 4,
    "start_time": "2021-12-06T18:32:10.566Z"
   },
   {
    "duration": 4,
    "start_time": "2021-12-06T18:32:20.235Z"
   },
   {
    "duration": 14,
    "start_time": "2021-12-06T18:33:09.457Z"
   },
   {
    "duration": 13,
    "start_time": "2021-12-06T18:33:27.923Z"
   },
   {
    "duration": 267,
    "start_time": "2021-12-06T18:34:25.999Z"
   },
   {
    "duration": 17,
    "start_time": "2021-12-06T18:34:29.888Z"
   },
   {
    "duration": 5,
    "start_time": "2021-12-06T18:34:30.409Z"
   },
   {
    "duration": 23,
    "start_time": "2021-12-06T18:34:38.963Z"
   },
   {
    "duration": 21,
    "start_time": "2021-12-06T18:35:12.792Z"
   },
   {
    "duration": 1195,
    "start_time": "2021-12-06T18:35:55.749Z"
   },
   {
    "duration": 26,
    "start_time": "2021-12-06T18:35:56.946Z"
   },
   {
    "duration": 5,
    "start_time": "2021-12-06T18:35:56.974Z"
   },
   {
    "duration": 14,
    "start_time": "2021-12-06T18:35:56.981Z"
   },
   {
    "duration": 15,
    "start_time": "2021-12-06T18:35:56.997Z"
   },
   {
    "duration": 11,
    "start_time": "2021-12-06T18:35:57.014Z"
   },
   {
    "duration": 27,
    "start_time": "2021-12-06T18:35:57.027Z"
   },
   {
    "duration": 52,
    "start_time": "2021-12-06T18:35:57.056Z"
   },
   {
    "duration": 16,
    "start_time": "2021-12-06T18:35:57.110Z"
   },
   {
    "duration": 34,
    "start_time": "2021-12-06T18:35:57.129Z"
   },
   {
    "duration": 17,
    "start_time": "2021-12-06T18:35:57.165Z"
   },
   {
    "duration": 8,
    "start_time": "2021-12-06T18:35:57.184Z"
   },
   {
    "duration": 24,
    "start_time": "2021-12-06T18:35:57.194Z"
   },
   {
    "duration": 4,
    "start_time": "2021-12-06T18:35:57.220Z"
   },
   {
    "duration": 78,
    "start_time": "2021-12-06T18:35:57.225Z"
   },
   {
    "duration": 71,
    "start_time": "2021-12-06T18:35:57.305Z"
   },
   {
    "duration": 90,
    "start_time": "2021-12-06T18:35:57.378Z"
   },
   {
    "duration": 81,
    "start_time": "2021-12-06T18:35:57.470Z"
   },
   {
    "duration": 350,
    "start_time": "2021-12-06T18:35:57.553Z"
   },
   {
    "duration": 320,
    "start_time": "2021-12-06T18:35:57.904Z"
   },
   {
    "duration": 431,
    "start_time": "2021-12-06T18:35:58.226Z"
   },
   {
    "duration": 31,
    "start_time": "2021-12-06T18:35:58.660Z"
   },
   {
    "duration": 650,
    "start_time": "2021-12-06T18:35:58.694Z"
   },
   {
    "duration": 513,
    "start_time": "2021-12-06T18:35:59.346Z"
   },
   {
    "duration": 200,
    "start_time": "2021-12-06T18:35:59.861Z"
   },
   {
    "duration": 468,
    "start_time": "2021-12-06T18:36:00.063Z"
   },
   {
    "duration": 14,
    "start_time": "2021-12-06T18:36:00.533Z"
   },
   {
    "duration": 723,
    "start_time": "2021-12-06T18:36:00.549Z"
   },
   {
    "duration": 427,
    "start_time": "2021-12-06T18:36:01.274Z"
   },
   {
    "duration": 5,
    "start_time": "2021-12-06T18:36:01.703Z"
   },
   {
    "duration": 71,
    "start_time": "2021-12-06T18:36:01.710Z"
   },
   {
    "duration": 74,
    "start_time": "2021-12-06T18:36:01.783Z"
   },
   {
    "duration": 4,
    "start_time": "2021-12-06T18:36:01.859Z"
   },
   {
    "duration": 11,
    "start_time": "2021-12-06T18:36:01.865Z"
   },
   {
    "duration": 36,
    "start_time": "2021-12-06T18:36:01.878Z"
   },
   {
    "duration": 29,
    "start_time": "2021-12-06T18:36:01.916Z"
   },
   {
    "duration": 18,
    "start_time": "2021-12-06T18:36:01.947Z"
   },
   {
    "duration": 7,
    "start_time": "2021-12-06T18:36:01.967Z"
   },
   {
    "duration": 7,
    "start_time": "2021-12-06T18:36:01.976Z"
   },
   {
    "duration": 10,
    "start_time": "2021-12-06T18:36:01.985Z"
   },
   {
    "duration": 25,
    "start_time": "2021-12-06T18:36:01.997Z"
   },
   {
    "duration": 325,
    "start_time": "2021-12-06T18:37:02.373Z"
   },
   {
    "duration": 333,
    "start_time": "2021-12-06T18:37:28.286Z"
   },
   {
    "duration": 411,
    "start_time": "2021-12-06T18:38:05.670Z"
   },
   {
    "duration": 7,
    "start_time": "2021-12-06T18:41:49.012Z"
   },
   {
    "duration": 11,
    "start_time": "2021-12-06T18:42:43.503Z"
   },
   {
    "duration": 8,
    "start_time": "2021-12-06T18:43:21.004Z"
   },
   {
    "duration": 7,
    "start_time": "2021-12-06T18:43:31.736Z"
   },
   {
    "duration": 8,
    "start_time": "2021-12-06T18:43:35.744Z"
   },
   {
    "duration": 17,
    "start_time": "2021-12-06T18:43:49.977Z"
   },
   {
    "duration": 13,
    "start_time": "2021-12-06T18:47:58.435Z"
   },
   {
    "duration": 1195,
    "start_time": "2021-12-06T18:48:10.918Z"
   },
   {
    "duration": 25,
    "start_time": "2021-12-06T18:48:12.115Z"
   },
   {
    "duration": 43,
    "start_time": "2021-12-06T18:48:12.142Z"
   },
   {
    "duration": 21,
    "start_time": "2021-12-06T18:48:12.187Z"
   },
   {
    "duration": 35,
    "start_time": "2021-12-06T18:48:12.210Z"
   },
   {
    "duration": 27,
    "start_time": "2021-12-06T18:48:12.247Z"
   },
   {
    "duration": 32,
    "start_time": "2021-12-06T18:48:12.275Z"
   },
   {
    "duration": 76,
    "start_time": "2021-12-06T18:48:12.310Z"
   },
   {
    "duration": 16,
    "start_time": "2021-12-06T18:48:12.388Z"
   },
   {
    "duration": 23,
    "start_time": "2021-12-06T18:48:12.406Z"
   },
   {
    "duration": 8,
    "start_time": "2021-12-06T18:48:12.431Z"
   },
   {
    "duration": 7,
    "start_time": "2021-12-06T18:48:12.440Z"
   },
   {
    "duration": 23,
    "start_time": "2021-12-06T18:48:12.449Z"
   },
   {
    "duration": 4,
    "start_time": "2021-12-06T18:48:12.474Z"
   },
   {
    "duration": 79,
    "start_time": "2021-12-06T18:48:12.480Z"
   },
   {
    "duration": 58,
    "start_time": "2021-12-06T18:48:12.561Z"
   },
   {
    "duration": 99,
    "start_time": "2021-12-06T18:48:12.621Z"
   },
   {
    "duration": 104,
    "start_time": "2021-12-06T18:48:12.722Z"
   },
   {
    "duration": 331,
    "start_time": "2021-12-06T18:48:12.828Z"
   },
   {
    "duration": 575,
    "start_time": "2021-12-06T18:48:13.161Z"
   },
   {
    "duration": 451,
    "start_time": "2021-12-06T18:48:13.737Z"
   },
   {
    "duration": 32,
    "start_time": "2021-12-06T18:48:14.190Z"
   },
   {
    "duration": 332,
    "start_time": "2021-12-06T18:48:14.225Z"
   },
   {
    "duration": 407,
    "start_time": "2021-12-06T18:48:14.559Z"
   },
   {
    "duration": 114,
    "start_time": "2021-12-06T18:48:14.968Z"
   },
   {
    "duration": 391,
    "start_time": "2021-12-06T18:48:15.084Z"
   },
   {
    "duration": 6,
    "start_time": "2021-12-06T18:48:15.476Z"
   },
   {
    "duration": 475,
    "start_time": "2021-12-06T18:48:15.484Z"
   },
   {
    "duration": 405,
    "start_time": "2021-12-06T18:48:15.961Z"
   },
   {
    "duration": 5,
    "start_time": "2021-12-06T18:48:16.368Z"
   },
   {
    "duration": 75,
    "start_time": "2021-12-06T18:48:16.374Z"
   },
   {
    "duration": 60,
    "start_time": "2021-12-06T18:48:16.451Z"
   },
   {
    "duration": 4,
    "start_time": "2021-12-06T18:48:16.513Z"
   },
   {
    "duration": 8,
    "start_time": "2021-12-06T18:48:16.518Z"
   },
   {
    "duration": 17,
    "start_time": "2021-12-06T18:48:16.527Z"
   },
   {
    "duration": 9,
    "start_time": "2021-12-06T18:48:16.546Z"
   },
   {
    "duration": 9,
    "start_time": "2021-12-06T18:48:16.557Z"
   },
   {
    "duration": 6,
    "start_time": "2021-12-06T18:48:16.568Z"
   },
   {
    "duration": 11,
    "start_time": "2021-12-06T18:48:16.576Z"
   },
   {
    "duration": 12,
    "start_time": "2021-12-06T18:48:16.588Z"
   },
   {
    "duration": 18,
    "start_time": "2021-12-06T18:48:16.602Z"
   },
   {
    "duration": 435,
    "start_time": "2021-12-06T18:50:44.927Z"
   },
   {
    "duration": 167,
    "start_time": "2021-12-06T19:33:30.016Z"
   },
   {
    "duration": 1195,
    "start_time": "2021-12-06T19:40:21.311Z"
   },
   {
    "duration": 26,
    "start_time": "2021-12-06T19:40:22.507Z"
   },
   {
    "duration": 12,
    "start_time": "2021-12-06T19:40:22.535Z"
   },
   {
    "duration": 26,
    "start_time": "2021-12-06T19:40:22.549Z"
   },
   {
    "duration": 34,
    "start_time": "2021-12-06T19:40:22.577Z"
   },
   {
    "duration": 12,
    "start_time": "2021-12-06T19:40:22.613Z"
   },
   {
    "duration": 43,
    "start_time": "2021-12-06T19:40:22.626Z"
   },
   {
    "duration": 51,
    "start_time": "2021-12-06T19:40:22.672Z"
   },
   {
    "duration": 38,
    "start_time": "2021-12-06T19:40:22.725Z"
   },
   {
    "duration": 62,
    "start_time": "2021-12-06T19:40:22.765Z"
   },
   {
    "duration": 16,
    "start_time": "2021-12-06T19:40:22.829Z"
   },
   {
    "duration": 26,
    "start_time": "2021-12-06T19:40:22.847Z"
   },
   {
    "duration": 46,
    "start_time": "2021-12-06T19:40:22.875Z"
   },
   {
    "duration": 5,
    "start_time": "2021-12-06T19:40:22.923Z"
   },
   {
    "duration": 86,
    "start_time": "2021-12-06T19:40:22.929Z"
   },
   {
    "duration": 64,
    "start_time": "2021-12-06T19:40:23.017Z"
   },
   {
    "duration": 88,
    "start_time": "2021-12-06T19:40:23.083Z"
   },
   {
    "duration": 71,
    "start_time": "2021-12-06T19:40:23.173Z"
   },
   {
    "duration": 362,
    "start_time": "2021-12-06T19:40:23.246Z"
   },
   {
    "duration": 324,
    "start_time": "2021-12-06T19:40:23.609Z"
   },
   {
    "duration": 460,
    "start_time": "2021-12-06T19:40:23.935Z"
   },
   {
    "duration": 76,
    "start_time": "2021-12-06T19:40:24.396Z"
   },
   {
    "duration": 594,
    "start_time": "2021-12-06T19:40:24.475Z"
   },
   {
    "duration": 410,
    "start_time": "2021-12-06T19:40:25.071Z"
   },
   {
    "duration": 163,
    "start_time": "2021-12-06T19:40:25.483Z"
   },
   {
    "duration": 406,
    "start_time": "2021-12-06T19:40:25.648Z"
   },
   {
    "duration": 6,
    "start_time": "2021-12-06T19:40:26.057Z"
   },
   {
    "duration": 491,
    "start_time": "2021-12-06T19:40:26.065Z"
   },
   {
    "duration": 431,
    "start_time": "2021-12-06T19:40:26.559Z"
   },
   {
    "duration": 7,
    "start_time": "2021-12-06T19:40:26.992Z"
   },
   {
    "duration": 64,
    "start_time": "2021-12-06T19:40:27.001Z"
   },
   {
    "duration": 86,
    "start_time": "2021-12-06T19:40:27.067Z"
   },
   {
    "duration": 17,
    "start_time": "2021-12-06T19:40:27.155Z"
   },
   {
    "duration": 16,
    "start_time": "2021-12-06T19:40:27.174Z"
   },
   {
    "duration": 17,
    "start_time": "2021-12-06T19:40:27.192Z"
   },
   {
    "duration": 17,
    "start_time": "2021-12-06T19:40:27.210Z"
   },
   {
    "duration": 23,
    "start_time": "2021-12-06T19:40:27.229Z"
   },
   {
    "duration": 30,
    "start_time": "2021-12-06T19:40:27.254Z"
   },
   {
    "duration": 23,
    "start_time": "2021-12-06T19:40:27.286Z"
   },
   {
    "duration": 28,
    "start_time": "2021-12-06T19:40:27.311Z"
   },
   {
    "duration": 16,
    "start_time": "2021-12-06T19:40:27.341Z"
   },
   {
    "duration": 364,
    "start_time": "2021-12-06T19:41:45.111Z"
   },
   {
    "duration": 1223,
    "start_time": "2021-12-06T19:42:21.669Z"
   },
   {
    "duration": 27,
    "start_time": "2021-12-06T19:42:22.894Z"
   },
   {
    "duration": 4,
    "start_time": "2021-12-06T19:42:22.923Z"
   },
   {
    "duration": 388,
    "start_time": "2021-12-06T19:42:22.929Z"
   },
   {
    "duration": 651,
    "start_time": "2021-12-06T19:42:22.669Z"
   },
   {
    "duration": 645,
    "start_time": "2021-12-06T19:42:22.676Z"
   },
   {
    "duration": 644,
    "start_time": "2021-12-06T19:42:22.678Z"
   },
   {
    "duration": 632,
    "start_time": "2021-12-06T19:42:22.691Z"
   },
   {
    "duration": 631,
    "start_time": "2021-12-06T19:42:22.693Z"
   },
   {
    "duration": 630,
    "start_time": "2021-12-06T19:42:22.695Z"
   },
   {
    "duration": 629,
    "start_time": "2021-12-06T19:42:22.697Z"
   },
   {
    "duration": 628,
    "start_time": "2021-12-06T19:42:22.699Z"
   },
   {
    "duration": 627,
    "start_time": "2021-12-06T19:42:22.701Z"
   },
   {
    "duration": 626,
    "start_time": "2021-12-06T19:42:22.703Z"
   },
   {
    "duration": 620,
    "start_time": "2021-12-06T19:42:22.710Z"
   },
   {
    "duration": 620,
    "start_time": "2021-12-06T19:42:22.712Z"
   },
   {
    "duration": 618,
    "start_time": "2021-12-06T19:42:22.715Z"
   },
   {
    "duration": 617,
    "start_time": "2021-12-06T19:42:22.717Z"
   },
   {
    "duration": 617,
    "start_time": "2021-12-06T19:42:22.718Z"
   },
   {
    "duration": 615,
    "start_time": "2021-12-06T19:42:22.720Z"
   },
   {
    "duration": 615,
    "start_time": "2021-12-06T19:42:22.722Z"
   },
   {
    "duration": 613,
    "start_time": "2021-12-06T19:42:22.725Z"
   },
   {
    "duration": 612,
    "start_time": "2021-12-06T19:42:22.727Z"
   },
   {
    "duration": 610,
    "start_time": "2021-12-06T19:42:22.729Z"
   },
   {
    "duration": 604,
    "start_time": "2021-12-06T19:42:22.736Z"
   },
   {
    "duration": 603,
    "start_time": "2021-12-06T19:42:22.738Z"
   },
   {
    "duration": 602,
    "start_time": "2021-12-06T19:42:22.740Z"
   },
   {
    "duration": 600,
    "start_time": "2021-12-06T19:42:22.743Z"
   },
   {
    "duration": 599,
    "start_time": "2021-12-06T19:42:22.745Z"
   },
   {
    "duration": 598,
    "start_time": "2021-12-06T19:42:22.747Z"
   },
   {
    "duration": 597,
    "start_time": "2021-12-06T19:42:22.749Z"
   },
   {
    "duration": 596,
    "start_time": "2021-12-06T19:42:22.751Z"
   },
   {
    "duration": 603,
    "start_time": "2021-12-06T19:42:22.753Z"
   },
   {
    "duration": 603,
    "start_time": "2021-12-06T19:42:22.755Z"
   },
   {
    "duration": 604,
    "start_time": "2021-12-06T19:42:22.756Z"
   },
   {
    "duration": 602,
    "start_time": "2021-12-06T19:42:22.759Z"
   },
   {
    "duration": 602,
    "start_time": "2021-12-06T19:42:22.760Z"
   },
   {
    "duration": 602,
    "start_time": "2021-12-06T19:42:22.762Z"
   },
   {
    "duration": 601,
    "start_time": "2021-12-06T19:42:22.764Z"
   },
   {
    "duration": 601,
    "start_time": "2021-12-06T19:42:22.766Z"
   },
   {
    "duration": 600,
    "start_time": "2021-12-06T19:42:22.768Z"
   },
   {
    "duration": 3,
    "start_time": "2021-12-06T19:43:15.320Z"
   },
   {
    "duration": 1166,
    "start_time": "2021-12-06T19:43:21.460Z"
   },
   {
    "duration": 29,
    "start_time": "2021-12-06T19:43:22.628Z"
   },
   {
    "duration": 4,
    "start_time": "2021-12-06T19:43:22.662Z"
   },
   {
    "duration": 4,
    "start_time": "2021-12-06T19:43:22.668Z"
   },
   {
    "duration": 13,
    "start_time": "2021-12-06T19:43:22.673Z"
   },
   {
    "duration": 10,
    "start_time": "2021-12-06T19:43:22.688Z"
   },
   {
    "duration": 45,
    "start_time": "2021-12-06T19:43:22.701Z"
   },
   {
    "duration": 46,
    "start_time": "2021-12-06T19:43:22.749Z"
   },
   {
    "duration": 16,
    "start_time": "2021-12-06T19:43:22.796Z"
   },
   {
    "duration": 25,
    "start_time": "2021-12-06T19:43:22.813Z"
   },
   {
    "duration": 11,
    "start_time": "2021-12-06T19:43:22.840Z"
   },
   {
    "duration": 8,
    "start_time": "2021-12-06T19:43:22.855Z"
   },
   {
    "duration": 21,
    "start_time": "2021-12-06T19:43:22.865Z"
   },
   {
    "duration": 4,
    "start_time": "2021-12-06T19:43:22.888Z"
   },
   {
    "duration": 92,
    "start_time": "2021-12-06T19:43:22.894Z"
   },
   {
    "duration": 66,
    "start_time": "2021-12-06T19:43:22.988Z"
   },
   {
    "duration": 68,
    "start_time": "2021-12-06T19:43:23.056Z"
   },
   {
    "duration": 85,
    "start_time": "2021-12-06T19:43:23.125Z"
   },
   {
    "duration": 348,
    "start_time": "2021-12-06T19:43:23.211Z"
   },
   {
    "duration": 330,
    "start_time": "2021-12-06T19:43:23.560Z"
   },
   {
    "duration": 400,
    "start_time": "2021-12-06T19:43:23.892Z"
   },
   {
    "duration": 31,
    "start_time": "2021-12-06T19:43:24.296Z"
   },
   {
    "duration": 374,
    "start_time": "2021-12-06T19:43:24.329Z"
   },
   {
    "duration": 760,
    "start_time": "2021-12-06T19:43:24.705Z"
   },
   {
    "duration": 124,
    "start_time": "2021-12-06T19:43:25.466Z"
   },
   {
    "duration": 400,
    "start_time": "2021-12-06T19:43:25.591Z"
   },
   {
    "duration": 6,
    "start_time": "2021-12-06T19:43:25.993Z"
   },
   {
    "duration": 483,
    "start_time": "2021-12-06T19:43:26.000Z"
   },
   {
    "duration": 392,
    "start_time": "2021-12-06T19:43:26.485Z"
   },
   {
    "duration": 6,
    "start_time": "2021-12-06T19:43:26.880Z"
   },
   {
    "duration": 69,
    "start_time": "2021-12-06T19:43:26.888Z"
   },
   {
    "duration": 59,
    "start_time": "2021-12-06T19:43:26.959Z"
   },
   {
    "duration": 4,
    "start_time": "2021-12-06T19:43:27.020Z"
   },
   {
    "duration": 22,
    "start_time": "2021-12-06T19:43:27.026Z"
   },
   {
    "duration": 22,
    "start_time": "2021-12-06T19:43:27.050Z"
   },
   {
    "duration": 11,
    "start_time": "2021-12-06T19:43:27.074Z"
   },
   {
    "duration": 25,
    "start_time": "2021-12-06T19:43:27.086Z"
   },
   {
    "duration": 16,
    "start_time": "2021-12-06T19:43:27.113Z"
   },
   {
    "duration": 31,
    "start_time": "2021-12-06T19:43:27.131Z"
   },
   {
    "duration": 15,
    "start_time": "2021-12-06T19:43:27.164Z"
   },
   {
    "duration": 26,
    "start_time": "2021-12-06T19:43:27.181Z"
   },
   {
    "duration": 1137,
    "start_time": "2021-12-06T19:43:57.067Z"
   },
   {
    "duration": 26,
    "start_time": "2021-12-06T19:43:58.206Z"
   },
   {
    "duration": 7,
    "start_time": "2021-12-06T19:43:58.237Z"
   },
   {
    "duration": 8,
    "start_time": "2021-12-06T19:43:58.246Z"
   },
   {
    "duration": 4,
    "start_time": "2021-12-06T19:43:58.256Z"
   },
   {
    "duration": 14,
    "start_time": "2021-12-06T19:43:58.261Z"
   },
   {
    "duration": 12,
    "start_time": "2021-12-06T19:43:58.278Z"
   },
   {
    "duration": 12,
    "start_time": "2021-12-06T19:43:58.292Z"
   },
   {
    "duration": 47,
    "start_time": "2021-12-06T19:43:58.306Z"
   },
   {
    "duration": 16,
    "start_time": "2021-12-06T19:43:58.355Z"
   },
   {
    "duration": 27,
    "start_time": "2021-12-06T19:43:58.373Z"
   },
   {
    "duration": 7,
    "start_time": "2021-12-06T19:43:58.401Z"
   },
   {
    "duration": 8,
    "start_time": "2021-12-06T19:43:58.410Z"
   },
   {
    "duration": 46,
    "start_time": "2021-12-06T19:43:58.420Z"
   },
   {
    "duration": 5,
    "start_time": "2021-12-06T19:43:58.468Z"
   },
   {
    "duration": 75,
    "start_time": "2021-12-06T19:43:58.474Z"
   },
   {
    "duration": 60,
    "start_time": "2021-12-06T19:43:58.551Z"
   },
   {
    "duration": 80,
    "start_time": "2021-12-06T19:43:58.612Z"
   },
   {
    "duration": 78,
    "start_time": "2021-12-06T19:43:58.694Z"
   },
   {
    "duration": 359,
    "start_time": "2021-12-06T19:43:58.774Z"
   },
   {
    "duration": 480,
    "start_time": "2021-12-06T19:43:59.135Z"
   },
   {
    "duration": 656,
    "start_time": "2021-12-06T19:43:59.619Z"
   },
   {
    "duration": 83,
    "start_time": "2021-12-06T19:44:00.278Z"
   },
   {
    "duration": 334,
    "start_time": "2021-12-06T19:44:00.363Z"
   },
   {
    "duration": 404,
    "start_time": "2021-12-06T19:44:00.700Z"
   },
   {
    "duration": 113,
    "start_time": "2021-12-06T19:44:01.105Z"
   },
   {
    "duration": 434,
    "start_time": "2021-12-06T19:44:01.221Z"
   },
   {
    "duration": 6,
    "start_time": "2021-12-06T19:44:01.657Z"
   },
   {
    "duration": 482,
    "start_time": "2021-12-06T19:44:01.665Z"
   },
   {
    "duration": 401,
    "start_time": "2021-12-06T19:44:02.150Z"
   },
   {
    "duration": 7,
    "start_time": "2021-12-06T19:44:02.553Z"
   },
   {
    "duration": 46,
    "start_time": "2021-12-06T19:44:02.562Z"
   },
   {
    "duration": 75,
    "start_time": "2021-12-06T19:44:02.610Z"
   },
   {
    "duration": 5,
    "start_time": "2021-12-06T19:44:02.688Z"
   },
   {
    "duration": 6,
    "start_time": "2021-12-06T19:44:02.695Z"
   },
   {
    "duration": 19,
    "start_time": "2021-12-06T19:44:02.703Z"
   },
   {
    "duration": 26,
    "start_time": "2021-12-06T19:44:02.724Z"
   },
   {
    "duration": 10,
    "start_time": "2021-12-06T19:44:02.752Z"
   },
   {
    "duration": 11,
    "start_time": "2021-12-06T19:44:02.764Z"
   },
   {
    "duration": 5,
    "start_time": "2021-12-06T19:44:02.777Z"
   },
   {
    "duration": 9,
    "start_time": "2021-12-06T19:44:02.784Z"
   },
   {
    "duration": 13,
    "start_time": "2021-12-06T19:44:02.794Z"
   },
   {
    "duration": 1175,
    "start_time": "2021-12-06T19:56:01.826Z"
   },
   {
    "duration": 25,
    "start_time": "2021-12-06T19:56:03.003Z"
   },
   {
    "duration": 4,
    "start_time": "2021-12-06T19:56:03.032Z"
   },
   {
    "duration": 13,
    "start_time": "2021-12-06T19:56:03.044Z"
   },
   {
    "duration": 4,
    "start_time": "2021-12-06T19:56:03.059Z"
   },
   {
    "duration": 12,
    "start_time": "2021-12-06T19:56:03.065Z"
   },
   {
    "duration": 10,
    "start_time": "2021-12-06T19:56:03.079Z"
   },
   {
    "duration": 13,
    "start_time": "2021-12-06T19:56:03.091Z"
   },
   {
    "duration": 49,
    "start_time": "2021-12-06T19:56:03.106Z"
   },
   {
    "duration": 16,
    "start_time": "2021-12-06T19:56:03.158Z"
   },
   {
    "duration": 25,
    "start_time": "2021-12-06T19:56:03.176Z"
   },
   {
    "duration": 6,
    "start_time": "2021-12-06T19:56:03.202Z"
   },
   {
    "duration": 6,
    "start_time": "2021-12-06T19:56:03.210Z"
   },
   {
    "duration": 46,
    "start_time": "2021-12-06T19:56:03.218Z"
   },
   {
    "duration": 4,
    "start_time": "2021-12-06T19:56:03.266Z"
   },
   {
    "duration": 88,
    "start_time": "2021-12-06T19:56:03.272Z"
   },
   {
    "duration": 64,
    "start_time": "2021-12-06T19:56:03.362Z"
   },
   {
    "duration": 85,
    "start_time": "2021-12-06T19:56:03.428Z"
   },
   {
    "duration": 82,
    "start_time": "2021-12-06T19:56:03.515Z"
   },
   {
    "duration": 331,
    "start_time": "2021-12-06T19:56:03.598Z"
   },
   {
    "duration": 341,
    "start_time": "2021-12-06T19:56:03.930Z"
   },
   {
    "duration": 424,
    "start_time": "2021-12-06T19:56:04.274Z"
   },
   {
    "duration": 28,
    "start_time": "2021-12-06T19:56:04.699Z"
   },
   {
    "duration": 439,
    "start_time": "2021-12-06T19:56:04.728Z"
   },
   {
    "duration": 525,
    "start_time": "2021-12-06T19:56:05.169Z"
   },
   {
    "duration": 120,
    "start_time": "2021-12-06T19:56:05.696Z"
   },
   {
    "duration": 463,
    "start_time": "2021-12-06T19:56:05.818Z"
   },
   {
    "duration": 5,
    "start_time": "2021-12-06T19:56:06.283Z"
   },
   {
    "duration": 480,
    "start_time": "2021-12-06T19:56:06.290Z"
   },
   {
    "duration": 407,
    "start_time": "2021-12-06T19:56:06.773Z"
   },
   {
    "duration": 6,
    "start_time": "2021-12-06T19:56:07.181Z"
   },
   {
    "duration": 80,
    "start_time": "2021-12-06T19:56:07.188Z"
   },
   {
    "duration": 53,
    "start_time": "2021-12-06T19:56:07.269Z"
   },
   {
    "duration": 5,
    "start_time": "2021-12-06T19:56:07.323Z"
   },
   {
    "duration": 35,
    "start_time": "2021-12-06T19:56:07.329Z"
   },
   {
    "duration": 23,
    "start_time": "2021-12-06T19:56:07.366Z"
   },
   {
    "duration": 24,
    "start_time": "2021-12-06T19:56:07.391Z"
   },
   {
    "duration": 13,
    "start_time": "2021-12-06T19:56:07.417Z"
   },
   {
    "duration": 13,
    "start_time": "2021-12-06T19:56:07.431Z"
   },
   {
    "duration": 23,
    "start_time": "2021-12-06T19:56:07.445Z"
   },
   {
    "duration": 29,
    "start_time": "2021-12-06T19:56:07.470Z"
   },
   {
    "duration": 59,
    "start_time": "2021-12-06T19:56:07.501Z"
   },
   {
    "duration": 4,
    "start_time": "2021-12-06T22:29:38.906Z"
   },
   {
    "duration": 303,
    "start_time": "2021-12-06T22:33:42.321Z"
   },
   {
    "duration": 5,
    "start_time": "2021-12-06T22:34:02.726Z"
   },
   {
    "duration": 60,
    "start_time": "2021-12-06T22:34:03.070Z"
   },
   {
    "duration": 60,
    "start_time": "2021-12-06T22:34:03.416Z"
   },
   {
    "duration": 39,
    "start_time": "2021-12-06T22:34:03.819Z"
   },
   {
    "duration": 32,
    "start_time": "2021-12-06T22:34:04.386Z"
   },
   {
    "duration": 299,
    "start_time": "2021-12-06T22:34:05.207Z"
   },
   {
    "duration": 287,
    "start_time": "2021-12-06T22:37:14.476Z"
   },
   {
    "duration": 12,
    "start_time": "2021-12-06T22:40:57.230Z"
   },
   {
    "duration": 12,
    "start_time": "2021-12-06T22:41:17.841Z"
   },
   {
    "duration": 13,
    "start_time": "2021-12-06T22:41:56.038Z"
   },
   {
    "duration": 273,
    "start_time": "2021-12-06T22:42:10.950Z"
   },
   {
    "duration": 631,
    "start_time": "2021-12-06T22:42:27.056Z"
   },
   {
    "duration": 442,
    "start_time": "2021-12-06T22:42:47.689Z"
   },
   {
    "duration": 224,
    "start_time": "2021-12-06T22:43:06.832Z"
   },
   {
    "duration": 1128,
    "start_time": "2021-12-06T22:43:30.175Z"
   },
   {
    "duration": 25,
    "start_time": "2021-12-06T22:43:31.306Z"
   },
   {
    "duration": 8,
    "start_time": "2021-12-06T22:43:31.333Z"
   },
   {
    "duration": 24,
    "start_time": "2021-12-06T22:43:31.343Z"
   },
   {
    "duration": 20,
    "start_time": "2021-12-06T22:43:31.369Z"
   },
   {
    "duration": 20,
    "start_time": "2021-12-06T22:43:31.391Z"
   },
   {
    "duration": 12,
    "start_time": "2021-12-06T22:43:31.413Z"
   },
   {
    "duration": 13,
    "start_time": "2021-12-06T22:43:31.427Z"
   },
   {
    "duration": 48,
    "start_time": "2021-12-06T22:43:31.441Z"
   },
   {
    "duration": 16,
    "start_time": "2021-12-06T22:43:31.491Z"
   },
   {
    "duration": 26,
    "start_time": "2021-12-06T22:43:31.508Z"
   },
   {
    "duration": 7,
    "start_time": "2021-12-06T22:43:31.536Z"
   },
   {
    "duration": 9,
    "start_time": "2021-12-06T22:43:31.544Z"
   },
   {
    "duration": 21,
    "start_time": "2021-12-06T22:43:31.555Z"
   },
   {
    "duration": 4,
    "start_time": "2021-12-06T22:43:31.578Z"
   },
   {
    "duration": 80,
    "start_time": "2021-12-06T22:43:31.583Z"
   },
   {
    "duration": 58,
    "start_time": "2021-12-06T22:43:31.665Z"
   },
   {
    "duration": 83,
    "start_time": "2021-12-06T22:43:31.725Z"
   },
   {
    "duration": 87,
    "start_time": "2021-12-06T22:43:31.809Z"
   },
   {
    "duration": 332,
    "start_time": "2021-12-06T22:43:31.898Z"
   },
   {
    "duration": 317,
    "start_time": "2021-12-06T22:43:32.232Z"
   },
   {
    "duration": 434,
    "start_time": "2021-12-06T22:43:32.550Z"
   },
   {
    "duration": 32,
    "start_time": "2021-12-06T22:43:32.988Z"
   },
   {
    "duration": 344,
    "start_time": "2021-12-06T22:43:33.022Z"
   },
   {
    "duration": 428,
    "start_time": "2021-12-06T22:43:33.368Z"
   },
   {
    "duration": 107,
    "start_time": "2021-12-06T22:43:33.798Z"
   },
   {
    "duration": 418,
    "start_time": "2021-12-06T22:43:33.907Z"
   },
   {
    "duration": 16,
    "start_time": "2021-12-06T22:43:34.327Z"
   },
   {
    "duration": 466,
    "start_time": "2021-12-06T22:43:34.346Z"
   },
   {
    "duration": 434,
    "start_time": "2021-12-06T22:43:34.814Z"
   },
   {
    "duration": 6,
    "start_time": "2021-12-06T22:43:35.249Z"
   },
   {
    "duration": 58,
    "start_time": "2021-12-06T22:43:35.257Z"
   },
   {
    "duration": 77,
    "start_time": "2021-12-06T22:43:35.317Z"
   },
   {
    "duration": 5,
    "start_time": "2021-12-06T22:43:35.395Z"
   },
   {
    "duration": 9,
    "start_time": "2021-12-06T22:43:35.401Z"
   },
   {
    "duration": 20,
    "start_time": "2021-12-06T22:43:35.411Z"
   },
   {
    "duration": 17,
    "start_time": "2021-12-06T22:43:35.433Z"
   },
   {
    "duration": 9,
    "start_time": "2021-12-06T22:43:35.452Z"
   },
   {
    "duration": 12,
    "start_time": "2021-12-06T22:43:35.463Z"
   },
   {
    "duration": 32,
    "start_time": "2021-12-06T22:43:35.477Z"
   },
   {
    "duration": 22,
    "start_time": "2021-12-06T22:43:35.510Z"
   },
   {
    "duration": 19,
    "start_time": "2021-12-06T22:43:35.534Z"
   },
   {
    "duration": 4,
    "start_time": "2021-12-06T22:43:35.555Z"
   },
   {
    "duration": 59,
    "start_time": "2021-12-06T22:43:35.560Z"
   },
   {
    "duration": 80,
    "start_time": "2021-12-06T22:43:35.621Z"
   },
   {
    "duration": 46,
    "start_time": "2021-12-06T22:43:35.703Z"
   },
   {
    "duration": 36,
    "start_time": "2021-12-06T22:43:35.751Z"
   },
   {
    "duration": 315,
    "start_time": "2021-12-06T22:43:35.789Z"
   },
   {
    "duration": 304,
    "start_time": "2021-12-06T22:43:36.105Z"
   },
   {
    "duration": 235,
    "start_time": "2021-12-06T22:43:36.411Z"
   },
   {
    "duration": 235,
    "start_time": "2021-12-06T22:43:50.578Z"
   },
   {
    "duration": 5,
    "start_time": "2021-12-06T22:44:07.176Z"
   },
   {
    "duration": 60,
    "start_time": "2021-12-06T22:44:07.584Z"
   },
   {
    "duration": 58,
    "start_time": "2021-12-06T22:44:07.957Z"
   },
   {
    "duration": 68,
    "start_time": "2021-12-06T22:44:08.352Z"
   },
   {
    "duration": 72,
    "start_time": "2021-12-06T22:44:08.730Z"
   },
   {
    "duration": 309,
    "start_time": "2021-12-06T22:44:09.696Z"
   },
   {
    "duration": 297,
    "start_time": "2021-12-06T22:44:17.487Z"
   },
   {
    "duration": 311,
    "start_time": "2021-12-06T22:44:23.050Z"
   },
   {
    "duration": 311,
    "start_time": "2021-12-06T22:44:26.184Z"
   },
   {
    "duration": 1116,
    "start_time": "2021-12-06T22:57:46.972Z"
   },
   {
    "duration": 24,
    "start_time": "2021-12-06T22:57:48.090Z"
   },
   {
    "duration": 7,
    "start_time": "2021-12-06T22:57:48.118Z"
   },
   {
    "duration": 15,
    "start_time": "2021-12-06T22:57:48.127Z"
   },
   {
    "duration": 8,
    "start_time": "2021-12-06T22:57:48.143Z"
   },
   {
    "duration": 17,
    "start_time": "2021-12-06T22:57:48.153Z"
   },
   {
    "duration": 10,
    "start_time": "2021-12-06T22:57:48.172Z"
   },
   {
    "duration": 20,
    "start_time": "2021-12-06T22:57:48.184Z"
   },
   {
    "duration": 45,
    "start_time": "2021-12-06T22:57:48.206Z"
   },
   {
    "duration": 16,
    "start_time": "2021-12-06T22:57:48.253Z"
   },
   {
    "duration": 29,
    "start_time": "2021-12-06T22:57:48.271Z"
   },
   {
    "duration": 12,
    "start_time": "2021-12-06T22:57:48.302Z"
   },
   {
    "duration": 13,
    "start_time": "2021-12-06T22:57:48.315Z"
   },
   {
    "duration": 27,
    "start_time": "2021-12-06T22:57:48.330Z"
   },
   {
    "duration": 4,
    "start_time": "2021-12-06T22:57:48.359Z"
   },
   {
    "duration": 80,
    "start_time": "2021-12-06T22:57:48.365Z"
   },
   {
    "duration": 55,
    "start_time": "2021-12-06T22:57:48.446Z"
   },
   {
    "duration": 71,
    "start_time": "2021-12-06T22:57:48.503Z"
   },
   {
    "duration": 80,
    "start_time": "2021-12-06T22:57:48.576Z"
   },
   {
    "duration": 421,
    "start_time": "2021-12-06T22:57:48.658Z"
   },
   {
    "duration": 303,
    "start_time": "2021-12-06T22:57:49.081Z"
   },
   {
    "duration": 383,
    "start_time": "2021-12-06T22:57:49.388Z"
   },
   {
    "duration": 31,
    "start_time": "2021-12-06T22:57:49.772Z"
   },
   {
    "duration": 322,
    "start_time": "2021-12-06T22:57:49.804Z"
   },
   {
    "duration": 439,
    "start_time": "2021-12-06T22:57:50.128Z"
   },
   {
    "duration": 108,
    "start_time": "2021-12-06T22:57:50.569Z"
   },
   {
    "duration": 382,
    "start_time": "2021-12-06T22:57:50.678Z"
   },
   {
    "duration": 6,
    "start_time": "2021-12-06T22:57:51.062Z"
   },
   {
    "duration": 578,
    "start_time": "2021-12-06T22:57:51.069Z"
   },
   {
    "duration": 410,
    "start_time": "2021-12-06T22:57:51.649Z"
   },
   {
    "duration": 6,
    "start_time": "2021-12-06T22:57:52.060Z"
   },
   {
    "duration": 80,
    "start_time": "2021-12-06T22:57:52.067Z"
   },
   {
    "duration": 61,
    "start_time": "2021-12-06T22:57:52.149Z"
   },
   {
    "duration": 4,
    "start_time": "2021-12-06T22:57:52.212Z"
   },
   {
    "duration": 14,
    "start_time": "2021-12-06T22:57:52.217Z"
   },
   {
    "duration": 16,
    "start_time": "2021-12-06T22:57:52.233Z"
   },
   {
    "duration": 18,
    "start_time": "2021-12-06T22:57:52.250Z"
   },
   {
    "duration": 9,
    "start_time": "2021-12-06T22:57:52.270Z"
   },
   {
    "duration": 14,
    "start_time": "2021-12-06T22:57:52.281Z"
   },
   {
    "duration": 22,
    "start_time": "2021-12-06T22:57:52.297Z"
   },
   {
    "duration": 12,
    "start_time": "2021-12-06T22:57:52.321Z"
   },
   {
    "duration": 20,
    "start_time": "2021-12-06T22:57:52.335Z"
   },
   {
    "duration": 12,
    "start_time": "2021-12-06T22:57:52.356Z"
   },
   {
    "duration": 59,
    "start_time": "2021-12-06T22:57:52.369Z"
   },
   {
    "duration": 67,
    "start_time": "2021-12-06T22:57:52.430Z"
   },
   {
    "duration": 73,
    "start_time": "2021-12-06T22:57:52.498Z"
   },
   {
    "duration": 81,
    "start_time": "2021-12-06T22:57:52.573Z"
   },
   {
    "duration": 309,
    "start_time": "2021-12-06T22:57:52.655Z"
   },
   {
    "duration": 308,
    "start_time": "2021-12-06T22:57:52.966Z"
   },
   {
    "duration": 1044,
    "start_time": "2021-12-07T05:08:54.193Z"
   },
   {
    "duration": 25,
    "start_time": "2021-12-07T05:08:55.239Z"
   },
   {
    "duration": 6,
    "start_time": "2021-12-07T05:08:55.266Z"
   },
   {
    "duration": 8,
    "start_time": "2021-12-07T05:08:55.273Z"
   },
   {
    "duration": 9,
    "start_time": "2021-12-07T05:08:55.283Z"
   },
   {
    "duration": 12,
    "start_time": "2021-12-07T05:08:55.294Z"
   },
   {
    "duration": 10,
    "start_time": "2021-12-07T05:08:55.307Z"
   },
   {
    "duration": 11,
    "start_time": "2021-12-07T05:08:55.319Z"
   },
   {
    "duration": 59,
    "start_time": "2021-12-07T05:08:55.332Z"
   },
   {
    "duration": 15,
    "start_time": "2021-12-07T05:08:55.393Z"
   },
   {
    "duration": 25,
    "start_time": "2021-12-07T05:08:55.410Z"
   },
   {
    "duration": 7,
    "start_time": "2021-12-07T05:08:55.436Z"
   },
   {
    "duration": 8,
    "start_time": "2021-12-07T05:08:55.445Z"
   },
   {
    "duration": 20,
    "start_time": "2021-12-07T05:08:55.455Z"
   },
   {
    "duration": 5,
    "start_time": "2021-12-07T05:08:55.491Z"
   },
   {
    "duration": 54,
    "start_time": "2021-12-07T05:08:55.497Z"
   },
   {
    "duration": 72,
    "start_time": "2021-12-07T05:08:55.553Z"
   },
   {
    "duration": 76,
    "start_time": "2021-12-07T05:08:55.626Z"
   },
   {
    "duration": 72,
    "start_time": "2021-12-07T05:08:55.704Z"
   },
   {
    "duration": 358,
    "start_time": "2021-12-07T05:08:55.777Z"
   },
   {
    "duration": 316,
    "start_time": "2021-12-07T05:08:56.137Z"
   },
   {
    "duration": 405,
    "start_time": "2021-12-07T05:08:56.454Z"
   },
   {
    "duration": 39,
    "start_time": "2021-12-07T05:08:56.862Z"
   },
   {
    "duration": 344,
    "start_time": "2021-12-07T05:08:56.903Z"
   },
   {
    "duration": 390,
    "start_time": "2021-12-07T05:08:57.248Z"
   },
   {
    "duration": 104,
    "start_time": "2021-12-07T05:08:57.640Z"
   },
   {
    "duration": 387,
    "start_time": "2021-12-07T05:08:57.746Z"
   },
   {
    "duration": 6,
    "start_time": "2021-12-07T05:08:58.135Z"
   },
   {
    "duration": 465,
    "start_time": "2021-12-07T05:08:58.143Z"
   },
   {
    "duration": 388,
    "start_time": "2021-12-07T05:08:58.611Z"
   },
   {
    "duration": 6,
    "start_time": "2021-12-07T05:08:59.001Z"
   },
   {
    "duration": 48,
    "start_time": "2021-12-07T05:08:59.009Z"
   },
   {
    "duration": 77,
    "start_time": "2021-12-07T05:08:59.059Z"
   },
   {
    "duration": 6,
    "start_time": "2021-12-07T05:08:59.138Z"
   },
   {
    "duration": 6,
    "start_time": "2021-12-07T05:08:59.145Z"
   },
   {
    "duration": 11,
    "start_time": "2021-12-07T05:08:59.153Z"
   },
   {
    "duration": 35,
    "start_time": "2021-12-07T05:08:59.166Z"
   },
   {
    "duration": 9,
    "start_time": "2021-12-07T05:08:59.203Z"
   },
   {
    "duration": 14,
    "start_time": "2021-12-07T05:08:59.214Z"
   },
   {
    "duration": 6,
    "start_time": "2021-12-07T05:08:59.230Z"
   },
   {
    "duration": 8,
    "start_time": "2021-12-07T05:08:59.237Z"
   },
   {
    "duration": 12,
    "start_time": "2021-12-07T05:08:59.246Z"
   },
   {
    "duration": 31,
    "start_time": "2021-12-07T05:08:59.260Z"
   },
   {
    "duration": 55,
    "start_time": "2021-12-07T05:08:59.293Z"
   },
   {
    "duration": 73,
    "start_time": "2021-12-07T05:08:59.350Z"
   },
   {
    "duration": 82,
    "start_time": "2021-12-07T05:08:59.424Z"
   },
   {
    "duration": 67,
    "start_time": "2021-12-07T05:08:59.508Z"
   },
   {
    "duration": 327,
    "start_time": "2021-12-07T05:08:59.577Z"
   },
   {
    "duration": 321,
    "start_time": "2021-12-07T05:08:59.905Z"
   }
  ],
  "kernelspec": {
   "display_name": "Python 3 (ipykernel)",
   "language": "python",
   "name": "python3"
  },
  "language_info": {
   "codemirror_mode": {
    "name": "ipython",
    "version": 3
   },
   "file_extension": ".py",
   "mimetype": "text/x-python",
   "name": "python",
   "nbconvert_exporter": "python",
   "pygments_lexer": "ipython3",
   "version": "3.7.8"
  },
  "toc": {
   "base_numbering": 1,
   "nav_menu": {},
   "number_sections": true,
   "sideBar": true,
   "skip_h1_title": true,
   "title_cell": "Table of Contents",
   "title_sidebar": "Contents",
   "toc_cell": false,
   "toc_position": {
    "height": "calc(100% - 180px)",
    "left": "10px",
    "top": "150px",
    "width": "366.385px"
   },
   "toc_section_display": true,
   "toc_window_display": true
  }
 },
 "nbformat": 4,
 "nbformat_minor": 2
}
