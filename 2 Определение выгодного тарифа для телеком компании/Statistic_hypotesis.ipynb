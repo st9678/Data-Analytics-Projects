{
 "cells": [
  {
   "cell_type": "code",
   "execution_count": 1,
   "metadata": {},
   "outputs": [],
   "source": [
    "import warnings\n",
    "warnings.filterwarnings('ignore')\n",
    "from IPython.display import display "
   ]
  },
  {
   "cell_type": "code",
   "execution_count": 2,
   "metadata": {},
   "outputs": [],
   "source": [
    "import numpy as np                   \n",
    "from scipy import stats as st        \n",
    "import pandas as pd                                          \n",
    "import matplotlib.pyplot as plt  "
   ]
  },
  {
   "cell_type": "markdown",
   "metadata": {},
   "source": [
    "# Определение перспективного тарифа для телеком-компании\n",
    "\n",
    "Федеральный оператор сотовой связи «Мегалайн» предлагает клиентам два тарифных плана: «Смарт» и «Ультра». Чтобы скорректировать рекламный бюджет, коммерческий департамент хочет понять, какой тариф приносит больше денег.\n",
    "\n",
    "Нам предстоит сделать предварительный анализ тарифов на небольшой выборке клиентов. В нашем распоряжении данные 500 пользователей «Мегалайна»: кто они, откуда, каким тарифом пользуются, сколько звонков и сообщений каждый отправил за 2018 год. Нужно проанализировать поведение клиентов и сделать вывод — какой тариф лучше. "
   ]
  },
  {
   "cell_type": "markdown",
   "metadata": {},
   "source": [
    "## Изучение данных из файла"
   ]
  },
  {
   "cell_type": "code",
   "execution_count": 3,
   "metadata": {},
   "outputs": [
    {
     "name": "stdout",
     "output_type": "stream",
     "text": [
      "\n",
      "Датасэт users:\n",
      "Количество дубликатов: 0\n"
     ]
    },
    {
     "data": {
      "text/html": [
       "<div>\n",
       "<style scoped>\n",
       "    .dataframe tbody tr th:only-of-type {\n",
       "        vertical-align: middle;\n",
       "    }\n",
       "\n",
       "    .dataframe tbody tr th {\n",
       "        vertical-align: top;\n",
       "    }\n",
       "\n",
       "    .dataframe thead th {\n",
       "        text-align: right;\n",
       "    }\n",
       "</style>\n",
       "<table border=\"1\" class=\"dataframe\">\n",
       "  <thead>\n",
       "    <tr style=\"text-align: right;\">\n",
       "      <th></th>\n",
       "      <th>user_id</th>\n",
       "      <th>age</th>\n",
       "      <th>churn_date</th>\n",
       "      <th>city</th>\n",
       "      <th>first_name</th>\n",
       "      <th>last_name</th>\n",
       "      <th>reg_date</th>\n",
       "      <th>tariff</th>\n",
       "    </tr>\n",
       "  </thead>\n",
       "  <tbody>\n",
       "    <tr>\n",
       "      <td>0</td>\n",
       "      <td>1000</td>\n",
       "      <td>52</td>\n",
       "      <td>NaN</td>\n",
       "      <td>Краснодар</td>\n",
       "      <td>Рафаил</td>\n",
       "      <td>Верещагин</td>\n",
       "      <td>2018-05-25</td>\n",
       "      <td>ultra</td>\n",
       "    </tr>\n",
       "    <tr>\n",
       "      <td>1</td>\n",
       "      <td>1001</td>\n",
       "      <td>41</td>\n",
       "      <td>NaN</td>\n",
       "      <td>Москва</td>\n",
       "      <td>Иван</td>\n",
       "      <td>Ежов</td>\n",
       "      <td>2018-11-01</td>\n",
       "      <td>smart</td>\n",
       "    </tr>\n",
       "    <tr>\n",
       "      <td>2</td>\n",
       "      <td>1002</td>\n",
       "      <td>59</td>\n",
       "      <td>NaN</td>\n",
       "      <td>Стерлитамак</td>\n",
       "      <td>Евгений</td>\n",
       "      <td>Абрамович</td>\n",
       "      <td>2018-06-17</td>\n",
       "      <td>smart</td>\n",
       "    </tr>\n",
       "    <tr>\n",
       "      <td>3</td>\n",
       "      <td>1003</td>\n",
       "      <td>23</td>\n",
       "      <td>NaN</td>\n",
       "      <td>Москва</td>\n",
       "      <td>Белла</td>\n",
       "      <td>Белякова</td>\n",
       "      <td>2018-08-17</td>\n",
       "      <td>ultra</td>\n",
       "    </tr>\n",
       "    <tr>\n",
       "      <td>4</td>\n",
       "      <td>1004</td>\n",
       "      <td>68</td>\n",
       "      <td>NaN</td>\n",
       "      <td>Новокузнецк</td>\n",
       "      <td>Татьяна</td>\n",
       "      <td>Авдеенко</td>\n",
       "      <td>2018-05-14</td>\n",
       "      <td>ultra</td>\n",
       "    </tr>\n",
       "  </tbody>\n",
       "</table>\n",
       "</div>"
      ],
      "text/plain": [
       "   user_id  age churn_date         city first_name  last_name    reg_date  \\\n",
       "0     1000   52        NaN    Краснодар     Рафаил  Верещагин  2018-05-25   \n",
       "1     1001   41        NaN       Москва       Иван       Ежов  2018-11-01   \n",
       "2     1002   59        NaN  Стерлитамак    Евгений  Абрамович  2018-06-17   \n",
       "3     1003   23        NaN       Москва      Белла   Белякова  2018-08-17   \n",
       "4     1004   68        NaN  Новокузнецк    Татьяна   Авдеенко  2018-05-14   \n",
       "\n",
       "  tariff  \n",
       "0  ultra  \n",
       "1  smart  \n",
       "2  smart  \n",
       "3  ultra  \n",
       "4  ultra  "
      ]
     },
     "metadata": {},
     "output_type": "display_data"
    },
    {
     "name": "stdout",
     "output_type": "stream",
     "text": [
      "<class 'pandas.core.frame.DataFrame'>\n",
      "RangeIndex: 500 entries, 0 to 499\n",
      "Data columns (total 8 columns):\n",
      "user_id       500 non-null int64\n",
      "age           500 non-null int64\n",
      "churn_date    38 non-null object\n",
      "city          500 non-null object\n",
      "first_name    500 non-null object\n",
      "last_name     500 non-null object\n",
      "reg_date      500 non-null object\n",
      "tariff        500 non-null object\n",
      "dtypes: int64(2), object(6)\n",
      "memory usage: 31.4+ KB\n",
      "\n",
      "Датасэт tariffs:\n",
      "Количество дубликатов: 0\n"
     ]
    },
    {
     "data": {
      "text/html": [
       "<div>\n",
       "<style scoped>\n",
       "    .dataframe tbody tr th:only-of-type {\n",
       "        vertical-align: middle;\n",
       "    }\n",
       "\n",
       "    .dataframe tbody tr th {\n",
       "        vertical-align: top;\n",
       "    }\n",
       "\n",
       "    .dataframe thead th {\n",
       "        text-align: right;\n",
       "    }\n",
       "</style>\n",
       "<table border=\"1\" class=\"dataframe\">\n",
       "  <thead>\n",
       "    <tr style=\"text-align: right;\">\n",
       "      <th></th>\n",
       "      <th>messages_included</th>\n",
       "      <th>mb_per_month_included</th>\n",
       "      <th>minutes_included</th>\n",
       "      <th>rub_monthly_fee</th>\n",
       "      <th>rub_per_gb</th>\n",
       "      <th>rub_per_message</th>\n",
       "      <th>rub_per_minute</th>\n",
       "      <th>tariff_name</th>\n",
       "    </tr>\n",
       "  </thead>\n",
       "  <tbody>\n",
       "    <tr>\n",
       "      <td>0</td>\n",
       "      <td>50</td>\n",
       "      <td>15360</td>\n",
       "      <td>500</td>\n",
       "      <td>550</td>\n",
       "      <td>200</td>\n",
       "      <td>3</td>\n",
       "      <td>3</td>\n",
       "      <td>smart</td>\n",
       "    </tr>\n",
       "    <tr>\n",
       "      <td>1</td>\n",
       "      <td>1000</td>\n",
       "      <td>30720</td>\n",
       "      <td>3000</td>\n",
       "      <td>1950</td>\n",
       "      <td>150</td>\n",
       "      <td>1</td>\n",
       "      <td>1</td>\n",
       "      <td>ultra</td>\n",
       "    </tr>\n",
       "  </tbody>\n",
       "</table>\n",
       "</div>"
      ],
      "text/plain": [
       "   messages_included  mb_per_month_included  minutes_included  \\\n",
       "0                 50                  15360               500   \n",
       "1               1000                  30720              3000   \n",
       "\n",
       "   rub_monthly_fee  rub_per_gb  rub_per_message  rub_per_minute tariff_name  \n",
       "0              550         200                3               3       smart  \n",
       "1             1950         150                1               1       ultra  "
      ]
     },
     "metadata": {},
     "output_type": "display_data"
    },
    {
     "name": "stdout",
     "output_type": "stream",
     "text": [
      "\n",
      "Датасэт messages:\n",
      "Количество дубликатов: 0\n"
     ]
    },
    {
     "data": {
      "text/html": [
       "<div>\n",
       "<style scoped>\n",
       "    .dataframe tbody tr th:only-of-type {\n",
       "        vertical-align: middle;\n",
       "    }\n",
       "\n",
       "    .dataframe tbody tr th {\n",
       "        vertical-align: top;\n",
       "    }\n",
       "\n",
       "    .dataframe thead th {\n",
       "        text-align: right;\n",
       "    }\n",
       "</style>\n",
       "<table border=\"1\" class=\"dataframe\">\n",
       "  <thead>\n",
       "    <tr style=\"text-align: right;\">\n",
       "      <th></th>\n",
       "      <th>id</th>\n",
       "      <th>message_date</th>\n",
       "      <th>user_id</th>\n",
       "    </tr>\n",
       "  </thead>\n",
       "  <tbody>\n",
       "    <tr>\n",
       "      <td>0</td>\n",
       "      <td>1000_0</td>\n",
       "      <td>2018-06-27</td>\n",
       "      <td>1000</td>\n",
       "    </tr>\n",
       "    <tr>\n",
       "      <td>1</td>\n",
       "      <td>1000_1</td>\n",
       "      <td>2018-10-08</td>\n",
       "      <td>1000</td>\n",
       "    </tr>\n",
       "    <tr>\n",
       "      <td>2</td>\n",
       "      <td>1000_2</td>\n",
       "      <td>2018-08-04</td>\n",
       "      <td>1000</td>\n",
       "    </tr>\n",
       "    <tr>\n",
       "      <td>3</td>\n",
       "      <td>1000_3</td>\n",
       "      <td>2018-06-16</td>\n",
       "      <td>1000</td>\n",
       "    </tr>\n",
       "    <tr>\n",
       "      <td>4</td>\n",
       "      <td>1000_4</td>\n",
       "      <td>2018-12-05</td>\n",
       "      <td>1000</td>\n",
       "    </tr>\n",
       "  </tbody>\n",
       "</table>\n",
       "</div>"
      ],
      "text/plain": [
       "       id message_date  user_id\n",
       "0  1000_0   2018-06-27     1000\n",
       "1  1000_1   2018-10-08     1000\n",
       "2  1000_2   2018-08-04     1000\n",
       "3  1000_3   2018-06-16     1000\n",
       "4  1000_4   2018-12-05     1000"
      ]
     },
     "metadata": {},
     "output_type": "display_data"
    },
    {
     "name": "stdout",
     "output_type": "stream",
     "text": [
      "<class 'pandas.core.frame.DataFrame'>\n",
      "RangeIndex: 123036 entries, 0 to 123035\n",
      "Data columns (total 3 columns):\n",
      "id              123036 non-null object\n",
      "message_date    123036 non-null object\n",
      "user_id         123036 non-null int64\n",
      "dtypes: int64(1), object(2)\n",
      "memory usage: 2.8+ MB\n",
      "\n",
      "Датасэт internet:\n",
      "Количество дубликатов: 0\n"
     ]
    },
    {
     "data": {
      "text/html": [
       "<div>\n",
       "<style scoped>\n",
       "    .dataframe tbody tr th:only-of-type {\n",
       "        vertical-align: middle;\n",
       "    }\n",
       "\n",
       "    .dataframe tbody tr th {\n",
       "        vertical-align: top;\n",
       "    }\n",
       "\n",
       "    .dataframe thead th {\n",
       "        text-align: right;\n",
       "    }\n",
       "</style>\n",
       "<table border=\"1\" class=\"dataframe\">\n",
       "  <thead>\n",
       "    <tr style=\"text-align: right;\">\n",
       "      <th></th>\n",
       "      <th>Unnamed: 0</th>\n",
       "      <th>id</th>\n",
       "      <th>mb_used</th>\n",
       "      <th>session_date</th>\n",
       "      <th>user_id</th>\n",
       "    </tr>\n",
       "  </thead>\n",
       "  <tbody>\n",
       "    <tr>\n",
       "      <td>0</td>\n",
       "      <td>0</td>\n",
       "      <td>1000_0</td>\n",
       "      <td>112.95</td>\n",
       "      <td>2018-11-25</td>\n",
       "      <td>1000</td>\n",
       "    </tr>\n",
       "    <tr>\n",
       "      <td>1</td>\n",
       "      <td>1</td>\n",
       "      <td>1000_1</td>\n",
       "      <td>1052.81</td>\n",
       "      <td>2018-09-07</td>\n",
       "      <td>1000</td>\n",
       "    </tr>\n",
       "    <tr>\n",
       "      <td>2</td>\n",
       "      <td>2</td>\n",
       "      <td>1000_2</td>\n",
       "      <td>1197.26</td>\n",
       "      <td>2018-06-25</td>\n",
       "      <td>1000</td>\n",
       "    </tr>\n",
       "    <tr>\n",
       "      <td>3</td>\n",
       "      <td>3</td>\n",
       "      <td>1000_3</td>\n",
       "      <td>550.27</td>\n",
       "      <td>2018-08-22</td>\n",
       "      <td>1000</td>\n",
       "    </tr>\n",
       "    <tr>\n",
       "      <td>4</td>\n",
       "      <td>4</td>\n",
       "      <td>1000_4</td>\n",
       "      <td>302.56</td>\n",
       "      <td>2018-09-24</td>\n",
       "      <td>1000</td>\n",
       "    </tr>\n",
       "  </tbody>\n",
       "</table>\n",
       "</div>"
      ],
      "text/plain": [
       "   Unnamed: 0      id  mb_used session_date  user_id\n",
       "0           0  1000_0   112.95   2018-11-25     1000\n",
       "1           1  1000_1  1052.81   2018-09-07     1000\n",
       "2           2  1000_2  1197.26   2018-06-25     1000\n",
       "3           3  1000_3   550.27   2018-08-22     1000\n",
       "4           4  1000_4   302.56   2018-09-24     1000"
      ]
     },
     "metadata": {},
     "output_type": "display_data"
    },
    {
     "name": "stdout",
     "output_type": "stream",
     "text": [
      "<class 'pandas.core.frame.DataFrame'>\n",
      "RangeIndex: 149396 entries, 0 to 149395\n",
      "Data columns (total 5 columns):\n",
      "Unnamed: 0      149396 non-null int64\n",
      "id              149396 non-null object\n",
      "mb_used         149396 non-null float64\n",
      "session_date    149396 non-null object\n",
      "user_id         149396 non-null int64\n",
      "dtypes: float64(1), int64(2), object(2)\n",
      "memory usage: 5.7+ MB\n",
      "\n",
      "Датасэт calls:\n",
      "Количество дубликатов: 0\n"
     ]
    },
    {
     "data": {
      "text/html": [
       "<div>\n",
       "<style scoped>\n",
       "    .dataframe tbody tr th:only-of-type {\n",
       "        vertical-align: middle;\n",
       "    }\n",
       "\n",
       "    .dataframe tbody tr th {\n",
       "        vertical-align: top;\n",
       "    }\n",
       "\n",
       "    .dataframe thead th {\n",
       "        text-align: right;\n",
       "    }\n",
       "</style>\n",
       "<table border=\"1\" class=\"dataframe\">\n",
       "  <thead>\n",
       "    <tr style=\"text-align: right;\">\n",
       "      <th></th>\n",
       "      <th>id</th>\n",
       "      <th>call_date</th>\n",
       "      <th>duration</th>\n",
       "      <th>user_id</th>\n",
       "    </tr>\n",
       "  </thead>\n",
       "  <tbody>\n",
       "    <tr>\n",
       "      <td>0</td>\n",
       "      <td>1000_0</td>\n",
       "      <td>2018-07-25</td>\n",
       "      <td>0.00</td>\n",
       "      <td>1000</td>\n",
       "    </tr>\n",
       "    <tr>\n",
       "      <td>1</td>\n",
       "      <td>1000_1</td>\n",
       "      <td>2018-08-17</td>\n",
       "      <td>0.00</td>\n",
       "      <td>1000</td>\n",
       "    </tr>\n",
       "    <tr>\n",
       "      <td>2</td>\n",
       "      <td>1000_2</td>\n",
       "      <td>2018-06-11</td>\n",
       "      <td>2.85</td>\n",
       "      <td>1000</td>\n",
       "    </tr>\n",
       "    <tr>\n",
       "      <td>3</td>\n",
       "      <td>1000_3</td>\n",
       "      <td>2018-09-21</td>\n",
       "      <td>13.80</td>\n",
       "      <td>1000</td>\n",
       "    </tr>\n",
       "    <tr>\n",
       "      <td>4</td>\n",
       "      <td>1000_4</td>\n",
       "      <td>2018-12-15</td>\n",
       "      <td>5.18</td>\n",
       "      <td>1000</td>\n",
       "    </tr>\n",
       "  </tbody>\n",
       "</table>\n",
       "</div>"
      ],
      "text/plain": [
       "       id   call_date  duration  user_id\n",
       "0  1000_0  2018-07-25      0.00     1000\n",
       "1  1000_1  2018-08-17      0.00     1000\n",
       "2  1000_2  2018-06-11      2.85     1000\n",
       "3  1000_3  2018-09-21     13.80     1000\n",
       "4  1000_4  2018-12-15      5.18     1000"
      ]
     },
     "metadata": {},
     "output_type": "display_data"
    },
    {
     "name": "stdout",
     "output_type": "stream",
     "text": [
      "<class 'pandas.core.frame.DataFrame'>\n",
      "RangeIndex: 202607 entries, 0 to 202606\n",
      "Data columns (total 4 columns):\n",
      "id           202607 non-null object\n",
      "call_date    202607 non-null object\n",
      "duration     202607 non-null float64\n",
      "user_id      202607 non-null int64\n",
      "dtypes: float64(1), int64(1), object(2)\n",
      "memory usage: 6.2+ MB\n"
     ]
    }
   ],
   "source": [
    "sets_name = ['users', 'tariffs', 'messages', 'internet', 'calls']\n",
    "for i in sets_name:\n",
    "    data = pd.read_csv(f\"{i}.csv\")\n",
    "    exec(i + \" = data\")\n",
    "    print()\n",
    "    print(f'Датасэт {i}:')\n",
    "    print(f'Количество дубликатов: {data.duplicated().sum()}')\n",
    "    display(data.head())\n",
    "    if i != 'tariffs':\n",
    "        data.info()"
   ]
  },
  {
   "cell_type": "markdown",
   "metadata": {},
   "source": [
    "### Вывод\n",
    "На данном шаге из всех предоставленных файлов заказчиком, мною были преобразованы, изучены и отображены данные, необходимые для тщательного анализа, в целях определения какой из тарифов телекоммуникационных услуг выгоднее. В таблицах содержится полная информация о трафике, используемом пользователями: звонки, сообщения, интернет. Имеются сведения о параметрах самих тарифов, а также личные данных пользователей."
   ]
  },
  {
   "cell_type": "markdown",
   "metadata": {},
   "source": [
    "## Предобработка данных"
   ]
  },
  {
   "cell_type": "markdown",
   "metadata": {},
   "source": [
    "### Приведение данных к нужным типам\n",
    "Предобработку данных начнем прежде всего с приведения их нужным типам. Вообще все действия в целях приведения данных к нужным типам ограничены лишь тем, чтобы все столбцы, содержащие сведения о датах, привести к типу datetime."
   ]
  },
  {
   "cell_type": "code",
   "execution_count": 4,
   "metadata": {},
   "outputs": [
    {
     "data": {
      "text/plain": [
       "(user_id                int64\n",
       " age                    int64\n",
       " churn_date            object\n",
       " city                  object\n",
       " first_name            object\n",
       " last_name             object\n",
       " reg_date      datetime64[ns]\n",
       " tariff                object\n",
       " dtype: object,\n",
       " id                      object\n",
       " message_date    datetime64[ns]\n",
       " user_id                  int64\n",
       " dtype: object,\n",
       " Unnamed: 0               int64\n",
       " id                      object\n",
       " mb_used                float64\n",
       " session_date    datetime64[ns]\n",
       " user_id                  int64\n",
       " dtype: object,\n",
       " id                   object\n",
       " call_date    datetime64[ns]\n",
       " duration            float64\n",
       " user_id               int64\n",
       " dtype: object)"
      ]
     },
     "execution_count": 4,
     "metadata": {},
     "output_type": "execute_result"
    }
   ],
   "source": [
    "users['reg_date'] = pd.to_datetime(users['reg_date'], format='%Y-%m-%d')\n",
    "messages['message_date'] = pd.to_datetime(messages['message_date'], format='%Y-%m-%d')\n",
    "internet['session_date'] = pd.to_datetime(internet['session_date'], format='%Y-%m-%d')\n",
    "calls['call_date'] = pd.to_datetime(calls['call_date'], format='%Y-%m-%d')\n",
    "users.dtypes, messages.dtypes, internet.dtypes, calls.dtypes"
   ]
  },
  {
   "cell_type": "code",
   "execution_count": 5,
   "metadata": {},
   "outputs": [],
   "source": [
    "del internet['Unnamed: 0']   "
   ]
  },
  {
   "cell_type": "markdown",
   "metadata": {},
   "source": [
    "### Заполнение пропусков\n",
    "Пропущенные значения имеются только в столбце с данными о дате прекращения пользования тарифом. В указаниях к данным есть примечание, в котором говорится, что пропущенные значения имеются из-за отсутствия самого фактра прекращения пользования услугами тарифа на момент выгрузки данных. Так как данные приведени за 2018 года, соответственно дату 2018-12-31 можно считать верхней границей.\n",
    "Произведем замену пропусков и заменим тип данных на datetime:"
   ]
  },
  {
   "cell_type": "code",
   "execution_count": 6,
   "metadata": {},
   "outputs": [
    {
     "name": "stdout",
     "output_type": "stream",
     "text": [
      "Количество пропусков: 0\n"
     ]
    }
   ],
   "source": [
    "users['churn_date'] = users['churn_date'].fillna('2018-12-31') \n",
    "print('Количество пропусков:', users['churn_date'].isna().sum())"
   ]
  },
  {
   "cell_type": "code",
   "execution_count": 7,
   "metadata": {},
   "outputs": [
    {
     "data": {
      "text/plain": [
       "user_id                int64\n",
       "age                    int64\n",
       "churn_date    datetime64[ns]\n",
       "city                  object\n",
       "first_name            object\n",
       "last_name             object\n",
       "reg_date      datetime64[ns]\n",
       "tariff                object\n",
       "dtype: object"
      ]
     },
     "execution_count": 7,
     "metadata": {},
     "output_type": "execute_result"
    }
   ],
   "source": [
    "users['churn_date'] = pd.to_datetime(users['churn_date'], format='%Y-%m-%d')\n",
    "users.dtypes"
   ]
  },
  {
   "cell_type": "markdown",
   "metadata": {},
   "source": [
    "### Исправление ошибок в данных"
   ]
  },
  {
   "cell_type": "markdown",
   "metadata": {},
   "source": [
    "Исследуем полученные данные на наличие ошибок. Вообще, потенциально содержащими ошибки столбцами являются столбцы хранящие сведения о продолжительности звонков, а также количество использованного трафика в один сеанс выхода в Интернет. Проверим эти данные, используе простые методы визуализации:"
   ]
  },
  {
   "cell_type": "code",
   "execution_count": 8,
   "metadata": {},
   "outputs": [
    {
     "data": {
      "image/png": "[encoded data removed]",
      "text/plain": [
       "<Figure size 432x288 with 1 Axes>"
      ]
     },
     "metadata": {
      "needs_background": "light"
     },
     "output_type": "display_data"
    },
    {
     "data": {
      "image/png": "[encoded data removed]",
      "text/plain": [
       "<Figure size 432x288 with 1 Axes>"
      ]
     },
     "metadata": {
      "needs_background": "light"
     },
     "output_type": "display_data"
    },
    {
     "name": "stdout",
     "output_type": "stream",
     "text": [
      "count    202607.000000\n",
      "mean          6.755887\n",
      "std           5.843365\n",
      "min           0.000000\n",
      "25%           1.300000\n",
      "50%           6.000000\n",
      "75%          10.700000\n",
      "max          38.000000\n",
      "Name: duration, dtype: float64\n"
     ]
    }
   ],
   "source": [
    "calls.hist('duration', bins=50)   \n",
    "plt.show()\n",
    "calls.boxplot('duration')\n",
    "plt.show()\n",
    "print(calls['duration'].describe())"
   ]
  },
  {
   "cell_type": "code",
   "execution_count": 9,
   "metadata": {},
   "outputs": [
    {
     "data": {
      "image/png": "[encoded data removed]",
      "text/plain": [
       "<Figure size 432x288 with 1 Axes>"
      ]
     },
     "metadata": {
      "needs_background": "light"
     },
     "output_type": "display_data"
    },
    {
     "data": {
      "image/png": "[encoded data removed]",
      "text/plain": [
       "<Figure size 432x288 with 1 Axes>"
      ]
     },
     "metadata": {
      "needs_background": "light"
     },
     "output_type": "display_data"
    },
    {
     "name": "stdout",
     "output_type": "stream",
     "text": [
      "count    149396.000000\n",
      "mean        370.192426\n",
      "std         278.300951\n",
      "min           0.000000\n",
      "25%         138.187500\n",
      "50%         348.015000\n",
      "75%         559.552500\n",
      "max        1724.830000\n",
      "Name: mb_used, dtype: float64\n"
     ]
    }
   ],
   "source": [
    "internet.hist('mb_used', bins=50)     \n",
    "plt.show()\n",
    "internet.boxplot('mb_used')\n",
    "plt.show()\n",
    "print(internet['mb_used'].describe())"
   ]
  },
  {
   "cell_type": "markdown",
   "metadata": {},
   "source": [
    "Как видно из гистограмм данные имеют нормальное распределение и вполне правдаподобные значение (наличие \"артуфактов\" маловероятно), но к сожалению также имеется очень большое количество нулевых значений. Появление таких нулевых значений в столбце с продолжительностью звонков объясняется тем, что в данных содержатся сведения о пропущенных звонках, а пропуски в столбце об использованном трафике возникли предположительно из-за неудачных попыток выйти в сеть. Все эти нулевые значения имеют совершенно естественную природу и вправе существовать. Встает вопрос об удалении таких значений. Я считаю, что удаление совершенно нецелесообразно по многим причинам, прежде всего в этом просто нет необходимости. При дальнейшей обработке, исследовании, анализе и проверке гипотез нулевые значения данных столбцов не окажут никакого негативного влияния, поэтому их можно оставить."
   ]
  },
  {
   "cell_type": "markdown",
   "metadata": {},
   "source": [
    "### Подсчет для каждого пользователя:"
   ]
  },
  {
   "cell_type": "markdown",
   "metadata": {},
   "source": [
    "Преобразуем данные и подсчитаем важные значения о количестве используемых телекоммуникационных ресурсов каждым пользователем в течении месяца:"
   ]
  },
  {
   "cell_type": "markdown",
   "metadata": {},
   "source": [
    "Для начала добавим столбцы с номерами месяца для звонков, сообщений и выходов в Интернет, в целях последующей агрегации"
   ]
  },
  {
   "cell_type": "code",
   "execution_count": 10,
   "metadata": {},
   "outputs": [],
   "source": [
    "calls['month'] = calls['call_date'].dt.month             \n",
    "internet['month'] = internet['session_date'].dt.month\n",
    "messages['month'] = messages['message_date'].dt.month"
   ]
  },
  {
   "cell_type": "markdown",
   "metadata": {},
   "source": [
    "#### Количества сделанных звонков и израсходованных минут"
   ]
  },
  {
   "cell_type": "code",
   "execution_count": 11,
   "metadata": {},
   "outputs": [
    {
     "data": {
      "text/html": [
       "<div>\n",
       "<style scoped>\n",
       "    .dataframe tbody tr th:only-of-type {\n",
       "        vertical-align: middle;\n",
       "    }\n",
       "\n",
       "    .dataframe tbody tr th {\n",
       "        vertical-align: top;\n",
       "    }\n",
       "\n",
       "    .dataframe thead th {\n",
       "        text-align: right;\n",
       "    }\n",
       "</style>\n",
       "<table border=\"1\" class=\"dataframe\">\n",
       "  <thead>\n",
       "    <tr style=\"text-align: right;\">\n",
       "      <th></th>\n",
       "      <th>user_id</th>\n",
       "      <th>month</th>\n",
       "      <th>calls_count</th>\n",
       "      <th>calls_duration</th>\n",
       "    </tr>\n",
       "  </thead>\n",
       "  <tbody>\n",
       "    <tr>\n",
       "      <td>0</td>\n",
       "      <td>1000</td>\n",
       "      <td>5</td>\n",
       "      <td>22</td>\n",
       "      <td>159.0</td>\n",
       "    </tr>\n",
       "    <tr>\n",
       "      <td>1</td>\n",
       "      <td>1000</td>\n",
       "      <td>6</td>\n",
       "      <td>43</td>\n",
       "      <td>172.0</td>\n",
       "    </tr>\n",
       "    <tr>\n",
       "      <td>2</td>\n",
       "      <td>1000</td>\n",
       "      <td>7</td>\n",
       "      <td>47</td>\n",
       "      <td>340.0</td>\n",
       "    </tr>\n",
       "    <tr>\n",
       "      <td>3</td>\n",
       "      <td>1000</td>\n",
       "      <td>8</td>\n",
       "      <td>52</td>\n",
       "      <td>408.0</td>\n",
       "    </tr>\n",
       "    <tr>\n",
       "      <td>4</td>\n",
       "      <td>1000</td>\n",
       "      <td>9</td>\n",
       "      <td>58</td>\n",
       "      <td>466.0</td>\n",
       "    </tr>\n",
       "  </tbody>\n",
       "</table>\n",
       "</div>"
      ],
      "text/plain": [
       "   user_id  month  calls_count  calls_duration\n",
       "0     1000      5           22           159.0\n",
       "1     1000      6           43           172.0\n",
       "2     1000      7           47           340.0\n",
       "3     1000      8           52           408.0\n",
       "4     1000      9           58           466.0"
      ]
     },
     "execution_count": 11,
     "metadata": {},
     "output_type": "execute_result"
    }
   ],
   "source": [
    "calls['duration'] = np.ceil(calls['duration'])\n",
    "calls_stat = calls.groupby(['user_id', 'month']).agg({'id':'count', 'duration':'sum'}).reset_index()\n",
    "calls_stat.columns = ['user_id', 'month', 'calls_count', 'calls_duration']\n",
    "calls_stat.head()              "
   ]
  },
  {
   "cell_type": "markdown",
   "metadata": {},
   "source": [
    "#### Количества отправленных сообщений"
   ]
  },
  {
   "cell_type": "code",
   "execution_count": 12,
   "metadata": {},
   "outputs": [
    {
     "data": {
      "text/html": [
       "<div>\n",
       "<style scoped>\n",
       "    .dataframe tbody tr th:only-of-type {\n",
       "        vertical-align: middle;\n",
       "    }\n",
       "\n",
       "    .dataframe tbody tr th {\n",
       "        vertical-align: top;\n",
       "    }\n",
       "\n",
       "    .dataframe thead th {\n",
       "        text-align: right;\n",
       "    }\n",
       "</style>\n",
       "<table border=\"1\" class=\"dataframe\">\n",
       "  <thead>\n",
       "    <tr style=\"text-align: right;\">\n",
       "      <th></th>\n",
       "      <th>user_id</th>\n",
       "      <th>month</th>\n",
       "      <th>messages_count</th>\n",
       "    </tr>\n",
       "  </thead>\n",
       "  <tbody>\n",
       "    <tr>\n",
       "      <td>0</td>\n",
       "      <td>1000</td>\n",
       "      <td>5</td>\n",
       "      <td>22</td>\n",
       "    </tr>\n",
       "    <tr>\n",
       "      <td>1</td>\n",
       "      <td>1000</td>\n",
       "      <td>6</td>\n",
       "      <td>60</td>\n",
       "    </tr>\n",
       "    <tr>\n",
       "      <td>2</td>\n",
       "      <td>1000</td>\n",
       "      <td>7</td>\n",
       "      <td>75</td>\n",
       "    </tr>\n",
       "    <tr>\n",
       "      <td>3</td>\n",
       "      <td>1000</td>\n",
       "      <td>8</td>\n",
       "      <td>81</td>\n",
       "    </tr>\n",
       "    <tr>\n",
       "      <td>4</td>\n",
       "      <td>1000</td>\n",
       "      <td>9</td>\n",
       "      <td>57</td>\n",
       "    </tr>\n",
       "  </tbody>\n",
       "</table>\n",
       "</div>"
      ],
      "text/plain": [
       "   user_id  month  messages_count\n",
       "0     1000      5              22\n",
       "1     1000      6              60\n",
       "2     1000      7              75\n",
       "3     1000      8              81\n",
       "4     1000      9              57"
      ]
     },
     "execution_count": 12,
     "metadata": {},
     "output_type": "execute_result"
    }
   ],
   "source": [
    "messages_stat = messages.groupby(['user_id', 'month']).agg({'id':'count'}).reset_index()\n",
    "messages_stat.columns = ['user_id', 'month', 'messages_count']\n",
    "messages_stat.head()                                            "
   ]
  },
  {
   "cell_type": "markdown",
   "metadata": {},
   "source": [
    "#### Объема израсходованного Интернет-трафика"
   ]
  },
  {
   "cell_type": "code",
   "execution_count": 13,
   "metadata": {},
   "outputs": [
    {
     "data": {
      "text/html": [
       "<div>\n",
       "<style scoped>\n",
       "    .dataframe tbody tr th:only-of-type {\n",
       "        vertical-align: middle;\n",
       "    }\n",
       "\n",
       "    .dataframe tbody tr th {\n",
       "        vertical-align: top;\n",
       "    }\n",
       "\n",
       "    .dataframe thead th {\n",
       "        text-align: right;\n",
       "    }\n",
       "</style>\n",
       "<table border=\"1\" class=\"dataframe\">\n",
       "  <thead>\n",
       "    <tr style=\"text-align: right;\">\n",
       "      <th></th>\n",
       "      <th>user_id</th>\n",
       "      <th>month</th>\n",
       "      <th>session_count</th>\n",
       "      <th>mb_used_sum</th>\n",
       "    </tr>\n",
       "  </thead>\n",
       "  <tbody>\n",
       "    <tr>\n",
       "      <td>0</td>\n",
       "      <td>1000</td>\n",
       "      <td>5</td>\n",
       "      <td>5</td>\n",
       "      <td>2253.49</td>\n",
       "    </tr>\n",
       "    <tr>\n",
       "      <td>1</td>\n",
       "      <td>1000</td>\n",
       "      <td>6</td>\n",
       "      <td>49</td>\n",
       "      <td>23233.77</td>\n",
       "    </tr>\n",
       "    <tr>\n",
       "      <td>2</td>\n",
       "      <td>1000</td>\n",
       "      <td>7</td>\n",
       "      <td>29</td>\n",
       "      <td>14003.64</td>\n",
       "    </tr>\n",
       "    <tr>\n",
       "      <td>3</td>\n",
       "      <td>1000</td>\n",
       "      <td>8</td>\n",
       "      <td>29</td>\n",
       "      <td>14055.93</td>\n",
       "    </tr>\n",
       "    <tr>\n",
       "      <td>4</td>\n",
       "      <td>1000</td>\n",
       "      <td>9</td>\n",
       "      <td>27</td>\n",
       "      <td>14568.91</td>\n",
       "    </tr>\n",
       "  </tbody>\n",
       "</table>\n",
       "</div>"
      ],
      "text/plain": [
       "   user_id  month  session_count  mb_used_sum\n",
       "0     1000      5              5      2253.49\n",
       "1     1000      6             49     23233.77\n",
       "2     1000      7             29     14003.64\n",
       "3     1000      8             29     14055.93\n",
       "4     1000      9             27     14568.91"
      ]
     },
     "execution_count": 13,
     "metadata": {},
     "output_type": "execute_result"
    }
   ],
   "source": [
    "internet_stat = internet.groupby(['user_id', 'month']).agg({'id':'count', 'mb_used':'sum'}).reset_index()\n",
    "internet_stat.columns = ['user_id', 'month', 'session_count', 'mb_used_sum']\n",
    "internet_stat.head()              "
   ]
  },
  {
   "cell_type": "markdown",
   "metadata": {},
   "source": [
    "#### Прибыли получаемой от пользователя за месяц\n",
    "    \n",
    "Первоначально объединим все имеющиеся датафрэйми в один общий, для удобства вычислений:"
   ]
  },
  {
   "cell_type": "code",
   "execution_count": 14,
   "metadata": {},
   "outputs": [
    {
     "data": {
      "text/html": [
       "<div>\n",
       "<style scoped>\n",
       "    .dataframe tbody tr th:only-of-type {\n",
       "        vertical-align: middle;\n",
       "    }\n",
       "\n",
       "    .dataframe tbody tr th {\n",
       "        vertical-align: top;\n",
       "    }\n",
       "\n",
       "    .dataframe thead th {\n",
       "        text-align: right;\n",
       "    }\n",
       "</style>\n",
       "<table border=\"1\" class=\"dataframe\">\n",
       "  <thead>\n",
       "    <tr style=\"text-align: right;\">\n",
       "      <th></th>\n",
       "      <th>user_id</th>\n",
       "      <th>month</th>\n",
       "      <th>calls_count</th>\n",
       "      <th>calls_duration</th>\n",
       "      <th>messages_count</th>\n",
       "      <th>session_count</th>\n",
       "      <th>mb_used_sum</th>\n",
       "      <th>age</th>\n",
       "      <th>churn_date</th>\n",
       "      <th>city</th>\n",
       "      <th>...</th>\n",
       "      <th>last_name</th>\n",
       "      <th>reg_date</th>\n",
       "      <th>tariff</th>\n",
       "      <th>messages_included</th>\n",
       "      <th>mb_per_month_included</th>\n",
       "      <th>minutes_included</th>\n",
       "      <th>rub_monthly_fee</th>\n",
       "      <th>rub_per_gb</th>\n",
       "      <th>rub_per_message</th>\n",
       "      <th>rub_per_minute</th>\n",
       "    </tr>\n",
       "  </thead>\n",
       "  <tbody>\n",
       "    <tr>\n",
       "      <td>0</td>\n",
       "      <td>1000</td>\n",
       "      <td>5</td>\n",
       "      <td>22.0</td>\n",
       "      <td>159.0</td>\n",
       "      <td>22.0</td>\n",
       "      <td>5.0</td>\n",
       "      <td>2253.49</td>\n",
       "      <td>52</td>\n",
       "      <td>2018-12-31</td>\n",
       "      <td>Краснодар</td>\n",
       "      <td>...</td>\n",
       "      <td>Верещагин</td>\n",
       "      <td>2018-05-25</td>\n",
       "      <td>ultra</td>\n",
       "      <td>1000</td>\n",
       "      <td>30720</td>\n",
       "      <td>3000</td>\n",
       "      <td>1950</td>\n",
       "      <td>150</td>\n",
       "      <td>1</td>\n",
       "      <td>1</td>\n",
       "    </tr>\n",
       "    <tr>\n",
       "      <td>1</td>\n",
       "      <td>1000</td>\n",
       "      <td>6</td>\n",
       "      <td>43.0</td>\n",
       "      <td>172.0</td>\n",
       "      <td>60.0</td>\n",
       "      <td>49.0</td>\n",
       "      <td>23233.77</td>\n",
       "      <td>52</td>\n",
       "      <td>2018-12-31</td>\n",
       "      <td>Краснодар</td>\n",
       "      <td>...</td>\n",
       "      <td>Верещагин</td>\n",
       "      <td>2018-05-25</td>\n",
       "      <td>ultra</td>\n",
       "      <td>1000</td>\n",
       "      <td>30720</td>\n",
       "      <td>3000</td>\n",
       "      <td>1950</td>\n",
       "      <td>150</td>\n",
       "      <td>1</td>\n",
       "      <td>1</td>\n",
       "    </tr>\n",
       "    <tr>\n",
       "      <td>2</td>\n",
       "      <td>1000</td>\n",
       "      <td>7</td>\n",
       "      <td>47.0</td>\n",
       "      <td>340.0</td>\n",
       "      <td>75.0</td>\n",
       "      <td>29.0</td>\n",
       "      <td>14003.64</td>\n",
       "      <td>52</td>\n",
       "      <td>2018-12-31</td>\n",
       "      <td>Краснодар</td>\n",
       "      <td>...</td>\n",
       "      <td>Верещагин</td>\n",
       "      <td>2018-05-25</td>\n",
       "      <td>ultra</td>\n",
       "      <td>1000</td>\n",
       "      <td>30720</td>\n",
       "      <td>3000</td>\n",
       "      <td>1950</td>\n",
       "      <td>150</td>\n",
       "      <td>1</td>\n",
       "      <td>1</td>\n",
       "    </tr>\n",
       "    <tr>\n",
       "      <td>3</td>\n",
       "      <td>1000</td>\n",
       "      <td>8</td>\n",
       "      <td>52.0</td>\n",
       "      <td>408.0</td>\n",
       "      <td>81.0</td>\n",
       "      <td>29.0</td>\n",
       "      <td>14055.93</td>\n",
       "      <td>52</td>\n",
       "      <td>2018-12-31</td>\n",
       "      <td>Краснодар</td>\n",
       "      <td>...</td>\n",
       "      <td>Верещагин</td>\n",
       "      <td>2018-05-25</td>\n",
       "      <td>ultra</td>\n",
       "      <td>1000</td>\n",
       "      <td>30720</td>\n",
       "      <td>3000</td>\n",
       "      <td>1950</td>\n",
       "      <td>150</td>\n",
       "      <td>1</td>\n",
       "      <td>1</td>\n",
       "    </tr>\n",
       "    <tr>\n",
       "      <td>4</td>\n",
       "      <td>1000</td>\n",
       "      <td>9</td>\n",
       "      <td>58.0</td>\n",
       "      <td>466.0</td>\n",
       "      <td>57.0</td>\n",
       "      <td>27.0</td>\n",
       "      <td>14568.91</td>\n",
       "      <td>52</td>\n",
       "      <td>2018-12-31</td>\n",
       "      <td>Краснодар</td>\n",
       "      <td>...</td>\n",
       "      <td>Верещагин</td>\n",
       "      <td>2018-05-25</td>\n",
       "      <td>ultra</td>\n",
       "      <td>1000</td>\n",
       "      <td>30720</td>\n",
       "      <td>3000</td>\n",
       "      <td>1950</td>\n",
       "      <td>150</td>\n",
       "      <td>1</td>\n",
       "      <td>1</td>\n",
       "    </tr>\n",
       "  </tbody>\n",
       "</table>\n",
       "<p>5 rows × 21 columns</p>\n",
       "</div>"
      ],
      "text/plain": [
       "   user_id  month  calls_count  calls_duration  messages_count  session_count  \\\n",
       "0     1000      5         22.0           159.0            22.0            5.0   \n",
       "1     1000      6         43.0           172.0            60.0           49.0   \n",
       "2     1000      7         47.0           340.0            75.0           29.0   \n",
       "3     1000      8         52.0           408.0            81.0           29.0   \n",
       "4     1000      9         58.0           466.0            57.0           27.0   \n",
       "\n",
       "   mb_used_sum  age churn_date       city  ...  last_name   reg_date tariff  \\\n",
       "0      2253.49   52 2018-12-31  Краснодар  ...  Верещагин 2018-05-25  ultra   \n",
       "1     23233.77   52 2018-12-31  Краснодар  ...  Верещагин 2018-05-25  ultra   \n",
       "2     14003.64   52 2018-12-31  Краснодар  ...  Верещагин 2018-05-25  ultra   \n",
       "3     14055.93   52 2018-12-31  Краснодар  ...  Верещагин 2018-05-25  ultra   \n",
       "4     14568.91   52 2018-12-31  Краснодар  ...  Верещагин 2018-05-25  ultra   \n",
       "\n",
       "  messages_included  mb_per_month_included  minutes_included  rub_monthly_fee  \\\n",
       "0              1000                  30720              3000             1950   \n",
       "1              1000                  30720              3000             1950   \n",
       "2              1000                  30720              3000             1950   \n",
       "3              1000                  30720              3000             1950   \n",
       "4              1000                  30720              3000             1950   \n",
       "\n",
       "   rub_per_gb  rub_per_message  rub_per_minute  \n",
       "0         150                1               1  \n",
       "1         150                1               1  \n",
       "2         150                1               1  \n",
       "3         150                1               1  \n",
       "4         150                1               1  \n",
       "\n",
       "[5 rows x 21 columns]"
      ]
     },
     "execution_count": 14,
     "metadata": {},
     "output_type": "execute_result"
    }
   ],
   "source": [
    "df = calls_stat.merge(messages_stat, on=['user_id', 'month'], how='outer')\n",
    "df = df.merge(internet_stat, on=['user_id', 'month'], how='outer')\n",
    "df = df.merge(users, on='user_id', how='left')\n",
    "tariffs = tariffs.rename(columns={'tariff_name':'tariff'})\n",
    "df = df.merge(tariffs, on='tariff', how='left')\n",
    "df.head()"
   ]
  },
  {
   "cell_type": "markdown",
   "metadata": {},
   "source": [
    "Теперь у нас имеется один общий датафрэм который объединяет все необходимые седения. Произведем небольщую доработку значений хранящихся в столбцах"
   ]
  },
  {
   "cell_type": "code",
   "execution_count": 15,
   "metadata": {},
   "outputs": [],
   "source": [
    "df = df.fillna(0)                                                "
   ]
  },
  {
   "cell_type": "markdown",
   "metadata": {},
   "source": [
    "Заполнение пропусков нулями подходит потому, что во-первых это позволяет произвести расчет ежемесячной прибыли с каждого пользователя без возникновения ошибок, при том что нулевые значения не искажают данные, а во-вторых сам факт того, что абоненты не использовали доступные ресурсы тарифа, при замене на значение ноль, будет отражен при построении гистограм и использован при анализе данных."
   ]
  },
  {
   "cell_type": "markdown",
   "metadata": {},
   "source": [
    "Переведем значения представленные в Mb в значения в Gb. И округлим потраченных трафик и время продолжительности звонков до целых значений методом ceil, для последующего подсчета выручки получаемой с одного абонента в месяц по условиям оператора: "
   ]
  },
  {
   "cell_type": "code",
   "execution_count": 16,
   "metadata": {},
   "outputs": [
    {
     "data": {
      "text/html": [
       "<div>\n",
       "<style scoped>\n",
       "    .dataframe tbody tr th:only-of-type {\n",
       "        vertical-align: middle;\n",
       "    }\n",
       "\n",
       "    .dataframe tbody tr th {\n",
       "        vertical-align: top;\n",
       "    }\n",
       "\n",
       "    .dataframe thead th {\n",
       "        text-align: right;\n",
       "    }\n",
       "</style>\n",
       "<table border=\"1\" class=\"dataframe\">\n",
       "  <thead>\n",
       "    <tr style=\"text-align: right;\">\n",
       "      <th></th>\n",
       "      <th>user_id</th>\n",
       "      <th>month</th>\n",
       "      <th>calls_count</th>\n",
       "      <th>calls_duration</th>\n",
       "      <th>messages_count</th>\n",
       "      <th>session_count</th>\n",
       "      <th>gb_used_sum</th>\n",
       "      <th>age</th>\n",
       "      <th>churn_date</th>\n",
       "      <th>city</th>\n",
       "      <th>...</th>\n",
       "      <th>last_name</th>\n",
       "      <th>reg_date</th>\n",
       "      <th>tariff</th>\n",
       "      <th>messages_included</th>\n",
       "      <th>mb_per_month_included</th>\n",
       "      <th>minutes_included</th>\n",
       "      <th>rub_monthly_fee</th>\n",
       "      <th>rub_per_gb</th>\n",
       "      <th>rub_per_message</th>\n",
       "      <th>rub_per_minute</th>\n",
       "    </tr>\n",
       "  </thead>\n",
       "  <tbody>\n",
       "    <tr>\n",
       "      <td>0</td>\n",
       "      <td>1000</td>\n",
       "      <td>5</td>\n",
       "      <td>22</td>\n",
       "      <td>159</td>\n",
       "      <td>22</td>\n",
       "      <td>5</td>\n",
       "      <td>3</td>\n",
       "      <td>52</td>\n",
       "      <td>2018-12-31</td>\n",
       "      <td>Краснодар</td>\n",
       "      <td>...</td>\n",
       "      <td>Верещагин</td>\n",
       "      <td>2018-05-25</td>\n",
       "      <td>ultra</td>\n",
       "      <td>1000</td>\n",
       "      <td>30720</td>\n",
       "      <td>3000</td>\n",
       "      <td>1950</td>\n",
       "      <td>150</td>\n",
       "      <td>1</td>\n",
       "      <td>1</td>\n",
       "    </tr>\n",
       "    <tr>\n",
       "      <td>1</td>\n",
       "      <td>1000</td>\n",
       "      <td>6</td>\n",
       "      <td>43</td>\n",
       "      <td>172</td>\n",
       "      <td>60</td>\n",
       "      <td>49</td>\n",
       "      <td>23</td>\n",
       "      <td>52</td>\n",
       "      <td>2018-12-31</td>\n",
       "      <td>Краснодар</td>\n",
       "      <td>...</td>\n",
       "      <td>Верещагин</td>\n",
       "      <td>2018-05-25</td>\n",
       "      <td>ultra</td>\n",
       "      <td>1000</td>\n",
       "      <td>30720</td>\n",
       "      <td>3000</td>\n",
       "      <td>1950</td>\n",
       "      <td>150</td>\n",
       "      <td>1</td>\n",
       "      <td>1</td>\n",
       "    </tr>\n",
       "    <tr>\n",
       "      <td>2</td>\n",
       "      <td>1000</td>\n",
       "      <td>7</td>\n",
       "      <td>47</td>\n",
       "      <td>340</td>\n",
       "      <td>75</td>\n",
       "      <td>29</td>\n",
       "      <td>14</td>\n",
       "      <td>52</td>\n",
       "      <td>2018-12-31</td>\n",
       "      <td>Краснодар</td>\n",
       "      <td>...</td>\n",
       "      <td>Верещагин</td>\n",
       "      <td>2018-05-25</td>\n",
       "      <td>ultra</td>\n",
       "      <td>1000</td>\n",
       "      <td>30720</td>\n",
       "      <td>3000</td>\n",
       "      <td>1950</td>\n",
       "      <td>150</td>\n",
       "      <td>1</td>\n",
       "      <td>1</td>\n",
       "    </tr>\n",
       "    <tr>\n",
       "      <td>3</td>\n",
       "      <td>1000</td>\n",
       "      <td>8</td>\n",
       "      <td>52</td>\n",
       "      <td>408</td>\n",
       "      <td>81</td>\n",
       "      <td>29</td>\n",
       "      <td>14</td>\n",
       "      <td>52</td>\n",
       "      <td>2018-12-31</td>\n",
       "      <td>Краснодар</td>\n",
       "      <td>...</td>\n",
       "      <td>Верещагин</td>\n",
       "      <td>2018-05-25</td>\n",
       "      <td>ultra</td>\n",
       "      <td>1000</td>\n",
       "      <td>30720</td>\n",
       "      <td>3000</td>\n",
       "      <td>1950</td>\n",
       "      <td>150</td>\n",
       "      <td>1</td>\n",
       "      <td>1</td>\n",
       "    </tr>\n",
       "    <tr>\n",
       "      <td>4</td>\n",
       "      <td>1000</td>\n",
       "      <td>9</td>\n",
       "      <td>58</td>\n",
       "      <td>466</td>\n",
       "      <td>57</td>\n",
       "      <td>27</td>\n",
       "      <td>15</td>\n",
       "      <td>52</td>\n",
       "      <td>2018-12-31</td>\n",
       "      <td>Краснодар</td>\n",
       "      <td>...</td>\n",
       "      <td>Верещагин</td>\n",
       "      <td>2018-05-25</td>\n",
       "      <td>ultra</td>\n",
       "      <td>1000</td>\n",
       "      <td>30720</td>\n",
       "      <td>3000</td>\n",
       "      <td>1950</td>\n",
       "      <td>150</td>\n",
       "      <td>1</td>\n",
       "      <td>1</td>\n",
       "    </tr>\n",
       "  </tbody>\n",
       "</table>\n",
       "<p>5 rows × 21 columns</p>\n",
       "</div>"
      ],
      "text/plain": [
       "   user_id  month  calls_count  calls_duration  messages_count  session_count  \\\n",
       "0     1000      5           22             159              22              5   \n",
       "1     1000      6           43             172              60             49   \n",
       "2     1000      7           47             340              75             29   \n",
       "3     1000      8           52             408              81             29   \n",
       "4     1000      9           58             466              57             27   \n",
       "\n",
       "   gb_used_sum  age churn_date       city  ...  last_name   reg_date tariff  \\\n",
       "0            3   52 2018-12-31  Краснодар  ...  Верещагин 2018-05-25  ultra   \n",
       "1           23   52 2018-12-31  Краснодар  ...  Верещагин 2018-05-25  ultra   \n",
       "2           14   52 2018-12-31  Краснодар  ...  Верещагин 2018-05-25  ultra   \n",
       "3           14   52 2018-12-31  Краснодар  ...  Верещагин 2018-05-25  ultra   \n",
       "4           15   52 2018-12-31  Краснодар  ...  Верещагин 2018-05-25  ultra   \n",
       "\n",
       "  messages_included  mb_per_month_included  minutes_included  rub_monthly_fee  \\\n",
       "0              1000                  30720              3000             1950   \n",
       "1              1000                  30720              3000             1950   \n",
       "2              1000                  30720              3000             1950   \n",
       "3              1000                  30720              3000             1950   \n",
       "4              1000                  30720              3000             1950   \n",
       "\n",
       "   rub_per_gb  rub_per_message  rub_per_minute  \n",
       "0         150                1               1  \n",
       "1         150                1               1  \n",
       "2         150                1               1  \n",
       "3         150                1               1  \n",
       "4         150                1               1  \n",
       "\n",
       "[5 rows x 21 columns]"
      ]
     },
     "execution_count": 16,
     "metadata": {},
     "output_type": "execute_result"
    }
   ],
   "source": [
    "df['mb_used_sum'] = np.ceil(df['mb_used_sum'] / 1024)  \n",
    "df = df.rename(columns={'mb_used_sum':'gb_used_sum'})\n",
    "df[['calls_duration', 'gb_used_sum', 'calls_count', 'messages_count', 'session_count']] = df[['calls_duration', 'gb_used_sum', 'calls_count', 'messages_count', 'session_count']].astype('int')\n",
    "df.head()"
   ]
  },
  {
   "cell_type": "code",
   "execution_count": 17,
   "metadata": {},
   "outputs": [
    {
     "data": {
      "text/html": [
       "<div>\n",
       "<style scoped>\n",
       "    .dataframe tbody tr th:only-of-type {\n",
       "        vertical-align: middle;\n",
       "    }\n",
       "\n",
       "    .dataframe tbody tr th {\n",
       "        vertical-align: top;\n",
       "    }\n",
       "\n",
       "    .dataframe thead th {\n",
       "        text-align: right;\n",
       "    }\n",
       "</style>\n",
       "<table border=\"1\" class=\"dataframe\">\n",
       "  <thead>\n",
       "    <tr style=\"text-align: right;\">\n",
       "      <th></th>\n",
       "      <th>user_id</th>\n",
       "      <th>month</th>\n",
       "      <th>calls_count</th>\n",
       "      <th>calls_duration</th>\n",
       "      <th>messages_count</th>\n",
       "      <th>session_count</th>\n",
       "      <th>gb_used_sum</th>\n",
       "      <th>age</th>\n",
       "      <th>churn_date</th>\n",
       "      <th>city</th>\n",
       "      <th>...</th>\n",
       "      <th>reg_date</th>\n",
       "      <th>tariff</th>\n",
       "      <th>messages_included</th>\n",
       "      <th>mb_per_month_included</th>\n",
       "      <th>minutes_included</th>\n",
       "      <th>rub_monthly_fee</th>\n",
       "      <th>rub_per_gb</th>\n",
       "      <th>rub_per_message</th>\n",
       "      <th>rub_per_minute</th>\n",
       "      <th>income</th>\n",
       "    </tr>\n",
       "  </thead>\n",
       "  <tbody>\n",
       "    <tr>\n",
       "      <td>0</td>\n",
       "      <td>1000</td>\n",
       "      <td>5</td>\n",
       "      <td>22</td>\n",
       "      <td>159</td>\n",
       "      <td>22</td>\n",
       "      <td>5</td>\n",
       "      <td>3</td>\n",
       "      <td>52</td>\n",
       "      <td>2018-12-31</td>\n",
       "      <td>Краснодар</td>\n",
       "      <td>...</td>\n",
       "      <td>2018-05-25</td>\n",
       "      <td>ultra</td>\n",
       "      <td>1000</td>\n",
       "      <td>30720</td>\n",
       "      <td>3000</td>\n",
       "      <td>1950</td>\n",
       "      <td>150</td>\n",
       "      <td>1</td>\n",
       "      <td>1</td>\n",
       "      <td>1950</td>\n",
       "    </tr>\n",
       "    <tr>\n",
       "      <td>1</td>\n",
       "      <td>1000</td>\n",
       "      <td>6</td>\n",
       "      <td>43</td>\n",
       "      <td>172</td>\n",
       "      <td>60</td>\n",
       "      <td>49</td>\n",
       "      <td>23</td>\n",
       "      <td>52</td>\n",
       "      <td>2018-12-31</td>\n",
       "      <td>Краснодар</td>\n",
       "      <td>...</td>\n",
       "      <td>2018-05-25</td>\n",
       "      <td>ultra</td>\n",
       "      <td>1000</td>\n",
       "      <td>30720</td>\n",
       "      <td>3000</td>\n",
       "      <td>1950</td>\n",
       "      <td>150</td>\n",
       "      <td>1</td>\n",
       "      <td>1</td>\n",
       "      <td>1950</td>\n",
       "    </tr>\n",
       "    <tr>\n",
       "      <td>2</td>\n",
       "      <td>1000</td>\n",
       "      <td>7</td>\n",
       "      <td>47</td>\n",
       "      <td>340</td>\n",
       "      <td>75</td>\n",
       "      <td>29</td>\n",
       "      <td>14</td>\n",
       "      <td>52</td>\n",
       "      <td>2018-12-31</td>\n",
       "      <td>Краснодар</td>\n",
       "      <td>...</td>\n",
       "      <td>2018-05-25</td>\n",
       "      <td>ultra</td>\n",
       "      <td>1000</td>\n",
       "      <td>30720</td>\n",
       "      <td>3000</td>\n",
       "      <td>1950</td>\n",
       "      <td>150</td>\n",
       "      <td>1</td>\n",
       "      <td>1</td>\n",
       "      <td>1950</td>\n",
       "    </tr>\n",
       "    <tr>\n",
       "      <td>3</td>\n",
       "      <td>1000</td>\n",
       "      <td>8</td>\n",
       "      <td>52</td>\n",
       "      <td>408</td>\n",
       "      <td>81</td>\n",
       "      <td>29</td>\n",
       "      <td>14</td>\n",
       "      <td>52</td>\n",
       "      <td>2018-12-31</td>\n",
       "      <td>Краснодар</td>\n",
       "      <td>...</td>\n",
       "      <td>2018-05-25</td>\n",
       "      <td>ultra</td>\n",
       "      <td>1000</td>\n",
       "      <td>30720</td>\n",
       "      <td>3000</td>\n",
       "      <td>1950</td>\n",
       "      <td>150</td>\n",
       "      <td>1</td>\n",
       "      <td>1</td>\n",
       "      <td>1950</td>\n",
       "    </tr>\n",
       "    <tr>\n",
       "      <td>4</td>\n",
       "      <td>1000</td>\n",
       "      <td>9</td>\n",
       "      <td>58</td>\n",
       "      <td>466</td>\n",
       "      <td>57</td>\n",
       "      <td>27</td>\n",
       "      <td>15</td>\n",
       "      <td>52</td>\n",
       "      <td>2018-12-31</td>\n",
       "      <td>Краснодар</td>\n",
       "      <td>...</td>\n",
       "      <td>2018-05-25</td>\n",
       "      <td>ultra</td>\n",
       "      <td>1000</td>\n",
       "      <td>30720</td>\n",
       "      <td>3000</td>\n",
       "      <td>1950</td>\n",
       "      <td>150</td>\n",
       "      <td>1</td>\n",
       "      <td>1</td>\n",
       "      <td>1950</td>\n",
       "    </tr>\n",
       "  </tbody>\n",
       "</table>\n",
       "<p>5 rows × 22 columns</p>\n",
       "</div>"
      ],
      "text/plain": [
       "   user_id  month  calls_count  calls_duration  messages_count  session_count  \\\n",
       "0     1000      5           22             159              22              5   \n",
       "1     1000      6           43             172              60             49   \n",
       "2     1000      7           47             340              75             29   \n",
       "3     1000      8           52             408              81             29   \n",
       "4     1000      9           58             466              57             27   \n",
       "\n",
       "   gb_used_sum  age churn_date       city  ...   reg_date tariff  \\\n",
       "0            3   52 2018-12-31  Краснодар  ... 2018-05-25  ultra   \n",
       "1           23   52 2018-12-31  Краснодар  ... 2018-05-25  ultra   \n",
       "2           14   52 2018-12-31  Краснодар  ... 2018-05-25  ultra   \n",
       "3           14   52 2018-12-31  Краснодар  ... 2018-05-25  ultra   \n",
       "4           15   52 2018-12-31  Краснодар  ... 2018-05-25  ultra   \n",
       "\n",
       "  messages_included mb_per_month_included  minutes_included  rub_monthly_fee  \\\n",
       "0              1000                 30720              3000             1950   \n",
       "1              1000                 30720              3000             1950   \n",
       "2              1000                 30720              3000             1950   \n",
       "3              1000                 30720              3000             1950   \n",
       "4              1000                 30720              3000             1950   \n",
       "\n",
       "   rub_per_gb  rub_per_message  rub_per_minute  income  \n",
       "0         150                1               1    1950  \n",
       "1         150                1               1    1950  \n",
       "2         150                1               1    1950  \n",
       "3         150                1               1    1950  \n",
       "4         150                1               1    1950  \n",
       "\n",
       "[5 rows x 22 columns]"
      ]
     },
     "execution_count": 17,
     "metadata": {},
     "output_type": "execute_result"
    }
   ],
   "source": [
    "def income_per_month(row):           #функция по расчету помесячной выручки с каждого пользователя по условиям тарифа\n",
    "    income = 0\n",
    "    srow = [row['calls_duration'], row['messages_count'], row['gb_used_sum']]\n",
    "    if row['tariff'] == 'ultra':\n",
    "        income = 1950\n",
    "        tariff_u = [3000, 1000, 30]\n",
    "        price_u = [1, 1, 150]\n",
    "        for i in range(3):\n",
    "            if srow[i] >= tariff_u[i]:\n",
    "                income += (srow[i] - tariff_u[i]) * price_u[i]\n",
    "    else:\n",
    "        income = 550\n",
    "        tariff_s = [500, 50, 15]\n",
    "        price_s = [3, 3, 200]\n",
    "        for i in range(3):\n",
    "            if srow[i] >= tariff_s[i]:\n",
    "                income += (srow[i] - tariff_s[i]) * price_s[i]\n",
    "    return income\n",
    "\n",
    "df['income'] = df.apply(income_per_month, axis=1)\n",
    "df = df.sort_values(['user_id', 'month']).reset_index(drop=True)\n",
    "df.head()"
   ]
  },
  {
   "cell_type": "markdown",
   "metadata": {},
   "source": [
    "### Вывод\n",
    "Предобработка всех данных завершена, теперь все данные пригодны для анализа, а так же для выполнения самого важного пункта проекта - проверки гипотез."
   ]
  },
  {
   "cell_type": "markdown",
   "metadata": {},
   "source": [
    "## Анализ данных\n",
    "Постараемся описать поведение клиентов оператора, проанализировав количества минут разговора, число сообщений и какой объём интернет-трафика используется пользователям каждого тарифа в месяц."
   ]
  },
  {
   "cell_type": "code",
   "execution_count": 18,
   "metadata": {},
   "outputs": [
    {
     "name": "stdout",
     "output_type": "stream",
     "text": [
      "Распределение данных messages_count:\n"
     ]
    },
    {
     "data": {
      "image/png": "[encoded data removed]",
      "text/plain": [
       "<Figure size 432x288 with 1 Axes>"
      ]
     },
     "metadata": {
      "needs_background": "light"
     },
     "output_type": "display_data"
    },
    {
     "data": {
      "image/png": "[encoded data removed]",
      "text/plain": [
       "<Figure size 432x288 with 1 Axes>"
      ]
     },
     "metadata": {
      "needs_background": "light"
     },
     "output_type": "display_data"
    },
    {
     "name": "stdout",
     "output_type": "stream",
     "text": [
      "Дисперсия: 1306.294876297654\n",
      "count    3214.000000\n",
      "mean       38.281269\n",
      "std        36.148326\n",
      "min         0.000000\n",
      "25%         9.000000\n",
      "50%        30.000000\n",
      "75%        57.000000\n",
      "max       224.000000\n",
      "Name: messages_count, dtype: float64\n",
      "\n",
      "Распределение данных gb_used_sum:\n"
     ]
    },
    {
     "data": {
      "image/png": "[encoded data removed]",
      "text/plain": [
       "<Figure size 432x288 with 1 Axes>"
      ]
     },
     "metadata": {
      "needs_background": "light"
     },
     "output_type": "display_data"
    },
    {
     "data": {
      "image/png": "[encoded data removed]",
      "text/plain": [
       "<Figure size 432x288 with 1 Axes>"
      ]
     },
     "metadata": {
      "needs_background": "light"
     },
     "output_type": "display_data"
    },
    {
     "name": "stdout",
     "output_type": "stream",
     "text": [
      "Дисперсия: 54.751604484735225\n",
      "count    3214.000000\n",
      "mean       17.299004\n",
      "std         7.400584\n",
      "min         0.000000\n",
      "25%        13.000000\n",
      "50%        17.000000\n",
      "75%        21.000000\n",
      "max        49.000000\n",
      "Name: gb_used_sum, dtype: float64\n",
      "\n",
      "Распределение данных calls_duration:\n"
     ]
    },
    {
     "data": {
      "image/png": "[encoded data removed]",
      "text/plain": [
       "<Figure size 432x288 with 1 Axes>"
      ]
     },
     "metadata": {
      "needs_background": "light"
     },
     "output_type": "display_data"
    },
    {
     "data": {
      "image/png": "[encoded data removed]",
      "text/plain": [
       "<Figure size 432x288 with 1 Axes>"
      ]
     },
     "metadata": {
      "needs_background": "light"
     },
     "output_type": "display_data"
    },
    {
     "name": "stdout",
     "output_type": "stream",
     "text": [
      "Дисперсия: 58502.22971073195\n",
      "count    3214.000000\n",
      "mean      451.244866\n",
      "std       241.909978\n",
      "min         0.000000\n",
      "25%       282.000000\n",
      "50%       443.000000\n",
      "75%       589.000000\n",
      "max      1673.000000\n",
      "Name: calls_duration, dtype: float64\n",
      "\n"
     ]
    }
   ],
   "source": [
    "for i in ['messages_count', 'gb_used_sum', 'calls_duration']:\n",
    "    print(f'Распределение данных {i}:')\n",
    "    df.hist(i, bins=50)\n",
    "    plt.show()\n",
    "    df.boxplot(i)\n",
    "    plt.show()\n",
    "    print('Дисперсия:', np.var(df[i]))\n",
    "    print(df[i].describe())\n",
    "    print()"
   ]
  },
  {
   "cell_type": "markdown",
   "metadata": {},
   "source": [
    "Проанализируем показатели дохода, и определим пользователи какого тарифа чаще выходя за пределы установленного лимита:"
   ]
  },
  {
   "cell_type": "code",
   "execution_count": 19,
   "metadata": {},
   "outputs": [
    {
     "data": {
      "image/png": "[encoded data removed]",
      "text/plain": [
       "<Figure size 432x288 with 1 Axes>"
      ]
     },
     "metadata": {
      "needs_background": "light"
     },
     "output_type": "display_data"
    },
    {
     "data": {
      "image/png": "[encoded data removed]",
      "text/plain": [
       "<Figure size 432x288 with 1 Axes>"
      ]
     },
     "metadata": {
      "needs_background": "light"
     },
     "output_type": "display_data"
    },
    {
     "name": "stdout",
     "output_type": "stream",
     "text": [
      "Дисперсия: 141373.07325620347\n",
      "count     985.000000\n",
      "mean     2070.152284\n",
      "std       376.187114\n",
      "min      1950.000000\n",
      "25%      1950.000000\n",
      "50%      1950.000000\n",
      "75%      1950.000000\n",
      "max      4800.000000\n",
      "Name: income, dtype: float64\n"
     ]
    }
   ],
   "source": [
    "income_u = df.query('tariff == \"ultra\"')\n",
    "income_u.hist('income', bins=50)\n",
    "plt.show()\n",
    "income_u.boxplot('income')\n",
    "plt.show()\n",
    "print('Дисперсия:', np.var(income_u['income']))\n",
    "print(income_u['income'].describe())"
   ]
  },
  {
   "cell_type": "code",
   "execution_count": 20,
   "metadata": {},
   "outputs": [
    {
     "data": {
      "image/png": "[encoded data removed]",
      "text/plain": [
       "<Figure size 432x288 with 1 Axes>"
      ]
     },
     "metadata": {
      "needs_background": "light"
     },
     "output_type": "display_data"
    },
    {
     "data": {
      "image/png": "[encoded data removed]",
      "text/plain": [
       "<Figure size 432x288 with 1 Axes>"
      ]
     },
     "metadata": {
      "needs_background": "light"
     },
     "output_type": "display_data"
    },
    {
     "name": "stdout",
     "output_type": "stream",
     "text": [
      "Дисперсия: 669485.2209234245\n",
      "count    2229.000000\n",
      "mean     1289.973531\n",
      "std       818.404367\n",
      "min       550.000000\n",
      "25%       550.000000\n",
      "50%      1023.000000\n",
      "75%      1750.000000\n",
      "max      6770.000000\n",
      "Name: income, dtype: float64\n"
     ]
    }
   ],
   "source": [
    "income_s = df.query('tariff == \"smart\"')\n",
    "income_s.hist('income', bins=50)\n",
    "plt.show()\n",
    "income_s.boxplot('income')\n",
    "plt.show()\n",
    "print('Дисперсия:', np.var(income_s['income']))\n",
    "print(income_s['income'].describe())"
   ]
  },
  {
   "cell_type": "code",
   "execution_count": 21,
   "metadata": {},
   "outputs": [
    {
     "data": {
      "image/png": "[encoded data removed]",
      "text/plain": [
       "<Figure size 432x288 with 1 Axes>"
      ]
     },
     "metadata": {
      "needs_background": "light"
     },
     "output_type": "display_data"
    }
   ],
   "source": [
    "df.query('tariff == \"smart\"')['income'].hist(bins=40, label='smart', alpha=0.7)\n",
    "df.query('tariff == \"ultra\"')['income'].hist(bins=30, label='ultra')\n",
    "plt.legend(loc='upper right')\n",
    "plt.title('распределение месячного потребления минут в разрезе тарифов')\n",
    "plt.xlabel('количество минут')\n",
    "plt.ylabel('количество пользователей')\n",
    "plt.show()"
   ]
  },
  {
   "cell_type": "code",
   "execution_count": 22,
   "metadata": {},
   "outputs": [
    {
     "data": {
      "image/png": "[encoded data removed]",
      "text/plain": [
       "<Figure size 432x288 with 1 Axes>"
      ]
     },
     "metadata": {
      "needs_background": "light"
     },
     "output_type": "display_data"
    }
   ],
   "source": [
    "df.boxplot(column='income', by='tariff')\n",
    "plt.show()"
   ]
  },
  {
   "cell_type": "code",
   "execution_count": 23,
   "metadata": {},
   "outputs": [
    {
     "data": {
      "image/png": "[encoded data removed]",
      "text/plain": [
       "<Figure size 432x288 with 1 Axes>"
      ]
     },
     "metadata": {
      "needs_background": "light"
     },
     "output_type": "display_data"
    }
   ],
   "source": [
    "df.query('tariff == \"smart\"')['calls_duration'].hist(bins=50, label='smart')\n",
    "df.query('tariff == \"ultra\"')['calls_duration'].hist(bins=50, label='ultra', alpha=0.7)\n",
    "plt.legend(loc='upper right')\n",
    "plt.title('Распределение месячного потребления минут в разрезе тарифов')\n",
    "plt.xlabel('Количество минут')\n",
    "plt.ylabel('Количество пользователей')\n",
    "plt.show()"
   ]
  },
  {
   "cell_type": "code",
   "execution_count": 32,
   "metadata": {},
   "outputs": [
    {
     "data": {
      "image/png": "[encoded data removed]",
      "text/plain": [
       "<Figure size 432x288 with 1 Axes>"
      ]
     },
     "metadata": {
      "needs_background": "light"
     },
     "output_type": "display_data"
    }
   ],
   "source": [
    "df.boxplot(column='calls_duration', by='tariff')\n",
    "plt.xlabel('Тарифы')\n",
    "plt.show()"
   ]
  },
  {
   "cell_type": "markdown",
   "metadata": {},
   "source": [
    "###  Вывод\n",
    "Исследовательский анализ данных произведен. По итогам можно сказать, что все наборы данных имеют распределение близкое к нормальному. Больше всего к нормальному расределению тяготеет выборка из данных по использованному Интернет-трафику, даже почти симметрична. Распределение данных по звонкам также очень сильно напоминает нормальное распределение, за исключением небольшого смещения вправо и наличия относительно небольшого,но выделяющего количества нулевых значений. А вот данные по количеству сообщений отправленных пользователями за месяц, прямо кишат большим количеством нулевых значений. Подводя итог, хочется сказать, что интересы пользователей растут в направлении Интернет ресурсов, отсюда и возникают нулевые значения в данных по сообщениям и звонкам, люди просто перестают использовать данный вид связи, поскольку Интернет более идобен и заменяет функции звонков и сообщений. Этот фактор просто необходимо учитывать при дальнейшем создании новых тарифов."
   ]
  },
  {
   "cell_type": "markdown",
   "metadata": {},
   "source": [
    "## Проверка гипотез"
   ]
  },
  {
   "cell_type": "markdown",
   "metadata": {},
   "source": [
    "Данный проект имеет главную цель - это проверка важных гипотез, которые важны для последующего формирования ценовой политики данного оператора."
   ]
  },
  {
   "cell_type": "markdown",
   "metadata": {},
   "source": [
    "### Проверка гипотезы: средняя выручка пользователей тарифов \"Ультра\" и \"Смарт\" различаются"
   ]
  },
  {
   "cell_type": "markdown",
   "metadata": {},
   "source": [
    "Для оператора важно знать различается ли средняя выручка получаемая от пользователей разных тарифов. Используя статистический метод анализа данных, проверим имеет ли место быть данная теория либо ее стоит отвергнуть.\n",
    "\n",
    "Прежде всего нужно строго сформулировать нулевую и альтернативную ей теории:\n",
    "\n",
    "Нулевая теория(Н0) - средняя выручка пользователей различных тарифов **равна**\n",
    "\n",
    "Альтернативная теория(Н1) - средняя выручка с различных тарифов **не равна**"
   ]
  },
  {
   "cell_type": "code",
   "execution_count": 25,
   "metadata": {},
   "outputs": [
    {
     "name": "stdout",
     "output_type": "stream",
     "text": [
      "p-значение: 1.4229814360764067e-160\n",
      "Отвергаем нулевую гипотезу.\n"
     ]
    }
   ],
   "source": [
    "array_u = df.query('tariff == \"ultra\"')['income']\n",
    "array_s = df.query('tariff == \"smart\"')['income']\n",
    "\n",
    "alpha = 0.05\n",
    "\n",
    "results = st.ttest_ind(array_u, array_s)\n",
    "\n",
    "print('p-значение:', results.pvalue)\n",
    "\n",
    "if results.pvalue < alpha:\n",
    "    print('Отвергаем нулевую гипотезу.')\n",
    "else:\n",
    "    print('Не удалось отвергнуть нулевую гипотезу.')"
   ]
  },
  {
   "cell_type": "markdown",
   "metadata": {},
   "source": [
    "По итогу проверки нулевой гипотезы получено очень маленькое р-значение, в данном случае даже не стоит вопрос об изменении уровня статистической значимости. По этому нулевая однозначно отвергнута. Из чего можно сделать вывод, что средний доход в месяц от пользователей разных тарифов несомненно различается. Такой вывод очень предсказуем и логичен, поскольку сравниваемые тарифи очень отличаются и предназначены для различной аудитории, а потому и доход от них индивидуален."
   ]
  },
  {
   "cell_type": "markdown",
   "metadata": {},
   "source": [
    "### Проверка гипотезы: средняя выручка пользователей из Москвы отличаются от выручки пользователей из других регионов"
   ]
  },
  {
   "cell_type": "markdown",
   "metadata": {},
   "source": [
    "Теперь необходимо оценить не менее важный вопрос об отличии средней выручки пользователей из Москвы и пользователей других регионов. Аналогичным методом, используемым для проверки первой гипозезы, ответим на поставленный вопрос.\n",
    "\n",
    "Сформулируем теории:\n",
    "\n",
    "Нулевая теория(Н0) - средняя выручка пользователей Москвы и регионов **равна**\n",
    "\n",
    "Альтернативная теория(Н1) - средняя выручка пользователей Москвы и регионов **не равна**"
   ]
  },
  {
   "cell_type": "code",
   "execution_count": 26,
   "metadata": {},
   "outputs": [
    {
     "name": "stdout",
     "output_type": "stream",
     "text": [
      "p-значение: 0.5440152911670223\n",
      "Не удалось отвергнуть нулевую гипотезу.\n"
     ]
    }
   ],
   "source": [
    "array_M = df.query('city == \"Москва\"')['income']\n",
    "array_o = df.query('city != \"Москва\"')['income']\n",
    "\n",
    "alpha = 0.05\n",
    "\n",
    "results = st.ttest_ind(array_M, array_o)\n",
    "\n",
    "print('p-значение:', results.pvalue)\n",
    "\n",
    "if results.pvalue < alpha:\n",
    "    print('Отвергаем нулевую гипотезу.')\n",
    "else:\n",
    "    print('Не удалось отвергнуть нулевую гипотезу.')"
   ]
  },
  {
   "cell_type": "markdown",
   "metadata": {},
   "source": [
    "Нулевая гипотеза однозначно не может быть отвергнута, ввиду большого р-значения. А это означает, что с высокой долей вероятности средный доход приносимый абонентами Московской зоны и пользователями из регионов не так уж и сильно отличается."
   ]
  },
  {
   "cell_type": "markdown",
   "metadata": {},
   "source": [
    "### Вывод"
   ]
  },
  {
   "cell_type": "markdown",
   "metadata": {},
   "source": [
    "В настоящем шаге исследовательского проекта, с помощью статистических методов анализа данных, было проверено две важные гипотезы, первая из которых не отвергнута и имеет место быть, а вторая теория с достаточно высокой вероятностью была отвергнута."
   ]
  },
  {
   "cell_type": "markdown",
   "metadata": {},
   "source": [
    "## Общий вывод"
   ]
  },
  {
   "cell_type": "markdown",
   "metadata": {},
   "source": [
    "Проделав проектную работу в курсе статисического анализа данных, мне удалось закрепить и усвоить знания полученные в данном курсе. Тариф smart являеется более прибыльным для телеком-компании Мегалайн. Потому, что его абоненты значительно чаще расходуют тарифный лимит и преобретают услуги сверх тарифа по очень выгодным для компании ценам. Таким образом, предоставляя меньшее количество услуг компания получает больше прибыли. Статисический анализ невероятно важен, он позволяет делать предсказания по ограниченному количеству данных с той или иной степенью вероятности. А прогнозирование и подтверждение гипотез - это то, ради чего и проводится анализ данных."
   ]
  }
 ],
 "metadata": {
  "ExecuteTimeLog": [
   {
    "duration": 74,
    "start_time": "2021-09-22T17:33:54.352Z"
   },
   {
    "duration": 3,
    "start_time": "2021-09-22T17:47:01.979Z"
   },
   {
    "duration": 2,
    "start_time": "2021-09-22T17:47:19.739Z"
   },
   {
    "duration": 654,
    "start_time": "2021-09-22T17:48:28.755Z"
   },
   {
    "duration": 166,
    "start_time": "2021-09-22T17:53:59.461Z"
   },
   {
    "duration": 2446,
    "start_time": "2021-09-22T18:36:46.139Z"
   },
   {
    "duration": 154,
    "start_time": "2021-09-22T18:37:08.813Z"
   },
   {
    "duration": 396,
    "start_time": "2021-09-22T18:58:07.093Z"
   },
   {
    "duration": 685,
    "start_time": "2021-09-22T18:58:59.068Z"
   },
   {
    "duration": 733,
    "start_time": "2021-09-22T18:59:16.849Z"
   },
   {
    "duration": 692,
    "start_time": "2021-09-22T19:00:02.310Z"
   },
   {
    "duration": 737,
    "start_time": "2021-09-22T19:00:49.113Z"
   },
   {
    "duration": 672,
    "start_time": "2021-09-22T19:02:18.303Z"
   },
   {
    "duration": 696,
    "start_time": "2021-09-22T19:06:01.900Z"
   },
   {
    "duration": 392,
    "start_time": "2021-09-22T19:06:26.609Z"
   },
   {
    "duration": 400,
    "start_time": "2021-09-22T19:07:01.328Z"
   },
   {
    "duration": 550,
    "start_time": "2021-09-22T19:07:09.561Z"
   },
   {
    "duration": 549,
    "start_time": "2021-09-22T19:07:41.345Z"
   },
   {
    "duration": 415,
    "start_time": "2021-09-22T19:08:20.120Z"
   },
   {
    "duration": 519,
    "start_time": "2021-09-22T19:09:40.644Z"
   },
   {
    "duration": 74,
    "start_time": "2021-09-22T19:11:22.522Z"
   },
   {
    "duration": 270,
    "start_time": "2021-09-22T19:11:38.113Z"
   },
   {
    "duration": 77,
    "start_time": "2021-09-22T19:11:57.809Z"
   },
   {
    "duration": 481,
    "start_time": "2021-09-22T19:14:08.993Z"
   },
   {
    "duration": 604,
    "start_time": "2021-09-22T19:16:41.423Z"
   },
   {
    "duration": 660,
    "start_time": "2021-09-22T19:17:05.916Z"
   },
   {
    "duration": 685,
    "start_time": "2021-09-22T19:17:29.836Z"
   },
   {
    "duration": 494,
    "start_time": "2021-09-22T19:18:00.307Z"
   },
   {
    "duration": 633,
    "start_time": "2021-09-22T19:34:02.603Z"
   },
   {
    "duration": 642,
    "start_time": "2021-09-22T19:34:19.074Z"
   },
   {
    "duration": 879,
    "start_time": "2021-09-24T16:03:05.243Z"
   },
   {
    "duration": 2162,
    "start_time": "2021-09-24T16:03:08.002Z"
   },
   {
    "duration": 7,
    "start_time": "2021-09-24T16:22:55.904Z"
   },
   {
    "duration": 8,
    "start_time": "2021-09-24T16:24:05.413Z"
   },
   {
    "duration": 6,
    "start_time": "2021-09-24T16:24:23.550Z"
   },
   {
    "duration": 6,
    "start_time": "2021-09-24T16:24:47.658Z"
   },
   {
    "duration": 6,
    "start_time": "2021-09-24T16:25:20.554Z"
   },
   {
    "duration": 6,
    "start_time": "2021-09-24T16:25:38.133Z"
   },
   {
    "duration": 8,
    "start_time": "2021-09-24T16:26:00.195Z"
   },
   {
    "duration": 7,
    "start_time": "2021-09-24T16:26:48.251Z"
   },
   {
    "duration": 8,
    "start_time": "2021-09-24T16:28:47.458Z"
   },
   {
    "duration": 8,
    "start_time": "2021-09-24T16:30:39.297Z"
   },
   {
    "duration": 431,
    "start_time": "2021-09-24T16:49:28.579Z"
   },
   {
    "duration": 14,
    "start_time": "2021-09-24T16:49:52.297Z"
   },
   {
    "duration": 281,
    "start_time": "2021-09-24T16:51:47.017Z"
   },
   {
    "duration": 14,
    "start_time": "2021-09-24T16:51:58.277Z"
   },
   {
    "duration": 2425,
    "start_time": "2021-09-24T17:20:32.859Z"
   },
   {
    "duration": 23,
    "start_time": "2021-09-24T17:20:56.798Z"
   },
   {
    "duration": 119,
    "start_time": "2021-09-24T17:57:44.421Z"
   },
   {
    "duration": 7651,
    "start_time": "2021-09-24T19:04:33.296Z"
   },
   {
    "duration": 8685,
    "start_time": "2021-09-24T19:05:36.180Z"
   },
   {
    "duration": 93,
    "start_time": "2021-09-24T19:06:27.341Z"
   },
   {
    "duration": 31,
    "start_time": "2021-09-24T19:07:31.782Z"
   },
   {
    "duration": 54,
    "start_time": "2021-09-24T19:08:07.224Z"
   },
   {
    "duration": 61,
    "start_time": "2021-09-24T19:08:24.152Z"
   },
   {
    "duration": 362,
    "start_time": "2021-09-24T19:09:15.130Z"
   },
   {
    "duration": 332,
    "start_time": "2021-09-24T19:09:31.682Z"
   },
   {
    "duration": 24,
    "start_time": "2021-09-24T19:13:10.624Z"
   },
   {
    "duration": 24,
    "start_time": "2021-09-24T19:13:25.062Z"
   },
   {
    "duration": 26,
    "start_time": "2021-09-24T19:13:40.042Z"
   },
   {
    "duration": 627,
    "start_time": "2021-09-24T19:13:52.330Z"
   },
   {
    "duration": 25,
    "start_time": "2021-09-24T19:13:55.947Z"
   },
   {
    "duration": 28,
    "start_time": "2021-09-24T19:14:30.833Z"
   },
   {
    "duration": 5,
    "start_time": "2021-09-24T19:40:54.337Z"
   },
   {
    "duration": 19,
    "start_time": "2021-09-24T19:41:02.486Z"
   },
   {
    "duration": 346,
    "start_time": "2021-09-24T19:43:37.457Z"
   },
   {
    "duration": 6,
    "start_time": "2021-09-24T19:44:09.348Z"
   },
   {
    "duration": 7,
    "start_time": "2021-09-24T19:46:06.847Z"
   },
   {
    "duration": 7,
    "start_time": "2021-09-24T19:46:21.035Z"
   },
   {
    "duration": 7,
    "start_time": "2021-09-24T19:46:42.057Z"
   },
   {
    "duration": 1214,
    "start_time": "2021-09-24T19:55:03.060Z"
   },
   {
    "duration": 7,
    "start_time": "2021-09-24T19:55:58.088Z"
   },
   {
    "duration": 15,
    "start_time": "2021-09-24T19:56:12.661Z"
   },
   {
    "duration": 7,
    "start_time": "2021-09-24T19:58:53.215Z"
   },
   {
    "duration": 19,
    "start_time": "2021-09-24T19:59:12.790Z"
   },
   {
    "duration": 10,
    "start_time": "2021-09-24T20:00:38.177Z"
   },
   {
    "duration": 327,
    "start_time": "2021-09-24T20:01:13.734Z"
   },
   {
    "duration": 6,
    "start_time": "2021-09-24T20:01:58.586Z"
   },
   {
    "duration": 10,
    "start_time": "2021-09-24T20:02:29.582Z"
   },
   {
    "duration": 7,
    "start_time": "2021-09-24T20:02:37.496Z"
   },
   {
    "duration": 10,
    "start_time": "2021-09-24T20:02:38.185Z"
   },
   {
    "duration": 3,
    "start_time": "2021-09-24T20:06:04.589Z"
   },
   {
    "duration": 658,
    "start_time": "2021-09-25T08:49:46.064Z"
   },
   {
    "duration": 719,
    "start_time": "2021-09-25T08:49:46.958Z"
   },
   {
    "duration": 72,
    "start_time": "2021-09-25T08:49:47.685Z"
   },
   {
    "duration": 4,
    "start_time": "2021-09-25T08:49:47.883Z"
   },
   {
    "duration": 5,
    "start_time": "2021-09-25T08:49:48.259Z"
   },
   {
    "duration": 8,
    "start_time": "2021-09-25T08:49:48.462Z"
   },
   {
    "duration": 178,
    "start_time": "2021-09-25T08:51:20.878Z"
   },
   {
    "duration": 205,
    "start_time": "2021-09-25T08:51:37.944Z"
   },
   {
    "duration": 171,
    "start_time": "2021-09-25T08:51:48.310Z"
   },
   {
    "duration": 377,
    "start_time": "2021-09-25T08:52:01.723Z"
   },
   {
    "duration": 714,
    "start_time": "2021-09-25T08:52:10.491Z"
   },
   {
    "duration": 648,
    "start_time": "2021-09-25T08:54:56.185Z"
   },
   {
    "duration": 740,
    "start_time": "2021-09-25T08:54:56.835Z"
   },
   {
    "duration": 79,
    "start_time": "2021-09-25T08:54:57.578Z"
   },
   {
    "duration": 4,
    "start_time": "2021-09-25T08:54:57.659Z"
   },
   {
    "duration": 10,
    "start_time": "2021-09-25T08:54:57.664Z"
   },
   {
    "duration": 9,
    "start_time": "2021-09-25T08:54:57.675Z"
   },
   {
    "duration": 318,
    "start_time": "2021-09-25T08:54:57.686Z"
   },
   {
    "duration": 5,
    "start_time": "2021-09-25T08:55:01.437Z"
   },
   {
    "duration": 286,
    "start_time": "2021-09-25T08:55:08.357Z"
   },
   {
    "duration": 13,
    "start_time": "2021-09-25T08:55:16.532Z"
   },
   {
    "duration": 1298,
    "start_time": "2021-09-25T09:24:27.747Z"
   },
   {
    "duration": 14,
    "start_time": "2021-09-25T09:24:45.307Z"
   },
   {
    "duration": 231,
    "start_time": "2021-09-25T09:24:52.636Z"
   },
   {
    "duration": 168,
    "start_time": "2021-09-25T09:25:21.254Z"
   },
   {
    "duration": 12,
    "start_time": "2021-09-25T09:25:27.398Z"
   },
   {
    "duration": 871,
    "start_time": "2021-09-25T09:26:55.650Z"
   },
   {
    "duration": 613,
    "start_time": "2021-09-25T09:27:36.746Z"
   },
   {
    "duration": 429,
    "start_time": "2021-09-25T09:32:52.501Z"
   },
   {
    "duration": 272,
    "start_time": "2021-09-25T09:34:56.907Z"
   },
   {
    "duration": 1842,
    "start_time": "2021-09-25T09:35:05.260Z"
   },
   {
    "duration": 1052,
    "start_time": "2021-09-25T09:38:15.618Z"
   },
   {
    "duration": 1031,
    "start_time": "2021-09-25T09:38:37.350Z"
   },
   {
    "duration": 1072,
    "start_time": "2021-09-25T09:40:03.292Z"
   },
   {
    "duration": 342,
    "start_time": "2021-09-25T09:41:41.275Z"
   },
   {
    "duration": 2816,
    "start_time": "2021-09-25T09:41:57.261Z"
   },
   {
    "duration": 5061,
    "start_time": "2021-09-25T09:42:28.031Z"
   },
   {
    "duration": 3991,
    "start_time": "2021-09-25T09:42:50.861Z"
   },
   {
    "duration": 264,
    "start_time": "2021-09-25T09:43:06.184Z"
   },
   {
    "duration": 245,
    "start_time": "2021-09-25T09:43:13.494Z"
   },
   {
    "duration": 664,
    "start_time": "2021-09-25T09:43:44.261Z"
   },
   {
    "duration": 681,
    "start_time": "2021-09-25T09:43:58.255Z"
   },
   {
    "duration": 717,
    "start_time": "2021-09-25T09:43:58.938Z"
   },
   {
    "duration": 69,
    "start_time": "2021-09-25T09:43:59.657Z"
   },
   {
    "duration": 3,
    "start_time": "2021-09-25T09:43:59.728Z"
   },
   {
    "duration": 21,
    "start_time": "2021-09-25T09:43:59.733Z"
   },
   {
    "duration": 10,
    "start_time": "2021-09-25T09:43:59.755Z"
   },
   {
    "duration": 256,
    "start_time": "2021-09-25T09:43:59.766Z"
   },
   {
    "duration": 652,
    "start_time": "2021-09-25T09:44:06.233Z"
   },
   {
    "duration": 669,
    "start_time": "2021-09-25T09:44:28.342Z"
   },
   {
    "duration": 710,
    "start_time": "2021-09-25T09:44:29.013Z"
   },
   {
    "duration": 84,
    "start_time": "2021-09-25T09:44:29.725Z"
   },
   {
    "duration": 3,
    "start_time": "2021-09-25T09:44:29.811Z"
   },
   {
    "duration": 7,
    "start_time": "2021-09-25T09:44:29.816Z"
   },
   {
    "duration": 8,
    "start_time": "2021-09-25T09:44:29.824Z"
   },
   {
    "duration": 15,
    "start_time": "2021-09-25T09:44:29.834Z"
   },
   {
    "duration": 4,
    "start_time": "2021-09-25T09:45:36.722Z"
   },
   {
    "duration": 5051,
    "start_time": "2021-09-25T09:46:18.184Z"
   },
   {
    "duration": 8820,
    "start_time": "2021-09-25T09:46:47.306Z"
   },
   {
    "duration": 4148,
    "start_time": "2021-09-25T09:47:02.726Z"
   },
   {
    "duration": 319,
    "start_time": "2021-09-25T17:09:25.356Z"
   },
   {
    "duration": 357,
    "start_time": "2021-09-25T17:10:15.028Z"
   },
   {
    "duration": 433,
    "start_time": "2021-09-25T17:12:32.488Z"
   },
   {
    "duration": 303,
    "start_time": "2021-09-25T17:12:50.576Z"
   },
   {
    "duration": 486,
    "start_time": "2021-09-25T17:12:55.993Z"
   },
   {
    "duration": 17,
    "start_time": "2021-09-25T17:13:42.053Z"
   },
   {
    "duration": 26,
    "start_time": "2021-09-25T17:16:11.950Z"
   },
   {
    "duration": 504,
    "start_time": "2021-09-25T17:16:41.537Z"
   },
   {
    "duration": 27,
    "start_time": "2021-09-25T17:16:48.299Z"
   },
   {
    "duration": 24,
    "start_time": "2021-09-25T17:25:05.792Z"
   },
   {
    "duration": 27,
    "start_time": "2021-09-25T17:26:16.758Z"
   },
   {
    "duration": 24,
    "start_time": "2021-09-25T17:26:23.207Z"
   },
   {
    "duration": 27,
    "start_time": "2021-09-25T17:26:30.142Z"
   },
   {
    "duration": 24,
    "start_time": "2021-09-25T17:26:33.655Z"
   },
   {
    "duration": 25,
    "start_time": "2021-09-25T17:26:38.096Z"
   },
   {
    "duration": 2,
    "start_time": "2021-09-25T17:26:49.712Z"
   },
   {
    "duration": 200,
    "start_time": "2021-09-25T17:28:31.300Z"
   },
   {
    "duration": 292,
    "start_time": "2021-09-25T17:28:40.712Z"
   },
   {
    "duration": 238,
    "start_time": "2021-09-25T17:28:48.700Z"
   },
   {
    "duration": 237,
    "start_time": "2021-09-25T17:52:10.110Z"
   },
   {
    "duration": 35,
    "start_time": "2021-09-25T17:52:14.611Z"
   },
   {
    "duration": 286,
    "start_time": "2021-09-25T17:54:23.629Z"
   },
   {
    "duration": 24,
    "start_time": "2021-09-25T17:55:29.089Z"
   },
   {
    "duration": 29,
    "start_time": "2021-09-25T17:55:37.069Z"
   },
   {
    "duration": 22,
    "start_time": "2021-09-25T18:14:44.251Z"
   },
   {
    "duration": 31,
    "start_time": "2021-09-25T18:14:50.829Z"
   },
   {
    "duration": 48,
    "start_time": "2021-09-25T18:16:18.253Z"
   },
   {
    "duration": 74,
    "start_time": "2021-09-25T18:16:25.525Z"
   },
   {
    "duration": 58,
    "start_time": "2021-09-25T18:16:41.164Z"
   },
   {
    "duration": 80,
    "start_time": "2021-09-25T18:17:16.126Z"
   },
   {
    "duration": 636,
    "start_time": "2021-09-25T18:17:36.598Z"
   },
   {
    "duration": 745,
    "start_time": "2021-09-25T18:17:37.236Z"
   },
   {
    "duration": 90,
    "start_time": "2021-09-25T18:17:37.985Z"
   },
   {
    "duration": 4,
    "start_time": "2021-09-25T18:17:38.077Z"
   },
   {
    "duration": 9,
    "start_time": "2021-09-25T18:17:38.082Z"
   },
   {
    "duration": 10,
    "start_time": "2021-09-25T18:17:38.092Z"
   },
   {
    "duration": 256,
    "start_time": "2021-09-25T18:17:38.105Z"
   },
   {
    "duration": 52,
    "start_time": "2021-09-25T18:17:38.363Z"
   },
   {
    "duration": 81,
    "start_time": "2021-09-25T18:17:38.417Z"
   },
   {
    "duration": 92,
    "start_time": "2021-09-25T18:17:45.784Z"
   },
   {
    "duration": 86,
    "start_time": "2021-09-25T18:17:58.867Z"
   },
   {
    "duration": 89,
    "start_time": "2021-09-25T18:18:07.736Z"
   },
   {
    "duration": 67,
    "start_time": "2021-09-25T18:18:37.040Z"
   },
   {
    "duration": 65,
    "start_time": "2021-09-25T18:19:01.236Z"
   },
   {
    "duration": 333,
    "start_time": "2021-09-25T18:21:33.743Z"
   },
   {
    "duration": 68,
    "start_time": "2021-09-25T18:22:00.248Z"
   },
   {
    "duration": 1418,
    "start_time": "2021-09-25T18:22:00.869Z"
   },
   {
    "duration": 1505,
    "start_time": "2021-09-25T18:22:13.470Z"
   },
   {
    "duration": 316,
    "start_time": "2021-09-25T18:22:22.509Z"
   },
   {
    "duration": 88,
    "start_time": "2021-09-25T18:23:41.261Z"
   },
   {
    "duration": 253,
    "start_time": "2021-09-25T18:23:48.957Z"
   },
   {
    "duration": 657,
    "start_time": "2021-09-25T18:23:54.675Z"
   },
   {
    "duration": 31,
    "start_time": "2021-09-25T18:24:40.635Z"
   },
   {
    "duration": 49,
    "start_time": "2021-09-25T18:24:56.012Z"
   },
   {
    "duration": 36,
    "start_time": "2021-09-25T18:25:14.681Z"
   },
   {
    "duration": 36,
    "start_time": "2021-09-25T18:25:24.958Z"
   },
   {
    "duration": 256,
    "start_time": "2021-09-25T18:37:10.468Z"
   },
   {
    "duration": 34,
    "start_time": "2021-09-25T18:38:09.181Z"
   },
   {
    "duration": 43,
    "start_time": "2021-09-25T18:38:41.039Z"
   },
   {
    "duration": 456,
    "start_time": "2021-09-26T07:57:55.984Z"
   },
   {
    "duration": 934,
    "start_time": "2021-09-26T07:58:12.638Z"
   },
   {
    "duration": 956,
    "start_time": "2021-09-26T07:58:13.575Z"
   },
   {
    "duration": 116,
    "start_time": "2021-09-26T07:58:14.534Z"
   },
   {
    "duration": 14,
    "start_time": "2021-09-26T07:58:14.653Z"
   },
   {
    "duration": 9,
    "start_time": "2021-09-26T07:58:14.670Z"
   },
   {
    "duration": 15,
    "start_time": "2021-09-26T07:58:14.681Z"
   },
   {
    "duration": 436,
    "start_time": "2021-09-26T07:58:14.698Z"
   },
   {
    "duration": 83,
    "start_time": "2021-09-26T07:58:15.137Z"
   },
   {
    "duration": 451,
    "start_time": "2021-09-26T07:58:15.223Z"
   },
   {
    "duration": 322,
    "start_time": "2021-09-26T07:58:15.355Z"
   },
   {
    "duration": 313,
    "start_time": "2021-09-26T07:58:15.365Z"
   },
   {
    "duration": 309,
    "start_time": "2021-09-26T07:58:15.370Z"
   },
   {
    "duration": 13,
    "start_time": "2021-09-26T07:58:23.156Z"
   },
   {
    "duration": 61,
    "start_time": "2021-09-26T07:58:37.358Z"
   },
   {
    "duration": 42,
    "start_time": "2021-09-26T08:04:01.849Z"
   },
   {
    "duration": 376,
    "start_time": "2021-09-26T08:04:49.801Z"
   },
   {
    "duration": 406,
    "start_time": "2021-09-26T08:06:04.614Z"
   },
   {
    "duration": 41,
    "start_time": "2021-09-26T08:06:16.522Z"
   },
   {
    "duration": 43,
    "start_time": "2021-09-26T08:06:42.647Z"
   },
   {
    "duration": 1650,
    "start_time": "2021-09-26T08:08:21.859Z"
   },
   {
    "duration": 38,
    "start_time": "2021-09-26T08:08:30.260Z"
   },
   {
    "duration": 1447,
    "start_time": "2021-09-26T08:08:42.737Z"
   },
   {
    "duration": 35,
    "start_time": "2021-09-26T08:09:00.463Z"
   },
   {
    "duration": 29,
    "start_time": "2021-09-26T08:09:53.977Z"
   },
   {
    "duration": 29,
    "start_time": "2021-09-26T08:09:57.835Z"
   },
   {
    "duration": 125,
    "start_time": "2021-09-26T08:12:26.013Z"
   },
   {
    "duration": 42,
    "start_time": "2021-09-26T08:12:36.990Z"
   },
   {
    "duration": 36,
    "start_time": "2021-09-26T08:12:48.911Z"
   },
   {
    "duration": 36,
    "start_time": "2021-09-26T08:14:16.952Z"
   },
   {
    "duration": 385,
    "start_time": "2021-09-26T08:16:05.723Z"
   },
   {
    "duration": 12,
    "start_time": "2021-09-26T08:16:15.240Z"
   },
   {
    "duration": 26,
    "start_time": "2021-09-26T08:16:18.783Z"
   },
   {
    "duration": 23,
    "start_time": "2021-09-26T08:46:59.757Z"
   },
   {
    "duration": 37,
    "start_time": "2021-09-26T08:47:03.099Z"
   },
   {
    "duration": 47,
    "start_time": "2021-09-26T08:48:07.078Z"
   },
   {
    "duration": 61,
    "start_time": "2021-09-26T08:48:13.833Z"
   },
   {
    "duration": 64,
    "start_time": "2021-09-26T08:53:40.953Z"
   },
   {
    "duration": 891,
    "start_time": "2021-09-26T08:53:48.965Z"
   },
   {
    "duration": 984,
    "start_time": "2021-09-26T08:53:49.859Z"
   },
   {
    "duration": 120,
    "start_time": "2021-09-26T08:53:50.847Z"
   },
   {
    "duration": 5,
    "start_time": "2021-09-26T08:53:50.970Z"
   },
   {
    "duration": 15,
    "start_time": "2021-09-26T08:53:50.977Z"
   },
   {
    "duration": 25,
    "start_time": "2021-09-26T08:53:50.995Z"
   },
   {
    "duration": 417,
    "start_time": "2021-09-26T08:53:51.022Z"
   },
   {
    "duration": 84,
    "start_time": "2021-09-26T08:53:51.441Z"
   },
   {
    "duration": 64,
    "start_time": "2021-09-26T08:53:51.529Z"
   },
   {
    "duration": 34,
    "start_time": "2021-09-26T08:53:51.596Z"
   },
   {
    "duration": 64,
    "start_time": "2021-09-26T08:53:51.632Z"
   },
   {
    "duration": 76,
    "start_time": "2021-09-26T08:53:51.698Z"
   },
   {
    "duration": 41,
    "start_time": "2021-09-26T08:54:05.973Z"
   },
   {
    "duration": 900,
    "start_time": "2021-09-26T08:54:27.262Z"
   },
   {
    "duration": 973,
    "start_time": "2021-09-26T08:54:28.165Z"
   },
   {
    "duration": 118,
    "start_time": "2021-09-26T08:54:29.141Z"
   },
   {
    "duration": 5,
    "start_time": "2021-09-26T08:54:29.268Z"
   },
   {
    "duration": 11,
    "start_time": "2021-09-26T08:54:29.276Z"
   },
   {
    "duration": 15,
    "start_time": "2021-09-26T08:54:29.290Z"
   },
   {
    "duration": 424,
    "start_time": "2021-09-26T08:54:29.307Z"
   },
   {
    "duration": 84,
    "start_time": "2021-09-26T08:54:29.734Z"
   },
   {
    "duration": 62,
    "start_time": "2021-09-26T08:54:29.821Z"
   },
   {
    "duration": 33,
    "start_time": "2021-09-26T08:54:29.886Z"
   },
   {
    "duration": 60,
    "start_time": "2021-09-26T08:54:29.921Z"
   },
   {
    "duration": 39,
    "start_time": "2021-09-26T08:54:29.984Z"
   },
   {
    "duration": 63,
    "start_time": "2021-09-26T08:55:26.185Z"
   },
   {
    "duration": 501,
    "start_time": "2021-09-26T08:56:14.636Z"
   },
   {
    "duration": 423,
    "start_time": "2021-09-26T09:00:19.017Z"
   },
   {
    "duration": 68,
    "start_time": "2021-09-26T09:00:31.538Z"
   },
   {
    "duration": 40,
    "start_time": "2021-09-26T09:00:49.311Z"
   },
   {
    "duration": 37,
    "start_time": "2021-09-26T09:01:08.698Z"
   },
   {
    "duration": 37,
    "start_time": "2021-09-26T09:01:14.164Z"
   },
   {
    "duration": 80,
    "start_time": "2021-09-26T09:01:21.908Z"
   },
   {
    "duration": 67,
    "start_time": "2021-09-26T09:01:36.027Z"
   },
   {
    "duration": 48,
    "start_time": "2021-09-26T09:21:06.076Z"
   },
   {
    "duration": 50,
    "start_time": "2021-09-26T09:22:03.135Z"
   },
   {
    "duration": 8,
    "start_time": "2021-09-26T09:22:17.964Z"
   },
   {
    "duration": 51,
    "start_time": "2021-09-26T09:22:20.867Z"
   },
   {
    "duration": 8,
    "start_time": "2021-09-26T09:22:26.067Z"
   },
   {
    "duration": 70,
    "start_time": "2021-09-26T10:42:38.958Z"
   },
   {
    "duration": 343,
    "start_time": "2021-09-26T11:14:22.622Z"
   },
   {
    "duration": 145,
    "start_time": "2021-09-26T11:14:45.802Z"
   },
   {
    "duration": 6,
    "start_time": "2021-09-26T11:14:51.623Z"
   },
   {
    "duration": 344,
    "start_time": "2021-09-26T11:14:59.081Z"
   },
   {
    "duration": 9,
    "start_time": "2021-09-26T11:15:08.852Z"
   },
   {
    "duration": 17,
    "start_time": "2021-09-26T11:16:38.662Z"
   },
   {
    "duration": 9,
    "start_time": "2021-09-26T11:16:51.843Z"
   },
   {
    "duration": 16,
    "start_time": "2021-09-26T11:16:51.855Z"
   },
   {
    "duration": 1471,
    "start_time": "2021-09-26T11:17:01.266Z"
   },
   {
    "duration": 1451,
    "start_time": "2021-09-26T11:17:02.740Z"
   },
   {
    "duration": 117,
    "start_time": "2021-09-26T11:17:04.195Z"
   },
   {
    "duration": 6,
    "start_time": "2021-09-26T11:17:04.315Z"
   },
   {
    "duration": 30,
    "start_time": "2021-09-26T11:17:04.323Z"
   },
   {
    "duration": 33,
    "start_time": "2021-09-26T11:17:04.355Z"
   },
   {
    "duration": 413,
    "start_time": "2021-09-26T11:17:04.390Z"
   },
   {
    "duration": 85,
    "start_time": "2021-09-26T11:17:04.806Z"
   },
   {
    "duration": 52,
    "start_time": "2021-09-26T11:17:04.893Z"
   },
   {
    "duration": 47,
    "start_time": "2021-09-26T11:17:04.947Z"
   },
   {
    "duration": 40,
    "start_time": "2021-09-26T11:17:04.996Z"
   },
   {
    "duration": 85,
    "start_time": "2021-09-26T11:17:05.038Z"
   },
   {
    "duration": 8,
    "start_time": "2021-09-26T11:17:05.125Z"
   },
   {
    "duration": 41,
    "start_time": "2021-09-26T11:17:05.135Z"
   },
   {
    "duration": 135,
    "start_time": "2021-09-26T11:17:05.178Z"
   },
   {
    "duration": 10,
    "start_time": "2021-09-26T11:17:29.985Z"
   },
   {
    "duration": 7,
    "start_time": "2021-09-26T11:17:51.214Z"
   },
   {
    "duration": 52,
    "start_time": "2021-09-26T11:17:54.394Z"
   },
   {
    "duration": 35,
    "start_time": "2021-09-26T11:18:09.205Z"
   },
   {
    "duration": 39,
    "start_time": "2021-09-26T11:18:51.005Z"
   },
   {
    "duration": 47,
    "start_time": "2021-09-26T11:20:41.675Z"
   },
   {
    "duration": 43,
    "start_time": "2021-09-26T11:21:48.292Z"
   },
   {
    "duration": 479,
    "start_time": "2021-09-26T11:22:07.186Z"
   },
   {
    "duration": 938,
    "start_time": "2021-09-26T11:23:54.265Z"
   },
   {
    "duration": 1129,
    "start_time": "2021-09-26T11:23:55.205Z"
   },
   {
    "duration": 116,
    "start_time": "2021-09-26T11:23:56.337Z"
   },
   {
    "duration": 13,
    "start_time": "2021-09-26T11:23:56.456Z"
   },
   {
    "duration": 14,
    "start_time": "2021-09-26T11:23:56.471Z"
   },
   {
    "duration": 16,
    "start_time": "2021-09-26T11:23:56.488Z"
   },
   {
    "duration": 410,
    "start_time": "2021-09-26T11:23:56.506Z"
   },
   {
    "duration": 84,
    "start_time": "2021-09-26T11:23:56.920Z"
   },
   {
    "duration": 66,
    "start_time": "2021-09-26T11:23:57.007Z"
   },
   {
    "duration": 33,
    "start_time": "2021-09-26T11:23:57.076Z"
   },
   {
    "duration": 61,
    "start_time": "2021-09-26T11:23:57.112Z"
   },
   {
    "duration": 65,
    "start_time": "2021-09-26T11:23:57.176Z"
   },
   {
    "duration": 28,
    "start_time": "2021-09-26T11:23:57.244Z"
   },
   {
    "duration": 456,
    "start_time": "2021-09-26T11:23:57.274Z"
   },
   {
    "duration": 395,
    "start_time": "2021-09-26T11:23:57.338Z"
   },
   {
    "duration": 9979,
    "start_time": "2021-09-26T11:24:18.653Z"
   },
   {
    "duration": 926,
    "start_time": "2021-09-26T11:25:10.945Z"
   },
   {
    "duration": 1009,
    "start_time": "2021-09-26T11:25:11.873Z"
   },
   {
    "duration": 113,
    "start_time": "2021-09-26T11:25:12.885Z"
   },
   {
    "duration": 4,
    "start_time": "2021-09-26T11:25:13.001Z"
   },
   {
    "duration": 11,
    "start_time": "2021-09-26T11:25:13.007Z"
   },
   {
    "duration": 12,
    "start_time": "2021-09-26T11:25:13.021Z"
   },
   {
    "duration": 414,
    "start_time": "2021-09-26T11:25:13.036Z"
   },
   {
    "duration": 76,
    "start_time": "2021-09-26T11:25:13.453Z"
   },
   {
    "duration": 67,
    "start_time": "2021-09-26T11:25:13.532Z"
   },
   {
    "duration": 32,
    "start_time": "2021-09-26T11:25:13.602Z"
   },
   {
    "duration": 63,
    "start_time": "2021-09-26T11:25:13.636Z"
   },
   {
    "duration": 82,
    "start_time": "2021-09-26T11:25:13.701Z"
   },
   {
    "duration": 8,
    "start_time": "2021-09-26T11:25:13.786Z"
   },
   {
    "duration": 46,
    "start_time": "2021-09-26T11:25:13.796Z"
   },
   {
    "duration": 108,
    "start_time": "2021-09-26T11:25:13.844Z"
   },
   {
    "duration": 10728,
    "start_time": "2021-09-26T11:26:14.534Z"
   },
   {
    "duration": 10233,
    "start_time": "2021-09-26T11:26:28.807Z"
   },
   {
    "duration": 917,
    "start_time": "2021-09-26T11:26:59.486Z"
   },
   {
    "duration": 979,
    "start_time": "2021-09-26T11:27:00.406Z"
   },
   {
    "duration": 115,
    "start_time": "2021-09-26T11:27:01.388Z"
   },
   {
    "duration": 5,
    "start_time": "2021-09-26T11:27:01.506Z"
   },
   {
    "duration": 20,
    "start_time": "2021-09-26T11:27:01.514Z"
   },
   {
    "duration": 32,
    "start_time": "2021-09-26T11:27:01.537Z"
   },
   {
    "duration": 412,
    "start_time": "2021-09-26T11:27:01.572Z"
   },
   {
    "duration": 85,
    "start_time": "2021-09-26T11:27:01.987Z"
   },
   {
    "duration": 52,
    "start_time": "2021-09-26T11:27:02.076Z"
   },
   {
    "duration": 53,
    "start_time": "2021-09-26T11:27:02.131Z"
   },
   {
    "duration": 39,
    "start_time": "2021-09-26T11:27:02.186Z"
   },
   {
    "duration": 86,
    "start_time": "2021-09-26T11:27:02.228Z"
   },
   {
    "duration": 9,
    "start_time": "2021-09-26T11:27:02.316Z"
   },
   {
    "duration": 60,
    "start_time": "2021-09-26T11:27:02.327Z"
   },
   {
    "duration": 121,
    "start_time": "2021-09-26T11:27:02.389Z"
   },
   {
    "duration": 7,
    "start_time": "2021-09-26T11:34:47.842Z"
   },
   {
    "duration": 5920,
    "start_time": "2021-09-26T11:35:55.208Z"
   },
   {
    "duration": 10611,
    "start_time": "2021-09-26T11:40:59.099Z"
   },
   {
    "duration": 8,
    "start_time": "2021-09-26T11:44:15.054Z"
   },
   {
    "duration": 11116,
    "start_time": "2021-09-26T11:44:15.908Z"
   },
   {
    "duration": 922,
    "start_time": "2021-09-26T11:45:27.338Z"
   },
   {
    "duration": 992,
    "start_time": "2021-09-26T11:45:28.263Z"
   },
   {
    "duration": 122,
    "start_time": "2021-09-26T11:45:29.258Z"
   },
   {
    "duration": 5,
    "start_time": "2021-09-26T11:45:29.382Z"
   },
   {
    "duration": 8,
    "start_time": "2021-09-26T11:45:29.389Z"
   },
   {
    "duration": 12,
    "start_time": "2021-09-26T11:45:29.400Z"
   },
   {
    "duration": 429,
    "start_time": "2021-09-26T11:45:29.414Z"
   },
   {
    "duration": 79,
    "start_time": "2021-09-26T11:45:29.847Z"
   },
   {
    "duration": 63,
    "start_time": "2021-09-26T11:45:29.928Z"
   },
   {
    "duration": 31,
    "start_time": "2021-09-26T11:45:29.993Z"
   },
   {
    "duration": 58,
    "start_time": "2021-09-26T11:45:30.026Z"
   },
   {
    "duration": 83,
    "start_time": "2021-09-26T11:45:30.086Z"
   },
   {
    "duration": 9,
    "start_time": "2021-09-26T11:45:30.171Z"
   },
   {
    "duration": 44,
    "start_time": "2021-09-26T11:45:30.182Z"
   },
   {
    "duration": 7,
    "start_time": "2021-09-26T11:45:30.228Z"
   },
   {
    "duration": 12190,
    "start_time": "2021-09-26T11:45:30.237Z"
   },
   {
    "duration": 8,
    "start_time": "2021-09-26T11:46:37.685Z"
   },
   {
    "duration": 233,
    "start_time": "2021-09-26T11:46:41.349Z"
   },
   {
    "duration": 283,
    "start_time": "2021-09-26T11:57:59.316Z"
   },
   {
    "duration": 196,
    "start_time": "2021-09-26T11:58:25.329Z"
   },
   {
    "duration": 226,
    "start_time": "2021-09-26T11:58:32.814Z"
   },
   {
    "duration": 229,
    "start_time": "2021-09-26T12:23:10.838Z"
   },
   {
    "duration": 222,
    "start_time": "2021-09-26T12:23:24.810Z"
   },
   {
    "duration": 1079,
    "start_time": "2021-09-26T12:23:35.865Z"
   },
   {
    "duration": 1119,
    "start_time": "2021-09-26T12:23:36.948Z"
   },
   {
    "duration": 110,
    "start_time": "2021-09-26T12:23:38.071Z"
   },
   {
    "duration": 5,
    "start_time": "2021-09-26T12:23:38.184Z"
   },
   {
    "duration": 21,
    "start_time": "2021-09-26T12:23:38.192Z"
   },
   {
    "duration": 19,
    "start_time": "2021-09-26T12:23:38.216Z"
   },
   {
    "duration": 456,
    "start_time": "2021-09-26T12:23:38.237Z"
   },
   {
    "duration": 76,
    "start_time": "2021-09-26T12:23:38.695Z"
   },
   {
    "duration": 62,
    "start_time": "2021-09-26T12:23:38.774Z"
   },
   {
    "duration": 38,
    "start_time": "2021-09-26T12:23:38.839Z"
   },
   {
    "duration": 42,
    "start_time": "2021-09-26T12:23:38.879Z"
   },
   {
    "duration": 77,
    "start_time": "2021-09-26T12:23:38.924Z"
   },
   {
    "duration": 9,
    "start_time": "2021-09-26T12:23:39.004Z"
   },
   {
    "duration": 84,
    "start_time": "2021-09-26T12:23:39.015Z"
   },
   {
    "duration": 7,
    "start_time": "2021-09-26T12:23:39.102Z"
   },
   {
    "duration": 259,
    "start_time": "2021-09-26T12:23:39.111Z"
   },
   {
    "duration": 218,
    "start_time": "2021-09-26T12:23:56.100Z"
   },
   {
    "duration": 273,
    "start_time": "2021-09-26T12:24:00.270Z"
   },
   {
    "duration": 258,
    "start_time": "2021-09-26T12:24:05.710Z"
   },
   {
    "duration": 8,
    "start_time": "2021-09-26T12:44:22.277Z"
   },
   {
    "duration": 320,
    "start_time": "2021-09-26T12:44:30.083Z"
   },
   {
    "duration": 550,
    "start_time": "2021-09-26T12:44:46.058Z"
   },
   {
    "duration": 390,
    "start_time": "2021-09-26T13:35:45.941Z"
   },
   {
    "duration": 931,
    "start_time": "2021-09-26T13:36:03.654Z"
   },
   {
    "duration": 1053,
    "start_time": "2021-09-26T13:36:04.587Z"
   },
   {
    "duration": 125,
    "start_time": "2021-09-26T13:36:05.643Z"
   },
   {
    "duration": 6,
    "start_time": "2021-09-26T13:36:05.771Z"
   },
   {
    "duration": 14,
    "start_time": "2021-09-26T13:36:05.780Z"
   },
   {
    "duration": 19,
    "start_time": "2021-09-26T13:36:05.797Z"
   },
   {
    "duration": 449,
    "start_time": "2021-09-26T13:36:05.818Z"
   },
   {
    "duration": 73,
    "start_time": "2021-09-26T13:36:06.270Z"
   },
   {
    "duration": 65,
    "start_time": "2021-09-26T13:36:06.345Z"
   },
   {
    "duration": 32,
    "start_time": "2021-09-26T13:36:06.412Z"
   },
   {
    "duration": 39,
    "start_time": "2021-09-26T13:36:06.467Z"
   },
   {
    "duration": 83,
    "start_time": "2021-09-26T13:36:06.508Z"
   },
   {
    "duration": 8,
    "start_time": "2021-09-26T13:36:06.593Z"
   },
   {
    "duration": 55,
    "start_time": "2021-09-26T13:36:06.604Z"
   },
   {
    "duration": 7,
    "start_time": "2021-09-26T13:36:06.667Z"
   },
   {
    "duration": 264,
    "start_time": "2021-09-26T13:36:06.677Z"
   },
   {
    "duration": 638,
    "start_time": "2021-09-26T13:36:06.943Z"
   },
   {
    "duration": 536,
    "start_time": "2021-09-26T13:38:06.794Z"
   },
   {
    "duration": 394,
    "start_time": "2021-09-26T13:38:16.904Z"
   },
   {
    "duration": 397,
    "start_time": "2021-09-26T13:38:28.802Z"
   },
   {
    "duration": 886,
    "start_time": "2021-09-26T13:39:59.307Z"
   },
   {
    "duration": 994,
    "start_time": "2021-09-26T13:40:00.196Z"
   },
   {
    "duration": 111,
    "start_time": "2021-09-26T13:40:01.193Z"
   },
   {
    "duration": 5,
    "start_time": "2021-09-26T13:40:01.307Z"
   },
   {
    "duration": 27,
    "start_time": "2021-09-26T13:40:01.314Z"
   },
   {
    "duration": 20,
    "start_time": "2021-09-26T13:40:01.344Z"
   },
   {
    "duration": 461,
    "start_time": "2021-09-26T13:40:01.367Z"
   },
   {
    "duration": 83,
    "start_time": "2021-09-26T13:40:01.831Z"
   },
   {
    "duration": 62,
    "start_time": "2021-09-26T13:40:01.917Z"
   },
   {
    "duration": 31,
    "start_time": "2021-09-26T13:40:01.982Z"
   },
   {
    "duration": 64,
    "start_time": "2021-09-26T13:40:02.016Z"
   },
   {
    "duration": 85,
    "start_time": "2021-09-26T13:40:02.082Z"
   },
   {
    "duration": 502,
    "start_time": "2021-09-26T13:40:02.169Z"
   },
   {
    "duration": -458,
    "start_time": "2021-09-26T13:40:03.131Z"
   },
   {
    "duration": -458,
    "start_time": "2021-09-26T13:40:03.133Z"
   },
   {
    "duration": -463,
    "start_time": "2021-09-26T13:40:03.140Z"
   },
   {
    "duration": -464,
    "start_time": "2021-09-26T13:40:03.143Z"
   },
   {
    "duration": 9,
    "start_time": "2021-09-26T13:40:48.741Z"
   },
   {
    "duration": 9499,
    "start_time": "2021-09-26T13:40:49.294Z"
   },
   {
    "duration": 7,
    "start_time": "2021-09-26T13:40:58.890Z"
   },
   {
    "duration": 241,
    "start_time": "2021-09-26T13:40:59.230Z"
   },
   {
    "duration": 602,
    "start_time": "2021-09-26T13:40:59.485Z"
   },
   {
    "duration": 577,
    "start_time": "2021-09-26T13:41:00.090Z"
   },
   {
    "duration": 889,
    "start_time": "2021-09-26T13:41:10.516Z"
   },
   {
    "duration": 1017,
    "start_time": "2021-09-26T13:41:11.408Z"
   },
   {
    "duration": 125,
    "start_time": "2021-09-26T13:41:12.428Z"
   },
   {
    "duration": 12,
    "start_time": "2021-09-26T13:41:12.556Z"
   },
   {
    "duration": 8,
    "start_time": "2021-09-26T13:41:12.571Z"
   },
   {
    "duration": 12,
    "start_time": "2021-09-26T13:41:12.582Z"
   },
   {
    "duration": 450,
    "start_time": "2021-09-26T13:41:12.597Z"
   },
   {
    "duration": 80,
    "start_time": "2021-09-26T13:41:13.050Z"
   },
   {
    "duration": 67,
    "start_time": "2021-09-26T13:41:13.134Z"
   },
   {
    "duration": 32,
    "start_time": "2021-09-26T13:41:13.203Z"
   },
   {
    "duration": 60,
    "start_time": "2021-09-26T13:41:13.238Z"
   },
   {
    "duration": 87,
    "start_time": "2021-09-26T13:41:13.301Z"
   },
   {
    "duration": 8,
    "start_time": "2021-09-26T13:41:13.391Z"
   },
   {
    "duration": 57,
    "start_time": "2021-09-26T13:41:13.402Z"
   },
   {
    "duration": 8,
    "start_time": "2021-09-26T13:41:13.466Z"
   },
   {
    "duration": 250,
    "start_time": "2021-09-26T13:41:13.477Z"
   },
   {
    "duration": 620,
    "start_time": "2021-09-26T13:41:13.729Z"
   },
   {
    "duration": 569,
    "start_time": "2021-09-26T13:41:14.351Z"
   },
   {
    "duration": 845,
    "start_time": "2021-09-26T13:42:45.014Z"
   },
   {
    "duration": 1011,
    "start_time": "2021-09-26T13:42:45.861Z"
   },
   {
    "duration": 112,
    "start_time": "2021-09-26T13:42:46.876Z"
   },
   {
    "duration": 6,
    "start_time": "2021-09-26T13:42:46.991Z"
   },
   {
    "duration": 9,
    "start_time": "2021-09-26T13:42:47.000Z"
   },
   {
    "duration": 13,
    "start_time": "2021-09-26T13:42:47.011Z"
   },
   {
    "duration": 454,
    "start_time": "2021-09-26T13:42:47.027Z"
   },
   {
    "duration": 91,
    "start_time": "2021-09-26T13:42:47.484Z"
   },
   {
    "duration": 52,
    "start_time": "2021-09-26T13:42:47.580Z"
   },
   {
    "duration": 57,
    "start_time": "2021-09-26T13:42:47.636Z"
   },
   {
    "duration": 44,
    "start_time": "2021-09-26T13:42:47.696Z"
   },
   {
    "duration": 88,
    "start_time": "2021-09-26T13:42:47.743Z"
   },
   {
    "duration": 34,
    "start_time": "2021-09-26T13:42:47.834Z"
   },
   {
    "duration": 43,
    "start_time": "2021-09-26T13:42:47.870Z"
   },
   {
    "duration": 7,
    "start_time": "2021-09-26T13:42:47.915Z"
   },
   {
    "duration": 251,
    "start_time": "2021-09-26T13:42:47.925Z"
   },
   {
    "duration": 605,
    "start_time": "2021-09-26T13:42:48.178Z"
   },
   {
    "duration": 543,
    "start_time": "2021-09-26T13:42:48.786Z"
   },
   {
    "duration": 505,
    "start_time": "2021-09-26T13:43:04.301Z"
   },
   {
    "duration": 6,
    "start_time": "2021-09-26T13:43:43.490Z"
   },
   {
    "duration": 472,
    "start_time": "2021-09-26T13:45:29.390Z"
   },
   {
    "duration": 404,
    "start_time": "2021-09-26T13:45:50.079Z"
   },
   {
    "duration": 969,
    "start_time": "2021-09-26T13:46:02.144Z"
   },
   {
    "duration": 1097,
    "start_time": "2021-09-26T13:46:03.116Z"
   },
   {
    "duration": 119,
    "start_time": "2021-09-26T13:46:04.216Z"
   },
   {
    "duration": 5,
    "start_time": "2021-09-26T13:46:04.338Z"
   },
   {
    "duration": 36,
    "start_time": "2021-09-26T13:46:04.346Z"
   },
   {
    "duration": 28,
    "start_time": "2021-09-26T13:46:04.384Z"
   },
   {
    "duration": 400,
    "start_time": "2021-09-26T13:46:04.415Z"
   },
   {
    "duration": 84,
    "start_time": "2021-09-26T13:46:04.819Z"
   },
   {
    "duration": 63,
    "start_time": "2021-09-26T13:46:04.905Z"
   },
   {
    "duration": 32,
    "start_time": "2021-09-26T13:46:04.971Z"
   },
   {
    "duration": 62,
    "start_time": "2021-09-26T13:46:05.005Z"
   },
   {
    "duration": 65,
    "start_time": "2021-09-26T13:46:05.069Z"
   },
   {
    "duration": 33,
    "start_time": "2021-09-26T13:46:05.136Z"
   },
   {
    "duration": 42,
    "start_time": "2021-09-26T13:46:05.172Z"
   },
   {
    "duration": 8,
    "start_time": "2021-09-26T13:46:05.217Z"
   },
   {
    "duration": 254,
    "start_time": "2021-09-26T13:46:05.228Z"
   },
   {
    "duration": 623,
    "start_time": "2021-09-26T13:46:05.484Z"
   },
   {
    "duration": 560,
    "start_time": "2021-09-26T13:46:06.109Z"
   },
   {
    "duration": 23,
    "start_time": "2021-09-26T13:48:57.739Z"
   },
   {
    "duration": 33,
    "start_time": "2021-09-26T13:49:03.509Z"
   },
   {
    "duration": 35,
    "start_time": "2021-09-26T13:49:22.975Z"
   },
   {
    "duration": 460,
    "start_time": "2021-09-26T13:49:59.409Z"
   },
   {
    "duration": 39,
    "start_time": "2021-09-26T13:50:04.376Z"
   },
   {
    "duration": 48,
    "start_time": "2021-09-26T13:50:08.039Z"
   },
   {
    "duration": 61,
    "start_time": "2021-09-26T13:50:39.499Z"
   },
   {
    "duration": 347,
    "start_time": "2021-09-26T13:50:58.120Z"
   },
   {
    "duration": 228,
    "start_time": "2021-09-26T13:52:59.064Z"
   },
   {
    "duration": 216,
    "start_time": "2021-09-26T13:53:25.296Z"
   },
   {
    "duration": 226,
    "start_time": "2021-09-26T13:53:58.671Z"
   },
   {
    "duration": 258,
    "start_time": "2021-09-26T13:54:07.162Z"
   },
   {
    "duration": 377,
    "start_time": "2021-09-26T13:54:26.845Z"
   },
   {
    "duration": 230,
    "start_time": "2021-09-26T13:55:34.524Z"
   },
   {
    "duration": 530,
    "start_time": "2021-09-26T13:56:24.738Z"
   },
   {
    "duration": 401,
    "start_time": "2021-09-26T13:56:35.890Z"
   },
   {
    "duration": 596,
    "start_time": "2021-09-26T13:57:21.539Z"
   },
   {
    "duration": 399,
    "start_time": "2021-09-26T13:57:41.799Z"
   },
   {
    "duration": 443,
    "start_time": "2021-09-26T13:58:26.748Z"
   },
   {
    "duration": 398,
    "start_time": "2021-09-26T14:02:52.451Z"
   },
   {
    "duration": 397,
    "start_time": "2021-09-26T14:08:39.100Z"
   },
   {
    "duration": 456,
    "start_time": "2021-09-26T14:09:13.927Z"
   },
   {
    "duration": 926,
    "start_time": "2021-09-26T14:15:03.152Z"
   },
   {
    "duration": 1039,
    "start_time": "2021-09-26T14:15:04.080Z"
   },
   {
    "duration": 119,
    "start_time": "2021-09-26T14:15:05.122Z"
   },
   {
    "duration": 5,
    "start_time": "2021-09-26T14:15:05.244Z"
   },
   {
    "duration": 18,
    "start_time": "2021-09-26T14:15:05.252Z"
   },
   {
    "duration": 14,
    "start_time": "2021-09-26T14:15:05.273Z"
   },
   {
    "duration": 422,
    "start_time": "2021-09-26T14:15:05.289Z"
   },
   {
    "duration": 88,
    "start_time": "2021-09-26T14:15:05.714Z"
   },
   {
    "duration": 69,
    "start_time": "2021-09-26T14:15:05.806Z"
   },
   {
    "duration": 34,
    "start_time": "2021-09-26T14:15:05.878Z"
   },
   {
    "duration": 61,
    "start_time": "2021-09-26T14:15:05.914Z"
   },
   {
    "duration": 64,
    "start_time": "2021-09-26T14:15:05.977Z"
   },
   {
    "duration": 25,
    "start_time": "2021-09-26T14:15:06.044Z"
   },
   {
    "duration": 43,
    "start_time": "2021-09-26T14:15:06.071Z"
   },
   {
    "duration": 8,
    "start_time": "2021-09-26T14:15:06.117Z"
   },
   {
    "duration": 258,
    "start_time": "2021-09-26T14:15:06.128Z"
   },
   {
    "duration": 430,
    "start_time": "2021-09-26T14:15:06.389Z"
   },
   {
    "duration": 471,
    "start_time": "2021-09-26T14:15:06.821Z"
   },
   {
    "duration": 453,
    "start_time": "2021-09-26T14:15:07.294Z"
   },
   {
    "duration": 1022,
    "start_time": "2021-09-26T14:19:30.607Z"
   },
   {
    "duration": 446,
    "start_time": "2021-09-26T14:19:44.756Z"
   },
   {
    "duration": 421,
    "start_time": "2021-09-26T14:20:07.158Z"
   },
   {
    "duration": 631,
    "start_time": "2021-09-26T14:33:45.637Z"
   },
   {
    "duration": 581,
    "start_time": "2021-09-26T14:35:05.859Z"
   },
   {
    "duration": 731,
    "start_time": "2021-09-26T14:35:11.921Z"
   },
   {
    "duration": 614,
    "start_time": "2021-09-26T14:36:09.455Z"
   },
   {
    "duration": 617,
    "start_time": "2021-09-26T14:36:30.496Z"
   },
   {
    "duration": 634,
    "start_time": "2021-09-26T14:36:45.577Z"
   },
   {
    "duration": 669,
    "start_time": "2021-09-26T14:39:07.561Z"
   },
   {
    "duration": 603,
    "start_time": "2021-09-26T14:39:24.844Z"
   },
   {
    "duration": 308,
    "start_time": "2021-09-26T18:15:41.103Z"
   },
   {
    "duration": 9,
    "start_time": "2021-09-26T18:16:15.010Z"
   },
   {
    "duration": 12,
    "start_time": "2021-09-26T18:16:20.715Z"
   },
   {
    "duration": 227,
    "start_time": "2021-09-26T18:16:34.332Z"
   },
   {
    "duration": 235,
    "start_time": "2021-09-26T18:17:03.681Z"
   },
   {
    "duration": 228,
    "start_time": "2021-09-26T18:17:12.820Z"
   },
   {
    "duration": 223,
    "start_time": "2021-09-26T18:17:24.710Z"
   },
   {
    "duration": 15,
    "start_time": "2021-09-26T18:18:09.565Z"
   },
   {
    "duration": 457,
    "start_time": "2021-09-26T18:21:44.226Z"
   },
   {
    "duration": 1440,
    "start_time": "2021-09-26T18:21:51.534Z"
   },
   {
    "duration": 1020,
    "start_time": "2021-09-26T18:21:52.977Z"
   },
   {
    "duration": 118,
    "start_time": "2021-09-26T18:21:54.000Z"
   },
   {
    "duration": 5,
    "start_time": "2021-09-26T18:21:54.121Z"
   },
   {
    "duration": 15,
    "start_time": "2021-09-26T18:21:54.128Z"
   },
   {
    "duration": 27,
    "start_time": "2021-09-26T18:21:54.146Z"
   },
   {
    "duration": 406,
    "start_time": "2021-09-26T18:21:54.176Z"
   },
   {
    "duration": 84,
    "start_time": "2021-09-26T18:21:54.586Z"
   },
   {
    "duration": 52,
    "start_time": "2021-09-26T18:21:54.673Z"
   },
   {
    "duration": 53,
    "start_time": "2021-09-26T18:21:54.727Z"
   },
   {
    "duration": 38,
    "start_time": "2021-09-26T18:21:54.782Z"
   },
   {
    "duration": 88,
    "start_time": "2021-09-26T18:21:54.822Z"
   },
   {
    "duration": 9,
    "start_time": "2021-09-26T18:21:54.913Z"
   },
   {
    "duration": 60,
    "start_time": "2021-09-26T18:21:54.925Z"
   },
   {
    "duration": 8,
    "start_time": "2021-09-26T18:21:54.988Z"
   },
   {
    "duration": 237,
    "start_time": "2021-09-26T18:21:54.998Z"
   },
   {
    "duration": 630,
    "start_time": "2021-09-26T18:21:55.238Z"
   },
   {
    "duration": 414,
    "start_time": "2021-09-26T18:21:55.870Z"
   },
   {
    "duration": 463,
    "start_time": "2021-09-26T18:21:56.287Z"
   },
   {
    "duration": 18,
    "start_time": "2021-09-26T18:21:56.752Z"
   },
   {
    "duration": 15,
    "start_time": "2021-09-26T18:24:41.896Z"
   },
   {
    "duration": 15,
    "start_time": "2021-09-26T18:34:46.931Z"
   },
   {
    "duration": 276,
    "start_time": "2021-09-26T18:43:46.347Z"
   },
   {
    "duration": 664,
    "start_time": "2021-09-26T18:44:29.442Z"
   },
   {
    "duration": 403,
    "start_time": "2021-09-26T18:44:41.729Z"
   },
   {
    "duration": 9,
    "start_time": "2021-09-26T18:45:10.389Z"
   },
   {
    "duration": 284,
    "start_time": "2021-09-26T18:45:20.449Z"
   },
   {
    "duration": 876,
    "start_time": "2021-09-26T18:56:08.066Z"
   },
   {
    "duration": 1388,
    "start_time": "2021-09-26T18:56:16.515Z"
   },
   {
    "duration": 1035,
    "start_time": "2021-09-26T18:56:17.905Z"
   },
   {
    "duration": 114,
    "start_time": "2021-09-26T18:56:18.943Z"
   },
   {
    "duration": 5,
    "start_time": "2021-09-26T18:56:19.068Z"
   },
   {
    "duration": 9,
    "start_time": "2021-09-26T18:56:19.075Z"
   },
   {
    "duration": 16,
    "start_time": "2021-09-26T18:56:19.086Z"
   },
   {
    "duration": 822,
    "start_time": "2021-09-26T18:56:19.104Z"
   },
   {
    "duration": 81,
    "start_time": "2021-09-26T18:56:19.930Z"
   },
   {
    "duration": 61,
    "start_time": "2021-09-26T18:56:20.014Z"
   },
   {
    "duration": 39,
    "start_time": "2021-09-26T18:56:20.078Z"
   },
   {
    "duration": 76,
    "start_time": "2021-09-26T18:56:20.120Z"
   },
   {
    "duration": 80,
    "start_time": "2021-09-26T18:56:20.198Z"
   },
   {
    "duration": 9,
    "start_time": "2021-09-26T18:56:20.280Z"
   },
   {
    "duration": 64,
    "start_time": "2021-09-26T18:56:20.291Z"
   },
   {
    "duration": 8,
    "start_time": "2021-09-26T18:56:20.367Z"
   },
   {
    "duration": 248,
    "start_time": "2021-09-26T18:56:20.377Z"
   },
   {
    "duration": 641,
    "start_time": "2021-09-26T18:56:20.627Z"
   },
   {
    "duration": 412,
    "start_time": "2021-09-26T18:56:21.271Z"
   },
   {
    "duration": 471,
    "start_time": "2021-09-26T18:56:21.685Z"
   },
   {
    "duration": 113,
    "start_time": "2021-09-26T18:56:22.158Z"
   },
   {
    "duration": 15,
    "start_time": "2021-09-26T18:56:22.273Z"
   },
   {
    "duration": 320,
    "start_time": "2021-09-26T18:56:22.291Z"
   },
   {
    "duration": 851,
    "start_time": "2021-09-26T19:04:05.933Z"
   },
   {
    "duration": 1149,
    "start_time": "2021-09-26T19:19:05.180Z"
   },
   {
    "duration": 11060,
    "start_time": "2021-09-26T19:19:32.150Z"
   },
   {
    "duration": 9798,
    "start_time": "2021-09-26T19:19:48.047Z"
   },
   {
    "duration": 1189,
    "start_time": "2021-09-26T19:20:03.533Z"
   },
   {
    "duration": 1371,
    "start_time": "2021-09-26T19:21:36.961Z"
   },
   {
    "duration": 647,
    "start_time": "2021-09-26T19:21:58.356Z"
   },
   {
    "duration": 665,
    "start_time": "2021-09-26T19:22:04.323Z"
   },
   {
    "duration": 48,
    "start_time": "2021-09-26T19:28:38.949Z"
   },
   {
    "duration": 42,
    "start_time": "2021-09-26T19:30:27.638Z"
   },
   {
    "duration": 1425,
    "start_time": "2021-09-26T19:30:33.656Z"
   },
   {
    "duration": 1026,
    "start_time": "2021-09-26T19:30:35.084Z"
   },
   {
    "duration": 123,
    "start_time": "2021-09-26T19:30:36.113Z"
   },
   {
    "duration": 5,
    "start_time": "2021-09-26T19:30:36.240Z"
   },
   {
    "duration": 22,
    "start_time": "2021-09-26T19:30:36.248Z"
   },
   {
    "duration": 12,
    "start_time": "2021-09-26T19:30:36.273Z"
   },
   {
    "duration": 699,
    "start_time": "2021-09-26T19:30:36.287Z"
   },
   {
    "duration": 740,
    "start_time": "2021-09-26T19:30:36.989Z"
   },
   {
    "duration": 89,
    "start_time": "2021-09-26T19:30:37.734Z"
   },
   {
    "duration": 60,
    "start_time": "2021-09-26T19:30:37.826Z"
   },
   {
    "duration": 32,
    "start_time": "2021-09-26T19:30:37.888Z"
   },
   {
    "duration": 60,
    "start_time": "2021-09-26T19:30:37.922Z"
   },
   {
    "duration": 67,
    "start_time": "2021-09-26T19:30:37.984Z"
   },
   {
    "duration": 21,
    "start_time": "2021-09-26T19:30:38.053Z"
   },
   {
    "duration": 43,
    "start_time": "2021-09-26T19:30:38.076Z"
   },
   {
    "duration": 8,
    "start_time": "2021-09-26T19:30:38.121Z"
   },
   {
    "duration": 250,
    "start_time": "2021-09-26T19:30:38.131Z"
   },
   {
    "duration": 627,
    "start_time": "2021-09-26T19:30:38.384Z"
   },
   {
    "duration": 417,
    "start_time": "2021-09-26T19:30:39.014Z"
   },
   {
    "duration": 546,
    "start_time": "2021-09-26T19:30:39.433Z"
   },
   {
    "duration": 15,
    "start_time": "2021-09-26T19:30:39.982Z"
   },
   {
    "duration": 24,
    "start_time": "2021-09-26T19:30:40.000Z"
   },
   {
    "duration": 329,
    "start_time": "2021-09-26T19:30:40.026Z"
   },
   {
    "duration": 123,
    "start_time": "2021-09-26T19:33:59.412Z"
   },
   {
    "duration": 84,
    "start_time": "2021-09-26T19:41:32.886Z"
   },
   {
    "duration": 10,
    "start_time": "2021-09-26T19:44:03.236Z"
   },
   {
    "duration": 1389,
    "start_time": "2021-09-26T19:51:14.583Z"
   },
   {
    "duration": 1023,
    "start_time": "2021-09-26T19:51:15.974Z"
   },
   {
    "duration": 114,
    "start_time": "2021-09-26T19:51:17.000Z"
   },
   {
    "duration": 5,
    "start_time": "2021-09-26T19:51:17.116Z"
   },
   {
    "duration": 10,
    "start_time": "2021-09-26T19:51:17.123Z"
   },
   {
    "duration": 34,
    "start_time": "2021-09-26T19:51:17.135Z"
   },
   {
    "duration": 676,
    "start_time": "2021-09-26T19:51:17.171Z"
   },
   {
    "duration": 677,
    "start_time": "2021-09-26T19:51:17.850Z"
   },
   {
    "duration": 86,
    "start_time": "2021-09-26T19:51:18.531Z"
   },
   {
    "duration": 58,
    "start_time": "2021-09-26T19:51:18.620Z"
   },
   {
    "duration": 30,
    "start_time": "2021-09-26T19:51:18.680Z"
   },
   {
    "duration": 58,
    "start_time": "2021-09-26T19:51:18.712Z"
   },
   {
    "duration": 69,
    "start_time": "2021-09-26T19:51:18.772Z"
   },
   {
    "duration": 30,
    "start_time": "2021-09-26T19:51:18.844Z"
   },
   {
    "duration": 44,
    "start_time": "2021-09-26T19:51:18.876Z"
   },
   {
    "duration": 247,
    "start_time": "2021-09-26T19:51:18.922Z"
   },
   {
    "duration": 624,
    "start_time": "2021-09-26T19:51:19.171Z"
   },
   {
    "duration": 418,
    "start_time": "2021-09-26T19:51:19.798Z"
   },
   {
    "duration": 552,
    "start_time": "2021-09-26T19:51:20.219Z"
   },
   {
    "duration": 15,
    "start_time": "2021-09-26T19:51:20.774Z"
   },
   {
    "duration": 20,
    "start_time": "2021-09-26T19:51:20.791Z"
   },
   {
    "duration": 318,
    "start_time": "2021-09-26T19:51:20.814Z"
   },
   {
    "duration": 1034,
    "start_time": "2021-09-26T19:53:58.833Z"
   },
   {
    "duration": 1025,
    "start_time": "2021-09-26T19:59:21.132Z"
   },
   {
    "duration": 668,
    "start_time": "2021-09-26T20:01:56.902Z"
   },
   {
    "duration": 1153,
    "start_time": "2021-09-26T20:09:16.232Z"
   },
   {
    "duration": 1048,
    "start_time": "2021-09-26T20:10:07.605Z"
   },
   {
    "duration": 598,
    "start_time": "2021-09-26T20:17:16.983Z"
   },
   {
    "duration": 753,
    "start_time": "2021-09-26T20:17:35.679Z"
   },
   {
    "duration": 639,
    "start_time": "2021-09-26T20:17:48.007Z"
   },
   {
    "duration": 1964,
    "start_time": "2021-09-26T20:19:35.133Z"
   },
   {
    "duration": 1999,
    "start_time": "2021-09-26T20:20:25.372Z"
   },
   {
    "duration": 2035,
    "start_time": "2021-09-26T20:21:08.970Z"
   },
   {
    "duration": 2039,
    "start_time": "2021-09-26T20:21:32.311Z"
   },
   {
    "duration": 1934,
    "start_time": "2021-09-26T20:21:47.144Z"
   },
   {
    "duration": 1412,
    "start_time": "2021-09-26T21:09:43.392Z"
   },
   {
    "duration": 1009,
    "start_time": "2021-09-26T21:09:44.806Z"
   },
   {
    "duration": 115,
    "start_time": "2021-09-26T21:09:45.817Z"
   },
   {
    "duration": 5,
    "start_time": "2021-09-26T21:09:45.935Z"
   },
   {
    "duration": 28,
    "start_time": "2021-09-26T21:09:45.942Z"
   },
   {
    "duration": 16,
    "start_time": "2021-09-26T21:09:45.973Z"
   },
   {
    "duration": 695,
    "start_time": "2021-09-26T21:09:45.992Z"
   },
   {
    "duration": 686,
    "start_time": "2021-09-26T21:09:46.691Z"
   },
   {
    "duration": 87,
    "start_time": "2021-09-26T21:09:47.380Z"
   },
   {
    "duration": 52,
    "start_time": "2021-09-26T21:09:47.470Z"
   },
   {
    "duration": 58,
    "start_time": "2021-09-26T21:09:47.525Z"
   },
   {
    "duration": 38,
    "start_time": "2021-09-26T21:09:47.586Z"
   },
   {
    "duration": 96,
    "start_time": "2021-09-26T21:09:47.627Z"
   },
   {
    "duration": 11,
    "start_time": "2021-09-26T21:09:47.726Z"
   },
   {
    "duration": 69,
    "start_time": "2021-09-26T21:09:47.740Z"
   },
   {
    "duration": 245,
    "start_time": "2021-09-26T21:09:47.812Z"
   },
   {
    "duration": 2043,
    "start_time": "2021-09-26T21:09:48.059Z"
   },
   {
    "duration": 17,
    "start_time": "2021-09-26T21:09:50.104Z"
   },
   {
    "duration": 45,
    "start_time": "2021-09-26T21:09:50.124Z"
   },
   {
    "duration": 87,
    "start_time": "2021-09-27T14:14:50.011Z"
   },
   {
    "duration": 1419,
    "start_time": "2021-09-27T14:14:57.122Z"
   },
   {
    "duration": 940,
    "start_time": "2021-09-27T14:14:58.543Z"
   },
   {
    "duration": 110,
    "start_time": "2021-09-27T14:14:59.486Z"
   },
   {
    "duration": 5,
    "start_time": "2021-09-27T14:14:59.599Z"
   },
   {
    "duration": 11,
    "start_time": "2021-09-27T14:14:59.606Z"
   },
   {
    "duration": 29,
    "start_time": "2021-09-27T14:14:59.619Z"
   },
   {
    "duration": 660,
    "start_time": "2021-09-27T14:14:59.656Z"
   },
   {
    "duration": 661,
    "start_time": "2021-09-27T14:15:00.320Z"
   },
   {
    "duration": 80,
    "start_time": "2021-09-27T14:15:00.984Z"
   },
   {
    "duration": 45,
    "start_time": "2021-09-27T14:15:01.067Z"
   },
   {
    "duration": 50,
    "start_time": "2021-09-27T14:15:01.114Z"
   },
   {
    "duration": 35,
    "start_time": "2021-09-27T14:15:01.166Z"
   },
   {
    "duration": 86,
    "start_time": "2021-09-27T14:15:01.203Z"
   },
   {
    "duration": 8,
    "start_time": "2021-09-27T14:15:01.291Z"
   },
   {
    "duration": 66,
    "start_time": "2021-09-27T14:15:01.302Z"
   },
   {
    "duration": 225,
    "start_time": "2021-09-27T14:15:01.370Z"
   },
   {
    "duration": 1935,
    "start_time": "2021-09-27T14:15:01.597Z"
   },
   {
    "duration": 27,
    "start_time": "2021-09-27T14:15:03.535Z"
   },
   {
    "duration": 17,
    "start_time": "2021-09-27T14:15:03.565Z"
   },
   {
    "duration": 215,
    "start_time": "2021-09-27T14:19:57.106Z"
   },
   {
    "duration": 8,
    "start_time": "2021-09-27T14:31:37.646Z"
   },
   {
    "duration": 425,
    "start_time": "2021-09-27T14:32:23.398Z"
   },
   {
    "duration": 263,
    "start_time": "2021-09-27T14:32:26.742Z"
   },
   {
    "duration": 278,
    "start_time": "2021-09-27T14:32:29.654Z"
   },
   {
    "duration": 12,
    "start_time": "2021-09-27T14:32:31.373Z"
   },
   {
    "duration": 253,
    "start_time": "2021-09-27T19:23:53.310Z"
   },
   {
    "duration": 698,
    "start_time": "2021-09-27T19:36:15.037Z"
   },
   {
    "duration": 345,
    "start_time": "2021-09-27T19:36:56.634Z"
   },
   {
    "duration": 1139,
    "start_time": "2021-09-27T19:36:59.915Z"
   },
   {
    "duration": 358,
    "start_time": "2021-09-27T19:37:01.942Z"
   },
   {
    "duration": 1078,
    "start_time": "2021-09-27T19:37:10.325Z"
   },
   {
    "duration": 407,
    "start_time": "2021-09-27T19:37:17.077Z"
   },
   {
    "duration": 5,
    "start_time": "2021-09-27T19:37:21.878Z"
   },
   {
    "duration": 310,
    "start_time": "2021-09-27T19:49:13.861Z"
   },
   {
    "duration": 1065,
    "start_time": "2021-09-27T19:49:22.128Z"
   },
   {
    "duration": 705,
    "start_time": "2021-09-27T19:49:23.195Z"
   },
   {
    "duration": 81,
    "start_time": "2021-09-27T19:49:23.902Z"
   },
   {
    "duration": 3,
    "start_time": "2021-09-27T19:49:23.985Z"
   },
   {
    "duration": 12,
    "start_time": "2021-09-27T19:49:23.990Z"
   },
   {
    "duration": 12,
    "start_time": "2021-09-27T19:49:24.003Z"
   },
   {
    "duration": 427,
    "start_time": "2021-09-27T19:49:24.017Z"
   },
   {
    "duration": 411,
    "start_time": "2021-09-27T19:49:24.447Z"
   },
   {
    "duration": 59,
    "start_time": "2021-09-27T19:49:24.859Z"
   },
   {
    "duration": 34,
    "start_time": "2021-09-27T19:49:24.920Z"
   },
   {
    "duration": 36,
    "start_time": "2021-09-27T19:49:24.956Z"
   },
   {
    "duration": 24,
    "start_time": "2021-09-27T19:49:24.994Z"
   },
   {
    "duration": 59,
    "start_time": "2021-09-27T19:49:25.020Z"
   },
   {
    "duration": 6,
    "start_time": "2021-09-27T19:49:25.081Z"
   },
   {
    "duration": 29,
    "start_time": "2021-09-27T19:49:25.088Z"
   },
   {
    "duration": 191,
    "start_time": "2021-09-27T19:49:25.119Z"
   },
   {
    "duration": 1338,
    "start_time": "2021-09-27T19:49:25.312Z"
   },
   {
    "duration": 11,
    "start_time": "2021-09-27T19:49:26.652Z"
   },
   {
    "duration": 13,
    "start_time": "2021-09-27T19:49:26.677Z"
   },
   {
    "duration": 29,
    "start_time": "2021-09-27T20:18:11.123Z"
   },
   {
    "duration": 1111,
    "start_time": "2021-09-27T20:18:17.637Z"
   },
   {
    "duration": 730,
    "start_time": "2021-09-27T20:18:18.750Z"
   },
   {
    "duration": 73,
    "start_time": "2021-09-27T20:18:19.483Z"
   },
   {
    "duration": 20,
    "start_time": "2021-09-27T20:18:19.558Z"
   },
   {
    "duration": 6,
    "start_time": "2021-09-27T20:18:19.580Z"
   },
   {
    "duration": 9,
    "start_time": "2021-09-27T20:18:19.588Z"
   },
   {
    "duration": 446,
    "start_time": "2021-09-27T20:18:19.599Z"
   },
   {
    "duration": 438,
    "start_time": "2021-09-27T20:18:20.048Z"
   },
   {
    "duration": 53,
    "start_time": "2021-09-27T20:18:20.488Z"
   },
   {
    "duration": 54,
    "start_time": "2021-09-27T20:18:20.543Z"
   },
   {
    "duration": 22,
    "start_time": "2021-09-27T20:18:20.598Z"
   },
   {
    "duration": 27,
    "start_time": "2021-09-27T20:18:20.623Z"
   },
   {
    "duration": 65,
    "start_time": "2021-09-27T20:18:20.652Z"
   },
   {
    "duration": 5,
    "start_time": "2021-09-27T20:18:20.719Z"
   },
   {
    "duration": 31,
    "start_time": "2021-09-27T20:18:20.726Z"
   },
   {
    "duration": 149,
    "start_time": "2021-09-27T20:18:20.776Z"
   },
   {
    "duration": 1254,
    "start_time": "2021-09-27T20:18:20.927Z"
   },
   {
    "duration": 12,
    "start_time": "2021-09-27T20:18:22.183Z"
   },
   {
    "duration": 14,
    "start_time": "2021-09-27T20:18:22.197Z"
   },
   {
    "duration": 31,
    "start_time": "2021-09-27T20:18:50.930Z"
   },
   {
    "duration": 147,
    "start_time": "2021-09-27T20:40:44.809Z"
   },
   {
    "duration": 1123,
    "start_time": "2021-09-27T21:20:16.168Z"
   },
   {
    "duration": 759,
    "start_time": "2021-09-27T21:20:17.293Z"
   },
   {
    "duration": 96,
    "start_time": "2021-09-27T21:20:18.057Z"
   },
   {
    "duration": 3,
    "start_time": "2021-09-27T21:20:18.155Z"
   },
   {
    "duration": 19,
    "start_time": "2021-09-27T21:20:18.159Z"
   },
   {
    "duration": 11,
    "start_time": "2021-09-27T21:20:18.180Z"
   },
   {
    "duration": 444,
    "start_time": "2021-09-27T21:20:18.194Z"
   },
   {
    "duration": 418,
    "start_time": "2021-09-27T21:20:18.640Z"
   },
   {
    "duration": 57,
    "start_time": "2021-09-27T21:20:19.060Z"
   },
   {
    "duration": 37,
    "start_time": "2021-09-27T21:20:19.119Z"
   },
   {
    "duration": 35,
    "start_time": "2021-09-27T21:20:19.158Z"
   },
   {
    "duration": 27,
    "start_time": "2021-09-27T21:20:19.195Z"
   },
   {
    "duration": 79,
    "start_time": "2021-09-27T21:20:19.224Z"
   },
   {
    "duration": 8,
    "start_time": "2021-09-27T21:20:19.305Z"
   },
   {
    "duration": 38,
    "start_time": "2021-09-27T21:20:19.315Z"
   },
   {
    "duration": 153,
    "start_time": "2021-09-27T21:20:19.355Z"
   },
   {
    "duration": 1270,
    "start_time": "2021-09-27T21:20:19.510Z"
   },
   {
    "duration": 11,
    "start_time": "2021-09-27T21:20:20.782Z"
   },
   {
    "duration": 10,
    "start_time": "2021-09-27T21:20:20.795Z"
   },
   {
    "duration": 9383,
    "start_time": "2021-09-27T21:26:17.009Z"
   },
   {
    "duration": 1114,
    "start_time": "2021-09-27T21:26:37.128Z"
   },
   {
    "duration": 723,
    "start_time": "2021-09-27T21:26:38.244Z"
   },
   {
    "duration": 74,
    "start_time": "2021-09-27T21:26:38.977Z"
   },
   {
    "duration": 4,
    "start_time": "2021-09-27T21:26:39.053Z"
   },
   {
    "duration": 23,
    "start_time": "2021-09-27T21:26:39.059Z"
   },
   {
    "duration": 22,
    "start_time": "2021-09-27T21:26:39.084Z"
   },
   {
    "duration": 433,
    "start_time": "2021-09-27T21:26:39.108Z"
   },
   {
    "duration": 437,
    "start_time": "2021-09-27T21:26:39.543Z"
   },
   {
    "duration": 53,
    "start_time": "2021-09-27T21:26:39.983Z"
   },
   {
    "duration": 58,
    "start_time": "2021-09-27T21:26:40.038Z"
   },
   {
    "duration": 20,
    "start_time": "2021-09-27T21:26:40.098Z"
   },
   {
    "duration": 24,
    "start_time": "2021-09-27T21:26:40.120Z"
   },
   {
    "duration": 68,
    "start_time": "2021-09-27T21:26:40.145Z"
   },
   {
    "duration": 6,
    "start_time": "2021-09-27T21:26:40.215Z"
   },
   {
    "duration": 26,
    "start_time": "2021-09-27T21:26:40.223Z"
   },
   {
    "duration": 153,
    "start_time": "2021-09-27T21:26:40.251Z"
   },
   {
    "duration": 1250,
    "start_time": "2021-09-27T21:26:40.406Z"
   },
   {
    "duration": 19,
    "start_time": "2021-09-27T21:26:41.658Z"
   },
   {
    "duration": 13,
    "start_time": "2021-09-27T21:26:41.679Z"
   },
   {
    "duration": 4,
    "start_time": "2021-09-27T21:30:03.302Z"
   },
   {
    "duration": 1647,
    "start_time": "2021-09-27T21:34:02.384Z"
   },
   {
    "duration": 98,
    "start_time": "2021-09-27T21:44:26.658Z"
   },
   {
    "duration": 277,
    "start_time": "2021-09-27T21:44:45.346Z"
   },
   {
    "duration": 288,
    "start_time": "2021-09-27T21:44:57.274Z"
   },
   {
    "duration": 227,
    "start_time": "2021-09-27T21:47:22.023Z"
   },
   {
    "duration": 355,
    "start_time": "2021-09-27T21:47:36.708Z"
   },
   {
    "duration": 102,
    "start_time": "2021-09-27T21:48:55.568Z"
   },
   {
    "duration": 386,
    "start_time": "2021-09-27T21:49:12.129Z"
   },
   {
    "duration": 373,
    "start_time": "2021-09-27T21:49:31.100Z"
   },
   {
    "duration": 438,
    "start_time": "2021-09-27T21:49:55.680Z"
   },
   {
    "duration": 349,
    "start_time": "2021-09-27T21:50:11.065Z"
   },
   {
    "duration": 352,
    "start_time": "2021-09-27T21:50:21.112Z"
   },
   {
    "duration": 357,
    "start_time": "2021-09-27T21:51:25.273Z"
   },
   {
    "duration": 335,
    "start_time": "2021-09-27T21:51:49.968Z"
   },
   {
    "duration": 357,
    "start_time": "2021-09-27T21:52:10.278Z"
   },
   {
    "duration": 504,
    "start_time": "2021-09-27T21:52:38.510Z"
   },
   {
    "duration": 1613,
    "start_time": "2021-09-27T21:53:35.596Z"
   },
   {
    "duration": 353,
    "start_time": "2021-09-27T21:53:49.943Z"
   },
   {
    "duration": 564,
    "start_time": "2021-09-27T21:54:03.050Z"
   },
   {
    "duration": 657,
    "start_time": "2021-09-27T21:55:48.592Z"
   },
   {
    "duration": 418,
    "start_time": "2021-09-27T21:56:13.876Z"
   },
   {
    "duration": 402,
    "start_time": "2021-09-27T21:56:37.030Z"
   },
   {
    "duration": 1147,
    "start_time": "2021-09-27T21:57:18.799Z"
   },
   {
    "duration": 792,
    "start_time": "2021-09-27T21:57:19.950Z"
   },
   {
    "duration": 90,
    "start_time": "2021-09-27T21:57:20.745Z"
   },
   {
    "duration": 3,
    "start_time": "2021-09-27T21:57:20.837Z"
   },
   {
    "duration": 10,
    "start_time": "2021-09-27T21:57:20.842Z"
   },
   {
    "duration": 11,
    "start_time": "2021-09-27T21:57:20.854Z"
   },
   {
    "duration": 452,
    "start_time": "2021-09-27T21:57:20.878Z"
   },
   {
    "duration": 432,
    "start_time": "2021-09-27T21:57:21.332Z"
   },
   {
    "duration": 63,
    "start_time": "2021-09-27T21:57:21.765Z"
   },
   {
    "duration": 35,
    "start_time": "2021-09-27T21:57:21.830Z"
   },
   {
    "duration": 26,
    "start_time": "2021-09-27T21:57:21.877Z"
   },
   {
    "duration": 25,
    "start_time": "2021-09-27T21:57:21.905Z"
   },
   {
    "duration": 67,
    "start_time": "2021-09-27T21:57:21.932Z"
   },
   {
    "duration": 6,
    "start_time": "2021-09-27T21:57:22.001Z"
   },
   {
    "duration": 29,
    "start_time": "2021-09-27T21:57:22.008Z"
   },
   {
    "duration": 161,
    "start_time": "2021-09-27T21:57:22.038Z"
   },
   {
    "duration": 1261,
    "start_time": "2021-09-27T21:57:22.201Z"
   },
   {
    "duration": 394,
    "start_time": "2021-09-27T21:57:23.464Z"
   },
   {
    "duration": 399,
    "start_time": "2021-09-27T21:57:23.860Z"
   },
   {
    "duration": 21,
    "start_time": "2021-09-27T21:57:24.261Z"
   },
   {
    "duration": 14,
    "start_time": "2021-09-27T21:57:24.284Z"
   },
   {
    "duration": 1155,
    "start_time": "2021-09-27T22:16:41.759Z"
   },
   {
    "duration": 793,
    "start_time": "2021-09-27T22:16:42.916Z"
   },
   {
    "duration": 82,
    "start_time": "2021-09-27T22:16:43.711Z"
   },
   {
    "duration": 4,
    "start_time": "2021-09-27T22:16:43.795Z"
   },
   {
    "duration": 11,
    "start_time": "2021-09-27T22:16:43.801Z"
   },
   {
    "duration": 7,
    "start_time": "2021-09-27T22:16:43.814Z"
   },
   {
    "duration": 440,
    "start_time": "2021-09-27T22:16:43.823Z"
   },
   {
    "duration": 436,
    "start_time": "2021-09-27T22:16:44.266Z"
   },
   {
    "duration": 50,
    "start_time": "2021-09-27T22:16:44.704Z"
   },
   {
    "duration": 56,
    "start_time": "2021-09-27T22:16:44.756Z"
   },
   {
    "duration": 21,
    "start_time": "2021-09-27T22:16:44.814Z"
   },
   {
    "duration": 42,
    "start_time": "2021-09-27T22:16:44.837Z"
   },
   {
    "duration": 48,
    "start_time": "2021-09-27T22:16:44.881Z"
   },
   {
    "duration": 6,
    "start_time": "2021-09-27T22:16:44.931Z"
   },
   {
    "duration": 54,
    "start_time": "2021-09-27T22:16:44.939Z"
   },
   {
    "duration": 155,
    "start_time": "2021-09-27T22:16:44.994Z"
   },
   {
    "duration": 1270,
    "start_time": "2021-09-27T22:16:45.151Z"
   },
   {
    "duration": 398,
    "start_time": "2021-09-27T22:16:46.423Z"
   },
   {
    "duration": 417,
    "start_time": "2021-09-27T22:16:46.823Z"
   },
   {
    "duration": 10,
    "start_time": "2021-09-27T22:16:47.241Z"
   },
   {
    "duration": 24,
    "start_time": "2021-09-27T22:16:47.252Z"
   },
   {
    "duration": 1271,
    "start_time": "2021-09-27T22:18:12.162Z"
   },
   {
    "duration": 721,
    "start_time": "2021-09-27T22:18:13.434Z"
   },
   {
    "duration": 78,
    "start_time": "2021-09-27T22:18:14.157Z"
   },
   {
    "duration": 5,
    "start_time": "2021-09-27T22:18:14.237Z"
   },
   {
    "duration": 12,
    "start_time": "2021-09-27T22:18:14.243Z"
   },
   {
    "duration": 22,
    "start_time": "2021-09-27T22:18:14.257Z"
   },
   {
    "duration": 420,
    "start_time": "2021-09-27T22:18:14.281Z"
   },
   {
    "duration": 440,
    "start_time": "2021-09-27T22:18:14.704Z"
   },
   {
    "duration": 64,
    "start_time": "2021-09-27T22:18:15.146Z"
   },
   {
    "duration": 35,
    "start_time": "2021-09-27T22:18:15.212Z"
   },
   {
    "duration": 35,
    "start_time": "2021-09-27T22:18:15.249Z"
   },
   {
    "duration": 28,
    "start_time": "2021-09-27T22:18:15.286Z"
   },
   {
    "duration": 39,
    "start_time": "2021-09-27T22:18:15.316Z"
   },
   {
    "duration": 8,
    "start_time": "2021-09-27T22:18:15.378Z"
   },
   {
    "duration": 28,
    "start_time": "2021-09-27T22:18:15.389Z"
   },
   {
    "duration": 159,
    "start_time": "2021-09-27T22:18:15.419Z"
   },
   {
    "duration": 1301,
    "start_time": "2021-09-27T22:18:15.580Z"
   },
   {
    "duration": 435,
    "start_time": "2021-09-27T22:18:16.884Z"
   },
   {
    "duration": 420,
    "start_time": "2021-09-27T22:18:17.322Z"
   },
   {
    "duration": 9,
    "start_time": "2021-09-27T22:18:17.744Z"
   },
   {
    "duration": 26,
    "start_time": "2021-09-27T22:18:17.755Z"
   },
   {
    "duration": 1423,
    "start_time": "2021-09-28T17:44:21.308Z"
   },
   {
    "duration": 933,
    "start_time": "2021-09-28T17:44:22.734Z"
   },
   {
    "duration": 106,
    "start_time": "2021-09-28T17:44:23.670Z"
   },
   {
    "duration": 5,
    "start_time": "2021-09-28T17:44:23.779Z"
   },
   {
    "duration": 8,
    "start_time": "2021-09-28T17:44:23.787Z"
   },
   {
    "duration": 13,
    "start_time": "2021-09-28T17:44:23.797Z"
   },
   {
    "duration": 685,
    "start_time": "2021-09-28T17:44:23.813Z"
   },
   {
    "duration": 665,
    "start_time": "2021-09-28T17:44:24.502Z"
   },
   {
    "duration": 73,
    "start_time": "2021-09-28T17:44:25.169Z"
   },
   {
    "duration": 63,
    "start_time": "2021-09-28T17:44:25.244Z"
   },
   {
    "duration": 29,
    "start_time": "2021-09-28T17:44:25.309Z"
   },
   {
    "duration": 55,
    "start_time": "2021-09-28T17:44:25.340Z"
   },
   {
    "duration": 91,
    "start_time": "2021-09-28T17:44:25.397Z"
   },
   {
    "duration": 8,
    "start_time": "2021-09-28T17:44:25.491Z"
   },
   {
    "duration": 42,
    "start_time": "2021-09-28T17:44:25.501Z"
   },
   {
    "duration": 241,
    "start_time": "2021-09-28T17:44:25.545Z"
   },
   {
    "duration": 2046,
    "start_time": "2021-09-28T17:44:25.789Z"
   },
   {
    "duration": 672,
    "start_time": "2021-09-28T17:44:27.838Z"
   },
   {
    "duration": 700,
    "start_time": "2021-09-28T17:44:28.512Z"
   },
   {
    "duration": 14,
    "start_time": "2021-09-28T17:44:29.214Z"
   },
   {
    "duration": 41,
    "start_time": "2021-09-28T17:44:29.230Z"
   },
   {
    "duration": 8305,
    "start_time": "2021-09-28T17:53:16.436Z"
   },
   {
    "duration": 510,
    "start_time": "2021-09-28T17:53:36.955Z"
   },
   {
    "duration": 601,
    "start_time": "2021-09-28T17:53:59.773Z"
   },
   {
    "duration": 703,
    "start_time": "2021-09-28T17:54:34.546Z"
   },
   {
    "duration": 596,
    "start_time": "2021-09-28T17:54:46.273Z"
   },
   {
    "duration": 403,
    "start_time": "2021-09-28T17:57:28.858Z"
   },
   {
    "duration": 1465,
    "start_time": "2021-09-30T19:39:24.110Z"
   },
   {
    "duration": 1083,
    "start_time": "2021-09-30T19:39:25.579Z"
   },
   {
    "duration": 131,
    "start_time": "2021-09-30T19:39:26.666Z"
   },
   {
    "duration": 5,
    "start_time": "2021-09-30T19:39:26.801Z"
   },
   {
    "duration": 10,
    "start_time": "2021-09-30T19:39:26.809Z"
   },
   {
    "duration": 13,
    "start_time": "2021-09-30T19:39:26.821Z"
   },
   {
    "duration": 788,
    "start_time": "2021-09-30T19:39:26.836Z"
   },
   {
    "duration": 748,
    "start_time": "2021-09-30T19:39:27.627Z"
   },
   {
    "duration": 77,
    "start_time": "2021-09-30T19:39:28.386Z"
   },
   {
    "duration": 69,
    "start_time": "2021-09-30T19:39:28.466Z"
   },
   {
    "duration": 51,
    "start_time": "2021-09-30T19:39:28.538Z"
   },
   {
    "duration": 38,
    "start_time": "2021-09-30T19:39:28.592Z"
   },
   {
    "duration": 102,
    "start_time": "2021-09-30T19:39:28.632Z"
   },
   {
    "duration": 11,
    "start_time": "2021-09-30T19:39:28.737Z"
   },
   {
    "duration": 68,
    "start_time": "2021-09-30T19:39:28.751Z"
   },
   {
    "duration": 263,
    "start_time": "2021-09-30T19:39:28.822Z"
   },
   {
    "duration": 2133,
    "start_time": "2021-09-30T19:39:29.087Z"
   },
   {
    "duration": 763,
    "start_time": "2021-09-30T19:39:31.223Z"
   },
   {
    "duration": 1212,
    "start_time": "2021-09-30T19:39:31.990Z"
   },
   {
    "duration": 1050,
    "start_time": "2021-09-30T19:39:33.206Z"
   },
   {
    "duration": 454,
    "start_time": "2021-09-30T19:39:34.260Z"
   },
   {
    "duration": 21,
    "start_time": "2021-09-30T19:39:34.717Z"
   },
   {
    "duration": 16,
    "start_time": "2021-09-30T19:39:34.741Z"
   },
   {
    "duration": 735,
    "start_time": "2021-09-30T19:40:34.652Z"
   },
   {
    "duration": 592,
    "start_time": "2021-09-30T19:40:48.385Z"
   },
   {
    "duration": 601,
    "start_time": "2021-09-30T19:41:11.639Z"
   },
   {
    "duration": 393,
    "start_time": "2021-09-30T19:41:57.724Z"
   },
   {
    "duration": 298,
    "start_time": "2021-10-01T10:29:06.813Z"
   },
   {
    "duration": 1165,
    "start_time": "2021-10-01T10:29:11.581Z"
   },
   {
    "duration": 910,
    "start_time": "2021-10-01T10:29:12.748Z"
   },
   {
    "duration": 91,
    "start_time": "2021-10-01T10:29:13.661Z"
   },
   {
    "duration": 7,
    "start_time": "2021-10-01T10:29:13.755Z"
   },
   {
    "duration": 10,
    "start_time": "2021-10-01T10:29:13.764Z"
   },
   {
    "duration": 8,
    "start_time": "2021-10-01T10:29:13.781Z"
   },
   {
    "duration": 469,
    "start_time": "2021-10-01T10:29:13.791Z"
   },
   {
    "duration": 459,
    "start_time": "2021-10-01T10:29:14.264Z"
   },
   {
    "duration": 70,
    "start_time": "2021-10-01T10:29:14.725Z"
   },
   {
    "duration": 40,
    "start_time": "2021-10-01T10:29:14.797Z"
   },
   {
    "duration": 49,
    "start_time": "2021-10-01T10:29:14.839Z"
   },
   {
    "duration": 26,
    "start_time": "2021-10-01T10:29:14.890Z"
   },
   {
    "duration": 70,
    "start_time": "2021-10-01T10:29:14.918Z"
   },
   {
    "duration": 6,
    "start_time": "2021-10-01T10:29:14.990Z"
   },
   {
    "duration": 27,
    "start_time": "2021-10-01T10:29:14.998Z"
   },
   {
    "duration": 180,
    "start_time": "2021-10-01T10:29:15.027Z"
   },
   {
    "duration": 1397,
    "start_time": "2021-10-01T10:29:15.208Z"
   },
   {
    "duration": 462,
    "start_time": "2021-10-01T10:29:16.607Z"
   },
   {
    "duration": 461,
    "start_time": "2021-10-01T10:29:17.072Z"
   },
   {
    "duration": 354,
    "start_time": "2021-10-01T10:29:17.535Z"
   },
   {
    "duration": 197,
    "start_time": "2021-10-01T10:29:17.891Z"
   },
   {
    "duration": 11,
    "start_time": "2021-10-01T10:29:18.090Z"
   },
   {
    "duration": 11,
    "start_time": "2021-10-01T10:29:18.105Z"
   }
  ],
  "kernelspec": {
   "display_name": "Python 3 (ipykernel)",
   "language": "python",
   "name": "python3"
  },
  "language_info": {
   "codemirror_mode": {
    "name": "ipython",
    "version": 3
   },
   "file_extension": ".py",
   "mimetype": "text/x-python",
   "name": "python",
   "nbconvert_exporter": "python",
   "pygments_lexer": "ipython3",
   "version": "3.7.8"
  },
  "toc": {
   "base_numbering": 1,
   "nav_menu": {
    "height": "441px",
    "width": "275px"
   },
   "number_sections": true,
   "sideBar": true,
   "skip_h1_title": true,
   "title_cell": "Table of Contents",
   "title_sidebar": "Contents",
   "toc_cell": false,
   "toc_position": {
    "height": "calc(100% - 180px)",
    "left": "10px",
    "top": "150px",
    "width": "351px"
   },
   "toc_section_display": true,
   "toc_window_display": true
  }
 },
 "nbformat": 4,
 "nbformat_minor": 2
}
