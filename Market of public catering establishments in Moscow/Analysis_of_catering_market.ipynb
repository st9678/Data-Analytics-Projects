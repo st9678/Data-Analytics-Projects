{
 "cells": [
  {
   "cell_type": "code",
   "execution_count": null,
   "metadata": {},
   "outputs": [],
   "source": [
    "import warnings\n",
    "warnings.filterwarnings('ignore')\n",
    "from IPython.display import display "
   ]
  },
  {
   "cell_type": "code",
   "execution_count": 1,
   "metadata": {},
   "outputs": [],
   "source": [
    "import numpy as np    \n",
    "import pandas as pd                    \n",
    "import matplotlib.pyplot as plt      \n",
    "import seaborn as sns                \n",
    "import re                      "
   ]
  },
  {
   "cell_type": "markdown",
   "metadata": {},
   "source": [
    "# Исследованик рынка общественного питания в Москве\n",
    "\n",
    "Для того, чтобы открыть небольшое кафе в котором официантов заменят роботы, в Москве, необходимо проанализировать рынок общественного питания. Все это в целях определения перспективности столь дорогостоящего проекта. Имея в наличии открытые дынне о заведениях расположенных в Москве. Определим наиболее распространненые типы заведений, плотность их распределения по территориям, а так же насколько отдельные заведения большие и др. Все эти данные позволят спроектировать наиболее оптимальную бизнесс стратегию по расположению и величине нового заведения, что в свою очередь повысит симпатии инвесторов."
   ]
  },
  {
   "cell_type": "markdown",
   "metadata": {},
   "source": [
    "## Загрузка данных и подготовка к анализу\n",
    "\n",
    "Выгрузим имеющиеся данные из файла и произведем их пердобработку, на наличие пропусков, дубликатов, а так же проверим типы используемых данных:"
   ]
  },
  {
   "cell_type": "code",
   "execution_count": 2,
   "metadata": {},
   "outputs": [
    {
     "data": {
      "text/html": [
       "<div>\n",
       "<style scoped>\n",
       "    .dataframe tbody tr th:only-of-type {\n",
       "        vertical-align: middle;\n",
       "    }\n",
       "\n",
       "    .dataframe tbody tr th {\n",
       "        vertical-align: top;\n",
       "    }\n",
       "\n",
       "    .dataframe thead th {\n",
       "        text-align: right;\n",
       "    }\n",
       "</style>\n",
       "<table border=\"1\" class=\"dataframe\">\n",
       "  <thead>\n",
       "    <tr style=\"text-align: right;\">\n",
       "      <th></th>\n",
       "      <th>id</th>\n",
       "      <th>object_name</th>\n",
       "      <th>chain</th>\n",
       "      <th>object_type</th>\n",
       "      <th>address</th>\n",
       "      <th>number</th>\n",
       "    </tr>\n",
       "  </thead>\n",
       "  <tbody>\n",
       "    <tr>\n",
       "      <td>0</td>\n",
       "      <td>151635</td>\n",
       "      <td>СМЕТАНА</td>\n",
       "      <td>нет</td>\n",
       "      <td>кафе</td>\n",
       "      <td>город Москва, улица Егора Абакумова, дом 9</td>\n",
       "      <td>48</td>\n",
       "    </tr>\n",
       "    <tr>\n",
       "      <td>1</td>\n",
       "      <td>77874</td>\n",
       "      <td>Родник</td>\n",
       "      <td>нет</td>\n",
       "      <td>кафе</td>\n",
       "      <td>город Москва, улица Талалихина, дом 2/1, корпус 1</td>\n",
       "      <td>35</td>\n",
       "    </tr>\n",
       "    <tr>\n",
       "      <td>2</td>\n",
       "      <td>24309</td>\n",
       "      <td>Кафе «Академия»</td>\n",
       "      <td>нет</td>\n",
       "      <td>кафе</td>\n",
       "      <td>город Москва, Абельмановская улица, дом 6</td>\n",
       "      <td>95</td>\n",
       "    </tr>\n",
       "    <tr>\n",
       "      <td>3</td>\n",
       "      <td>21894</td>\n",
       "      <td>ПИЦЦЕТОРИЯ</td>\n",
       "      <td>да</td>\n",
       "      <td>кафе</td>\n",
       "      <td>город Москва, Абрамцевская улица, дом 1</td>\n",
       "      <td>40</td>\n",
       "    </tr>\n",
       "    <tr>\n",
       "      <td>4</td>\n",
       "      <td>119365</td>\n",
       "      <td>Кафе «Вишневая метель»</td>\n",
       "      <td>нет</td>\n",
       "      <td>кафе</td>\n",
       "      <td>город Москва, Абрамцевская улица, дом 9, корпус 1</td>\n",
       "      <td>50</td>\n",
       "    </tr>\n",
       "    <tr>\n",
       "      <td>...</td>\n",
       "      <td>...</td>\n",
       "      <td>...</td>\n",
       "      <td>...</td>\n",
       "      <td>...</td>\n",
       "      <td>...</td>\n",
       "      <td>...</td>\n",
       "    </tr>\n",
       "    <tr>\n",
       "      <td>15361</td>\n",
       "      <td>208537</td>\n",
       "      <td>Шоколадница</td>\n",
       "      <td>да</td>\n",
       "      <td>кафе</td>\n",
       "      <td>город Москва, 3-й Крутицкий переулок, дом 18</td>\n",
       "      <td>50</td>\n",
       "    </tr>\n",
       "    <tr>\n",
       "      <td>15362</td>\n",
       "      <td>209264</td>\n",
       "      <td>Шоколадница</td>\n",
       "      <td>да</td>\n",
       "      <td>кафе</td>\n",
       "      <td>город Москва, улица Земляной Вал, дом 33</td>\n",
       "      <td>10</td>\n",
       "    </tr>\n",
       "    <tr>\n",
       "      <td>15363</td>\n",
       "      <td>209186</td>\n",
       "      <td>Шоколадница</td>\n",
       "      <td>да</td>\n",
       "      <td>кафе</td>\n",
       "      <td>город Москва, улица Земляной Вал, дом 33</td>\n",
       "      <td>20</td>\n",
       "    </tr>\n",
       "    <tr>\n",
       "      <td>15364</td>\n",
       "      <td>221900</td>\n",
       "      <td>Шоколадница</td>\n",
       "      <td>да</td>\n",
       "      <td>кафе</td>\n",
       "      <td>город Москва, поселение Московский, Киевское ш...</td>\n",
       "      <td>36</td>\n",
       "    </tr>\n",
       "    <tr>\n",
       "      <td>15365</td>\n",
       "      <td>222535</td>\n",
       "      <td>Шоколадница</td>\n",
       "      <td>да</td>\n",
       "      <td>кафе</td>\n",
       "      <td>город Москва, Ходынский бульвар, дом 4</td>\n",
       "      <td>10</td>\n",
       "    </tr>\n",
       "  </tbody>\n",
       "</table>\n",
       "<p>15366 rows × 6 columns</p>\n",
       "</div>"
      ],
      "text/plain": [
       "           id             object_name chain object_type  \\\n",
       "0      151635                 СМЕТАНА   нет        кафе   \n",
       "1       77874                  Родник   нет        кафе   \n",
       "2       24309         Кафе «Академия»   нет        кафе   \n",
       "3       21894              ПИЦЦЕТОРИЯ    да        кафе   \n",
       "4      119365  Кафе «Вишневая метель»   нет        кафе   \n",
       "...       ...                     ...   ...         ...   \n",
       "15361  208537             Шоколадница    да        кафе   \n",
       "15362  209264             Шоколадница    да        кафе   \n",
       "15363  209186             Шоколадница    да        кафе   \n",
       "15364  221900             Шоколадница    да        кафе   \n",
       "15365  222535             Шоколадница    да        кафе   \n",
       "\n",
       "                                                 address  number  \n",
       "0             город Москва, улица Егора Абакумова, дом 9      48  \n",
       "1      город Москва, улица Талалихина, дом 2/1, корпус 1      35  \n",
       "2              город Москва, Абельмановская улица, дом 6      95  \n",
       "3                город Москва, Абрамцевская улица, дом 1      40  \n",
       "4      город Москва, Абрамцевская улица, дом 9, корпус 1      50  \n",
       "...                                                  ...     ...  \n",
       "15361       город Москва, 3-й Крутицкий переулок, дом 18      50  \n",
       "15362           город Москва, улица Земляной Вал, дом 33      10  \n",
       "15363           город Москва, улица Земляной Вал, дом 33      20  \n",
       "15364  город Москва, поселение Московский, Киевское ш...      36  \n",
       "15365             город Москва, Ходынский бульвар, дом 4      10  \n",
       "\n",
       "[15366 rows x 6 columns]"
      ]
     },
     "execution_count": 2,
     "metadata": {},
     "output_type": "execute_result"
    }
   ],
   "source": [
    "df = pd.read_csv('/datasets/rest_data.csv')\n",
    "df"
   ]
  },
  {
   "cell_type": "code",
   "execution_count": 3,
   "metadata": {},
   "outputs": [
    {
     "name": "stdout",
     "output_type": "stream",
     "text": [
      "<class 'pandas.core.frame.DataFrame'>\n",
      "RangeIndex: 15366 entries, 0 to 15365\n",
      "Data columns (total 6 columns):\n",
      "id             15366 non-null int64\n",
      "object_name    15366 non-null object\n",
      "chain          15366 non-null object\n",
      "object_type    15366 non-null object\n",
      "address        15366 non-null object\n",
      "number         15366 non-null int64\n",
      "dtypes: int64(2), object(4)\n",
      "memory usage: 720.4+ KB\n"
     ]
    }
   ],
   "source": [
    "df.info()"
   ]
  },
  {
   "cell_type": "code",
   "execution_count": 4,
   "metadata": {},
   "outputs": [
    {
     "name": "stdout",
     "output_type": "stream",
     "text": [
      "Количество дубликатов: 0\n"
     ]
    }
   ],
   "source": [
    "print(f'Количество дубликатов: {df.duplicated().sum()}')"
   ]
  },
  {
   "cell_type": "markdown",
   "metadata": {},
   "source": [
    "Пропущенные значения отсутствуют, все типы данных соответствуют требуемым, очевидных дубликатов нет. Однако, что если одному заведению присвоили разный ID или записали различное количество посадочных мест, все же данные из разных источников. Произведем проверку на наличие дубликатов без столбцов ID и number:"
   ]
  },
  {
   "cell_type": "code",
   "execution_count": 5,
   "metadata": {},
   "outputs": [
    {
     "name": "stdout",
     "output_type": "stream",
     "text": [
      "Количество дубликатов: 170\n"
     ]
    }
   ],
   "source": [
    "print(f'Количество дубликатов: {df[[\"object_name\", \"chain\", \"object_type\", \"address\"]].duplicated().sum()}')"
   ]
  },
  {
   "cell_type": "markdown",
   "metadata": {},
   "source": [
    "Оказывается дубликаты присутствуют, избавимся от них. Для продублированных заведений в качестве ID возьмем первый, а для показателя посадочных мест возьмем медиану:"
   ]
  },
  {
   "cell_type": "code",
   "execution_count": 6,
   "metadata": {},
   "outputs": [
    {
     "data": {
      "text/html": [
       "<div>\n",
       "<style scoped>\n",
       "    .dataframe tbody tr th:only-of-type {\n",
       "        vertical-align: middle;\n",
       "    }\n",
       "\n",
       "    .dataframe tbody tr th {\n",
       "        vertical-align: top;\n",
       "    }\n",
       "\n",
       "    .dataframe thead th {\n",
       "        text-align: right;\n",
       "    }\n",
       "</style>\n",
       "<table border=\"1\" class=\"dataframe\">\n",
       "  <thead>\n",
       "    <tr style=\"text-align: right;\">\n",
       "      <th></th>\n",
       "      <th>id</th>\n",
       "      <th>object_name</th>\n",
       "      <th>chain</th>\n",
       "      <th>object_type</th>\n",
       "      <th>address</th>\n",
       "      <th>number</th>\n",
       "    </tr>\n",
       "  </thead>\n",
       "  <tbody>\n",
       "    <tr>\n",
       "      <td>0</td>\n",
       "      <td>132359</td>\n",
       "      <td>Кафе «La Carotte»</td>\n",
       "      <td>нет</td>\n",
       "      <td>кафе</td>\n",
       "      <td>1-й Нагатинский проезд, дом 10</td>\n",
       "      <td>198</td>\n",
       "    </tr>\n",
       "    <tr>\n",
       "      <td>1</td>\n",
       "      <td>25036</td>\n",
       "      <td>ЯКИТОРИЯ</td>\n",
       "      <td>да</td>\n",
       "      <td>кафе</td>\n",
       "      <td>1-я Тверская-Ямская улица, дом 29/66, корпус 1</td>\n",
       "      <td>456</td>\n",
       "    </tr>\n",
       "    <tr>\n",
       "      <td>2</td>\n",
       "      <td>26477</td>\n",
       "      <td>Ресторан «2545»</td>\n",
       "      <td>нет</td>\n",
       "      <td>ресторан</td>\n",
       "      <td>2-я Брестская улица, дом 1, строение 1</td>\n",
       "      <td>30</td>\n",
       "    </tr>\n",
       "    <tr>\n",
       "      <td>3</td>\n",
       "      <td>178003</td>\n",
       "      <td>Столовая</td>\n",
       "      <td>нет</td>\n",
       "      <td>столовая</td>\n",
       "      <td>2-я Брестская улица, дом 5, строение 1</td>\n",
       "      <td>30</td>\n",
       "    </tr>\n",
       "    <tr>\n",
       "      <td>4</td>\n",
       "      <td>83951</td>\n",
       "      <td>Бункер 42 на Таганке</td>\n",
       "      <td>нет</td>\n",
       "      <td>ресторан</td>\n",
       "      <td>5-й Котельнический переулок, дом 11</td>\n",
       "      <td>271</td>\n",
       "    </tr>\n",
       "    <tr>\n",
       "      <td>...</td>\n",
       "      <td>...</td>\n",
       "      <td>...</td>\n",
       "      <td>...</td>\n",
       "      <td>...</td>\n",
       "      <td>...</td>\n",
       "      <td>...</td>\n",
       "    </tr>\n",
       "    <tr>\n",
       "      <td>15191</td>\n",
       "      <td>193080</td>\n",
       "      <td>Buba by Sumosan</td>\n",
       "      <td>нет</td>\n",
       "      <td>кафе</td>\n",
       "      <td>улица Льва Толстого, дом 18</td>\n",
       "      <td>80</td>\n",
       "    </tr>\n",
       "    <tr>\n",
       "      <td>15192</td>\n",
       "      <td>193058</td>\n",
       "      <td>HANG KONG</td>\n",
       "      <td>нет</td>\n",
       "      <td>кафе</td>\n",
       "      <td>улица Льва Толстого, дом 18</td>\n",
       "      <td>70</td>\n",
       "    </tr>\n",
       "    <tr>\n",
       "      <td>15193</td>\n",
       "      <td>158670</td>\n",
       "      <td>Макдоналдс</td>\n",
       "      <td>да</td>\n",
       "      <td>кафе</td>\n",
       "      <td>улица Миклухо-Маклая, дом 18</td>\n",
       "      <td>110</td>\n",
       "    </tr>\n",
       "    <tr>\n",
       "      <td>15194</td>\n",
       "      <td>114367</td>\n",
       "      <td>СТОЛОВАЯ при Автокомбинате № 12</td>\n",
       "      <td>нет</td>\n",
       "      <td>столовая</td>\n",
       "      <td>улица Обручева, дом 23, строение 1</td>\n",
       "      <td>40</td>\n",
       "    </tr>\n",
       "    <tr>\n",
       "      <td>15195</td>\n",
       "      <td>175550</td>\n",
       "      <td>Кафе «Кофе &amp; Молоко»</td>\n",
       "      <td>нет</td>\n",
       "      <td>кафе</td>\n",
       "      <td>улица Сергея Макеева, дом 9, строение 2</td>\n",
       "      <td>15</td>\n",
       "    </tr>\n",
       "  </tbody>\n",
       "</table>\n",
       "<p>15196 rows × 6 columns</p>\n",
       "</div>"
      ],
      "text/plain": [
       "           id                      object_name chain object_type  \\\n",
       "0      132359                Кафе «La Carotte»   нет        кафе   \n",
       "1       25036                         ЯКИТОРИЯ    да        кафе   \n",
       "2       26477                  Ресторан «2545»   нет    ресторан   \n",
       "3      178003                         Столовая   нет    столовая   \n",
       "4       83951             Бункер 42 на Таганке   нет    ресторан   \n",
       "...       ...                              ...   ...         ...   \n",
       "15191  193080                  Buba by Sumosan   нет        кафе   \n",
       "15192  193058                        HANG KONG   нет        кафе   \n",
       "15193  158670                       Макдоналдс    да        кафе   \n",
       "15194  114367  СТОЛОВАЯ при Автокомбинате № 12   нет    столовая   \n",
       "15195  175550             Кафе «Кофе & Молоко»   нет        кафе   \n",
       "\n",
       "                                              address  number  \n",
       "0                      1-й Нагатинский проезд, дом 10     198  \n",
       "1      1-я Тверская-Ямская улица, дом 29/66, корпус 1     456  \n",
       "2              2-я Брестская улица, дом 1, строение 1      30  \n",
       "3              2-я Брестская улица, дом 5, строение 1      30  \n",
       "4                 5-й Котельнический переулок, дом 11     271  \n",
       "...                                               ...     ...  \n",
       "15191                     улица Льва Толстого, дом 18      80  \n",
       "15192                     улица Льва Толстого, дом 18      70  \n",
       "15193                    улица Миклухо-Маклая, дом 18     110  \n",
       "15194              улица Обручева, дом 23, строение 1      40  \n",
       "15195         улица Сергея Макеева, дом 9, строение 2      15  \n",
       "\n",
       "[15196 rows x 6 columns]"
      ]
     },
     "execution_count": 6,
     "metadata": {},
     "output_type": "execute_result"
    }
   ],
   "source": [
    "df = df.groupby(['address', 'object_name', 'object_type', 'chain']).agg({'id' : 'first', 'number' : 'median'}).reset_index()\n",
    "df = df.reindex(columns=['id', 'object_name', 'chain', 'object_type', 'address', 'number'])\n",
    "df['number'] = df['number'].astype('int')\n",
    "df"
   ]
  },
  {
   "cell_type": "markdown",
   "metadata": {},
   "source": [
    "Данные прошли предобработку, и теперь можно приступать к их анализу."
   ]
  },
  {
   "cell_type": "markdown",
   "metadata": {},
   "source": [
    "## Анализ данных\n",
    "\n",
    "Для того, чтобы ответить на поставленные в проекте вопросы рассмотрим данные с разных сторон и в разных разрезах. В этом нам помогут множественные способы визуализации из библиотеки seaborn."
   ]
  },
  {
   "cell_type": "markdown",
   "metadata": {},
   "source": [
    "###  Соотношение видов объектов общественного питания по количеству\n",
    "\n",
    "Рассмотрим какие типы заведений наиболее популярны и пользуются спросом:"
   ]
  },
  {
   "cell_type": "code",
   "execution_count": 7,
   "metadata": {},
   "outputs": [
    {
     "data": {
      "text/html": [
       "<div>\n",
       "<style scoped>\n",
       "    .dataframe tbody tr th:only-of-type {\n",
       "        vertical-align: middle;\n",
       "    }\n",
       "\n",
       "    .dataframe tbody tr th {\n",
       "        vertical-align: top;\n",
       "    }\n",
       "\n",
       "    .dataframe thead th {\n",
       "        text-align: right;\n",
       "    }\n",
       "</style>\n",
       "<table border=\"1\" class=\"dataframe\">\n",
       "  <thead>\n",
       "    <tr style=\"text-align: right;\">\n",
       "      <th></th>\n",
       "      <th>index</th>\n",
       "      <th>object_type</th>\n",
       "    </tr>\n",
       "  </thead>\n",
       "  <tbody>\n",
       "    <tr>\n",
       "      <td>0</td>\n",
       "      <td>кафе</td>\n",
       "      <td>6017</td>\n",
       "    </tr>\n",
       "    <tr>\n",
       "      <td>1</td>\n",
       "      <td>столовая</td>\n",
       "      <td>2575</td>\n",
       "    </tr>\n",
       "    <tr>\n",
       "      <td>2</td>\n",
       "      <td>ресторан</td>\n",
       "      <td>2276</td>\n",
       "    </tr>\n",
       "    <tr>\n",
       "      <td>3</td>\n",
       "      <td>предприятие быстрого обслуживания</td>\n",
       "      <td>1891</td>\n",
       "    </tr>\n",
       "    <tr>\n",
       "      <td>4</td>\n",
       "      <td>бар</td>\n",
       "      <td>853</td>\n",
       "    </tr>\n",
       "    <tr>\n",
       "      <td>5</td>\n",
       "      <td>буфет</td>\n",
       "      <td>571</td>\n",
       "    </tr>\n",
       "    <tr>\n",
       "      <td>6</td>\n",
       "      <td>кафетерий</td>\n",
       "      <td>393</td>\n",
       "    </tr>\n",
       "    <tr>\n",
       "      <td>7</td>\n",
       "      <td>закусочная</td>\n",
       "      <td>348</td>\n",
       "    </tr>\n",
       "    <tr>\n",
       "      <td>8</td>\n",
       "      <td>магазин (отдел кулинарии)</td>\n",
       "      <td>272</td>\n",
       "    </tr>\n",
       "  </tbody>\n",
       "</table>\n",
       "</div>"
      ],
      "text/plain": [
       "                               index  object_type\n",
       "0                               кафе         6017\n",
       "1                           столовая         2575\n",
       "2                           ресторан         2276\n",
       "3  предприятие быстрого обслуживания         1891\n",
       "4                                бар          853\n",
       "5                              буфет          571\n",
       "6                          кафетерий          393\n",
       "7                         закусочная          348\n",
       "8          магазин (отдел кулинарии)          272"
      ]
     },
     "execution_count": 7,
     "metadata": {},
     "output_type": "execute_result"
    }
   ],
   "source": [
    "object_type = df['object_type'].value_counts().reset_index()\n",
    "object_type"
   ]
  },
  {
   "cell_type": "code",
   "execution_count": 8,
   "metadata": {},
   "outputs": [
    {
     "data": {
      "image/png": "[encoded data removed]",
      "text/plain": [
       "<Figure size 936x648 with 1 Axes>"
      ]
     },
     "metadata": {},
     "output_type": "display_data"
    }
   ],
   "source": [
    "sns.set(style='darkgrid')\n",
    "fig,ax = plt.subplots(figsize=(13, 9))\n",
    "sns.barplot(x='index', y='object_type', data = object_type)\n",
    "ax.set_xticklabels(object_type['index'], rotation=-45, ha='left')\n",
    "plt.title('График соотношения типов объектов общественного питания по количеству')\n",
    "plt.xlabel('Тип объекта')\n",
    "plt.ylabel('Количество')\n",
    "plt.show()"
   ]
  },
  {
   "cell_type": "markdown",
   "metadata": {},
   "source": [
    "Имеется абсолютный лидер - это кафе. Самый популярный и востребованный, более 6000 заведений по Москве."
   ]
  },
  {
   "cell_type": "markdown",
   "metadata": {},
   "source": [
    "###  Соотношение сетевых и несетевых заведений по количеству\n",
    "\n",
    "Теперь определим какие заведения преобладают, те которые являются частью большой сети или же независимые ресторанчики:"
   ]
  },
  {
   "cell_type": "code",
   "execution_count": 9,
   "metadata": {},
   "outputs": [
    {
     "data": {
      "text/html": [
       "<div>\n",
       "<style scoped>\n",
       "    .dataframe tbody tr th:only-of-type {\n",
       "        vertical-align: middle;\n",
       "    }\n",
       "\n",
       "    .dataframe tbody tr th {\n",
       "        vertical-align: top;\n",
       "    }\n",
       "\n",
       "    .dataframe thead th {\n",
       "        text-align: right;\n",
       "    }\n",
       "</style>\n",
       "<table border=\"1\" class=\"dataframe\">\n",
       "  <thead>\n",
       "    <tr style=\"text-align: right;\">\n",
       "      <th></th>\n",
       "      <th>chain</th>\n",
       "      <th>count</th>\n",
       "    </tr>\n",
       "  </thead>\n",
       "  <tbody>\n",
       "    <tr>\n",
       "      <td>0</td>\n",
       "      <td>нет</td>\n",
       "      <td>12245</td>\n",
       "    </tr>\n",
       "    <tr>\n",
       "      <td>1</td>\n",
       "      <td>да</td>\n",
       "      <td>2951</td>\n",
       "    </tr>\n",
       "  </tbody>\n",
       "</table>\n",
       "</div>"
      ],
      "text/plain": [
       "  chain  count\n",
       "0   нет  12245\n",
       "1    да   2951"
      ]
     },
     "execution_count": 9,
     "metadata": {},
     "output_type": "execute_result"
    }
   ],
   "source": [
    "chain = df['chain'].value_counts().reset_index()\n",
    "chain.columns = ['chain', 'count']\n",
    "chain"
   ]
  },
  {
   "cell_type": "code",
   "execution_count": 10,
   "metadata": {},
   "outputs": [
    {
     "data": {
      "image/png": "[encoded data removed]",
      "text/plain": [
       "<Figure size 864x576 with 1 Axes>"
      ]
     },
     "metadata": {},
     "output_type": "display_data"
    }
   ],
   "source": [
    "plt.figure(figsize=(12, 8))\n",
    "sns.barplot(x ='chain', y = 'count', data = chain)\n",
    "plt.title('График соотношения сетевыхи и несетевых заведений по количеству')\n",
    "plt.xlabel('Заведение из сети')\n",
    "plt.ylabel('Количество')\n",
    "plt.show()"
   ]
  },
  {
   "cell_type": "markdown",
   "metadata": {},
   "source": [
    "Заведений принадлежащих сети не очень то и много, по отношению к самостоятельным. Видимо все стараются развивать свое дело независимо от других."
   ]
  },
  {
   "cell_type": "markdown",
   "metadata": {},
   "source": [
    "###  Вид объекта общественного питания с сетевым распространением\n",
    "\n",
    "Рассмотрим подробнее как же сети заведений распределены типы объектов общественного питания:"
   ]
  },
  {
   "cell_type": "code",
   "execution_count": 11,
   "metadata": {},
   "outputs": [
    {
     "data": {
      "text/html": [
       "<div>\n",
       "<style scoped>\n",
       "    .dataframe tbody tr th:only-of-type {\n",
       "        vertical-align: middle;\n",
       "    }\n",
       "\n",
       "    .dataframe tbody tr th {\n",
       "        vertical-align: top;\n",
       "    }\n",
       "\n",
       "    .dataframe thead th {\n",
       "        text-align: right;\n",
       "    }\n",
       "</style>\n",
       "<table border=\"1\" class=\"dataframe\">\n",
       "  <thead>\n",
       "    <tr style=\"text-align: right;\">\n",
       "      <th></th>\n",
       "      <th>object_type</th>\n",
       "      <th>count</th>\n",
       "    </tr>\n",
       "  </thead>\n",
       "  <tbody>\n",
       "    <tr>\n",
       "      <td>0</td>\n",
       "      <td>кафе</td>\n",
       "      <td>1389</td>\n",
       "    </tr>\n",
       "    <tr>\n",
       "      <td>1</td>\n",
       "      <td>предприятие быстрого обслуживания</td>\n",
       "      <td>784</td>\n",
       "    </tr>\n",
       "    <tr>\n",
       "      <td>2</td>\n",
       "      <td>ресторан</td>\n",
       "      <td>542</td>\n",
       "    </tr>\n",
       "    <tr>\n",
       "      <td>3</td>\n",
       "      <td>магазин (отдел кулинарии)</td>\n",
       "      <td>78</td>\n",
       "    </tr>\n",
       "    <tr>\n",
       "      <td>4</td>\n",
       "      <td>закусочная</td>\n",
       "      <td>56</td>\n",
       "    </tr>\n",
       "    <tr>\n",
       "      <td>5</td>\n",
       "      <td>кафетерий</td>\n",
       "      <td>51</td>\n",
       "    </tr>\n",
       "    <tr>\n",
       "      <td>6</td>\n",
       "      <td>бар</td>\n",
       "      <td>37</td>\n",
       "    </tr>\n",
       "    <tr>\n",
       "      <td>7</td>\n",
       "      <td>буфет</td>\n",
       "      <td>11</td>\n",
       "    </tr>\n",
       "    <tr>\n",
       "      <td>8</td>\n",
       "      <td>столовая</td>\n",
       "      <td>3</td>\n",
       "    </tr>\n",
       "  </tbody>\n",
       "</table>\n",
       "</div>"
      ],
      "text/plain": [
       "                         object_type  count\n",
       "0                               кафе   1389\n",
       "1  предприятие быстрого обслуживания    784\n",
       "2                           ресторан    542\n",
       "3          магазин (отдел кулинарии)     78\n",
       "4                         закусочная     56\n",
       "5                          кафетерий     51\n",
       "6                                бар     37\n",
       "7                              буфет     11\n",
       "8                           столовая      3"
      ]
     },
     "execution_count": 11,
     "metadata": {},
     "output_type": "execute_result"
    }
   ],
   "source": [
    "chain_object = df[df['chain'] == 'да']\n",
    "chain_object = chain_object['object_type'].value_counts().reset_index()\n",
    "chain_object.columns = ['object_type', 'count']\n",
    "chain_object"
   ]
  },
  {
   "cell_type": "code",
   "execution_count": 12,
   "metadata": {},
   "outputs": [
    {
     "data": {
      "image/png": "[encoded data removed]",
      "text/plain": [
       "<Figure size 936x648 with 1 Axes>"
      ]
     },
     "metadata": {},
     "output_type": "display_data"
    }
   ],
   "source": [
    "fig,ax = plt.subplots(figsize=(13, 9))\n",
    "sns.barplot(x='object_type', y='count', data=chain_object)\n",
    "ax.set_xticklabels(chain_object['object_type'], rotation=-45, ha='left')\n",
    "plt.title('График распределения количества типов объектов для сетевых заведений')\n",
    "plt.xlabel('Тип объекта')\n",
    "plt.ylabel('Количество')\n",
    "plt.show()"
   ]
  },
  {
   "cell_type": "markdown",
   "metadata": {},
   "source": [
    "И снова кафе - топ-1, а вот столовые которые по всем данным занимали второе место, теперь в самом конце, выдимо такой тип заведение совсем неподходит большим сетям."
   ]
  },
  {
   "cell_type": "markdown",
   "metadata": {},
   "source": [
    "###  Вид объекта общественного питания с сетевым распространением\n",
    "\n",
    "Интересно узнать какой формат заведений преобладает в сетях: большие заведения в малом количестве, или же большое количество некрупных заведений. Используя данные о количестве посадочных мест в каждом объекте общественного питания, ответим на поставленный вопрос.\n",
    "\n",
    "Сгруппируем данные по названию сети, определим среднее количество мест в ее заведениях, и построим диаграмму рассеяния. Но для качественной группировки по названию сети, необходимо сначала обработать столбец с названями заведений:"
   ]
  },
  {
   "cell_type": "code",
   "execution_count": 13,
   "metadata": {},
   "outputs": [
    {
     "data": {
      "text/html": [
       "<div>\n",
       "<style scoped>\n",
       "    .dataframe tbody tr th:only-of-type {\n",
       "        vertical-align: middle;\n",
       "    }\n",
       "\n",
       "    .dataframe tbody tr th {\n",
       "        vertical-align: top;\n",
       "    }\n",
       "\n",
       "    .dataframe thead th {\n",
       "        text-align: right;\n",
       "    }\n",
       "</style>\n",
       "<table border=\"1\" class=\"dataframe\">\n",
       "  <thead>\n",
       "    <tr style=\"text-align: right;\">\n",
       "      <th></th>\n",
       "      <th>object_name</th>\n",
       "      <th>count</th>\n",
       "    </tr>\n",
       "  </thead>\n",
       "  <tbody>\n",
       "    <tr>\n",
       "      <td>0</td>\n",
       "      <td>шоколадница</td>\n",
       "      <td>155</td>\n",
       "    </tr>\n",
       "    <tr>\n",
       "      <td>1</td>\n",
       "      <td>kfc</td>\n",
       "      <td>155</td>\n",
       "    </tr>\n",
       "    <tr>\n",
       "      <td>2</td>\n",
       "      <td>макдоналдс</td>\n",
       "      <td>148</td>\n",
       "    </tr>\n",
       "    <tr>\n",
       "      <td>3</td>\n",
       "      <td>бургер кинг</td>\n",
       "      <td>136</td>\n",
       "    </tr>\n",
       "    <tr>\n",
       "      <td>4</td>\n",
       "      <td>теремок</td>\n",
       "      <td>94</td>\n",
       "    </tr>\n",
       "    <tr>\n",
       "      <td>...</td>\n",
       "      <td>...</td>\n",
       "      <td>...</td>\n",
       "    </tr>\n",
       "    <tr>\n",
       "      <td>572</td>\n",
       "      <td>кафе «торнадо»</td>\n",
       "      <td>1</td>\n",
       "    </tr>\n",
       "    <tr>\n",
       "      <td>573</td>\n",
       "      <td>кафе «тапчан»</td>\n",
       "      <td>1</td>\n",
       "    </tr>\n",
       "    <tr>\n",
       "      <td>574</td>\n",
       "      <td>кафе «тануки»</td>\n",
       "      <td>1</td>\n",
       "    </tr>\n",
       "    <tr>\n",
       "      <td>575</td>\n",
       "      <td>кафе «суши сет»</td>\n",
       "      <td>1</td>\n",
       "    </tr>\n",
       "    <tr>\n",
       "      <td>576</td>\n",
       "      <td>кофе с собой gate 42</td>\n",
       "      <td>1</td>\n",
       "    </tr>\n",
       "  </tbody>\n",
       "</table>\n",
       "<p>577 rows × 2 columns</p>\n",
       "</div>"
      ],
      "text/plain": [
       "              object_name  count\n",
       "0             шоколадница    155\n",
       "1                     kfc    155\n",
       "2              макдоналдс    148\n",
       "3             бургер кинг    136\n",
       "4                 теремок     94\n",
       "..                    ...    ...\n",
       "572        кафе «торнадо»      1\n",
       "573         кафе «тапчан»      1\n",
       "574         кафе «тануки»      1\n",
       "575       кафе «суши сет»      1\n",
       "576  кофе с собой gate 42      1\n",
       "\n",
       "[577 rows x 2 columns]"
      ]
     },
     "execution_count": 13,
     "metadata": {},
     "output_type": "execute_result"
    }
   ],
   "source": [
    "object_name = df[df['chain'] == 'да'].copy()\n",
    "object_name['object_name'] = object_name['object_name'].str.lower()    \n",
    "\n",
    "gr_object_name = (object_name.groupby('object_name').agg({'id' : 'count'}) \n",
    "                  .sort_values(by='id', ascending=False).reset_index()\n",
    "                 )\n",
    "gr_object_name.columns = ['object_name', 'count']\n",
    "top = gr_object_name.head(30)['object_name'].unique()    \n",
    "gr_object_name"
   ]
  },
  {
   "cell_type": "code",
   "execution_count": 14,
   "metadata": {},
   "outputs": [],
   "source": [
    "names = list(top)                                                    \n",
    "str_pat_name = r\".*\\s*\\b([^,]*?(?:{})\\b)\".format(\"|\".join(top))  \n",
    "\n",
    "object_name['name'] = object_name['object_name'].str.extract(str_pat_name, flags = re.I) "
   ]
  },
  {
   "cell_type": "code",
   "execution_count": 15,
   "metadata": {},
   "outputs": [],
   "source": [
    "def fill(row):                                           #функция для заполнения пропусков в столбце 'name' старыми названиями\n",
    "    if row['name'] == ' ':\n",
    "        return row['object_name']\n",
    "    else:\n",
    "        return row['name']"
   ]
  },
  {
   "cell_type": "code",
   "execution_count": 16,
   "metadata": {},
   "outputs": [
    {
     "data": {
      "text/html": [
       "<div>\n",
       "<style scoped>\n",
       "    .dataframe tbody tr th:only-of-type {\n",
       "        vertical-align: middle;\n",
       "    }\n",
       "\n",
       "    .dataframe tbody tr th {\n",
       "        vertical-align: top;\n",
       "    }\n",
       "\n",
       "    .dataframe thead th {\n",
       "        text-align: right;\n",
       "    }\n",
       "</style>\n",
       "<table border=\"1\" class=\"dataframe\">\n",
       "  <thead>\n",
       "    <tr style=\"text-align: right;\">\n",
       "      <th></th>\n",
       "      <th>object_name</th>\n",
       "      <th>count</th>\n",
       "      <th>average_number</th>\n",
       "    </tr>\n",
       "  </thead>\n",
       "  <tbody>\n",
       "    <tr>\n",
       "      <td>0</td>\n",
       "      <td>kfc</td>\n",
       "      <td>187</td>\n",
       "      <td>56</td>\n",
       "    </tr>\n",
       "    <tr>\n",
       "      <td>1</td>\n",
       "      <td>шоколадница</td>\n",
       "      <td>181</td>\n",
       "      <td>58</td>\n",
       "    </tr>\n",
       "    <tr>\n",
       "      <td>2</td>\n",
       "      <td>макдоналдс</td>\n",
       "      <td>170</td>\n",
       "      <td>88</td>\n",
       "    </tr>\n",
       "    <tr>\n",
       "      <td>3</td>\n",
       "      <td>бургер кинг</td>\n",
       "      <td>158</td>\n",
       "      <td>48</td>\n",
       "    </tr>\n",
       "    <tr>\n",
       "      <td>4</td>\n",
       "      <td>теремок</td>\n",
       "      <td>111</td>\n",
       "      <td>27</td>\n",
       "    </tr>\n",
       "    <tr>\n",
       "      <td>...</td>\n",
       "      <td>...</td>\n",
       "      <td>...</td>\n",
       "      <td>...</td>\n",
       "    </tr>\n",
       "    <tr>\n",
       "      <td>418</td>\n",
       "      <td>кафе космик</td>\n",
       "      <td>1</td>\n",
       "      <td>10</td>\n",
       "    </tr>\n",
       "    <tr>\n",
       "      <td>419</td>\n",
       "      <td>кафе волконский пекарня</td>\n",
       "      <td>1</td>\n",
       "      <td>22</td>\n",
       "    </tr>\n",
       "    <tr>\n",
       "      <td>420</td>\n",
       "      <td>кафе «чайхана тапчан»</td>\n",
       "      <td>1</td>\n",
       "      <td>102</td>\n",
       "    </tr>\n",
       "    <tr>\n",
       "      <td>421</td>\n",
       "      <td>кафе «урюк» хивинская чайхона</td>\n",
       "      <td>1</td>\n",
       "      <td>50</td>\n",
       "    </tr>\n",
       "    <tr>\n",
       "      <td>422</td>\n",
       "      <td>кофе</td>\n",
       "      <td>1</td>\n",
       "      <td>2</td>\n",
       "    </tr>\n",
       "  </tbody>\n",
       "</table>\n",
       "<p>423 rows × 3 columns</p>\n",
       "</div>"
      ],
      "text/plain": [
       "                       object_name  count  average_number\n",
       "0                              kfc    187              56\n",
       "1                      шоколадница    181              58\n",
       "2                       макдоналдс    170              88\n",
       "3                      бургер кинг    158              48\n",
       "4                          теремок    111              27\n",
       "..                             ...    ...             ...\n",
       "418                    кафе космик      1              10\n",
       "419        кафе волконский пекарня      1              22\n",
       "420          кафе «чайхана тапчан»      1             102\n",
       "421  кафе «урюк» хивинская чайхона      1              50\n",
       "422                           кофе      1               2\n",
       "\n",
       "[423 rows x 3 columns]"
      ]
     },
     "execution_count": 16,
     "metadata": {},
     "output_type": "execute_result"
    }
   ],
   "source": [
    "object_name = object_name.fillna(' ')                                \n",
    "object_name['name'] = object_name.apply(fill, axis=1)               \n",
    "\n",
    "gr_object_name = (object_name.groupby('name').agg({'id' : 'count', 'number' : 'mean'})  \n",
    "                  .sort_values(by='id', ascending=False).reset_index()                  \n",
    "                 )  \n",
    "\n",
    "gr_object_name.columns = ['object_name', 'count', 'average_number']\n",
    "gr_object_name['average_number'] = gr_object_name['average_number'].round().astype('int')\n",
    "gr_object_name"
   ]
  },
  {
   "cell_type": "code",
   "execution_count": 17,
   "metadata": {},
   "outputs": [
    {
     "data": {
      "image/png": "[encoded data removed]",
      "text/plain": [
       "<Figure size 936x720 with 1 Axes>"
      ]
     },
     "metadata": {},
     "output_type": "display_data"
    }
   ],
   "source": [
    "plt.figure(figsize=(13, 10))\n",
    "sns.scatterplot(x='count', y='average_number', data=gr_object_name)\n",
    "plt.title('Диаграмма рассеяния количества заведений и среднего значения мест для сетей')\n",
    "plt.xlabel('Количество заведений в сети')\n",
    "plt.ylabel('Среднее количество мест в заведениях')\n",
    "plt.show()"
   ]
  },
  {
   "cell_type": "markdown",
   "metadata": {},
   "source": [
    "Похоже для сетевых заведений более преимущественна политика небольшого числа заведений с большим числом мест по возможности. Однако очень крупные сети, наоборот стараются увеличивать число заведений и зачастую не самых крупных."
   ]
  },
  {
   "cell_type": "markdown",
   "metadata": {},
   "source": [
    "###  Среднее количество посадочных мест для каждого вида объекта общественного питания\n",
    "\n",
    "Оценим какое в среднем количество мест имеется в заведении определенного типа. Сгруппируем данные по видам, и найедем медианное (так как количество заведений по каждому типу распределенно неравномерно) значение по столбцу 'number':"
   ]
  },
  {
   "cell_type": "code",
   "execution_count": 18,
   "metadata": {},
   "outputs": [
    {
     "data": {
      "text/html": [
       "<div>\n",
       "<style scoped>\n",
       "    .dataframe tbody tr th:only-of-type {\n",
       "        vertical-align: middle;\n",
       "    }\n",
       "\n",
       "    .dataframe tbody tr th {\n",
       "        vertical-align: top;\n",
       "    }\n",
       "\n",
       "    .dataframe thead th {\n",
       "        text-align: right;\n",
       "    }\n",
       "</style>\n",
       "<table border=\"1\" class=\"dataframe\">\n",
       "  <thead>\n",
       "    <tr style=\"text-align: right;\">\n",
       "      <th></th>\n",
       "      <th>object_type</th>\n",
       "      <th>number</th>\n",
       "    </tr>\n",
       "  </thead>\n",
       "  <tbody>\n",
       "    <tr>\n",
       "      <td>0</td>\n",
       "      <td>бар</td>\n",
       "      <td>35</td>\n",
       "    </tr>\n",
       "    <tr>\n",
       "      <td>1</td>\n",
       "      <td>буфет</td>\n",
       "      <td>32</td>\n",
       "    </tr>\n",
       "    <tr>\n",
       "      <td>2</td>\n",
       "      <td>закусочная</td>\n",
       "      <td>0</td>\n",
       "    </tr>\n",
       "    <tr>\n",
       "      <td>3</td>\n",
       "      <td>кафе</td>\n",
       "      <td>32</td>\n",
       "    </tr>\n",
       "    <tr>\n",
       "      <td>4</td>\n",
       "      <td>кафетерий</td>\n",
       "      <td>6</td>\n",
       "    </tr>\n",
       "    <tr>\n",
       "      <td>5</td>\n",
       "      <td>магазин (отдел кулинарии)</td>\n",
       "      <td>0</td>\n",
       "    </tr>\n",
       "    <tr>\n",
       "      <td>6</td>\n",
       "      <td>предприятие быстрого обслуживания</td>\n",
       "      <td>6</td>\n",
       "    </tr>\n",
       "    <tr>\n",
       "      <td>7</td>\n",
       "      <td>ресторан</td>\n",
       "      <td>80</td>\n",
       "    </tr>\n",
       "    <tr>\n",
       "      <td>8</td>\n",
       "      <td>столовая</td>\n",
       "      <td>103</td>\n",
       "    </tr>\n",
       "  </tbody>\n",
       "</table>\n",
       "</div>"
      ],
      "text/plain": [
       "                         object_type  number\n",
       "0                                бар      35\n",
       "1                              буфет      32\n",
       "2                         закусочная       0\n",
       "3                               кафе      32\n",
       "4                          кафетерий       6\n",
       "5          магазин (отдел кулинарии)       0\n",
       "6  предприятие быстрого обслуживания       6\n",
       "7                           ресторан      80\n",
       "8                           столовая     103"
      ]
     },
     "execution_count": 18,
     "metadata": {},
     "output_type": "execute_result"
    }
   ],
   "source": [
    "df_grouped = df.groupby('object_type').agg({'number' : 'median'}).reset_index()\n",
    "df_grouped"
   ]
  },
  {
   "cell_type": "code",
   "execution_count": 19,
   "metadata": {},
   "outputs": [
    {
     "data": {
      "image/png": "[encoded data removed]",
      "text/plain": [
       "<Figure size 864x648 with 1 Axes>"
      ]
     },
     "metadata": {},
     "output_type": "display_data"
    }
   ],
   "source": [
    "plt.figure(figsize=(12, 9))\n",
    "sns.boxplot(x='number', y='object_type', data=df, order=df_grouped['object_type'].tolist())\n",
    "plt.title('График распределения количества мест для каждого вида заведения')\n",
    "plt.xlabel('Количество мест')\n",
    "plt.ylabel('Вид заведения')\n",
    "plt.show()"
   ]
  },
  {
   "cell_type": "markdown",
   "metadata": {},
   "source": [
    "Самое большое количество мест в среднем предосталяют в столовых, аж целых 103 места приходится на одну среднюю столовую."
   ]
  },
  {
   "cell_type": "markdown",
   "metadata": {},
   "source": [
    "###  Выделение названия улицы в отдельный столбец\n",
    "\n",
    "Чтобы проанализировать как распределены заведения по местоположению, нужно выделить названия улицы из столбца с адресом местонахождения заведения. Выполним это с помощью регулярных выражений:"
   ]
  },
  {
   "cell_type": "code",
   "execution_count": 20,
   "metadata": {},
   "outputs": [
    {
     "data": {
      "text/html": [
       "<div>\n",
       "<style scoped>\n",
       "    .dataframe tbody tr th:only-of-type {\n",
       "        vertical-align: middle;\n",
       "    }\n",
       "\n",
       "    .dataframe tbody tr th {\n",
       "        vertical-align: top;\n",
       "    }\n",
       "\n",
       "    .dataframe thead th {\n",
       "        text-align: right;\n",
       "    }\n",
       "</style>\n",
       "<table border=\"1\" class=\"dataframe\">\n",
       "  <thead>\n",
       "    <tr style=\"text-align: right;\">\n",
       "      <th></th>\n",
       "      <th>id</th>\n",
       "      <th>object_name</th>\n",
       "      <th>chain</th>\n",
       "      <th>object_type</th>\n",
       "      <th>address</th>\n",
       "      <th>number</th>\n",
       "      <th>street</th>\n",
       "    </tr>\n",
       "  </thead>\n",
       "  <tbody>\n",
       "    <tr>\n",
       "      <td>0</td>\n",
       "      <td>132359</td>\n",
       "      <td>Кафе «La Carotte»</td>\n",
       "      <td>нет</td>\n",
       "      <td>кафе</td>\n",
       "      <td>1-й Нагатинский проезд, дом 10</td>\n",
       "      <td>198</td>\n",
       "      <td>1-й Нагатинский проезд</td>\n",
       "    </tr>\n",
       "    <tr>\n",
       "      <td>1</td>\n",
       "      <td>25036</td>\n",
       "      <td>ЯКИТОРИЯ</td>\n",
       "      <td>да</td>\n",
       "      <td>кафе</td>\n",
       "      <td>1-я Тверская-Ямская улица, дом 29/66, корпус 1</td>\n",
       "      <td>456</td>\n",
       "      <td>1-я Тверская-Ямская улица</td>\n",
       "    </tr>\n",
       "    <tr>\n",
       "      <td>2</td>\n",
       "      <td>26477</td>\n",
       "      <td>Ресторан «2545»</td>\n",
       "      <td>нет</td>\n",
       "      <td>ресторан</td>\n",
       "      <td>2-я Брестская улица, дом 1, строение 1</td>\n",
       "      <td>30</td>\n",
       "      <td>2-я Брестская улица</td>\n",
       "    </tr>\n",
       "    <tr>\n",
       "      <td>3</td>\n",
       "      <td>178003</td>\n",
       "      <td>Столовая</td>\n",
       "      <td>нет</td>\n",
       "      <td>столовая</td>\n",
       "      <td>2-я Брестская улица, дом 5, строение 1</td>\n",
       "      <td>30</td>\n",
       "      <td>2-я Брестская улица</td>\n",
       "    </tr>\n",
       "    <tr>\n",
       "      <td>4</td>\n",
       "      <td>83951</td>\n",
       "      <td>Бункер 42 на Таганке</td>\n",
       "      <td>нет</td>\n",
       "      <td>ресторан</td>\n",
       "      <td>5-й Котельнический переулок, дом 11</td>\n",
       "      <td>271</td>\n",
       "      <td>5-й Котельнический переулок</td>\n",
       "    </tr>\n",
       "    <tr>\n",
       "      <td>...</td>\n",
       "      <td>...</td>\n",
       "      <td>...</td>\n",
       "      <td>...</td>\n",
       "      <td>...</td>\n",
       "      <td>...</td>\n",
       "      <td>...</td>\n",
       "      <td>...</td>\n",
       "    </tr>\n",
       "    <tr>\n",
       "      <td>15191</td>\n",
       "      <td>193080</td>\n",
       "      <td>Buba by Sumosan</td>\n",
       "      <td>нет</td>\n",
       "      <td>кафе</td>\n",
       "      <td>улица Льва Толстого, дом 18</td>\n",
       "      <td>80</td>\n",
       "      <td>улица Льва Толстого</td>\n",
       "    </tr>\n",
       "    <tr>\n",
       "      <td>15192</td>\n",
       "      <td>193058</td>\n",
       "      <td>HANG KONG</td>\n",
       "      <td>нет</td>\n",
       "      <td>кафе</td>\n",
       "      <td>улица Льва Толстого, дом 18</td>\n",
       "      <td>70</td>\n",
       "      <td>улица Льва Толстого</td>\n",
       "    </tr>\n",
       "    <tr>\n",
       "      <td>15193</td>\n",
       "      <td>158670</td>\n",
       "      <td>Макдоналдс</td>\n",
       "      <td>да</td>\n",
       "      <td>кафе</td>\n",
       "      <td>улица Миклухо-Маклая, дом 18</td>\n",
       "      <td>110</td>\n",
       "      <td>улица Миклухо-Маклая</td>\n",
       "    </tr>\n",
       "    <tr>\n",
       "      <td>15194</td>\n",
       "      <td>114367</td>\n",
       "      <td>СТОЛОВАЯ при Автокомбинате № 12</td>\n",
       "      <td>нет</td>\n",
       "      <td>столовая</td>\n",
       "      <td>улица Обручева, дом 23, строение 1</td>\n",
       "      <td>40</td>\n",
       "      <td>улица Обручева</td>\n",
       "    </tr>\n",
       "    <tr>\n",
       "      <td>15195</td>\n",
       "      <td>175550</td>\n",
       "      <td>Кафе «Кофе &amp; Молоко»</td>\n",
       "      <td>нет</td>\n",
       "      <td>кафе</td>\n",
       "      <td>улица Сергея Макеева, дом 9, строение 2</td>\n",
       "      <td>15</td>\n",
       "      <td>улица Сергея Макеева</td>\n",
       "    </tr>\n",
       "  </tbody>\n",
       "</table>\n",
       "<p>15196 rows × 7 columns</p>\n",
       "</div>"
      ],
      "text/plain": [
       "           id                      object_name chain object_type  \\\n",
       "0      132359                Кафе «La Carotte»   нет        кафе   \n",
       "1       25036                         ЯКИТОРИЯ    да        кафе   \n",
       "2       26477                  Ресторан «2545»   нет    ресторан   \n",
       "3      178003                         Столовая   нет    столовая   \n",
       "4       83951             Бункер 42 на Таганке   нет    ресторан   \n",
       "...       ...                              ...   ...         ...   \n",
       "15191  193080                  Buba by Sumosan   нет        кафе   \n",
       "15192  193058                        HANG KONG   нет        кафе   \n",
       "15193  158670                       Макдоналдс    да        кафе   \n",
       "15194  114367  СТОЛОВАЯ при Автокомбинате № 12   нет    столовая   \n",
       "15195  175550             Кафе «Кофе & Молоко»   нет        кафе   \n",
       "\n",
       "                                              address  number  \\\n",
       "0                      1-й Нагатинский проезд, дом 10     198   \n",
       "1      1-я Тверская-Ямская улица, дом 29/66, корпус 1     456   \n",
       "2              2-я Брестская улица, дом 1, строение 1      30   \n",
       "3              2-я Брестская улица, дом 5, строение 1      30   \n",
       "4                 5-й Котельнический переулок, дом 11     271   \n",
       "...                                               ...     ...   \n",
       "15191                     улица Льва Толстого, дом 18      80   \n",
       "15192                     улица Льва Толстого, дом 18      70   \n",
       "15193                    улица Миклухо-Маклая, дом 18     110   \n",
       "15194              улица Обручева, дом 23, строение 1      40   \n",
       "15195         улица Сергея Макеева, дом 9, строение 2      15   \n",
       "\n",
       "                            street  \n",
       "0           1-й Нагатинский проезд  \n",
       "1        1-я Тверская-Ямская улица  \n",
       "2              2-я Брестская улица  \n",
       "3              2-я Брестская улица  \n",
       "4      5-й Котельнический переулок  \n",
       "...                            ...  \n",
       "15191          улица Льва Толстого  \n",
       "15192          улица Льва Толстого  \n",
       "15193         улица Миклухо-Маклая  \n",
       "15194               улица Обручева  \n",
       "15195         улица Сергея Макеева  \n",
       "\n",
       "[15196 rows x 7 columns]"
      ]
     },
     "execution_count": 20,
     "metadata": {},
     "output_type": "execute_result"
    }
   ],
   "source": [
    "words = ['улица','ул','переулок','шоссе','проспект','площадь','проезд',\n",
    "         'село','аллея','бульвар','набережная','тупик','линия', 'просек',\n",
    "         'километр', 'квартал', 'деревня', 'территория', 'посёлок', 'микрорайон', 'поселение']\n",
    "\n",
    "str_pat = r\"([^,]*?(?:{})\\b[^,]*)[,$]+\".format(\"|\".join(words))\n",
    "\n",
    "df['street'] = df['address'].str.extract(str_pat, flags = re.I)\n",
    "df"
   ]
  },
  {
   "cell_type": "code",
   "execution_count": 21,
   "metadata": {},
   "outputs": [],
   "source": [
    "def del_space(row):                              #функция по удалению лишнихо пробелов в начале и в конце названия улицы\n",
    "    try:\n",
    "        return row['street'].strip()\n",
    "    except:\n",
    "        pass\n",
    "\n",
    "df['street'] = df.apply(del_space, axis=1)"
   ]
  },
  {
   "cell_type": "markdown",
   "metadata": {},
   "source": [
    "Теперь в датафрэйме имеется столбец с названием улицы на которой объект находится. Он необходим для дальнейших расчетов."
   ]
  },
  {
   "cell_type": "markdown",
   "metadata": {},
   "source": [
    "###  Определение топ-10 улиц с наибольшим количеством заведений\n",
    "\n",
    "Составим рейтинг улиц на которых имеется самое большое количество объектов общественного питания, и с помощью внешних источников информации определим в каких районах Москвы эти улицы находятся:"
   ]
  },
  {
   "cell_type": "code",
   "execution_count": 22,
   "metadata": {},
   "outputs": [
    {
     "data": {
      "text/html": [
       "<div>\n",
       "<style scoped>\n",
       "    .dataframe tbody tr th:only-of-type {\n",
       "        vertical-align: middle;\n",
       "    }\n",
       "\n",
       "    .dataframe tbody tr th {\n",
       "        vertical-align: top;\n",
       "    }\n",
       "\n",
       "    .dataframe thead th {\n",
       "        text-align: right;\n",
       "    }\n",
       "</style>\n",
       "<table border=\"1\" class=\"dataframe\">\n",
       "  <thead>\n",
       "    <tr style=\"text-align: right;\">\n",
       "      <th></th>\n",
       "      <th>streetname</th>\n",
       "      <th>areaid</th>\n",
       "      <th>okrug</th>\n",
       "      <th>area</th>\n",
       "    </tr>\n",
       "  </thead>\n",
       "  <tbody>\n",
       "    <tr>\n",
       "      <td>0</td>\n",
       "      <td>Выставочный переулок</td>\n",
       "      <td>17</td>\n",
       "      <td>ЦАО</td>\n",
       "      <td>Пресненский район</td>\n",
       "    </tr>\n",
       "    <tr>\n",
       "      <td>1</td>\n",
       "      <td>улица Гашека</td>\n",
       "      <td>17</td>\n",
       "      <td>ЦАО</td>\n",
       "      <td>Пресненский район</td>\n",
       "    </tr>\n",
       "    <tr>\n",
       "      <td>2</td>\n",
       "      <td>Большая Никитская улица</td>\n",
       "      <td>17</td>\n",
       "      <td>ЦАО</td>\n",
       "      <td>Пресненский район</td>\n",
       "    </tr>\n",
       "    <tr>\n",
       "      <td>3</td>\n",
       "      <td>Глубокий переулок</td>\n",
       "      <td>17</td>\n",
       "      <td>ЦАО</td>\n",
       "      <td>Пресненский район</td>\n",
       "    </tr>\n",
       "    <tr>\n",
       "      <td>4</td>\n",
       "      <td>Большой Гнездниковский переулок</td>\n",
       "      <td>17</td>\n",
       "      <td>ЦАО</td>\n",
       "      <td>Пресненский район</td>\n",
       "    </tr>\n",
       "    <tr>\n",
       "      <td>...</td>\n",
       "      <td>...</td>\n",
       "      <td>...</td>\n",
       "      <td>...</td>\n",
       "      <td>...</td>\n",
       "    </tr>\n",
       "    <tr>\n",
       "      <td>4393</td>\n",
       "      <td>Вознесенский проезд</td>\n",
       "      <td>17</td>\n",
       "      <td>ЦАО</td>\n",
       "      <td>Пресненский район</td>\n",
       "    </tr>\n",
       "    <tr>\n",
       "      <td>4394</td>\n",
       "      <td>Волков переулок</td>\n",
       "      <td>17</td>\n",
       "      <td>ЦАО</td>\n",
       "      <td>Пресненский район</td>\n",
       "    </tr>\n",
       "    <tr>\n",
       "      <td>4395</td>\n",
       "      <td>Поварская улица</td>\n",
       "      <td>17</td>\n",
       "      <td>ЦАО</td>\n",
       "      <td>Пресненский район</td>\n",
       "    </tr>\n",
       "    <tr>\n",
       "      <td>4396</td>\n",
       "      <td>Кудринская площадь</td>\n",
       "      <td>17</td>\n",
       "      <td>ЦАО</td>\n",
       "      <td>Пресненский район</td>\n",
       "    </tr>\n",
       "    <tr>\n",
       "      <td>4397</td>\n",
       "      <td>Вспольный переулок</td>\n",
       "      <td>17</td>\n",
       "      <td>ЦАО</td>\n",
       "      <td>Пресненский район</td>\n",
       "    </tr>\n",
       "  </tbody>\n",
       "</table>\n",
       "<p>4398 rows × 4 columns</p>\n",
       "</div>"
      ],
      "text/plain": [
       "                           streetname  areaid okrug               area\n",
       "0                Выставочный переулок      17   ЦАО  Пресненский район\n",
       "1                        улица Гашека      17   ЦАО  Пресненский район\n",
       "2             Большая Никитская улица      17   ЦАО  Пресненский район\n",
       "3                   Глубокий переулок      17   ЦАО  Пресненский район\n",
       "4     Большой Гнездниковский переулок      17   ЦАО  Пресненский район\n",
       "...                               ...     ...   ...                ...\n",
       "4393              Вознесенский проезд      17   ЦАО  Пресненский район\n",
       "4394                  Волков переулок      17   ЦАО  Пресненский район\n",
       "4395                  Поварская улица      17   ЦАО  Пресненский район\n",
       "4396               Кудринская площадь      17   ЦАО  Пресненский район\n",
       "4397               Вспольный переулок      17   ЦАО  Пресненский район\n",
       "\n",
       "[4398 rows x 4 columns]"
      ]
     },
     "execution_count": 22,
     "metadata": {},
     "output_type": "execute_result"
    }
   ],
   "source": [
    "URL = 'https://frs.noosphere.ru/xmlui/bitstream/handle/20.500.11925/714058/mosgaz-streets.csv?sequence=1&isAllowed=y'\n",
    "district = pd.read_csv(URL)                                                  #выгрузка данных из внешнего источника\n",
    "district"
   ]
  },
  {
   "cell_type": "code",
   "execution_count": 23,
   "metadata": {},
   "outputs": [],
   "source": [
    "district = district.drop(columns=['areaid', 'okrug'])"
   ]
  },
  {
   "cell_type": "code",
   "execution_count": 24,
   "metadata": {},
   "outputs": [
    {
     "data": {
      "text/html": [
       "<div>\n",
       "<style scoped>\n",
       "    .dataframe tbody tr th:only-of-type {\n",
       "        vertical-align: middle;\n",
       "    }\n",
       "\n",
       "    .dataframe tbody tr th {\n",
       "        vertical-align: top;\n",
       "    }\n",
       "\n",
       "    .dataframe thead th {\n",
       "        text-align: right;\n",
       "    }\n",
       "</style>\n",
       "<table border=\"1\" class=\"dataframe\">\n",
       "  <thead>\n",
       "    <tr style=\"text-align: right;\">\n",
       "      <th></th>\n",
       "      <th>street</th>\n",
       "      <th>area</th>\n",
       "    </tr>\n",
       "  </thead>\n",
       "  <tbody>\n",
       "    <tr>\n",
       "      <td>0</td>\n",
       "      <td>Выставочный переулок</td>\n",
       "      <td>Пресненский район</td>\n",
       "    </tr>\n",
       "    <tr>\n",
       "      <td>1</td>\n",
       "      <td>улица Гашека</td>\n",
       "      <td>Пресненский район</td>\n",
       "    </tr>\n",
       "    <tr>\n",
       "      <td>2</td>\n",
       "      <td>Большая Никитская улица</td>\n",
       "      <td>Пресненский район</td>\n",
       "    </tr>\n",
       "    <tr>\n",
       "      <td>3</td>\n",
       "      <td>Глубокий переулок</td>\n",
       "      <td>Пресненский район</td>\n",
       "    </tr>\n",
       "    <tr>\n",
       "      <td>4</td>\n",
       "      <td>Большой Гнездниковский переулок</td>\n",
       "      <td>Пресненский район</td>\n",
       "    </tr>\n",
       "  </tbody>\n",
       "</table>\n",
       "</div>"
      ],
      "text/plain": [
       "                            street               area\n",
       "0             Выставочный переулок  Пресненский район\n",
       "1                     улица Гашека  Пресненский район\n",
       "2          Большая Никитская улица  Пресненский район\n",
       "3                Глубокий переулок  Пресненский район\n",
       "4  Большой Гнездниковский переулок  Пресненский район"
      ]
     },
     "execution_count": 24,
     "metadata": {},
     "output_type": "execute_result"
    }
   ],
   "source": [
    "district.columns = ['street', 'area']\n",
    "district.head()"
   ]
  },
  {
   "cell_type": "code",
   "execution_count": 25,
   "metadata": {},
   "outputs": [
    {
     "data": {
      "text/html": [
       "<div>\n",
       "<style scoped>\n",
       "    .dataframe tbody tr th:only-of-type {\n",
       "        vertical-align: middle;\n",
       "    }\n",
       "\n",
       "    .dataframe tbody tr th {\n",
       "        vertical-align: top;\n",
       "    }\n",
       "\n",
       "    .dataframe thead th {\n",
       "        text-align: right;\n",
       "    }\n",
       "</style>\n",
       "<table border=\"1\" class=\"dataframe\">\n",
       "  <thead>\n",
       "    <tr style=\"text-align: right;\">\n",
       "      <th></th>\n",
       "      <th>id</th>\n",
       "      <th>object_name</th>\n",
       "      <th>chain</th>\n",
       "      <th>object_type</th>\n",
       "      <th>address</th>\n",
       "      <th>number</th>\n",
       "      <th>street</th>\n",
       "      <th>area</th>\n",
       "    </tr>\n",
       "  </thead>\n",
       "  <tbody>\n",
       "    <tr>\n",
       "      <td>0</td>\n",
       "      <td>132359</td>\n",
       "      <td>Кафе «La Carotte»</td>\n",
       "      <td>нет</td>\n",
       "      <td>кафе</td>\n",
       "      <td>1-й Нагатинский проезд, дом 10</td>\n",
       "      <td>198</td>\n",
       "      <td>1-й Нагатинский проезд</td>\n",
       "      <td>Район Нагатино-Садовники</td>\n",
       "    </tr>\n",
       "    <tr>\n",
       "      <td>1</td>\n",
       "      <td>140510</td>\n",
       "      <td>Ресторан «Клюква»</td>\n",
       "      <td>нет</td>\n",
       "      <td>ресторан</td>\n",
       "      <td>город Москва, 1-й Нагатинский проезд, дом 10, ...</td>\n",
       "      <td>100</td>\n",
       "      <td>1-й Нагатинский проезд</td>\n",
       "      <td>Район Нагатино-Садовники</td>\n",
       "    </tr>\n",
       "    <tr>\n",
       "      <td>2</td>\n",
       "      <td>146717</td>\n",
       "      <td>Кафе «SKYFOOD»</td>\n",
       "      <td>нет</td>\n",
       "      <td>кафе</td>\n",
       "      <td>город Москва, 1-й Нагатинский проезд, дом 11, ...</td>\n",
       "      <td>8</td>\n",
       "      <td>1-й Нагатинский проезд</td>\n",
       "      <td>Район Нагатино-Садовники</td>\n",
       "    </tr>\n",
       "    <tr>\n",
       "      <td>3</td>\n",
       "      <td>168333</td>\n",
       "      <td>Ресторан «Счастливая Щука»</td>\n",
       "      <td>нет</td>\n",
       "      <td>ресторан</td>\n",
       "      <td>город Москва, 1-й Нагатинский проезд, дом 11, ...</td>\n",
       "      <td>40</td>\n",
       "      <td>1-й Нагатинский проезд</td>\n",
       "      <td>Район Нагатино-Садовники</td>\n",
       "    </tr>\n",
       "    <tr>\n",
       "      <td>4</td>\n",
       "      <td>145378</td>\n",
       "      <td>Кафе «Coffeesphere»</td>\n",
       "      <td>нет</td>\n",
       "      <td>кафе</td>\n",
       "      <td>город Москва, 1-й Нагатинский проезд, дом 11, ...</td>\n",
       "      <td>12</td>\n",
       "      <td>1-й Нагатинский проезд</td>\n",
       "      <td>Район Нагатино-Садовники</td>\n",
       "    </tr>\n",
       "    <tr>\n",
       "      <td>...</td>\n",
       "      <td>...</td>\n",
       "      <td>...</td>\n",
       "      <td>...</td>\n",
       "      <td>...</td>\n",
       "      <td>...</td>\n",
       "      <td>...</td>\n",
       "      <td>...</td>\n",
       "      <td>...</td>\n",
       "    </tr>\n",
       "    <tr>\n",
       "      <td>28876</td>\n",
       "      <td>24507</td>\n",
       "      <td>ВАРДЗИЯ</td>\n",
       "      <td>нет</td>\n",
       "      <td>ресторан</td>\n",
       "      <td>город Москва, шоссе Энтузиастов, домовладение ...</td>\n",
       "      <td>250</td>\n",
       "      <td>шоссе Энтузиастов</td>\n",
       "      <td>Район Перово</td>\n",
       "    </tr>\n",
       "    <tr>\n",
       "      <td>28877</td>\n",
       "      <td>24507</td>\n",
       "      <td>ВАРДЗИЯ</td>\n",
       "      <td>нет</td>\n",
       "      <td>ресторан</td>\n",
       "      <td>город Москва, шоссе Энтузиастов, домовладение ...</td>\n",
       "      <td>250</td>\n",
       "      <td>шоссе Энтузиастов</td>\n",
       "      <td>Район Соколиная Гора</td>\n",
       "    </tr>\n",
       "    <tr>\n",
       "      <td>28878</td>\n",
       "      <td>24507</td>\n",
       "      <td>ВАРДЗИЯ</td>\n",
       "      <td>нет</td>\n",
       "      <td>ресторан</td>\n",
       "      <td>город Москва, шоссе Энтузиастов, домовладение ...</td>\n",
       "      <td>250</td>\n",
       "      <td>шоссе Энтузиастов</td>\n",
       "      <td>Район Ивановское</td>\n",
       "    </tr>\n",
       "    <tr>\n",
       "      <td>28879</td>\n",
       "      <td>24507</td>\n",
       "      <td>ВАРДЗИЯ</td>\n",
       "      <td>нет</td>\n",
       "      <td>ресторан</td>\n",
       "      <td>город Москва, шоссе Энтузиастов, домовладение ...</td>\n",
       "      <td>250</td>\n",
       "      <td>шоссе Энтузиастов</td>\n",
       "      <td>Район Лефортово</td>\n",
       "    </tr>\n",
       "    <tr>\n",
       "      <td>28880</td>\n",
       "      <td>80008</td>\n",
       "      <td>Вкусная Жизнь</td>\n",
       "      <td>нет</td>\n",
       "      <td>ресторан</td>\n",
       "      <td>улица Каманина, домовладение 11, строение 2</td>\n",
       "      <td>35</td>\n",
       "      <td>улица Каманина</td>\n",
       "      <td>Район Лианозово</td>\n",
       "    </tr>\n",
       "  </tbody>\n",
       "</table>\n",
       "<p>28881 rows × 8 columns</p>\n",
       "</div>"
      ],
      "text/plain": [
       "           id                 object_name chain object_type  \\\n",
       "0      132359           Кафе «La Carotte»   нет        кафе   \n",
       "1      140510           Ресторан «Клюква»   нет    ресторан   \n",
       "2      146717              Кафе «SKYFOOD»   нет        кафе   \n",
       "3      168333  Ресторан «Счастливая Щука»   нет    ресторан   \n",
       "4      145378         Кафе «Coffeesphere»   нет        кафе   \n",
       "...       ...                         ...   ...         ...   \n",
       "28876   24507                     ВАРДЗИЯ   нет    ресторан   \n",
       "28877   24507                     ВАРДЗИЯ   нет    ресторан   \n",
       "28878   24507                     ВАРДЗИЯ   нет    ресторан   \n",
       "28879   24507                     ВАРДЗИЯ   нет    ресторан   \n",
       "28880   80008               Вкусная Жизнь   нет    ресторан   \n",
       "\n",
       "                                                 address  number  \\\n",
       "0                         1-й Нагатинский проезд, дом 10     198   \n",
       "1      город Москва, 1-й Нагатинский проезд, дом 10, ...     100   \n",
       "2      город Москва, 1-й Нагатинский проезд, дом 11, ...       8   \n",
       "3      город Москва, 1-й Нагатинский проезд, дом 11, ...      40   \n",
       "4      город Москва, 1-й Нагатинский проезд, дом 11, ...      12   \n",
       "...                                                  ...     ...   \n",
       "28876  город Москва, шоссе Энтузиастов, домовладение ...     250   \n",
       "28877  город Москва, шоссе Энтузиастов, домовладение ...     250   \n",
       "28878  город Москва, шоссе Энтузиастов, домовладение ...     250   \n",
       "28879  город Москва, шоссе Энтузиастов, домовладение ...     250   \n",
       "28880        улица Каманина, домовладение 11, строение 2      35   \n",
       "\n",
       "                       street                      area  \n",
       "0      1-й Нагатинский проезд  Район Нагатино-Садовники  \n",
       "1      1-й Нагатинский проезд  Район Нагатино-Садовники  \n",
       "2      1-й Нагатинский проезд  Район Нагатино-Садовники  \n",
       "3      1-й Нагатинский проезд  Район Нагатино-Садовники  \n",
       "4      1-й Нагатинский проезд  Район Нагатино-Садовники  \n",
       "...                       ...                       ...  \n",
       "28876       шоссе Энтузиастов              Район Перово  \n",
       "28877       шоссе Энтузиастов      Район Соколиная Гора  \n",
       "28878       шоссе Энтузиастов          Район Ивановское  \n",
       "28879       шоссе Энтузиастов           Район Лефортово  \n",
       "28880          улица Каманина           Район Лианозово  \n",
       "\n",
       "[28881 rows x 8 columns]"
      ]
     },
     "execution_count": 25,
     "metadata": {},
     "output_type": "execute_result"
    }
   ],
   "source": [
    "union = df.merge(district, on='street') \n",
    "union"
   ]
  },
  {
   "cell_type": "markdown",
   "metadata": {},
   "source": [
    "При объединении получился очень большой датафрэйм, все дело в том, что в таблице с районами одна улица имела несколько строк, то есть принадлежала разным районам. Так как в рамках данного проекта не предусмотрено строгое определение того к какому району относится улица, выберем первый район из списка:"
   ]
  },
  {
   "cell_type": "code",
   "execution_count": 26,
   "metadata": {},
   "outputs": [
    {
     "data": {
      "text/html": [
       "<div>\n",
       "<style scoped>\n",
       "    .dataframe tbody tr th:only-of-type {\n",
       "        vertical-align: middle;\n",
       "    }\n",
       "\n",
       "    .dataframe tbody tr th {\n",
       "        vertical-align: top;\n",
       "    }\n",
       "\n",
       "    .dataframe thead th {\n",
       "        text-align: right;\n",
       "    }\n",
       "</style>\n",
       "<table border=\"1\" class=\"dataframe\">\n",
       "  <thead>\n",
       "    <tr style=\"text-align: right;\">\n",
       "      <th></th>\n",
       "      <th>id</th>\n",
       "      <th>object_name</th>\n",
       "      <th>chain</th>\n",
       "      <th>object_type</th>\n",
       "      <th>address</th>\n",
       "      <th>number</th>\n",
       "      <th>street</th>\n",
       "      <th>area</th>\n",
       "    </tr>\n",
       "  </thead>\n",
       "  <tbody>\n",
       "    <tr>\n",
       "      <td>0</td>\n",
       "      <td>838</td>\n",
       "      <td>Темпл Бар</td>\n",
       "      <td>да</td>\n",
       "      <td>кафе</td>\n",
       "      <td>город Москва, Первомайская улица, дом 33</td>\n",
       "      <td>356</td>\n",
       "      <td>Первомайская улица</td>\n",
       "      <td>Район Измайлово</td>\n",
       "    </tr>\n",
       "    <tr>\n",
       "      <td>1</td>\n",
       "      <td>5882</td>\n",
       "      <td>Кафе «Эссе»</td>\n",
       "      <td>нет</td>\n",
       "      <td>кафе</td>\n",
       "      <td>город Москва, Никитинская улица, дом 13А</td>\n",
       "      <td>70</td>\n",
       "      <td>Никитинская улица</td>\n",
       "      <td>Район Измайлово</td>\n",
       "    </tr>\n",
       "    <tr>\n",
       "      <td>2</td>\n",
       "      <td>19613</td>\n",
       "      <td>БАР Азбука Вкуса</td>\n",
       "      <td>да</td>\n",
       "      <td>бар</td>\n",
       "      <td>город Москва, Мичуринский проспект, дом 22, ко...</td>\n",
       "      <td>6</td>\n",
       "      <td>Мичуринский проспект</td>\n",
       "      <td>Район Очаково-Матвеевское</td>\n",
       "    </tr>\n",
       "    <tr>\n",
       "      <td>3</td>\n",
       "      <td>19618</td>\n",
       "      <td>КАФЕ «Галладенс»</td>\n",
       "      <td>нет</td>\n",
       "      <td>кафе</td>\n",
       "      <td>город Москва, Мичуринский проспект, дом 21, ко...</td>\n",
       "      <td>25</td>\n",
       "      <td>Мичуринский проспект</td>\n",
       "      <td>Район Очаково-Матвеевское</td>\n",
       "    </tr>\n",
       "    <tr>\n",
       "      <td>4</td>\n",
       "      <td>19619</td>\n",
       "      <td>БАР-ФИТНЕС</td>\n",
       "      <td>нет</td>\n",
       "      <td>бар</td>\n",
       "      <td>город Москва, Пятницкое шоссе, дом 29, корпус 5</td>\n",
       "      <td>24</td>\n",
       "      <td>Пятницкое шоссе</td>\n",
       "      <td>Район Митино</td>\n",
       "    </tr>\n",
       "    <tr>\n",
       "      <td>...</td>\n",
       "      <td>...</td>\n",
       "      <td>...</td>\n",
       "      <td>...</td>\n",
       "      <td>...</td>\n",
       "      <td>...</td>\n",
       "      <td>...</td>\n",
       "      <td>...</td>\n",
       "      <td>...</td>\n",
       "    </tr>\n",
       "    <tr>\n",
       "      <td>14329</td>\n",
       "      <td>223435</td>\n",
       "      <td>Кофейня MAGIC</td>\n",
       "      <td>нет</td>\n",
       "      <td>предприятие быстрого обслуживания</td>\n",
       "      <td>город Москва, Болотниковская улица, дом 12</td>\n",
       "      <td>6</td>\n",
       "      <td>Болотниковская улица</td>\n",
       "      <td>Нагорный район</td>\n",
       "    </tr>\n",
       "    <tr>\n",
       "      <td>14330</td>\n",
       "      <td>223436</td>\n",
       "      <td>Донер Кебаб</td>\n",
       "      <td>нет</td>\n",
       "      <td>предприятие быстрого обслуживания</td>\n",
       "      <td>город Москва, Ломоносовский проспект, дом 19А</td>\n",
       "      <td>0</td>\n",
       "      <td>Ломоносовский проспект</td>\n",
       "      <td>Район Раменки</td>\n",
       "    </tr>\n",
       "    <tr>\n",
       "      <td>14331</td>\n",
       "      <td>223437</td>\n",
       "      <td>Шаурма</td>\n",
       "      <td>нет</td>\n",
       "      <td>предприятие быстрого обслуживания</td>\n",
       "      <td>город Москва, Ломоносовский проспект, владение...</td>\n",
       "      <td>0</td>\n",
       "      <td>Ломоносовский проспект</td>\n",
       "      <td>Район Раменки</td>\n",
       "    </tr>\n",
       "    <tr>\n",
       "      <td>14332</td>\n",
       "      <td>223438</td>\n",
       "      <td>Тандыр Хачапури</td>\n",
       "      <td>нет</td>\n",
       "      <td>предприятие быстрого обслуживания</td>\n",
       "      <td>город Москва, Ломоносовский проспект, дом 23А</td>\n",
       "      <td>3</td>\n",
       "      <td>Ломоносовский проспект</td>\n",
       "      <td>Район Раменки</td>\n",
       "    </tr>\n",
       "    <tr>\n",
       "      <td>14333</td>\n",
       "      <td>223439</td>\n",
       "      <td>Донер Кебаб</td>\n",
       "      <td>нет</td>\n",
       "      <td>предприятие быстрого обслуживания</td>\n",
       "      <td>город Москва, Ленинский проспект, дом 39/1</td>\n",
       "      <td>0</td>\n",
       "      <td>Ленинский проспект</td>\n",
       "      <td>Район Проспект Вернадского</td>\n",
       "    </tr>\n",
       "  </tbody>\n",
       "</table>\n",
       "<p>14334 rows × 8 columns</p>\n",
       "</div>"
      ],
      "text/plain": [
       "           id       object_name chain                        object_type  \\\n",
       "0         838         Темпл Бар    да                               кафе   \n",
       "1        5882       Кафе «Эссе»   нет                               кафе   \n",
       "2       19613  БАР Азбука Вкуса    да                                бар   \n",
       "3       19618  КАФЕ «Галладенс»   нет                               кафе   \n",
       "4       19619        БАР-ФИТНЕС   нет                                бар   \n",
       "...       ...               ...   ...                                ...   \n",
       "14329  223435     Кофейня MAGIC   нет  предприятие быстрого обслуживания   \n",
       "14330  223436       Донер Кебаб   нет  предприятие быстрого обслуживания   \n",
       "14331  223437            Шаурма   нет  предприятие быстрого обслуживания   \n",
       "14332  223438   Тандыр Хачапури   нет  предприятие быстрого обслуживания   \n",
       "14333  223439       Донер Кебаб   нет  предприятие быстрого обслуживания   \n",
       "\n",
       "                                                 address  number  \\\n",
       "0               город Москва, Первомайская улица, дом 33     356   \n",
       "1               город Москва, Никитинская улица, дом 13А      70   \n",
       "2      город Москва, Мичуринский проспект, дом 22, ко...       6   \n",
       "3      город Москва, Мичуринский проспект, дом 21, ко...      25   \n",
       "4        город Москва, Пятницкое шоссе, дом 29, корпус 5      24   \n",
       "...                                                  ...     ...   \n",
       "14329         город Москва, Болотниковская улица, дом 12       6   \n",
       "14330      город Москва, Ломоносовский проспект, дом 19А       0   \n",
       "14331  город Москва, Ломоносовский проспект, владение...       0   \n",
       "14332      город Москва, Ломоносовский проспект, дом 23А       3   \n",
       "14333         город Москва, Ленинский проспект, дом 39/1       0   \n",
       "\n",
       "                       street                        area  \n",
       "0          Первомайская улица             Район Измайлово  \n",
       "1           Никитинская улица             Район Измайлово  \n",
       "2        Мичуринский проспект   Район Очаково-Матвеевское  \n",
       "3        Мичуринский проспект   Район Очаково-Матвеевское  \n",
       "4             Пятницкое шоссе                Район Митино  \n",
       "...                       ...                         ...  \n",
       "14329    Болотниковская улица              Нагорный район  \n",
       "14330  Ломоносовский проспект               Район Раменки  \n",
       "14331  Ломоносовский проспект               Район Раменки  \n",
       "14332  Ломоносовский проспект               Район Раменки  \n",
       "14333      Ленинский проспект  Район Проспект Вернадского  \n",
       "\n",
       "[14334 rows x 8 columns]"
      ]
     },
     "execution_count": 26,
     "metadata": {},
     "output_type": "execute_result"
    }
   ],
   "source": [
    "union_gr = union.groupby('id').first().reset_index() \n",
    "union_gr"
   ]
  },
  {
   "cell_type": "markdown",
   "metadata": {},
   "source": [
    "Полученный датафрэйм получился немного меньше исходного, все потому, что там были адреса из населенных пунктов не подходящих под категории улиц, к примеру: город Зеленоград, поселение Сосетское и др. Было бы неправильно использовать их в дальнейших исследованиях в сравнениях с улицами."
   ]
  },
  {
   "cell_type": "code",
   "execution_count": 27,
   "metadata": {},
   "outputs": [
    {
     "data": {
      "text/html": [
       "<div>\n",
       "<style scoped>\n",
       "    .dataframe tbody tr th:only-of-type {\n",
       "        vertical-align: middle;\n",
       "    }\n",
       "\n",
       "    .dataframe tbody tr th {\n",
       "        vertical-align: top;\n",
       "    }\n",
       "\n",
       "    .dataframe thead th {\n",
       "        text-align: right;\n",
       "    }\n",
       "</style>\n",
       "<table border=\"1\" class=\"dataframe\">\n",
       "  <thead>\n",
       "    <tr style=\"text-align: right;\">\n",
       "      <th></th>\n",
       "      <th>street</th>\n",
       "      <th>object_count</th>\n",
       "      <th>area</th>\n",
       "    </tr>\n",
       "  </thead>\n",
       "  <tbody>\n",
       "    <tr>\n",
       "      <td>0</td>\n",
       "      <td>проспект Мира</td>\n",
       "      <td>197</td>\n",
       "      <td>Алексеевский район</td>\n",
       "    </tr>\n",
       "    <tr>\n",
       "      <td>1</td>\n",
       "      <td>Профсоюзная улица</td>\n",
       "      <td>181</td>\n",
       "      <td>Академический район</td>\n",
       "    </tr>\n",
       "    <tr>\n",
       "      <td>2</td>\n",
       "      <td>Ленинградский проспект</td>\n",
       "      <td>172</td>\n",
       "      <td>Район Аэропорт</td>\n",
       "    </tr>\n",
       "    <tr>\n",
       "      <td>3</td>\n",
       "      <td>Пресненская набережная</td>\n",
       "      <td>165</td>\n",
       "      <td>Пресненский район</td>\n",
       "    </tr>\n",
       "    <tr>\n",
       "      <td>4</td>\n",
       "      <td>Варшавское шоссе</td>\n",
       "      <td>163</td>\n",
       "      <td>Район Чертаново Центральное</td>\n",
       "    </tr>\n",
       "    <tr>\n",
       "      <td>5</td>\n",
       "      <td>Ленинский проспект</td>\n",
       "      <td>148</td>\n",
       "      <td>Район Проспект Вернадского</td>\n",
       "    </tr>\n",
       "    <tr>\n",
       "      <td>6</td>\n",
       "      <td>проспект Вернадского</td>\n",
       "      <td>127</td>\n",
       "      <td>Район Проспект Вернадского</td>\n",
       "    </tr>\n",
       "    <tr>\n",
       "      <td>7</td>\n",
       "      <td>Кутузовский проспект</td>\n",
       "      <td>114</td>\n",
       "      <td>Район Дорогомилово</td>\n",
       "    </tr>\n",
       "    <tr>\n",
       "      <td>8</td>\n",
       "      <td>Каширское шоссе</td>\n",
       "      <td>110</td>\n",
       "      <td>Район Москворечье-Сабурово</td>\n",
       "    </tr>\n",
       "    <tr>\n",
       "      <td>9</td>\n",
       "      <td>Кировоградская улица</td>\n",
       "      <td>107</td>\n",
       "      <td>Район Чертаново Центральное</td>\n",
       "    </tr>\n",
       "  </tbody>\n",
       "</table>\n",
       "</div>"
      ],
      "text/plain": [
       "                   street  object_count                         area\n",
       "0           проспект Мира           197           Алексеевский район\n",
       "1       Профсоюзная улица           181          Академический район\n",
       "2  Ленинградский проспект           172               Район Аэропорт\n",
       "3  Пресненская набережная           165            Пресненский район\n",
       "4        Варшавское шоссе           163  Район Чертаново Центральное\n",
       "5      Ленинский проспект           148   Район Проспект Вернадского\n",
       "6    проспект Вернадского           127   Район Проспект Вернадского\n",
       "7    Кутузовский проспект           114           Район Дорогомилово\n",
       "8         Каширское шоссе           110   Район Москворечье-Сабурово\n",
       "9    Кировоградская улица           107  Район Чертаново Центральное"
      ]
     },
     "execution_count": 27,
     "metadata": {},
     "output_type": "execute_result"
    }
   ],
   "source": [
    "df_gr_street = union_gr.groupby('street').agg({'id' : 'count',       \n",
    "            'area' : 'first'}).sort_values(by = 'id', ascending=False).reset_index()\n",
    "df_gr_street.columns = ['street', 'object_count', 'area']\n",
    "df_gr_street.head(10)"
   ]
  },
  {
   "cell_type": "markdown",
   "metadata": {},
   "source": [
    "Итак, имеется рейтинг 10 улиц с самым большим количеством объектов общепита, это достаточно крыпные улицы, проспекты и шоссе в околоцентральных районах город, совершенно закономерно и ожидаемо их наблюдать в лидерах."
   ]
  },
  {
   "cell_type": "markdown",
   "metadata": {},
   "source": [
    "###  Улицы с одним объектом общественного питания\n",
    "\n",
    "В противовес исследованиям из предыдущего пункта определим улицы с наименьшим количеством заведений, то есть всего одним:"
   ]
  },
  {
   "cell_type": "code",
   "execution_count": 28,
   "metadata": {},
   "outputs": [
    {
     "data": {
      "text/html": [
       "<div>\n",
       "<style scoped>\n",
       "    .dataframe tbody tr th:only-of-type {\n",
       "        vertical-align: middle;\n",
       "    }\n",
       "\n",
       "    .dataframe tbody tr th {\n",
       "        vertical-align: top;\n",
       "    }\n",
       "\n",
       "    .dataframe thead th {\n",
       "        text-align: right;\n",
       "    }\n",
       "</style>\n",
       "<table border=\"1\" class=\"dataframe\">\n",
       "  <thead>\n",
       "    <tr style=\"text-align: right;\">\n",
       "      <th></th>\n",
       "      <th>street</th>\n",
       "      <th>object_count</th>\n",
       "      <th>area</th>\n",
       "    </tr>\n",
       "  </thead>\n",
       "  <tbody>\n",
       "    <tr>\n",
       "      <td>1283</td>\n",
       "      <td>3-я Северная линия</td>\n",
       "      <td>1</td>\n",
       "      <td>Район Северный</td>\n",
       "    </tr>\n",
       "    <tr>\n",
       "      <td>1284</td>\n",
       "      <td>3-й Стрелецкий проезд</td>\n",
       "      <td>1</td>\n",
       "      <td>Район Марьина роща</td>\n",
       "    </tr>\n",
       "    <tr>\n",
       "      <td>1285</td>\n",
       "      <td>улица Уткина</td>\n",
       "      <td>1</td>\n",
       "      <td>Район Перово</td>\n",
       "    </tr>\n",
       "    <tr>\n",
       "      <td>1286</td>\n",
       "      <td>3-й Угрешский проезд</td>\n",
       "      <td>1</td>\n",
       "      <td>Район Печатники</td>\n",
       "    </tr>\n",
       "    <tr>\n",
       "      <td>1287</td>\n",
       "      <td>3-я Песчаная улица</td>\n",
       "      <td>1</td>\n",
       "      <td>Хорошевский район</td>\n",
       "    </tr>\n",
       "    <tr>\n",
       "      <td>...</td>\n",
       "      <td>...</td>\n",
       "      <td>...</td>\n",
       "      <td>...</td>\n",
       "    </tr>\n",
       "    <tr>\n",
       "      <td>1799</td>\n",
       "      <td>Ботанический переулок</td>\n",
       "      <td>1</td>\n",
       "      <td>Мещанский район</td>\n",
       "    </tr>\n",
       "    <tr>\n",
       "      <td>1800</td>\n",
       "      <td>Боровский проезд</td>\n",
       "      <td>1</td>\n",
       "      <td>Район Солнцево</td>\n",
       "    </tr>\n",
       "    <tr>\n",
       "      <td>1801</td>\n",
       "      <td>Боровая улица</td>\n",
       "      <td>1</td>\n",
       "      <td>Район Лефортово</td>\n",
       "    </tr>\n",
       "    <tr>\n",
       "      <td>1802</td>\n",
       "      <td>Мажоров переулок</td>\n",
       "      <td>1</td>\n",
       "      <td>Район Соколиная Гора</td>\n",
       "    </tr>\n",
       "    <tr>\n",
       "      <td>1803</td>\n",
       "      <td>улица Академика Комарова</td>\n",
       "      <td>1</td>\n",
       "      <td>Район Марфино</td>\n",
       "    </tr>\n",
       "  </tbody>\n",
       "</table>\n",
       "<p>521 rows × 3 columns</p>\n",
       "</div>"
      ],
      "text/plain": [
       "                        street  object_count                  area\n",
       "1283        3-я Северная линия             1        Район Северный\n",
       "1284     3-й Стрелецкий проезд             1    Район Марьина роща\n",
       "1285              улица Уткина             1          Район Перово\n",
       "1286      3-й Угрешский проезд             1       Район Печатники\n",
       "1287        3-я Песчаная улица             1     Хорошевский район\n",
       "...                        ...           ...                   ...\n",
       "1799     Ботанический переулок             1       Мещанский район\n",
       "1800          Боровский проезд             1        Район Солнцево\n",
       "1801             Боровая улица             1       Район Лефортово\n",
       "1802          Мажоров переулок             1  Район Соколиная Гора\n",
       "1803  улица Академика Комарова             1         Район Марфино\n",
       "\n",
       "[521 rows x 3 columns]"
      ]
     },
     "execution_count": 28,
     "metadata": {},
     "output_type": "execute_result"
    }
   ],
   "source": [
    "df_gr_street[df_gr_street['object_count'] == 1]"
   ]
  },
  {
   "cell_type": "code",
   "execution_count": 29,
   "metadata": {},
   "outputs": [
    {
     "data": {
      "text/html": [
       "<div>\n",
       "<style scoped>\n",
       "    .dataframe tbody tr th:only-of-type {\n",
       "        vertical-align: middle;\n",
       "    }\n",
       "\n",
       "    .dataframe tbody tr th {\n",
       "        vertical-align: top;\n",
       "    }\n",
       "\n",
       "    .dataframe thead th {\n",
       "        text-align: right;\n",
       "    }\n",
       "</style>\n",
       "<table border=\"1\" class=\"dataframe\">\n",
       "  <thead>\n",
       "    <tr style=\"text-align: right;\">\n",
       "      <th></th>\n",
       "      <th>area</th>\n",
       "      <th>object_count</th>\n",
       "    </tr>\n",
       "  </thead>\n",
       "  <tbody>\n",
       "    <tr>\n",
       "      <td>94</td>\n",
       "      <td>Таганский район</td>\n",
       "      <td>27</td>\n",
       "    </tr>\n",
       "    <tr>\n",
       "      <td>3</td>\n",
       "      <td>Басманный район</td>\n",
       "      <td>24</td>\n",
       "    </tr>\n",
       "    <tr>\n",
       "      <td>80</td>\n",
       "      <td>Район Хамовники</td>\n",
       "      <td>22</td>\n",
       "    </tr>\n",
       "    <tr>\n",
       "      <td>95</td>\n",
       "      <td>Тверской район</td>\n",
       "      <td>20</td>\n",
       "    </tr>\n",
       "    <tr>\n",
       "      <td>19</td>\n",
       "      <td>Пресненский район</td>\n",
       "      <td>20</td>\n",
       "    </tr>\n",
       "    <tr>\n",
       "      <td>50</td>\n",
       "      <td>Район Марьина роща</td>\n",
       "      <td>17</td>\n",
       "    </tr>\n",
       "    <tr>\n",
       "      <td>74</td>\n",
       "      <td>Район Сокольники</td>\n",
       "      <td>15</td>\n",
       "    </tr>\n",
       "    <tr>\n",
       "      <td>20</td>\n",
       "      <td>Район Арбат</td>\n",
       "      <td>14</td>\n",
       "    </tr>\n",
       "    <tr>\n",
       "      <td>32</td>\n",
       "      <td>Район Замоскворечье</td>\n",
       "      <td>14</td>\n",
       "    </tr>\n",
       "    <tr>\n",
       "      <td>13</td>\n",
       "      <td>Мещанский район</td>\n",
       "      <td>12</td>\n",
       "    </tr>\n",
       "  </tbody>\n",
       "</table>\n",
       "</div>"
      ],
      "text/plain": [
       "                   area  object_count\n",
       "94      Таганский район            27\n",
       "3       Басманный район            24\n",
       "80      Район Хамовники            22\n",
       "95       Тверской район            20\n",
       "19    Пресненский район            20\n",
       "50   Район Марьина роща            17\n",
       "74     Район Сокольники            15\n",
       "20          Район Арбат            14\n",
       "32  Район Замоскворечье            14\n",
       "13      Мещанский район            12"
      ]
     },
     "execution_count": 29,
     "metadata": {},
     "output_type": "execute_result"
    }
   ],
   "source": [
    "area_gr = (df_gr_street[df_gr_street['object_count'] == 1].groupby('area').agg({'object_count' : 'count'})\n",
    "           .reset_index().sort_values(by='object_count', ascending=False))     #\n",
    "area_gr.head(10)"
   ]
  },
  {
   "cell_type": "markdown",
   "metadata": {},
   "source": [
    "Пожалуй не самые удачные районы для базирования ресторанного бизнеса, у наибольшего числа улиц из этих районов всего по одному заведению, возможно сложности с дорогостоящей арендой."
   ]
  },
  {
   "cell_type": "markdown",
   "metadata": {},
   "source": [
    "###  Распределение количества посадочных мест для улиц с большим количеством заведений\n",
    "\n",
    "Теперь рассмотрим как распределено количество мест поситителей в объектах общепита для улиц с наибольшим числом заведений:"
   ]
  },
  {
   "cell_type": "code",
   "execution_count": 30,
   "metadata": {},
   "outputs": [
    {
     "data": {
      "text/html": [
       "<div>\n",
       "<style scoped>\n",
       "    .dataframe tbody tr th:only-of-type {\n",
       "        vertical-align: middle;\n",
       "    }\n",
       "\n",
       "    .dataframe tbody tr th {\n",
       "        vertical-align: top;\n",
       "    }\n",
       "\n",
       "    .dataframe thead th {\n",
       "        text-align: right;\n",
       "    }\n",
       "</style>\n",
       "<table border=\"1\" class=\"dataframe\">\n",
       "  <thead>\n",
       "    <tr style=\"text-align: right;\">\n",
       "      <th></th>\n",
       "      <th>id</th>\n",
       "      <th>object_name</th>\n",
       "      <th>chain</th>\n",
       "      <th>object_type</th>\n",
       "      <th>address</th>\n",
       "      <th>number</th>\n",
       "      <th>street</th>\n",
       "    </tr>\n",
       "  </thead>\n",
       "  <tbody>\n",
       "    <tr>\n",
       "      <td>10</td>\n",
       "      <td>74930</td>\n",
       "      <td>Предприятие быстрого обслуживания «Магбургер»</td>\n",
       "      <td>да</td>\n",
       "      <td>предприятие быстрого обслуживания</td>\n",
       "      <td>Варшавское шоссе, владение 99А</td>\n",
       "      <td>20</td>\n",
       "      <td>Варшавское шоссе</td>\n",
       "    </tr>\n",
       "    <tr>\n",
       "      <td>18</td>\n",
       "      <td>187726</td>\n",
       "      <td>Столовая Arcus</td>\n",
       "      <td>нет</td>\n",
       "      <td>столовая</td>\n",
       "      <td>Ленинградский проспект, дом 37, корпус 4</td>\n",
       "      <td>22</td>\n",
       "      <td>Ленинградский проспект</td>\n",
       "    </tr>\n",
       "    <tr>\n",
       "      <td>19</td>\n",
       "      <td>187668</td>\n",
       "      <td>Баркас</td>\n",
       "      <td>нет</td>\n",
       "      <td>кафетерий</td>\n",
       "      <td>Ленинградский проспект, дом 39, строение 2</td>\n",
       "      <td>10</td>\n",
       "      <td>Ленинградский проспект</td>\n",
       "    </tr>\n",
       "    <tr>\n",
       "      <td>20</td>\n",
       "      <td>19760</td>\n",
       "      <td>БУФЕТ ПРИ А-С ЮГО-ЗАПАД</td>\n",
       "      <td>нет</td>\n",
       "      <td>буфет</td>\n",
       "      <td>Ленинский проспект, владение 164</td>\n",
       "      <td>16</td>\n",
       "      <td>Ленинский проспект</td>\n",
       "    </tr>\n",
       "    <tr>\n",
       "      <td>35</td>\n",
       "      <td>29070</td>\n",
       "      <td>СТ ШК.2013 «ШКОЛЬНИК-ЮЗ»</td>\n",
       "      <td>нет</td>\n",
       "      <td>столовая</td>\n",
       "      <td>Профсоюзная улица, дом 118Б, корпус 1</td>\n",
       "      <td>220</td>\n",
       "      <td>Профсоюзная улица</td>\n",
       "    </tr>\n",
       "  </tbody>\n",
       "</table>\n",
       "</div>"
      ],
      "text/plain": [
       "        id                                    object_name chain  \\\n",
       "10   74930  Предприятие быстрого обслуживания «Магбургер»    да   \n",
       "18  187726                                 Столовая Arcus   нет   \n",
       "19  187668                                         Баркас   нет   \n",
       "20   19760                        БУФЕТ ПРИ А-С ЮГО-ЗАПАД   нет   \n",
       "35   29070                       СТ ШК.2013 «ШКОЛЬНИК-ЮЗ»   нет   \n",
       "\n",
       "                          object_type  \\\n",
       "10  предприятие быстрого обслуживания   \n",
       "18                           столовая   \n",
       "19                          кафетерий   \n",
       "20                              буфет   \n",
       "35                           столовая   \n",
       "\n",
       "                                       address  number                  street  \n",
       "10              Варшавское шоссе, владение 99А      20        Варшавское шоссе  \n",
       "18    Ленинградский проспект, дом 37, корпус 4      22  Ленинградский проспект  \n",
       "19  Ленинградский проспект, дом 39, строение 2      10  Ленинградский проспект  \n",
       "20            Ленинский проспект, владение 164      16      Ленинский проспект  \n",
       "35       Профсоюзная улица, дом 118Б, корпус 1     220       Профсоюзная улица  "
      ]
     },
     "execution_count": 30,
     "metadata": {},
     "output_type": "execute_result"
    }
   ],
   "source": [
    "top = df_gr_street.head(10)['street']\n",
    "number_assigment = df[df['street'].isin(top)]\n",
    "number_assigment.head()"
   ]
  },
  {
   "cell_type": "code",
   "execution_count": 31,
   "metadata": {},
   "outputs": [
    {
     "data": {
      "image/png": "[encoded data removed]",
      "text/plain": [
       "<Figure size 1008x792 with 1 Axes>"
      ]
     },
     "metadata": {},
     "output_type": "display_data"
    }
   ],
   "source": [
    "plt.figure(figsize=(14, 11))\n",
    "sns.boxplot(y='street', x='number', data=number_assigment, order=df_gr_street.head(10)['street'].tolist())\n",
    "plt.title('График распределения количества мест в заведении для улиц с большим количеством объектов')\n",
    "plt.ylabel('Улица')\n",
    "plt.xlabel('Количество мест')\n",
    "plt.show()"
   ]
  },
  {
   "cell_type": "code",
   "execution_count": 32,
   "metadata": {
    "scrolled": true
   },
   "outputs": [
    {
     "data": {
      "image/png": "[encoded data removed]",
      "text/plain": [
       "<Figure size 936x648 with 1 Axes>"
      ]
     },
     "metadata": {},
     "output_type": "display_data"
    },
    {
     "data": {
      "image/png": "[encoded data removed]",
      "text/plain": [
       "<Figure size 936x648 with 1 Axes>"
      ]
     },
     "metadata": {},
     "output_type": "display_data"
    },
    {
     "data": {
      "image/png": "[encoded data removed]",
      "text/plain": [
       "<Figure size 936x648 with 1 Axes>"
      ]
     },
     "metadata": {},
     "output_type": "display_data"
    },
    {
     "data": {
      "image/png": "[encoded data removed]",
      "text/plain": [
       "<Figure size 936x648 with 1 Axes>"
      ]
     },
     "metadata": {},
     "output_type": "display_data"
    },
    {
     "data": {
      "image/png": "[encoded data removed]",
      "text/plain": [
       "<Figure size 936x648 with 1 Axes>"
      ]
     },
     "metadata": {},
     "output_type": "display_data"
    },
    {
     "data": {
      "image/png": "[encoded data removed]",
      "text/plain": [
       "<Figure size 936x648 with 1 Axes>"
      ]
     },
     "metadata": {},
     "output_type": "display_data"
    },
    {
     "data": {
      "image/png": "[encoded data removed]",
      "text/plain": [
       "<Figure size 936x648 with 1 Axes>"
      ]
     },
     "metadata": {},
     "output_type": "display_data"
    },
    {
     "data": {
      "image/png": "[encoded data removed]",
      "text/plain": [
       "<Figure size 936x648 with 1 Axes>"
      ]
     },
     "metadata": {},
     "output_type": "display_data"
    },
    {
     "data": {
      "image/png": "[encoded data removed]",
      "text/plain": [
       "<Figure size 936x648 with 1 Axes>"
      ]
     },
     "metadata": {},
     "output_type": "display_data"
    },
    {
     "data": {
      "image/png": "[encoded data removed]",
      "text/plain": [
       "<Figure size 936x648 with 1 Axes>"
      ]
     },
     "metadata": {},
     "output_type": "display_data"
    }
   ],
   "source": [
    "for i in list(number_assigment['street'].unique()):\n",
    "    plt.figure(figsize=(13, 9))\n",
    "    plt.hist(number_assigment[number_assigment['street'] == i]['number'], \n",
    "    bins=50,\n",
    "    label=i,)\n",
    "    plt.title('Гистограмма количества мест в заведении для улицы')\n",
    "    plt.xlabel('Количество мест в заведении')\n",
    "    plt.legend()\n",
    "    plt.show()"
   ]
  },
  {
   "cell_type": "markdown",
   "metadata": {},
   "source": [
    "Преобладающее большинство заведений в данных районах организованны по принципу небольшой величины. В условиях высокой конкуренции и дорогой аренды наиболее опитамальны небольшие по размеру заведения общественного питания."
   ]
  },
  {
   "cell_type": "markdown",
   "metadata": {},
   "source": [
    "###  Вывод и рекомендации\n",
    "\n",
    "Для успешности нового Московского заведения, следует организовать его по типу кафе, ему следует быть небольшого размера с небольшим количеством мест для поситителей, а  располагаться лучше всего вблизи крупных улиц, шоссе и проспектов, даже несмотря на высокую конкуренцию можно полагаться на высокий трафик поситителей в таких людных местах. Возможно дальнейшее превращение в сеть, следует дополнительно открыть несколько крупных кафе."
   ]
  },
  {
   "cell_type": "markdown",
   "metadata": {},
   "source": [
    "## Подготовка призентации\n",
    "\n",
    "Презентация: <https://disk.yandex.ru/i/VGzvL-rQeTT-_A> "
   ]
  }
 ],
 "metadata": {
  "ExecuteTimeLog": [
   {
    "duration": 344,
    "start_time": "2021-12-08T11:35:04.625Z"
   },
   {
    "duration": 1506,
    "start_time": "2021-12-08T11:35:09.789Z"
   },
   {
    "duration": 29,
    "start_time": "2021-12-08T11:35:11.298Z"
   },
   {
    "duration": 74,
    "start_time": "2021-12-08T11:48:08.755Z"
   },
   {
    "duration": 63,
    "start_time": "2021-12-08T11:49:18.587Z"
   },
   {
    "duration": 11,
    "start_time": "2021-12-08T11:49:27.244Z"
   },
   {
    "duration": 66,
    "start_time": "2021-12-08T11:49:42.027Z"
   },
   {
    "duration": 11,
    "start_time": "2021-12-08T11:49:42.524Z"
   },
   {
    "duration": 25,
    "start_time": "2021-12-08T12:04:35.354Z"
   },
   {
    "duration": 70,
    "start_time": "2021-12-08T12:17:22.042Z"
   },
   {
    "duration": 458,
    "start_time": "2021-12-08T12:19:32.525Z"
   },
   {
    "duration": 26,
    "start_time": "2021-12-08T12:19:45.733Z"
   },
   {
    "duration": 23,
    "start_time": "2021-12-08T12:20:00.034Z"
   },
   {
    "duration": 7,
    "start_time": "2021-12-08T12:23:41.354Z"
   },
   {
    "duration": 8,
    "start_time": "2021-12-08T12:23:53.554Z"
   },
   {
    "duration": 9,
    "start_time": "2021-12-08T12:24:44.507Z"
   },
   {
    "duration": 7,
    "start_time": "2021-12-08T12:25:10.008Z"
   },
   {
    "duration": 283,
    "start_time": "2021-12-08T12:34:51.319Z"
   },
   {
    "duration": 52,
    "start_time": "2021-12-08T12:35:01.069Z"
   },
   {
    "duration": 74,
    "start_time": "2021-12-08T12:35:05.648Z"
   },
   {
    "duration": 72,
    "start_time": "2021-12-08T12:35:32.227Z"
   },
   {
    "duration": 72,
    "start_time": "2021-12-08T12:36:19.716Z"
   },
   {
    "duration": 74,
    "start_time": "2021-12-08T12:36:49.595Z"
   },
   {
    "duration": 21,
    "start_time": "2021-12-08T12:37:09.331Z"
   },
   {
    "duration": 21,
    "start_time": "2021-12-08T12:37:12.705Z"
   },
   {
    "duration": 1952,
    "start_time": "2021-12-08T12:37:20.349Z"
   },
   {
    "duration": 101,
    "start_time": "2021-12-08T12:37:22.305Z"
   },
   {
    "duration": 24,
    "start_time": "2021-12-08T12:37:22.409Z"
   },
   {
    "duration": 25,
    "start_time": "2021-12-08T12:37:22.436Z"
   },
   {
    "duration": 53,
    "start_time": "2021-12-08T12:37:22.464Z"
   },
   {
    "duration": 8,
    "start_time": "2021-12-08T12:37:22.520Z"
   },
   {
    "duration": 116,
    "start_time": "2021-12-08T12:37:22.531Z"
   },
   {
    "duration": 66,
    "start_time": "2021-12-08T12:38:12.039Z"
   },
   {
    "duration": 65,
    "start_time": "2021-12-08T12:38:22.835Z"
   },
   {
    "duration": 75,
    "start_time": "2021-12-08T12:38:27.323Z"
   },
   {
    "duration": 74,
    "start_time": "2021-12-08T12:38:42.126Z"
   },
   {
    "duration": 1472,
    "start_time": "2021-12-08T12:38:57.215Z"
   },
   {
    "duration": 74,
    "start_time": "2021-12-08T12:38:58.689Z"
   },
   {
    "duration": 11,
    "start_time": "2021-12-08T12:38:58.766Z"
   },
   {
    "duration": 41,
    "start_time": "2021-12-08T12:38:58.780Z"
   },
   {
    "duration": 20,
    "start_time": "2021-12-08T12:38:58.823Z"
   },
   {
    "duration": 6,
    "start_time": "2021-12-08T12:38:58.845Z"
   },
   {
    "duration": 105,
    "start_time": "2021-12-08T12:38:58.854Z"
   },
   {
    "duration": 75,
    "start_time": "2021-12-08T12:39:11.574Z"
   },
   {
    "duration": 1472,
    "start_time": "2021-12-08T12:40:14.413Z"
   },
   {
    "duration": 75,
    "start_time": "2021-12-08T12:40:15.887Z"
   },
   {
    "duration": 12,
    "start_time": "2021-12-08T12:40:15.965Z"
   },
   {
    "duration": 55,
    "start_time": "2021-12-08T12:40:15.981Z"
   },
   {
    "duration": 22,
    "start_time": "2021-12-08T12:40:16.039Z"
   },
   {
    "duration": 99,
    "start_time": "2021-12-08T12:40:16.063Z"
   },
   {
    "duration": 17,
    "start_time": "2021-12-08T12:40:16.165Z"
   },
   {
    "duration": 1492,
    "start_time": "2021-12-08T12:42:49.003Z"
   },
   {
    "duration": 75,
    "start_time": "2021-12-08T12:42:50.498Z"
   },
   {
    "duration": 12,
    "start_time": "2021-12-08T12:42:50.575Z"
   },
   {
    "duration": 45,
    "start_time": "2021-12-08T12:42:50.590Z"
   },
   {
    "duration": 20,
    "start_time": "2021-12-08T12:42:50.637Z"
   },
   {
    "duration": 103,
    "start_time": "2021-12-08T12:42:50.659Z"
   },
   {
    "duration": 109,
    "start_time": "2021-12-08T12:42:50.765Z"
   },
   {
    "duration": 27,
    "start_time": "2021-12-08T12:44:16.786Z"
   },
   {
    "duration": 6,
    "start_time": "2021-12-08T12:46:07.284Z"
   },
   {
    "duration": 12,
    "start_time": "2021-12-08T12:46:54.073Z"
   },
   {
    "duration": 1025,
    "start_time": "2021-12-08T12:47:56.320Z"
   },
   {
    "duration": 415,
    "start_time": "2021-12-08T13:04:13.484Z"
   },
   {
    "duration": 7,
    "start_time": "2021-12-08T13:04:24.312Z"
   },
   {
    "duration": 13,
    "start_time": "2021-12-08T13:04:26.943Z"
   },
   {
    "duration": 13,
    "start_time": "2021-12-08T13:04:34.793Z"
   },
   {
    "duration": 323,
    "start_time": "2021-12-08T13:04:40.765Z"
   },
   {
    "duration": 304,
    "start_time": "2021-12-08T13:05:05.293Z"
   },
   {
    "duration": 456,
    "start_time": "2021-12-08T13:05:46.113Z"
   },
   {
    "duration": 35,
    "start_time": "2021-12-08T13:09:55.822Z"
   },
   {
    "duration": 303,
    "start_time": "2021-12-08T13:12:11.878Z"
   },
   {
    "duration": 294,
    "start_time": "2021-12-08T13:12:19.079Z"
   },
   {
    "duration": 291,
    "start_time": "2021-12-08T13:12:24.600Z"
   },
   {
    "duration": 294,
    "start_time": "2021-12-08T13:12:28.669Z"
   },
   {
    "duration": 319,
    "start_time": "2021-12-08T13:14:05.479Z"
   },
   {
    "duration": 14,
    "start_time": "2021-12-08T13:16:11.229Z"
   },
   {
    "duration": 104,
    "start_time": "2021-12-08T13:16:23.419Z"
   },
   {
    "duration": 16,
    "start_time": "2021-12-08T13:16:29.999Z"
   },
   {
    "duration": 720,
    "start_time": "2021-12-08T13:16:37.298Z"
   },
   {
    "duration": 14,
    "start_time": "2021-12-08T13:17:07.846Z"
   },
   {
    "duration": 19,
    "start_time": "2021-12-08T13:17:22.687Z"
   },
   {
    "duration": 423,
    "start_time": "2021-12-08T13:17:28.328Z"
   },
   {
    "duration": 413,
    "start_time": "2021-12-08T13:17:39.431Z"
   },
   {
    "duration": 550,
    "start_time": "2021-12-08T13:17:47.523Z"
   },
   {
    "duration": 525,
    "start_time": "2021-12-08T13:18:01.079Z"
   },
   {
    "duration": 350,
    "start_time": "2021-12-08T14:53:35.260Z"
   },
   {
    "duration": 1484,
    "start_time": "2021-12-08T14:53:47.167Z"
   },
   {
    "duration": 77,
    "start_time": "2021-12-08T14:53:48.654Z"
   },
   {
    "duration": 29,
    "start_time": "2021-12-08T14:53:48.739Z"
   },
   {
    "duration": 24,
    "start_time": "2021-12-08T14:53:48.771Z"
   },
   {
    "duration": 19,
    "start_time": "2021-12-08T14:53:48.798Z"
   },
   {
    "duration": 109,
    "start_time": "2021-12-08T14:53:48.819Z"
   },
   {
    "duration": 38,
    "start_time": "2021-12-08T14:53:48.931Z"
   },
   {
    "duration": 460,
    "start_time": "2021-12-08T14:53:48.972Z"
   },
   {
    "duration": 36,
    "start_time": "2021-12-08T14:53:49.434Z"
   },
   {
    "duration": 7,
    "start_time": "2021-12-08T14:53:49.473Z"
   },
   {
    "duration": 426,
    "start_time": "2021-12-08T14:55:50.862Z"
   },
   {
    "duration": 331,
    "start_time": "2021-12-08T14:56:12.580Z"
   },
   {
    "duration": 462,
    "start_time": "2021-12-08T14:56:33.215Z"
   },
   {
    "duration": 320,
    "start_time": "2021-12-08T14:56:51.177Z"
   },
   {
    "duration": 414,
    "start_time": "2021-12-08T14:57:26.075Z"
   },
   {
    "duration": 434,
    "start_time": "2021-12-08T14:57:32.257Z"
   },
   {
    "duration": 306,
    "start_time": "2021-12-08T14:57:58.550Z"
   },
   {
    "duration": 1227,
    "start_time": "2021-12-08T14:59:51.256Z"
   },
   {
    "duration": 1483,
    "start_time": "2021-12-08T14:59:59.987Z"
   },
   {
    "duration": 376,
    "start_time": "2021-12-08T15:01:47.541Z"
   },
   {
    "duration": 398,
    "start_time": "2021-12-08T15:02:38.426Z"
   },
   {
    "duration": 312,
    "start_time": "2021-12-08T15:02:41.231Z"
   },
   {
    "duration": 18,
    "start_time": "2021-12-08T15:02:41.711Z"
   },
   {
    "duration": 290,
    "start_time": "2021-12-08T15:08:55.913Z"
   },
   {
    "duration": 430,
    "start_time": "2021-12-08T15:09:02.207Z"
   },
   {
    "duration": 18,
    "start_time": "2021-12-08T15:10:35.125Z"
   },
   {
    "duration": 19,
    "start_time": "2021-12-08T15:10:40.325Z"
   },
   {
    "duration": 100,
    "start_time": "2021-12-08T15:11:57.616Z"
   },
   {
    "duration": 307,
    "start_time": "2021-12-08T15:12:05.084Z"
   },
   {
    "duration": 446,
    "start_time": "2021-12-08T15:12:26.724Z"
   },
   {
    "duration": 731,
    "start_time": "2021-12-08T15:16:07.618Z"
   },
   {
    "duration": 757,
    "start_time": "2021-12-08T15:17:07.877Z"
   },
   {
    "duration": 1955,
    "start_time": "2021-12-08T15:17:16.950Z"
   },
   {
    "duration": 75,
    "start_time": "2021-12-08T15:17:18.907Z"
   },
   {
    "duration": 12,
    "start_time": "2021-12-08T15:17:18.985Z"
   },
   {
    "duration": 26,
    "start_time": "2021-12-08T15:17:19.000Z"
   },
   {
    "duration": 44,
    "start_time": "2021-12-08T15:17:19.028Z"
   },
   {
    "duration": 95,
    "start_time": "2021-12-08T15:17:19.075Z"
   },
   {
    "duration": 21,
    "start_time": "2021-12-08T15:17:19.173Z"
   },
   {
    "duration": 994,
    "start_time": "2021-12-08T15:17:19.199Z"
   },
   {
    "duration": -3662,
    "start_time": "2021-12-08T15:17:23.857Z"
   },
   {
    "duration": -3661,
    "start_time": "2021-12-08T15:17:23.858Z"
   },
   {
    "duration": -3661,
    "start_time": "2021-12-08T15:17:23.859Z"
   },
   {
    "duration": -3663,
    "start_time": "2021-12-08T15:17:23.863Z"
   },
   {
    "duration": 864,
    "start_time": "2021-12-08T15:17:30.506Z"
   },
   {
    "duration": 1901,
    "start_time": "2021-12-08T15:18:56.986Z"
   },
   {
    "duration": 75,
    "start_time": "2021-12-08T15:18:58.890Z"
   },
   {
    "duration": 13,
    "start_time": "2021-12-08T15:18:58.968Z"
   },
   {
    "duration": 29,
    "start_time": "2021-12-08T15:18:58.984Z"
   },
   {
    "duration": 21,
    "start_time": "2021-12-08T15:18:59.016Z"
   },
   {
    "duration": 106,
    "start_time": "2021-12-08T15:18:59.039Z"
   },
   {
    "duration": 35,
    "start_time": "2021-12-08T15:18:59.147Z"
   },
   {
    "duration": 462,
    "start_time": "2021-12-08T15:18:59.186Z"
   },
   {
    "duration": -2051,
    "start_time": "2021-12-08T15:19:01.702Z"
   },
   {
    "duration": -2051,
    "start_time": "2021-12-08T15:19:01.703Z"
   },
   {
    "duration": -2050,
    "start_time": "2021-12-08T15:19:01.704Z"
   },
   {
    "duration": -2053,
    "start_time": "2021-12-08T15:19:01.708Z"
   },
   {
    "duration": 382,
    "start_time": "2021-12-08T15:19:03.277Z"
   },
   {
    "duration": 731,
    "start_time": "2021-12-08T15:19:11.528Z"
   },
   {
    "duration": 734,
    "start_time": "2021-12-08T15:19:18.953Z"
   },
   {
    "duration": 843,
    "start_time": "2021-12-08T15:19:49.967Z"
   },
   {
    "duration": 1106,
    "start_time": "2021-12-08T15:24:20.828Z"
   },
   {
    "duration": 357,
    "start_time": "2021-12-08T15:25:01.815Z"
   },
   {
    "duration": 282,
    "start_time": "2021-12-08T15:28:55.510Z"
   },
   {
    "duration": 820,
    "start_time": "2021-12-08T15:29:22.734Z"
   },
   {
    "duration": 469,
    "start_time": "2021-12-08T15:30:44.822Z"
   },
   {
    "duration": 462,
    "start_time": "2021-12-08T15:30:57.392Z"
   },
   {
    "duration": 467,
    "start_time": "2021-12-08T15:31:16.535Z"
   },
   {
    "duration": 485,
    "start_time": "2021-12-08T15:31:25.346Z"
   },
   {
    "duration": 480,
    "start_time": "2021-12-08T15:31:43.468Z"
   },
   {
    "duration": 467,
    "start_time": "2021-12-08T15:32:11.649Z"
   },
   {
    "duration": 518,
    "start_time": "2021-12-08T15:36:50.514Z"
   },
   {
    "duration": 504,
    "start_time": "2021-12-08T15:37:05.268Z"
   },
   {
    "duration": 643,
    "start_time": "2021-12-08T15:37:48.877Z"
   },
   {
    "duration": 491,
    "start_time": "2021-12-08T15:38:08.976Z"
   },
   {
    "duration": 14,
    "start_time": "2021-12-08T15:39:40.826Z"
   },
   {
    "duration": 294,
    "start_time": "2021-12-08T15:40:09.247Z"
   },
   {
    "duration": 361,
    "start_time": "2021-12-08T15:40:22.635Z"
   },
   {
    "duration": 91,
    "start_time": "2021-12-08T15:41:15.340Z"
   },
   {
    "duration": 368,
    "start_time": "2021-12-08T15:41:21.850Z"
   },
   {
    "duration": 341,
    "start_time": "2021-12-08T15:41:36.538Z"
   },
   {
    "duration": 285,
    "start_time": "2021-12-08T15:50:24.533Z"
   },
   {
    "duration": 547,
    "start_time": "2021-12-08T15:51:35.611Z"
   },
   {
    "duration": 296,
    "start_time": "2021-12-08T15:51:41.328Z"
   },
   {
    "duration": 710,
    "start_time": "2021-12-08T15:51:53.590Z"
   },
   {
    "duration": 549,
    "start_time": "2021-12-08T15:52:03.153Z"
   },
   {
    "duration": 554,
    "start_time": "2021-12-08T15:52:18.476Z"
   },
   {
    "duration": 547,
    "start_time": "2021-12-08T15:52:25.134Z"
   },
   {
    "duration": 384,
    "start_time": "2021-12-08T15:53:11.724Z"
   },
   {
    "duration": 375,
    "start_time": "2021-12-08T15:53:33.091Z"
   },
   {
    "duration": 772,
    "start_time": "2021-12-08T16:02:33.895Z"
   },
   {
    "duration": 905,
    "start_time": "2021-12-08T16:03:26.414Z"
   },
   {
    "duration": 721,
    "start_time": "2021-12-08T16:03:44.061Z"
   },
   {
    "duration": 282,
    "start_time": "2021-12-08T16:05:49.850Z"
   },
   {
    "duration": 883,
    "start_time": "2021-12-08T16:05:58.763Z"
   },
   {
    "duration": 1097,
    "start_time": "2021-12-08T16:08:34.286Z"
   },
   {
    "duration": 786,
    "start_time": "2021-12-08T16:09:16.906Z"
   },
   {
    "duration": 679,
    "start_time": "2021-12-08T16:10:16.851Z"
   },
   {
    "duration": 606,
    "start_time": "2021-12-08T16:10:48.843Z"
   },
   {
    "duration": 923,
    "start_time": "2021-12-08T16:11:51.884Z"
   },
   {
    "duration": 540,
    "start_time": "2021-12-08T16:12:19.490Z"
   },
   {
    "duration": 918,
    "start_time": "2021-12-08T16:12:31.564Z"
   },
   {
    "duration": 411,
    "start_time": "2021-12-08T16:12:43.140Z"
   },
   {
    "duration": 434,
    "start_time": "2021-12-08T16:13:04.370Z"
   },
   {
    "duration": 425,
    "start_time": "2021-12-08T16:13:21.523Z"
   },
   {
    "duration": 550,
    "start_time": "2021-12-08T16:13:48.217Z"
   },
   {
    "duration": 412,
    "start_time": "2021-12-08T16:15:03.255Z"
   },
   {
    "duration": 571,
    "start_time": "2021-12-08T16:15:17.885Z"
   },
   {
    "duration": 562,
    "start_time": "2021-12-08T16:15:34.942Z"
   },
   {
    "duration": 751,
    "start_time": "2021-12-08T16:15:49.896Z"
   },
   {
    "duration": 619,
    "start_time": "2021-12-08T16:16:01.289Z"
   },
   {
    "duration": 569,
    "start_time": "2021-12-08T16:16:08.454Z"
   },
   {
    "duration": 601,
    "start_time": "2021-12-08T16:16:32.777Z"
   },
   {
    "duration": 576,
    "start_time": "2021-12-08T16:16:48.781Z"
   },
   {
    "duration": 544,
    "start_time": "2021-12-08T16:17:43.567Z"
   },
   {
    "duration": 590,
    "start_time": "2021-12-08T16:17:51.006Z"
   },
   {
    "duration": 572,
    "start_time": "2021-12-08T16:17:55.656Z"
   },
   {
    "duration": 561,
    "start_time": "2021-12-08T16:18:00.542Z"
   },
   {
    "duration": 578,
    "start_time": "2021-12-08T16:19:35.511Z"
   },
   {
    "duration": 599,
    "start_time": "2021-12-08T16:19:42.795Z"
   },
   {
    "duration": 869,
    "start_time": "2021-12-08T16:20:28.373Z"
   },
   {
    "duration": 835,
    "start_time": "2021-12-08T16:20:39.422Z"
   },
   {
    "duration": 594,
    "start_time": "2021-12-08T16:21:01.776Z"
   },
   {
    "duration": 594,
    "start_time": "2021-12-08T16:21:10.444Z"
   },
   {
    "duration": 763,
    "start_time": "2021-12-08T16:21:24.059Z"
   },
   {
    "duration": 598,
    "start_time": "2021-12-08T16:21:42.554Z"
   },
   {
    "duration": 370,
    "start_time": "2021-12-08T16:22:10.011Z"
   },
   {
    "duration": 957,
    "start_time": "2021-12-08T16:22:48.804Z"
   },
   {
    "duration": 12,
    "start_time": "2021-12-08T16:22:54.376Z"
   },
   {
    "duration": 589,
    "start_time": "2021-12-08T16:22:54.662Z"
   },
   {
    "duration": 10,
    "start_time": "2021-12-08T16:26:27.372Z"
   },
   {
    "duration": 21,
    "start_time": "2021-12-08T16:26:31.329Z"
   },
   {
    "duration": 500,
    "start_time": "2021-12-08T16:26:50.253Z"
   },
   {
    "duration": 8,
    "start_time": "2021-12-08T16:27:01.924Z"
   },
   {
    "duration": 18,
    "start_time": "2021-12-08T16:27:23.321Z"
   },
   {
    "duration": 302,
    "start_time": "2021-12-08T16:28:28.683Z"
   },
   {
    "duration": 288,
    "start_time": "2021-12-08T16:29:10.772Z"
   },
   {
    "duration": 978,
    "start_time": "2021-12-08T16:29:20.533Z"
   },
   {
    "duration": 6295,
    "start_time": "2021-12-08T16:30:03.511Z"
   },
   {
    "duration": 21,
    "start_time": "2021-12-08T16:30:31.798Z"
   },
   {
    "duration": 447,
    "start_time": "2021-12-08T16:30:48.462Z"
   },
   {
    "duration": 7156,
    "start_time": "2021-12-08T16:32:27.475Z"
   },
   {
    "duration": 441,
    "start_time": "2021-12-08T16:32:52.879Z"
   },
   {
    "duration": 285,
    "start_time": "2021-12-08T16:33:39.111Z"
   },
   {
    "duration": 571,
    "start_time": "2021-12-08T16:33:47.634Z"
   },
   {
    "duration": 7,
    "start_time": "2021-12-08T16:35:00.926Z"
   },
   {
    "duration": 446,
    "start_time": "2021-12-08T16:35:42.388Z"
   },
   {
    "duration": 12,
    "start_time": "2021-12-08T17:26:54.170Z"
   },
   {
    "duration": 7,
    "start_time": "2021-12-08T17:27:09.180Z"
   },
   {
    "duration": 9,
    "start_time": "2021-12-08T17:27:41.577Z"
   },
   {
    "duration": 729,
    "start_time": "2021-12-08T17:27:58.720Z"
   },
   {
    "duration": 299,
    "start_time": "2021-12-08T17:29:04.727Z"
   },
   {
    "duration": 4177,
    "start_time": "2021-12-08T17:29:12.461Z"
   },
   {
    "duration": 6,
    "start_time": "2021-12-08T17:29:22.251Z"
   },
   {
    "duration": 596,
    "start_time": "2021-12-08T17:29:57.046Z"
   },
   {
    "duration": 739,
    "start_time": "2021-12-08T17:30:48.777Z"
   },
   {
    "duration": 7,
    "start_time": "2021-12-08T17:31:56.897Z"
   },
   {
    "duration": 278,
    "start_time": "2021-12-08T17:32:45.515Z"
   },
   {
    "duration": 8693,
    "start_time": "2021-12-08T17:32:57.060Z"
   },
   {
    "duration": 739,
    "start_time": "2021-12-08T17:33:11.579Z"
   },
   {
    "duration": 1586,
    "start_time": "2021-12-08T17:33:39.428Z"
   },
   {
    "duration": 93,
    "start_time": "2021-12-08T17:33:54.867Z"
   },
   {
    "duration": 443,
    "start_time": "2021-12-08T17:34:02.850Z"
   },
   {
    "duration": 544,
    "start_time": "2021-12-08T17:34:15.097Z"
   },
   {
    "duration": 698,
    "start_time": "2021-12-08T17:34:28.010Z"
   },
   {
    "duration": 8,
    "start_time": "2021-12-08T17:35:12.541Z"
   },
   {
    "duration": 16,
    "start_time": "2021-12-08T17:38:58.232Z"
   },
   {
    "duration": 766,
    "start_time": "2021-12-08T17:39:14.785Z"
   },
   {
    "duration": 17,
    "start_time": "2021-12-08T17:39:22.666Z"
   },
   {
    "duration": 289,
    "start_time": "2021-12-08T17:40:01.937Z"
   },
   {
    "duration": 8417,
    "start_time": "2021-12-08T17:40:09.537Z"
   },
   {
    "duration": 542,
    "start_time": "2021-12-08T17:40:51.497Z"
   },
   {
    "duration": 4,
    "start_time": "2021-12-08T17:42:27.628Z"
   },
   {
    "duration": 17,
    "start_time": "2021-12-08T17:42:34.296Z"
   },
   {
    "duration": 17,
    "start_time": "2021-12-08T17:43:14.385Z"
   },
   {
    "duration": 6,
    "start_time": "2021-12-08T17:43:42.499Z"
   },
   {
    "duration": 5,
    "start_time": "2021-12-08T17:43:51.057Z"
   },
   {
    "duration": -222,
    "start_time": "2021-12-08T17:45:13.998Z"
   },
   {
    "duration": 8426,
    "start_time": "2021-12-08T17:47:21.392Z"
   },
   {
    "duration": 1380,
    "start_time": "2021-12-08T17:54:33.008Z"
   },
   {
    "duration": 882,
    "start_time": "2021-12-08T17:55:14.145Z"
   },
   {
    "duration": 306,
    "start_time": "2021-12-08T17:55:36.705Z"
   },
   {
    "duration": 1140,
    "start_time": "2021-12-08T17:55:50.451Z"
   },
   {
    "duration": 1595,
    "start_time": "2021-12-08T17:56:01.184Z"
   },
   {
    "duration": 1369,
    "start_time": "2021-12-08T17:56:35.006Z"
   },
   {
    "duration": 2445,
    "start_time": "2021-12-08T18:01:20.575Z"
   },
   {
    "duration": 801,
    "start_time": "2021-12-08T18:01:47.594Z"
   },
   {
    "duration": 1996,
    "start_time": "2021-12-08T18:02:17.087Z"
   },
   {
    "duration": 1335,
    "start_time": "2021-12-08T18:02:38.327Z"
   },
   {
    "duration": 1119,
    "start_time": "2021-12-08T18:03:16.150Z"
   },
   {
    "duration": 1075,
    "start_time": "2021-12-08T18:03:23.242Z"
   },
   {
    "duration": 837,
    "start_time": "2021-12-08T18:03:30.364Z"
   },
   {
    "duration": 1299,
    "start_time": "2021-12-08T18:03:34.582Z"
   },
   {
    "duration": 1055,
    "start_time": "2021-12-08T18:03:46.447Z"
   },
   {
    "duration": 23,
    "start_time": "2021-12-08T18:04:47.354Z"
   },
   {
    "duration": 468,
    "start_time": "2021-12-08T18:05:05.614Z"
   },
   {
    "duration": 308,
    "start_time": "2021-12-08T18:05:22.717Z"
   },
   {
    "duration": 274,
    "start_time": "2021-12-08T18:05:46.335Z"
   },
   {
    "duration": 246,
    "start_time": "2021-12-08T18:05:51.925Z"
   },
   {
    "duration": 21,
    "start_time": "2021-12-08T18:09:33.130Z"
   },
   {
    "duration": 7,
    "start_time": "2021-12-08T18:09:53.051Z"
   },
   {
    "duration": 18,
    "start_time": "2021-12-08T18:10:00.334Z"
   },
   {
    "duration": 307,
    "start_time": "2021-12-08T18:10:37.164Z"
   },
   {
    "duration": 19,
    "start_time": "2021-12-08T18:10:48.754Z"
   },
   {
    "duration": 20,
    "start_time": "2021-12-08T18:11:18.581Z"
   },
   {
    "duration": 20,
    "start_time": "2021-12-08T18:11:44.076Z"
   },
   {
    "duration": 10,
    "start_time": "2021-12-08T18:11:56.671Z"
   },
   {
    "duration": 19,
    "start_time": "2021-12-08T18:12:15.561Z"
   },
   {
    "duration": 86,
    "start_time": "2021-12-08T18:13:59.541Z"
   },
   {
    "duration": 88,
    "start_time": "2021-12-08T18:14:15.286Z"
   },
   {
    "duration": 20,
    "start_time": "2021-12-08T18:14:24.452Z"
   },
   {
    "duration": 17,
    "start_time": "2021-12-08T18:15:02.090Z"
   },
   {
    "duration": 19,
    "start_time": "2021-12-08T18:15:05.835Z"
   },
   {
    "duration": 21,
    "start_time": "2021-12-08T18:15:12.404Z"
   },
   {
    "duration": 18,
    "start_time": "2021-12-08T18:25:21.861Z"
   },
   {
    "duration": 21,
    "start_time": "2021-12-08T18:27:54.596Z"
   },
   {
    "duration": 7,
    "start_time": "2021-12-08T18:28:30.558Z"
   },
   {
    "duration": 7,
    "start_time": "2021-12-08T18:28:39.678Z"
   },
   {
    "duration": 10,
    "start_time": "2021-12-08T18:28:43.387Z"
   },
   {
    "duration": 296,
    "start_time": "2021-12-08T18:33:41.625Z"
   },
   {
    "duration": 317,
    "start_time": "2021-12-08T18:34:02.284Z"
   },
   {
    "duration": 13,
    "start_time": "2021-12-08T18:34:29.813Z"
   },
   {
    "duration": 327,
    "start_time": "2021-12-08T18:35:07.817Z"
   },
   {
    "duration": 362,
    "start_time": "2021-12-08T18:35:28.742Z"
   },
   {
    "duration": 24,
    "start_time": "2021-12-08T18:35:33.620Z"
   },
   {
    "duration": 287,
    "start_time": "2021-12-08T18:35:44.619Z"
   },
   {
    "duration": 22,
    "start_time": "2021-12-08T18:35:54.008Z"
   },
   {
    "duration": 27,
    "start_time": "2021-12-08T18:40:48.096Z"
   },
   {
    "duration": 2123,
    "start_time": "2021-12-08T18:41:01.848Z"
   },
   {
    "duration": 77,
    "start_time": "2021-12-08T18:41:03.974Z"
   },
   {
    "duration": 17,
    "start_time": "2021-12-08T18:41:04.054Z"
   },
   {
    "duration": 39,
    "start_time": "2021-12-08T18:41:04.075Z"
   },
   {
    "duration": 26,
    "start_time": "2021-12-08T18:41:04.116Z"
   },
   {
    "duration": 142,
    "start_time": "2021-12-08T18:41:04.145Z"
   },
   {
    "duration": 30,
    "start_time": "2021-12-08T18:41:04.290Z"
   },
   {
    "duration": 948,
    "start_time": "2021-12-08T18:41:04.323Z"
   },
   {
    "duration": 20,
    "start_time": "2021-12-08T18:41:05.277Z"
   },
   {
    "duration": 408,
    "start_time": "2021-12-08T18:41:05.301Z"
   },
   {
    "duration": 11,
    "start_time": "2021-12-08T18:41:05.711Z"
   },
   {
    "duration": 618,
    "start_time": "2021-12-08T18:41:05.724Z"
   },
   {
    "duration": 751,
    "start_time": "2021-12-08T18:41:06.344Z"
   },
   {
    "duration": 9342,
    "start_time": "2021-12-08T18:41:07.098Z"
   },
   {
    "duration": 1285,
    "start_time": "2021-12-08T18:41:16.443Z"
   },
   {
    "duration": 1883,
    "start_time": "2021-12-08T18:41:17.731Z"
   },
   {
    "duration": 1459,
    "start_time": "2021-12-08T18:41:19.617Z"
   },
   {
    "duration": 251,
    "start_time": "2021-12-08T18:41:21.078Z"
   },
   {
    "duration": 23,
    "start_time": "2021-12-08T18:41:21.331Z"
   },
   {
    "duration": 17,
    "start_time": "2021-12-08T18:41:21.357Z"
   },
   {
    "duration": 41,
    "start_time": "2021-12-08T18:41:43.877Z"
   },
   {
    "duration": 9,
    "start_time": "2021-12-08T18:42:10.761Z"
   },
   {
    "duration": 26,
    "start_time": "2021-12-08T18:46:02.816Z"
   },
   {
    "duration": 28,
    "start_time": "2021-12-08T18:47:45.775Z"
   },
   {
    "duration": 10,
    "start_time": "2021-12-08T21:49:25.563Z"
   },
   {
    "duration": 29,
    "start_time": "2021-12-08T21:49:40.845Z"
   },
   {
    "duration": 25,
    "start_time": "2021-12-08T21:51:05.306Z"
   },
   {
    "duration": 482,
    "start_time": "2021-12-08T21:51:19.067Z"
   },
   {
    "duration": 23,
    "start_time": "2021-12-08T21:51:28.834Z"
   },
   {
    "duration": 322,
    "start_time": "2021-12-08T21:53:03.260Z"
   },
   {
    "duration": 670,
    "start_time": "2021-12-08T21:54:10.587Z"
   },
   {
    "duration": 772,
    "start_time": "2021-12-08T21:54:29.146Z"
   },
   {
    "duration": 699,
    "start_time": "2021-12-08T21:54:34.014Z"
   },
   {
    "duration": 91,
    "start_time": "2021-12-08T21:55:08.906Z"
   },
   {
    "duration": 337,
    "start_time": "2021-12-08T21:55:13.955Z"
   },
   {
    "duration": 739,
    "start_time": "2021-12-08T21:55:20.031Z"
   },
   {
    "duration": 584,
    "start_time": "2021-12-08T21:55:46.324Z"
   },
   {
    "duration": 590,
    "start_time": "2021-12-08T21:56:57.034Z"
   },
   {
    "duration": 343,
    "start_time": "2021-12-08T22:05:17.506Z"
   },
   {
    "duration": 4,
    "start_time": "2021-12-08T22:06:17.110Z"
   },
   {
    "duration": 289,
    "start_time": "2021-12-08T22:06:17.978Z"
   },
   {
    "duration": 10,
    "start_time": "2021-12-08T22:06:36.856Z"
   },
   {
    "duration": 6995,
    "start_time": "2021-12-08T22:06:41.504Z"
   },
   {
    "duration": 306,
    "start_time": "2021-12-08T22:07:08.066Z"
   },
   {
    "duration": 17,
    "start_time": "2021-12-08T22:07:18.903Z"
   },
   {
    "duration": 18,
    "start_time": "2021-12-08T22:07:39.177Z"
   },
   {
    "duration": 644,
    "start_time": "2021-12-08T22:07:44.707Z"
   },
   {
    "duration": 651,
    "start_time": "2021-12-08T22:08:00.965Z"
   },
   {
    "duration": 646,
    "start_time": "2021-12-08T22:08:18.266Z"
   },
   {
    "duration": 653,
    "start_time": "2021-12-08T22:08:28.144Z"
   },
   {
    "duration": 745,
    "start_time": "2021-12-08T22:09:08.894Z"
   },
   {
    "duration": 639,
    "start_time": "2021-12-08T22:09:57.257Z"
   },
   {
    "duration": 6,
    "start_time": "2021-12-08T22:11:18.846Z"
   },
   {
    "duration": 539,
    "start_time": "2021-12-08T22:14:54.378Z"
   },
   {
    "duration": 643,
    "start_time": "2021-12-08T22:15:05.433Z"
   },
   {
    "duration": 400,
    "start_time": "2021-12-09T07:57:13.492Z"
   },
   {
    "duration": 1856,
    "start_time": "2021-12-09T07:57:20.611Z"
   },
   {
    "duration": 290,
    "start_time": "2021-12-09T07:57:22.471Z"
   },
   {
    "duration": 18,
    "start_time": "2021-12-09T07:57:22.765Z"
   },
   {
    "duration": 37,
    "start_time": "2021-12-09T07:57:22.786Z"
   },
   {
    "duration": 25,
    "start_time": "2021-12-09T07:57:22.826Z"
   },
   {
    "duration": 109,
    "start_time": "2021-12-09T07:57:22.854Z"
   },
   {
    "duration": 20,
    "start_time": "2021-12-09T07:57:22.966Z"
   },
   {
    "duration": 618,
    "start_time": "2021-12-09T07:57:22.991Z"
   },
   {
    "duration": 20,
    "start_time": "2021-12-09T07:57:23.612Z"
   },
   {
    "duration": 377,
    "start_time": "2021-12-09T07:57:23.634Z"
   },
   {
    "duration": 15,
    "start_time": "2021-12-09T07:57:24.014Z"
   },
   {
    "duration": 660,
    "start_time": "2021-12-09T07:57:24.032Z"
   },
   {
    "duration": 704,
    "start_time": "2021-12-09T07:57:24.694Z"
   },
   {
    "duration": 7535,
    "start_time": "2021-12-09T07:57:25.400Z"
   },
   {
    "duration": 687,
    "start_time": "2021-12-09T07:57:32.938Z"
   },
   {
    "duration": 1858,
    "start_time": "2021-12-09T07:57:33.628Z"
   },
   {
    "duration": 1247,
    "start_time": "2021-12-09T07:57:35.489Z"
   },
   {
    "duration": 19,
    "start_time": "2021-12-09T07:57:36.739Z"
   },
   {
    "duration": 619,
    "start_time": "2021-12-09T07:57:36.760Z"
   },
   {
    "duration": 6,
    "start_time": "2021-12-09T07:57:37.381Z"
   },
   {
    "duration": 42,
    "start_time": "2021-12-09T07:57:37.389Z"
   },
   {
    "duration": 8,
    "start_time": "2021-12-09T07:57:37.434Z"
   },
   {
    "duration": 686,
    "start_time": "2021-12-09T07:57:37.446Z"
   },
   {
    "duration": 436,
    "start_time": "2021-12-09T08:06:53.896Z"
   },
   {
    "duration": 329,
    "start_time": "2021-12-09T08:07:52.610Z"
   },
   {
    "duration": 272,
    "start_time": "2021-12-09T08:09:52.021Z"
   },
   {
    "duration": 321,
    "start_time": "2021-12-09T08:10:07.172Z"
   },
   {
    "duration": 321,
    "start_time": "2021-12-09T08:14:24.612Z"
   },
   {
    "duration": 326,
    "start_time": "2021-12-09T08:14:41.081Z"
   },
   {
    "duration": 367,
    "start_time": "2021-12-09T08:16:00.539Z"
   },
   {
    "duration": 5,
    "start_time": "2021-12-09T08:16:33.335Z"
   },
   {
    "duration": 231,
    "start_time": "2021-12-09T08:16:41.301Z"
   },
   {
    "duration": 237,
    "start_time": "2021-12-09T08:16:53.757Z"
   },
   {
    "duration": 1700,
    "start_time": "2021-12-09T08:18:19.173Z"
   },
   {
    "duration": 321,
    "start_time": "2021-12-09T08:18:35.529Z"
   },
   {
    "duration": 183,
    "start_time": "2021-12-09T08:24:32.523Z"
   },
   {
    "duration": 219,
    "start_time": "2021-12-09T08:25:03.812Z"
   },
   {
    "duration": 150,
    "start_time": "2021-12-09T08:25:42.252Z"
   },
   {
    "duration": 231,
    "start_time": "2021-12-09T08:25:49.712Z"
   },
   {
    "duration": 229,
    "start_time": "2021-12-09T08:25:54.961Z"
   },
   {
    "duration": 224,
    "start_time": "2021-12-09T08:26:09.973Z"
   },
   {
    "duration": 233,
    "start_time": "2021-12-09T08:26:51.580Z"
   },
   {
    "duration": 248,
    "start_time": "2021-12-09T08:26:55.092Z"
   },
   {
    "duration": 237,
    "start_time": "2021-12-09T08:32:24.846Z"
   },
   {
    "duration": 337,
    "start_time": "2021-12-09T08:32:52.956Z"
   },
   {
    "duration": 236,
    "start_time": "2021-12-09T08:33:42.971Z"
   },
   {
    "duration": 223,
    "start_time": "2021-12-09T08:34:40.486Z"
   },
   {
    "duration": 285,
    "start_time": "2021-12-09T08:34:46.168Z"
   },
   {
    "duration": 294,
    "start_time": "2021-12-09T08:35:08.446Z"
   },
   {
    "duration": 894,
    "start_time": "2021-12-09T08:39:41.056Z"
   },
   {
    "duration": 250,
    "start_time": "2021-12-09T08:41:15.901Z"
   },
   {
    "duration": 521,
    "start_time": "2021-12-09T08:41:30.327Z"
   },
   {
    "duration": 247,
    "start_time": "2021-12-09T08:41:37.356Z"
   },
   {
    "duration": 227,
    "start_time": "2021-12-09T08:41:41.769Z"
   },
   {
    "duration": 309,
    "start_time": "2021-12-09T08:42:25.597Z"
   },
   {
    "duration": 517,
    "start_time": "2021-12-09T08:51:57.335Z"
   },
   {
    "duration": 4500,
    "start_time": "2021-12-09T09:09:59.568Z"
   },
   {
    "duration": 4412,
    "start_time": "2021-12-09T09:10:37.845Z"
   },
   {
    "duration": 237,
    "start_time": "2021-12-09T09:10:47.312Z"
   },
   {
    "duration": 233,
    "start_time": "2021-12-09T09:10:54.240Z"
   },
   {
    "duration": 234,
    "start_time": "2021-12-09T09:11:05.238Z"
   },
   {
    "duration": 262,
    "start_time": "2021-12-09T09:11:27.278Z"
   },
   {
    "duration": 341,
    "start_time": "2021-12-09T09:11:43.646Z"
   },
   {
    "duration": 502,
    "start_time": "2021-12-09T09:11:49.451Z"
   },
   {
    "duration": 358,
    "start_time": "2021-12-09T09:12:23.159Z"
   },
   {
    "duration": 362,
    "start_time": "2021-12-09T09:12:51.919Z"
   },
   {
    "duration": 644,
    "start_time": "2021-12-09T09:13:00.734Z"
   },
   {
    "duration": 241,
    "start_time": "2021-12-09T09:13:39.775Z"
   },
   {
    "duration": 290,
    "start_time": "2021-12-09T09:13:45.934Z"
   },
   {
    "duration": 24,
    "start_time": "2021-12-09T09:14:04.318Z"
   },
   {
    "duration": 27,
    "start_time": "2021-12-09T09:14:26.367Z"
   },
   {
    "duration": 25,
    "start_time": "2021-12-09T09:14:36.278Z"
   },
   {
    "duration": 289,
    "start_time": "2021-12-09T09:14:41.216Z"
   },
   {
    "duration": 77,
    "start_time": "2021-12-09T09:14:59.729Z"
   },
   {
    "duration": 24,
    "start_time": "2021-12-09T09:15:34.717Z"
   },
   {
    "duration": 246,
    "start_time": "2021-12-09T09:16:42.939Z"
   },
   {
    "duration": 78,
    "start_time": "2021-12-09T09:16:43.837Z"
   },
   {
    "duration": 23,
    "start_time": "2021-12-09T09:16:44.766Z"
   },
   {
    "duration": 405,
    "start_time": "2021-12-09T09:17:02.449Z"
   },
   {
    "duration": 119,
    "start_time": "2021-12-09T09:17:07.733Z"
   },
   {
    "duration": 35,
    "start_time": "2021-12-09T09:17:08.206Z"
   },
   {
    "duration": 499,
    "start_time": "2021-12-09T09:17:39.167Z"
   },
   {
    "duration": 116,
    "start_time": "2021-12-09T09:17:39.678Z"
   },
   {
    "duration": 32,
    "start_time": "2021-12-09T09:17:40.126Z"
   },
   {
    "duration": 403,
    "start_time": "2021-12-09T09:18:03.580Z"
   },
   {
    "duration": 69,
    "start_time": "2021-12-09T09:18:04.085Z"
   },
   {
    "duration": 25,
    "start_time": "2021-12-09T09:18:04.580Z"
   },
   {
    "duration": 221,
    "start_time": "2021-12-09T09:18:19.838Z"
   },
   {
    "duration": 56,
    "start_time": "2021-12-09T09:18:20.188Z"
   },
   {
    "duration": 26,
    "start_time": "2021-12-09T09:18:20.591Z"
   },
   {
    "duration": 205,
    "start_time": "2021-12-09T09:18:44.318Z"
   },
   {
    "duration": 45,
    "start_time": "2021-12-09T09:18:44.682Z"
   },
   {
    "duration": 23,
    "start_time": "2021-12-09T09:18:45.093Z"
   },
   {
    "duration": 7,
    "start_time": "2021-12-09T09:19:26.557Z"
   },
   {
    "duration": 9,
    "start_time": "2021-12-09T09:19:52.742Z"
   },
   {
    "duration": 23,
    "start_time": "2021-12-09T09:20:03.575Z"
   },
   {
    "duration": 50,
    "start_time": "2021-12-09T09:25:15.016Z"
   },
   {
    "duration": 214,
    "start_time": "2021-12-09T09:25:20.849Z"
   },
   {
    "duration": 45,
    "start_time": "2021-12-09T09:25:21.215Z"
   },
   {
    "duration": 10,
    "start_time": "2021-12-09T09:25:21.661Z"
   },
   {
    "duration": 22,
    "start_time": "2021-12-09T09:27:25.157Z"
   },
   {
    "duration": 25,
    "start_time": "2021-12-09T09:29:00.918Z"
   },
   {
    "duration": 2351,
    "start_time": "2021-12-09T09:30:50.818Z"
   },
   {
    "duration": 78,
    "start_time": "2021-12-09T09:30:53.172Z"
   },
   {
    "duration": 15,
    "start_time": "2021-12-09T09:30:53.254Z"
   },
   {
    "duration": 51,
    "start_time": "2021-12-09T09:30:53.273Z"
   },
   {
    "duration": 23,
    "start_time": "2021-12-09T09:30:53.328Z"
   },
   {
    "duration": 109,
    "start_time": "2021-12-09T09:30:53.354Z"
   },
   {
    "duration": 22,
    "start_time": "2021-12-09T09:30:53.466Z"
   },
   {
    "duration": 614,
    "start_time": "2021-12-09T09:30:53.490Z"
   },
   {
    "duration": 22,
    "start_time": "2021-12-09T09:30:54.108Z"
   },
   {
    "duration": 373,
    "start_time": "2021-12-09T09:30:54.133Z"
   },
   {
    "duration": 18,
    "start_time": "2021-12-09T09:30:54.509Z"
   },
   {
    "duration": 590,
    "start_time": "2021-12-09T09:30:54.529Z"
   },
   {
    "duration": 738,
    "start_time": "2021-12-09T09:30:55.124Z"
   },
   {
    "duration": 8285,
    "start_time": "2021-12-09T09:30:55.865Z"
   },
   {
    "duration": 877,
    "start_time": "2021-12-09T09:31:04.154Z"
   },
   {
    "duration": 1863,
    "start_time": "2021-12-09T09:31:05.034Z"
   },
   {
    "duration": 1308,
    "start_time": "2021-12-09T09:31:06.900Z"
   },
   {
    "duration": 31,
    "start_time": "2021-12-09T09:31:08.211Z"
   },
   {
    "duration": 651,
    "start_time": "2021-12-09T09:31:08.245Z"
   },
   {
    "duration": 7,
    "start_time": "2021-12-09T09:31:08.899Z"
   },
   {
    "duration": 27,
    "start_time": "2021-12-09T09:31:08.924Z"
   },
   {
    "duration": 10,
    "start_time": "2021-12-09T09:31:08.954Z"
   },
   {
    "duration": 731,
    "start_time": "2021-12-09T09:31:08.967Z"
   },
   {
    "duration": 247,
    "start_time": "2021-12-09T09:31:09.702Z"
   },
   {
    "duration": 50,
    "start_time": "2021-12-09T09:31:09.951Z"
   },
   {
    "duration": 27,
    "start_time": "2021-12-09T09:31:10.003Z"
   },
   {
    "duration": 6,
    "start_time": "2021-12-09T09:31:10.035Z"
   },
   {
    "duration": 23,
    "start_time": "2021-12-09T09:31:10.044Z"
   },
   {
    "duration": 64,
    "start_time": "2021-12-09T09:31:10.070Z"
   },
   {
    "duration": 664,
    "start_time": "2021-12-09T09:36:03.380Z"
   },
   {
    "duration": 295,
    "start_time": "2021-12-09T09:36:10.059Z"
   },
   {
    "duration": 7,
    "start_time": "2021-12-09T09:37:45.654Z"
   },
   {
    "duration": 26,
    "start_time": "2021-12-09T09:38:12.707Z"
   },
   {
    "duration": 11,
    "start_time": "2021-12-09T09:38:25.655Z"
   },
   {
    "duration": 10,
    "start_time": "2021-12-09T09:38:47.165Z"
   },
   {
    "duration": 9,
    "start_time": "2021-12-09T09:38:58.936Z"
   },
   {
    "duration": 260,
    "start_time": "2021-12-09T09:39:05.223Z"
   },
   {
    "duration": 12,
    "start_time": "2021-12-09T09:39:15.557Z"
   },
   {
    "duration": 3,
    "start_time": "2021-12-09T09:40:16.383Z"
   },
   {
    "duration": 7,
    "start_time": "2021-12-09T09:40:24.294Z"
   },
   {
    "duration": 8,
    "start_time": "2021-12-09T09:40:26.655Z"
   },
   {
    "duration": 13,
    "start_time": "2021-12-09T09:40:30.462Z"
   },
   {
    "duration": 8,
    "start_time": "2021-12-09T09:40:30.934Z"
   },
   {
    "duration": 9,
    "start_time": "2021-12-09T09:42:34.617Z"
   },
   {
    "duration": 8,
    "start_time": "2021-12-09T09:43:14.754Z"
   },
   {
    "duration": 22,
    "start_time": "2021-12-09T09:43:17.816Z"
   },
   {
    "duration": 18,
    "start_time": "2021-12-09T09:43:40.966Z"
   },
   {
    "duration": 30,
    "start_time": "2021-12-09T09:45:56.298Z"
   },
   {
    "duration": 27,
    "start_time": "2021-12-09T09:47:02.319Z"
   },
   {
    "duration": 281,
    "start_time": "2021-12-09T09:47:35.727Z"
   },
   {
    "duration": 26,
    "start_time": "2021-12-09T09:47:40.130Z"
   },
   {
    "duration": 24,
    "start_time": "2021-12-09T09:47:47.357Z"
   },
   {
    "duration": 26,
    "start_time": "2021-12-09T09:48:26.370Z"
   },
   {
    "duration": 286,
    "start_time": "2021-12-09T09:48:43.547Z"
   },
   {
    "duration": 18,
    "start_time": "2021-12-09T09:48:54.529Z"
   },
   {
    "duration": 12,
    "start_time": "2021-12-09T09:55:46.777Z"
   },
   {
    "duration": 17,
    "start_time": "2021-12-09T09:55:52.286Z"
   },
   {
    "duration": 1934,
    "start_time": "2021-12-09T09:58:06.303Z"
   },
   {
    "duration": 69,
    "start_time": "2021-12-09T09:58:08.240Z"
   },
   {
    "duration": 12,
    "start_time": "2021-12-09T09:58:08.312Z"
   },
   {
    "duration": 24,
    "start_time": "2021-12-09T09:58:08.327Z"
   },
   {
    "duration": 18,
    "start_time": "2021-12-09T09:58:08.353Z"
   },
   {
    "duration": 97,
    "start_time": "2021-12-09T09:58:08.373Z"
   },
   {
    "duration": 17,
    "start_time": "2021-12-09T09:58:08.473Z"
   },
   {
    "duration": 577,
    "start_time": "2021-12-09T09:58:08.492Z"
   },
   {
    "duration": 14,
    "start_time": "2021-12-09T09:58:09.073Z"
   },
   {
    "duration": 366,
    "start_time": "2021-12-09T09:58:09.089Z"
   },
   {
    "duration": 9,
    "start_time": "2021-12-09T09:58:09.458Z"
   },
   {
    "duration": 536,
    "start_time": "2021-12-09T09:58:09.470Z"
   },
   {
    "duration": 677,
    "start_time": "2021-12-09T09:58:10.008Z"
   },
   {
    "duration": 7551,
    "start_time": "2021-12-09T09:58:10.688Z"
   },
   {
    "duration": 639,
    "start_time": "2021-12-09T09:58:18.242Z"
   },
   {
    "duration": 1786,
    "start_time": "2021-12-09T09:58:18.884Z"
   },
   {
    "duration": 1244,
    "start_time": "2021-12-09T09:58:20.672Z"
   },
   {
    "duration": 22,
    "start_time": "2021-12-09T09:58:21.918Z"
   },
   {
    "duration": 616,
    "start_time": "2021-12-09T09:58:21.943Z"
   },
   {
    "duration": 7,
    "start_time": "2021-12-09T09:58:22.563Z"
   },
   {
    "duration": 25,
    "start_time": "2021-12-09T09:58:22.572Z"
   },
   {
    "duration": 32,
    "start_time": "2021-12-09T09:58:22.599Z"
   },
   {
    "duration": 665,
    "start_time": "2021-12-09T09:58:22.634Z"
   },
   {
    "duration": 209,
    "start_time": "2021-12-09T09:58:23.302Z"
   },
   {
    "duration": 52,
    "start_time": "2021-12-09T09:58:23.513Z"
   },
   {
    "duration": 8,
    "start_time": "2021-12-09T09:58:23.567Z"
   },
   {
    "duration": 6,
    "start_time": "2021-12-09T09:58:23.580Z"
   },
   {
    "duration": 51,
    "start_time": "2021-12-09T09:58:23.589Z"
   },
   {
    "duration": 13,
    "start_time": "2021-12-09T09:58:23.643Z"
   },
   {
    "duration": 10,
    "start_time": "2021-12-09T09:58:23.659Z"
   },
   {
    "duration": 56,
    "start_time": "2021-12-09T09:58:23.672Z"
   },
   {
    "duration": 26,
    "start_time": "2021-12-09T09:58:23.731Z"
   },
   {
    "duration": 19,
    "start_time": "2021-12-09T09:58:23.759Z"
   },
   {
    "duration": 634,
    "start_time": "2021-12-09T09:58:23.781Z"
   },
   {
    "duration": 20,
    "start_time": "2021-12-09T09:59:36.573Z"
   },
   {
    "duration": 608,
    "start_time": "2021-12-09T09:59:38.009Z"
   },
   {
    "duration": 16,
    "start_time": "2021-12-09T09:59:59.105Z"
   },
   {
    "duration": 8,
    "start_time": "2021-12-09T10:00:25.275Z"
   },
   {
    "duration": 14,
    "start_time": "2021-12-09T10:00:45.466Z"
   },
   {
    "duration": 4,
    "start_time": "2021-12-09T10:15:20.168Z"
   },
   {
    "duration": 17,
    "start_time": "2021-12-09T10:37:01.784Z"
   },
   {
    "duration": 597,
    "start_time": "2021-12-09T10:40:01.268Z"
   },
   {
    "duration": 470,
    "start_time": "2021-12-09T10:44:35.098Z"
   },
   {
    "duration": 368,
    "start_time": "2021-12-09T10:45:24.792Z"
   },
   {
    "duration": 381,
    "start_time": "2021-12-09T10:45:33.662Z"
   },
   {
    "duration": 279,
    "start_time": "2021-12-09T10:45:49.573Z"
   },
   {
    "duration": 287,
    "start_time": "2021-12-09T10:46:28.287Z"
   },
   {
    "duration": 1166,
    "start_time": "2021-12-09T10:47:03.218Z"
   },
   {
    "duration": 297,
    "start_time": "2021-12-09T10:47:14.951Z"
   },
   {
    "duration": 273,
    "start_time": "2021-12-09T10:47:22.608Z"
   },
   {
    "duration": 297,
    "start_time": "2021-12-09T10:47:49.055Z"
   },
   {
    "duration": 277,
    "start_time": "2021-12-09T10:52:01.265Z"
   },
   {
    "duration": 15,
    "start_time": "2021-12-09T10:54:06.814Z"
   },
   {
    "duration": 534,
    "start_time": "2021-12-09T10:54:26.986Z"
   },
   {
    "duration": 14,
    "start_time": "2021-12-09T10:58:20.551Z"
   },
   {
    "duration": 375,
    "start_time": "2021-12-09T10:58:24.307Z"
   },
   {
    "duration": 11,
    "start_time": "2021-12-09T10:58:58.943Z"
   },
   {
    "duration": 572,
    "start_time": "2021-12-09T10:59:35.629Z"
   },
   {
    "duration": 15,
    "start_time": "2021-12-09T11:00:09.747Z"
   },
   {
    "duration": 21,
    "start_time": "2021-12-09T11:00:18.198Z"
   },
   {
    "duration": 359,
    "start_time": "2021-12-09T11:00:30.937Z"
   },
   {
    "duration": 23,
    "start_time": "2021-12-09T11:00:42.911Z"
   },
   {
    "duration": 21,
    "start_time": "2021-12-09T11:01:24.004Z"
   },
   {
    "duration": 604,
    "start_time": "2021-12-09T11:03:04.732Z"
   },
   {
    "duration": 16,
    "start_time": "2021-12-09T11:26:26.971Z"
   },
   {
    "duration": 18,
    "start_time": "2021-12-09T11:26:33.272Z"
   },
   {
    "duration": 20,
    "start_time": "2021-12-09T11:26:45.001Z"
   },
   {
    "duration": 28,
    "start_time": "2021-12-09T11:27:34.361Z"
   },
   {
    "duration": 280,
    "start_time": "2021-12-09T11:28:16.912Z"
   },
   {
    "duration": 19,
    "start_time": "2021-12-09T11:28:41.412Z"
   },
   {
    "duration": 21,
    "start_time": "2021-12-09T11:28:49.611Z"
   },
   {
    "duration": 48,
    "start_time": "2021-12-09T11:34:41.412Z"
   },
   {
    "duration": 7994,
    "start_time": "2021-12-09T11:35:17.652Z"
   },
   {
    "duration": 28,
    "start_time": "2021-12-09T11:36:27.014Z"
   },
   {
    "duration": 30,
    "start_time": "2021-12-09T11:39:14.806Z"
   },
   {
    "duration": 24,
    "start_time": "2021-12-09T11:40:11.413Z"
   },
   {
    "duration": 27,
    "start_time": "2021-12-09T11:40:55.299Z"
   },
   {
    "duration": 36,
    "start_time": "2021-12-09T11:41:08.201Z"
   },
   {
    "duration": 277,
    "start_time": "2021-12-09T11:41:36.153Z"
   },
   {
    "duration": 297,
    "start_time": "2021-12-09T11:41:48.053Z"
   },
   {
    "duration": 22,
    "start_time": "2021-12-09T11:41:57.740Z"
   },
   {
    "duration": 22,
    "start_time": "2021-12-09T11:43:07.365Z"
   },
   {
    "duration": 476,
    "start_time": "2021-12-09T11:45:08.933Z"
   },
   {
    "duration": 25,
    "start_time": "2021-12-09T11:45:13.744Z"
   },
   {
    "duration": 1525,
    "start_time": "2021-12-09T11:45:14.172Z"
   },
   {
    "duration": 36,
    "start_time": "2021-12-09T11:45:37.787Z"
   },
   {
    "duration": 83,
    "start_time": "2021-12-09T11:46:00.251Z"
   },
   {
    "duration": 300,
    "start_time": "2021-12-09T11:47:12.834Z"
   },
   {
    "duration": 267,
    "start_time": "2021-12-09T11:48:32.832Z"
   },
   {
    "duration": 430,
    "start_time": "2021-12-09T11:49:16.226Z"
   },
   {
    "duration": 428,
    "start_time": "2021-12-09T11:50:01.888Z"
   },
   {
    "duration": 415,
    "start_time": "2021-12-09T11:50:14.166Z"
   },
   {
    "duration": 181,
    "start_time": "2021-12-09T11:50:47.444Z"
   },
   {
    "duration": 39,
    "start_time": "2021-12-09T11:54:33.133Z"
   },
   {
    "duration": 7,
    "start_time": "2021-12-09T11:55:51.092Z"
   },
   {
    "duration": 380,
    "start_time": "2021-12-09T11:56:24.262Z"
   },
   {
    "duration": 174,
    "start_time": "2021-12-09T11:56:48.511Z"
   },
   {
    "duration": 175,
    "start_time": "2021-12-09T11:57:26.213Z"
   },
   {
    "duration": 414,
    "start_time": "2021-12-09T11:57:41.153Z"
   },
   {
    "duration": 17,
    "start_time": "2021-12-09T11:59:35.493Z"
   },
   {
    "duration": 26,
    "start_time": "2021-12-09T11:59:49.897Z"
   },
   {
    "duration": 7,
    "start_time": "2021-12-09T12:01:02.941Z"
   },
   {
    "duration": 284,
    "start_time": "2021-12-09T12:05:13.213Z"
   },
   {
    "duration": 4,
    "start_time": "2021-12-09T12:05:17.492Z"
   },
   {
    "duration": 8116,
    "start_time": "2021-12-09T12:05:17.784Z"
   },
   {
    "duration": 33,
    "start_time": "2021-12-09T12:05:46.779Z"
   },
   {
    "duration": 26,
    "start_time": "2021-12-09T12:06:21.005Z"
   },
   {
    "duration": 157,
    "start_time": "2021-12-09T12:06:21.684Z"
   },
   {
    "duration": 4,
    "start_time": "2021-12-09T12:06:32.753Z"
   },
   {
    "duration": 26,
    "start_time": "2021-12-09T12:06:34.614Z"
   },
   {
    "duration": 661,
    "start_time": "2021-12-09T12:06:46.172Z"
   },
   {
    "duration": 541,
    "start_time": "2021-12-09T12:07:06.286Z"
   },
   {
    "duration": 437,
    "start_time": "2021-12-09T12:09:17.913Z"
   },
   {
    "duration": 597,
    "start_time": "2021-12-09T12:11:55.226Z"
   },
   {
    "duration": 235,
    "start_time": "2021-12-09T12:15:13.745Z"
   },
   {
    "duration": 109,
    "start_time": "2021-12-09T12:15:23.415Z"
   },
   {
    "duration": 180,
    "start_time": "2021-12-09T12:15:30.663Z"
   },
   {
    "duration": 5,
    "start_time": "2021-12-09T12:15:38.832Z"
   },
   {
    "duration": 1578,
    "start_time": "2021-12-09T12:15:44.744Z"
   },
   {
    "duration": 5,
    "start_time": "2021-12-09T12:16:55.947Z"
   },
   {
    "duration": 162,
    "start_time": "2021-12-09T12:16:56.472Z"
   },
   {
    "duration": 38,
    "start_time": "2021-12-09T12:17:23.575Z"
   },
   {
    "duration": 163,
    "start_time": "2021-12-09T12:17:25.002Z"
   },
   {
    "duration": 4,
    "start_time": "2021-12-09T12:17:29.259Z"
   },
   {
    "duration": 27,
    "start_time": "2021-12-09T12:17:36.662Z"
   },
   {
    "duration": 31,
    "start_time": "2021-12-09T12:17:46.253Z"
   },
   {
    "duration": 83,
    "start_time": "2021-12-09T12:18:35.487Z"
   },
   {
    "duration": 4249,
    "start_time": "2021-12-09T12:18:40.986Z"
   },
   {
    "duration": 115,
    "start_time": "2021-12-09T12:18:54.133Z"
   },
   {
    "duration": 5,
    "start_time": "2021-12-09T12:19:19.181Z"
   },
   {
    "duration": 29,
    "start_time": "2021-12-09T12:19:20.791Z"
   },
   {
    "duration": 85,
    "start_time": "2021-12-09T12:19:21.097Z"
   },
   {
    "duration": 125,
    "start_time": "2021-12-09T12:20:52.869Z"
   },
   {
    "duration": 29,
    "start_time": "2021-12-09T12:20:53.171Z"
   },
   {
    "duration": 148,
    "start_time": "2021-12-09T12:20:53.615Z"
   },
   {
    "duration": 5,
    "start_time": "2021-12-09T12:21:08.702Z"
   },
   {
    "duration": 30,
    "start_time": "2021-12-09T12:21:09.396Z"
   },
   {
    "duration": 87,
    "start_time": "2021-12-09T12:21:10.046Z"
   },
   {
    "duration": 4,
    "start_time": "2021-12-09T12:21:31.032Z"
   },
   {
    "duration": 27,
    "start_time": "2021-12-09T12:21:33.610Z"
   },
   {
    "duration": 89,
    "start_time": "2021-12-09T12:21:33.918Z"
   },
   {
    "duration": 5960,
    "start_time": "2021-12-09T12:22:16.022Z"
   },
   {
    "duration": 7827,
    "start_time": "2021-12-09T12:22:40.787Z"
   },
   {
    "duration": 110,
    "start_time": "2021-12-09T12:23:28.302Z"
   },
   {
    "duration": 103,
    "start_time": "2021-12-09T12:23:34.223Z"
   },
   {
    "duration": 106,
    "start_time": "2021-12-09T12:23:39.457Z"
   },
   {
    "duration": 107,
    "start_time": "2021-12-09T12:24:35.317Z"
   },
   {
    "duration": 7606,
    "start_time": "2021-12-09T12:25:57.520Z"
   },
   {
    "duration": 97,
    "start_time": "2021-12-09T12:26:17.429Z"
   },
   {
    "duration": 26,
    "start_time": "2021-12-09T12:27:41.539Z"
   },
   {
    "duration": 279,
    "start_time": "2021-12-09T12:28:15.583Z"
   },
   {
    "duration": 27,
    "start_time": "2021-12-09T12:28:24.553Z"
   },
   {
    "duration": 18,
    "start_time": "2021-12-09T12:29:01.072Z"
   },
   {
    "duration": 143,
    "start_time": "2021-12-09T12:29:02.240Z"
   },
   {
    "duration": 25,
    "start_time": "2021-12-09T12:29:04.431Z"
   },
   {
    "duration": 26,
    "start_time": "2021-12-09T12:29:23.049Z"
   },
   {
    "duration": 1309,
    "start_time": "2021-12-09T12:29:44.957Z"
   },
   {
    "duration": 71,
    "start_time": "2021-12-09T12:29:46.269Z"
   },
   {
    "duration": 12,
    "start_time": "2021-12-09T12:29:46.342Z"
   },
   {
    "duration": 25,
    "start_time": "2021-12-09T12:29:46.356Z"
   },
   {
    "duration": 44,
    "start_time": "2021-12-09T12:29:46.383Z"
   },
   {
    "duration": 75,
    "start_time": "2021-12-09T12:29:46.430Z"
   },
   {
    "duration": 27,
    "start_time": "2021-12-09T12:29:46.508Z"
   },
   {
    "duration": 589,
    "start_time": "2021-12-09T12:29:46.537Z"
   },
   {
    "duration": 15,
    "start_time": "2021-12-09T12:29:47.129Z"
   },
   {
    "duration": 371,
    "start_time": "2021-12-09T12:29:47.147Z"
   },
   {
    "duration": 19,
    "start_time": "2021-12-09T12:29:47.524Z"
   },
   {
    "duration": 576,
    "start_time": "2021-12-09T12:29:47.545Z"
   },
   {
    "duration": 20,
    "start_time": "2021-12-09T12:29:48.124Z"
   },
   {
    "duration": 177,
    "start_time": "2021-12-09T12:29:48.146Z"
   },
   {
    "duration": 25,
    "start_time": "2021-12-09T12:29:48.325Z"
   },
   {
    "duration": 3,
    "start_time": "2021-12-09T12:29:48.352Z"
   },
   {
    "duration": 27,
    "start_time": "2021-12-09T12:29:48.357Z"
   },
   {
    "duration": 136,
    "start_time": "2021-12-09T12:29:48.389Z"
   },
   {
    "duration": 408,
    "start_time": "2021-12-09T12:29:48.528Z"
   },
   {
    "duration": -855,
    "start_time": "2021-12-09T12:29:49.795Z"
   },
   {
    "duration": -855,
    "start_time": "2021-12-09T12:29:49.796Z"
   },
   {
    "duration": -853,
    "start_time": "2021-12-09T12:29:49.797Z"
   },
   {
    "duration": -853,
    "start_time": "2021-12-09T12:29:49.799Z"
   },
   {
    "duration": -853,
    "start_time": "2021-12-09T12:29:49.801Z"
   },
   {
    "duration": -852,
    "start_time": "2021-12-09T12:29:49.802Z"
   },
   {
    "duration": -851,
    "start_time": "2021-12-09T12:29:49.803Z"
   },
   {
    "duration": -851,
    "start_time": "2021-12-09T12:29:49.804Z"
   },
   {
    "duration": -850,
    "start_time": "2021-12-09T12:29:49.805Z"
   },
   {
    "duration": -850,
    "start_time": "2021-12-09T12:29:49.806Z"
   },
   {
    "duration": -850,
    "start_time": "2021-12-09T12:29:49.807Z"
   },
   {
    "duration": -850,
    "start_time": "2021-12-09T12:29:49.808Z"
   },
   {
    "duration": -898,
    "start_time": "2021-12-09T12:29:49.858Z"
   },
   {
    "duration": -901,
    "start_time": "2021-12-09T12:29:49.862Z"
   },
   {
    "duration": -901,
    "start_time": "2021-12-09T12:29:49.863Z"
   },
   {
    "duration": -901,
    "start_time": "2021-12-09T12:29:49.864Z"
   },
   {
    "duration": -900,
    "start_time": "2021-12-09T12:29:49.865Z"
   },
   {
    "duration": -900,
    "start_time": "2021-12-09T12:29:49.866Z"
   },
   {
    "duration": -900,
    "start_time": "2021-12-09T12:29:49.867Z"
   },
   {
    "duration": 7,
    "start_time": "2021-12-09T12:31:08.633Z"
   },
   {
    "duration": 6,
    "start_time": "2021-12-09T12:33:12.704Z"
   },
   {
    "duration": 7,
    "start_time": "2021-12-09T12:33:20.066Z"
   },
   {
    "duration": 101,
    "start_time": "2021-12-09T12:35:20.424Z"
   },
   {
    "duration": 100,
    "start_time": "2021-12-09T12:36:01.195Z"
   },
   {
    "duration": 20,
    "start_time": "2021-12-09T12:36:17.961Z"
   },
   {
    "duration": 144,
    "start_time": "2021-12-09T12:36:18.333Z"
   },
   {
    "duration": 24,
    "start_time": "2021-12-09T12:36:18.779Z"
   },
   {
    "duration": 4,
    "start_time": "2021-12-09T12:36:19.251Z"
   },
   {
    "duration": 25,
    "start_time": "2021-12-09T12:36:19.729Z"
   },
   {
    "duration": 109,
    "start_time": "2021-12-09T12:36:20.229Z"
   },
   {
    "duration": 7,
    "start_time": "2021-12-09T12:36:21.569Z"
   },
   {
    "duration": 99,
    "start_time": "2021-12-09T12:36:56.703Z"
   },
   {
    "duration": 33,
    "start_time": "2021-12-09T12:37:20.040Z"
   },
   {
    "duration": 24,
    "start_time": "2021-12-09T12:37:35.320Z"
   },
   {
    "duration": 30,
    "start_time": "2021-12-09T12:38:50.054Z"
   },
   {
    "duration": 11,
    "start_time": "2021-12-09T12:39:04.678Z"
   },
   {
    "duration": 7,
    "start_time": "2021-12-09T12:39:32.050Z"
   },
   {
    "duration": 143,
    "start_time": "2021-12-09T12:40:50.260Z"
   },
   {
    "duration": 25,
    "start_time": "2021-12-09T12:40:51.512Z"
   },
   {
    "duration": 4,
    "start_time": "2021-12-09T12:40:56.464Z"
   },
   {
    "duration": 152,
    "start_time": "2021-12-09T12:41:41.949Z"
   },
   {
    "duration": 24,
    "start_time": "2021-12-09T12:41:44.129Z"
   },
   {
    "duration": 4,
    "start_time": "2021-12-09T12:41:48.879Z"
   },
   {
    "duration": 26,
    "start_time": "2021-12-09T12:41:49.291Z"
   },
   {
    "duration": 97,
    "start_time": "2021-12-09T12:41:49.819Z"
   },
   {
    "duration": 7,
    "start_time": "2021-12-09T12:41:50.809Z"
   },
   {
    "duration": 440,
    "start_time": "2021-12-09T12:53:26.093Z"
   },
   {
    "duration": 468,
    "start_time": "2021-12-09T12:53:59.351Z"
   },
   {
    "duration": 101,
    "start_time": "2021-12-09T12:54:05.495Z"
   },
   {
    "duration": 104,
    "start_time": "2021-12-09T12:54:15.158Z"
   },
   {
    "duration": 7873,
    "start_time": "2021-12-09T12:56:22.117Z"
   },
   {
    "duration": 103,
    "start_time": "2021-12-09T12:56:36.010Z"
   },
   {
    "duration": 154,
    "start_time": "2021-12-09T12:56:46.408Z"
   },
   {
    "duration": 109,
    "start_time": "2021-12-09T12:57:04.731Z"
   },
   {
    "duration": 277,
    "start_time": "2021-12-09T13:01:02.165Z"
   },
   {
    "duration": 2509,
    "start_time": "2021-12-09T13:01:20.334Z"
   },
   {
    "duration": 15,
    "start_time": "2021-12-09T13:02:44.539Z"
   },
   {
    "duration": 2623,
    "start_time": "2021-12-09T13:03:03.605Z"
   },
   {
    "duration": 2863,
    "start_time": "2021-12-09T13:03:12.086Z"
   },
   {
    "duration": 17,
    "start_time": "2021-12-09T13:04:01.381Z"
   },
   {
    "duration": 2581,
    "start_time": "2021-12-09T13:04:09.506Z"
   },
   {
    "duration": 2657,
    "start_time": "2021-12-09T13:04:48.793Z"
   },
   {
    "duration": 2582,
    "start_time": "2021-12-09T13:05:13.635Z"
   },
   {
    "duration": 2529,
    "start_time": "2021-12-09T13:05:35.697Z"
   },
   {
    "duration": 7,
    "start_time": "2021-12-09T13:06:23.326Z"
   },
   {
    "duration": 22,
    "start_time": "2021-12-09T13:19:21.339Z"
   },
   {
    "duration": 677,
    "start_time": "2021-12-09T13:41:01.855Z"
   },
   {
    "duration": 738,
    "start_time": "2021-12-09T13:43:19.249Z"
   },
   {
    "duration": 1064,
    "start_time": "2021-12-09T13:43:25.769Z"
   },
   {
    "duration": 709,
    "start_time": "2021-12-09T13:43:36.677Z"
   },
   {
    "duration": 18,
    "start_time": "2021-12-09T13:55:33.020Z"
   },
   {
    "duration": 299,
    "start_time": "2021-12-09T13:56:38.138Z"
   },
   {
    "duration": 16,
    "start_time": "2021-12-09T13:56:44.289Z"
   },
   {
    "duration": 15,
    "start_time": "2021-12-09T13:56:54.577Z"
   },
   {
    "duration": 16,
    "start_time": "2021-12-09T13:57:13.336Z"
   },
   {
    "duration": 592,
    "start_time": "2021-12-09T13:57:18.506Z"
   },
   {
    "duration": 739,
    "start_time": "2021-12-09T13:59:37.549Z"
   },
   {
    "duration": 757,
    "start_time": "2021-12-09T13:59:53.417Z"
   },
   {
    "duration": 916,
    "start_time": "2021-12-09T14:00:54.107Z"
   },
   {
    "duration": 906,
    "start_time": "2021-12-09T14:01:39.736Z"
   },
   {
    "duration": 278,
    "start_time": "2021-12-09T14:29:20.092Z"
   },
   {
    "duration": 1672,
    "start_time": "2021-12-09T14:29:21.100Z"
   },
   {
    "duration": 1224,
    "start_time": "2021-12-09T14:29:22.775Z"
   },
   {
    "duration": 33,
    "start_time": "2021-12-09T14:29:24.003Z"
   },
   {
    "duration": 719,
    "start_time": "2021-12-09T14:29:24.039Z"
   },
   {
    "duration": 214,
    "start_time": "2021-12-09T14:32:01.011Z"
   },
   {
    "duration": 207,
    "start_time": "2021-12-09T14:32:11.308Z"
   },
   {
    "duration": 583,
    "start_time": "2021-12-09T14:35:57.410Z"
   },
   {
    "duration": 583,
    "start_time": "2021-12-09T14:36:08.175Z"
   },
   {
    "duration": 614,
    "start_time": "2021-12-09T14:36:49.539Z"
   },
   {
    "duration": 1534,
    "start_time": "2021-12-09T14:36:59.816Z"
   },
   {
    "duration": 83,
    "start_time": "2021-12-09T14:37:01.352Z"
   },
   {
    "duration": 18,
    "start_time": "2021-12-09T14:37:01.439Z"
   },
   {
    "duration": 35,
    "start_time": "2021-12-09T14:37:01.461Z"
   },
   {
    "duration": 27,
    "start_time": "2021-12-09T14:37:01.523Z"
   },
   {
    "duration": 95,
    "start_time": "2021-12-09T14:37:01.552Z"
   },
   {
    "duration": 14,
    "start_time": "2021-12-09T14:37:01.650Z"
   },
   {
    "duration": 594,
    "start_time": "2021-12-09T14:37:01.666Z"
   },
   {
    "duration": 14,
    "start_time": "2021-12-09T14:37:02.264Z"
   },
   {
    "duration": 394,
    "start_time": "2021-12-09T14:37:02.282Z"
   },
   {
    "duration": 17,
    "start_time": "2021-12-09T14:37:02.679Z"
   },
   {
    "duration": 684,
    "start_time": "2021-12-09T14:37:02.698Z"
   },
   {
    "duration": 45,
    "start_time": "2021-12-09T14:37:03.385Z"
   },
   {
    "duration": 167,
    "start_time": "2021-12-09T14:37:03.433Z"
   },
   {
    "duration": 4,
    "start_time": "2021-12-09T14:37:03.603Z"
   },
   {
    "duration": 136,
    "start_time": "2021-12-09T14:37:03.610Z"
   },
   {
    "duration": 777,
    "start_time": "2021-12-09T14:37:03.749Z"
   },
   {
    "duration": 14,
    "start_time": "2021-12-09T14:37:04.529Z"
   },
   {
    "duration": 914,
    "start_time": "2021-12-09T14:37:04.545Z"
   },
   {
    "duration": 679,
    "start_time": "2021-12-09T14:37:05.461Z"
   },
   {
    "duration": 47,
    "start_time": "2021-12-09T14:37:06.143Z"
   },
   {
    "duration": 440,
    "start_time": "2021-12-09T14:37:06.193Z"
   },
   {
    "duration": -936,
    "start_time": "2021-12-09T14:37:07.572Z"
   },
   {
    "duration": -936,
    "start_time": "2021-12-09T14:37:07.574Z"
   },
   {
    "duration": -935,
    "start_time": "2021-12-09T14:37:07.575Z"
   },
   {
    "duration": -933,
    "start_time": "2021-12-09T14:37:07.576Z"
   },
   {
    "duration": -934,
    "start_time": "2021-12-09T14:37:07.578Z"
   },
   {
    "duration": -934,
    "start_time": "2021-12-09T14:37:07.579Z"
   },
   {
    "duration": -934,
    "start_time": "2021-12-09T14:37:07.580Z"
   },
   {
    "duration": -936,
    "start_time": "2021-12-09T14:37:07.584Z"
   },
   {
    "duration": -938,
    "start_time": "2021-12-09T14:37:07.588Z"
   },
   {
    "duration": -939,
    "start_time": "2021-12-09T14:37:07.590Z"
   },
   {
    "duration": -939,
    "start_time": "2021-12-09T14:37:07.592Z"
   },
   {
    "duration": -938,
    "start_time": "2021-12-09T14:37:07.593Z"
   },
   {
    "duration": -971,
    "start_time": "2021-12-09T14:37:07.627Z"
   },
   {
    "duration": -973,
    "start_time": "2021-12-09T14:37:07.631Z"
   },
   {
    "duration": 626,
    "start_time": "2021-12-09T14:37:38.478Z"
   },
   {
    "duration": 603,
    "start_time": "2021-12-09T14:37:47.521Z"
   },
   {
    "duration": 600,
    "start_time": "2021-12-09T14:38:19.013Z"
   },
   {
    "duration": 599,
    "start_time": "2021-12-09T14:38:50.856Z"
   },
   {
    "duration": 655,
    "start_time": "2021-12-09T14:39:08.486Z"
   },
   {
    "duration": 643,
    "start_time": "2021-12-09T14:39:58.759Z"
   },
   {
    "duration": 624,
    "start_time": "2021-12-09T14:40:27.491Z"
   },
   {
    "duration": 612,
    "start_time": "2021-12-09T14:41:20.299Z"
   },
   {
    "duration": 613,
    "start_time": "2021-12-09T14:41:55.785Z"
   },
   {
    "duration": 21,
    "start_time": "2021-12-09T14:44:10.544Z"
   },
   {
    "duration": 18,
    "start_time": "2021-12-09T14:44:19.078Z"
   },
   {
    "duration": 18,
    "start_time": "2021-12-09T14:44:23.896Z"
   },
   {
    "duration": 21,
    "start_time": "2021-12-09T14:44:38.304Z"
   },
   {
    "duration": 19,
    "start_time": "2021-12-09T14:44:45.025Z"
   },
   {
    "duration": 19,
    "start_time": "2021-12-09T14:45:43.657Z"
   },
   {
    "duration": 813,
    "start_time": "2021-12-09T14:46:09.005Z"
   },
   {
    "duration": 775,
    "start_time": "2021-12-09T14:46:25.832Z"
   },
   {
    "duration": 596,
    "start_time": "2021-12-09T14:46:43.089Z"
   },
   {
    "duration": 610,
    "start_time": "2021-12-09T14:47:38.179Z"
   },
   {
    "duration": 579,
    "start_time": "2021-12-09T14:47:54.376Z"
   },
   {
    "duration": 611,
    "start_time": "2021-12-09T14:48:14.866Z"
   },
   {
    "duration": 354,
    "start_time": "2021-12-09T14:48:24.210Z"
   },
   {
    "duration": 5378,
    "start_time": "2021-12-09T15:29:25.541Z"
   },
   {
    "duration": 344,
    "start_time": "2021-12-09T15:37:51.138Z"
   },
   {
    "duration": 245,
    "start_time": "2021-12-09T15:38:06.042Z"
   },
   {
    "duration": 247,
    "start_time": "2021-12-09T15:38:43.968Z"
   },
   {
    "duration": 9,
    "start_time": "2021-12-09T15:40:53.856Z"
   },
   {
    "duration": 46,
    "start_time": "2021-12-09T15:41:42.994Z"
   },
   {
    "duration": 400,
    "start_time": "2021-12-09T15:48:58.175Z"
   },
   {
    "duration": 407,
    "start_time": "2021-12-09T15:49:38.875Z"
   },
   {
    "duration": 6,
    "start_time": "2021-12-09T15:49:49.217Z"
   },
   {
    "duration": 8,
    "start_time": "2021-12-09T15:50:40.368Z"
   },
   {
    "duration": 7,
    "start_time": "2021-12-09T15:50:46.704Z"
   },
   {
    "duration": 8,
    "start_time": "2021-12-09T15:50:49.808Z"
   },
   {
    "duration": 8,
    "start_time": "2021-12-09T15:50:52.757Z"
   },
   {
    "duration": 8,
    "start_time": "2021-12-09T15:50:56.727Z"
   },
   {
    "duration": 9,
    "start_time": "2021-12-09T15:51:03.636Z"
   },
   {
    "duration": 8,
    "start_time": "2021-12-09T15:51:07.314Z"
   },
   {
    "duration": 8,
    "start_time": "2021-12-09T15:51:10.675Z"
   },
   {
    "duration": 7,
    "start_time": "2021-12-09T15:51:15.994Z"
   },
   {
    "duration": 8,
    "start_time": "2021-12-09T15:51:22.704Z"
   },
   {
    "duration": 8,
    "start_time": "2021-12-09T15:51:25.805Z"
   },
   {
    "duration": 7,
    "start_time": "2021-12-09T15:51:29.154Z"
   },
   {
    "duration": 7,
    "start_time": "2021-12-09T15:51:34.475Z"
   },
   {
    "duration": 8,
    "start_time": "2021-12-09T15:51:37.635Z"
   },
   {
    "duration": 7,
    "start_time": "2021-12-09T15:51:41.686Z"
   },
   {
    "duration": 7,
    "start_time": "2021-12-09T15:51:45.795Z"
   },
   {
    "duration": 7,
    "start_time": "2021-12-09T15:51:49.514Z"
   },
   {
    "duration": 8,
    "start_time": "2021-12-09T15:51:54.675Z"
   },
   {
    "duration": 8,
    "start_time": "2021-12-09T15:52:01.576Z"
   },
   {
    "duration": 7,
    "start_time": "2021-12-09T15:52:15.767Z"
   },
   {
    "duration": 758,
    "start_time": "2021-12-09T15:53:35.919Z"
   },
   {
    "duration": 1040,
    "start_time": "2021-12-09T15:53:49.270Z"
   },
   {
    "duration": 2144,
    "start_time": "2021-12-09T16:03:18.693Z"
   },
   {
    "duration": 2128,
    "start_time": "2021-12-09T16:03:54.816Z"
   },
   {
    "duration": 2217,
    "start_time": "2021-12-09T16:04:19.546Z"
   },
   {
    "duration": 3105,
    "start_time": "2021-12-09T16:05:18.773Z"
   },
   {
    "duration": 526,
    "start_time": "2021-12-09T16:06:01.585Z"
   },
   {
    "duration": 2057,
    "start_time": "2021-12-09T16:06:11.612Z"
   },
   {
    "duration": 7954,
    "start_time": "2021-12-09T16:07:57.032Z"
   },
   {
    "duration": 6,
    "start_time": "2021-12-09T16:08:17.460Z"
   },
   {
    "duration": 6,
    "start_time": "2021-12-09T16:08:26.560Z"
   },
   {
    "duration": 278,
    "start_time": "2021-12-09T16:20:10.745Z"
   },
   {
    "duration": 55,
    "start_time": "2021-12-09T16:20:17.185Z"
   },
   {
    "duration": 6,
    "start_time": "2021-12-09T16:22:28.518Z"
   },
   {
    "duration": 13,
    "start_time": "2021-12-09T16:22:44.519Z"
   },
   {
    "duration": 338,
    "start_time": "2021-12-09T16:23:19.257Z"
   },
   {
    "duration": 24,
    "start_time": "2021-12-09T16:24:59.027Z"
   },
   {
    "duration": 13,
    "start_time": "2021-12-09T16:25:11.054Z"
   },
   {
    "duration": 38,
    "start_time": "2021-12-09T16:25:25.816Z"
   },
   {
    "duration": 284,
    "start_time": "2021-12-09T16:28:12.491Z"
   },
   {
    "duration": 56,
    "start_time": "2021-12-09T16:28:37.458Z"
   },
   {
    "duration": 56,
    "start_time": "2021-12-09T16:33:49.064Z"
   },
   {
    "duration": 277,
    "start_time": "2021-12-09T16:40:24.257Z"
   },
   {
    "duration": 2564,
    "start_time": "2021-12-09T16:41:32.244Z"
   },
   {
    "duration": 2619,
    "start_time": "2021-12-09T16:41:46.451Z"
   },
   {
    "duration": 2691,
    "start_time": "2021-12-09T16:42:01.846Z"
   },
   {
    "duration": 284,
    "start_time": "2021-12-09T16:42:45.272Z"
   },
   {
    "duration": 298,
    "start_time": "2021-12-09T16:43:03.874Z"
   },
   {
    "duration": 66,
    "start_time": "2021-12-09T16:44:37.013Z"
   },
   {
    "duration": 10,
    "start_time": "2021-12-09T16:45:01.014Z"
   },
   {
    "duration": 266,
    "start_time": "2021-12-09T16:45:01.363Z"
   },
   {
    "duration": 30,
    "start_time": "2021-12-09T16:45:01.635Z"
   },
   {
    "duration": 590,
    "start_time": "2021-12-09T16:45:31.472Z"
   },
   {
    "duration": 51,
    "start_time": "2021-12-09T16:45:37.277Z"
   },
   {
    "duration": 54,
    "start_time": "2021-12-09T16:45:49.196Z"
   },
   {
    "duration": 41,
    "start_time": "2021-12-09T16:45:54.493Z"
   },
   {
    "duration": 282,
    "start_time": "2021-12-09T16:50:04.837Z"
   },
   {
    "duration": 282,
    "start_time": "2021-12-09T16:50:34.330Z"
   },
   {
    "duration": 26,
    "start_time": "2021-12-09T16:50:56.089Z"
   },
   {
    "duration": 473,
    "start_time": "2021-12-09T16:51:36.977Z"
   },
   {
    "duration": 388,
    "start_time": "2021-12-09T16:52:13.126Z"
   },
   {
    "duration": 530,
    "start_time": "2021-12-09T16:52:27.123Z"
   },
   {
    "duration": 409,
    "start_time": "2021-12-09T16:52:31.815Z"
   },
   {
    "duration": 371,
    "start_time": "2021-12-09T16:52:35.956Z"
   },
   {
    "duration": 473,
    "start_time": "2021-12-09T16:52:40.232Z"
   },
   {
    "duration": 399,
    "start_time": "2021-12-09T16:52:48.515Z"
   },
   {
    "duration": 362,
    "start_time": "2021-12-09T16:53:00.806Z"
   },
   {
    "duration": 456,
    "start_time": "2021-12-09T16:53:06.509Z"
   },
   {
    "duration": 1429,
    "start_time": "2021-12-09T16:56:02.854Z"
   },
   {
    "duration": 71,
    "start_time": "2021-12-09T16:56:04.285Z"
   },
   {
    "duration": 12,
    "start_time": "2021-12-09T16:56:04.358Z"
   },
   {
    "duration": 25,
    "start_time": "2021-12-09T16:56:04.372Z"
   },
   {
    "duration": 39,
    "start_time": "2021-12-09T16:56:04.399Z"
   },
   {
    "duration": 93,
    "start_time": "2021-12-09T16:56:04.440Z"
   },
   {
    "duration": 14,
    "start_time": "2021-12-09T16:56:04.535Z"
   },
   {
    "duration": 597,
    "start_time": "2021-12-09T16:56:04.555Z"
   },
   {
    "duration": 14,
    "start_time": "2021-12-09T16:56:05.155Z"
   },
   {
    "duration": 369,
    "start_time": "2021-12-09T16:56:05.172Z"
   },
   {
    "duration": 19,
    "start_time": "2021-12-09T16:56:05.543Z"
   },
   {
    "duration": 554,
    "start_time": "2021-12-09T16:56:05.564Z"
   },
   {
    "duration": 28,
    "start_time": "2021-12-09T16:56:06.124Z"
   },
   {
    "duration": 161,
    "start_time": "2021-12-09T16:56:06.154Z"
   },
   {
    "duration": 4,
    "start_time": "2021-12-09T16:56:06.324Z"
   },
   {
    "duration": 114,
    "start_time": "2021-12-09T16:56:06.330Z"
   },
   {
    "duration": 709,
    "start_time": "2021-12-09T16:56:06.446Z"
   },
   {
    "duration": 16,
    "start_time": "2021-12-09T16:56:07.158Z"
   },
   {
    "duration": 1098,
    "start_time": "2021-12-09T16:56:07.176Z"
   },
   {
    "duration": 696,
    "start_time": "2021-12-09T16:56:08.277Z"
   },
   {
    "duration": 302,
    "start_time": "2021-12-09T16:56:08.976Z"
   },
   {
    "duration": 22,
    "start_time": "2021-12-09T16:56:09.281Z"
   },
   {
    "duration": 264,
    "start_time": "2021-12-09T16:56:09.324Z"
   },
   {
    "duration": 5,
    "start_time": "2021-12-09T16:56:09.590Z"
   },
   {
    "duration": 12,
    "start_time": "2021-12-09T16:56:09.597Z"
   },
   {
    "duration": 44,
    "start_time": "2021-12-09T16:56:09.611Z"
   },
   {
    "duration": 68,
    "start_time": "2021-12-09T16:56:09.657Z"
   },
   {
    "duration": 390,
    "start_time": "2021-12-09T16:56:09.727Z"
   },
   {
    "duration": 1051,
    "start_time": "2021-12-09T16:56:10.124Z"
   },
   {
    "duration": 25,
    "start_time": "2021-12-09T16:57:54.974Z"
   },
   {
    "duration": 26,
    "start_time": "2021-12-09T17:00:07.455Z"
   },
   {
    "duration": 22,
    "start_time": "2021-12-09T17:00:39.125Z"
   },
   {
    "duration": 384,
    "start_time": "2021-12-09T17:02:44.008Z"
   },
   {
    "duration": 292,
    "start_time": "2021-12-09T17:03:21.205Z"
   },
   {
    "duration": 1515,
    "start_time": "2021-12-09T17:03:33.870Z"
   },
   {
    "duration": 73,
    "start_time": "2021-12-09T17:03:35.388Z"
   },
   {
    "duration": 11,
    "start_time": "2021-12-09T17:03:35.464Z"
   },
   {
    "duration": 26,
    "start_time": "2021-12-09T17:03:35.478Z"
   },
   {
    "duration": 21,
    "start_time": "2021-12-09T17:03:35.523Z"
   },
   {
    "duration": 99,
    "start_time": "2021-12-09T17:03:35.547Z"
   },
   {
    "duration": 14,
    "start_time": "2021-12-09T17:03:35.649Z"
   },
   {
    "duration": 597,
    "start_time": "2021-12-09T17:03:35.668Z"
   },
   {
    "duration": 15,
    "start_time": "2021-12-09T17:03:36.270Z"
   },
   {
    "duration": 378,
    "start_time": "2021-12-09T17:03:36.289Z"
   },
   {
    "duration": 19,
    "start_time": "2021-12-09T17:03:36.670Z"
   },
   {
    "duration": 558,
    "start_time": "2021-12-09T17:03:36.692Z"
   },
   {
    "duration": 26,
    "start_time": "2021-12-09T17:03:37.252Z"
   },
   {
    "duration": 173,
    "start_time": "2021-12-09T17:03:37.281Z"
   },
   {
    "duration": 4,
    "start_time": "2021-12-09T17:03:37.456Z"
   },
   {
    "duration": 195,
    "start_time": "2021-12-09T17:03:37.462Z"
   },
   {
    "duration": 732,
    "start_time": "2021-12-09T17:03:37.659Z"
   },
   {
    "duration": 29,
    "start_time": "2021-12-09T17:03:38.394Z"
   },
   {
    "duration": 921,
    "start_time": "2021-12-09T17:03:38.425Z"
   },
   {
    "duration": 676,
    "start_time": "2021-12-09T17:03:39.349Z"
   },
   {
    "duration": 279,
    "start_time": "2021-12-09T17:03:40.028Z"
   },
   {
    "duration": 244,
    "start_time": "2021-12-09T17:03:40.309Z"
   },
   {
    "duration": 5,
    "start_time": "2021-12-09T17:03:40.557Z"
   },
   {
    "duration": 12,
    "start_time": "2021-12-09T17:03:40.565Z"
   },
   {
    "duration": 49,
    "start_time": "2021-12-09T17:03:40.578Z"
   },
   {
    "duration": 54,
    "start_time": "2021-12-09T17:03:40.629Z"
   },
   {
    "duration": 46,
    "start_time": "2021-12-09T17:03:40.686Z"
   },
   {
    "duration": 17,
    "start_time": "2021-12-09T17:03:40.734Z"
   },
   {
    "duration": 914,
    "start_time": "2021-12-09T17:03:40.753Z"
   },
   {
    "duration": 42,
    "start_time": "2021-12-09T17:04:02.408Z"
   },
   {
    "duration": 23,
    "start_time": "2021-12-09T17:11:55.246Z"
   },
   {
    "duration": 18,
    "start_time": "2021-12-09T17:12:03.582Z"
   },
   {
    "duration": 26,
    "start_time": "2021-12-09T17:15:44.895Z"
   },
   {
    "duration": 30,
    "start_time": "2021-12-09T17:16:27.726Z"
   },
   {
    "duration": 1460,
    "start_time": "2021-12-09T17:29:37.740Z"
   },
   {
    "duration": 27,
    "start_time": "2021-12-09T17:29:54.049Z"
   },
   {
    "duration": 34,
    "start_time": "2021-12-09T17:30:18.764Z"
   },
   {
    "duration": 28,
    "start_time": "2021-12-09T17:30:59.330Z"
   },
   {
    "duration": 36,
    "start_time": "2021-12-09T17:31:11.772Z"
   },
   {
    "duration": 7,
    "start_time": "2021-12-09T17:52:38.455Z"
   },
   {
    "duration": 13,
    "start_time": "2021-12-09T17:52:50.133Z"
   },
   {
    "duration": 30,
    "start_time": "2021-12-09T17:53:10.034Z"
   },
   {
    "duration": 19,
    "start_time": "2021-12-09T17:54:55.676Z"
   },
   {
    "duration": 29,
    "start_time": "2021-12-09T17:57:13.734Z"
   },
   {
    "duration": 17,
    "start_time": "2021-12-09T17:57:23.504Z"
   },
   {
    "duration": 20,
    "start_time": "2021-12-09T17:58:13.702Z"
   },
   {
    "duration": 21,
    "start_time": "2021-12-09T17:58:39.611Z"
   },
   {
    "duration": 683,
    "start_time": "2021-12-09T18:02:23.210Z"
   },
   {
    "duration": 1058,
    "start_time": "2021-12-09T18:02:40.010Z"
   },
   {
    "duration": 852,
    "start_time": "2021-12-09T18:02:59.915Z"
   },
   {
    "duration": 997,
    "start_time": "2021-12-09T18:03:15.441Z"
   },
   {
    "duration": 1049,
    "start_time": "2021-12-09T18:03:22.644Z"
   },
   {
    "duration": 439,
    "start_time": "2021-12-09T18:07:19.330Z"
   },
   {
    "duration": 884,
    "start_time": "2021-12-09T18:07:28.160Z"
   },
   {
    "duration": 417,
    "start_time": "2021-12-09T18:07:39.401Z"
   },
   {
    "duration": 641,
    "start_time": "2021-12-09T18:07:43.553Z"
   },
   {
    "duration": 292,
    "start_time": "2021-12-09T18:09:52.476Z"
   },
   {
    "duration": 5,
    "start_time": "2021-12-09T18:10:07.285Z"
   },
   {
    "duration": 7573,
    "start_time": "2021-12-09T18:11:23.351Z"
   },
   {
    "duration": 782,
    "start_time": "2021-12-09T18:11:59.095Z"
   },
   {
    "duration": 5882,
    "start_time": "2021-12-09T18:13:04.852Z"
   },
   {
    "duration": 5544,
    "start_time": "2021-12-09T18:27:01.343Z"
   },
   {
    "duration": 5483,
    "start_time": "2021-12-09T18:27:25.971Z"
   },
   {
    "duration": 4513,
    "start_time": "2021-12-09T18:29:09.353Z"
   },
   {
    "duration": 871,
    "start_time": "2021-12-09T18:29:20.032Z"
   },
   {
    "duration": 8406,
    "start_time": "2021-12-09T18:29:52.292Z"
   },
   {
    "duration": 1859,
    "start_time": "2021-12-09T18:30:10.872Z"
   },
   {
    "duration": 2104,
    "start_time": "2021-12-09T18:30:19.415Z"
   },
   {
    "duration": 1927,
    "start_time": "2021-12-09T18:30:40.571Z"
   },
   {
    "duration": 291,
    "start_time": "2021-12-09T18:31:15.719Z"
   },
   {
    "duration": 2023,
    "start_time": "2021-12-09T18:31:23.851Z"
   },
   {
    "duration": 989,
    "start_time": "2021-12-09T18:37:27.029Z"
   },
   {
    "duration": 547,
    "start_time": "2021-12-09T18:37:56.911Z"
   },
   {
    "duration": 666,
    "start_time": "2021-12-09T18:38:16.943Z"
   },
   {
    "duration": 867,
    "start_time": "2021-12-09T18:38:32.377Z"
   },
   {
    "duration": 1020,
    "start_time": "2021-12-09T18:38:48.935Z"
   },
   {
    "duration": 8345,
    "start_time": "2021-12-09T18:39:36.492Z"
   },
   {
    "duration": 9867,
    "start_time": "2021-12-09T18:39:51.161Z"
   },
   {
    "duration": 6993,
    "start_time": "2021-12-09T18:40:26.403Z"
   },
   {
    "duration": 7433,
    "start_time": "2021-12-09T18:40:49.332Z"
   },
   {
    "duration": 7384,
    "start_time": "2021-12-09T18:41:06.880Z"
   },
   {
    "duration": 1218,
    "start_time": "2021-12-09T18:47:21.018Z"
   },
   {
    "duration": 981,
    "start_time": "2021-12-09T18:55:57.857Z"
   },
   {
    "duration": 1053,
    "start_time": "2021-12-09T18:56:19.650Z"
   },
   {
    "duration": 507,
    "start_time": "2021-12-09T18:56:24.612Z"
   },
   {
    "duration": 24,
    "start_time": "2021-12-09T18:56:25.819Z"
   },
   {
    "duration": 1210,
    "start_time": "2021-12-09T18:56:26.658Z"
   },
   {
    "duration": 40,
    "start_time": "2021-12-09T18:56:38.941Z"
   },
   {
    "duration": 179,
    "start_time": "2021-12-09T18:56:39.495Z"
   },
   {
    "duration": 4,
    "start_time": "2021-12-09T18:56:40.562Z"
   },
   {
    "duration": 124,
    "start_time": "2021-12-09T18:56:41.178Z"
   },
   {
    "duration": 813,
    "start_time": "2021-12-09T18:56:43.068Z"
   },
   {
    "duration": 1532,
    "start_time": "2021-12-09T18:56:51.183Z"
   },
   {
    "duration": 17,
    "start_time": "2021-12-09T18:56:58.705Z"
   },
   {
    "duration": 1018,
    "start_time": "2021-12-09T18:57:00.711Z"
   },
   {
    "duration": 1461,
    "start_time": "2021-12-09T18:57:09.649Z"
   },
   {
    "duration": 726,
    "start_time": "2021-12-09T18:57:19.901Z"
   },
   {
    "duration": 480,
    "start_time": "2021-12-09T18:57:20.938Z"
   },
   {
    "duration": 276,
    "start_time": "2021-12-09T18:57:24.048Z"
   },
   {
    "duration": 8,
    "start_time": "2021-12-09T18:57:24.877Z"
   },
   {
    "duration": 10,
    "start_time": "2021-12-09T18:57:26.040Z"
   },
   {
    "duration": 50,
    "start_time": "2021-12-09T18:57:26.773Z"
   },
   {
    "duration": 87,
    "start_time": "2021-12-09T18:57:28.530Z"
   },
   {
    "duration": 30,
    "start_time": "2021-12-09T18:57:30.224Z"
   },
   {
    "duration": 37,
    "start_time": "2021-12-09T18:57:32.973Z"
   },
   {
    "duration": 21,
    "start_time": "2021-12-09T18:57:33.721Z"
   },
   {
    "duration": 18,
    "start_time": "2021-12-09T18:57:36.013Z"
   },
   {
    "duration": 1143,
    "start_time": "2021-12-09T18:57:38.324Z"
   },
   {
    "duration": 1307,
    "start_time": "2021-12-09T18:57:53.928Z"
   },
   {
    "duration": 1090,
    "start_time": "2021-12-09T18:58:06.219Z"
   },
   {
    "duration": 16482,
    "start_time": "2021-12-09T18:58:49.859Z"
   },
   {
    "duration": 8534,
    "start_time": "2021-12-09T18:59:17.105Z"
   },
   {
    "duration": 1145,
    "start_time": "2021-12-09T18:59:36.215Z"
   },
   {
    "duration": 1573,
    "start_time": "2021-12-09T19:01:15.724Z"
   },
   {
    "duration": 77,
    "start_time": "2021-12-09T19:01:17.300Z"
   },
   {
    "duration": 19,
    "start_time": "2021-12-09T19:01:17.381Z"
   },
   {
    "duration": 25,
    "start_time": "2021-12-09T19:01:17.403Z"
   },
   {
    "duration": 59,
    "start_time": "2021-12-09T19:01:17.431Z"
   },
   {
    "duration": 98,
    "start_time": "2021-12-09T19:01:17.497Z"
   },
   {
    "duration": 14,
    "start_time": "2021-12-09T19:01:17.597Z"
   },
   {
    "duration": 1760,
    "start_time": "2021-12-09T19:01:17.613Z"
   },
   {
    "duration": 20,
    "start_time": "2021-12-09T19:01:19.379Z"
   },
   {
    "duration": 599,
    "start_time": "2021-12-09T19:01:19.402Z"
   },
   {
    "duration": 23,
    "start_time": "2021-12-09T19:01:20.004Z"
   },
   {
    "duration": 766,
    "start_time": "2021-12-09T19:01:20.030Z"
   },
   {
    "duration": 28,
    "start_time": "2021-12-09T19:01:20.800Z"
   },
   {
    "duration": 202,
    "start_time": "2021-12-09T19:01:20.831Z"
   },
   {
    "duration": 4,
    "start_time": "2021-12-09T19:01:21.035Z"
   },
   {
    "duration": 143,
    "start_time": "2021-12-09T19:01:21.042Z"
   },
   {
    "duration": 795,
    "start_time": "2021-12-09T19:01:21.188Z"
   },
   {
    "duration": 15,
    "start_time": "2021-12-09T19:01:21.986Z"
   },
   {
    "duration": 904,
    "start_time": "2021-12-09T19:01:22.003Z"
   },
   {
    "duration": 796,
    "start_time": "2021-12-09T19:01:22.909Z"
   },
   {
    "duration": 315,
    "start_time": "2021-12-09T19:01:23.708Z"
   },
   {
    "duration": 259,
    "start_time": "2021-12-09T19:01:24.026Z"
   },
   {
    "duration": 6,
    "start_time": "2021-12-09T19:01:24.288Z"
   },
   {
    "duration": 13,
    "start_time": "2021-12-09T19:01:24.298Z"
   },
   {
    "duration": 88,
    "start_time": "2021-12-09T19:01:24.314Z"
   },
   {
    "duration": 80,
    "start_time": "2021-12-09T19:01:24.404Z"
   },
   {
    "duration": 28,
    "start_time": "2021-12-09T19:01:24.491Z"
   },
   {
    "duration": 64,
    "start_time": "2021-12-09T19:01:24.521Z"
   },
   {
    "duration": 18,
    "start_time": "2021-12-09T19:01:24.588Z"
   },
   {
    "duration": 18,
    "start_time": "2021-12-09T19:01:24.608Z"
   },
   {
    "duration": 1068,
    "start_time": "2021-12-09T19:01:24.628Z"
   },
   {
    "duration": 8555,
    "start_time": "2021-12-09T19:01:25.698Z"
   },
   {
    "duration": 24,
    "start_time": "2021-12-09T19:36:52.783Z"
   },
   {
    "duration": 37,
    "start_time": "2021-12-09T19:37:27.193Z"
   },
   {
    "duration": 22,
    "start_time": "2021-12-09T19:39:18.171Z"
   },
   {
    "duration": 936,
    "start_time": "2021-12-09T22:34:16.810Z"
   },
   {
    "duration": 968,
    "start_time": "2021-12-09T22:36:24.259Z"
   },
   {
    "duration": 8306,
    "start_time": "2021-12-09T22:38:22.118Z"
   },
   {
    "duration": 1486,
    "start_time": "2021-12-09T23:09:55.821Z"
   },
   {
    "duration": 84,
    "start_time": "2021-12-09T23:09:57.309Z"
   },
   {
    "duration": 14,
    "start_time": "2021-12-09T23:09:57.396Z"
   },
   {
    "duration": 27,
    "start_time": "2021-12-09T23:09:57.413Z"
   },
   {
    "duration": 50,
    "start_time": "2021-12-09T23:09:57.443Z"
   },
   {
    "duration": 107,
    "start_time": "2021-12-09T23:09:57.495Z"
   },
   {
    "duration": 15,
    "start_time": "2021-12-09T23:09:57.604Z"
   },
   {
    "duration": 1024,
    "start_time": "2021-12-09T23:09:57.621Z"
   },
   {
    "duration": 30,
    "start_time": "2021-12-09T23:09:58.649Z"
   },
   {
    "duration": 417,
    "start_time": "2021-12-09T23:09:58.683Z"
   },
   {
    "duration": 17,
    "start_time": "2021-12-09T23:09:59.102Z"
   },
   {
    "duration": 629,
    "start_time": "2021-12-09T23:09:59.122Z"
   },
   {
    "duration": 42,
    "start_time": "2021-12-09T23:09:59.754Z"
   },
   {
    "duration": 193,
    "start_time": "2021-12-09T23:09:59.799Z"
   },
   {
    "duration": 4,
    "start_time": "2021-12-09T23:09:59.994Z"
   },
   {
    "duration": 137,
    "start_time": "2021-12-09T23:10:00.000Z"
   },
   {
    "duration": 857,
    "start_time": "2021-12-09T23:10:00.140Z"
   },
   {
    "duration": 15,
    "start_time": "2021-12-09T23:10:01.000Z"
   },
   {
    "duration": 895,
    "start_time": "2021-12-09T23:10:01.017Z"
   },
   {
    "duration": 791,
    "start_time": "2021-12-09T23:10:01.914Z"
   },
   {
    "duration": 313,
    "start_time": "2021-12-09T23:10:02.707Z"
   },
   {
    "duration": 511,
    "start_time": "2021-12-09T23:10:03.023Z"
   },
   {
    "duration": 5,
    "start_time": "2021-12-09T23:10:03.536Z"
   },
   {
    "duration": 17,
    "start_time": "2021-12-09T23:10:03.543Z"
   },
   {
    "duration": 51,
    "start_time": "2021-12-09T23:10:03.563Z"
   },
   {
    "duration": 94,
    "start_time": "2021-12-09T23:10:03.617Z"
   },
   {
    "duration": 30,
    "start_time": "2021-12-09T23:10:03.718Z"
   },
   {
    "duration": 40,
    "start_time": "2021-12-09T23:10:03.751Z"
   },
   {
    "duration": 18,
    "start_time": "2021-12-09T23:10:03.794Z"
   },
   {
    "duration": 57,
    "start_time": "2021-12-09T23:10:03.815Z"
   },
   {
    "duration": 1018,
    "start_time": "2021-12-09T23:10:03.876Z"
   },
   {
    "duration": 8463,
    "start_time": "2021-12-09T23:10:04.897Z"
   },
   {
    "duration": 1890,
    "start_time": "2021-12-09T23:18:59.179Z"
   },
   {
    "duration": 78,
    "start_time": "2021-12-09T23:19:01.074Z"
   },
   {
    "duration": 28,
    "start_time": "2021-12-09T23:19:01.154Z"
   },
   {
    "duration": 27,
    "start_time": "2021-12-09T23:19:01.185Z"
   },
   {
    "duration": 22,
    "start_time": "2021-12-09T23:19:01.214Z"
   },
   {
    "duration": 102,
    "start_time": "2021-12-09T23:19:01.269Z"
   },
   {
    "duration": 20,
    "start_time": "2021-12-09T23:19:01.375Z"
   },
   {
    "duration": 998,
    "start_time": "2021-12-09T23:19:01.400Z"
   },
   {
    "duration": 75,
    "start_time": "2021-12-09T23:19:02.403Z"
   },
   {
    "duration": 828,
    "start_time": "2021-12-09T23:19:02.482Z"
   },
   {
    "duration": 18,
    "start_time": "2021-12-09T23:19:03.313Z"
   },
   {
    "duration": 655,
    "start_time": "2021-12-09T23:19:03.333Z"
   },
   {
    "duration": 27,
    "start_time": "2021-12-09T23:19:03.991Z"
   },
   {
    "duration": 198,
    "start_time": "2021-12-09T23:19:04.021Z"
   },
   {
    "duration": 4,
    "start_time": "2021-12-09T23:19:04.221Z"
   },
   {
    "duration": 132,
    "start_time": "2021-12-09T23:19:04.228Z"
   },
   {
    "duration": 808,
    "start_time": "2021-12-09T23:19:04.367Z"
   },
   {
    "duration": 17,
    "start_time": "2021-12-09T23:19:05.179Z"
   },
   {
    "duration": 887,
    "start_time": "2021-12-09T23:19:05.199Z"
   },
   {
    "duration": 792,
    "start_time": "2021-12-09T23:19:06.088Z"
   },
   {
    "duration": 322,
    "start_time": "2021-12-09T23:19:06.883Z"
   },
   {
    "duration": 354,
    "start_time": "2021-12-09T23:19:07.207Z"
   },
   {
    "duration": 6,
    "start_time": "2021-12-09T23:19:07.563Z"
   },
   {
    "duration": 15,
    "start_time": "2021-12-09T23:19:07.574Z"
   },
   {
    "duration": 46,
    "start_time": "2021-12-09T23:19:07.591Z"
   },
   {
    "duration": 68,
    "start_time": "2021-12-09T23:19:07.672Z"
   },
   {
    "duration": 51,
    "start_time": "2021-12-09T23:19:07.743Z"
   },
   {
    "duration": 18,
    "start_time": "2021-12-09T23:19:07.796Z"
   },
   {
    "duration": 51,
    "start_time": "2021-12-09T23:19:07.816Z"
   },
   {
    "duration": 22,
    "start_time": "2021-12-09T23:19:07.870Z"
   },
   {
    "duration": 990,
    "start_time": "2021-12-09T23:19:07.895Z"
   },
   {
    "duration": 8646,
    "start_time": "2021-12-09T23:19:08.888Z"
   },
   {
    "duration": 1389,
    "start_time": "2021-12-09T23:20:23.964Z"
   },
   {
    "duration": 985,
    "start_time": "2021-12-09T23:21:57.974Z"
   },
   {
    "duration": 1367,
    "start_time": "2021-12-09T23:25:09.500Z"
   },
   {
    "duration": 616,
    "start_time": "2021-12-09T23:26:02.773Z"
   },
   {
    "duration": 1009,
    "start_time": "2021-12-09T23:26:23.524Z"
   },
   {
    "duration": 1309,
    "start_time": "2021-12-09T23:27:02.684Z"
   },
   {
    "duration": 1650,
    "start_time": "2021-12-09T23:27:26.445Z"
   },
   {
    "duration": 1697,
    "start_time": "2021-12-09T23:28:04.214Z"
   },
   {
    "duration": 1913,
    "start_time": "2021-12-09T23:28:27.605Z"
   },
   {
    "duration": 18424,
    "start_time": "2021-12-09T23:29:12.533Z"
   },
   {
    "duration": 1547,
    "start_time": "2021-12-09T23:31:06.412Z"
   },
   {
    "duration": 80,
    "start_time": "2021-12-09T23:31:07.962Z"
   },
   {
    "duration": 25,
    "start_time": "2021-12-09T23:31:08.046Z"
   },
   {
    "duration": 28,
    "start_time": "2021-12-09T23:31:08.077Z"
   },
   {
    "duration": 24,
    "start_time": "2021-12-09T23:31:08.108Z"
   },
   {
    "duration": 101,
    "start_time": "2021-12-09T23:31:08.169Z"
   },
   {
    "duration": 20,
    "start_time": "2021-12-09T23:31:08.273Z"
   },
   {
    "duration": 781,
    "start_time": "2021-12-09T23:31:08.297Z"
   },
   {
    "duration": 14,
    "start_time": "2021-12-09T23:31:09.083Z"
   },
   {
    "duration": 425,
    "start_time": "2021-12-09T23:31:09.100Z"
   },
   {
    "duration": 18,
    "start_time": "2021-12-09T23:31:09.527Z"
   },
   {
    "duration": 652,
    "start_time": "2021-12-09T23:31:09.547Z"
   },
   {
    "duration": 27,
    "start_time": "2021-12-09T23:31:10.202Z"
   },
   {
    "duration": 200,
    "start_time": "2021-12-09T23:31:10.231Z"
   },
   {
    "duration": 4,
    "start_time": "2021-12-09T23:31:10.434Z"
   },
   {
    "duration": 138,
    "start_time": "2021-12-09T23:31:10.440Z"
   },
   {
    "duration": 809,
    "start_time": "2021-12-09T23:31:10.581Z"
   },
   {
    "duration": 15,
    "start_time": "2021-12-09T23:31:11.392Z"
   },
   {
    "duration": 907,
    "start_time": "2021-12-09T23:31:11.410Z"
   },
   {
    "duration": 850,
    "start_time": "2021-12-09T23:31:12.319Z"
   },
   {
    "duration": 327,
    "start_time": "2021-12-09T23:31:13.173Z"
   },
   {
    "duration": 355,
    "start_time": "2021-12-09T23:31:13.503Z"
   },
   {
    "duration": 5,
    "start_time": "2021-12-09T23:31:13.860Z"
   },
   {
    "duration": 27,
    "start_time": "2021-12-09T23:31:13.868Z"
   },
   {
    "duration": 44,
    "start_time": "2021-12-09T23:31:13.898Z"
   },
   {
    "duration": 89,
    "start_time": "2021-12-09T23:31:13.944Z"
   },
   {
    "duration": 51,
    "start_time": "2021-12-09T23:31:14.038Z"
   },
   {
    "duration": 17,
    "start_time": "2021-12-09T23:31:14.092Z"
   },
   {
    "duration": 18,
    "start_time": "2021-12-09T23:31:14.112Z"
   },
   {
    "duration": 52,
    "start_time": "2021-12-09T23:31:14.133Z"
   },
   {
    "duration": 1012,
    "start_time": "2021-12-09T23:31:14.188Z"
   },
   {
    "duration": 8611,
    "start_time": "2021-12-09T23:31:15.203Z"
   },
   {
    "duration": 1509,
    "start_time": "2021-12-09T23:45:24.107Z"
   },
   {
    "duration": 83,
    "start_time": "2021-12-09T23:45:25.619Z"
   },
   {
    "duration": 13,
    "start_time": "2021-12-09T23:45:25.705Z"
   },
   {
    "duration": 48,
    "start_time": "2021-12-09T23:45:25.721Z"
   },
   {
    "duration": 25,
    "start_time": "2021-12-09T23:45:25.773Z"
   },
   {
    "duration": 115,
    "start_time": "2021-12-09T23:45:25.800Z"
   },
   {
    "duration": 14,
    "start_time": "2021-12-09T23:45:25.918Z"
   },
   {
    "duration": 648,
    "start_time": "2021-12-09T23:45:25.935Z"
   },
   {
    "duration": 14,
    "start_time": "2021-12-09T23:45:26.587Z"
   },
   {
    "duration": 409,
    "start_time": "2021-12-09T23:45:26.604Z"
   },
   {
    "duration": 16,
    "start_time": "2021-12-09T23:45:27.015Z"
   },
   {
    "duration": 648,
    "start_time": "2021-12-09T23:45:27.033Z"
   },
   {
    "duration": 28,
    "start_time": "2021-12-09T23:45:27.685Z"
   },
   {
    "duration": 201,
    "start_time": "2021-12-09T23:45:27.716Z"
   },
   {
    "duration": 4,
    "start_time": "2021-12-09T23:45:27.919Z"
   },
   {
    "duration": 129,
    "start_time": "2021-12-09T23:45:27.926Z"
   },
   {
    "duration": 801,
    "start_time": "2021-12-09T23:45:28.057Z"
   },
   {
    "duration": 22,
    "start_time": "2021-12-09T23:45:28.867Z"
   },
   {
    "duration": 885,
    "start_time": "2021-12-09T23:45:28.892Z"
   },
   {
    "duration": 806,
    "start_time": "2021-12-09T23:45:29.781Z"
   },
   {
    "duration": 320,
    "start_time": "2021-12-09T23:45:30.590Z"
   },
   {
    "duration": 310,
    "start_time": "2021-12-09T23:45:30.913Z"
   },
   {
    "duration": 5,
    "start_time": "2021-12-09T23:45:31.225Z"
   },
   {
    "duration": 27,
    "start_time": "2021-12-09T23:45:31.233Z"
   },
   {
    "duration": 65,
    "start_time": "2021-12-09T23:45:31.262Z"
   },
   {
    "duration": 76,
    "start_time": "2021-12-09T23:45:31.329Z"
   },
   {
    "duration": 29,
    "start_time": "2021-12-09T23:45:31.410Z"
   },
   {
    "duration": 45,
    "start_time": "2021-12-09T23:45:31.442Z"
   },
   {
    "duration": 19,
    "start_time": "2021-12-09T23:45:31.490Z"
   },
   {
    "duration": 29,
    "start_time": "2021-12-09T23:45:31.512Z"
   },
   {
    "duration": 1206,
    "start_time": "2021-12-09T23:45:31.544Z"
   },
   {
    "duration": 8455,
    "start_time": "2021-12-09T23:45:32.752Z"
   },
   {
    "duration": 1552,
    "start_time": "2021-12-10T00:00:41.203Z"
   },
   {
    "duration": 85,
    "start_time": "2021-12-10T00:00:42.758Z"
   },
   {
    "duration": 31,
    "start_time": "2021-12-10T00:00:42.846Z"
   },
   {
    "duration": 29,
    "start_time": "2021-12-10T00:00:42.881Z"
   },
   {
    "duration": 20,
    "start_time": "2021-12-10T00:00:42.913Z"
   },
   {
    "duration": 98,
    "start_time": "2021-12-10T00:00:42.969Z"
   },
   {
    "duration": 22,
    "start_time": "2021-12-10T00:00:43.071Z"
   },
   {
    "duration": 661,
    "start_time": "2021-12-10T00:00:43.097Z"
   },
   {
    "duration": 21,
    "start_time": "2021-12-10T00:00:43.769Z"
   },
   {
    "duration": 430,
    "start_time": "2021-12-10T00:00:43.792Z"
   },
   {
    "duration": 18,
    "start_time": "2021-12-10T00:00:44.225Z"
   },
   {
    "duration": 656,
    "start_time": "2021-12-10T00:00:44.245Z"
   },
   {
    "duration": 29,
    "start_time": "2021-12-10T00:00:44.904Z"
   },
   {
    "duration": 206,
    "start_time": "2021-12-10T00:00:44.936Z"
   },
   {
    "duration": 4,
    "start_time": "2021-12-10T00:00:45.145Z"
   },
   {
    "duration": 145,
    "start_time": "2021-12-10T00:00:45.151Z"
   },
   {
    "duration": 788,
    "start_time": "2021-12-10T00:00:45.298Z"
   },
   {
    "duration": 17,
    "start_time": "2021-12-10T00:00:46.088Z"
   },
   {
    "duration": 890,
    "start_time": "2021-12-10T00:00:46.108Z"
   },
   {
    "duration": 785,
    "start_time": "2021-12-10T00:00:47.000Z"
   },
   {
    "duration": 306,
    "start_time": "2021-12-10T00:00:47.788Z"
   },
   {
    "duration": 373,
    "start_time": "2021-12-10T00:00:48.097Z"
   },
   {
    "duration": 7,
    "start_time": "2021-12-10T00:00:48.477Z"
   },
   {
    "duration": 28,
    "start_time": "2021-12-10T00:00:48.487Z"
   },
   {
    "duration": 94,
    "start_time": "2021-12-10T00:00:48.517Z"
   },
   {
    "duration": 122,
    "start_time": "2021-12-10T00:00:48.669Z"
   },
   {
    "duration": 28,
    "start_time": "2021-12-10T00:00:48.794Z"
   },
   {
    "duration": 43,
    "start_time": "2021-12-10T00:00:48.824Z"
   },
   {
    "duration": 24,
    "start_time": "2021-12-10T00:00:48.871Z"
   },
   {
    "duration": 19,
    "start_time": "2021-12-10T00:00:48.897Z"
   },
   {
    "duration": 1041,
    "start_time": "2021-12-10T00:00:48.918Z"
   },
   {
    "duration": 8349,
    "start_time": "2021-12-10T00:00:49.961Z"
   },
   {
    "duration": 1076,
    "start_time": "2021-12-10T00:32:25.157Z"
   },
   {
    "duration": 1539,
    "start_time": "2021-12-10T00:47:22.911Z"
   },
   {
    "duration": 81,
    "start_time": "2021-12-10T00:47:24.453Z"
   },
   {
    "duration": 34,
    "start_time": "2021-12-10T00:47:24.536Z"
   },
   {
    "duration": 28,
    "start_time": "2021-12-10T00:47:24.574Z"
   },
   {
    "duration": 21,
    "start_time": "2021-12-10T00:47:24.604Z"
   },
   {
    "duration": 113,
    "start_time": "2021-12-10T00:47:24.629Z"
   },
   {
    "duration": 29,
    "start_time": "2021-12-10T00:47:24.746Z"
   },
   {
    "duration": 649,
    "start_time": "2021-12-10T00:47:24.779Z"
   },
   {
    "duration": 16,
    "start_time": "2021-12-10T00:47:25.430Z"
   },
   {
    "duration": 429,
    "start_time": "2021-12-10T00:47:25.475Z"
   },
   {
    "duration": 18,
    "start_time": "2021-12-10T00:47:25.906Z"
   },
   {
    "duration": 634,
    "start_time": "2021-12-10T00:47:25.926Z"
   },
   {
    "duration": 35,
    "start_time": "2021-12-10T00:47:26.562Z"
   },
   {
    "duration": 193,
    "start_time": "2021-12-10T00:47:26.599Z"
   },
   {
    "duration": 5,
    "start_time": "2021-12-10T00:47:26.795Z"
   },
   {
    "duration": 134,
    "start_time": "2021-12-10T00:47:26.803Z"
   },
   {
    "duration": 815,
    "start_time": "2021-12-10T00:47:26.940Z"
   },
   {
    "duration": 26,
    "start_time": "2021-12-10T00:47:27.760Z"
   },
   {
    "duration": 891,
    "start_time": "2021-12-10T00:47:27.789Z"
   },
   {
    "duration": 774,
    "start_time": "2021-12-10T00:47:28.683Z"
   },
   {
    "duration": 302,
    "start_time": "2021-12-10T00:47:29.468Z"
   },
   {
    "duration": 354,
    "start_time": "2021-12-10T00:47:29.774Z"
   },
   {
    "duration": 5,
    "start_time": "2021-12-10T00:47:30.130Z"
   },
   {
    "duration": 17,
    "start_time": "2021-12-10T00:47:30.138Z"
   },
   {
    "duration": 57,
    "start_time": "2021-12-10T00:47:30.158Z"
   },
   {
    "duration": 82,
    "start_time": "2021-12-10T00:47:30.218Z"
   },
   {
    "duration": 28,
    "start_time": "2021-12-10T00:47:30.303Z"
   },
   {
    "duration": 36,
    "start_time": "2021-12-10T00:47:30.333Z"
   },
   {
    "duration": 23,
    "start_time": "2021-12-10T00:47:30.372Z"
   },
   {
    "duration": 21,
    "start_time": "2021-12-10T00:47:30.398Z"
   },
   {
    "duration": 1023,
    "start_time": "2021-12-10T00:47:30.422Z"
   },
   {
    "duration": 8367,
    "start_time": "2021-12-10T00:47:31.448Z"
   },
   {
    "duration": 1569,
    "start_time": "2021-12-10T01:01:49.684Z"
   },
   {
    "duration": 90,
    "start_time": "2021-12-10T01:01:51.256Z"
   },
   {
    "duration": 27,
    "start_time": "2021-12-10T01:01:51.349Z"
   },
   {
    "duration": 25,
    "start_time": "2021-12-10T01:01:51.381Z"
   },
   {
    "duration": 20,
    "start_time": "2021-12-10T01:01:51.409Z"
   },
   {
    "duration": 116,
    "start_time": "2021-12-10T01:01:51.432Z"
   },
   {
    "duration": 34,
    "start_time": "2021-12-10T01:01:51.550Z"
   },
   {
    "duration": 671,
    "start_time": "2021-12-10T01:01:51.590Z"
   },
   {
    "duration": 20,
    "start_time": "2021-12-10T01:01:52.268Z"
   },
   {
    "duration": 438,
    "start_time": "2021-12-10T01:01:52.291Z"
   },
   {
    "duration": 17,
    "start_time": "2021-12-10T01:01:52.732Z"
   },
   {
    "duration": 654,
    "start_time": "2021-12-10T01:01:52.751Z"
   },
   {
    "duration": 28,
    "start_time": "2021-12-10T01:01:53.407Z"
   },
   {
    "duration": 337,
    "start_time": "2021-12-10T01:01:53.468Z"
   },
   {
    "duration": 4,
    "start_time": "2021-12-10T01:01:53.808Z"
   },
   {
    "duration": 292,
    "start_time": "2021-12-10T01:01:53.814Z"
   },
   {
    "duration": 928,
    "start_time": "2021-12-10T01:01:54.109Z"
   },
   {
    "duration": 37,
    "start_time": "2021-12-10T01:01:55.039Z"
   },
   {
    "duration": 877,
    "start_time": "2021-12-10T01:01:55.079Z"
   },
   {
    "duration": 784,
    "start_time": "2021-12-10T01:01:55.959Z"
   },
   {
    "duration": 325,
    "start_time": "2021-12-10T01:01:56.745Z"
   },
   {
    "duration": 378,
    "start_time": "2021-12-10T01:01:57.074Z"
   },
   {
    "duration": 4,
    "start_time": "2021-12-10T01:01:57.457Z"
   },
   {
    "duration": 27,
    "start_time": "2021-12-10T01:01:57.464Z"
   },
   {
    "duration": 57,
    "start_time": "2021-12-10T01:01:57.494Z"
   },
   {
    "duration": 85,
    "start_time": "2021-12-10T01:01:57.553Z"
   },
   {
    "duration": 44,
    "start_time": "2021-12-10T01:01:57.641Z"
   },
   {
    "duration": 19,
    "start_time": "2021-12-10T01:01:57.688Z"
   },
   {
    "duration": 35,
    "start_time": "2021-12-10T01:01:57.710Z"
   },
   {
    "duration": 40,
    "start_time": "2021-12-10T01:01:57.747Z"
   },
   {
    "duration": 1011,
    "start_time": "2021-12-10T01:01:57.789Z"
   },
   {
    "duration": 8497,
    "start_time": "2021-12-10T01:01:58.803Z"
   },
   {
    "duration": 1573,
    "start_time": "2021-12-10T13:10:31.386Z"
   },
   {
    "duration": 75,
    "start_time": "2021-12-10T13:10:32.962Z"
   },
   {
    "duration": 22,
    "start_time": "2021-12-10T13:10:33.040Z"
   },
   {
    "duration": 32,
    "start_time": "2021-12-10T13:10:33.066Z"
   },
   {
    "duration": 21,
    "start_time": "2021-12-10T13:10:33.100Z"
   },
   {
    "duration": 102,
    "start_time": "2021-12-10T13:10:33.124Z"
   },
   {
    "duration": 14,
    "start_time": "2021-12-10T13:10:33.228Z"
   },
   {
    "duration": 603,
    "start_time": "2021-12-10T13:10:33.260Z"
   },
   {
    "duration": 14,
    "start_time": "2021-12-10T13:10:33.866Z"
   },
   {
    "duration": 388,
    "start_time": "2021-12-10T13:10:33.883Z"
   },
   {
    "duration": 18,
    "start_time": "2021-12-10T13:10:34.274Z"
   },
   {
    "duration": 569,
    "start_time": "2021-12-10T13:10:34.294Z"
   },
   {
    "duration": 27,
    "start_time": "2021-12-10T13:10:34.865Z"
   },
   {
    "duration": 189,
    "start_time": "2021-12-10T13:10:34.894Z"
   },
   {
    "duration": 4,
    "start_time": "2021-12-10T13:10:35.086Z"
   },
   {
    "duration": 129,
    "start_time": "2021-12-10T13:10:35.092Z"
   },
   {
    "duration": 769,
    "start_time": "2021-12-10T13:10:35.224Z"
   },
   {
    "duration": 17,
    "start_time": "2021-12-10T13:10:35.996Z"
   },
   {
    "duration": 806,
    "start_time": "2021-12-10T13:10:36.016Z"
   },
   {
    "duration": 704,
    "start_time": "2021-12-10T13:10:36.824Z"
   },
   {
    "duration": 314,
    "start_time": "2021-12-10T13:10:37.530Z"
   },
   {
    "duration": 273,
    "start_time": "2021-12-10T13:10:37.846Z"
   },
   {
    "duration": 4,
    "start_time": "2021-12-10T13:10:38.122Z"
   },
   {
    "duration": 13,
    "start_time": "2021-12-10T13:10:38.128Z"
   },
   {
    "duration": 42,
    "start_time": "2021-12-10T13:10:38.143Z"
   },
   {
    "duration": 73,
    "start_time": "2021-12-10T13:10:38.188Z"
   },
   {
    "duration": 27,
    "start_time": "2021-12-10T13:10:38.265Z"
   },
   {
    "duration": 18,
    "start_time": "2021-12-10T13:10:38.295Z"
   },
   {
    "duration": 49,
    "start_time": "2021-12-10T13:10:38.315Z"
   },
   {
    "duration": 19,
    "start_time": "2021-12-10T13:10:38.367Z"
   },
   {
    "duration": 925,
    "start_time": "2021-12-10T13:10:38.389Z"
   },
   {
    "duration": 7670,
    "start_time": "2021-12-10T13:10:39.317Z"
   },
   {
    "duration": 1100,
    "start_time": "2021-12-10T18:47:11.418Z"
   },
   {
    "duration": 58,
    "start_time": "2021-12-10T18:47:12.520Z"
   },
   {
    "duration": 9,
    "start_time": "2021-12-10T18:47:12.580Z"
   },
   {
    "duration": 18,
    "start_time": "2021-12-10T18:47:12.591Z"
   },
   {
    "duration": 18,
    "start_time": "2021-12-10T18:47:12.611Z"
   },
   {
    "duration": 78,
    "start_time": "2021-12-10T18:47:12.631Z"
   },
   {
    "duration": 10,
    "start_time": "2021-12-10T18:47:12.712Z"
   },
   {
    "duration": 359,
    "start_time": "2021-12-10T18:47:12.724Z"
   },
   {
    "duration": 11,
    "start_time": "2021-12-10T18:47:13.086Z"
   },
   {
    "duration": 240,
    "start_time": "2021-12-10T18:47:13.100Z"
   },
   {
    "duration": 22,
    "start_time": "2021-12-10T18:47:13.342Z"
   },
   {
    "duration": 341,
    "start_time": "2021-12-10T18:47:13.366Z"
   },
   {
    "duration": 20,
    "start_time": "2021-12-10T18:47:13.709Z"
   },
   {
    "duration": 147,
    "start_time": "2021-12-10T18:47:13.731Z"
   },
   {
    "duration": 4,
    "start_time": "2021-12-10T18:47:13.880Z"
   },
   {
    "duration": 68,
    "start_time": "2021-12-10T18:47:13.886Z"
   },
   {
    "duration": 952,
    "start_time": "2021-12-10T18:47:13.964Z"
   },
   {
    "duration": 15,
    "start_time": "2021-12-10T18:47:14.918Z"
   },
   {
    "duration": 713,
    "start_time": "2021-12-10T18:47:14.935Z"
   },
   {
    "duration": 878,
    "start_time": "2021-12-10T18:47:15.650Z"
   },
   {
    "duration": 255,
    "start_time": "2021-12-10T18:47:16.530Z"
   },
   {
    "duration": 224,
    "start_time": "2021-12-10T18:47:16.787Z"
   },
   {
    "duration": 5,
    "start_time": "2021-12-10T18:47:17.013Z"
   },
   {
    "duration": 9,
    "start_time": "2021-12-10T18:47:17.020Z"
   },
   {
    "duration": 31,
    "start_time": "2021-12-10T18:47:17.031Z"
   },
   {
    "duration": 69,
    "start_time": "2021-12-10T18:47:17.065Z"
   },
   {
    "duration": 41,
    "start_time": "2021-12-10T18:47:17.138Z"
   },
   {
    "duration": 17,
    "start_time": "2021-12-10T18:47:17.181Z"
   },
   {
    "duration": 16,
    "start_time": "2021-12-10T18:47:17.200Z"
   },
   {
    "duration": 12,
    "start_time": "2021-12-10T18:47:17.218Z"
   },
   {
    "duration": 546,
    "start_time": "2021-12-10T18:47:17.264Z"
   },
   {
    "duration": 5010,
    "start_time": "2021-12-10T18:47:17.812Z"
   },
   {
    "duration": 1230,
    "start_time": "2021-12-10T18:51:08.337Z"
   },
   {
    "duration": 56,
    "start_time": "2021-12-10T18:51:09.570Z"
   },
   {
    "duration": 8,
    "start_time": "2021-12-10T18:51:09.629Z"
   },
   {
    "duration": 17,
    "start_time": "2021-12-10T18:51:09.640Z"
   },
   {
    "duration": 13,
    "start_time": "2021-12-10T18:51:09.663Z"
   },
   {
    "duration": 50,
    "start_time": "2021-12-10T18:51:09.678Z"
   },
   {
    "duration": 9,
    "start_time": "2021-12-10T18:51:09.730Z"
   },
   {
    "duration": 368,
    "start_time": "2021-12-10T18:51:09.765Z"
   },
   {
    "duration": 10,
    "start_time": "2021-12-10T18:51:10.135Z"
   },
   {
    "duration": 230,
    "start_time": "2021-12-10T18:51:10.147Z"
   },
   {
    "duration": 11,
    "start_time": "2021-12-10T18:51:10.379Z"
   },
   {
    "duration": 345,
    "start_time": "2021-12-10T18:51:10.392Z"
   },
   {
    "duration": 27,
    "start_time": "2021-12-10T18:51:10.739Z"
   },
   {
    "duration": 181,
    "start_time": "2021-12-10T18:51:10.768Z"
   },
   {
    "duration": 3,
    "start_time": "2021-12-10T18:51:10.952Z"
   },
   {
    "duration": 105,
    "start_time": "2021-12-10T18:51:10.963Z"
   },
   {
    "duration": 581,
    "start_time": "2021-12-10T18:51:11.070Z"
   },
   {
    "duration": 11,
    "start_time": "2021-12-10T18:51:11.653Z"
   },
   {
    "duration": 463,
    "start_time": "2021-12-10T18:51:11.665Z"
   },
   {
    "duration": 552,
    "start_time": "2021-12-10T18:51:12.130Z"
   },
   {
    "duration": 168,
    "start_time": "2021-12-10T18:51:12.684Z"
   },
   {
    "duration": 274,
    "start_time": "2021-12-10T18:51:12.854Z"
   },
   {
    "duration": 4,
    "start_time": "2021-12-10T18:51:13.131Z"
   },
   {
    "duration": 13,
    "start_time": "2021-12-10T18:51:13.137Z"
   },
   {
    "duration": 28,
    "start_time": "2021-12-10T18:51:13.152Z"
   },
   {
    "duration": 40,
    "start_time": "2021-12-10T18:51:13.182Z"
   },
   {
    "duration": 21,
    "start_time": "2021-12-10T18:51:13.224Z"
   },
   {
    "duration": 11,
    "start_time": "2021-12-10T18:51:13.263Z"
   },
   {
    "duration": 11,
    "start_time": "2021-12-10T18:51:13.276Z"
   },
   {
    "duration": 12,
    "start_time": "2021-12-10T18:51:13.288Z"
   },
   {
    "duration": 588,
    "start_time": "2021-12-10T18:51:13.301Z"
   },
   {
    "duration": 4514,
    "start_time": "2021-12-10T18:51:13.891Z"
   }
  ],
  "kernelspec": {
   "display_name": "Python 3 (ipykernel)",
   "language": "python",
   "name": "python3"
  },
  "language_info": {
   "codemirror_mode": {
    "name": "ipython",
    "version": 3
   },
   "file_extension": ".py",
   "mimetype": "text/x-python",
   "name": "python",
   "nbconvert_exporter": "python",
   "pygments_lexer": "ipython3",
   "version": "3.7.8"
  },
  "toc": {
   "base_numbering": 1,
   "nav_menu": {},
   "number_sections": true,
   "sideBar": true,
   "skip_h1_title": true,
   "title_cell": "Table of Contents",
   "title_sidebar": "Contents",
   "toc_cell": false,
   "toc_position": {
    "height": "calc(100% - 180px)",
    "left": "10px",
    "top": "150px",
    "width": "366.391px"
   },
   "toc_section_display": true,
   "toc_window_display": false
  }
 },
 "nbformat": 4,
 "nbformat_minor": 2
}
