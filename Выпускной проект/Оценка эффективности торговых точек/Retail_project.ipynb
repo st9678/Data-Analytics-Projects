{
 "cells": [
  {
   "cell_type": "code",
   "execution_count": 1,
   "metadata": {},
   "outputs": [],
   "source": [
    "import warnings\n",
    "warnings.filterwarnings('ignore')\n",
    "from IPython.display import display "
   ]
  },
  {
   "cell_type": "code",
   "execution_count": 2,
   "metadata": {},
   "outputs": [],
   "source": [
    "import pandas as pd\n",
    "import numpy as np\n",
    "import seaborn as sns\n",
    "import matplotlib.pyplot as plt\n",
    "from scipy import stats as st "
   ]
  },
  {
   "cell_type": "markdown",
   "metadata": {},
   "source": [
    "# Материалы:\n",
    "\n",
    "Презентация: https://disk.yandex.ru/i/VGzvL-rQeTT-_A\n",
    "\n",
    "Дашборд: https://public.tableau.com/app/profile/st9678/viz/Book1_16443602779340/Dashboard1?publish=yes"
   ]
  },
  {
   "cell_type": "markdown",
   "metadata": {},
   "source": [
    "# Оценка эффективности торговых точек\n",
    "\n",
    "Используя данные о покупках, выделить эффективные торговые точки, и по их прообразу составить модель развития других магазинов."
   ]
  },
  {
   "cell_type": "markdown",
   "metadata": {},
   "source": [
    "## Предобработка данных\n",
    "\n",
    "Произведем обязательное преобразование данных, очистим их от мусора и заполним пропуски, для более корректного исследования."
   ]
  },
  {
   "cell_type": "markdown",
   "metadata": {},
   "source": [
    "### Получение данных из файла и первое знакомство с ними\n",
    "\n",
    "Имеется два файла с расширением .csv, с помощью методов библиотеки Pandas, превратим хранимые в файлах данные в датасеты."
   ]
  },
  {
   "cell_type": "code",
   "execution_count": 3,
   "metadata": {},
   "outputs": [
    {
     "data": {
      "text/html": [
       "<div>\n",
       "<style scoped>\n",
       "    .dataframe tbody tr th:only-of-type {\n",
       "        vertical-align: middle;\n",
       "    }\n",
       "\n",
       "    .dataframe tbody tr th {\n",
       "        vertical-align: top;\n",
       "    }\n",
       "\n",
       "    .dataframe thead th {\n",
       "        text-align: right;\n",
       "    }\n",
       "</style>\n",
       "<table border=\"1\" class=\"dataframe\">\n",
       "  <thead>\n",
       "    <tr style=\"text-align: right;\">\n",
       "      <th></th>\n",
       "      <th>purchaseid</th>\n",
       "      <th>item_ID</th>\n",
       "      <th>Quantity</th>\n",
       "      <th>purchasedate</th>\n",
       "      <th>CustomerID</th>\n",
       "      <th>ShopID</th>\n",
       "      <th>loyalty_program</th>\n",
       "    </tr>\n",
       "  </thead>\n",
       "  <tbody>\n",
       "    <tr>\n",
       "      <td>0</td>\n",
       "      <td>538280</td>\n",
       "      <td>21873</td>\n",
       "      <td>11</td>\n",
       "      <td>2016-12-10 12:50:00</td>\n",
       "      <td>18427.0</td>\n",
       "      <td>Shop 0</td>\n",
       "      <td>0.0</td>\n",
       "    </tr>\n",
       "    <tr>\n",
       "      <td>1</td>\n",
       "      <td>538862</td>\n",
       "      <td>22195</td>\n",
       "      <td>0</td>\n",
       "      <td>2016-12-14 14:11:00</td>\n",
       "      <td>22389.0</td>\n",
       "      <td>Shop 0</td>\n",
       "      <td>1.0</td>\n",
       "    </tr>\n",
       "    <tr>\n",
       "      <td>2</td>\n",
       "      <td>538855</td>\n",
       "      <td>21239</td>\n",
       "      <td>7</td>\n",
       "      <td>2016-12-14 13:50:00</td>\n",
       "      <td>22182.0</td>\n",
       "      <td>Shop 0</td>\n",
       "      <td>1.0</td>\n",
       "    </tr>\n",
       "    <tr>\n",
       "      <td>3</td>\n",
       "      <td>543543</td>\n",
       "      <td>22271</td>\n",
       "      <td>0</td>\n",
       "      <td>2017-02-09 15:33:00</td>\n",
       "      <td>23522.0</td>\n",
       "      <td>Shop 0</td>\n",
       "      <td>1.0</td>\n",
       "    </tr>\n",
       "    <tr>\n",
       "      <td>4</td>\n",
       "      <td>543812</td>\n",
       "      <td>79321</td>\n",
       "      <td>0</td>\n",
       "      <td>2017-02-13 14:40:00</td>\n",
       "      <td>23151.0</td>\n",
       "      <td>Shop 0</td>\n",
       "      <td>1.0</td>\n",
       "    </tr>\n",
       "  </tbody>\n",
       "</table>\n",
       "</div>"
      ],
      "text/plain": [
       "  purchaseid item_ID  Quantity         purchasedate  CustomerID  ShopID  \\\n",
       "0     538280   21873        11  2016-12-10 12:50:00     18427.0  Shop 0   \n",
       "1     538862   22195         0  2016-12-14 14:11:00     22389.0  Shop 0   \n",
       "2     538855   21239         7  2016-12-14 13:50:00     22182.0  Shop 0   \n",
       "3     543543   22271         0  2017-02-09 15:33:00     23522.0  Shop 0   \n",
       "4     543812   79321         0  2017-02-13 14:40:00     23151.0  Shop 0   \n",
       "\n",
       "   loyalty_program  \n",
       "0              0.0  \n",
       "1              1.0  \n",
       "2              1.0  \n",
       "3              1.0  \n",
       "4              1.0  "
      ]
     },
     "metadata": {},
     "output_type": "display_data"
    },
    {
     "name": "stdout",
     "output_type": "stream",
     "text": [
      "Количество строк в датасете: 105335\n"
     ]
    }
   ],
   "source": [
    "df = pd.read_csv('retail_dataset.csv')\n",
    "display(df.head())\n",
    "print(f'Количество строк в датасете: {df.shape[0]}')"
   ]
  },
  {
   "cell_type": "code",
   "execution_count": 4,
   "metadata": {},
   "outputs": [
    {
     "data": {
      "text/html": [
       "<div>\n",
       "<style scoped>\n",
       "    .dataframe tbody tr th:only-of-type {\n",
       "        vertical-align: middle;\n",
       "    }\n",
       "\n",
       "    .dataframe tbody tr th {\n",
       "        vertical-align: top;\n",
       "    }\n",
       "\n",
       "    .dataframe thead th {\n",
       "        text-align: right;\n",
       "    }\n",
       "</style>\n",
       "<table border=\"1\" class=\"dataframe\">\n",
       "  <thead>\n",
       "    <tr style=\"text-align: right;\">\n",
       "      <th></th>\n",
       "      <th>productID</th>\n",
       "      <th>price_per_one</th>\n",
       "    </tr>\n",
       "  </thead>\n",
       "  <tbody>\n",
       "    <tr>\n",
       "      <td>0</td>\n",
       "      <td>85123A</td>\n",
       "      <td>2.55</td>\n",
       "    </tr>\n",
       "    <tr>\n",
       "      <td>1</td>\n",
       "      <td>71053</td>\n",
       "      <td>3.39</td>\n",
       "    </tr>\n",
       "    <tr>\n",
       "      <td>2</td>\n",
       "      <td>84406B</td>\n",
       "      <td>2.75</td>\n",
       "    </tr>\n",
       "    <tr>\n",
       "      <td>3</td>\n",
       "      <td>84029G</td>\n",
       "      <td>3.39</td>\n",
       "    </tr>\n",
       "    <tr>\n",
       "      <td>4</td>\n",
       "      <td>84029E</td>\n",
       "      <td>3.39</td>\n",
       "    </tr>\n",
       "  </tbody>\n",
       "</table>\n",
       "</div>"
      ],
      "text/plain": [
       "  productID  price_per_one\n",
       "0    85123A           2.55\n",
       "1     71053           3.39\n",
       "2    84406B           2.75\n",
       "3    84029G           3.39\n",
       "4    84029E           3.39"
      ]
     },
     "metadata": {},
     "output_type": "display_data"
    },
    {
     "name": "stdout",
     "output_type": "stream",
     "text": [
      "Количество строк в датасете: 9969\n"
     ]
    }
   ],
   "source": [
    "df_1 = pd.read_csv('product_codes.csv')\n",
    "display(df_1.head())\n",
    "print(f'Количество строк в датасете: {df_1.shape[0]}')"
   ]
  },
  {
   "cell_type": "markdown",
   "metadata": {},
   "source": [
    "### Изменение названий колонок \n",
    "\n",
    "Столбцы имеют не очень удобные названия, так что начнем с их переименования."
   ]
  },
  {
   "cell_type": "code",
   "execution_count": 5,
   "metadata": {},
   "outputs": [
    {
     "data": {
      "text/html": [
       "<div>\n",
       "<style scoped>\n",
       "    .dataframe tbody tr th:only-of-type {\n",
       "        vertical-align: middle;\n",
       "    }\n",
       "\n",
       "    .dataframe tbody tr th {\n",
       "        vertical-align: top;\n",
       "    }\n",
       "\n",
       "    .dataframe thead th {\n",
       "        text-align: right;\n",
       "    }\n",
       "</style>\n",
       "<table border=\"1\" class=\"dataframe\">\n",
       "  <thead>\n",
       "    <tr style=\"text-align: right;\">\n",
       "      <th></th>\n",
       "      <th>purchase_id</th>\n",
       "      <th>product_id</th>\n",
       "      <th>quantity</th>\n",
       "      <th>purchase_date</th>\n",
       "      <th>customer_id</th>\n",
       "      <th>shop_id</th>\n",
       "      <th>loyalty</th>\n",
       "    </tr>\n",
       "  </thead>\n",
       "  <tbody>\n",
       "    <tr>\n",
       "      <td>0</td>\n",
       "      <td>538280</td>\n",
       "      <td>21873</td>\n",
       "      <td>11</td>\n",
       "      <td>2016-12-10 12:50:00</td>\n",
       "      <td>18427.0</td>\n",
       "      <td>Shop 0</td>\n",
       "      <td>0.0</td>\n",
       "    </tr>\n",
       "    <tr>\n",
       "      <td>1</td>\n",
       "      <td>538862</td>\n",
       "      <td>22195</td>\n",
       "      <td>0</td>\n",
       "      <td>2016-12-14 14:11:00</td>\n",
       "      <td>22389.0</td>\n",
       "      <td>Shop 0</td>\n",
       "      <td>1.0</td>\n",
       "    </tr>\n",
       "    <tr>\n",
       "      <td>2</td>\n",
       "      <td>538855</td>\n",
       "      <td>21239</td>\n",
       "      <td>7</td>\n",
       "      <td>2016-12-14 13:50:00</td>\n",
       "      <td>22182.0</td>\n",
       "      <td>Shop 0</td>\n",
       "      <td>1.0</td>\n",
       "    </tr>\n",
       "    <tr>\n",
       "      <td>3</td>\n",
       "      <td>543543</td>\n",
       "      <td>22271</td>\n",
       "      <td>0</td>\n",
       "      <td>2017-02-09 15:33:00</td>\n",
       "      <td>23522.0</td>\n",
       "      <td>Shop 0</td>\n",
       "      <td>1.0</td>\n",
       "    </tr>\n",
       "    <tr>\n",
       "      <td>4</td>\n",
       "      <td>543812</td>\n",
       "      <td>79321</td>\n",
       "      <td>0</td>\n",
       "      <td>2017-02-13 14:40:00</td>\n",
       "      <td>23151.0</td>\n",
       "      <td>Shop 0</td>\n",
       "      <td>1.0</td>\n",
       "    </tr>\n",
       "  </tbody>\n",
       "</table>\n",
       "</div>"
      ],
      "text/plain": [
       "  purchase_id product_id  quantity        purchase_date  customer_id shop_id  \\\n",
       "0      538280      21873        11  2016-12-10 12:50:00      18427.0  Shop 0   \n",
       "1      538862      22195         0  2016-12-14 14:11:00      22389.0  Shop 0   \n",
       "2      538855      21239         7  2016-12-14 13:50:00      22182.0  Shop 0   \n",
       "3      543543      22271         0  2017-02-09 15:33:00      23522.0  Shop 0   \n",
       "4      543812      79321         0  2017-02-13 14:40:00      23151.0  Shop 0   \n",
       "\n",
       "   loyalty  \n",
       "0      0.0  \n",
       "1      1.0  \n",
       "2      1.0  \n",
       "3      1.0  \n",
       "4      1.0  "
      ]
     },
     "execution_count": 5,
     "metadata": {},
     "output_type": "execute_result"
    }
   ],
   "source": [
    "df.columns = ['purchase_id', 'product_id', 'quantity', 'purchase_date', 'customer_id', 'shop_id', 'loyalty']\n",
    "df.head()"
   ]
  },
  {
   "cell_type": "code",
   "execution_count": 6,
   "metadata": {},
   "outputs": [
    {
     "data": {
      "text/html": [
       "<div>\n",
       "<style scoped>\n",
       "    .dataframe tbody tr th:only-of-type {\n",
       "        vertical-align: middle;\n",
       "    }\n",
       "\n",
       "    .dataframe tbody tr th {\n",
       "        vertical-align: top;\n",
       "    }\n",
       "\n",
       "    .dataframe thead th {\n",
       "        text-align: right;\n",
       "    }\n",
       "</style>\n",
       "<table border=\"1\" class=\"dataframe\">\n",
       "  <thead>\n",
       "    <tr style=\"text-align: right;\">\n",
       "      <th></th>\n",
       "      <th>product_id</th>\n",
       "      <th>price</th>\n",
       "    </tr>\n",
       "  </thead>\n",
       "  <tbody>\n",
       "    <tr>\n",
       "      <td>0</td>\n",
       "      <td>85123A</td>\n",
       "      <td>2.55</td>\n",
       "    </tr>\n",
       "    <tr>\n",
       "      <td>1</td>\n",
       "      <td>71053</td>\n",
       "      <td>3.39</td>\n",
       "    </tr>\n",
       "    <tr>\n",
       "      <td>2</td>\n",
       "      <td>84406B</td>\n",
       "      <td>2.75</td>\n",
       "    </tr>\n",
       "    <tr>\n",
       "      <td>3</td>\n",
       "      <td>84029G</td>\n",
       "      <td>3.39</td>\n",
       "    </tr>\n",
       "    <tr>\n",
       "      <td>4</td>\n",
       "      <td>84029E</td>\n",
       "      <td>3.39</td>\n",
       "    </tr>\n",
       "  </tbody>\n",
       "</table>\n",
       "</div>"
      ],
      "text/plain": [
       "  product_id  price\n",
       "0     85123A   2.55\n",
       "1      71053   3.39\n",
       "2     84406B   2.75\n",
       "3     84029G   3.39\n",
       "4     84029E   3.39"
      ]
     },
     "execution_count": 6,
     "metadata": {},
     "output_type": "execute_result"
    }
   ],
   "source": [
    "df_1.columns = ['product_id', 'price']\n",
    "df_1.head()"
   ]
  },
  {
   "cell_type": "markdown",
   "metadata": {},
   "source": [
    "### Поиск и обработка пропущенных значений\n",
    "\n",
    "Проверим наличие пропусков в данных и осуществим их обработку, если они присутствуют."
   ]
  },
  {
   "cell_type": "code",
   "execution_count": 7,
   "metadata": {},
   "outputs": [
    {
     "name": "stdout",
     "output_type": "stream",
     "text": [
      "<class 'pandas.core.frame.DataFrame'>\n",
      "RangeIndex: 105335 entries, 0 to 105334\n",
      "Data columns (total 7 columns):\n",
      "purchase_id      105335 non-null object\n",
      "product_id       105335 non-null object\n",
      "quantity         105335 non-null int64\n",
      "purchase_date    105335 non-null object\n",
      "customer_id      69125 non-null float64\n",
      "shop_id          105335 non-null object\n",
      "loyalty          105335 non-null float64\n",
      "dtypes: float64(2), int64(1), object(4)\n",
      "memory usage: 5.6+ MB\n"
     ]
    }
   ],
   "source": [
    "df.info()"
   ]
  },
  {
   "cell_type": "markdown",
   "metadata": {},
   "source": [
    "В столбце с идентификаторами пользователей имеется порядка 36 тысяч пропусков. Есть предположение, что часть пользовательских ID получится восстановить, взяв их из чека. Например, допустим в чеке есть наименование для которого ID указан, тогда этот идентификатор можно будет использовать и для других позиций чека."
   ]
  },
  {
   "cell_type": "code",
   "execution_count": 8,
   "metadata": {},
   "outputs": [
    {
     "data": {
      "text/html": [
       "<div>\n",
       "<style scoped>\n",
       "    .dataframe tbody tr th:only-of-type {\n",
       "        vertical-align: middle;\n",
       "    }\n",
       "\n",
       "    .dataframe tbody tr th {\n",
       "        vertical-align: top;\n",
       "    }\n",
       "\n",
       "    .dataframe thead th {\n",
       "        text-align: right;\n",
       "    }\n",
       "</style>\n",
       "<table border=\"1\" class=\"dataframe\">\n",
       "  <thead>\n",
       "    <tr style=\"text-align: right;\">\n",
       "      <th></th>\n",
       "      <th>purchase_id</th>\n",
       "      <th>product_id</th>\n",
       "      <th>quantity</th>\n",
       "      <th>purchase_date</th>\n",
       "      <th>customer_id</th>\n",
       "      <th>shop_id</th>\n",
       "      <th>loyalty</th>\n",
       "      <th>counter</th>\n",
       "    </tr>\n",
       "  </thead>\n",
       "  <tbody>\n",
       "    <tr>\n",
       "      <td>0</td>\n",
       "      <td>538280</td>\n",
       "      <td>21873</td>\n",
       "      <td>11</td>\n",
       "      <td>2016-12-10 12:50:00</td>\n",
       "      <td>18427.0</td>\n",
       "      <td>Shop 0</td>\n",
       "      <td>0.0</td>\n",
       "      <td>202697.0</td>\n",
       "    </tr>\n",
       "    <tr>\n",
       "      <td>1</td>\n",
       "      <td>538862</td>\n",
       "      <td>22195</td>\n",
       "      <td>0</td>\n",
       "      <td>2016-12-14 14:11:00</td>\n",
       "      <td>22389.0</td>\n",
       "      <td>Shop 0</td>\n",
       "      <td>1.0</td>\n",
       "      <td>380613.0</td>\n",
       "    </tr>\n",
       "    <tr>\n",
       "      <td>2</td>\n",
       "      <td>538855</td>\n",
       "      <td>21239</td>\n",
       "      <td>7</td>\n",
       "      <td>2016-12-14 13:50:00</td>\n",
       "      <td>22182.0</td>\n",
       "      <td>Shop 0</td>\n",
       "      <td>1.0</td>\n",
       "      <td>665460.0</td>\n",
       "    </tr>\n",
       "    <tr>\n",
       "      <td>3</td>\n",
       "      <td>543543</td>\n",
       "      <td>22271</td>\n",
       "      <td>0</td>\n",
       "      <td>2017-02-09 15:33:00</td>\n",
       "      <td>23522.0</td>\n",
       "      <td>Shop 0</td>\n",
       "      <td>1.0</td>\n",
       "      <td>870314.0</td>\n",
       "    </tr>\n",
       "    <tr>\n",
       "      <td>4</td>\n",
       "      <td>543812</td>\n",
       "      <td>79321</td>\n",
       "      <td>0</td>\n",
       "      <td>2017-02-13 14:40:00</td>\n",
       "      <td>23151.0</td>\n",
       "      <td>Shop 0</td>\n",
       "      <td>1.0</td>\n",
       "      <td>1504815.0</td>\n",
       "    </tr>\n",
       "    <tr>\n",
       "      <td>...</td>\n",
       "      <td>...</td>\n",
       "      <td>...</td>\n",
       "      <td>...</td>\n",
       "      <td>...</td>\n",
       "      <td>...</td>\n",
       "      <td>...</td>\n",
       "      <td>...</td>\n",
       "      <td>...</td>\n",
       "    </tr>\n",
       "    <tr>\n",
       "      <td>105328</td>\n",
       "      <td>537886</td>\n",
       "      <td>22158</td>\n",
       "      <td>7</td>\n",
       "      <td>2016-12-09 09:49:00</td>\n",
       "      <td>21339.0</td>\n",
       "      <td>Shop 0</td>\n",
       "      <td>0.0</td>\n",
       "      <td>213390.0</td>\n",
       "    </tr>\n",
       "    <tr>\n",
       "      <td>105331</td>\n",
       "      <td>540247</td>\n",
       "      <td>21742</td>\n",
       "      <td>0</td>\n",
       "      <td>2017-01-05 15:56:00</td>\n",
       "      <td>21143.0</td>\n",
       "      <td>Shop 0</td>\n",
       "      <td>0.0</td>\n",
       "      <td>3319451.0</td>\n",
       "    </tr>\n",
       "    <tr>\n",
       "      <td>105332</td>\n",
       "      <td>538068</td>\n",
       "      <td>85048</td>\n",
       "      <td>1</td>\n",
       "      <td>2016-12-09 14:05:00</td>\n",
       "      <td>23657.0</td>\n",
       "      <td>Shop 0</td>\n",
       "      <td>1.0</td>\n",
       "      <td>283884.0</td>\n",
       "    </tr>\n",
       "    <tr>\n",
       "      <td>105333</td>\n",
       "      <td>538207</td>\n",
       "      <td>22818</td>\n",
       "      <td>11</td>\n",
       "      <td>2016-12-10 11:33:00</td>\n",
       "      <td>18427.0</td>\n",
       "      <td>Shop 0</td>\n",
       "      <td>0.0</td>\n",
       "      <td>1013485.0</td>\n",
       "    </tr>\n",
       "    <tr>\n",
       "      <td>105334</td>\n",
       "      <td>543977</td>\n",
       "      <td>22384</td>\n",
       "      <td>9</td>\n",
       "      <td>2017-02-14 15:35:00</td>\n",
       "      <td>21294.0</td>\n",
       "      <td>Shop 0</td>\n",
       "      <td>0.0</td>\n",
       "      <td>532350.0</td>\n",
       "    </tr>\n",
       "  </tbody>\n",
       "</table>\n",
       "<p>69125 rows × 8 columns</p>\n",
       "</div>"
      ],
      "text/plain": [
       "       purchase_id product_id  quantity        purchase_date  customer_id  \\\n",
       "0           538280      21873        11  2016-12-10 12:50:00      18427.0   \n",
       "1           538862      22195         0  2016-12-14 14:11:00      22389.0   \n",
       "2           538855      21239         7  2016-12-14 13:50:00      22182.0   \n",
       "3           543543      22271         0  2017-02-09 15:33:00      23522.0   \n",
       "4           543812      79321         0  2017-02-13 14:40:00      23151.0   \n",
       "...            ...        ...       ...                  ...          ...   \n",
       "105328      537886      22158         7  2016-12-09 09:49:00      21339.0   \n",
       "105331      540247      21742         0  2017-01-05 15:56:00      21143.0   \n",
       "105332      538068      85048         1  2016-12-09 14:05:00      23657.0   \n",
       "105333      538207      22818        11  2016-12-10 11:33:00      18427.0   \n",
       "105334      543977      22384         9  2017-02-14 15:35:00      21294.0   \n",
       "\n",
       "       shop_id  loyalty    counter  \n",
       "0       Shop 0      0.0   202697.0  \n",
       "1       Shop 0      1.0   380613.0  \n",
       "2       Shop 0      1.0   665460.0  \n",
       "3       Shop 0      1.0   870314.0  \n",
       "4       Shop 0      1.0  1504815.0  \n",
       "...        ...      ...        ...  \n",
       "105328  Shop 0      0.0   213390.0  \n",
       "105331  Shop 0      0.0  3319451.0  \n",
       "105332  Shop 0      1.0   283884.0  \n",
       "105333  Shop 0      0.0  1013485.0  \n",
       "105334  Shop 0      0.0   532350.0  \n",
       "\n",
       "[69125 rows x 8 columns]"
      ]
     },
     "execution_count": 8,
     "metadata": {},
     "output_type": "execute_result"
    }
   ],
   "source": [
    "df['counter'] = df.groupby('purchase_id')['customer_id'].transform('sum')\n",
    "df[df['counter'] != 0]"
   ]
  },
  {
   "cell_type": "code",
   "execution_count": 9,
   "metadata": {},
   "outputs": [],
   "source": [
    "df =  df.drop('counter', axis=1)"
   ]
  },
  {
   "cell_type": "markdown",
   "metadata": {},
   "source": [
    "К сожалению не удалось восстановить ниодного идентификатора, NaN значения столбца 'customer_id' были для всего чека.\n",
    "На данном этапе просто заменим пропуски на значение - 'Unknown'."
   ]
  },
  {
   "cell_type": "code",
   "execution_count": 10,
   "metadata": {},
   "outputs": [],
   "source": [
    "df['customer_id'] = df['customer_id'].fillna('Unknown')"
   ]
  },
  {
   "cell_type": "markdown",
   "metadata": {},
   "source": [
    "### Поиск и обработка дубликатов\n",
    "\n",
    "Проверим имеются ли в данных дубликаты и избавися от них."
   ]
  },
  {
   "cell_type": "code",
   "execution_count": 11,
   "metadata": {},
   "outputs": [
    {
     "name": "stdout",
     "output_type": "stream",
     "text": [
      "Количество дубликатов в df: 1033\n"
     ]
    }
   ],
   "source": [
    "print(f'Количество дубликатов в df: {df.duplicated().sum()}')"
   ]
  },
  {
   "cell_type": "markdown",
   "metadata": {},
   "source": [
    "Обнаружено 1033 дубликата, вот только дубликаты у которых количество товара равно 1, можно посчитать просто как товар который был внесен в чек более одного раза, вместо увеличения количества товара в изначальной позиции. Поэтому эти данные нужно оставить, а вот дубликаты с количеством товара более одного, больше похожы на \"мусор\", от них нужно избавиться."
   ]
  },
  {
   "cell_type": "code",
   "execution_count": 12,
   "metadata": {},
   "outputs": [
    {
     "data": {
      "text/html": [
       "<div>\n",
       "<style scoped>\n",
       "    .dataframe tbody tr th:only-of-type {\n",
       "        vertical-align: middle;\n",
       "    }\n",
       "\n",
       "    .dataframe tbody tr th {\n",
       "        vertical-align: top;\n",
       "    }\n",
       "\n",
       "    .dataframe thead th {\n",
       "        text-align: right;\n",
       "    }\n",
       "</style>\n",
       "<table border=\"1\" class=\"dataframe\">\n",
       "  <thead>\n",
       "    <tr style=\"text-align: right;\">\n",
       "      <th></th>\n",
       "      <th>purchase_id</th>\n",
       "      <th>product_id</th>\n",
       "      <th>quantity</th>\n",
       "      <th>purchase_date</th>\n",
       "      <th>customer_id</th>\n",
       "      <th>shop_id</th>\n",
       "      <th>loyalty</th>\n",
       "    </tr>\n",
       "  </thead>\n",
       "  <tbody>\n",
       "    <tr>\n",
       "      <td>0</td>\n",
       "      <td>538280</td>\n",
       "      <td>21873</td>\n",
       "      <td>11</td>\n",
       "      <td>2016-12-10 12:50:00</td>\n",
       "      <td>18427</td>\n",
       "      <td>Shop 0</td>\n",
       "      <td>0.0</td>\n",
       "    </tr>\n",
       "    <tr>\n",
       "      <td>1</td>\n",
       "      <td>538862</td>\n",
       "      <td>22195</td>\n",
       "      <td>0</td>\n",
       "      <td>2016-12-14 14:11:00</td>\n",
       "      <td>22389</td>\n",
       "      <td>Shop 0</td>\n",
       "      <td>1.0</td>\n",
       "    </tr>\n",
       "    <tr>\n",
       "      <td>2</td>\n",
       "      <td>538855</td>\n",
       "      <td>21239</td>\n",
       "      <td>7</td>\n",
       "      <td>2016-12-14 13:50:00</td>\n",
       "      <td>22182</td>\n",
       "      <td>Shop 0</td>\n",
       "      <td>1.0</td>\n",
       "    </tr>\n",
       "    <tr>\n",
       "      <td>3</td>\n",
       "      <td>543543</td>\n",
       "      <td>22271</td>\n",
       "      <td>0</td>\n",
       "      <td>2017-02-09 15:33:00</td>\n",
       "      <td>23522</td>\n",
       "      <td>Shop 0</td>\n",
       "      <td>1.0</td>\n",
       "    </tr>\n",
       "    <tr>\n",
       "      <td>4</td>\n",
       "      <td>543812</td>\n",
       "      <td>79321</td>\n",
       "      <td>0</td>\n",
       "      <td>2017-02-13 14:40:00</td>\n",
       "      <td>23151</td>\n",
       "      <td>Shop 0</td>\n",
       "      <td>1.0</td>\n",
       "    </tr>\n",
       "  </tbody>\n",
       "</table>\n",
       "</div>"
      ],
      "text/plain": [
       "  purchase_id product_id  quantity        purchase_date customer_id shop_id  \\\n",
       "0      538280      21873        11  2016-12-10 12:50:00       18427  Shop 0   \n",
       "1      538862      22195         0  2016-12-14 14:11:00       22389  Shop 0   \n",
       "2      538855      21239         7  2016-12-14 13:50:00       22182  Shop 0   \n",
       "3      543543      22271         0  2017-02-09 15:33:00       23522  Shop 0   \n",
       "4      543812      79321         0  2017-02-13 14:40:00       23151  Shop 0   \n",
       "\n",
       "   loyalty  \n",
       "0      0.0  \n",
       "1      1.0  \n",
       "2      1.0  \n",
       "3      1.0  \n",
       "4      1.0  "
      ]
     },
     "metadata": {},
     "output_type": "display_data"
    },
    {
     "name": "stdout",
     "output_type": "stream",
     "text": [
      "Количество строк в датасете: 104423\n"
     ]
    }
   ],
   "source": [
    "df = df[(~df.duplicated()) | ((df.duplicated()) & (df['quantity'] == 1))]\n",
    "df = df.reset_index(drop=True)\n",
    "display(df.head())\n",
    "print(f'Количество строк в датасете: {df.shape[0]}')"
   ]
  },
  {
   "cell_type": "code",
   "execution_count": 13,
   "metadata": {},
   "outputs": [
    {
     "name": "stdout",
     "output_type": "stream",
     "text": [
      "Количество дубликатов в df_1: 0\n"
     ]
    }
   ],
   "source": [
    "print(f'Количество дубликатов в df_1: {df_1.duplicated().sum()}')"
   ]
  },
  {
   "cell_type": "code",
   "execution_count": 14,
   "metadata": {},
   "outputs": [
    {
     "name": "stdout",
     "output_type": "stream",
     "text": [
      "Количество уникальных product_id: 3159\n"
     ]
    }
   ],
   "source": [
    "print(f'Количество уникальных product_id: {df_1[\"product_id\"].nunique()}')"
   ]
  },
  {
   "cell_type": "markdown",
   "metadata": {},
   "source": [
    "На некоторые товары имеется несколько цен, что совершенно неприемлимо. Так же имеются товары с нулевой ценой, поскольку как-либо восстановить эти данные не имеется возможности, их следует удалить. Вероятнее всего эти ошибки вызванны системными или техническими сбоями."
   ]
  },
  {
   "cell_type": "code",
   "execution_count": 15,
   "metadata": {},
   "outputs": [],
   "source": [
    "df_1 = df_1[df_1['price'] != 0]"
   ]
  },
  {
   "cell_type": "markdown",
   "metadata": {},
   "source": [
    "Предположительно, различние цены на одни и те же товары возникли из-за того, что в разных магазинах они могут отличаться, или это стоимости товара с учетом скидки и без нее. Избавимся от большого количества значений цены, просто взяв среднее значение от всех стоимостей товара."
   ]
  },
  {
   "cell_type": "code",
   "execution_count": 16,
   "metadata": {},
   "outputs": [
    {
     "data": {
      "text/html": [
       "<div>\n",
       "<style scoped>\n",
       "    .dataframe tbody tr th:only-of-type {\n",
       "        vertical-align: middle;\n",
       "    }\n",
       "\n",
       "    .dataframe tbody tr th {\n",
       "        vertical-align: top;\n",
       "    }\n",
       "\n",
       "    .dataframe thead th {\n",
       "        text-align: right;\n",
       "    }\n",
       "</style>\n",
       "<table border=\"1\" class=\"dataframe\">\n",
       "  <thead>\n",
       "    <tr style=\"text-align: right;\">\n",
       "      <th></th>\n",
       "      <th>product_id</th>\n",
       "      <th>price</th>\n",
       "    </tr>\n",
       "  </thead>\n",
       "  <tbody>\n",
       "    <tr>\n",
       "      <td>0</td>\n",
       "      <td>10002</td>\n",
       "      <td>1.38</td>\n",
       "    </tr>\n",
       "    <tr>\n",
       "      <td>1</td>\n",
       "      <td>10080</td>\n",
       "      <td>0.85</td>\n",
       "    </tr>\n",
       "    <tr>\n",
       "      <td>2</td>\n",
       "      <td>10120</td>\n",
       "      <td>0.21</td>\n",
       "    </tr>\n",
       "    <tr>\n",
       "      <td>3</td>\n",
       "      <td>10123C</td>\n",
       "      <td>0.65</td>\n",
       "    </tr>\n",
       "    <tr>\n",
       "      <td>4</td>\n",
       "      <td>10124A</td>\n",
       "      <td>0.42</td>\n",
       "    </tr>\n",
       "    <tr>\n",
       "      <td>...</td>\n",
       "      <td>...</td>\n",
       "      <td>...</td>\n",
       "    </tr>\n",
       "    <tr>\n",
       "      <td>3097</td>\n",
       "      <td>gift_0001_20</td>\n",
       "      <td>16.84</td>\n",
       "    </tr>\n",
       "    <tr>\n",
       "      <td>3098</td>\n",
       "      <td>gift_0001_30</td>\n",
       "      <td>25.26</td>\n",
       "    </tr>\n",
       "    <tr>\n",
       "      <td>3099</td>\n",
       "      <td>gift_0001_40</td>\n",
       "      <td>34.04</td>\n",
       "    </tr>\n",
       "    <tr>\n",
       "      <td>3100</td>\n",
       "      <td>gift_0001_50</td>\n",
       "      <td>42.55</td>\n",
       "    </tr>\n",
       "    <tr>\n",
       "      <td>3101</td>\n",
       "      <td>m</td>\n",
       "      <td>2.55</td>\n",
       "    </tr>\n",
       "  </tbody>\n",
       "</table>\n",
       "<p>3102 rows × 2 columns</p>\n",
       "</div>"
      ],
      "text/plain": [
       "        product_id  price\n",
       "0            10002   1.38\n",
       "1            10080   0.85\n",
       "2            10120   0.21\n",
       "3           10123C   0.65\n",
       "4           10124A   0.42\n",
       "...            ...    ...\n",
       "3097  gift_0001_20  16.84\n",
       "3098  gift_0001_30  25.26\n",
       "3099  gift_0001_40  34.04\n",
       "3100  gift_0001_50  42.55\n",
       "3101             m   2.55\n",
       "\n",
       "[3102 rows x 2 columns]"
      ]
     },
     "execution_count": 16,
     "metadata": {},
     "output_type": "execute_result"
    }
   ],
   "source": [
    "df_1 = df_1.groupby('product_id').mean().reset_index()\n",
    "df_1['price'] = df_1['price'].round(2)\n",
    "df_1"
   ]
  },
  {
   "cell_type": "markdown",
   "metadata": {},
   "source": [
    "Было утеряно 52 наименования товара, так как не было возможности восстановить нулевые значения цены товара."
   ]
  },
  {
   "cell_type": "markdown",
   "metadata": {},
   "source": [
    "### Приведение данных к нужным типам\n",
    "\n",
    "Измененим типы данных, для простоты и дальнейшего удобства в работе с ними."
   ]
  },
  {
   "cell_type": "code",
   "execution_count": 17,
   "metadata": {},
   "outputs": [
    {
     "data": {
      "text/plain": [
       "purchase_id       object\n",
       "product_id        object\n",
       "quantity           int64\n",
       "purchase_date     object\n",
       "customer_id       object\n",
       "shop_id           object\n",
       "loyalty          float64\n",
       "dtype: object"
      ]
     },
     "execution_count": 17,
     "metadata": {},
     "output_type": "execute_result"
    }
   ],
   "source": [
    "df.dtypes"
   ]
  },
  {
   "cell_type": "markdown",
   "metadata": {},
   "source": [
    "Поменяем типы в столбцах: 'purchase_date', 'loyalty' и 'customer_id'."
   ]
  },
  {
   "cell_type": "code",
   "execution_count": 18,
   "metadata": {},
   "outputs": [],
   "source": [
    "df['purchase_date'] = pd.to_datetime(df['purchase_date'], format='%Y-%m-%d %H:%M:%S')"
   ]
  },
  {
   "cell_type": "code",
   "execution_count": 19,
   "metadata": {},
   "outputs": [],
   "source": [
    "df['loyalty'] = df['loyalty'].astype('int')"
   ]
  },
  {
   "cell_type": "code",
   "execution_count": 20,
   "metadata": {},
   "outputs": [
    {
     "data": {
      "text/html": [
       "<div>\n",
       "<style scoped>\n",
       "    .dataframe tbody tr th:only-of-type {\n",
       "        vertical-align: middle;\n",
       "    }\n",
       "\n",
       "    .dataframe tbody tr th {\n",
       "        vertical-align: top;\n",
       "    }\n",
       "\n",
       "    .dataframe thead th {\n",
       "        text-align: right;\n",
       "    }\n",
       "</style>\n",
       "<table border=\"1\" class=\"dataframe\">\n",
       "  <thead>\n",
       "    <tr style=\"text-align: right;\">\n",
       "      <th></th>\n",
       "      <th>purchase_id</th>\n",
       "      <th>product_id</th>\n",
       "      <th>quantity</th>\n",
       "      <th>purchase_date</th>\n",
       "      <th>customer_id</th>\n",
       "      <th>shop_id</th>\n",
       "      <th>loyalty</th>\n",
       "    </tr>\n",
       "  </thead>\n",
       "  <tbody>\n",
       "    <tr>\n",
       "      <td>0</td>\n",
       "      <td>538280</td>\n",
       "      <td>21873</td>\n",
       "      <td>11</td>\n",
       "      <td>2016-12-10 12:50:00</td>\n",
       "      <td>18427</td>\n",
       "      <td>Shop 0</td>\n",
       "      <td>0</td>\n",
       "    </tr>\n",
       "    <tr>\n",
       "      <td>1</td>\n",
       "      <td>538862</td>\n",
       "      <td>22195</td>\n",
       "      <td>0</td>\n",
       "      <td>2016-12-14 14:11:00</td>\n",
       "      <td>22389</td>\n",
       "      <td>Shop 0</td>\n",
       "      <td>1</td>\n",
       "    </tr>\n",
       "    <tr>\n",
       "      <td>2</td>\n",
       "      <td>538855</td>\n",
       "      <td>21239</td>\n",
       "      <td>7</td>\n",
       "      <td>2016-12-14 13:50:00</td>\n",
       "      <td>22182</td>\n",
       "      <td>Shop 0</td>\n",
       "      <td>1</td>\n",
       "    </tr>\n",
       "    <tr>\n",
       "      <td>3</td>\n",
       "      <td>543543</td>\n",
       "      <td>22271</td>\n",
       "      <td>0</td>\n",
       "      <td>2017-02-09 15:33:00</td>\n",
       "      <td>23522</td>\n",
       "      <td>Shop 0</td>\n",
       "      <td>1</td>\n",
       "    </tr>\n",
       "    <tr>\n",
       "      <td>4</td>\n",
       "      <td>543812</td>\n",
       "      <td>79321</td>\n",
       "      <td>0</td>\n",
       "      <td>2017-02-13 14:40:00</td>\n",
       "      <td>23151</td>\n",
       "      <td>Shop 0</td>\n",
       "      <td>1</td>\n",
       "    </tr>\n",
       "    <tr>\n",
       "      <td>...</td>\n",
       "      <td>...</td>\n",
       "      <td>...</td>\n",
       "      <td>...</td>\n",
       "      <td>...</td>\n",
       "      <td>...</td>\n",
       "      <td>...</td>\n",
       "      <td>...</td>\n",
       "    </tr>\n",
       "    <tr>\n",
       "      <td>104418</td>\n",
       "      <td>538566</td>\n",
       "      <td>21826</td>\n",
       "      <td>1</td>\n",
       "      <td>2016-12-13 11:21:00</td>\n",
       "      <td>Unknown</td>\n",
       "      <td>Shop 0</td>\n",
       "      <td>0</td>\n",
       "    </tr>\n",
       "    <tr>\n",
       "      <td>104419</td>\n",
       "      <td>540247</td>\n",
       "      <td>21742</td>\n",
       "      <td>0</td>\n",
       "      <td>2017-01-05 15:56:00</td>\n",
       "      <td>21143</td>\n",
       "      <td>Shop 0</td>\n",
       "      <td>0</td>\n",
       "    </tr>\n",
       "    <tr>\n",
       "      <td>104420</td>\n",
       "      <td>538068</td>\n",
       "      <td>85048</td>\n",
       "      <td>1</td>\n",
       "      <td>2016-12-09 14:05:00</td>\n",
       "      <td>23657</td>\n",
       "      <td>Shop 0</td>\n",
       "      <td>1</td>\n",
       "    </tr>\n",
       "    <tr>\n",
       "      <td>104421</td>\n",
       "      <td>538207</td>\n",
       "      <td>22818</td>\n",
       "      <td>11</td>\n",
       "      <td>2016-12-10 11:33:00</td>\n",
       "      <td>18427</td>\n",
       "      <td>Shop 0</td>\n",
       "      <td>0</td>\n",
       "    </tr>\n",
       "    <tr>\n",
       "      <td>104422</td>\n",
       "      <td>543977</td>\n",
       "      <td>22384</td>\n",
       "      <td>9</td>\n",
       "      <td>2017-02-14 15:35:00</td>\n",
       "      <td>21294</td>\n",
       "      <td>Shop 0</td>\n",
       "      <td>0</td>\n",
       "    </tr>\n",
       "  </tbody>\n",
       "</table>\n",
       "<p>104423 rows × 7 columns</p>\n",
       "</div>"
      ],
      "text/plain": [
       "       purchase_id product_id  quantity       purchase_date customer_id  \\\n",
       "0           538280      21873        11 2016-12-10 12:50:00       18427   \n",
       "1           538862      22195         0 2016-12-14 14:11:00       22389   \n",
       "2           538855      21239         7 2016-12-14 13:50:00       22182   \n",
       "3           543543      22271         0 2017-02-09 15:33:00       23522   \n",
       "4           543812      79321         0 2017-02-13 14:40:00       23151   \n",
       "...            ...        ...       ...                 ...         ...   \n",
       "104418      538566      21826         1 2016-12-13 11:21:00     Unknown   \n",
       "104419      540247      21742         0 2017-01-05 15:56:00       21143   \n",
       "104420      538068      85048         1 2016-12-09 14:05:00       23657   \n",
       "104421      538207      22818        11 2016-12-10 11:33:00       18427   \n",
       "104422      543977      22384         9 2017-02-14 15:35:00       21294   \n",
       "\n",
       "       shop_id  loyalty  \n",
       "0       Shop 0        0  \n",
       "1       Shop 0        1  \n",
       "2       Shop 0        1  \n",
       "3       Shop 0        1  \n",
       "4       Shop 0        1  \n",
       "...        ...      ...  \n",
       "104418  Shop 0        0  \n",
       "104419  Shop 0        0  \n",
       "104420  Shop 0        1  \n",
       "104421  Shop 0        0  \n",
       "104422  Shop 0        0  \n",
       "\n",
       "[104423 rows x 7 columns]"
      ]
     },
     "execution_count": 20,
     "metadata": {},
     "output_type": "execute_result"
    }
   ],
   "source": [
    "df['customer_id'] = df['customer_id'].astype('int', errors='ignore')\n",
    "df"
   ]
  },
  {
   "cell_type": "code",
   "execution_count": 21,
   "metadata": {},
   "outputs": [
    {
     "data": {
      "text/plain": [
       "purchase_id              object\n",
       "product_id               object\n",
       "quantity                  int64\n",
       "purchase_date    datetime64[ns]\n",
       "customer_id              object\n",
       "shop_id                  object\n",
       "loyalty                   int32\n",
       "dtype: object"
      ]
     },
     "execution_count": 21,
     "metadata": {},
     "output_type": "execute_result"
    }
   ],
   "source": [
    "df.dtypes"
   ]
  },
  {
   "cell_type": "markdown",
   "metadata": {},
   "source": [
    "В столбце 'customer_id' отображатеся тип данных object, но это верно только для ячеек со сзначениями Unknown, все другие же ячейки имеют целочисленный тип.\n",
    "\n",
    "Итак, данные имеют наиболее подходящие типы. Предобработка данных завершена и теперь можно приступать к исследовательскому анализу данных."
   ]
  },
  {
   "cell_type": "markdown",
   "metadata": {},
   "source": [
    "## Исследовательский анализ данных\n",
    "\n",
    "Рассмотрим подробно имеющиеся данные, исследуем их распределения, максимумы, минимумы, средние занчения, и проверим наличие выбросов."
   ]
  },
  {
   "cell_type": "markdown",
   "metadata": {},
   "source": [
    "### Объединение датафреймов\n",
    "\n",
    "Соединененим два датафрейма в один, тем самым дополнив первый датафрейм данными о цене товаров."
   ]
  },
  {
   "cell_type": "code",
   "execution_count": 22,
   "metadata": {},
   "outputs": [
    {
     "data": {
      "text/html": [
       "<div>\n",
       "<style scoped>\n",
       "    .dataframe tbody tr th:only-of-type {\n",
       "        vertical-align: middle;\n",
       "    }\n",
       "\n",
       "    .dataframe tbody tr th {\n",
       "        vertical-align: top;\n",
       "    }\n",
       "\n",
       "    .dataframe thead th {\n",
       "        text-align: right;\n",
       "    }\n",
       "</style>\n",
       "<table border=\"1\" class=\"dataframe\">\n",
       "  <thead>\n",
       "    <tr style=\"text-align: right;\">\n",
       "      <th></th>\n",
       "      <th>purchase_id</th>\n",
       "      <th>product_id</th>\n",
       "      <th>quantity</th>\n",
       "      <th>purchase_date</th>\n",
       "      <th>customer_id</th>\n",
       "      <th>shop_id</th>\n",
       "      <th>loyalty</th>\n",
       "      <th>price</th>\n",
       "    </tr>\n",
       "  </thead>\n",
       "  <tbody>\n",
       "    <tr>\n",
       "      <td>0</td>\n",
       "      <td>538280</td>\n",
       "      <td>21873</td>\n",
       "      <td>11</td>\n",
       "      <td>2016-12-10 12:50:00</td>\n",
       "      <td>18427</td>\n",
       "      <td>Shop 0</td>\n",
       "      <td>0</td>\n",
       "      <td>1.81</td>\n",
       "    </tr>\n",
       "    <tr>\n",
       "      <td>1</td>\n",
       "      <td>541104</td>\n",
       "      <td>21873</td>\n",
       "      <td>0</td>\n",
       "      <td>2017-01-13 14:29:00</td>\n",
       "      <td>Unknown</td>\n",
       "      <td>Shop 0</td>\n",
       "      <td>0</td>\n",
       "      <td>1.81</td>\n",
       "    </tr>\n",
       "    <tr>\n",
       "      <td>2</td>\n",
       "      <td>540418</td>\n",
       "      <td>21873</td>\n",
       "      <td>1</td>\n",
       "      <td>2017-01-07 11:04:00</td>\n",
       "      <td>Unknown</td>\n",
       "      <td>Shop 0</td>\n",
       "      <td>0</td>\n",
       "      <td>1.81</td>\n",
       "    </tr>\n",
       "    <tr>\n",
       "      <td>3</td>\n",
       "      <td>541516</td>\n",
       "      <td>21873</td>\n",
       "      <td>2</td>\n",
       "      <td>2017-01-18 17:34:00</td>\n",
       "      <td>Unknown</td>\n",
       "      <td>Shop 0</td>\n",
       "      <td>0</td>\n",
       "      <td>1.81</td>\n",
       "    </tr>\n",
       "    <tr>\n",
       "      <td>4</td>\n",
       "      <td>541566</td>\n",
       "      <td>21873</td>\n",
       "      <td>35</td>\n",
       "      <td>2017-01-19 11:50:00</td>\n",
       "      <td>23401</td>\n",
       "      <td>Shop 0</td>\n",
       "      <td>1</td>\n",
       "      <td>1.81</td>\n",
       "    </tr>\n",
       "    <tr>\n",
       "      <td>...</td>\n",
       "      <td>...</td>\n",
       "      <td>...</td>\n",
       "      <td>...</td>\n",
       "      <td>...</td>\n",
       "      <td>...</td>\n",
       "      <td>...</td>\n",
       "      <td>...</td>\n",
       "      <td>...</td>\n",
       "    </tr>\n",
       "    <tr>\n",
       "      <td>104359</td>\n",
       "      <td>538852</td>\n",
       "      <td>90058B</td>\n",
       "      <td>35</td>\n",
       "      <td>2016-12-14 13:33:00</td>\n",
       "      <td>23051</td>\n",
       "      <td>Shop 0</td>\n",
       "      <td>1</td>\n",
       "      <td>0.38</td>\n",
       "    </tr>\n",
       "    <tr>\n",
       "      <td>104360</td>\n",
       "      <td>539988</td>\n",
       "      <td>46138B</td>\n",
       "      <td>1</td>\n",
       "      <td>2016-12-23 16:06:00</td>\n",
       "      <td>23795</td>\n",
       "      <td>Shop 0</td>\n",
       "      <td>1</td>\n",
       "      <td>1.95</td>\n",
       "    </tr>\n",
       "    <tr>\n",
       "      <td>104361</td>\n",
       "      <td>537025</td>\n",
       "      <td>90053</td>\n",
       "      <td>0</td>\n",
       "      <td>2016-12-03 16:21:00</td>\n",
       "      <td>Unknown</td>\n",
       "      <td>Shop 0</td>\n",
       "      <td>0</td>\n",
       "      <td>2.55</td>\n",
       "    </tr>\n",
       "    <tr>\n",
       "      <td>104362</td>\n",
       "      <td>542731</td>\n",
       "      <td>17028J</td>\n",
       "      <td>5</td>\n",
       "      <td>2017-01-31 15:27:00</td>\n",
       "      <td>19279</td>\n",
       "      <td>Shop 0</td>\n",
       "      <td>0</td>\n",
       "      <td>0.42</td>\n",
       "    </tr>\n",
       "    <tr>\n",
       "      <td>104363</td>\n",
       "      <td>C540246</td>\n",
       "      <td>79320</td>\n",
       "      <td>-2</td>\n",
       "      <td>2017-01-05 15:43:00</td>\n",
       "      <td>18760</td>\n",
       "      <td>Shop 0</td>\n",
       "      <td>0</td>\n",
       "      <td>4.95</td>\n",
       "    </tr>\n",
       "  </tbody>\n",
       "</table>\n",
       "<p>104364 rows × 8 columns</p>\n",
       "</div>"
      ],
      "text/plain": [
       "       purchase_id product_id  quantity       purchase_date customer_id  \\\n",
       "0           538280      21873        11 2016-12-10 12:50:00       18427   \n",
       "1           541104      21873         0 2017-01-13 14:29:00     Unknown   \n",
       "2           540418      21873         1 2017-01-07 11:04:00     Unknown   \n",
       "3           541516      21873         2 2017-01-18 17:34:00     Unknown   \n",
       "4           541566      21873        35 2017-01-19 11:50:00       23401   \n",
       "...            ...        ...       ...                 ...         ...   \n",
       "104359      538852     90058B        35 2016-12-14 13:33:00       23051   \n",
       "104360      539988     46138B         1 2016-12-23 16:06:00       23795   \n",
       "104361      537025      90053         0 2016-12-03 16:21:00     Unknown   \n",
       "104362      542731     17028J         5 2017-01-31 15:27:00       19279   \n",
       "104363     C540246      79320        -2 2017-01-05 15:43:00       18760   \n",
       "\n",
       "       shop_id  loyalty  price  \n",
       "0       Shop 0        0   1.81  \n",
       "1       Shop 0        0   1.81  \n",
       "2       Shop 0        0   1.81  \n",
       "3       Shop 0        0   1.81  \n",
       "4       Shop 0        1   1.81  \n",
       "...        ...      ...    ...  \n",
       "104359  Shop 0        1   0.38  \n",
       "104360  Shop 0        1   1.95  \n",
       "104361  Shop 0        0   2.55  \n",
       "104362  Shop 0        0   0.42  \n",
       "104363  Shop 0        0   4.95  \n",
       "\n",
       "[104364 rows x 8 columns]"
      ]
     },
     "execution_count": 22,
     "metadata": {},
     "output_type": "execute_result"
    }
   ],
   "source": [
    "df = df.merge(df_1)\n",
    "df"
   ]
  },
  {
   "cell_type": "markdown",
   "metadata": {},
   "source": [
    "### Изучение имеющихся данных"
   ]
  },
  {
   "cell_type": "code",
   "execution_count": 23,
   "metadata": {},
   "outputs": [
    {
     "data": {
      "text/plain": [
       "Shop 0     96432\n",
       "Shop 4      1739\n",
       "Shop 1      1540\n",
       "Shop 6      1030\n",
       "Shop 8       560\n",
       "Shop 3       492\n",
       "Shop 7       312\n",
       "Shop 10      299\n",
       "Shop 12      278\n",
       "Shop 18      255\n",
       "Shop 2       252\n",
       "Shop 5       179\n",
       "Shop 11      169\n",
       "Shop 14      154\n",
       "Shop 19       74\n",
       "Shop 9        61\n",
       "Shop 15       60\n",
       "Shop 16       59\n",
       "Shop 26       56\n",
       "Shop 25       53\n",
       "Shop 27       45\n",
       "Shop 22       40\n",
       "Shop 17       40\n",
       "Shop 13       35\n",
       "Shop 24       32\n",
       "Shop 21       32\n",
       "Shop 20       30\n",
       "Shop 28       30\n",
       "Shop 30       15\n",
       "Shop 29        9\n",
       "Shop 23        2\n",
       "Name: shop_id, dtype: int64"
      ]
     },
     "execution_count": 23,
     "metadata": {},
     "output_type": "execute_result"
    }
   ],
   "source": [
    "df['shop_id'].value_counts()"
   ]
  },
  {
   "cell_type": "code",
   "execution_count": 24,
   "metadata": {},
   "outputs": [
    {
     "data": {
      "text/plain": [
       "count                  104364\n",
       "unique                   4408\n",
       "top       2016-12-06 16:57:00\n",
       "freq                      675\n",
       "first     2016-12-01 08:26:00\n",
       "last      2017-02-28 17:01:00\n",
       "Name: purchase_date, dtype: object"
      ]
     },
     "execution_count": 24,
     "metadata": {},
     "output_type": "execute_result"
    }
   ],
   "source": [
    "df['purchase_date'].describe()"
   ]
  },
  {
   "cell_type": "markdown",
   "metadata": {},
   "source": [
    "Итак, мы располагаем вседениями о покупках в 31 магазине за декабрь, январь и ферваль. Наибольшая доля данных приходится на магазин - Shop 0, предположительно это интернет-магазин, поэтому и такое большое количество наименований. Так же в некоторых магазинах за данных период было совершенно очень малое количество покупок, скорее всего по такому малому количеству данных не получится сделать выводы."
   ]
  },
  {
   "cell_type": "markdown",
   "metadata": {},
   "source": [
    "Теперь рассмотрим распределения в количественных данных:"
   ]
  },
  {
   "cell_type": "code",
   "execution_count": 25,
   "metadata": {},
   "outputs": [
    {
     "data": {
      "text/html": [
       "<div>\n",
       "<style scoped>\n",
       "    .dataframe tbody tr th:only-of-type {\n",
       "        vertical-align: middle;\n",
       "    }\n",
       "\n",
       "    .dataframe tbody tr th {\n",
       "        vertical-align: top;\n",
       "    }\n",
       "\n",
       "    .dataframe thead th {\n",
       "        text-align: right;\n",
       "    }\n",
       "</style>\n",
       "<table border=\"1\" class=\"dataframe\">\n",
       "  <thead>\n",
       "    <tr style=\"text-align: right;\">\n",
       "      <th></th>\n",
       "      <th>quantity</th>\n",
       "      <th>loyalty</th>\n",
       "      <th>price</th>\n",
       "    </tr>\n",
       "  </thead>\n",
       "  <tbody>\n",
       "    <tr>\n",
       "      <td>count</td>\n",
       "      <td>104364.000000</td>\n",
       "      <td>104364.000000</td>\n",
       "      <td>104364.000000</td>\n",
       "    </tr>\n",
       "    <tr>\n",
       "      <td>mean</td>\n",
       "      <td>7.891074</td>\n",
       "      <td>0.224886</td>\n",
       "      <td>6.124043</td>\n",
       "    </tr>\n",
       "    <tr>\n",
       "      <td>std</td>\n",
       "      <td>329.397197</td>\n",
       "      <td>0.417509</td>\n",
       "      <td>96.265283</td>\n",
       "    </tr>\n",
       "    <tr>\n",
       "      <td>min</td>\n",
       "      <td>-74216.000000</td>\n",
       "      <td>0.000000</td>\n",
       "      <td>0.120000</td>\n",
       "    </tr>\n",
       "    <tr>\n",
       "      <td>25%</td>\n",
       "      <td>0.000000</td>\n",
       "      <td>0.000000</td>\n",
       "      <td>1.820000</td>\n",
       "    </tr>\n",
       "    <tr>\n",
       "      <td>50%</td>\n",
       "      <td>2.000000</td>\n",
       "      <td>0.000000</td>\n",
       "      <td>2.990000</td>\n",
       "    </tr>\n",
       "    <tr>\n",
       "      <td>75%</td>\n",
       "      <td>7.000000</td>\n",
       "      <td>0.000000</td>\n",
       "      <td>5.560000</td>\n",
       "    </tr>\n",
       "    <tr>\n",
       "      <td>max</td>\n",
       "      <td>74214.000000</td>\n",
       "      <td>1.000000</td>\n",
       "      <td>9268.760000</td>\n",
       "    </tr>\n",
       "  </tbody>\n",
       "</table>\n",
       "</div>"
      ],
      "text/plain": [
       "            quantity        loyalty          price\n",
       "count  104364.000000  104364.000000  104364.000000\n",
       "mean        7.891074       0.224886       6.124043\n",
       "std       329.397197       0.417509      96.265283\n",
       "min    -74216.000000       0.000000       0.120000\n",
       "25%         0.000000       0.000000       1.820000\n",
       "50%         2.000000       0.000000       2.990000\n",
       "75%         7.000000       0.000000       5.560000\n",
       "max     74214.000000       1.000000    9268.760000"
      ]
     },
     "execution_count": 25,
     "metadata": {},
     "output_type": "execute_result"
    }
   ],
   "source": [
    "df.describe()"
   ]
  },
  {
   "cell_type": "code",
   "execution_count": 26,
   "metadata": {},
   "outputs": [],
   "source": [
    "def show_hist(data, col, bins=50, title=''):      #функция для построения гистограмм\n",
    "    plt.figure(figsize=(9, 6))\n",
    "    plt.hist(data[col], bins=bins, label=col)\n",
    "    plt.title(title)\n",
    "    plt.legend()\n",
    "    plt.show()"
   ]
  },
  {
   "cell_type": "code",
   "execution_count": 27,
   "metadata": {},
   "outputs": [],
   "source": [
    "sns.set(style='darkgrid')"
   ]
  },
  {
   "cell_type": "code",
   "execution_count": 28,
   "metadata": {},
   "outputs": [
    {
     "data": {
      "image/png": "[encoded data removed]",
      "text/plain": [
       "<Figure size 648x432 with 1 Axes>"
      ]
     },
     "metadata": {},
     "output_type": "display_data"
    }
   ],
   "source": [
    "show_hist(df, 'quantity', bins=100, title='Гистограмма количества товара')"
   ]
  },
  {
   "cell_type": "code",
   "execution_count": 29,
   "metadata": {},
   "outputs": [
    {
     "data": {
      "image/png": "[encoded data removed]",
      "text/plain": [
       "<Figure size 648x432 with 1 Axes>"
      ]
     },
     "metadata": {},
     "output_type": "display_data"
    }
   ],
   "source": [
    "show_hist(df, 'price', bins=100, title='Гистограмма цены товаров')"
   ]
  },
  {
   "cell_type": "code",
   "execution_count": 30,
   "metadata": {},
   "outputs": [],
   "source": [
    "def show_box(data, col, title=''):                   #функция построения диаграмм распределения\n",
    "    plt.figure(figsize=(9, 6))\n",
    "    sns.boxplot(x=col, data=data)\n",
    "    plt.title(title)\n",
    "    plt.show()"
   ]
  },
  {
   "cell_type": "code",
   "execution_count": 31,
   "metadata": {},
   "outputs": [
    {
     "data": {
      "image/png": "[encoded data removed]",
      "text/plain": [
       "<Figure size 648x432 with 1 Axes>"
      ]
     },
     "metadata": {},
     "output_type": "display_data"
    }
   ],
   "source": [
    "show_box(df, 'quantity', title='Диаграмма размаха')"
   ]
  },
  {
   "cell_type": "code",
   "execution_count": 32,
   "metadata": {},
   "outputs": [
    {
     "data": {
      "image/png": "[encoded data removed]",
      "text/plain": [
       "<Figure size 648x432 with 1 Axes>"
      ]
     },
     "metadata": {},
     "output_type": "display_data"
    }
   ],
   "source": [
    "show_box(df, 'price', title='Диаграмма размаха')"
   ]
  },
  {
   "cell_type": "markdown",
   "metadata": {},
   "source": [
    "По графика видно, что данные содержат выбросы, их следует обработать.\n",
    "\n",
    "### Обработка недопустимых значений\n",
    "\n",
    "Поскольку в данных имеются \"артефактные\" значения, от них следует избавится.\n",
    "\n",
    "Начнем со столбца 'quantity':\n",
    "\n",
    "Прежде всего нужно обратить внимание, что в нем имеются отрацательные значения, что совершенно нелогично. Думаю это ошибка техническа ошибка при записи данных, поэтому просто возмем все значения по модулю."
   ]
  },
  {
   "cell_type": "code",
   "execution_count": 33,
   "metadata": {},
   "outputs": [
    {
     "data": {
      "image/png": "[encoded data removed]",
      "text/plain": [
       "<Figure size 648x432 with 1 Axes>"
      ]
     },
     "metadata": {},
     "output_type": "display_data"
    }
   ],
   "source": [
    "df['quantity'] = df['quantity'].abs()\n",
    "show_hist(df, 'quantity')"
   ]
  },
  {
   "cell_type": "markdown",
   "metadata": {},
   "source": [
    "Отрицательные значения устранены, теперь необходимо обработать большое количество нулевых значений. Их возникновение возможно объяснить либо возвратом тоовара, либо отменой покупки на определенном этапе в интернет-магазине.\n",
    "\n",
    "Строки с нулевым количеством товаров нужно удалить, к сожалению в данном исследовании никак не получится использовать эти данные, и даже наоборот исказит результаты, наличие чека без прибыли уменьшит значение среднего чека. Но удалять следует не все строки, потому что хотя пользователь и не купил товар, но он проявил активность, а это уже можно использовать. Поэтому удалим строки с нулевым количеством товара и неизвестным ID покупателя:"
   ]
  },
  {
   "cell_type": "code",
   "execution_count": 34,
   "metadata": {},
   "outputs": [
    {
     "data": {
      "text/html": [
       "<div>\n",
       "<style scoped>\n",
       "    .dataframe tbody tr th:only-of-type {\n",
       "        vertical-align: middle;\n",
       "    }\n",
       "\n",
       "    .dataframe tbody tr th {\n",
       "        vertical-align: top;\n",
       "    }\n",
       "\n",
       "    .dataframe thead th {\n",
       "        text-align: right;\n",
       "    }\n",
       "</style>\n",
       "<table border=\"1\" class=\"dataframe\">\n",
       "  <thead>\n",
       "    <tr style=\"text-align: right;\">\n",
       "      <th></th>\n",
       "      <th>purchase_id</th>\n",
       "      <th>product_id</th>\n",
       "      <th>quantity</th>\n",
       "      <th>purchase_date</th>\n",
       "      <th>customer_id</th>\n",
       "      <th>shop_id</th>\n",
       "      <th>loyalty</th>\n",
       "      <th>price</th>\n",
       "    </tr>\n",
       "  </thead>\n",
       "  <tbody>\n",
       "    <tr>\n",
       "      <td>0</td>\n",
       "      <td>538280</td>\n",
       "      <td>21873</td>\n",
       "      <td>11</td>\n",
       "      <td>2016-12-10 12:50:00</td>\n",
       "      <td>18427</td>\n",
       "      <td>Shop 0</td>\n",
       "      <td>0</td>\n",
       "      <td>1.81</td>\n",
       "    </tr>\n",
       "    <tr>\n",
       "      <td>2</td>\n",
       "      <td>540418</td>\n",
       "      <td>21873</td>\n",
       "      <td>1</td>\n",
       "      <td>2017-01-07 11:04:00</td>\n",
       "      <td>Unknown</td>\n",
       "      <td>Shop 0</td>\n",
       "      <td>0</td>\n",
       "      <td>1.81</td>\n",
       "    </tr>\n",
       "    <tr>\n",
       "      <td>3</td>\n",
       "      <td>541516</td>\n",
       "      <td>21873</td>\n",
       "      <td>2</td>\n",
       "      <td>2017-01-18 17:34:00</td>\n",
       "      <td>Unknown</td>\n",
       "      <td>Shop 0</td>\n",
       "      <td>0</td>\n",
       "      <td>1.81</td>\n",
       "    </tr>\n",
       "    <tr>\n",
       "      <td>4</td>\n",
       "      <td>541566</td>\n",
       "      <td>21873</td>\n",
       "      <td>35</td>\n",
       "      <td>2017-01-19 11:50:00</td>\n",
       "      <td>23401</td>\n",
       "      <td>Shop 0</td>\n",
       "      <td>1</td>\n",
       "      <td>1.81</td>\n",
       "    </tr>\n",
       "    <tr>\n",
       "      <td>5</td>\n",
       "      <td>538843</td>\n",
       "      <td>21873</td>\n",
       "      <td>1</td>\n",
       "      <td>2016-12-14 13:18:00</td>\n",
       "      <td>21712</td>\n",
       "      <td>Shop 0</td>\n",
       "      <td>0</td>\n",
       "      <td>1.81</td>\n",
       "    </tr>\n",
       "    <tr>\n",
       "      <td>...</td>\n",
       "      <td>...</td>\n",
       "      <td>...</td>\n",
       "      <td>...</td>\n",
       "      <td>...</td>\n",
       "      <td>...</td>\n",
       "      <td>...</td>\n",
       "      <td>...</td>\n",
       "      <td>...</td>\n",
       "    </tr>\n",
       "    <tr>\n",
       "      <td>104358</td>\n",
       "      <td>538200</td>\n",
       "      <td>15058A</td>\n",
       "      <td>0</td>\n",
       "      <td>2016-12-10 11:11:00</td>\n",
       "      <td>23591</td>\n",
       "      <td>Shop 0</td>\n",
       "      <td>1</td>\n",
       "      <td>7.95</td>\n",
       "    </tr>\n",
       "    <tr>\n",
       "      <td>104359</td>\n",
       "      <td>538852</td>\n",
       "      <td>90058B</td>\n",
       "      <td>35</td>\n",
       "      <td>2016-12-14 13:33:00</td>\n",
       "      <td>23051</td>\n",
       "      <td>Shop 0</td>\n",
       "      <td>1</td>\n",
       "      <td>0.38</td>\n",
       "    </tr>\n",
       "    <tr>\n",
       "      <td>104360</td>\n",
       "      <td>539988</td>\n",
       "      <td>46138B</td>\n",
       "      <td>1</td>\n",
       "      <td>2016-12-23 16:06:00</td>\n",
       "      <td>23795</td>\n",
       "      <td>Shop 0</td>\n",
       "      <td>1</td>\n",
       "      <td>1.95</td>\n",
       "    </tr>\n",
       "    <tr>\n",
       "      <td>104362</td>\n",
       "      <td>542731</td>\n",
       "      <td>17028J</td>\n",
       "      <td>5</td>\n",
       "      <td>2017-01-31 15:27:00</td>\n",
       "      <td>19279</td>\n",
       "      <td>Shop 0</td>\n",
       "      <td>0</td>\n",
       "      <td>0.42</td>\n",
       "    </tr>\n",
       "    <tr>\n",
       "      <td>104363</td>\n",
       "      <td>C540246</td>\n",
       "      <td>79320</td>\n",
       "      <td>2</td>\n",
       "      <td>2017-01-05 15:43:00</td>\n",
       "      <td>18760</td>\n",
       "      <td>Shop 0</td>\n",
       "      <td>0</td>\n",
       "      <td>4.95</td>\n",
       "    </tr>\n",
       "  </tbody>\n",
       "</table>\n",
       "<p>84492 rows × 8 columns</p>\n",
       "</div>"
      ],
      "text/plain": [
       "       purchase_id product_id  quantity       purchase_date customer_id  \\\n",
       "0           538280      21873        11 2016-12-10 12:50:00       18427   \n",
       "2           540418      21873         1 2017-01-07 11:04:00     Unknown   \n",
       "3           541516      21873         2 2017-01-18 17:34:00     Unknown   \n",
       "4           541566      21873        35 2017-01-19 11:50:00       23401   \n",
       "5           538843      21873         1 2016-12-14 13:18:00       21712   \n",
       "...            ...        ...       ...                 ...         ...   \n",
       "104358      538200     15058A         0 2016-12-10 11:11:00       23591   \n",
       "104359      538852     90058B        35 2016-12-14 13:33:00       23051   \n",
       "104360      539988     46138B         1 2016-12-23 16:06:00       23795   \n",
       "104362      542731     17028J         5 2017-01-31 15:27:00       19279   \n",
       "104363     C540246      79320         2 2017-01-05 15:43:00       18760   \n",
       "\n",
       "       shop_id  loyalty  price  \n",
       "0       Shop 0        0   1.81  \n",
       "2       Shop 0        0   1.81  \n",
       "3       Shop 0        0   1.81  \n",
       "4       Shop 0        1   1.81  \n",
       "5       Shop 0        0   1.81  \n",
       "...        ...      ...    ...  \n",
       "104358  Shop 0        1   7.95  \n",
       "104359  Shop 0        1   0.38  \n",
       "104360  Shop 0        1   1.95  \n",
       "104362  Shop 0        0   0.42  \n",
       "104363  Shop 0        0   4.95  \n",
       "\n",
       "[84492 rows x 8 columns]"
      ]
     },
     "execution_count": 34,
     "metadata": {},
     "output_type": "execute_result"
    }
   ],
   "source": [
    "df = df[~((df['quantity'] == 0) & (df['customer_id'] == 'Unknown'))]\n",
    "df"
   ]
  },
  {
   "cell_type": "markdown",
   "metadata": {},
   "source": [
    "Теперь следует устранить выбросы в столбце:"
   ]
  },
  {
   "cell_type": "code",
   "execution_count": 35,
   "metadata": {},
   "outputs": [
    {
     "name": "stdout",
     "output_type": "stream",
     "text": [
      "count    71290.000000\n",
      "mean         9.383237\n",
      "std         14.621620\n",
      "min          1.000000\n",
      "25%          2.000000\n",
      "50%          5.000000\n",
      "75%         11.000000\n",
      "max        121.000000\n",
      "Name: quantity, dtype: float64\n"
     ]
    },
    {
     "data": {
      "image/png": "[encoded data removed]",
      "text/plain": [
       "<Figure size 648x432 with 1 Axes>"
      ]
     },
     "metadata": {},
     "output_type": "display_data"
    },
    {
     "data": {
      "image/png": "[encoded data removed]",
      "text/plain": [
       "<Figure size 648x432 with 1 Axes>"
      ]
     },
     "metadata": {},
     "output_type": "display_data"
    },
    {
     "name": "stdout",
     "output_type": "stream",
     "text": [
      "count    70830.000000\n",
      "mean         8.756205\n",
      "std         12.398051\n",
      "min          1.000000\n",
      "25%          2.000000\n",
      "50%          5.000000\n",
      "75%         11.000000\n",
      "max         95.000000\n",
      "Name: quantity, dtype: float64\n"
     ]
    },
    {
     "data": {
      "image/png": "[encoded data removed]",
      "text/plain": [
       "<Figure size 648x432 with 1 Axes>"
      ]
     },
     "metadata": {},
     "output_type": "display_data"
    },
    {
     "data": {
      "image/png": "[encoded data removed]",
      "text/plain": [
       "<Figure size 648x432 with 1 Axes>"
      ]
     },
     "metadata": {},
     "output_type": "display_data"
    },
    {
     "name": "stdout",
     "output_type": "stream",
     "text": [
      "count    69921.000000\n",
      "mean         7.830881\n",
      "std          9.331898\n",
      "min          1.000000\n",
      "25%          2.000000\n",
      "50%          5.000000\n",
      "75%         11.000000\n",
      "max         59.000000\n",
      "Name: quantity, dtype: float64\n"
     ]
    },
    {
     "data": {
      "image/png": "[encoded data removed]",
      "text/plain": [
       "<Figure size 648x432 with 1 Axes>"
      ]
     },
     "metadata": {},
     "output_type": "display_data"
    },
    {
     "data": {
      "image/png": "[encoded data removed]",
      "text/plain": [
       "<Figure size 648x432 with 1 Axes>"
      ]
     },
     "metadata": {},
     "output_type": "display_data"
    }
   ],
   "source": [
    "df_without_zero = df[df['quantity'] != 0]      #распределение данных берется без нулевых значений\n",
    "for i in np.arange(.99, .97, -.01):\n",
    "    test = df_without_zero[df_without_zero['quantity'] <= df_without_zero['quantity'].quantile(i)]\n",
    "    print(test['quantity'].describe())\n",
    "    show_hist(test, 'quantity', bins=50, title=f'Гистограмма количества товара для {int(i * 100)} квантили')\n",
    "    show_box(test, 'quantity', title=f'Диаграмма размаха для {int(i * 100)} квантили')"
   ]
  },
  {
   "cell_type": "code",
   "execution_count": 36,
   "metadata": {},
   "outputs": [
    {
     "data": {
      "text/plain": [
       "59.0"
      ]
     },
     "execution_count": 36,
     "metadata": {},
     "output_type": "execute_result"
    }
   ],
   "source": [
    "df_without_zero['quantity'].quantile(.97)"
   ]
  },
  {
   "cell_type": "code",
   "execution_count": 37,
   "metadata": {},
   "outputs": [
    {
     "data": {
      "text/html": [
       "<div>\n",
       "<style scoped>\n",
       "    .dataframe tbody tr th:only-of-type {\n",
       "        vertical-align: middle;\n",
       "    }\n",
       "\n",
       "    .dataframe tbody tr th {\n",
       "        vertical-align: top;\n",
       "    }\n",
       "\n",
       "    .dataframe thead th {\n",
       "        text-align: right;\n",
       "    }\n",
       "</style>\n",
       "<table border=\"1\" class=\"dataframe\">\n",
       "  <thead>\n",
       "    <tr style=\"text-align: right;\">\n",
       "      <th></th>\n",
       "      <th>purchase_id</th>\n",
       "      <th>product_id</th>\n",
       "      <th>quantity</th>\n",
       "      <th>purchase_date</th>\n",
       "      <th>customer_id</th>\n",
       "      <th>shop_id</th>\n",
       "      <th>loyalty</th>\n",
       "      <th>price</th>\n",
       "    </tr>\n",
       "  </thead>\n",
       "  <tbody>\n",
       "    <tr>\n",
       "      <td>0</td>\n",
       "      <td>538280</td>\n",
       "      <td>21873</td>\n",
       "      <td>11</td>\n",
       "      <td>2016-12-10 12:50:00</td>\n",
       "      <td>18427</td>\n",
       "      <td>Shop 0</td>\n",
       "      <td>0</td>\n",
       "      <td>1.81</td>\n",
       "    </tr>\n",
       "    <tr>\n",
       "      <td>2</td>\n",
       "      <td>540418</td>\n",
       "      <td>21873</td>\n",
       "      <td>1</td>\n",
       "      <td>2017-01-07 11:04:00</td>\n",
       "      <td>Unknown</td>\n",
       "      <td>Shop 0</td>\n",
       "      <td>0</td>\n",
       "      <td>1.81</td>\n",
       "    </tr>\n",
       "    <tr>\n",
       "      <td>3</td>\n",
       "      <td>541516</td>\n",
       "      <td>21873</td>\n",
       "      <td>2</td>\n",
       "      <td>2017-01-18 17:34:00</td>\n",
       "      <td>Unknown</td>\n",
       "      <td>Shop 0</td>\n",
       "      <td>0</td>\n",
       "      <td>1.81</td>\n",
       "    </tr>\n",
       "    <tr>\n",
       "      <td>4</td>\n",
       "      <td>541566</td>\n",
       "      <td>21873</td>\n",
       "      <td>35</td>\n",
       "      <td>2017-01-19 11:50:00</td>\n",
       "      <td>23401</td>\n",
       "      <td>Shop 0</td>\n",
       "      <td>1</td>\n",
       "      <td>1.81</td>\n",
       "    </tr>\n",
       "    <tr>\n",
       "      <td>5</td>\n",
       "      <td>538843</td>\n",
       "      <td>21873</td>\n",
       "      <td>1</td>\n",
       "      <td>2016-12-14 13:18:00</td>\n",
       "      <td>21712</td>\n",
       "      <td>Shop 0</td>\n",
       "      <td>0</td>\n",
       "      <td>1.81</td>\n",
       "    </tr>\n",
       "    <tr>\n",
       "      <td>...</td>\n",
       "      <td>...</td>\n",
       "      <td>...</td>\n",
       "      <td>...</td>\n",
       "      <td>...</td>\n",
       "      <td>...</td>\n",
       "      <td>...</td>\n",
       "      <td>...</td>\n",
       "      <td>...</td>\n",
       "    </tr>\n",
       "    <tr>\n",
       "      <td>104358</td>\n",
       "      <td>538200</td>\n",
       "      <td>15058A</td>\n",
       "      <td>0</td>\n",
       "      <td>2016-12-10 11:11:00</td>\n",
       "      <td>23591</td>\n",
       "      <td>Shop 0</td>\n",
       "      <td>1</td>\n",
       "      <td>7.95</td>\n",
       "    </tr>\n",
       "    <tr>\n",
       "      <td>104359</td>\n",
       "      <td>538852</td>\n",
       "      <td>90058B</td>\n",
       "      <td>35</td>\n",
       "      <td>2016-12-14 13:33:00</td>\n",
       "      <td>23051</td>\n",
       "      <td>Shop 0</td>\n",
       "      <td>1</td>\n",
       "      <td>0.38</td>\n",
       "    </tr>\n",
       "    <tr>\n",
       "      <td>104360</td>\n",
       "      <td>539988</td>\n",
       "      <td>46138B</td>\n",
       "      <td>1</td>\n",
       "      <td>2016-12-23 16:06:00</td>\n",
       "      <td>23795</td>\n",
       "      <td>Shop 0</td>\n",
       "      <td>1</td>\n",
       "      <td>1.95</td>\n",
       "    </tr>\n",
       "    <tr>\n",
       "      <td>104362</td>\n",
       "      <td>542731</td>\n",
       "      <td>17028J</td>\n",
       "      <td>5</td>\n",
       "      <td>2017-01-31 15:27:00</td>\n",
       "      <td>19279</td>\n",
       "      <td>Shop 0</td>\n",
       "      <td>0</td>\n",
       "      <td>0.42</td>\n",
       "    </tr>\n",
       "    <tr>\n",
       "      <td>104363</td>\n",
       "      <td>C540246</td>\n",
       "      <td>79320</td>\n",
       "      <td>2</td>\n",
       "      <td>2017-01-05 15:43:00</td>\n",
       "      <td>18760</td>\n",
       "      <td>Shop 0</td>\n",
       "      <td>0</td>\n",
       "      <td>4.95</td>\n",
       "    </tr>\n",
       "  </tbody>\n",
       "</table>\n",
       "<p>82403 rows × 8 columns</p>\n",
       "</div>"
      ],
      "text/plain": [
       "       purchase_id product_id  quantity       purchase_date customer_id  \\\n",
       "0           538280      21873        11 2016-12-10 12:50:00       18427   \n",
       "2           540418      21873         1 2017-01-07 11:04:00     Unknown   \n",
       "3           541516      21873         2 2017-01-18 17:34:00     Unknown   \n",
       "4           541566      21873        35 2017-01-19 11:50:00       23401   \n",
       "5           538843      21873         1 2016-12-14 13:18:00       21712   \n",
       "...            ...        ...       ...                 ...         ...   \n",
       "104358      538200     15058A         0 2016-12-10 11:11:00       23591   \n",
       "104359      538852     90058B        35 2016-12-14 13:33:00       23051   \n",
       "104360      539988     46138B         1 2016-12-23 16:06:00       23795   \n",
       "104362      542731     17028J         5 2017-01-31 15:27:00       19279   \n",
       "104363     C540246      79320         2 2017-01-05 15:43:00       18760   \n",
       "\n",
       "       shop_id  loyalty  price  \n",
       "0       Shop 0        0   1.81  \n",
       "2       Shop 0        0   1.81  \n",
       "3       Shop 0        0   1.81  \n",
       "4       Shop 0        1   1.81  \n",
       "5       Shop 0        0   1.81  \n",
       "...        ...      ...    ...  \n",
       "104358  Shop 0        1   7.95  \n",
       "104359  Shop 0        1   0.38  \n",
       "104360  Shop 0        1   1.95  \n",
       "104362  Shop 0        0   0.42  \n",
       "104363  Shop 0        0   4.95  \n",
       "\n",
       "[82403 rows x 8 columns]"
      ]
     },
     "execution_count": 37,
     "metadata": {},
     "output_type": "execute_result"
    }
   ],
   "source": [
    "df = df[df['quantity'] <= 59]\n",
    "df"
   ]
  },
  {
   "cell_type": "markdown",
   "metadata": {},
   "source": [
    "Наиболее оптимальным будет отказаться от значений 'quantity' больше 59, так мы теряем 3% данных, но получаем более нормированные данные.\n",
    "\n",
    "Теперь можно приступить к данным в столбце 'price':"
   ]
  },
  {
   "cell_type": "code",
   "execution_count": 38,
   "metadata": {},
   "outputs": [
    {
     "name": "stdout",
     "output_type": "stream",
     "text": [
      "count    69225.000000\n",
      "mean         3.949040\n",
      "std          3.360838\n",
      "min          0.120000\n",
      "25%          1.740000\n",
      "50%          2.910000\n",
      "75%          4.880000\n",
      "max         18.120000\n",
      "Name: price, dtype: float64\n"
     ]
    },
    {
     "data": {
      "image/png": "[encoded data removed]",
      "text/plain": [
       "<Figure size 648x432 with 1 Axes>"
      ]
     },
     "metadata": {},
     "output_type": "display_data"
    },
    {
     "data": {
      "image/png": "[encoded data removed]",
      "text/plain": [
       "<Figure size 648x432 with 1 Axes>"
      ]
     },
     "metadata": {},
     "output_type": "display_data"
    },
    {
     "name": "stdout",
     "output_type": "stream",
     "text": [
      "count    68481.000000\n",
      "mean         3.804724\n",
      "std          3.078383\n",
      "min          0.120000\n",
      "25%          1.720000\n",
      "50%          2.860000\n",
      "75%          4.850000\n",
      "max         15.730000\n",
      "Name: price, dtype: float64\n"
     ]
    },
    {
     "data": {
      "image/png": "[encoded data removed]",
      "text/plain": [
       "<Figure size 648x432 with 1 Axes>"
      ]
     },
     "metadata": {},
     "output_type": "display_data"
    },
    {
     "data": {
      "image/png": "[encoded data removed]",
      "text/plain": [
       "<Figure size 648x432 with 1 Axes>"
      ]
     },
     "metadata": {},
     "output_type": "display_data"
    },
    {
     "name": "stdout",
     "output_type": "stream",
     "text": [
      "count    68130.000000\n",
      "mean         3.745383\n",
      "std          2.972849\n",
      "min          0.120000\n",
      "25%          1.700000\n",
      "50%          2.860000\n",
      "75%          4.820000\n",
      "max         14.700000\n",
      "Name: price, dtype: float64\n"
     ]
    },
    {
     "data": {
      "image/png": "[encoded data removed]",
      "text/plain": [
       "<Figure size 648x432 with 1 Axes>"
      ]
     },
     "metadata": {},
     "output_type": "display_data"
    },
    {
     "data": {
      "image/png": "[encoded data removed]",
      "text/plain": [
       "<Figure size 648x432 with 1 Axes>"
      ]
     },
     "metadata": {},
     "output_type": "display_data"
    }
   ],
   "source": [
    "df_without_zero = df[df['quantity'] != 0]            #здесь так же не учитываются данные с нулевым 'quantity'\n",
    "for i in np.arange(.99, .97, -.01):\n",
    "    test = df_without_zero[df_without_zero['price'] <= df_without_zero['price'].quantile(i)]\n",
    "    print(test['price'].describe())\n",
    "    show_hist(test, 'price', bins=50, title=f'Цены товаров для {int(i * 100)} квантили')\n",
    "    show_box(test, 'price', title=f'Диаграмма размаха для {int(i * 100)} квантили')"
   ]
  },
  {
   "cell_type": "code",
   "execution_count": 39,
   "metadata": {},
   "outputs": [
    {
     "data": {
      "text/plain": [
       "18.12"
      ]
     },
     "execution_count": 39,
     "metadata": {},
     "output_type": "execute_result"
    }
   ],
   "source": [
    "df_without_zero['price'].quantile(.99)"
   ]
  },
  {
   "cell_type": "code",
   "execution_count": 40,
   "metadata": {},
   "outputs": [],
   "source": [
    "df = df[df['price'] <= 18.12]\n",
    "df = df.reset_index(drop=True)"
   ]
  },
  {
   "cell_type": "markdown",
   "metadata": {},
   "source": [
    "Откажемся от 1% данных и оставим товары с ценой 18.12 или меньше.\n",
    "\n",
    "Исследовательский анализ данных произведен, и теперь можно приступать к выполнению поставленных задач.\n",
    "\n",
    "## Оценка эффективности магазинов\n",
    "\n",
    "Итак, оценим эффективность торговых точек. Для этого сравним изменение среднего чека покупателей за имеющийся период. Важно заметить, что в исследовании не будут учитываться данные с нулевым количеством товара, поскольку \"покупка\" которая не принесла прибыль повлияет на средний чек, а так же данные из магазинов покупки в которых совершались не на протяжении всего исследуемого периода, потому что данных по этим магазинам мало, и нельзя сказать однозначно эффективны они или нет."
   ]
  },
  {
   "cell_type": "code",
   "execution_count": 41,
   "metadata": {},
   "outputs": [
    {
     "data": {
      "text/html": [
       "<div>\n",
       "<style scoped>\n",
       "    .dataframe tbody tr th:only-of-type {\n",
       "        vertical-align: middle;\n",
       "    }\n",
       "\n",
       "    .dataframe tbody tr th {\n",
       "        vertical-align: top;\n",
       "    }\n",
       "\n",
       "    .dataframe thead th {\n",
       "        text-align: right;\n",
       "    }\n",
       "</style>\n",
       "<table border=\"1\" class=\"dataframe\">\n",
       "  <thead>\n",
       "    <tr style=\"text-align: right;\">\n",
       "      <th></th>\n",
       "      <th>purchase_id</th>\n",
       "      <th>product_id</th>\n",
       "      <th>quantity</th>\n",
       "      <th>purchase_date</th>\n",
       "      <th>customer_id</th>\n",
       "      <th>shop_id</th>\n",
       "      <th>loyalty</th>\n",
       "      <th>price</th>\n",
       "      <th>month</th>\n",
       "      <th>year</th>\n",
       "      <th>revenue</th>\n",
       "    </tr>\n",
       "  </thead>\n",
       "  <tbody>\n",
       "    <tr>\n",
       "      <td>0</td>\n",
       "      <td>538280</td>\n",
       "      <td>21873</td>\n",
       "      <td>11</td>\n",
       "      <td>2016-12-10 12:50:00</td>\n",
       "      <td>18427</td>\n",
       "      <td>Shop 0</td>\n",
       "      <td>0</td>\n",
       "      <td>1.81</td>\n",
       "      <td>december</td>\n",
       "      <td>2016</td>\n",
       "      <td>19.91</td>\n",
       "    </tr>\n",
       "    <tr>\n",
       "      <td>1</td>\n",
       "      <td>540418</td>\n",
       "      <td>21873</td>\n",
       "      <td>1</td>\n",
       "      <td>2017-01-07 11:04:00</td>\n",
       "      <td>Unknown</td>\n",
       "      <td>Shop 0</td>\n",
       "      <td>0</td>\n",
       "      <td>1.81</td>\n",
       "      <td>january</td>\n",
       "      <td>2017</td>\n",
       "      <td>1.81</td>\n",
       "    </tr>\n",
       "    <tr>\n",
       "      <td>2</td>\n",
       "      <td>541516</td>\n",
       "      <td>21873</td>\n",
       "      <td>2</td>\n",
       "      <td>2017-01-18 17:34:00</td>\n",
       "      <td>Unknown</td>\n",
       "      <td>Shop 0</td>\n",
       "      <td>0</td>\n",
       "      <td>1.81</td>\n",
       "      <td>january</td>\n",
       "      <td>2017</td>\n",
       "      <td>3.62</td>\n",
       "    </tr>\n",
       "    <tr>\n",
       "      <td>3</td>\n",
       "      <td>541566</td>\n",
       "      <td>21873</td>\n",
       "      <td>35</td>\n",
       "      <td>2017-01-19 11:50:00</td>\n",
       "      <td>23401</td>\n",
       "      <td>Shop 0</td>\n",
       "      <td>1</td>\n",
       "      <td>1.81</td>\n",
       "      <td>january</td>\n",
       "      <td>2017</td>\n",
       "      <td>63.35</td>\n",
       "    </tr>\n",
       "    <tr>\n",
       "      <td>4</td>\n",
       "      <td>538843</td>\n",
       "      <td>21873</td>\n",
       "      <td>1</td>\n",
       "      <td>2016-12-14 13:18:00</td>\n",
       "      <td>21712</td>\n",
       "      <td>Shop 0</td>\n",
       "      <td>0</td>\n",
       "      <td>1.81</td>\n",
       "      <td>december</td>\n",
       "      <td>2016</td>\n",
       "      <td>1.81</td>\n",
       "    </tr>\n",
       "    <tr>\n",
       "      <td>...</td>\n",
       "      <td>...</td>\n",
       "      <td>...</td>\n",
       "      <td>...</td>\n",
       "      <td>...</td>\n",
       "      <td>...</td>\n",
       "      <td>...</td>\n",
       "      <td>...</td>\n",
       "      <td>...</td>\n",
       "      <td>...</td>\n",
       "      <td>...</td>\n",
       "      <td>...</td>\n",
       "    </tr>\n",
       "    <tr>\n",
       "      <td>69220</td>\n",
       "      <td>539009</td>\n",
       "      <td>79329</td>\n",
       "      <td>5</td>\n",
       "      <td>2016-12-15 13:24:00</td>\n",
       "      <td>18900</td>\n",
       "      <td>Shop 0</td>\n",
       "      <td>0</td>\n",
       "      <td>1.65</td>\n",
       "      <td>december</td>\n",
       "      <td>2016</td>\n",
       "      <td>8.25</td>\n",
       "    </tr>\n",
       "    <tr>\n",
       "      <td>69221</td>\n",
       "      <td>538852</td>\n",
       "      <td>90058B</td>\n",
       "      <td>35</td>\n",
       "      <td>2016-12-14 13:33:00</td>\n",
       "      <td>23051</td>\n",
       "      <td>Shop 0</td>\n",
       "      <td>1</td>\n",
       "      <td>0.38</td>\n",
       "      <td>december</td>\n",
       "      <td>2016</td>\n",
       "      <td>13.30</td>\n",
       "    </tr>\n",
       "    <tr>\n",
       "      <td>69222</td>\n",
       "      <td>539988</td>\n",
       "      <td>46138B</td>\n",
       "      <td>1</td>\n",
       "      <td>2016-12-23 16:06:00</td>\n",
       "      <td>23795</td>\n",
       "      <td>Shop 0</td>\n",
       "      <td>1</td>\n",
       "      <td>1.95</td>\n",
       "      <td>december</td>\n",
       "      <td>2016</td>\n",
       "      <td>1.95</td>\n",
       "    </tr>\n",
       "    <tr>\n",
       "      <td>69223</td>\n",
       "      <td>542731</td>\n",
       "      <td>17028J</td>\n",
       "      <td>5</td>\n",
       "      <td>2017-01-31 15:27:00</td>\n",
       "      <td>19279</td>\n",
       "      <td>Shop 0</td>\n",
       "      <td>0</td>\n",
       "      <td>0.42</td>\n",
       "      <td>january</td>\n",
       "      <td>2017</td>\n",
       "      <td>2.10</td>\n",
       "    </tr>\n",
       "    <tr>\n",
       "      <td>69224</td>\n",
       "      <td>C540246</td>\n",
       "      <td>79320</td>\n",
       "      <td>2</td>\n",
       "      <td>2017-01-05 15:43:00</td>\n",
       "      <td>18760</td>\n",
       "      <td>Shop 0</td>\n",
       "      <td>0</td>\n",
       "      <td>4.95</td>\n",
       "      <td>january</td>\n",
       "      <td>2017</td>\n",
       "      <td>9.90</td>\n",
       "    </tr>\n",
       "  </tbody>\n",
       "</table>\n",
       "<p>69225 rows × 11 columns</p>\n",
       "</div>"
      ],
      "text/plain": [
       "      purchase_id product_id  quantity       purchase_date customer_id  \\\n",
       "0          538280      21873        11 2016-12-10 12:50:00       18427   \n",
       "1          540418      21873         1 2017-01-07 11:04:00     Unknown   \n",
       "2          541516      21873         2 2017-01-18 17:34:00     Unknown   \n",
       "3          541566      21873        35 2017-01-19 11:50:00       23401   \n",
       "4          538843      21873         1 2016-12-14 13:18:00       21712   \n",
       "...           ...        ...       ...                 ...         ...   \n",
       "69220      539009      79329         5 2016-12-15 13:24:00       18900   \n",
       "69221      538852     90058B        35 2016-12-14 13:33:00       23051   \n",
       "69222      539988     46138B         1 2016-12-23 16:06:00       23795   \n",
       "69223      542731     17028J         5 2017-01-31 15:27:00       19279   \n",
       "69224     C540246      79320         2 2017-01-05 15:43:00       18760   \n",
       "\n",
       "      shop_id  loyalty  price     month  year  revenue  \n",
       "0      Shop 0        0   1.81  december  2016    19.91  \n",
       "1      Shop 0        0   1.81   january  2017     1.81  \n",
       "2      Shop 0        0   1.81   january  2017     3.62  \n",
       "3      Shop 0        1   1.81   january  2017    63.35  \n",
       "4      Shop 0        0   1.81  december  2016     1.81  \n",
       "...       ...      ...    ...       ...   ...      ...  \n",
       "69220  Shop 0        0   1.65  december  2016     8.25  \n",
       "69221  Shop 0        1   0.38  december  2016    13.30  \n",
       "69222  Shop 0        1   1.95  december  2016     1.95  \n",
       "69223  Shop 0        0   0.42   january  2017     2.10  \n",
       "69224  Shop 0        0   4.95   january  2017     9.90  \n",
       "\n",
       "[69225 rows x 11 columns]"
      ]
     },
     "execution_count": 41,
     "metadata": {},
     "output_type": "execute_result"
    }
   ],
   "source": [
    "df['month'] = df['purchase_date'].astype('datetime64[M]').dt.month\n",
    "df['month'] = df['month'].replace({12:'december', 1:' january', 2:'february'})\n",
    "df['year'] = df['purchase_date'].astype('datetime64[M]').dt.year\n",
    "df['revenue'] = df['quantity'] * df['price']\n",
    "df_without_zero = df[df['quantity'] != 0].reset_index(drop=True)\n",
    "df_without_zero"
   ]
  },
  {
   "cell_type": "code",
   "execution_count": 42,
   "metadata": {},
   "outputs": [
    {
     "data": {
      "text/plain": [
       "['Shop 13',\n",
       " 'Shop 15',\n",
       " 'Shop 17',\n",
       " 'Shop 20',\n",
       " 'Shop 23',\n",
       " 'Shop 24',\n",
       " 'Shop 25',\n",
       " 'Shop 26',\n",
       " 'Shop 27',\n",
       " 'Shop 28',\n",
       " 'Shop 29',\n",
       " 'Shop 30',\n",
       " 'Shop 5']"
      ]
     },
     "execution_count": 42,
     "metadata": {},
     "output_type": "execute_result"
    }
   ],
   "source": [
    "df_grouped = df_without_zero.groupby(['shop_id', 'year', 'month'])['purchase_id'].nunique().reset_index()\n",
    "small = df_grouped.groupby('shop_id')['month'].count()\n",
    "small = small[small < 3]                                      \n",
    "small = small.index.tolist()\n",
    "small                                    "
   ]
  },
  {
   "cell_type": "code",
   "execution_count": 43,
   "metadata": {},
   "outputs": [
    {
     "data": {
      "text/html": [
       "<div>\n",
       "<style scoped>\n",
       "    .dataframe tbody tr th:only-of-type {\n",
       "        vertical-align: middle;\n",
       "    }\n",
       "\n",
       "    .dataframe tbody tr th {\n",
       "        vertical-align: top;\n",
       "    }\n",
       "\n",
       "    .dataframe thead th {\n",
       "        text-align: right;\n",
       "    }\n",
       "</style>\n",
       "<table border=\"1\" class=\"dataframe\">\n",
       "  <thead>\n",
       "    <tr style=\"text-align: right;\">\n",
       "      <th></th>\n",
       "      <th>purchase_id</th>\n",
       "      <th>product_id</th>\n",
       "      <th>quantity</th>\n",
       "      <th>purchase_date</th>\n",
       "      <th>customer_id</th>\n",
       "      <th>shop_id</th>\n",
       "      <th>loyalty</th>\n",
       "      <th>price</th>\n",
       "      <th>month</th>\n",
       "      <th>year</th>\n",
       "      <th>revenue</th>\n",
       "    </tr>\n",
       "  </thead>\n",
       "  <tbody>\n",
       "    <tr>\n",
       "      <td>0</td>\n",
       "      <td>538280</td>\n",
       "      <td>21873</td>\n",
       "      <td>11</td>\n",
       "      <td>2016-12-10 12:50:00</td>\n",
       "      <td>18427</td>\n",
       "      <td>Shop 0</td>\n",
       "      <td>0</td>\n",
       "      <td>1.81</td>\n",
       "      <td>december</td>\n",
       "      <td>2016</td>\n",
       "      <td>19.91</td>\n",
       "    </tr>\n",
       "    <tr>\n",
       "      <td>1</td>\n",
       "      <td>540418</td>\n",
       "      <td>21873</td>\n",
       "      <td>1</td>\n",
       "      <td>2017-01-07 11:04:00</td>\n",
       "      <td>Unknown</td>\n",
       "      <td>Shop 0</td>\n",
       "      <td>0</td>\n",
       "      <td>1.81</td>\n",
       "      <td>january</td>\n",
       "      <td>2017</td>\n",
       "      <td>1.81</td>\n",
       "    </tr>\n",
       "    <tr>\n",
       "      <td>2</td>\n",
       "      <td>541516</td>\n",
       "      <td>21873</td>\n",
       "      <td>2</td>\n",
       "      <td>2017-01-18 17:34:00</td>\n",
       "      <td>Unknown</td>\n",
       "      <td>Shop 0</td>\n",
       "      <td>0</td>\n",
       "      <td>1.81</td>\n",
       "      <td>january</td>\n",
       "      <td>2017</td>\n",
       "      <td>3.62</td>\n",
       "    </tr>\n",
       "    <tr>\n",
       "      <td>3</td>\n",
       "      <td>541566</td>\n",
       "      <td>21873</td>\n",
       "      <td>35</td>\n",
       "      <td>2017-01-19 11:50:00</td>\n",
       "      <td>23401</td>\n",
       "      <td>Shop 0</td>\n",
       "      <td>1</td>\n",
       "      <td>1.81</td>\n",
       "      <td>january</td>\n",
       "      <td>2017</td>\n",
       "      <td>63.35</td>\n",
       "    </tr>\n",
       "    <tr>\n",
       "      <td>4</td>\n",
       "      <td>538843</td>\n",
       "      <td>21873</td>\n",
       "      <td>1</td>\n",
       "      <td>2016-12-14 13:18:00</td>\n",
       "      <td>21712</td>\n",
       "      <td>Shop 0</td>\n",
       "      <td>0</td>\n",
       "      <td>1.81</td>\n",
       "      <td>december</td>\n",
       "      <td>2016</td>\n",
       "      <td>1.81</td>\n",
       "    </tr>\n",
       "    <tr>\n",
       "      <td>...</td>\n",
       "      <td>...</td>\n",
       "      <td>...</td>\n",
       "      <td>...</td>\n",
       "      <td>...</td>\n",
       "      <td>...</td>\n",
       "      <td>...</td>\n",
       "      <td>...</td>\n",
       "      <td>...</td>\n",
       "      <td>...</td>\n",
       "      <td>...</td>\n",
       "      <td>...</td>\n",
       "    </tr>\n",
       "    <tr>\n",
       "      <td>69220</td>\n",
       "      <td>539009</td>\n",
       "      <td>79329</td>\n",
       "      <td>5</td>\n",
       "      <td>2016-12-15 13:24:00</td>\n",
       "      <td>18900</td>\n",
       "      <td>Shop 0</td>\n",
       "      <td>0</td>\n",
       "      <td>1.65</td>\n",
       "      <td>december</td>\n",
       "      <td>2016</td>\n",
       "      <td>8.25</td>\n",
       "    </tr>\n",
       "    <tr>\n",
       "      <td>69221</td>\n",
       "      <td>538852</td>\n",
       "      <td>90058B</td>\n",
       "      <td>35</td>\n",
       "      <td>2016-12-14 13:33:00</td>\n",
       "      <td>23051</td>\n",
       "      <td>Shop 0</td>\n",
       "      <td>1</td>\n",
       "      <td>0.38</td>\n",
       "      <td>december</td>\n",
       "      <td>2016</td>\n",
       "      <td>13.30</td>\n",
       "    </tr>\n",
       "    <tr>\n",
       "      <td>69222</td>\n",
       "      <td>539988</td>\n",
       "      <td>46138B</td>\n",
       "      <td>1</td>\n",
       "      <td>2016-12-23 16:06:00</td>\n",
       "      <td>23795</td>\n",
       "      <td>Shop 0</td>\n",
       "      <td>1</td>\n",
       "      <td>1.95</td>\n",
       "      <td>december</td>\n",
       "      <td>2016</td>\n",
       "      <td>1.95</td>\n",
       "    </tr>\n",
       "    <tr>\n",
       "      <td>69223</td>\n",
       "      <td>542731</td>\n",
       "      <td>17028J</td>\n",
       "      <td>5</td>\n",
       "      <td>2017-01-31 15:27:00</td>\n",
       "      <td>19279</td>\n",
       "      <td>Shop 0</td>\n",
       "      <td>0</td>\n",
       "      <td>0.42</td>\n",
       "      <td>january</td>\n",
       "      <td>2017</td>\n",
       "      <td>2.10</td>\n",
       "    </tr>\n",
       "    <tr>\n",
       "      <td>69224</td>\n",
       "      <td>C540246</td>\n",
       "      <td>79320</td>\n",
       "      <td>2</td>\n",
       "      <td>2017-01-05 15:43:00</td>\n",
       "      <td>18760</td>\n",
       "      <td>Shop 0</td>\n",
       "      <td>0</td>\n",
       "      <td>4.95</td>\n",
       "      <td>january</td>\n",
       "      <td>2017</td>\n",
       "      <td>9.90</td>\n",
       "    </tr>\n",
       "  </tbody>\n",
       "</table>\n",
       "<p>68667 rows × 11 columns</p>\n",
       "</div>"
      ],
      "text/plain": [
       "      purchase_id product_id  quantity       purchase_date customer_id  \\\n",
       "0          538280      21873        11 2016-12-10 12:50:00       18427   \n",
       "1          540418      21873         1 2017-01-07 11:04:00     Unknown   \n",
       "2          541516      21873         2 2017-01-18 17:34:00     Unknown   \n",
       "3          541566      21873        35 2017-01-19 11:50:00       23401   \n",
       "4          538843      21873         1 2016-12-14 13:18:00       21712   \n",
       "...           ...        ...       ...                 ...         ...   \n",
       "69220      539009      79329         5 2016-12-15 13:24:00       18900   \n",
       "69221      538852     90058B        35 2016-12-14 13:33:00       23051   \n",
       "69222      539988     46138B         1 2016-12-23 16:06:00       23795   \n",
       "69223      542731     17028J         5 2017-01-31 15:27:00       19279   \n",
       "69224     C540246      79320         2 2017-01-05 15:43:00       18760   \n",
       "\n",
       "      shop_id  loyalty  price     month  year  revenue  \n",
       "0      Shop 0        0   1.81  december  2016    19.91  \n",
       "1      Shop 0        0   1.81   january  2017     1.81  \n",
       "2      Shop 0        0   1.81   january  2017     3.62  \n",
       "3      Shop 0        1   1.81   january  2017    63.35  \n",
       "4      Shop 0        0   1.81  december  2016     1.81  \n",
       "...       ...      ...    ...       ...   ...      ...  \n",
       "69220  Shop 0        0   1.65  december  2016     8.25  \n",
       "69221  Shop 0        1   0.38  december  2016    13.30  \n",
       "69222  Shop 0        1   1.95  december  2016     1.95  \n",
       "69223  Shop 0        0   0.42   january  2017     2.10  \n",
       "69224  Shop 0        0   4.95   january  2017     9.90  \n",
       "\n",
       "[68667 rows x 11 columns]"
      ]
     },
     "execution_count": 43,
     "metadata": {},
     "output_type": "execute_result"
    }
   ],
   "source": [
    "data = df_without_zero[~df_without_zero['shop_id'].isin(small)]\n",
    "data"
   ]
  },
  {
   "cell_type": "markdown",
   "metadata": {},
   "source": [
    "Теперь остались данные по магазинам в которых совершались покупки в каждом месяце установленного периода. Однако нельзя приступить к оценке эффективности, потому что еще имеются данные по магазинам в которых совершалось слишком мало покупок за весь период. И может так получиться, что за несколько покупок были приобретены ценные товары, и это сразу же повысит показатель среднего чека, хотя на самом деле магазин не так уж и успешен, если в нем совершается так мало покупок."
   ]
  },
  {
   "cell_type": "code",
   "execution_count": 44,
   "metadata": {},
   "outputs": [
    {
     "data": {
      "image/png": "[encoded data removed]",
      "text/plain": [
       "<Figure size 1080x648 with 1 Axes>"
      ]
     },
     "metadata": {},
     "output_type": "display_data"
    }
   ],
   "source": [
    "df_grouped = data.groupby(['shop_id', 'year', 'month'])['purchase_id'].nunique().reset_index()\n",
    "count = df_grouped.groupby('shop_id')['purchase_id'].sum().reset_index().sort_values(by='purchase_id', ascending=False)\n",
    "plt.figure(figsize=(15, 9))\n",
    "sns.barplot(x = 'shop_id', y = 'purchase_id', data = count)\n",
    "plt.ylim(0, 200)\n",
    "plt.title('Количество покупок по магазинам')\n",
    "plt.ylabel('Количество покупок')\n",
    "plt.xlabel('Магазины')\n",
    "plt.show()"
   ]
  },
  {
   "cell_type": "code",
   "execution_count": 45,
   "metadata": {},
   "outputs": [
    {
     "data": {
      "text/html": [
       "<div>\n",
       "<style scoped>\n",
       "    .dataframe tbody tr th:only-of-type {\n",
       "        vertical-align: middle;\n",
       "    }\n",
       "\n",
       "    .dataframe tbody tr th {\n",
       "        vertical-align: top;\n",
       "    }\n",
       "\n",
       "    .dataframe thead th {\n",
       "        text-align: right;\n",
       "    }\n",
       "</style>\n",
       "<table border=\"1\" class=\"dataframe\">\n",
       "  <thead>\n",
       "    <tr style=\"text-align: right;\">\n",
       "      <th></th>\n",
       "      <th>shop_id</th>\n",
       "      <th>purchase_id</th>\n",
       "    </tr>\n",
       "  </thead>\n",
       "  <tbody>\n",
       "    <tr>\n",
       "      <td>0</td>\n",
       "      <td>Shop 0</td>\n",
       "      <td>3933</td>\n",
       "    </tr>\n",
       "    <tr>\n",
       "      <td>13</td>\n",
       "      <td>Shop 4</td>\n",
       "      <td>113</td>\n",
       "    </tr>\n",
       "    <tr>\n",
       "      <td>1</td>\n",
       "      <td>Shop 1</td>\n",
       "      <td>89</td>\n",
       "    </tr>\n",
       "    <tr>\n",
       "      <td>14</td>\n",
       "      <td>Shop 6</td>\n",
       "      <td>45</td>\n",
       "    </tr>\n",
       "    <tr>\n",
       "      <td>4</td>\n",
       "      <td>Shop 12</td>\n",
       "      <td>21</td>\n",
       "    </tr>\n",
       "    <tr>\n",
       "      <td>9</td>\n",
       "      <td>Shop 2</td>\n",
       "      <td>18</td>\n",
       "    </tr>\n",
       "    <tr>\n",
       "      <td>16</td>\n",
       "      <td>Shop 8</td>\n",
       "      <td>17</td>\n",
       "    </tr>\n",
       "    <tr>\n",
       "      <td>2</td>\n",
       "      <td>Shop 10</td>\n",
       "      <td>15</td>\n",
       "    </tr>\n",
       "    <tr>\n",
       "      <td>12</td>\n",
       "      <td>Shop 3</td>\n",
       "      <td>13</td>\n",
       "    </tr>\n",
       "    <tr>\n",
       "      <td>15</td>\n",
       "      <td>Shop 7</td>\n",
       "      <td>11</td>\n",
       "    </tr>\n",
       "    <tr>\n",
       "      <td>3</td>\n",
       "      <td>Shop 11</td>\n",
       "      <td>9</td>\n",
       "    </tr>\n",
       "    <tr>\n",
       "      <td>7</td>\n",
       "      <td>Shop 18</td>\n",
       "      <td>6</td>\n",
       "    </tr>\n",
       "    <tr>\n",
       "      <td>8</td>\n",
       "      <td>Shop 19</td>\n",
       "      <td>5</td>\n",
       "    </tr>\n",
       "    <tr>\n",
       "      <td>6</td>\n",
       "      <td>Shop 16</td>\n",
       "      <td>4</td>\n",
       "    </tr>\n",
       "    <tr>\n",
       "      <td>5</td>\n",
       "      <td>Shop 14</td>\n",
       "      <td>4</td>\n",
       "    </tr>\n",
       "    <tr>\n",
       "      <td>11</td>\n",
       "      <td>Shop 22</td>\n",
       "      <td>4</td>\n",
       "    </tr>\n",
       "    <tr>\n",
       "      <td>17</td>\n",
       "      <td>Shop 9</td>\n",
       "      <td>4</td>\n",
       "    </tr>\n",
       "    <tr>\n",
       "      <td>10</td>\n",
       "      <td>Shop 21</td>\n",
       "      <td>3</td>\n",
       "    </tr>\n",
       "  </tbody>\n",
       "</table>\n",
       "</div>"
      ],
      "text/plain": [
       "    shop_id  purchase_id\n",
       "0    Shop 0         3933\n",
       "13   Shop 4          113\n",
       "1    Shop 1           89\n",
       "14   Shop 6           45\n",
       "4   Shop 12           21\n",
       "9    Shop 2           18\n",
       "16   Shop 8           17\n",
       "2   Shop 10           15\n",
       "12   Shop 3           13\n",
       "15   Shop 7           11\n",
       "3   Shop 11            9\n",
       "7   Shop 18            6\n",
       "8   Shop 19            5\n",
       "6   Shop 16            4\n",
       "5   Shop 14            4\n",
       "11  Shop 22            4\n",
       "17   Shop 9            4\n",
       "10  Shop 21            3"
      ]
     },
     "execution_count": 45,
     "metadata": {},
     "output_type": "execute_result"
    }
   ],
   "source": [
    "count"
   ]
  },
  {
   "cell_type": "markdown",
   "metadata": {},
   "source": [
    "Оставим только те магазины в которых суммарно за весь период было совершено хотябы 15 покупок:"
   ]
  },
  {
   "cell_type": "code",
   "execution_count": 46,
   "metadata": {},
   "outputs": [
    {
     "data": {
      "text/plain": [
       "['Shop 11',\n",
       " 'Shop 14',\n",
       " 'Shop 16',\n",
       " 'Shop 18',\n",
       " 'Shop 19',\n",
       " 'Shop 21',\n",
       " 'Shop 22',\n",
       " 'Shop 3',\n",
       " 'Shop 7',\n",
       " 'Shop 9']"
      ]
     },
     "execution_count": 46,
     "metadata": {},
     "output_type": "execute_result"
    }
   ],
   "source": [
    "small = df_grouped.groupby('shop_id')['purchase_id'].sum()\n",
    "small = small[small < 15]                                      \n",
    "small = small.index.tolist()\n",
    "small  "
   ]
  },
  {
   "cell_type": "code",
   "execution_count": 47,
   "metadata": {},
   "outputs": [
    {
     "data": {
      "text/html": [
       "<div>\n",
       "<style scoped>\n",
       "    .dataframe tbody tr th:only-of-type {\n",
       "        vertical-align: middle;\n",
       "    }\n",
       "\n",
       "    .dataframe tbody tr th {\n",
       "        vertical-align: top;\n",
       "    }\n",
       "\n",
       "    .dataframe thead th {\n",
       "        text-align: right;\n",
       "    }\n",
       "</style>\n",
       "<table border=\"1\" class=\"dataframe\">\n",
       "  <thead>\n",
       "    <tr style=\"text-align: right;\">\n",
       "      <th></th>\n",
       "      <th>purchase_id</th>\n",
       "      <th>product_id</th>\n",
       "      <th>quantity</th>\n",
       "      <th>purchase_date</th>\n",
       "      <th>customer_id</th>\n",
       "      <th>shop_id</th>\n",
       "      <th>loyalty</th>\n",
       "      <th>price</th>\n",
       "      <th>month</th>\n",
       "      <th>year</th>\n",
       "      <th>revenue</th>\n",
       "    </tr>\n",
       "  </thead>\n",
       "  <tbody>\n",
       "    <tr>\n",
       "      <td>0</td>\n",
       "      <td>538280</td>\n",
       "      <td>21873</td>\n",
       "      <td>11</td>\n",
       "      <td>2016-12-10 12:50:00</td>\n",
       "      <td>18427</td>\n",
       "      <td>Shop 0</td>\n",
       "      <td>0</td>\n",
       "      <td>1.81</td>\n",
       "      <td>december</td>\n",
       "      <td>2016</td>\n",
       "      <td>19.91</td>\n",
       "    </tr>\n",
       "    <tr>\n",
       "      <td>1</td>\n",
       "      <td>540418</td>\n",
       "      <td>21873</td>\n",
       "      <td>1</td>\n",
       "      <td>2017-01-07 11:04:00</td>\n",
       "      <td>Unknown</td>\n",
       "      <td>Shop 0</td>\n",
       "      <td>0</td>\n",
       "      <td>1.81</td>\n",
       "      <td>january</td>\n",
       "      <td>2017</td>\n",
       "      <td>1.81</td>\n",
       "    </tr>\n",
       "    <tr>\n",
       "      <td>2</td>\n",
       "      <td>541516</td>\n",
       "      <td>21873</td>\n",
       "      <td>2</td>\n",
       "      <td>2017-01-18 17:34:00</td>\n",
       "      <td>Unknown</td>\n",
       "      <td>Shop 0</td>\n",
       "      <td>0</td>\n",
       "      <td>1.81</td>\n",
       "      <td>january</td>\n",
       "      <td>2017</td>\n",
       "      <td>3.62</td>\n",
       "    </tr>\n",
       "    <tr>\n",
       "      <td>3</td>\n",
       "      <td>541566</td>\n",
       "      <td>21873</td>\n",
       "      <td>35</td>\n",
       "      <td>2017-01-19 11:50:00</td>\n",
       "      <td>23401</td>\n",
       "      <td>Shop 0</td>\n",
       "      <td>1</td>\n",
       "      <td>1.81</td>\n",
       "      <td>january</td>\n",
       "      <td>2017</td>\n",
       "      <td>63.35</td>\n",
       "    </tr>\n",
       "    <tr>\n",
       "      <td>4</td>\n",
       "      <td>538843</td>\n",
       "      <td>21873</td>\n",
       "      <td>1</td>\n",
       "      <td>2016-12-14 13:18:00</td>\n",
       "      <td>21712</td>\n",
       "      <td>Shop 0</td>\n",
       "      <td>0</td>\n",
       "      <td>1.81</td>\n",
       "      <td>december</td>\n",
       "      <td>2016</td>\n",
       "      <td>1.81</td>\n",
       "    </tr>\n",
       "    <tr>\n",
       "      <td>...</td>\n",
       "      <td>...</td>\n",
       "      <td>...</td>\n",
       "      <td>...</td>\n",
       "      <td>...</td>\n",
       "      <td>...</td>\n",
       "      <td>...</td>\n",
       "      <td>...</td>\n",
       "      <td>...</td>\n",
       "      <td>...</td>\n",
       "      <td>...</td>\n",
       "      <td>...</td>\n",
       "    </tr>\n",
       "    <tr>\n",
       "      <td>69220</td>\n",
       "      <td>539009</td>\n",
       "      <td>79329</td>\n",
       "      <td>5</td>\n",
       "      <td>2016-12-15 13:24:00</td>\n",
       "      <td>18900</td>\n",
       "      <td>Shop 0</td>\n",
       "      <td>0</td>\n",
       "      <td>1.65</td>\n",
       "      <td>december</td>\n",
       "      <td>2016</td>\n",
       "      <td>8.25</td>\n",
       "    </tr>\n",
       "    <tr>\n",
       "      <td>69221</td>\n",
       "      <td>538852</td>\n",
       "      <td>90058B</td>\n",
       "      <td>35</td>\n",
       "      <td>2016-12-14 13:33:00</td>\n",
       "      <td>23051</td>\n",
       "      <td>Shop 0</td>\n",
       "      <td>1</td>\n",
       "      <td>0.38</td>\n",
       "      <td>december</td>\n",
       "      <td>2016</td>\n",
       "      <td>13.30</td>\n",
       "    </tr>\n",
       "    <tr>\n",
       "      <td>69222</td>\n",
       "      <td>539988</td>\n",
       "      <td>46138B</td>\n",
       "      <td>1</td>\n",
       "      <td>2016-12-23 16:06:00</td>\n",
       "      <td>23795</td>\n",
       "      <td>Shop 0</td>\n",
       "      <td>1</td>\n",
       "      <td>1.95</td>\n",
       "      <td>december</td>\n",
       "      <td>2016</td>\n",
       "      <td>1.95</td>\n",
       "    </tr>\n",
       "    <tr>\n",
       "      <td>69223</td>\n",
       "      <td>542731</td>\n",
       "      <td>17028J</td>\n",
       "      <td>5</td>\n",
       "      <td>2017-01-31 15:27:00</td>\n",
       "      <td>19279</td>\n",
       "      <td>Shop 0</td>\n",
       "      <td>0</td>\n",
       "      <td>0.42</td>\n",
       "      <td>january</td>\n",
       "      <td>2017</td>\n",
       "      <td>2.10</td>\n",
       "    </tr>\n",
       "    <tr>\n",
       "      <td>69224</td>\n",
       "      <td>C540246</td>\n",
       "      <td>79320</td>\n",
       "      <td>2</td>\n",
       "      <td>2017-01-05 15:43:00</td>\n",
       "      <td>18760</td>\n",
       "      <td>Shop 0</td>\n",
       "      <td>0</td>\n",
       "      <td>4.95</td>\n",
       "      <td>january</td>\n",
       "      <td>2017</td>\n",
       "      <td>9.90</td>\n",
       "    </tr>\n",
       "  </tbody>\n",
       "</table>\n",
       "<p>67517 rows × 11 columns</p>\n",
       "</div>"
      ],
      "text/plain": [
       "      purchase_id product_id  quantity       purchase_date customer_id  \\\n",
       "0          538280      21873        11 2016-12-10 12:50:00       18427   \n",
       "1          540418      21873         1 2017-01-07 11:04:00     Unknown   \n",
       "2          541516      21873         2 2017-01-18 17:34:00     Unknown   \n",
       "3          541566      21873        35 2017-01-19 11:50:00       23401   \n",
       "4          538843      21873         1 2016-12-14 13:18:00       21712   \n",
       "...           ...        ...       ...                 ...         ...   \n",
       "69220      539009      79329         5 2016-12-15 13:24:00       18900   \n",
       "69221      538852     90058B        35 2016-12-14 13:33:00       23051   \n",
       "69222      539988     46138B         1 2016-12-23 16:06:00       23795   \n",
       "69223      542731     17028J         5 2017-01-31 15:27:00       19279   \n",
       "69224     C540246      79320         2 2017-01-05 15:43:00       18760   \n",
       "\n",
       "      shop_id  loyalty  price     month  year  revenue  \n",
       "0      Shop 0        0   1.81  december  2016    19.91  \n",
       "1      Shop 0        0   1.81   january  2017     1.81  \n",
       "2      Shop 0        0   1.81   january  2017     3.62  \n",
       "3      Shop 0        1   1.81   january  2017    63.35  \n",
       "4      Shop 0        0   1.81  december  2016     1.81  \n",
       "...       ...      ...    ...       ...   ...      ...  \n",
       "69220  Shop 0        0   1.65  december  2016     8.25  \n",
       "69221  Shop 0        1   0.38  december  2016    13.30  \n",
       "69222  Shop 0        1   1.95  december  2016     1.95  \n",
       "69223  Shop 0        0   0.42   january  2017     2.10  \n",
       "69224  Shop 0        0   4.95   january  2017     9.90  \n",
       "\n",
       "[67517 rows x 11 columns]"
      ]
     },
     "execution_count": 47,
     "metadata": {},
     "output_type": "execute_result"
    }
   ],
   "source": [
    "data = data[~data['shop_id'].isin(small)]\n",
    "data"
   ]
  },
  {
   "cell_type": "code",
   "execution_count": 48,
   "metadata": {},
   "outputs": [
    {
     "data": {
      "image/png": "[encoded data removed]",
      "text/plain": [
       "<Figure size 648x432 with 1 Axes>"
      ]
     },
     "metadata": {},
     "output_type": "display_data"
    },
    {
     "data": {
      "image/png": "[encoded data removed]",
      "text/plain": [
       "<Figure size 648x432 with 1 Axes>"
      ]
     },
     "metadata": {},
     "output_type": "display_data"
    },
    {
     "data": {
      "image/png": "[encoded data removed]",
      "text/plain": [
       "<Figure size 648x432 with 1 Axes>"
      ]
     },
     "metadata": {},
     "output_type": "display_data"
    },
    {
     "data": {
      "image/png": "[encoded data removed]",
      "text/plain": [
       "<Figure size 648x432 with 1 Axes>"
      ]
     },
     "metadata": {},
     "output_type": "display_data"
    },
    {
     "data": {
      "image/png": "[encoded data removed]",
      "text/plain": [
       "<Figure size 648x432 with 1 Axes>"
      ]
     },
     "metadata": {},
     "output_type": "display_data"
    },
    {
     "data": {
      "image/png": "[encoded data removed]",
      "text/plain": [
       "<Figure size 648x432 with 1 Axes>"
      ]
     },
     "metadata": {},
     "output_type": "display_data"
    },
    {
     "data": {
      "image/png": "[encoded data removed]",
      "text/plain": [
       "<Figure size 648x432 with 1 Axes>"
      ]
     },
     "metadata": {},
     "output_type": "display_data"
    },
    {
     "data": {
      "image/png": "[encoded data removed]",
      "text/plain": [
       "<Figure size 648x432 with 1 Axes>"
      ]
     },
     "metadata": {},
     "output_type": "display_data"
    }
   ],
   "source": [
    "for i in data['shop_id'].unique().tolist():\n",
    "    shop = data[data['shop_id'] == i]\n",
    "    shop = shop.groupby(['year', 'month'])['purchase_id'].nunique().reset_index()\n",
    "    plt.figure(figsize=(9, 6))\n",
    "    sns.barplot(x = 'month', y = 'purchase_id', data=shop)\n",
    "    plt.ylabel('Количество покупок')\n",
    "    plt.xlabel(i)\n",
    "    plt.show()"
   ]
  },
  {
   "cell_type": "code",
   "execution_count": 49,
   "metadata": {},
   "outputs": [
    {
     "data": {
      "text/html": [
       "<div>\n",
       "<style scoped>\n",
       "    .dataframe tbody tr th:only-of-type {\n",
       "        vertical-align: middle;\n",
       "    }\n",
       "\n",
       "    .dataframe tbody tr th {\n",
       "        vertical-align: top;\n",
       "    }\n",
       "\n",
       "    .dataframe thead th {\n",
       "        text-align: right;\n",
       "    }\n",
       "</style>\n",
       "<table border=\"1\" class=\"dataframe\">\n",
       "  <thead>\n",
       "    <tr style=\"text-align: right;\">\n",
       "      <th></th>\n",
       "      <th>shop_id</th>\n",
       "      <th>year</th>\n",
       "      <th>month</th>\n",
       "      <th>purchase_id</th>\n",
       "      <th>revenue</th>\n",
       "      <th>average_receipt</th>\n",
       "    </tr>\n",
       "  </thead>\n",
       "  <tbody>\n",
       "    <tr>\n",
       "      <td>0</td>\n",
       "      <td>Shop 0</td>\n",
       "      <td>2016</td>\n",
       "      <td>december</td>\n",
       "      <td>1667</td>\n",
       "      <td>587557.58</td>\n",
       "      <td>352.46</td>\n",
       "    </tr>\n",
       "    <tr>\n",
       "      <td>1</td>\n",
       "      <td>Shop 0</td>\n",
       "      <td>2017</td>\n",
       "      <td>january</td>\n",
       "      <td>1155</td>\n",
       "      <td>440875.43</td>\n",
       "      <td>381.71</td>\n",
       "    </tr>\n",
       "    <tr>\n",
       "      <td>2</td>\n",
       "      <td>Shop 0</td>\n",
       "      <td>2017</td>\n",
       "      <td>february</td>\n",
       "      <td>1111</td>\n",
       "      <td>371078.11</td>\n",
       "      <td>334.00</td>\n",
       "    </tr>\n",
       "    <tr>\n",
       "      <td>3</td>\n",
       "      <td>Shop 1</td>\n",
       "      <td>2016</td>\n",
       "      <td>december</td>\n",
       "      <td>23</td>\n",
       "      <td>11995.43</td>\n",
       "      <td>521.54</td>\n",
       "    </tr>\n",
       "    <tr>\n",
       "      <td>4</td>\n",
       "      <td>Shop 1</td>\n",
       "      <td>2017</td>\n",
       "      <td>january</td>\n",
       "      <td>39</td>\n",
       "      <td>20700.86</td>\n",
       "      <td>530.79</td>\n",
       "    </tr>\n",
       "    <tr>\n",
       "      <td>5</td>\n",
       "      <td>Shop 1</td>\n",
       "      <td>2017</td>\n",
       "      <td>february</td>\n",
       "      <td>27</td>\n",
       "      <td>11137.05</td>\n",
       "      <td>412.48</td>\n",
       "    </tr>\n",
       "    <tr>\n",
       "      <td>6</td>\n",
       "      <td>Shop 10</td>\n",
       "      <td>2016</td>\n",
       "      <td>december</td>\n",
       "      <td>8</td>\n",
       "      <td>3032.44</td>\n",
       "      <td>379.06</td>\n",
       "    </tr>\n",
       "    <tr>\n",
       "      <td>7</td>\n",
       "      <td>Shop 10</td>\n",
       "      <td>2017</td>\n",
       "      <td>january</td>\n",
       "      <td>5</td>\n",
       "      <td>5814.04</td>\n",
       "      <td>1162.81</td>\n",
       "    </tr>\n",
       "    <tr>\n",
       "      <td>8</td>\n",
       "      <td>Shop 10</td>\n",
       "      <td>2017</td>\n",
       "      <td>february</td>\n",
       "      <td>2</td>\n",
       "      <td>1380.76</td>\n",
       "      <td>690.38</td>\n",
       "    </tr>\n",
       "    <tr>\n",
       "      <td>9</td>\n",
       "      <td>Shop 12</td>\n",
       "      <td>2016</td>\n",
       "      <td>december</td>\n",
       "      <td>5</td>\n",
       "      <td>2418.36</td>\n",
       "      <td>483.67</td>\n",
       "    </tr>\n",
       "    <tr>\n",
       "      <td>10</td>\n",
       "      <td>Shop 12</td>\n",
       "      <td>2017</td>\n",
       "      <td>january</td>\n",
       "      <td>6</td>\n",
       "      <td>1537.91</td>\n",
       "      <td>256.32</td>\n",
       "    </tr>\n",
       "    <tr>\n",
       "      <td>11</td>\n",
       "      <td>Shop 12</td>\n",
       "      <td>2017</td>\n",
       "      <td>february</td>\n",
       "      <td>10</td>\n",
       "      <td>2382.45</td>\n",
       "      <td>238.25</td>\n",
       "    </tr>\n",
       "    <tr>\n",
       "      <td>12</td>\n",
       "      <td>Shop 2</td>\n",
       "      <td>2016</td>\n",
       "      <td>december</td>\n",
       "      <td>4</td>\n",
       "      <td>1356.19</td>\n",
       "      <td>339.05</td>\n",
       "    </tr>\n",
       "    <tr>\n",
       "      <td>13</td>\n",
       "      <td>Shop 2</td>\n",
       "      <td>2017</td>\n",
       "      <td>january</td>\n",
       "      <td>8</td>\n",
       "      <td>4985.36</td>\n",
       "      <td>623.17</td>\n",
       "    </tr>\n",
       "    <tr>\n",
       "      <td>14</td>\n",
       "      <td>Shop 2</td>\n",
       "      <td>2017</td>\n",
       "      <td>february</td>\n",
       "      <td>6</td>\n",
       "      <td>4523.37</td>\n",
       "      <td>753.89</td>\n",
       "    </tr>\n",
       "    <tr>\n",
       "      <td>15</td>\n",
       "      <td>Shop 4</td>\n",
       "      <td>2016</td>\n",
       "      <td>december</td>\n",
       "      <td>42</td>\n",
       "      <td>21387.55</td>\n",
       "      <td>509.23</td>\n",
       "    </tr>\n",
       "    <tr>\n",
       "      <td>16</td>\n",
       "      <td>Shop 4</td>\n",
       "      <td>2017</td>\n",
       "      <td>january</td>\n",
       "      <td>40</td>\n",
       "      <td>22489.02</td>\n",
       "      <td>562.23</td>\n",
       "    </tr>\n",
       "    <tr>\n",
       "      <td>17</td>\n",
       "      <td>Shop 4</td>\n",
       "      <td>2017</td>\n",
       "      <td>february</td>\n",
       "      <td>31</td>\n",
       "      <td>11708.85</td>\n",
       "      <td>377.70</td>\n",
       "    </tr>\n",
       "    <tr>\n",
       "      <td>18</td>\n",
       "      <td>Shop 6</td>\n",
       "      <td>2016</td>\n",
       "      <td>december</td>\n",
       "      <td>22</td>\n",
       "      <td>13623.93</td>\n",
       "      <td>619.27</td>\n",
       "    </tr>\n",
       "    <tr>\n",
       "      <td>19</td>\n",
       "      <td>Shop 6</td>\n",
       "      <td>2017</td>\n",
       "      <td>january</td>\n",
       "      <td>9</td>\n",
       "      <td>5467.86</td>\n",
       "      <td>607.54</td>\n",
       "    </tr>\n",
       "    <tr>\n",
       "      <td>20</td>\n",
       "      <td>Shop 6</td>\n",
       "      <td>2017</td>\n",
       "      <td>february</td>\n",
       "      <td>14</td>\n",
       "      <td>12524.53</td>\n",
       "      <td>894.61</td>\n",
       "    </tr>\n",
       "    <tr>\n",
       "      <td>21</td>\n",
       "      <td>Shop 8</td>\n",
       "      <td>2016</td>\n",
       "      <td>december</td>\n",
       "      <td>4</td>\n",
       "      <td>1503.04</td>\n",
       "      <td>375.76</td>\n",
       "    </tr>\n",
       "    <tr>\n",
       "      <td>22</td>\n",
       "      <td>Shop 8</td>\n",
       "      <td>2017</td>\n",
       "      <td>january</td>\n",
       "      <td>8</td>\n",
       "      <td>7787.85</td>\n",
       "      <td>973.48</td>\n",
       "    </tr>\n",
       "    <tr>\n",
       "      <td>23</td>\n",
       "      <td>Shop 8</td>\n",
       "      <td>2017</td>\n",
       "      <td>february</td>\n",
       "      <td>5</td>\n",
       "      <td>2359.61</td>\n",
       "      <td>471.92</td>\n",
       "    </tr>\n",
       "  </tbody>\n",
       "</table>\n",
       "</div>"
      ],
      "text/plain": [
       "    shop_id  year     month  purchase_id    revenue  average_receipt\n",
       "0    Shop 0  2016  december         1667  587557.58           352.46\n",
       "1    Shop 0  2017   january         1155  440875.43           381.71\n",
       "2    Shop 0  2017  february         1111  371078.11           334.00\n",
       "3    Shop 1  2016  december           23   11995.43           521.54\n",
       "4    Shop 1  2017   january           39   20700.86           530.79\n",
       "5    Shop 1  2017  february           27   11137.05           412.48\n",
       "6   Shop 10  2016  december            8    3032.44           379.06\n",
       "7   Shop 10  2017   january            5    5814.04          1162.81\n",
       "8   Shop 10  2017  february            2    1380.76           690.38\n",
       "9   Shop 12  2016  december            5    2418.36           483.67\n",
       "10  Shop 12  2017   january            6    1537.91           256.32\n",
       "11  Shop 12  2017  february           10    2382.45           238.25\n",
       "12   Shop 2  2016  december            4    1356.19           339.05\n",
       "13   Shop 2  2017   january            8    4985.36           623.17\n",
       "14   Shop 2  2017  february            6    4523.37           753.89\n",
       "15   Shop 4  2016  december           42   21387.55           509.23\n",
       "16   Shop 4  2017   january           40   22489.02           562.23\n",
       "17   Shop 4  2017  february           31   11708.85           377.70\n",
       "18   Shop 6  2016  december           22   13623.93           619.27\n",
       "19   Shop 6  2017   january            9    5467.86           607.54\n",
       "20   Shop 6  2017  february           14   12524.53           894.61\n",
       "21   Shop 8  2016  december            4    1503.04           375.76\n",
       "22   Shop 8  2017   january            8    7787.85           973.48\n",
       "23   Shop 8  2017  february            5    2359.61           471.92"
      ]
     },
     "execution_count": 49,
     "metadata": {},
     "output_type": "execute_result"
    }
   ],
   "source": [
    "df_grouped = data.groupby(['shop_id', 'year', 'month']).agg({'purchase_id' : 'nunique', 'revenue' : 'sum'}).reset_index()\n",
    "df_grouped['average_receipt'] = df_grouped['revenue'] / df_grouped['purchase_id']\n",
    "df_grouped['average_receipt'] = df_grouped['average_receipt'].round(2)\n",
    "df_grouped"
   ]
  },
  {
   "cell_type": "code",
   "execution_count": 50,
   "metadata": {},
   "outputs": [
    {
     "data": {
      "image/png": "[encoded data removed]",
      "text/plain": [
       "<Figure size 1080x648 with 1 Axes>"
      ]
     },
     "metadata": {},
     "output_type": "display_data"
    }
   ],
   "source": [
    "sns.set(style='whitegrid')\n",
    "plt.figure(figsize=(15, 9))\n",
    "sns.lineplot(data=df_grouped, x='month', y='average_receipt', hue='shop_id', sort=False)\n",
    "plt.ylabel('Средний чек')\n",
    "plt.xlabel('Изменение среднего чека покупателей')\n",
    "plt.show()"
   ]
  },
  {
   "cell_type": "code",
   "execution_count": 51,
   "metadata": {},
   "outputs": [
    {
     "data": {
      "text/html": [
       "<div>\n",
       "<style scoped>\n",
       "    .dataframe tbody tr th:only-of-type {\n",
       "        vertical-align: middle;\n",
       "    }\n",
       "\n",
       "    .dataframe tbody tr th {\n",
       "        vertical-align: top;\n",
       "    }\n",
       "\n",
       "    .dataframe thead th {\n",
       "        text-align: right;\n",
       "    }\n",
       "</style>\n",
       "<table border=\"1\" class=\"dataframe\">\n",
       "  <thead>\n",
       "    <tr style=\"text-align: right;\">\n",
       "      <th>shop_id</th>\n",
       "      <th>Shop 0</th>\n",
       "      <th>Shop 1</th>\n",
       "      <th>Shop 10</th>\n",
       "      <th>Shop 12</th>\n",
       "      <th>Shop 2</th>\n",
       "      <th>Shop 4</th>\n",
       "      <th>Shop 6</th>\n",
       "      <th>Shop 8</th>\n",
       "    </tr>\n",
       "    <tr>\n",
       "      <th>month</th>\n",
       "      <th></th>\n",
       "      <th></th>\n",
       "      <th></th>\n",
       "      <th></th>\n",
       "      <th></th>\n",
       "      <th></th>\n",
       "      <th></th>\n",
       "      <th></th>\n",
       "    </tr>\n",
       "  </thead>\n",
       "  <tbody>\n",
       "    <tr>\n",
       "      <td>january</td>\n",
       "      <td>381.71</td>\n",
       "      <td>530.79</td>\n",
       "      <td>1162.81</td>\n",
       "      <td>256.32</td>\n",
       "      <td>623.17</td>\n",
       "      <td>562.23</td>\n",
       "      <td>607.54</td>\n",
       "      <td>973.48</td>\n",
       "    </tr>\n",
       "    <tr>\n",
       "      <td>december</td>\n",
       "      <td>352.46</td>\n",
       "      <td>521.54</td>\n",
       "      <td>379.06</td>\n",
       "      <td>483.67</td>\n",
       "      <td>339.05</td>\n",
       "      <td>509.23</td>\n",
       "      <td>619.27</td>\n",
       "      <td>375.76</td>\n",
       "    </tr>\n",
       "    <tr>\n",
       "      <td>february</td>\n",
       "      <td>334.00</td>\n",
       "      <td>412.48</td>\n",
       "      <td>690.38</td>\n",
       "      <td>238.25</td>\n",
       "      <td>753.89</td>\n",
       "      <td>377.70</td>\n",
       "      <td>894.61</td>\n",
       "      <td>471.92</td>\n",
       "    </tr>\n",
       "  </tbody>\n",
       "</table>\n",
       "</div>"
      ],
      "text/plain": [
       "shop_id   Shop 0  Shop 1  Shop 10  Shop 12  Shop 2  Shop 4  Shop 6  Shop 8\n",
       "month                                                                     \n",
       " january  381.71  530.79  1162.81   256.32  623.17  562.23  607.54  973.48\n",
       "december  352.46  521.54   379.06   483.67  339.05  509.23  619.27  375.76\n",
       "february  334.00  412.48   690.38   238.25  753.89  377.70  894.61  471.92"
      ]
     },
     "execution_count": 51,
     "metadata": {},
     "output_type": "execute_result"
    }
   ],
   "source": [
    "pivot = df_grouped.pivot_table(columns='shop_id', index='month', values='average_receipt', aggfunc='first')\n",
    "pivot"
   ]
  },
  {
   "cell_type": "code",
   "execution_count": 52,
   "metadata": {},
   "outputs": [
    {
     "data": {
      "text/html": [
       "<div>\n",
       "<style scoped>\n",
       "    .dataframe tbody tr th:only-of-type {\n",
       "        vertical-align: middle;\n",
       "    }\n",
       "\n",
       "    .dataframe tbody tr th {\n",
       "        vertical-align: top;\n",
       "    }\n",
       "\n",
       "    .dataframe thead th {\n",
       "        text-align: right;\n",
       "    }\n",
       "</style>\n",
       "<table border=\"1\" class=\"dataframe\">\n",
       "  <thead>\n",
       "    <tr style=\"text-align: right;\">\n",
       "      <th>shop_id</th>\n",
       "      <th>Shop 0</th>\n",
       "      <th>Shop 1</th>\n",
       "      <th>Shop 10</th>\n",
       "      <th>Shop 12</th>\n",
       "      <th>Shop 2</th>\n",
       "      <th>Shop 4</th>\n",
       "      <th>Shop 6</th>\n",
       "      <th>Shop 8</th>\n",
       "    </tr>\n",
       "  </thead>\n",
       "  <tbody>\n",
       "    <tr>\n",
       "      <td>december</td>\n",
       "      <td>352.46</td>\n",
       "      <td>521.54</td>\n",
       "      <td>379.06</td>\n",
       "      <td>483.67</td>\n",
       "      <td>339.05</td>\n",
       "      <td>509.23</td>\n",
       "      <td>619.27</td>\n",
       "      <td>375.76</td>\n",
       "    </tr>\n",
       "    <tr>\n",
       "      <td>january</td>\n",
       "      <td>381.71</td>\n",
       "      <td>530.79</td>\n",
       "      <td>1162.81</td>\n",
       "      <td>256.32</td>\n",
       "      <td>623.17</td>\n",
       "      <td>562.23</td>\n",
       "      <td>607.54</td>\n",
       "      <td>973.48</td>\n",
       "    </tr>\n",
       "    <tr>\n",
       "      <td>february</td>\n",
       "      <td>334.00</td>\n",
       "      <td>412.48</td>\n",
       "      <td>690.38</td>\n",
       "      <td>238.25</td>\n",
       "      <td>753.89</td>\n",
       "      <td>377.70</td>\n",
       "      <td>894.61</td>\n",
       "      <td>471.92</td>\n",
       "    </tr>\n",
       "  </tbody>\n",
       "</table>\n",
       "</div>"
      ],
      "text/plain": [
       "shop_id   Shop 0  Shop 1  Shop 10  Shop 12  Shop 2  Shop 4  Shop 6  Shop 8\n",
       "december  352.46  521.54   379.06   483.67  339.05  509.23  619.27  375.76\n",
       " january  381.71  530.79  1162.81   256.32  623.17  562.23  607.54  973.48\n",
       "february  334.00  412.48   690.38   238.25  753.89  377.70  894.61  471.92"
      ]
     },
     "execution_count": 52,
     "metadata": {},
     "output_type": "execute_result"
    }
   ],
   "source": [
    "pivot = pd.DataFrame(pivot, index=['december', ' january', 'february'])\n",
    "pivot"
   ]
  },
  {
   "cell_type": "code",
   "execution_count": 53,
   "metadata": {},
   "outputs": [
    {
     "data": {
      "image/png": "[encoded data removed]",
      "text/plain": [
       "<Figure size 1080x648 with 1 Axes>"
      ]
     },
     "metadata": {},
     "output_type": "display_data"
    }
   ],
   "source": [
    "pivot.plot.area(figsize=(15, 9))\n",
    "plt.title('Область с накоплением для среднего чека')\n",
    "plt.show()"
   ]
  },
  {
   "cell_type": "markdown",
   "metadata": {},
   "source": [
    "По итогам исследования можно выделить эффективные торговые точки, к ним относятся магазины с номерами: 2, 6, 8, 10. Из этого топа можно выделить 2 и 6, в них средний чек растет.\n",
    "\n",
    "## Проверка эффективности программы лояльности\n",
    "\n",
    "Политика сети магазинов предусматривает наличие программы лояльности для покупателей. Необходимо статистически сравнить эти две группы покупателей, и это покажет эффективна ли программа лояльности или нет. В качестве индикатора эффективности программы, также возьмем показатель среднего чека, и проверим равны ли средние чеки пользователей программы и средние чеки других покупателей.\n",
    "\n",
    "### Формулировка гипотез\n",
    "\n",
    "Составим четкие и однозначные нулевую и альтернативную ей гипотез.\n",
    "\n",
    "Нулевая гипотеза(Н0) - средние чеки покупателей из программы лояльности и без программы **равны**\n",
    "\n",
    "Альтернативная теория(Н1) - средние чеки различных покупателей **не равны**\n",
    "\n",
    "### Проверка статистических гипотез\n",
    "\n",
    "Проверим гипотезы с помощью средст библиотеки scipy.\n",
    "\n",
    "Для начала проверим и подготовим выборки. Поскольку сравниваем средние чеки, данные с нулевым количеством товара не используем. Так же нужно проверить на протяжении всего ли исследуемого периода покупатели пользовались программой лояльности, и тем самым разделить их:"
   ]
  },
  {
   "cell_type": "code",
   "execution_count": 54,
   "metadata": {},
   "outputs": [
    {
     "data": {
      "text/html": [
       "<div>\n",
       "<style scoped>\n",
       "    .dataframe tbody tr th:only-of-type {\n",
       "        vertical-align: middle;\n",
       "    }\n",
       "\n",
       "    .dataframe tbody tr th {\n",
       "        vertical-align: top;\n",
       "    }\n",
       "\n",
       "    .dataframe thead th {\n",
       "        text-align: right;\n",
       "    }\n",
       "</style>\n",
       "<table border=\"1\" class=\"dataframe\">\n",
       "  <thead>\n",
       "    <tr style=\"text-align: right;\">\n",
       "      <th></th>\n",
       "      <th>purchase_id</th>\n",
       "      <th>product_id</th>\n",
       "      <th>quantity</th>\n",
       "      <th>purchase_date</th>\n",
       "      <th>customer_id</th>\n",
       "      <th>shop_id</th>\n",
       "      <th>loyalty</th>\n",
       "      <th>price</th>\n",
       "      <th>month</th>\n",
       "      <th>year</th>\n",
       "      <th>revenue</th>\n",
       "    </tr>\n",
       "  </thead>\n",
       "  <tbody>\n",
       "    <tr>\n",
       "      <td>0</td>\n",
       "      <td>538280</td>\n",
       "      <td>21873</td>\n",
       "      <td>11</td>\n",
       "      <td>2016-12-10 12:50:00</td>\n",
       "      <td>18427</td>\n",
       "      <td>Shop 0</td>\n",
       "      <td>0</td>\n",
       "      <td>1.81</td>\n",
       "      <td>december</td>\n",
       "      <td>2016</td>\n",
       "      <td>19.91</td>\n",
       "    </tr>\n",
       "    <tr>\n",
       "      <td>1</td>\n",
       "      <td>540418</td>\n",
       "      <td>21873</td>\n",
       "      <td>1</td>\n",
       "      <td>2017-01-07 11:04:00</td>\n",
       "      <td>Unknown</td>\n",
       "      <td>Shop 0</td>\n",
       "      <td>0</td>\n",
       "      <td>1.81</td>\n",
       "      <td>january</td>\n",
       "      <td>2017</td>\n",
       "      <td>1.81</td>\n",
       "    </tr>\n",
       "    <tr>\n",
       "      <td>2</td>\n",
       "      <td>541516</td>\n",
       "      <td>21873</td>\n",
       "      <td>2</td>\n",
       "      <td>2017-01-18 17:34:00</td>\n",
       "      <td>Unknown</td>\n",
       "      <td>Shop 0</td>\n",
       "      <td>0</td>\n",
       "      <td>1.81</td>\n",
       "      <td>january</td>\n",
       "      <td>2017</td>\n",
       "      <td>3.62</td>\n",
       "    </tr>\n",
       "    <tr>\n",
       "      <td>3</td>\n",
       "      <td>541566</td>\n",
       "      <td>21873</td>\n",
       "      <td>35</td>\n",
       "      <td>2017-01-19 11:50:00</td>\n",
       "      <td>23401</td>\n",
       "      <td>Shop 0</td>\n",
       "      <td>1</td>\n",
       "      <td>1.81</td>\n",
       "      <td>january</td>\n",
       "      <td>2017</td>\n",
       "      <td>63.35</td>\n",
       "    </tr>\n",
       "    <tr>\n",
       "      <td>4</td>\n",
       "      <td>538843</td>\n",
       "      <td>21873</td>\n",
       "      <td>1</td>\n",
       "      <td>2016-12-14 13:18:00</td>\n",
       "      <td>21712</td>\n",
       "      <td>Shop 0</td>\n",
       "      <td>0</td>\n",
       "      <td>1.81</td>\n",
       "      <td>december</td>\n",
       "      <td>2016</td>\n",
       "      <td>1.81</td>\n",
       "    </tr>\n",
       "    <tr>\n",
       "      <td>...</td>\n",
       "      <td>...</td>\n",
       "      <td>...</td>\n",
       "      <td>...</td>\n",
       "      <td>...</td>\n",
       "      <td>...</td>\n",
       "      <td>...</td>\n",
       "      <td>...</td>\n",
       "      <td>...</td>\n",
       "      <td>...</td>\n",
       "      <td>...</td>\n",
       "      <td>...</td>\n",
       "    </tr>\n",
       "    <tr>\n",
       "      <td>69220</td>\n",
       "      <td>539009</td>\n",
       "      <td>79329</td>\n",
       "      <td>5</td>\n",
       "      <td>2016-12-15 13:24:00</td>\n",
       "      <td>18900</td>\n",
       "      <td>Shop 0</td>\n",
       "      <td>0</td>\n",
       "      <td>1.65</td>\n",
       "      <td>december</td>\n",
       "      <td>2016</td>\n",
       "      <td>8.25</td>\n",
       "    </tr>\n",
       "    <tr>\n",
       "      <td>69221</td>\n",
       "      <td>538852</td>\n",
       "      <td>90058B</td>\n",
       "      <td>35</td>\n",
       "      <td>2016-12-14 13:33:00</td>\n",
       "      <td>23051</td>\n",
       "      <td>Shop 0</td>\n",
       "      <td>1</td>\n",
       "      <td>0.38</td>\n",
       "      <td>december</td>\n",
       "      <td>2016</td>\n",
       "      <td>13.30</td>\n",
       "    </tr>\n",
       "    <tr>\n",
       "      <td>69222</td>\n",
       "      <td>539988</td>\n",
       "      <td>46138B</td>\n",
       "      <td>1</td>\n",
       "      <td>2016-12-23 16:06:00</td>\n",
       "      <td>23795</td>\n",
       "      <td>Shop 0</td>\n",
       "      <td>1</td>\n",
       "      <td>1.95</td>\n",
       "      <td>december</td>\n",
       "      <td>2016</td>\n",
       "      <td>1.95</td>\n",
       "    </tr>\n",
       "    <tr>\n",
       "      <td>69223</td>\n",
       "      <td>542731</td>\n",
       "      <td>17028J</td>\n",
       "      <td>5</td>\n",
       "      <td>2017-01-31 15:27:00</td>\n",
       "      <td>19279</td>\n",
       "      <td>Shop 0</td>\n",
       "      <td>0</td>\n",
       "      <td>0.42</td>\n",
       "      <td>january</td>\n",
       "      <td>2017</td>\n",
       "      <td>2.10</td>\n",
       "    </tr>\n",
       "    <tr>\n",
       "      <td>69224</td>\n",
       "      <td>C540246</td>\n",
       "      <td>79320</td>\n",
       "      <td>2</td>\n",
       "      <td>2017-01-05 15:43:00</td>\n",
       "      <td>18760</td>\n",
       "      <td>Shop 0</td>\n",
       "      <td>0</td>\n",
       "      <td>4.95</td>\n",
       "      <td>january</td>\n",
       "      <td>2017</td>\n",
       "      <td>9.90</td>\n",
       "    </tr>\n",
       "  </tbody>\n",
       "</table>\n",
       "<p>69225 rows × 11 columns</p>\n",
       "</div>"
      ],
      "text/plain": [
       "      purchase_id product_id  quantity       purchase_date customer_id  \\\n",
       "0          538280      21873        11 2016-12-10 12:50:00       18427   \n",
       "1          540418      21873         1 2017-01-07 11:04:00     Unknown   \n",
       "2          541516      21873         2 2017-01-18 17:34:00     Unknown   \n",
       "3          541566      21873        35 2017-01-19 11:50:00       23401   \n",
       "4          538843      21873         1 2016-12-14 13:18:00       21712   \n",
       "...           ...        ...       ...                 ...         ...   \n",
       "69220      539009      79329         5 2016-12-15 13:24:00       18900   \n",
       "69221      538852     90058B        35 2016-12-14 13:33:00       23051   \n",
       "69222      539988     46138B         1 2016-12-23 16:06:00       23795   \n",
       "69223      542731     17028J         5 2017-01-31 15:27:00       19279   \n",
       "69224     C540246      79320         2 2017-01-05 15:43:00       18760   \n",
       "\n",
       "      shop_id  loyalty  price     month  year  revenue  \n",
       "0      Shop 0        0   1.81  december  2016    19.91  \n",
       "1      Shop 0        0   1.81   january  2017     1.81  \n",
       "2      Shop 0        0   1.81   january  2017     3.62  \n",
       "3      Shop 0        1   1.81   january  2017    63.35  \n",
       "4      Shop 0        0   1.81  december  2016     1.81  \n",
       "...       ...      ...    ...       ...   ...      ...  \n",
       "69220  Shop 0        0   1.65  december  2016     8.25  \n",
       "69221  Shop 0        1   0.38  december  2016    13.30  \n",
       "69222  Shop 0        1   1.95  december  2016     1.95  \n",
       "69223  Shop 0        0   0.42   january  2017     2.10  \n",
       "69224  Shop 0        0   4.95   january  2017     9.90  \n",
       "\n",
       "[69225 rows x 11 columns]"
      ]
     },
     "execution_count": 54,
     "metadata": {},
     "output_type": "execute_result"
    }
   ],
   "source": [
    "df_without_zero                 "
   ]
  },
  {
   "cell_type": "code",
   "execution_count": 55,
   "metadata": {},
   "outputs": [
    {
     "data": {
      "text/plain": [
       "Series([], Name: loyalty, dtype: int32)"
      ]
     },
     "execution_count": 55,
     "metadata": {},
     "output_type": "execute_result"
    }
   ],
   "source": [
    "ident = df_without_zero[df_without_zero['customer_id'] != 'Unknown']\n",
    "ident_gr = ident.groupby('customer_id')['loyalty'].mean()\n",
    "ident_gr[(ident_gr < 1) & (ident_gr > 0)]"
   ]
  },
  {
   "cell_type": "markdown",
   "metadata": {},
   "source": [
    "Итак, на протяжении всего периоди покупатель либо пользовался программой лояльности либо нет.\n",
    "\n",
    "Пользователей без идентификатора, так же используем в исследовании. Будем считать, что каждый неизвестный покупатель совершил лишь одну покупку. Вместо ID пользователя присвоим таким покупателям ID чека, а сумма всего чека и будет для них средним чеком."
   ]
  },
  {
   "cell_type": "code",
   "execution_count": 56,
   "metadata": {},
   "outputs": [
    {
     "data": {
      "text/html": [
       "<div>\n",
       "<style scoped>\n",
       "    .dataframe tbody tr th:only-of-type {\n",
       "        vertical-align: middle;\n",
       "    }\n",
       "\n",
       "    .dataframe tbody tr th {\n",
       "        vertical-align: top;\n",
       "    }\n",
       "\n",
       "    .dataframe thead th {\n",
       "        text-align: right;\n",
       "    }\n",
       "</style>\n",
       "<table border=\"1\" class=\"dataframe\">\n",
       "  <thead>\n",
       "    <tr style=\"text-align: right;\">\n",
       "      <th></th>\n",
       "      <th>customer_id</th>\n",
       "      <th>average_receipt</th>\n",
       "      <th>loyalty</th>\n",
       "    </tr>\n",
       "  </thead>\n",
       "  <tbody>\n",
       "    <tr>\n",
       "      <td>0</td>\n",
       "      <td>536414</td>\n",
       "      <td>426.25</td>\n",
       "      <td>0</td>\n",
       "    </tr>\n",
       "    <tr>\n",
       "      <td>1</td>\n",
       "      <td>536544</td>\n",
       "      <td>2334.95</td>\n",
       "      <td>0</td>\n",
       "    </tr>\n",
       "    <tr>\n",
       "      <td>2</td>\n",
       "      <td>536553</td>\n",
       "      <td>2.50</td>\n",
       "      <td>0</td>\n",
       "    </tr>\n",
       "    <tr>\n",
       "      <td>3</td>\n",
       "      <td>536589</td>\n",
       "      <td>87.45</td>\n",
       "      <td>0</td>\n",
       "    </tr>\n",
       "    <tr>\n",
       "      <td>4</td>\n",
       "      <td>536592</td>\n",
       "      <td>3049.45</td>\n",
       "      <td>0</td>\n",
       "    </tr>\n",
       "    <tr>\n",
       "      <td>...</td>\n",
       "      <td>...</td>\n",
       "      <td>...</td>\n",
       "      <td>...</td>\n",
       "    </tr>\n",
       "    <tr>\n",
       "      <td>462</td>\n",
       "      <td>C541492</td>\n",
       "      <td>77.02</td>\n",
       "      <td>0</td>\n",
       "    </tr>\n",
       "    <tr>\n",
       "      <td>463</td>\n",
       "      <td>C542540</td>\n",
       "      <td>47.70</td>\n",
       "      <td>0</td>\n",
       "    </tr>\n",
       "    <tr>\n",
       "      <td>464</td>\n",
       "      <td>C542860</td>\n",
       "      <td>17.20</td>\n",
       "      <td>0</td>\n",
       "    </tr>\n",
       "    <tr>\n",
       "      <td>465</td>\n",
       "      <td>C543185</td>\n",
       "      <td>68.55</td>\n",
       "      <td>0</td>\n",
       "    </tr>\n",
       "    <tr>\n",
       "      <td>466</td>\n",
       "      <td>C543384</td>\n",
       "      <td>21.64</td>\n",
       "      <td>0</td>\n",
       "    </tr>\n",
       "  </tbody>\n",
       "</table>\n",
       "<p>467 rows × 3 columns</p>\n",
       "</div>"
      ],
      "text/plain": [
       "    customer_id  average_receipt  loyalty\n",
       "0        536414           426.25        0\n",
       "1        536544          2334.95        0\n",
       "2        536553             2.50        0\n",
       "3        536589            87.45        0\n",
       "4        536592          3049.45        0\n",
       "..          ...              ...      ...\n",
       "462     C541492            77.02        0\n",
       "463     C542540            47.70        0\n",
       "464     C542860            17.20        0\n",
       "465     C543185            68.55        0\n",
       "466     C543384            21.64        0\n",
       "\n",
       "[467 rows x 3 columns]"
      ]
     },
     "execution_count": 56,
     "metadata": {},
     "output_type": "execute_result"
    }
   ],
   "source": [
    "inco = df_without_zero[df_without_zero['customer_id'] == 'Unknown']\n",
    "inco = inco.groupby('purchase_id')['revenue'].sum().reset_index()\n",
    "inco = inco.rename(columns = {'purchase_id':'customer_id', 'revenue':'average_receipt'})\n",
    "inco['loyalty'] = 0\n",
    "inco"
   ]
  },
  {
   "cell_type": "code",
   "execution_count": 57,
   "metadata": {},
   "outputs": [
    {
     "data": {
      "text/html": [
       "<div>\n",
       "<style scoped>\n",
       "    .dataframe tbody tr th:only-of-type {\n",
       "        vertical-align: middle;\n",
       "    }\n",
       "\n",
       "    .dataframe tbody tr th {\n",
       "        vertical-align: top;\n",
       "    }\n",
       "\n",
       "    .dataframe thead th {\n",
       "        text-align: right;\n",
       "    }\n",
       "</style>\n",
       "<table border=\"1\" class=\"dataframe\">\n",
       "  <thead>\n",
       "    <tr style=\"text-align: right;\">\n",
       "      <th></th>\n",
       "      <th>customer_id</th>\n",
       "      <th>average_receipt</th>\n",
       "      <th>loyalty</th>\n",
       "    </tr>\n",
       "  </thead>\n",
       "  <tbody>\n",
       "    <tr>\n",
       "      <td>0</td>\n",
       "      <td>18026.0</td>\n",
       "      <td>893.31</td>\n",
       "      <td>0</td>\n",
       "    </tr>\n",
       "    <tr>\n",
       "      <td>1</td>\n",
       "      <td>18027.0</td>\n",
       "      <td>206.12</td>\n",
       "      <td>0</td>\n",
       "    </tr>\n",
       "    <tr>\n",
       "      <td>2</td>\n",
       "      <td>18029.0</td>\n",
       "      <td>397.06</td>\n",
       "      <td>0</td>\n",
       "    </tr>\n",
       "    <tr>\n",
       "      <td>3</td>\n",
       "      <td>18031.0</td>\n",
       "      <td>385.44</td>\n",
       "      <td>0</td>\n",
       "    </tr>\n",
       "    <tr>\n",
       "      <td>4</td>\n",
       "      <td>18035.0</td>\n",
       "      <td>3355.65</td>\n",
       "      <td>0</td>\n",
       "    </tr>\n",
       "    <tr>\n",
       "      <td>...</td>\n",
       "      <td>...</td>\n",
       "      <td>...</td>\n",
       "      <td>...</td>\n",
       "    </tr>\n",
       "    <tr>\n",
       "      <td>1680</td>\n",
       "      <td>23938.0</td>\n",
       "      <td>588.57</td>\n",
       "      <td>1</td>\n",
       "    </tr>\n",
       "    <tr>\n",
       "      <td>1681</td>\n",
       "      <td>23939.0</td>\n",
       "      <td>350.02</td>\n",
       "      <td>1</td>\n",
       "    </tr>\n",
       "    <tr>\n",
       "      <td>1682</td>\n",
       "      <td>23948.0</td>\n",
       "      <td>130.99</td>\n",
       "      <td>1</td>\n",
       "    </tr>\n",
       "    <tr>\n",
       "      <td>1683</td>\n",
       "      <td>23956.0</td>\n",
       "      <td>34.74</td>\n",
       "      <td>1</td>\n",
       "    </tr>\n",
       "    <tr>\n",
       "      <td>1684</td>\n",
       "      <td>23962.0</td>\n",
       "      <td>34.99</td>\n",
       "      <td>1</td>\n",
       "    </tr>\n",
       "  </tbody>\n",
       "</table>\n",
       "<p>1685 rows × 3 columns</p>\n",
       "</div>"
      ],
      "text/plain": [
       "      customer_id  average_receipt  loyalty\n",
       "0         18026.0           893.31        0\n",
       "1         18027.0           206.12        0\n",
       "2         18029.0           397.06        0\n",
       "3         18031.0           385.44        0\n",
       "4         18035.0          3355.65        0\n",
       "...           ...              ...      ...\n",
       "1680      23938.0           588.57        1\n",
       "1681      23939.0           350.02        1\n",
       "1682      23948.0           130.99        1\n",
       "1683      23956.0            34.74        1\n",
       "1684      23962.0            34.99        1\n",
       "\n",
       "[1685 rows x 3 columns]"
      ]
     },
     "execution_count": 57,
     "metadata": {},
     "output_type": "execute_result"
    }
   ],
   "source": [
    "ident_grouped = ident.groupby('customer_id').agg({'purchase_id':'nunique', 'revenue':'sum', 'loyalty':'first'}).reset_index()\n",
    "ident_grouped['average_receipt'] = ident_grouped['revenue'] / ident_grouped['purchase_id']\n",
    "ident_grouped['average_receipt'] = ident_grouped['average_receipt'].round(2)\n",
    "ident_grouped = ident_grouped[['customer_id', 'average_receipt', 'loyalty']]\n",
    "ident_grouped"
   ]
  },
  {
   "cell_type": "code",
   "execution_count": 58,
   "metadata": {},
   "outputs": [
    {
     "data": {
      "text/html": [
       "<div>\n",
       "<style scoped>\n",
       "    .dataframe tbody tr th:only-of-type {\n",
       "        vertical-align: middle;\n",
       "    }\n",
       "\n",
       "    .dataframe tbody tr th {\n",
       "        vertical-align: top;\n",
       "    }\n",
       "\n",
       "    .dataframe thead th {\n",
       "        text-align: right;\n",
       "    }\n",
       "</style>\n",
       "<table border=\"1\" class=\"dataframe\">\n",
       "  <thead>\n",
       "    <tr style=\"text-align: right;\">\n",
       "      <th></th>\n",
       "      <th>customer_id</th>\n",
       "      <th>average_receipt</th>\n",
       "      <th>loyalty</th>\n",
       "    </tr>\n",
       "  </thead>\n",
       "  <tbody>\n",
       "    <tr>\n",
       "      <td>0</td>\n",
       "      <td>18026</td>\n",
       "      <td>893.31</td>\n",
       "      <td>0</td>\n",
       "    </tr>\n",
       "    <tr>\n",
       "      <td>1</td>\n",
       "      <td>18027</td>\n",
       "      <td>206.12</td>\n",
       "      <td>0</td>\n",
       "    </tr>\n",
       "    <tr>\n",
       "      <td>2</td>\n",
       "      <td>18029</td>\n",
       "      <td>397.06</td>\n",
       "      <td>0</td>\n",
       "    </tr>\n",
       "    <tr>\n",
       "      <td>3</td>\n",
       "      <td>18031</td>\n",
       "      <td>385.44</td>\n",
       "      <td>0</td>\n",
       "    </tr>\n",
       "    <tr>\n",
       "      <td>4</td>\n",
       "      <td>18035</td>\n",
       "      <td>3355.65</td>\n",
       "      <td>0</td>\n",
       "    </tr>\n",
       "    <tr>\n",
       "      <td>...</td>\n",
       "      <td>...</td>\n",
       "      <td>...</td>\n",
       "      <td>...</td>\n",
       "    </tr>\n",
       "    <tr>\n",
       "      <td>2147</td>\n",
       "      <td>C541492</td>\n",
       "      <td>77.02</td>\n",
       "      <td>0</td>\n",
       "    </tr>\n",
       "    <tr>\n",
       "      <td>2148</td>\n",
       "      <td>C542540</td>\n",
       "      <td>47.70</td>\n",
       "      <td>0</td>\n",
       "    </tr>\n",
       "    <tr>\n",
       "      <td>2149</td>\n",
       "      <td>C542860</td>\n",
       "      <td>17.20</td>\n",
       "      <td>0</td>\n",
       "    </tr>\n",
       "    <tr>\n",
       "      <td>2150</td>\n",
       "      <td>C543185</td>\n",
       "      <td>68.55</td>\n",
       "      <td>0</td>\n",
       "    </tr>\n",
       "    <tr>\n",
       "      <td>2151</td>\n",
       "      <td>C543384</td>\n",
       "      <td>21.64</td>\n",
       "      <td>0</td>\n",
       "    </tr>\n",
       "  </tbody>\n",
       "</table>\n",
       "<p>2152 rows × 3 columns</p>\n",
       "</div>"
      ],
      "text/plain": [
       "     customer_id  average_receipt  loyalty\n",
       "0          18026           893.31        0\n",
       "1          18027           206.12        0\n",
       "2          18029           397.06        0\n",
       "3          18031           385.44        0\n",
       "4          18035          3355.65        0\n",
       "...          ...              ...      ...\n",
       "2147     C541492            77.02        0\n",
       "2148     C542540            47.70        0\n",
       "2149     C542860            17.20        0\n",
       "2150     C543185            68.55        0\n",
       "2151     C543384            21.64        0\n",
       "\n",
       "[2152 rows x 3 columns]"
      ]
     },
     "execution_count": 58,
     "metadata": {},
     "output_type": "execute_result"
    }
   ],
   "source": [
    "df_customer = pd.concat([ident_grouped, inco]).reset_index(drop=True)\n",
    "df_customer"
   ]
  },
  {
   "cell_type": "markdown",
   "metadata": {},
   "source": [
    "Теперь все готово, осталось подготовить выборки для теста:"
   ]
  },
  {
   "cell_type": "code",
   "execution_count": 59,
   "metadata": {},
   "outputs": [
    {
     "data": {
      "text/html": [
       "<div>\n",
       "<style scoped>\n",
       "    .dataframe tbody tr th:only-of-type {\n",
       "        vertical-align: middle;\n",
       "    }\n",
       "\n",
       "    .dataframe tbody tr th {\n",
       "        vertical-align: top;\n",
       "    }\n",
       "\n",
       "    .dataframe thead th {\n",
       "        text-align: right;\n",
       "    }\n",
       "</style>\n",
       "<table border=\"1\" class=\"dataframe\">\n",
       "  <thead>\n",
       "    <tr style=\"text-align: right;\">\n",
       "      <th></th>\n",
       "      <th>customer_id</th>\n",
       "      <th>average_receipt</th>\n",
       "      <th>loyalty</th>\n",
       "    </tr>\n",
       "  </thead>\n",
       "  <tbody>\n",
       "    <tr>\n",
       "      <td>1121</td>\n",
       "      <td>22005</td>\n",
       "      <td>110.06</td>\n",
       "      <td>1</td>\n",
       "    </tr>\n",
       "    <tr>\n",
       "      <td>1122</td>\n",
       "      <td>22006</td>\n",
       "      <td>811.24</td>\n",
       "      <td>1</td>\n",
       "    </tr>\n",
       "    <tr>\n",
       "      <td>1123</td>\n",
       "      <td>22011</td>\n",
       "      <td>107.40</td>\n",
       "      <td>1</td>\n",
       "    </tr>\n",
       "    <tr>\n",
       "      <td>1124</td>\n",
       "      <td>22018</td>\n",
       "      <td>8.49</td>\n",
       "      <td>1</td>\n",
       "    </tr>\n",
       "    <tr>\n",
       "      <td>1125</td>\n",
       "      <td>22029</td>\n",
       "      <td>274.76</td>\n",
       "      <td>1</td>\n",
       "    </tr>\n",
       "    <tr>\n",
       "      <td>...</td>\n",
       "      <td>...</td>\n",
       "      <td>...</td>\n",
       "      <td>...</td>\n",
       "    </tr>\n",
       "    <tr>\n",
       "      <td>1680</td>\n",
       "      <td>23938</td>\n",
       "      <td>588.57</td>\n",
       "      <td>1</td>\n",
       "    </tr>\n",
       "    <tr>\n",
       "      <td>1681</td>\n",
       "      <td>23939</td>\n",
       "      <td>350.02</td>\n",
       "      <td>1</td>\n",
       "    </tr>\n",
       "    <tr>\n",
       "      <td>1682</td>\n",
       "      <td>23948</td>\n",
       "      <td>130.99</td>\n",
       "      <td>1</td>\n",
       "    </tr>\n",
       "    <tr>\n",
       "      <td>1683</td>\n",
       "      <td>23956</td>\n",
       "      <td>34.74</td>\n",
       "      <td>1</td>\n",
       "    </tr>\n",
       "    <tr>\n",
       "      <td>1684</td>\n",
       "      <td>23962</td>\n",
       "      <td>34.99</td>\n",
       "      <td>1</td>\n",
       "    </tr>\n",
       "  </tbody>\n",
       "</table>\n",
       "<p>564 rows × 3 columns</p>\n",
       "</div>"
      ],
      "text/plain": [
       "     customer_id  average_receipt  loyalty\n",
       "1121       22005           110.06        1\n",
       "1122       22006           811.24        1\n",
       "1123       22011           107.40        1\n",
       "1124       22018             8.49        1\n",
       "1125       22029           274.76        1\n",
       "...          ...              ...      ...\n",
       "1680       23938           588.57        1\n",
       "1681       23939           350.02        1\n",
       "1682       23948           130.99        1\n",
       "1683       23956            34.74        1\n",
       "1684       23962            34.99        1\n",
       "\n",
       "[564 rows x 3 columns]"
      ]
     },
     "execution_count": 59,
     "metadata": {},
     "output_type": "execute_result"
    }
   ],
   "source": [
    "loyalty = df_customer[df_customer['loyalty'] == 1]\n",
    "loyalty"
   ]
  },
  {
   "cell_type": "code",
   "execution_count": 60,
   "metadata": {},
   "outputs": [
    {
     "data": {
      "text/html": [
       "<div>\n",
       "<style scoped>\n",
       "    .dataframe tbody tr th:only-of-type {\n",
       "        vertical-align: middle;\n",
       "    }\n",
       "\n",
       "    .dataframe tbody tr th {\n",
       "        vertical-align: top;\n",
       "    }\n",
       "\n",
       "    .dataframe thead th {\n",
       "        text-align: right;\n",
       "    }\n",
       "</style>\n",
       "<table border=\"1\" class=\"dataframe\">\n",
       "  <thead>\n",
       "    <tr style=\"text-align: right;\">\n",
       "      <th></th>\n",
       "      <th>customer_id</th>\n",
       "      <th>average_receipt</th>\n",
       "      <th>loyalty</th>\n",
       "    </tr>\n",
       "  </thead>\n",
       "  <tbody>\n",
       "    <tr>\n",
       "      <td>0</td>\n",
       "      <td>18026</td>\n",
       "      <td>893.31</td>\n",
       "      <td>0</td>\n",
       "    </tr>\n",
       "    <tr>\n",
       "      <td>1</td>\n",
       "      <td>18027</td>\n",
       "      <td>206.12</td>\n",
       "      <td>0</td>\n",
       "    </tr>\n",
       "    <tr>\n",
       "      <td>2</td>\n",
       "      <td>18029</td>\n",
       "      <td>397.06</td>\n",
       "      <td>0</td>\n",
       "    </tr>\n",
       "    <tr>\n",
       "      <td>3</td>\n",
       "      <td>18031</td>\n",
       "      <td>385.44</td>\n",
       "      <td>0</td>\n",
       "    </tr>\n",
       "    <tr>\n",
       "      <td>4</td>\n",
       "      <td>18035</td>\n",
       "      <td>3355.65</td>\n",
       "      <td>0</td>\n",
       "    </tr>\n",
       "    <tr>\n",
       "      <td>...</td>\n",
       "      <td>...</td>\n",
       "      <td>...</td>\n",
       "      <td>...</td>\n",
       "    </tr>\n",
       "    <tr>\n",
       "      <td>2147</td>\n",
       "      <td>C541492</td>\n",
       "      <td>77.02</td>\n",
       "      <td>0</td>\n",
       "    </tr>\n",
       "    <tr>\n",
       "      <td>2148</td>\n",
       "      <td>C542540</td>\n",
       "      <td>47.70</td>\n",
       "      <td>0</td>\n",
       "    </tr>\n",
       "    <tr>\n",
       "      <td>2149</td>\n",
       "      <td>C542860</td>\n",
       "      <td>17.20</td>\n",
       "      <td>0</td>\n",
       "    </tr>\n",
       "    <tr>\n",
       "      <td>2150</td>\n",
       "      <td>C543185</td>\n",
       "      <td>68.55</td>\n",
       "      <td>0</td>\n",
       "    </tr>\n",
       "    <tr>\n",
       "      <td>2151</td>\n",
       "      <td>C543384</td>\n",
       "      <td>21.64</td>\n",
       "      <td>0</td>\n",
       "    </tr>\n",
       "  </tbody>\n",
       "</table>\n",
       "<p>1588 rows × 3 columns</p>\n",
       "</div>"
      ],
      "text/plain": [
       "     customer_id  average_receipt  loyalty\n",
       "0          18026           893.31        0\n",
       "1          18027           206.12        0\n",
       "2          18029           397.06        0\n",
       "3          18031           385.44        0\n",
       "4          18035          3355.65        0\n",
       "...          ...              ...      ...\n",
       "2147     C541492            77.02        0\n",
       "2148     C542540            47.70        0\n",
       "2149     C542860            17.20        0\n",
       "2150     C543185            68.55        0\n",
       "2151     C543384            21.64        0\n",
       "\n",
       "[1588 rows x 3 columns]"
      ]
     },
     "execution_count": 60,
     "metadata": {},
     "output_type": "execute_result"
    }
   ],
   "source": [
    "not_loyalty = df_customer[df_customer['loyalty'] == 0]\n",
    "not_loyalty"
   ]
  },
  {
   "cell_type": "markdown",
   "metadata": {},
   "source": [
    "Выборки сильно различаются по размеру, это следует учесть при проведении теста.\n",
    "\n",
    "Приступим к проверке статистических гипотез:"
   ]
  },
  {
   "cell_type": "code",
   "execution_count": 61,
   "metadata": {},
   "outputs": [
    {
     "name": "stdout",
     "output_type": "stream",
     "text": [
      "p-значение: 5.25236187685452e-05\n",
      "Отвергаем нулевую гипотезу.\n"
     ]
    }
   ],
   "source": [
    "loyalty = loyalty['average_receipt']\n",
    "not_loyalty = not_loyalty['average_receipt']\n",
    "\n",
    "alpha = 0.05                                    \n",
    "\n",
    "results = st.ttest_ind(loyalty, not_loyalty, equal_var = False)  #из-за различия размеров выборок equal_var = False\n",
    "\n",
    "print('p-значение:', results.pvalue)\n",
    "\n",
    "if results.pvalue < alpha:\n",
    "    print('Отвергаем нулевую гипотезу.')\n",
    "else:\n",
    "    print('Не удалось отвергнуть нулевую гипотезу.')"
   ]
  },
  {
   "cell_type": "code",
   "execution_count": 62,
   "metadata": {},
   "outputs": [
    {
     "data": {
      "text/plain": [
       "329.3329787234042"
      ]
     },
     "execution_count": 62,
     "metadata": {},
     "output_type": "execute_result"
    }
   ],
   "source": [
    "loyalty.mean()"
   ]
  },
  {
   "cell_type": "code",
   "execution_count": 63,
   "metadata": {},
   "outputs": [
    {
     "data": {
      "text/plain": [
       "411.2206612090681"
      ]
     },
     "execution_count": 63,
     "metadata": {},
     "output_type": "execute_result"
    }
   ],
   "source": [
    "not_loyalty.mean()"
   ]
  },
  {
   "cell_type": "markdown",
   "metadata": {},
   "source": [
    "Тест однозначно утверждает, что средние чеки покупателей отличаются. Вот только их среднее значение для покупателей из программы меньше чем для покупателей без неё, а это означает что программа не так уж и эффективна."
   ]
  },
  {
   "cell_type": "markdown",
   "metadata": {},
   "source": [
    "## Вывод и рекомендации\n",
    "\n",
    "По результатам исследования, можно определить эффективные торговые точки, ими являются магазины под номерами: 2, 6, 8 и 10, развитие остальных точек следует организовать по такому же сценарию и прообразу, как для этих магазинов.\n",
    "\n",
    "Так же, исследование показало, что программа лояльности не является такой уж и эффективной, ожидалось что ее пользователи являются более прибыльными, но это не так. Поэтому следует внести изменения в политику данной программы."
   ]
  }
 ],
 "metadata": {
  "ExecuteTimeLog": [
   {
    "duration": 742,
    "start_time": "2022-02-05T06:48:54.440Z"
   },
   {
    "duration": 2606,
    "start_time": "2022-02-05T06:48:55.185Z"
   },
   {
    "duration": 985,
    "start_time": "2022-02-05T06:48:56.809Z"
   },
   {
    "duration": 2615,
    "start_time": "2022-02-05T06:49:06.244Z"
   },
   {
    "duration": 2696,
    "start_time": "2022-02-05T06:49:11.159Z"
   },
   {
    "duration": 2329,
    "start_time": "2022-02-05T06:50:23.324Z"
   },
   {
    "duration": 157,
    "start_time": "2022-02-05T06:50:26.492Z"
   },
   {
    "duration": 25,
    "start_time": "2022-02-05T06:50:35.813Z"
   },
   {
    "duration": 15,
    "start_time": "2022-02-05T09:05:34.615Z"
   },
   {
    "duration": 28,
    "start_time": "2022-02-05T09:21:24.560Z"
   },
   {
    "duration": 28,
    "start_time": "2022-02-05T09:21:57.864Z"
   },
   {
    "duration": 29,
    "start_time": "2022-02-05T10:18:40.252Z"
   },
   {
    "duration": 29,
    "start_time": "2022-02-05T10:23:19.192Z"
   },
   {
    "duration": 23,
    "start_time": "2022-02-05T10:23:33.184Z"
   },
   {
    "duration": 356,
    "start_time": "2022-02-06T07:21:50.099Z"
   },
   {
    "duration": 790,
    "start_time": "2022-02-06T07:21:56.231Z"
   },
   {
    "duration": 232,
    "start_time": "2022-02-06T07:21:57.023Z"
   },
   {
    "duration": 77,
    "start_time": "2022-02-06T07:21:57.260Z"
   },
   {
    "duration": 16,
    "start_time": "2022-02-06T07:21:57.340Z"
   },
   {
    "duration": 29,
    "start_time": "2022-02-06T07:21:57.359Z"
   },
   {
    "duration": 15,
    "start_time": "2022-02-06T07:21:57.390Z"
   },
   {
    "duration": 7,
    "start_time": "2022-02-06T07:21:57.408Z"
   },
   {
    "duration": 768,
    "start_time": "2022-02-06T10:25:56.740Z"
   },
   {
    "duration": 158,
    "start_time": "2022-02-06T10:25:57.511Z"
   },
   {
    "duration": 25,
    "start_time": "2022-02-06T10:25:57.672Z"
   },
   {
    "duration": 17,
    "start_time": "2022-02-06T10:25:57.700Z"
   },
   {
    "duration": 47,
    "start_time": "2022-02-06T10:25:57.719Z"
   },
   {
    "duration": 15,
    "start_time": "2022-02-06T10:25:57.768Z"
   },
   {
    "duration": 7,
    "start_time": "2022-02-06T10:25:57.785Z"
   },
   {
    "duration": 378,
    "start_time": "2022-02-06T15:15:19.127Z"
   },
   {
    "duration": 722,
    "start_time": "2022-02-06T15:15:25.248Z"
   },
   {
    "duration": 164,
    "start_time": "2022-02-06T15:15:25.973Z"
   },
   {
    "duration": 27,
    "start_time": "2022-02-06T15:15:26.140Z"
   },
   {
    "duration": 15,
    "start_time": "2022-02-06T15:15:26.170Z"
   },
   {
    "duration": 28,
    "start_time": "2022-02-06T15:15:26.188Z"
   },
   {
    "duration": 40,
    "start_time": "2022-02-06T15:15:26.218Z"
   },
   {
    "duration": 28,
    "start_time": "2022-02-06T15:15:26.260Z"
   },
   {
    "duration": 38,
    "start_time": "2022-02-06T15:48:23.156Z"
   },
   {
    "duration": 661,
    "start_time": "2022-02-06T15:51:22.776Z"
   },
   {
    "duration": 155,
    "start_time": "2022-02-06T15:51:23.440Z"
   },
   {
    "duration": 26,
    "start_time": "2022-02-06T15:51:23.598Z"
   },
   {
    "duration": 16,
    "start_time": "2022-02-06T15:51:23.627Z"
   },
   {
    "duration": 47,
    "start_time": "2022-02-06T15:51:23.650Z"
   },
   {
    "duration": 73,
    "start_time": "2022-02-06T15:51:23.700Z"
   },
   {
    "duration": 44,
    "start_time": "2022-02-06T15:51:23.776Z"
   },
   {
    "duration": 47,
    "start_time": "2022-02-06T15:51:23.824Z"
   },
   {
    "duration": 20,
    "start_time": "2022-02-06T15:52:47.687Z"
   },
   {
    "duration": 25,
    "start_time": "2022-02-06T15:52:55.319Z"
   },
   {
    "duration": 26,
    "start_time": "2022-02-06T15:53:19.948Z"
   },
   {
    "duration": 47,
    "start_time": "2022-02-06T15:54:05.172Z"
   },
   {
    "duration": 46,
    "start_time": "2022-02-06T15:54:16.608Z"
   },
   {
    "duration": 63,
    "start_time": "2022-02-06T15:54:35.522Z"
   },
   {
    "duration": 331,
    "start_time": "2022-02-06T15:55:51.308Z"
   },
   {
    "duration": 8,
    "start_time": "2022-02-06T15:56:32.103Z"
   },
   {
    "duration": 28682,
    "start_time": "2022-02-06T15:57:12.458Z"
   },
   {
    "duration": 290,
    "start_time": "2022-02-06T15:58:07.673Z"
   },
   {
    "duration": 67,
    "start_time": "2022-02-06T15:59:09.168Z"
   },
   {
    "duration": 8,
    "start_time": "2022-02-06T16:00:14.360Z"
   },
   {
    "duration": 8,
    "start_time": "2022-02-06T16:00:26.193Z"
   },
   {
    "duration": 58,
    "start_time": "2022-02-06T16:04:13.445Z"
   },
   {
    "duration": 59,
    "start_time": "2022-02-06T16:12:44.792Z"
   },
   {
    "duration": 61,
    "start_time": "2022-02-06T16:12:56.065Z"
   },
   {
    "duration": 55,
    "start_time": "2022-02-06T16:13:18.028Z"
   },
   {
    "duration": 59,
    "start_time": "2022-02-06T16:14:32.541Z"
   },
   {
    "duration": 78,
    "start_time": "2022-02-06T16:50:56.096Z"
   },
   {
    "duration": 97,
    "start_time": "2022-02-06T16:51:18.589Z"
   },
   {
    "duration": 750,
    "start_time": "2022-02-06T16:52:29.957Z"
   },
   {
    "duration": 161,
    "start_time": "2022-02-06T16:52:30.710Z"
   },
   {
    "duration": 28,
    "start_time": "2022-02-06T16:52:30.876Z"
   },
   {
    "duration": 16,
    "start_time": "2022-02-06T16:52:30.907Z"
   },
   {
    "duration": 45,
    "start_time": "2022-02-06T16:52:30.926Z"
   },
   {
    "duration": 57,
    "start_time": "2022-02-06T16:52:30.973Z"
   },
   {
    "duration": 33,
    "start_time": "2022-02-06T16:52:31.033Z"
   },
   {
    "duration": 26,
    "start_time": "2022-02-06T16:52:31.068Z"
   },
   {
    "duration": 88,
    "start_time": "2022-02-06T16:52:31.097Z"
   },
   {
    "duration": 121,
    "start_time": "2022-02-06T16:52:31.187Z"
   },
   {
    "duration": 75,
    "start_time": "2022-02-06T16:52:31.311Z"
   },
   {
    "duration": 8,
    "start_time": "2022-02-06T16:52:31.388Z"
   },
   {
    "duration": 56,
    "start_time": "2022-02-06T16:57:23.715Z"
   },
   {
    "duration": 67,
    "start_time": "2022-02-06T16:57:39.318Z"
   },
   {
    "duration": 66,
    "start_time": "2022-02-06T16:57:47.339Z"
   },
   {
    "duration": 82,
    "start_time": "2022-02-06T17:04:41.020Z"
   },
   {
    "duration": 90,
    "start_time": "2022-02-06T17:05:15.820Z"
   },
   {
    "duration": 760,
    "start_time": "2022-02-06T17:05:28.725Z"
   },
   {
    "duration": 153,
    "start_time": "2022-02-06T17:05:29.487Z"
   },
   {
    "duration": 28,
    "start_time": "2022-02-06T17:05:29.643Z"
   },
   {
    "duration": 16,
    "start_time": "2022-02-06T17:05:29.674Z"
   },
   {
    "duration": 29,
    "start_time": "2022-02-06T17:05:29.692Z"
   },
   {
    "duration": 52,
    "start_time": "2022-02-06T17:05:29.724Z"
   },
   {
    "duration": 28,
    "start_time": "2022-02-06T17:05:29.779Z"
   },
   {
    "duration": 58,
    "start_time": "2022-02-06T17:05:29.811Z"
   },
   {
    "duration": 58,
    "start_time": "2022-02-06T17:05:29.872Z"
   },
   {
    "duration": 128,
    "start_time": "2022-02-06T17:05:29.932Z"
   },
   {
    "duration": 63,
    "start_time": "2022-02-06T17:05:30.062Z"
   },
   {
    "duration": 91,
    "start_time": "2022-02-06T17:05:30.128Z"
   },
   {
    "duration": 25,
    "start_time": "2022-02-06T17:10:02.721Z"
   },
   {
    "duration": 325,
    "start_time": "2022-02-06T17:10:11.736Z"
   },
   {
    "duration": 7,
    "start_time": "2022-02-06T17:10:17.382Z"
   },
   {
    "duration": 33,
    "start_time": "2022-02-06T17:12:09.732Z"
   },
   {
    "duration": 7,
    "start_time": "2022-02-06T17:12:42.762Z"
   },
   {
    "duration": 245,
    "start_time": "2022-02-06T17:20:24.691Z"
   },
   {
    "duration": 5,
    "start_time": "2022-02-06T17:20:28.797Z"
   },
   {
    "duration": 235,
    "start_time": "2022-02-06T17:20:29.094Z"
   },
   {
    "duration": 235,
    "start_time": "2022-02-06T17:21:19.440Z"
   },
   {
    "duration": 4,
    "start_time": "2022-02-06T17:26:33.376Z"
   },
   {
    "duration": 1828,
    "start_time": "2022-02-06T17:26:37.275Z"
   },
   {
    "duration": 8,
    "start_time": "2022-02-06T17:26:52.122Z"
   },
   {
    "duration": 23,
    "start_time": "2022-02-06T17:27:02.730Z"
   },
   {
    "duration": 1179,
    "start_time": "2022-02-06T17:27:44.300Z"
   },
   {
    "duration": 3,
    "start_time": "2022-02-06T17:28:24.702Z"
   },
   {
    "duration": 4,
    "start_time": "2022-02-06T17:28:29.393Z"
   },
   {
    "duration": 50,
    "start_time": "2022-02-06T17:28:29.664Z"
   },
   {
    "duration": 7,
    "start_time": "2022-02-06T17:28:31.681Z"
   },
   {
    "duration": 32,
    "start_time": "2022-02-06T17:28:32.393Z"
   },
   {
    "duration": 51,
    "start_time": "2022-02-06T17:29:57.448Z"
   },
   {
    "duration": 6,
    "start_time": "2022-02-06T17:29:57.984Z"
   },
   {
    "duration": 61,
    "start_time": "2022-02-06T17:30:47.248Z"
   },
   {
    "duration": 7,
    "start_time": "2022-02-06T17:30:49.132Z"
   },
   {
    "duration": 26,
    "start_time": "2022-02-06T17:30:51.187Z"
   },
   {
    "duration": 3,
    "start_time": "2022-02-06T17:31:22.656Z"
   },
   {
    "duration": 35,
    "start_time": "2022-02-06T17:31:25.440Z"
   },
   {
    "duration": 6,
    "start_time": "2022-02-06T17:31:25.663Z"
   },
   {
    "duration": 27,
    "start_time": "2022-02-06T17:31:26.455Z"
   },
   {
    "duration": 5,
    "start_time": "2022-02-06T17:32:08.513Z"
   },
   {
    "duration": 111,
    "start_time": "2022-02-06T17:32:08.905Z"
   },
   {
    "duration": 7,
    "start_time": "2022-02-06T17:32:09.142Z"
   },
   {
    "duration": 27,
    "start_time": "2022-02-06T17:32:11.330Z"
   },
   {
    "duration": 4,
    "start_time": "2022-02-06T17:32:34.469Z"
   },
   {
    "duration": 57,
    "start_time": "2022-02-06T17:32:34.759Z"
   },
   {
    "duration": 8,
    "start_time": "2022-02-06T17:32:34.969Z"
   },
   {
    "duration": 30,
    "start_time": "2022-02-06T17:32:35.210Z"
   },
   {
    "duration": 665,
    "start_time": "2022-02-06T17:33:53.999Z"
   },
   {
    "duration": 153,
    "start_time": "2022-02-06T17:33:54.667Z"
   },
   {
    "duration": 27,
    "start_time": "2022-02-06T17:33:54.824Z"
   },
   {
    "duration": 15,
    "start_time": "2022-02-06T17:33:54.855Z"
   },
   {
    "duration": 29,
    "start_time": "2022-02-06T17:33:54.872Z"
   },
   {
    "duration": 63,
    "start_time": "2022-02-06T17:33:54.903Z"
   },
   {
    "duration": 29,
    "start_time": "2022-02-06T17:33:54.968Z"
   },
   {
    "duration": 57,
    "start_time": "2022-02-06T17:33:55.000Z"
   },
   {
    "duration": 58,
    "start_time": "2022-02-06T17:33:55.061Z"
   },
   {
    "duration": 128,
    "start_time": "2022-02-06T17:33:55.122Z"
   },
   {
    "duration": 58,
    "start_time": "2022-02-06T17:33:55.253Z"
   },
   {
    "duration": 94,
    "start_time": "2022-02-06T17:33:55.314Z"
   },
   {
    "duration": 7,
    "start_time": "2022-02-06T17:33:55.410Z"
   },
   {
    "duration": 50,
    "start_time": "2022-02-06T17:33:55.419Z"
   },
   {
    "duration": 6,
    "start_time": "2022-02-06T17:33:55.472Z"
   },
   {
    "duration": 8,
    "start_time": "2022-02-06T17:33:55.480Z"
   },
   {
    "duration": 106,
    "start_time": "2022-02-06T17:33:55.491Z"
   },
   {
    "duration": 6,
    "start_time": "2022-02-06T17:33:55.600Z"
   },
   {
    "duration": 47,
    "start_time": "2022-02-06T17:33:55.608Z"
   },
   {
    "duration": 5,
    "start_time": "2022-02-06T17:34:07.604Z"
   },
   {
    "duration": 142,
    "start_time": "2022-02-06T17:34:08.864Z"
   },
   {
    "duration": 17,
    "start_time": "2022-02-06T17:34:09.091Z"
   },
   {
    "duration": 4,
    "start_time": "2022-02-06T17:34:58.680Z"
   },
   {
    "duration": 50,
    "start_time": "2022-02-06T17:34:58.917Z"
   },
   {
    "duration": 7,
    "start_time": "2022-02-06T17:34:59.114Z"
   },
   {
    "duration": 27,
    "start_time": "2022-02-06T17:34:59.336Z"
   },
   {
    "duration": 50,
    "start_time": "2022-02-06T17:36:07.341Z"
   },
   {
    "duration": 7,
    "start_time": "2022-02-06T17:36:07.668Z"
   },
   {
    "duration": 27,
    "start_time": "2022-02-06T17:36:08.155Z"
   },
   {
    "duration": 50,
    "start_time": "2022-02-06T17:36:13.699Z"
   },
   {
    "duration": 4,
    "start_time": "2022-02-06T17:36:49.577Z"
   },
   {
    "duration": 1699,
    "start_time": "2022-02-06T17:36:50.143Z"
   },
   {
    "duration": 472,
    "start_time": "2022-02-06T17:36:51.373Z"
   },
   {
    "duration": 4,
    "start_time": "2022-02-06T17:37:29.179Z"
   },
   {
    "duration": 73,
    "start_time": "2022-02-06T17:37:32.227Z"
   },
   {
    "duration": 4,
    "start_time": "2022-02-06T17:39:37.968Z"
   },
   {
    "duration": 117,
    "start_time": "2022-02-06T17:39:38.481Z"
   },
   {
    "duration": 4,
    "start_time": "2022-02-06T17:41:27.733Z"
   },
   {
    "duration": 903,
    "start_time": "2022-02-06T17:41:28.104Z"
   },
   {
    "duration": 3,
    "start_time": "2022-02-06T17:41:53.797Z"
   },
   {
    "duration": 53,
    "start_time": "2022-02-06T17:41:54.643Z"
   },
   {
    "duration": 3,
    "start_time": "2022-02-06T17:42:26.879Z"
   },
   {
    "duration": 59,
    "start_time": "2022-02-06T17:42:27.364Z"
   },
   {
    "duration": 2073,
    "start_time": "2022-02-06T17:47:40.970Z"
   },
   {
    "duration": 6,
    "start_time": "2022-02-06T17:48:41.648Z"
   },
   {
    "duration": 29,
    "start_time": "2022-02-06T17:48:45.967Z"
   },
   {
    "duration": 29,
    "start_time": "2022-02-06T17:52:27.193Z"
   },
   {
    "duration": 5,
    "start_time": "2022-02-06T17:52:27.853Z"
   },
   {
    "duration": 3,
    "start_time": "2022-02-06T17:53:25.822Z"
   },
   {
    "duration": 71,
    "start_time": "2022-02-06T17:53:26.132Z"
   },
   {
    "duration": 7,
    "start_time": "2022-02-06T17:53:26.498Z"
   },
   {
    "duration": 4,
    "start_time": "2022-02-06T17:55:34.409Z"
   },
   {
    "duration": 1284,
    "start_time": "2022-02-06T17:55:34.646Z"
   },
   {
    "duration": 503,
    "start_time": "2022-02-06T17:55:35.430Z"
   },
   {
    "duration": 1863,
    "start_time": "2022-02-06T17:56:28.897Z"
   },
   {
    "duration": 7,
    "start_time": "2022-02-06T17:56:30.762Z"
   },
   {
    "duration": 673,
    "start_time": "2022-02-06T18:02:04.798Z"
   },
   {
    "duration": 162,
    "start_time": "2022-02-06T18:02:05.474Z"
   },
   {
    "duration": 30,
    "start_time": "2022-02-06T18:02:05.640Z"
   },
   {
    "duration": 16,
    "start_time": "2022-02-06T18:02:05.673Z"
   },
   {
    "duration": 30,
    "start_time": "2022-02-06T18:02:05.692Z"
   },
   {
    "duration": 36,
    "start_time": "2022-02-06T18:02:05.749Z"
   },
   {
    "duration": 27,
    "start_time": "2022-02-06T18:02:05.788Z"
   },
   {
    "duration": 30,
    "start_time": "2022-02-06T18:02:05.847Z"
   },
   {
    "duration": 84,
    "start_time": "2022-02-06T18:02:05.879Z"
   },
   {
    "duration": 119,
    "start_time": "2022-02-06T18:02:05.966Z"
   },
   {
    "duration": 75,
    "start_time": "2022-02-06T18:02:06.087Z"
   },
   {
    "duration": 86,
    "start_time": "2022-02-06T18:02:06.164Z"
   },
   {
    "duration": 7,
    "start_time": "2022-02-06T18:02:06.252Z"
   },
   {
    "duration": 31,
    "start_time": "2022-02-06T18:02:06.261Z"
   },
   {
    "duration": 5,
    "start_time": "2022-02-06T18:02:06.294Z"
   },
   {
    "duration": 346,
    "start_time": "2022-02-06T18:02:06.301Z"
   },
   {
    "duration": 510,
    "start_time": "2022-02-06T18:02:06.139Z"
   },
   {
    "duration": 505,
    "start_time": "2022-02-06T18:02:06.146Z"
   },
   {
    "duration": 504,
    "start_time": "2022-02-06T18:02:06.148Z"
   },
   {
    "duration": 504,
    "start_time": "2022-02-06T18:02:06.150Z"
   },
   {
    "duration": 505,
    "start_time": "2022-02-06T18:02:06.151Z"
   },
   {
    "duration": 26,
    "start_time": "2022-02-06T18:03:05.236Z"
   },
   {
    "duration": 7,
    "start_time": "2022-02-06T18:03:37.152Z"
   },
   {
    "duration": 25,
    "start_time": "2022-02-06T18:04:22.944Z"
   },
   {
    "duration": 8,
    "start_time": "2022-02-06T18:04:24.335Z"
   },
   {
    "duration": 27,
    "start_time": "2022-02-06T18:05:19.022Z"
   },
   {
    "duration": 8,
    "start_time": "2022-02-06T18:05:19.568Z"
   },
   {
    "duration": 4,
    "start_time": "2022-02-06T18:05:20.621Z"
   },
   {
    "duration": 158,
    "start_time": "2022-02-06T18:06:37.564Z"
   },
   {
    "duration": 120,
    "start_time": "2022-02-06T18:06:43.271Z"
   },
   {
    "duration": 70,
    "start_time": "2022-02-06T18:06:51.618Z"
   },
   {
    "duration": 7,
    "start_time": "2022-02-06T18:06:52.006Z"
   },
   {
    "duration": 85,
    "start_time": "2022-02-06T18:07:07.014Z"
   },
   {
    "duration": 7,
    "start_time": "2022-02-06T18:07:07.944Z"
   },
   {
    "duration": 693,
    "start_time": "2022-02-06T18:09:28.152Z"
   },
   {
    "duration": 156,
    "start_time": "2022-02-06T18:09:28.849Z"
   },
   {
    "duration": 28,
    "start_time": "2022-02-06T18:09:29.010Z"
   },
   {
    "duration": 15,
    "start_time": "2022-02-06T18:09:29.042Z"
   },
   {
    "duration": 29,
    "start_time": "2022-02-06T18:09:29.060Z"
   },
   {
    "duration": 74,
    "start_time": "2022-02-06T18:09:29.091Z"
   },
   {
    "duration": 15,
    "start_time": "2022-02-06T18:09:29.168Z"
   },
   {
    "duration": 70,
    "start_time": "2022-02-06T18:09:29.186Z"
   },
   {
    "duration": 14,
    "start_time": "2022-02-06T18:09:29.262Z"
   },
   {
    "duration": 86,
    "start_time": "2022-02-06T18:09:29.278Z"
   },
   {
    "duration": 127,
    "start_time": "2022-02-06T18:09:29.367Z"
   },
   {
    "duration": 78,
    "start_time": "2022-02-06T18:09:29.496Z"
   },
   {
    "duration": 85,
    "start_time": "2022-02-06T18:09:29.576Z"
   },
   {
    "duration": 6,
    "start_time": "2022-02-06T18:09:29.664Z"
   },
   {
    "duration": 27,
    "start_time": "2022-02-06T18:09:29.673Z"
   },
   {
    "duration": 5,
    "start_time": "2022-02-06T18:09:29.702Z"
   },
   {
    "duration": 129,
    "start_time": "2022-02-06T18:09:29.709Z"
   },
   {
    "duration": 9,
    "start_time": "2022-02-06T18:09:29.841Z"
   },
   {
    "duration": 5,
    "start_time": "2022-02-06T18:09:29.852Z"
   },
   {
    "duration": 6,
    "start_time": "2022-02-06T18:09:29.859Z"
   },
   {
    "duration": 9,
    "start_time": "2022-02-06T18:09:29.868Z"
   },
   {
    "duration": 24,
    "start_time": "2022-02-06T18:09:29.880Z"
   },
   {
    "duration": 351,
    "start_time": "2022-02-06T18:11:07.622Z"
   },
   {
    "duration": 26,
    "start_time": "2022-02-06T18:11:23.005Z"
   },
   {
    "duration": 7,
    "start_time": "2022-02-06T18:11:23.519Z"
   },
   {
    "duration": 4,
    "start_time": "2022-02-06T18:11:23.871Z"
   },
   {
    "duration": 26,
    "start_time": "2022-02-06T18:11:53.839Z"
   },
   {
    "duration": 8,
    "start_time": "2022-02-06T18:11:54.289Z"
   },
   {
    "duration": 771,
    "start_time": "2022-02-06T18:12:00.549Z"
   },
   {
    "duration": 174,
    "start_time": "2022-02-06T18:12:01.327Z"
   },
   {
    "duration": 33,
    "start_time": "2022-02-06T18:12:01.504Z"
   },
   {
    "duration": 15,
    "start_time": "2022-02-06T18:12:01.539Z"
   },
   {
    "duration": 37,
    "start_time": "2022-02-06T18:12:01.556Z"
   },
   {
    "duration": 60,
    "start_time": "2022-02-06T18:12:01.596Z"
   },
   {
    "duration": 17,
    "start_time": "2022-02-06T18:12:01.658Z"
   },
   {
    "duration": 75,
    "start_time": "2022-02-06T18:12:01.679Z"
   },
   {
    "duration": 22,
    "start_time": "2022-02-06T18:12:01.757Z"
   },
   {
    "duration": 126,
    "start_time": "2022-02-06T18:12:01.782Z"
   },
   {
    "duration": 196,
    "start_time": "2022-02-06T18:12:01.911Z"
   },
   {
    "duration": 100,
    "start_time": "2022-02-06T18:12:02.110Z"
   },
   {
    "duration": 114,
    "start_time": "2022-02-06T18:12:02.213Z"
   },
   {
    "duration": 17,
    "start_time": "2022-02-06T18:12:02.331Z"
   },
   {
    "duration": 34,
    "start_time": "2022-02-06T18:12:02.352Z"
   },
   {
    "duration": 6,
    "start_time": "2022-02-06T18:12:02.389Z"
   },
   {
    "duration": 67,
    "start_time": "2022-02-06T18:12:02.399Z"
   },
   {
    "duration": 9,
    "start_time": "2022-02-06T18:12:02.469Z"
   },
   {
    "duration": 15,
    "start_time": "2022-02-06T18:12:02.481Z"
   },
   {
    "duration": 4,
    "start_time": "2022-02-06T18:12:02.499Z"
   },
   {
    "duration": 43,
    "start_time": "2022-02-06T18:12:02.505Z"
   },
   {
    "duration": 39,
    "start_time": "2022-02-06T18:12:02.552Z"
   },
   {
    "duration": 865,
    "start_time": "2022-02-06T18:12:44.669Z"
   },
   {
    "duration": 229,
    "start_time": "2022-02-06T18:12:45.538Z"
   },
   {
    "duration": 28,
    "start_time": "2022-02-06T18:12:45.770Z"
   },
   {
    "duration": 14,
    "start_time": "2022-02-06T18:12:45.801Z"
   },
   {
    "duration": 52,
    "start_time": "2022-02-06T18:12:45.818Z"
   },
   {
    "duration": 36,
    "start_time": "2022-02-06T18:12:45.873Z"
   },
   {
    "duration": 39,
    "start_time": "2022-02-06T18:12:45.912Z"
   },
   {
    "duration": 41,
    "start_time": "2022-02-06T18:12:45.954Z"
   },
   {
    "duration": 15,
    "start_time": "2022-02-06T18:12:45.999Z"
   },
   {
    "duration": 97,
    "start_time": "2022-02-06T18:12:46.017Z"
   },
   {
    "duration": 149,
    "start_time": "2022-02-06T18:12:46.116Z"
   },
   {
    "duration": 82,
    "start_time": "2022-02-06T18:12:46.268Z"
   },
   {
    "duration": 97,
    "start_time": "2022-02-06T18:12:46.353Z"
   },
   {
    "duration": 7,
    "start_time": "2022-02-06T18:12:46.453Z"
   },
   {
    "duration": 52,
    "start_time": "2022-02-06T18:12:46.463Z"
   },
   {
    "duration": 31,
    "start_time": "2022-02-06T18:12:46.518Z"
   },
   {
    "duration": 35,
    "start_time": "2022-02-06T18:12:46.552Z"
   },
   {
    "duration": 8,
    "start_time": "2022-02-06T18:12:46.590Z"
   },
   {
    "duration": 9,
    "start_time": "2022-02-06T18:12:46.601Z"
   },
   {
    "duration": 42,
    "start_time": "2022-02-06T18:12:46.613Z"
   },
   {
    "duration": 18,
    "start_time": "2022-02-06T18:12:46.657Z"
   },
   {
    "duration": 24,
    "start_time": "2022-02-06T18:12:46.677Z"
   },
   {
    "duration": 7,
    "start_time": "2022-02-06T18:15:16.911Z"
   },
   {
    "duration": 4590,
    "start_time": "2022-02-06T18:16:06.484Z"
   },
   {
    "duration": 6,
    "start_time": "2022-02-06T18:16:34.767Z"
   },
   {
    "duration": 9,
    "start_time": "2022-02-06T18:22:31.657Z"
   },
   {
    "duration": 9,
    "start_time": "2022-02-06T18:22:37.264Z"
   },
   {
    "duration": 332,
    "start_time": "2022-02-06T18:23:40.876Z"
   },
   {
    "duration": 12,
    "start_time": "2022-02-06T18:24:31.151Z"
   },
   {
    "duration": 748,
    "start_time": "2022-02-06T18:24:39.029Z"
   },
   {
    "duration": 158,
    "start_time": "2022-02-06T18:24:39.779Z"
   },
   {
    "duration": 28,
    "start_time": "2022-02-06T18:24:39.940Z"
   },
   {
    "duration": 17,
    "start_time": "2022-02-06T18:24:39.970Z"
   },
   {
    "duration": 13,
    "start_time": "2022-02-06T18:24:39.990Z"
   },
   {
    "duration": 51,
    "start_time": "2022-02-06T18:24:40.006Z"
   },
   {
    "duration": 35,
    "start_time": "2022-02-06T18:24:40.060Z"
   },
   {
    "duration": 15,
    "start_time": "2022-02-06T18:24:40.099Z"
   },
   {
    "duration": 114,
    "start_time": "2022-02-06T18:24:40.116Z"
   },
   {
    "duration": 125,
    "start_time": "2022-02-06T18:24:40.232Z"
   },
   {
    "duration": 65,
    "start_time": "2022-02-06T18:24:40.360Z"
   },
   {
    "duration": 102,
    "start_time": "2022-02-06T18:24:40.428Z"
   },
   {
    "duration": 21,
    "start_time": "2022-02-06T18:24:40.533Z"
   },
   {
    "duration": 316,
    "start_time": "2022-02-06T18:24:40.556Z"
   },
   {
    "duration": 566,
    "start_time": "2022-02-06T18:24:40.309Z"
   },
   {
    "duration": 557,
    "start_time": "2022-02-06T18:24:40.320Z"
   },
   {
    "duration": 554,
    "start_time": "2022-02-06T18:24:40.324Z"
   },
   {
    "duration": 540,
    "start_time": "2022-02-06T18:24:40.340Z"
   },
   {
    "duration": 537,
    "start_time": "2022-02-06T18:24:40.344Z"
   },
   {
    "duration": 20,
    "start_time": "2022-02-06T18:24:49.315Z"
   },
   {
    "duration": 261,
    "start_time": "2022-02-06T18:25:51.223Z"
   },
   {
    "duration": 15,
    "start_time": "2022-02-06T18:25:55.330Z"
   },
   {
    "duration": 83,
    "start_time": "2022-02-06T18:26:34.364Z"
   },
   {
    "duration": 6,
    "start_time": "2022-02-06T18:26:37.708Z"
   },
   {
    "duration": 15,
    "start_time": "2022-02-06T18:26:41.440Z"
   },
   {
    "duration": 16,
    "start_time": "2022-02-06T18:27:05.527Z"
   },
   {
    "duration": 757,
    "start_time": "2022-02-06T18:27:44.395Z"
   },
   {
    "duration": 164,
    "start_time": "2022-02-06T18:27:45.157Z"
   },
   {
    "duration": 33,
    "start_time": "2022-02-06T18:27:45.324Z"
   },
   {
    "duration": 15,
    "start_time": "2022-02-06T18:27:45.361Z"
   },
   {
    "duration": 13,
    "start_time": "2022-02-06T18:27:45.379Z"
   },
   {
    "duration": 70,
    "start_time": "2022-02-06T18:27:45.395Z"
   },
   {
    "duration": 38,
    "start_time": "2022-02-06T18:27:45.469Z"
   },
   {
    "duration": 39,
    "start_time": "2022-02-06T18:27:45.512Z"
   },
   {
    "duration": 99,
    "start_time": "2022-02-06T18:27:45.554Z"
   },
   {
    "duration": 134,
    "start_time": "2022-02-06T18:27:45.655Z"
   },
   {
    "duration": 82,
    "start_time": "2022-02-06T18:27:45.792Z"
   },
   {
    "duration": 97,
    "start_time": "2022-02-06T18:27:45.876Z"
   },
   {
    "duration": 14,
    "start_time": "2022-02-06T18:27:45.976Z"
   },
   {
    "duration": 10,
    "start_time": "2022-02-06T18:27:45.994Z"
   },
   {
    "duration": 50,
    "start_time": "2022-02-06T18:27:46.007Z"
   },
   {
    "duration": 14,
    "start_time": "2022-02-06T18:27:46.059Z"
   },
   {
    "duration": 7,
    "start_time": "2022-02-06T18:27:46.076Z"
   },
   {
    "duration": 70,
    "start_time": "2022-02-06T18:27:46.086Z"
   },
   {
    "duration": 6,
    "start_time": "2022-02-06T18:27:46.159Z"
   },
   {
    "duration": 26,
    "start_time": "2022-02-06T18:27:46.168Z"
   },
   {
    "duration": 6,
    "start_time": "2022-02-06T18:27:46.197Z"
   },
   {
    "duration": 17,
    "start_time": "2022-02-06T18:30:51.649Z"
   },
   {
    "duration": 18,
    "start_time": "2022-02-06T18:31:57.079Z"
   },
   {
    "duration": 81,
    "start_time": "2022-02-06T18:35:29.596Z"
   },
   {
    "duration": 4,
    "start_time": "2022-02-06T18:36:15.198Z"
   },
   {
    "duration": 831,
    "start_time": "2022-02-06T18:36:33.310Z"
   },
   {
    "duration": 164,
    "start_time": "2022-02-06T18:36:34.144Z"
   },
   {
    "duration": 28,
    "start_time": "2022-02-06T18:36:34.312Z"
   },
   {
    "duration": 15,
    "start_time": "2022-02-06T18:36:34.347Z"
   },
   {
    "duration": 12,
    "start_time": "2022-02-06T18:36:34.364Z"
   },
   {
    "duration": 30,
    "start_time": "2022-02-06T18:36:34.378Z"
   },
   {
    "duration": 68,
    "start_time": "2022-02-06T18:36:34.410Z"
   },
   {
    "duration": 16,
    "start_time": "2022-02-06T18:36:34.481Z"
   },
   {
    "duration": 113,
    "start_time": "2022-02-06T18:36:34.500Z"
   },
   {
    "duration": 130,
    "start_time": "2022-02-06T18:36:34.616Z"
   },
   {
    "duration": 101,
    "start_time": "2022-02-06T18:36:34.749Z"
   },
   {
    "duration": 116,
    "start_time": "2022-02-06T18:36:34.853Z"
   },
   {
    "duration": 12,
    "start_time": "2022-02-06T18:36:34.972Z"
   },
   {
    "duration": 9,
    "start_time": "2022-02-06T18:36:34.986Z"
   },
   {
    "duration": 17,
    "start_time": "2022-02-06T18:36:34.997Z"
   },
   {
    "duration": 44,
    "start_time": "2022-02-06T18:36:35.017Z"
   },
   {
    "duration": 19,
    "start_time": "2022-02-06T18:36:35.063Z"
   },
   {
    "duration": 14,
    "start_time": "2022-02-06T18:36:35.085Z"
   },
   {
    "duration": 50,
    "start_time": "2022-02-06T18:36:35.101Z"
   },
   {
    "duration": 29,
    "start_time": "2022-02-06T18:36:35.153Z"
   },
   {
    "duration": 5,
    "start_time": "2022-02-06T18:36:35.184Z"
   },
   {
    "duration": 27,
    "start_time": "2022-02-06T18:36:35.191Z"
   },
   {
    "duration": 7,
    "start_time": "2022-02-06T18:36:35.250Z"
   },
   {
    "duration": 91,
    "start_time": "2022-02-06T18:36:35.259Z"
   },
   {
    "duration": 48,
    "start_time": "2022-02-06T18:46:43.431Z"
   },
   {
    "duration": 13,
    "start_time": "2022-02-06T18:48:23.826Z"
   },
   {
    "duration": 1901,
    "start_time": "2022-02-06T18:54:17.747Z"
   },
   {
    "duration": 225,
    "start_time": "2022-02-06T18:54:19.652Z"
   },
   {
    "duration": 28,
    "start_time": "2022-02-06T18:54:19.881Z"
   },
   {
    "duration": 14,
    "start_time": "2022-02-06T18:54:19.912Z"
   },
   {
    "duration": 27,
    "start_time": "2022-02-06T18:54:19.928Z"
   },
   {
    "duration": 32,
    "start_time": "2022-02-06T18:54:19.957Z"
   },
   {
    "duration": 71,
    "start_time": "2022-02-06T18:54:19.992Z"
   },
   {
    "duration": 15,
    "start_time": "2022-02-06T18:54:20.068Z"
   },
   {
    "duration": 111,
    "start_time": "2022-02-06T18:54:20.086Z"
   },
   {
    "duration": 135,
    "start_time": "2022-02-06T18:54:20.199Z"
   },
   {
    "duration": 70,
    "start_time": "2022-02-06T18:54:20.337Z"
   },
   {
    "duration": 107,
    "start_time": "2022-02-06T18:54:20.410Z"
   },
   {
    "duration": 14,
    "start_time": "2022-02-06T18:54:20.520Z"
   },
   {
    "duration": 19,
    "start_time": "2022-02-06T18:54:20.536Z"
   },
   {
    "duration": 16,
    "start_time": "2022-02-06T18:54:20.558Z"
   },
   {
    "duration": 15,
    "start_time": "2022-02-06T18:54:20.576Z"
   },
   {
    "duration": 67,
    "start_time": "2022-02-06T18:54:20.594Z"
   },
   {
    "duration": 14,
    "start_time": "2022-02-06T18:54:20.664Z"
   },
   {
    "duration": 8,
    "start_time": "2022-02-06T18:54:20.681Z"
   },
   {
    "duration": 81,
    "start_time": "2022-02-06T18:54:20.692Z"
   },
   {
    "duration": 6,
    "start_time": "2022-02-06T18:54:20.777Z"
   },
   {
    "duration": 35,
    "start_time": "2022-02-06T18:54:20.786Z"
   },
   {
    "duration": 9,
    "start_time": "2022-02-06T18:54:20.852Z"
   },
   {
    "duration": 125,
    "start_time": "2022-02-06T18:54:20.864Z"
   },
   {
    "duration": 78,
    "start_time": "2022-02-06T18:54:20.993Z"
   },
   {
    "duration": 17,
    "start_time": "2022-02-06T18:54:21.075Z"
   },
   {
    "duration": 88,
    "start_time": "2022-02-06T18:54:21.095Z"
   },
   {
    "duration": 159,
    "start_time": "2022-02-06T18:54:26.940Z"
   },
   {
    "duration": 2092,
    "start_time": "2022-02-06T18:54:37.433Z"
   },
   {
    "duration": 1815,
    "start_time": "2022-02-06T18:54:58.882Z"
   },
   {
    "duration": 1111,
    "start_time": "2022-02-06T18:55:27.700Z"
   },
   {
    "duration": 4182,
    "start_time": "2022-02-06T18:55:55.030Z"
   },
   {
    "duration": 8,
    "start_time": "2022-02-06T18:56:44.740Z"
   },
   {
    "duration": 373,
    "start_time": "2022-02-06T18:56:53.930Z"
   },
   {
    "duration": 8,
    "start_time": "2022-02-06T18:57:01.524Z"
   },
   {
    "duration": 9,
    "start_time": "2022-02-06T18:57:13.591Z"
   },
   {
    "duration": 3863,
    "start_time": "2022-02-06T18:58:07.888Z"
   },
   {
    "duration": 9,
    "start_time": "2022-02-06T18:58:11.754Z"
   },
   {
    "duration": 9,
    "start_time": "2022-02-06T18:58:49.292Z"
   },
   {
    "duration": 5,
    "start_time": "2022-02-06T18:59:29.881Z"
   },
   {
    "duration": 37,
    "start_time": "2022-02-06T19:00:20.908Z"
   },
   {
    "duration": 21,
    "start_time": "2022-02-06T19:01:03.483Z"
   },
   {
    "duration": 18,
    "start_time": "2022-02-06T19:01:11.852Z"
   },
   {
    "duration": 22,
    "start_time": "2022-02-06T19:01:18.881Z"
   },
   {
    "duration": 1484,
    "start_time": "2022-02-07T12:44:21.524Z"
   },
   {
    "duration": 155,
    "start_time": "2022-02-07T12:44:23.011Z"
   },
   {
    "duration": 31,
    "start_time": "2022-02-07T12:44:23.169Z"
   },
   {
    "duration": 14,
    "start_time": "2022-02-07T12:44:23.203Z"
   },
   {
    "duration": 11,
    "start_time": "2022-02-07T12:44:23.220Z"
   },
   {
    "duration": 44,
    "start_time": "2022-02-07T12:44:23.234Z"
   },
   {
    "duration": 45,
    "start_time": "2022-02-07T12:44:23.281Z"
   },
   {
    "duration": 15,
    "start_time": "2022-02-07T12:44:23.350Z"
   },
   {
    "duration": 103,
    "start_time": "2022-02-07T12:44:23.368Z"
   },
   {
    "duration": 122,
    "start_time": "2022-02-07T12:44:23.473Z"
   },
   {
    "duration": 75,
    "start_time": "2022-02-07T12:44:23.598Z"
   },
   {
    "duration": 4,
    "start_time": "2022-02-07T12:44:23.676Z"
   },
   {
    "duration": 68,
    "start_time": "2022-02-07T12:44:23.682Z"
   },
   {
    "duration": 79,
    "start_time": "2022-02-07T12:44:23.752Z"
   },
   {
    "duration": 12,
    "start_time": "2022-02-07T12:44:23.849Z"
   },
   {
    "duration": 10,
    "start_time": "2022-02-07T12:44:23.863Z"
   },
   {
    "duration": 15,
    "start_time": "2022-02-07T12:44:23.876Z"
   },
   {
    "duration": 13,
    "start_time": "2022-02-07T12:44:23.894Z"
   },
   {
    "duration": 56,
    "start_time": "2022-02-07T12:44:23.909Z"
   },
   {
    "duration": 12,
    "start_time": "2022-02-07T12:44:23.968Z"
   },
   {
    "duration": 379,
    "start_time": "2022-02-07T12:44:23.982Z"
   },
   {
    "duration": -18,
    "start_time": "2022-02-07T12:44:24.382Z"
   },
   {
    "duration": -18,
    "start_time": "2022-02-07T12:44:24.383Z"
   },
   {
    "duration": -18,
    "start_time": "2022-02-07T12:44:24.385Z"
   },
   {
    "duration": -25,
    "start_time": "2022-02-07T12:44:24.393Z"
   },
   {
    "duration": -25,
    "start_time": "2022-02-07T12:44:24.395Z"
   },
   {
    "duration": -25,
    "start_time": "2022-02-07T12:44:24.396Z"
   },
   {
    "duration": -25,
    "start_time": "2022-02-07T12:44:24.398Z"
   },
   {
    "duration": -25,
    "start_time": "2022-02-07T12:44:24.399Z"
   },
   {
    "duration": -25,
    "start_time": "2022-02-07T12:44:24.401Z"
   },
   {
    "duration": -26,
    "start_time": "2022-02-07T12:44:24.403Z"
   },
   {
    "duration": -31,
    "start_time": "2022-02-07T12:44:24.410Z"
   },
   {
    "duration": -31,
    "start_time": "2022-02-07T12:44:24.411Z"
   },
   {
    "duration": -31,
    "start_time": "2022-02-07T12:44:24.412Z"
   },
   {
    "duration": 26,
    "start_time": "2022-02-07T12:45:30.065Z"
   },
   {
    "duration": 43,
    "start_time": "2022-02-07T12:45:35.309Z"
   },
   {
    "duration": 39,
    "start_time": "2022-02-07T12:45:57.968Z"
   },
   {
    "duration": 1954,
    "start_time": "2022-02-07T12:47:16.044Z"
   },
   {
    "duration": 183,
    "start_time": "2022-02-07T12:47:18.002Z"
   },
   {
    "duration": 28,
    "start_time": "2022-02-07T12:47:18.188Z"
   },
   {
    "duration": 28,
    "start_time": "2022-02-07T12:47:18.220Z"
   },
   {
    "duration": 13,
    "start_time": "2022-02-07T12:47:18.251Z"
   },
   {
    "duration": 49,
    "start_time": "2022-02-07T12:47:18.267Z"
   },
   {
    "duration": 73,
    "start_time": "2022-02-07T12:47:18.318Z"
   },
   {
    "duration": 21,
    "start_time": "2022-02-07T12:47:18.397Z"
   },
   {
    "duration": 114,
    "start_time": "2022-02-07T12:47:18.422Z"
   },
   {
    "duration": 145,
    "start_time": "2022-02-07T12:47:18.540Z"
   },
   {
    "duration": 77,
    "start_time": "2022-02-07T12:47:18.687Z"
   },
   {
    "duration": 63,
    "start_time": "2022-02-07T12:47:18.768Z"
   },
   {
    "duration": 131,
    "start_time": "2022-02-07T12:47:18.850Z"
   },
   {
    "duration": 16,
    "start_time": "2022-02-07T12:47:18.985Z"
   },
   {
    "duration": 15,
    "start_time": "2022-02-07T12:47:19.005Z"
   },
   {
    "duration": 42,
    "start_time": "2022-02-07T12:47:19.023Z"
   },
   {
    "duration": 19,
    "start_time": "2022-02-07T12:47:19.068Z"
   },
   {
    "duration": 25,
    "start_time": "2022-02-07T12:47:19.091Z"
   },
   {
    "duration": 53,
    "start_time": "2022-02-07T12:47:19.118Z"
   },
   {
    "duration": 13,
    "start_time": "2022-02-07T12:47:19.174Z"
   },
   {
    "duration": 31,
    "start_time": "2022-02-07T12:47:19.190Z"
   },
   {
    "duration": 26,
    "start_time": "2022-02-07T12:47:19.223Z"
   },
   {
    "duration": 35,
    "start_time": "2022-02-07T12:47:19.254Z"
   },
   {
    "duration": 7,
    "start_time": "2022-02-07T12:47:19.292Z"
   },
   {
    "duration": 109,
    "start_time": "2022-02-07T12:47:19.302Z"
   },
   {
    "duration": 65,
    "start_time": "2022-02-07T12:47:19.413Z"
   },
   {
    "duration": 13,
    "start_time": "2022-02-07T12:47:19.480Z"
   },
   {
    "duration": 4212,
    "start_time": "2022-02-07T12:47:19.495Z"
   },
   {
    "duration": 38,
    "start_time": "2022-02-07T12:47:23.710Z"
   },
   {
    "duration": 21,
    "start_time": "2022-02-07T12:47:23.751Z"
   },
   {
    "duration": 8,
    "start_time": "2022-02-07T12:47:23.775Z"
   },
   {
    "duration": 9,
    "start_time": "2022-02-07T12:47:23.786Z"
   },
   {
    "duration": 1402,
    "start_time": "2022-02-07T13:07:02.837Z"
   },
   {
    "duration": 151,
    "start_time": "2022-02-07T13:07:04.242Z"
   },
   {
    "duration": 27,
    "start_time": "2022-02-07T13:07:04.396Z"
   },
   {
    "duration": 23,
    "start_time": "2022-02-07T13:07:04.425Z"
   },
   {
    "duration": 10,
    "start_time": "2022-02-07T13:07:04.451Z"
   },
   {
    "duration": 29,
    "start_time": "2022-02-07T13:07:04.464Z"
   },
   {
    "duration": 476,
    "start_time": "2022-02-07T13:07:04.496Z"
   },
   {
    "duration": -33,
    "start_time": "2022-02-07T13:07:05.009Z"
   },
   {
    "duration": -33,
    "start_time": "2022-02-07T13:07:05.010Z"
   },
   {
    "duration": -32,
    "start_time": "2022-02-07T13:07:05.011Z"
   },
   {
    "duration": -31,
    "start_time": "2022-02-07T13:07:05.012Z"
   },
   {
    "duration": -34,
    "start_time": "2022-02-07T13:07:05.016Z"
   },
   {
    "duration": -34,
    "start_time": "2022-02-07T13:07:05.018Z"
   },
   {
    "duration": -34,
    "start_time": "2022-02-07T13:07:05.019Z"
   },
   {
    "duration": -37,
    "start_time": "2022-02-07T13:07:05.023Z"
   },
   {
    "duration": -36,
    "start_time": "2022-02-07T13:07:05.024Z"
   },
   {
    "duration": -36,
    "start_time": "2022-02-07T13:07:05.025Z"
   },
   {
    "duration": -36,
    "start_time": "2022-02-07T13:07:05.026Z"
   },
   {
    "duration": -35,
    "start_time": "2022-02-07T13:07:05.026Z"
   },
   {
    "duration": -35,
    "start_time": "2022-02-07T13:07:05.028Z"
   },
   {
    "duration": -36,
    "start_time": "2022-02-07T13:07:05.030Z"
   },
   {
    "duration": -38,
    "start_time": "2022-02-07T13:07:05.033Z"
   },
   {
    "duration": -41,
    "start_time": "2022-02-07T13:07:05.038Z"
   },
   {
    "duration": -77,
    "start_time": "2022-02-07T13:07:05.075Z"
   },
   {
    "duration": -78,
    "start_time": "2022-02-07T13:07:05.077Z"
   },
   {
    "duration": -78,
    "start_time": "2022-02-07T13:07:05.079Z"
   },
   {
    "duration": -78,
    "start_time": "2022-02-07T13:07:05.080Z"
   },
   {
    "duration": -78,
    "start_time": "2022-02-07T13:07:05.081Z"
   },
   {
    "duration": -79,
    "start_time": "2022-02-07T13:07:05.083Z"
   },
   {
    "duration": -78,
    "start_time": "2022-02-07T13:07:05.084Z"
   },
   {
    "duration": -81,
    "start_time": "2022-02-07T13:07:05.089Z"
   },
   {
    "duration": -81,
    "start_time": "2022-02-07T13:07:05.090Z"
   },
   {
    "duration": -81,
    "start_time": "2022-02-07T13:07:05.091Z"
   },
   {
    "duration": 73,
    "start_time": "2022-02-07T13:08:48.049Z"
   },
   {
    "duration": 1463,
    "start_time": "2022-02-07T13:09:11.854Z"
   },
   {
    "duration": 164,
    "start_time": "2022-02-07T13:09:13.320Z"
   },
   {
    "duration": 31,
    "start_time": "2022-02-07T13:09:13.489Z"
   },
   {
    "duration": 28,
    "start_time": "2022-02-07T13:09:13.523Z"
   },
   {
    "duration": 18,
    "start_time": "2022-02-07T13:09:13.553Z"
   },
   {
    "duration": 33,
    "start_time": "2022-02-07T13:09:13.574Z"
   },
   {
    "duration": 97,
    "start_time": "2022-02-07T13:09:13.610Z"
   },
   {
    "duration": 60,
    "start_time": "2022-02-07T13:09:13.713Z"
   },
   {
    "duration": 18,
    "start_time": "2022-02-07T13:09:13.776Z"
   },
   {
    "duration": 123,
    "start_time": "2022-02-07T13:09:13.797Z"
   },
   {
    "duration": 157,
    "start_time": "2022-02-07T13:09:13.923Z"
   },
   {
    "duration": 88,
    "start_time": "2022-02-07T13:09:14.083Z"
   },
   {
    "duration": 76,
    "start_time": "2022-02-07T13:09:14.174Z"
   },
   {
    "duration": 102,
    "start_time": "2022-02-07T13:09:14.252Z"
   },
   {
    "duration": 13,
    "start_time": "2022-02-07T13:09:14.357Z"
   },
   {
    "duration": 11,
    "start_time": "2022-02-07T13:09:14.372Z"
   },
   {
    "duration": 18,
    "start_time": "2022-02-07T13:09:14.386Z"
   },
   {
    "duration": 48,
    "start_time": "2022-02-07T13:09:14.407Z"
   },
   {
    "duration": 21,
    "start_time": "2022-02-07T13:09:14.458Z"
   },
   {
    "duration": 17,
    "start_time": "2022-02-07T13:09:14.482Z"
   },
   {
    "duration": 50,
    "start_time": "2022-02-07T13:09:14.501Z"
   },
   {
    "duration": 30,
    "start_time": "2022-02-07T13:09:14.553Z"
   },
   {
    "duration": 5,
    "start_time": "2022-02-07T13:09:14.588Z"
   },
   {
    "duration": 64,
    "start_time": "2022-02-07T13:09:14.596Z"
   },
   {
    "duration": 8,
    "start_time": "2022-02-07T13:09:14.664Z"
   },
   {
    "duration": 108,
    "start_time": "2022-02-07T13:09:14.675Z"
   },
   {
    "duration": 73,
    "start_time": "2022-02-07T13:09:14.786Z"
   },
   {
    "duration": 12,
    "start_time": "2022-02-07T13:09:14.862Z"
   },
   {
    "duration": 3899,
    "start_time": "2022-02-07T13:09:14.876Z"
   },
   {
    "duration": 19,
    "start_time": "2022-02-07T13:09:18.778Z"
   },
   {
    "duration": 21,
    "start_time": "2022-02-07T13:09:18.799Z"
   },
   {
    "duration": 34,
    "start_time": "2022-02-07T13:09:18.822Z"
   },
   {
    "duration": 36,
    "start_time": "2022-02-07T13:09:18.858Z"
   },
   {
    "duration": 1410,
    "start_time": "2022-02-07T13:10:16.214Z"
   },
   {
    "duration": 157,
    "start_time": "2022-02-07T13:10:17.627Z"
   },
   {
    "duration": 29,
    "start_time": "2022-02-07T13:10:17.793Z"
   },
   {
    "duration": 37,
    "start_time": "2022-02-07T13:10:17.825Z"
   },
   {
    "duration": 15,
    "start_time": "2022-02-07T13:10:17.865Z"
   },
   {
    "duration": 29,
    "start_time": "2022-02-07T13:10:17.883Z"
   },
   {
    "duration": 95,
    "start_time": "2022-02-07T13:10:17.916Z"
   },
   {
    "duration": 60,
    "start_time": "2022-02-07T13:10:18.016Z"
   },
   {
    "duration": 18,
    "start_time": "2022-02-07T13:10:18.079Z"
   },
   {
    "duration": 125,
    "start_time": "2022-02-07T13:10:18.099Z"
   },
   {
    "duration": 148,
    "start_time": "2022-02-07T13:10:18.227Z"
   },
   {
    "duration": 95,
    "start_time": "2022-02-07T13:10:18.378Z"
   },
   {
    "duration": 74,
    "start_time": "2022-02-07T13:10:18.476Z"
   },
   {
    "duration": 106,
    "start_time": "2022-02-07T13:10:18.553Z"
   },
   {
    "duration": 14,
    "start_time": "2022-02-07T13:10:18.662Z"
   },
   {
    "duration": 12,
    "start_time": "2022-02-07T13:10:18.678Z"
   },
   {
    "duration": 14,
    "start_time": "2022-02-07T13:10:18.692Z"
   },
   {
    "duration": 52,
    "start_time": "2022-02-07T13:10:18.708Z"
   },
   {
    "duration": 21,
    "start_time": "2022-02-07T13:10:18.763Z"
   },
   {
    "duration": 15,
    "start_time": "2022-02-07T13:10:18.786Z"
   },
   {
    "duration": 8,
    "start_time": "2022-02-07T13:10:18.804Z"
   },
   {
    "duration": 29,
    "start_time": "2022-02-07T13:10:18.853Z"
   },
   {
    "duration": 7,
    "start_time": "2022-02-07T13:10:18.886Z"
   },
   {
    "duration": 65,
    "start_time": "2022-02-07T13:10:18.896Z"
   },
   {
    "duration": 7,
    "start_time": "2022-02-07T13:10:18.963Z"
   },
   {
    "duration": 103,
    "start_time": "2022-02-07T13:10:18.973Z"
   },
   {
    "duration": 71,
    "start_time": "2022-02-07T13:10:19.079Z"
   },
   {
    "duration": 17,
    "start_time": "2022-02-07T13:10:19.153Z"
   },
   {
    "duration": 4158,
    "start_time": "2022-02-07T13:10:19.172Z"
   },
   {
    "duration": 30,
    "start_time": "2022-02-07T13:10:23.333Z"
   },
   {
    "duration": 19,
    "start_time": "2022-02-07T13:10:23.366Z"
   },
   {
    "duration": 10,
    "start_time": "2022-02-07T13:10:23.388Z"
   },
   {
    "duration": 47,
    "start_time": "2022-02-07T13:10:23.401Z"
   },
   {
    "duration": 1445,
    "start_time": "2022-02-07T13:29:33.078Z"
   },
   {
    "duration": 162,
    "start_time": "2022-02-07T13:29:34.526Z"
   },
   {
    "duration": 25,
    "start_time": "2022-02-07T13:29:34.694Z"
   },
   {
    "duration": 27,
    "start_time": "2022-02-07T13:29:34.722Z"
   },
   {
    "duration": 8,
    "start_time": "2022-02-07T13:29:34.752Z"
   },
   {
    "duration": 29,
    "start_time": "2022-02-07T13:29:34.763Z"
   },
   {
    "duration": 92,
    "start_time": "2022-02-07T13:29:34.796Z"
   },
   {
    "duration": 12,
    "start_time": "2022-02-07T13:29:34.891Z"
   },
   {
    "duration": 59,
    "start_time": "2022-02-07T13:29:34.905Z"
   },
   {
    "duration": 17,
    "start_time": "2022-02-07T13:29:34.966Z"
   },
   {
    "duration": 95,
    "start_time": "2022-02-07T13:29:34.985Z"
   },
   {
    "duration": 123,
    "start_time": "2022-02-07T13:29:35.082Z"
   },
   {
    "duration": 74,
    "start_time": "2022-02-07T13:29:35.207Z"
   },
   {
    "duration": 50,
    "start_time": "2022-02-07T13:29:35.283Z"
   },
   {
    "duration": 98,
    "start_time": "2022-02-07T13:29:35.350Z"
   },
   {
    "duration": 15,
    "start_time": "2022-02-07T13:29:35.451Z"
   },
   {
    "duration": 14,
    "start_time": "2022-02-07T13:29:35.469Z"
   },
   {
    "duration": 33,
    "start_time": "2022-02-07T13:29:35.486Z"
   },
   {
    "duration": 32,
    "start_time": "2022-02-07T13:29:35.522Z"
   },
   {
    "duration": 32,
    "start_time": "2022-02-07T13:29:35.557Z"
   },
   {
    "duration": 15,
    "start_time": "2022-02-07T13:29:35.592Z"
   },
   {
    "duration": 12,
    "start_time": "2022-02-07T13:29:35.612Z"
   },
   {
    "duration": 36,
    "start_time": "2022-02-07T13:29:35.648Z"
   },
   {
    "duration": 6,
    "start_time": "2022-02-07T13:29:35.687Z"
   },
   {
    "duration": 60,
    "start_time": "2022-02-07T13:29:35.695Z"
   },
   {
    "duration": 9,
    "start_time": "2022-02-07T13:29:35.757Z"
   },
   {
    "duration": 109,
    "start_time": "2022-02-07T13:29:35.768Z"
   },
   {
    "duration": 74,
    "start_time": "2022-02-07T13:29:35.880Z"
   },
   {
    "duration": 14,
    "start_time": "2022-02-07T13:29:35.957Z"
   },
   {
    "duration": 4284,
    "start_time": "2022-02-07T13:29:35.973Z"
   },
   {
    "duration": 19,
    "start_time": "2022-02-07T13:29:40.260Z"
   },
   {
    "duration": 17,
    "start_time": "2022-02-07T13:29:40.282Z"
   },
   {
    "duration": 49,
    "start_time": "2022-02-07T13:29:40.302Z"
   },
   {
    "duration": 11,
    "start_time": "2022-02-07T13:29:40.354Z"
   },
   {
    "duration": 35,
    "start_time": "2022-02-07T13:42:48.784Z"
   },
   {
    "duration": 33,
    "start_time": "2022-02-07T13:43:58.999Z"
   },
   {
    "duration": 3985,
    "start_time": "2022-02-07T13:44:24.646Z"
   },
   {
    "duration": 4287,
    "start_time": "2022-02-07T13:44:44.874Z"
   },
   {
    "duration": 1110,
    "start_time": "2022-02-07T13:44:58.598Z"
   },
   {
    "duration": 295,
    "start_time": "2022-02-07T14:00:29.931Z"
   },
   {
    "duration": 376,
    "start_time": "2022-02-07T14:04:35.284Z"
   },
   {
    "duration": 430,
    "start_time": "2022-02-07T14:04:47.355Z"
   },
   {
    "duration": 426,
    "start_time": "2022-02-07T14:05:15.933Z"
   },
   {
    "duration": 84,
    "start_time": "2022-02-07T14:06:34.958Z"
   },
   {
    "duration": 443,
    "start_time": "2022-02-07T14:06:45.839Z"
   },
   {
    "duration": 390,
    "start_time": "2022-02-07T14:07:22.803Z"
   },
   {
    "duration": 282,
    "start_time": "2022-02-07T14:07:39.610Z"
   },
   {
    "duration": 280,
    "start_time": "2022-02-07T14:07:58.122Z"
   },
   {
    "duration": 294,
    "start_time": "2022-02-07T14:18:10.704Z"
   },
   {
    "duration": 264,
    "start_time": "2022-02-07T14:18:45.793Z"
   },
   {
    "duration": 34,
    "start_time": "2022-02-07T14:18:52.692Z"
   },
   {
    "duration": 35,
    "start_time": "2022-02-07T14:23:12.005Z"
   },
   {
    "duration": 310,
    "start_time": "2022-02-07T14:23:46.523Z"
   },
   {
    "duration": 223,
    "start_time": "2022-02-07T14:24:09.578Z"
   },
   {
    "duration": 32,
    "start_time": "2022-02-07T15:40:25.257Z"
   },
   {
    "duration": 370,
    "start_time": "2022-02-07T15:40:25.511Z"
   },
   {
    "duration": 33,
    "start_time": "2022-02-07T15:40:40.553Z"
   },
   {
    "duration": 485,
    "start_time": "2022-02-07T15:41:00.150Z"
   },
   {
    "duration": 206,
    "start_time": "2022-02-07T15:41:00.909Z"
   },
   {
    "duration": 34,
    "start_time": "2022-02-07T15:41:08.247Z"
   },
   {
    "duration": 214,
    "start_time": "2022-02-07T15:41:10.030Z"
   },
   {
    "duration": 34,
    "start_time": "2022-02-07T15:41:49.807Z"
   },
   {
    "duration": 31,
    "start_time": "2022-02-07T15:42:03.528Z"
   },
   {
    "duration": 32,
    "start_time": "2022-02-07T15:42:15.736Z"
   },
   {
    "duration": 218,
    "start_time": "2022-02-07T15:42:16.215Z"
   },
   {
    "duration": 36,
    "start_time": "2022-02-07T15:42:22.692Z"
   },
   {
    "duration": 34,
    "start_time": "2022-02-07T15:43:01.124Z"
   },
   {
    "duration": 204,
    "start_time": "2022-02-07T15:43:01.372Z"
   },
   {
    "duration": 33,
    "start_time": "2022-02-07T15:43:01.703Z"
   },
   {
    "duration": 1256,
    "start_time": "2022-02-07T15:54:28.111Z"
   },
   {
    "duration": 1445,
    "start_time": "2022-02-07T15:54:46.243Z"
   },
   {
    "duration": 1480,
    "start_time": "2022-02-07T15:55:18.290Z"
   },
   {
    "duration": 9,
    "start_time": "2022-02-07T15:59:04.773Z"
   },
   {
    "duration": 38,
    "start_time": "2022-02-07T15:59:14.659Z"
   },
   {
    "duration": 1434,
    "start_time": "2022-02-07T15:59:15.001Z"
   },
   {
    "duration": 325,
    "start_time": "2022-02-07T15:59:16.438Z"
   },
   {
    "duration": 1039,
    "start_time": "2022-02-07T15:59:34.687Z"
   },
   {
    "duration": 5,
    "start_time": "2022-02-07T16:01:15.550Z"
   },
   {
    "duration": 1187,
    "start_time": "2022-02-07T16:01:15.770Z"
   },
   {
    "duration": 321,
    "start_time": "2022-02-07T16:01:16.960Z"
   },
   {
    "duration": 33,
    "start_time": "2022-02-07T16:01:17.284Z"
   },
   {
    "duration": 54,
    "start_time": "2022-02-07T16:01:17.320Z"
   },
   {
    "duration": 235,
    "start_time": "2022-02-07T16:01:17.376Z"
   },
   {
    "duration": 46,
    "start_time": "2022-02-07T16:01:17.613Z"
   },
   {
    "duration": 190,
    "start_time": "2022-02-07T18:01:46.079Z"
   },
   {
    "duration": 436,
    "start_time": "2022-02-07T18:02:14.653Z"
   },
   {
    "duration": 3,
    "start_time": "2022-02-07T18:03:08.332Z"
   },
   {
    "duration": 895,
    "start_time": "2022-02-07T18:03:21.725Z"
   },
   {
    "duration": 15,
    "start_time": "2022-02-07T18:09:02.296Z"
   },
   {
    "duration": 37,
    "start_time": "2022-02-07T18:09:07.315Z"
   },
   {
    "duration": 93,
    "start_time": "2022-02-07T18:12:10.906Z"
   },
   {
    "duration": 98,
    "start_time": "2022-02-07T18:13:09.739Z"
   },
   {
    "duration": 91,
    "start_time": "2022-02-07T18:32:03.597Z"
   },
   {
    "duration": 114,
    "start_time": "2022-02-07T18:32:08.508Z"
   },
   {
    "duration": 112,
    "start_time": "2022-02-07T18:32:09.074Z"
   },
   {
    "duration": 271,
    "start_time": "2022-02-08T06:55:41.205Z"
   },
   {
    "duration": 1095,
    "start_time": "2022-02-08T06:55:55.457Z"
   },
   {
    "duration": 103,
    "start_time": "2022-02-08T06:55:56.553Z"
   },
   {
    "duration": 19,
    "start_time": "2022-02-08T06:55:56.658Z"
   },
   {
    "duration": 9,
    "start_time": "2022-02-08T06:55:56.678Z"
   },
   {
    "duration": 8,
    "start_time": "2022-02-08T06:55:56.689Z"
   },
   {
    "duration": 29,
    "start_time": "2022-02-08T06:55:56.698Z"
   },
   {
    "duration": 47,
    "start_time": "2022-02-08T06:55:56.729Z"
   },
   {
    "duration": 7,
    "start_time": "2022-02-08T06:55:56.778Z"
   },
   {
    "duration": 40,
    "start_time": "2022-02-08T06:55:56.787Z"
   },
   {
    "duration": 11,
    "start_time": "2022-02-08T06:55:56.829Z"
   },
   {
    "duration": 71,
    "start_time": "2022-02-08T06:55:56.842Z"
   },
   {
    "duration": 69,
    "start_time": "2022-02-08T06:55:56.915Z"
   },
   {
    "duration": 54,
    "start_time": "2022-02-08T06:55:56.986Z"
   },
   {
    "duration": 33,
    "start_time": "2022-02-08T06:55:57.041Z"
   },
   {
    "duration": 71,
    "start_time": "2022-02-08T06:55:57.076Z"
   },
   {
    "duration": 9,
    "start_time": "2022-02-08T06:55:57.148Z"
   },
   {
    "duration": 12,
    "start_time": "2022-02-08T06:55:57.159Z"
   },
   {
    "duration": 13,
    "start_time": "2022-02-08T06:55:57.173Z"
   },
   {
    "duration": 27,
    "start_time": "2022-02-08T06:55:57.188Z"
   },
   {
    "duration": 14,
    "start_time": "2022-02-08T06:55:57.217Z"
   },
   {
    "duration": 9,
    "start_time": "2022-02-08T06:55:57.232Z"
   },
   {
    "duration": 5,
    "start_time": "2022-02-08T06:55:57.243Z"
   },
   {
    "duration": 59,
    "start_time": "2022-02-08T06:55:57.253Z"
   },
   {
    "duration": 5,
    "start_time": "2022-02-08T06:55:57.315Z"
   },
   {
    "duration": 19,
    "start_time": "2022-02-08T06:55:57.322Z"
   },
   {
    "duration": 4,
    "start_time": "2022-02-08T06:55:57.342Z"
   },
   {
    "duration": 66,
    "start_time": "2022-02-08T06:55:57.347Z"
   },
   {
    "duration": 36,
    "start_time": "2022-02-08T06:55:57.414Z"
   },
   {
    "duration": 8,
    "start_time": "2022-02-08T06:55:57.452Z"
   },
   {
    "duration": 625,
    "start_time": "2022-02-08T06:55:57.462Z"
   },
   {
    "duration": 194,
    "start_time": "2022-02-08T06:55:58.088Z"
   },
   {
    "duration": 201,
    "start_time": "2022-02-08T06:55:58.283Z"
   },
   {
    "duration": 194,
    "start_time": "2022-02-08T06:55:58.485Z"
   },
   {
    "duration": 15,
    "start_time": "2022-02-08T06:55:58.681Z"
   },
   {
    "duration": 24,
    "start_time": "2022-02-08T06:55:58.698Z"
   },
   {
    "duration": 7,
    "start_time": "2022-02-08T06:55:58.724Z"
   },
   {
    "duration": 7,
    "start_time": "2022-02-08T06:55:58.732Z"
   },
   {
    "duration": 7,
    "start_time": "2022-02-08T06:55:58.740Z"
   },
   {
    "duration": 21,
    "start_time": "2022-02-08T06:55:58.748Z"
   },
   {
    "duration": 64,
    "start_time": "2022-02-08T06:55:58.770Z"
   },
   {
    "duration": 3,
    "start_time": "2022-02-08T06:55:58.835Z"
   },
   {
    "duration": 816,
    "start_time": "2022-02-08T06:55:58.839Z"
   },
   {
    "duration": 210,
    "start_time": "2022-02-08T06:55:59.657Z"
   },
   {
    "duration": 22,
    "start_time": "2022-02-08T06:55:59.869Z"
   },
   {
    "duration": 31,
    "start_time": "2022-02-08T06:55:59.892Z"
   },
   {
    "duration": 150,
    "start_time": "2022-02-08T06:55:59.924Z"
   },
   {
    "duration": 22,
    "start_time": "2022-02-08T06:56:00.076Z"
   },
   {
    "duration": 576,
    "start_time": "2022-02-08T06:56:00.100Z"
   },
   {
    "duration": 46,
    "start_time": "2022-02-08T06:56:00.677Z"
   },
   {
    "duration": 74,
    "start_time": "2022-02-08T06:56:00.725Z"
   },
   {
    "duration": 127,
    "start_time": "2022-02-08T06:56:00.800Z"
   },
   {
    "duration": 1129,
    "start_time": "2022-02-08T06:57:39.799Z"
   },
   {
    "duration": 107,
    "start_time": "2022-02-08T06:57:40.929Z"
   },
   {
    "duration": 19,
    "start_time": "2022-02-08T06:57:41.038Z"
   },
   {
    "duration": 10,
    "start_time": "2022-02-08T06:57:41.058Z"
   },
   {
    "duration": 8,
    "start_time": "2022-02-08T06:57:41.069Z"
   },
   {
    "duration": 21,
    "start_time": "2022-02-08T06:57:41.078Z"
   },
   {
    "duration": 41,
    "start_time": "2022-02-08T06:57:41.100Z"
   },
   {
    "duration": 8,
    "start_time": "2022-02-08T06:57:41.143Z"
   },
   {
    "duration": 26,
    "start_time": "2022-02-08T06:57:41.153Z"
   },
   {
    "duration": 9,
    "start_time": "2022-02-08T06:57:41.181Z"
   },
   {
    "duration": 54,
    "start_time": "2022-02-08T06:57:41.213Z"
   },
   {
    "duration": 101,
    "start_time": "2022-02-08T06:57:41.269Z"
   },
   {
    "duration": 54,
    "start_time": "2022-02-08T06:57:41.372Z"
   },
   {
    "duration": 34,
    "start_time": "2022-02-08T06:57:41.428Z"
   },
   {
    "duration": 70,
    "start_time": "2022-02-08T06:57:41.463Z"
   },
   {
    "duration": 8,
    "start_time": "2022-02-08T06:57:41.535Z"
   },
   {
    "duration": 7,
    "start_time": "2022-02-08T06:57:41.544Z"
   },
   {
    "duration": 11,
    "start_time": "2022-02-08T06:57:41.553Z"
   },
   {
    "duration": 12,
    "start_time": "2022-02-08T06:57:41.565Z"
   },
   {
    "duration": 42,
    "start_time": "2022-02-08T06:57:41.578Z"
   },
   {
    "duration": 8,
    "start_time": "2022-02-08T06:57:41.622Z"
   },
   {
    "duration": 6,
    "start_time": "2022-02-08T06:57:41.632Z"
   },
   {
    "duration": 22,
    "start_time": "2022-02-08T06:57:41.641Z"
   },
   {
    "duration": 4,
    "start_time": "2022-02-08T06:57:41.664Z"
   },
   {
    "duration": 48,
    "start_time": "2022-02-08T06:57:41.670Z"
   },
   {
    "duration": 5,
    "start_time": "2022-02-08T06:57:41.720Z"
   },
   {
    "duration": 47,
    "start_time": "2022-02-08T06:57:41.727Z"
   },
   {
    "duration": 67,
    "start_time": "2022-02-08T06:57:41.776Z"
   },
   {
    "duration": 10,
    "start_time": "2022-02-08T06:57:41.845Z"
   },
   {
    "duration": 633,
    "start_time": "2022-02-08T06:57:41.857Z"
   },
   {
    "duration": 203,
    "start_time": "2022-02-08T06:57:42.492Z"
   },
   {
    "duration": 220,
    "start_time": "2022-02-08T06:57:42.697Z"
   },
   {
    "duration": 203,
    "start_time": "2022-02-08T06:57:42.919Z"
   },
   {
    "duration": 16,
    "start_time": "2022-02-08T06:57:43.124Z"
   },
   {
    "duration": 12,
    "start_time": "2022-02-08T06:57:43.142Z"
   },
   {
    "duration": 7,
    "start_time": "2022-02-08T06:57:43.155Z"
   },
   {
    "duration": 5,
    "start_time": "2022-02-08T06:57:43.163Z"
   },
   {
    "duration": 45,
    "start_time": "2022-02-08T06:57:43.170Z"
   },
   {
    "duration": 19,
    "start_time": "2022-02-08T06:57:43.217Z"
   },
   {
    "duration": 22,
    "start_time": "2022-02-08T06:57:43.237Z"
   },
   {
    "duration": 3,
    "start_time": "2022-02-08T06:57:43.261Z"
   },
   {
    "duration": 852,
    "start_time": "2022-02-08T06:57:43.265Z"
   },
   {
    "duration": 206,
    "start_time": "2022-02-08T06:57:44.119Z"
   },
   {
    "duration": 21,
    "start_time": "2022-02-08T06:57:44.327Z"
   },
   {
    "duration": 19,
    "start_time": "2022-02-08T06:57:44.350Z"
   },
   {
    "duration": 155,
    "start_time": "2022-02-08T06:57:44.370Z"
   },
   {
    "duration": 22,
    "start_time": "2022-02-08T06:57:44.527Z"
   },
   {
    "duration": 566,
    "start_time": "2022-02-08T06:57:44.550Z"
   },
   {
    "duration": 22,
    "start_time": "2022-02-08T06:57:45.118Z"
   },
   {
    "duration": 80,
    "start_time": "2022-02-08T06:57:45.142Z"
   },
   {
    "duration": 78,
    "start_time": "2022-02-08T06:57:45.223Z"
   },
   {
    "duration": 460,
    "start_time": "2022-02-08T06:57:53.642Z"
   },
   {
    "duration": 1094,
    "start_time": "2022-02-08T06:58:03.442Z"
   },
   {
    "duration": 108,
    "start_time": "2022-02-08T06:58:04.538Z"
   },
   {
    "duration": 20,
    "start_time": "2022-02-08T06:58:04.649Z"
   },
   {
    "duration": 9,
    "start_time": "2022-02-08T06:58:04.671Z"
   },
   {
    "duration": 11,
    "start_time": "2022-02-08T06:58:04.682Z"
   },
   {
    "duration": 28,
    "start_time": "2022-02-08T06:58:04.694Z"
   },
   {
    "duration": 34,
    "start_time": "2022-02-08T06:58:04.724Z"
   },
   {
    "duration": 10,
    "start_time": "2022-02-08T06:58:04.760Z"
   },
   {
    "duration": 41,
    "start_time": "2022-02-08T06:58:04.772Z"
   },
   {
    "duration": 11,
    "start_time": "2022-02-08T06:58:04.814Z"
   },
   {
    "duration": 53,
    "start_time": "2022-02-08T06:58:04.827Z"
   },
   {
    "duration": 92,
    "start_time": "2022-02-08T06:58:04.881Z"
   },
   {
    "duration": 50,
    "start_time": "2022-02-08T06:58:04.975Z"
   },
   {
    "duration": 34,
    "start_time": "2022-02-08T06:58:05.027Z"
   },
   {
    "duration": 72,
    "start_time": "2022-02-08T06:58:05.063Z"
   },
   {
    "duration": 9,
    "start_time": "2022-02-08T06:58:05.137Z"
   },
   {
    "duration": 7,
    "start_time": "2022-02-08T06:58:05.147Z"
   },
   {
    "duration": 13,
    "start_time": "2022-02-08T06:58:05.156Z"
   },
   {
    "duration": 10,
    "start_time": "2022-02-08T06:58:05.171Z"
   },
   {
    "duration": 43,
    "start_time": "2022-02-08T06:58:05.182Z"
   },
   {
    "duration": 9,
    "start_time": "2022-02-08T06:58:05.227Z"
   },
   {
    "duration": 7,
    "start_time": "2022-02-08T06:58:05.238Z"
   },
   {
    "duration": 23,
    "start_time": "2022-02-08T06:58:05.248Z"
   },
   {
    "duration": 4,
    "start_time": "2022-02-08T06:58:05.273Z"
   },
   {
    "duration": 51,
    "start_time": "2022-02-08T06:58:05.278Z"
   },
   {
    "duration": 4,
    "start_time": "2022-02-08T06:58:05.330Z"
   },
   {
    "duration": 50,
    "start_time": "2022-02-08T06:58:05.335Z"
   },
   {
    "duration": 55,
    "start_time": "2022-02-08T06:58:05.387Z"
   },
   {
    "duration": 9,
    "start_time": "2022-02-08T06:58:05.443Z"
   },
   {
    "duration": 628,
    "start_time": "2022-02-08T06:58:05.453Z"
   },
   {
    "duration": 197,
    "start_time": "2022-02-08T06:58:06.082Z"
   },
   {
    "duration": 209,
    "start_time": "2022-02-08T06:58:06.281Z"
   },
   {
    "duration": 196,
    "start_time": "2022-02-08T06:58:06.492Z"
   },
   {
    "duration": 24,
    "start_time": "2022-02-08T06:58:06.689Z"
   },
   {
    "duration": 11,
    "start_time": "2022-02-08T06:58:06.714Z"
   },
   {
    "duration": 5,
    "start_time": "2022-02-08T06:58:06.726Z"
   },
   {
    "duration": 5,
    "start_time": "2022-02-08T06:58:06.733Z"
   },
   {
    "duration": 5,
    "start_time": "2022-02-08T06:58:06.740Z"
   },
   {
    "duration": 20,
    "start_time": "2022-02-08T06:58:06.746Z"
   },
   {
    "duration": 59,
    "start_time": "2022-02-08T06:58:06.768Z"
   },
   {
    "duration": 3,
    "start_time": "2022-02-08T06:58:06.829Z"
   },
   {
    "duration": 853,
    "start_time": "2022-02-08T06:58:06.833Z"
   },
   {
    "duration": 213,
    "start_time": "2022-02-08T06:58:07.688Z"
   },
   {
    "duration": 23,
    "start_time": "2022-02-08T06:58:07.903Z"
   },
   {
    "duration": 20,
    "start_time": "2022-02-08T06:58:07.928Z"
   },
   {
    "duration": 160,
    "start_time": "2022-02-08T06:58:07.949Z"
   },
   {
    "duration": 22,
    "start_time": "2022-02-08T06:58:08.110Z"
   },
   {
    "duration": 556,
    "start_time": "2022-02-08T06:58:08.133Z"
   },
   {
    "duration": 36,
    "start_time": "2022-02-08T06:58:08.691Z"
   },
   {
    "duration": 85,
    "start_time": "2022-02-08T06:58:08.728Z"
   },
   {
    "duration": 72,
    "start_time": "2022-02-08T06:58:08.816Z"
   },
   {
    "duration": 1086,
    "start_time": "2022-02-08T07:28:44.775Z"
   },
   {
    "duration": 113,
    "start_time": "2022-02-08T07:28:45.862Z"
   },
   {
    "duration": 20,
    "start_time": "2022-02-08T07:28:45.979Z"
   },
   {
    "duration": 14,
    "start_time": "2022-02-08T07:28:46.001Z"
   },
   {
    "duration": 9,
    "start_time": "2022-02-08T07:28:46.018Z"
   },
   {
    "duration": 24,
    "start_time": "2022-02-08T07:28:46.029Z"
   },
   {
    "duration": 64,
    "start_time": "2022-02-08T07:28:46.057Z"
   },
   {
    "duration": 11,
    "start_time": "2022-02-08T07:28:46.124Z"
   },
   {
    "duration": 18,
    "start_time": "2022-02-08T07:28:46.137Z"
   },
   {
    "duration": 104,
    "start_time": "2022-02-08T07:28:46.157Z"
   },
   {
    "duration": 122,
    "start_time": "2022-02-08T07:28:46.263Z"
   },
   {
    "duration": 68,
    "start_time": "2022-02-08T07:28:46.387Z"
   },
   {
    "duration": 58,
    "start_time": "2022-02-08T07:28:46.457Z"
   },
   {
    "duration": 72,
    "start_time": "2022-02-08T07:28:46.517Z"
   },
   {
    "duration": 22,
    "start_time": "2022-02-08T07:28:46.591Z"
   },
   {
    "duration": 8,
    "start_time": "2022-02-08T07:28:46.615Z"
   },
   {
    "duration": 11,
    "start_time": "2022-02-08T07:28:46.625Z"
   },
   {
    "duration": 11,
    "start_time": "2022-02-08T07:28:46.638Z"
   },
   {
    "duration": 15,
    "start_time": "2022-02-08T07:28:46.651Z"
   },
   {
    "duration": 44,
    "start_time": "2022-02-08T07:28:46.668Z"
   },
   {
    "duration": 5,
    "start_time": "2022-02-08T07:28:46.715Z"
   },
   {
    "duration": 32,
    "start_time": "2022-02-08T07:28:46.724Z"
   },
   {
    "duration": 4,
    "start_time": "2022-02-08T07:28:46.758Z"
   },
   {
    "duration": 19,
    "start_time": "2022-02-08T07:28:46.763Z"
   },
   {
    "duration": 4,
    "start_time": "2022-02-08T07:28:46.783Z"
   },
   {
    "duration": 52,
    "start_time": "2022-02-08T07:28:46.813Z"
   },
   {
    "duration": 61,
    "start_time": "2022-02-08T07:28:46.866Z"
   },
   {
    "duration": 9,
    "start_time": "2022-02-08T07:28:46.929Z"
   },
   {
    "duration": 639,
    "start_time": "2022-02-08T07:28:46.940Z"
   },
   {
    "duration": 225,
    "start_time": "2022-02-08T07:28:47.580Z"
   },
   {
    "duration": 242,
    "start_time": "2022-02-08T07:28:47.807Z"
   },
   {
    "duration": 208,
    "start_time": "2022-02-08T07:28:48.050Z"
   },
   {
    "duration": 17,
    "start_time": "2022-02-08T07:28:48.260Z"
   },
   {
    "duration": 34,
    "start_time": "2022-02-08T07:28:48.279Z"
   },
   {
    "duration": 7,
    "start_time": "2022-02-08T07:28:48.315Z"
   },
   {
    "duration": 7,
    "start_time": "2022-02-08T07:28:48.324Z"
   },
   {
    "duration": 6,
    "start_time": "2022-02-08T07:28:48.333Z"
   },
   {
    "duration": 21,
    "start_time": "2022-02-08T07:28:48.341Z"
   },
   {
    "duration": 62,
    "start_time": "2022-02-08T07:28:48.363Z"
   },
   {
    "duration": 4,
    "start_time": "2022-02-08T07:28:48.426Z"
   },
   {
    "duration": 849,
    "start_time": "2022-02-08T07:28:48.431Z"
   },
   {
    "duration": 263,
    "start_time": "2022-02-08T07:28:49.282Z"
   },
   {
    "duration": 26,
    "start_time": "2022-02-08T07:28:49.546Z"
   },
   {
    "duration": 39,
    "start_time": "2022-02-08T07:28:49.574Z"
   },
   {
    "duration": 153,
    "start_time": "2022-02-08T07:28:49.615Z"
   },
   {
    "duration": 24,
    "start_time": "2022-02-08T07:28:49.770Z"
   },
   {
    "duration": 667,
    "start_time": "2022-02-08T07:28:49.796Z"
   },
   {
    "duration": 26,
    "start_time": "2022-02-08T07:28:50.464Z"
   },
   {
    "duration": 81,
    "start_time": "2022-02-08T07:28:50.511Z"
   },
   {
    "duration": 68,
    "start_time": "2022-02-08T07:28:50.594Z"
   },
   {
    "duration": 93,
    "start_time": "2022-02-08T08:17:38.603Z"
   },
   {
    "duration": 101,
    "start_time": "2022-02-08T08:17:49.213Z"
   },
   {
    "duration": 282,
    "start_time": "2022-02-08T08:19:45.038Z"
   },
   {
    "duration": 1150,
    "start_time": "2022-02-08T08:19:59.601Z"
   },
   {
    "duration": 123,
    "start_time": "2022-02-08T08:20:00.753Z"
   },
   {
    "duration": 20,
    "start_time": "2022-02-08T08:20:00.880Z"
   },
   {
    "duration": 11,
    "start_time": "2022-02-08T08:20:00.902Z"
   },
   {
    "duration": 8,
    "start_time": "2022-02-08T08:20:00.915Z"
   },
   {
    "duration": 23,
    "start_time": "2022-02-08T08:20:00.925Z"
   },
   {
    "duration": 35,
    "start_time": "2022-02-08T08:20:00.951Z"
   },
   {
    "duration": 31,
    "start_time": "2022-02-08T08:20:00.988Z"
   },
   {
    "duration": 19,
    "start_time": "2022-02-08T08:20:01.021Z"
   },
   {
    "duration": 47,
    "start_time": "2022-02-08T08:20:01.042Z"
   },
   {
    "duration": 139,
    "start_time": "2022-02-08T08:20:01.091Z"
   },
   {
    "duration": 59,
    "start_time": "2022-02-08T08:20:01.232Z"
   },
   {
    "duration": 23,
    "start_time": "2022-02-08T08:20:01.293Z"
   },
   {
    "duration": 7,
    "start_time": "2022-02-08T08:20:01.318Z"
   },
   {
    "duration": 12,
    "start_time": "2022-02-08T08:20:01.326Z"
   },
   {
    "duration": 11,
    "start_time": "2022-02-08T08:20:01.339Z"
   },
   {
    "duration": 18,
    "start_time": "2022-02-08T08:20:01.351Z"
   },
   {
    "duration": 10,
    "start_time": "2022-02-08T08:20:01.370Z"
   },
   {
    "duration": 5,
    "start_time": "2022-02-08T08:20:01.413Z"
   },
   {
    "duration": 29,
    "start_time": "2022-02-08T08:20:01.419Z"
   },
   {
    "duration": 4,
    "start_time": "2022-02-08T08:20:01.450Z"
   },
   {
    "duration": 17,
    "start_time": "2022-02-08T08:20:01.459Z"
   },
   {
    "duration": 12,
    "start_time": "2022-02-08T08:20:01.478Z"
   },
   {
    "duration": 73,
    "start_time": "2022-02-08T08:20:01.491Z"
   },
   {
    "duration": 55,
    "start_time": "2022-02-08T08:20:01.566Z"
   },
   {
    "duration": 10,
    "start_time": "2022-02-08T08:20:01.622Z"
   },
   {
    "duration": 653,
    "start_time": "2022-02-08T08:20:01.633Z"
   },
   {
    "duration": 220,
    "start_time": "2022-02-08T08:20:02.288Z"
   },
   {
    "duration": 243,
    "start_time": "2022-02-08T08:20:02.511Z"
   },
   {
    "duration": 224,
    "start_time": "2022-02-08T08:20:02.756Z"
   },
   {
    "duration": 18,
    "start_time": "2022-02-08T08:20:02.982Z"
   },
   {
    "duration": 23,
    "start_time": "2022-02-08T08:20:03.001Z"
   },
   {
    "duration": 7,
    "start_time": "2022-02-08T08:20:03.026Z"
   },
   {
    "duration": 9,
    "start_time": "2022-02-08T08:20:03.035Z"
   },
   {
    "duration": 6,
    "start_time": "2022-02-08T08:20:03.046Z"
   },
   {
    "duration": 60,
    "start_time": "2022-02-08T08:20:03.053Z"
   },
   {
    "duration": 29,
    "start_time": "2022-02-08T08:20:03.115Z"
   },
   {
    "duration": 3,
    "start_time": "2022-02-08T08:20:03.146Z"
   },
   {
    "duration": 892,
    "start_time": "2022-02-08T08:20:03.151Z"
   },
   {
    "duration": 267,
    "start_time": "2022-02-08T08:20:04.045Z"
   },
   {
    "duration": 26,
    "start_time": "2022-02-08T08:20:04.313Z"
   },
   {
    "duration": 20,
    "start_time": "2022-02-08T08:20:04.340Z"
   },
   {
    "duration": 174,
    "start_time": "2022-02-08T08:20:04.362Z"
   },
   {
    "duration": 23,
    "start_time": "2022-02-08T08:20:04.538Z"
   },
   {
    "duration": 617,
    "start_time": "2022-02-08T08:20:04.562Z"
   },
   {
    "duration": 41,
    "start_time": "2022-02-08T08:20:05.180Z"
   },
   {
    "duration": 94,
    "start_time": "2022-02-08T08:20:05.222Z"
   },
   {
    "duration": 71,
    "start_time": "2022-02-08T08:20:05.317Z"
   },
   {
    "duration": 108,
    "start_time": "2022-02-08T08:20:19.085Z"
   },
   {
    "duration": 601,
    "start_time": "2022-02-08T08:20:34.083Z"
   },
   {
    "duration": 17,
    "start_time": "2022-02-08T08:20:43.413Z"
   },
   {
    "duration": 22,
    "start_time": "2022-02-08T08:20:54.846Z"
   },
   {
    "duration": 1109,
    "start_time": "2022-02-08T08:21:01.729Z"
   },
   {
    "duration": 108,
    "start_time": "2022-02-08T08:21:02.840Z"
   },
   {
    "duration": 20,
    "start_time": "2022-02-08T08:21:02.950Z"
   },
   {
    "duration": 10,
    "start_time": "2022-02-08T08:21:02.972Z"
   },
   {
    "duration": 18,
    "start_time": "2022-02-08T08:21:02.983Z"
   },
   {
    "duration": 27,
    "start_time": "2022-02-08T08:21:03.003Z"
   },
   {
    "duration": 37,
    "start_time": "2022-02-08T08:21:03.031Z"
   },
   {
    "duration": 9,
    "start_time": "2022-02-08T08:21:03.070Z"
   },
   {
    "duration": 36,
    "start_time": "2022-02-08T08:21:03.081Z"
   },
   {
    "duration": 50,
    "start_time": "2022-02-08T08:21:03.119Z"
   },
   {
    "duration": 142,
    "start_time": "2022-02-08T08:21:03.171Z"
   },
   {
    "duration": 61,
    "start_time": "2022-02-08T08:21:03.314Z"
   },
   {
    "duration": 8,
    "start_time": "2022-02-08T08:21:03.377Z"
   },
   {
    "duration": 28,
    "start_time": "2022-02-08T08:21:03.387Z"
   },
   {
    "duration": 11,
    "start_time": "2022-02-08T08:21:03.416Z"
   },
   {
    "duration": 9,
    "start_time": "2022-02-08T08:21:03.429Z"
   },
   {
    "duration": 12,
    "start_time": "2022-02-08T08:21:03.440Z"
   },
   {
    "duration": 8,
    "start_time": "2022-02-08T08:21:03.454Z"
   },
   {
    "duration": 12,
    "start_time": "2022-02-08T08:21:03.463Z"
   },
   {
    "duration": 51,
    "start_time": "2022-02-08T08:21:03.477Z"
   },
   {
    "duration": 7,
    "start_time": "2022-02-08T08:21:03.530Z"
   },
   {
    "duration": 21,
    "start_time": "2022-02-08T08:21:03.538Z"
   },
   {
    "duration": 9,
    "start_time": "2022-02-08T08:21:03.562Z"
   },
   {
    "duration": 78,
    "start_time": "2022-02-08T08:21:03.573Z"
   },
   {
    "duration": 43,
    "start_time": "2022-02-08T08:21:03.652Z"
   },
   {
    "duration": 34,
    "start_time": "2022-02-08T08:21:03.697Z"
   },
   {
    "duration": 666,
    "start_time": "2022-02-08T08:21:03.733Z"
   },
   {
    "duration": 216,
    "start_time": "2022-02-08T08:21:04.401Z"
   },
   {
    "duration": 239,
    "start_time": "2022-02-08T08:21:04.619Z"
   },
   {
    "duration": 209,
    "start_time": "2022-02-08T08:21:04.860Z"
   },
   {
    "duration": 15,
    "start_time": "2022-02-08T08:21:05.071Z"
   },
   {
    "duration": 48,
    "start_time": "2022-02-08T08:21:05.087Z"
   },
   {
    "duration": 40,
    "start_time": "2022-02-08T08:21:05.137Z"
   },
   {
    "duration": 17,
    "start_time": "2022-02-08T08:21:05.178Z"
   },
   {
    "duration": 43,
    "start_time": "2022-02-08T08:21:05.197Z"
   },
   {
    "duration": 38,
    "start_time": "2022-02-08T08:21:05.242Z"
   },
   {
    "duration": 42,
    "start_time": "2022-02-08T08:21:05.282Z"
   },
   {
    "duration": 3,
    "start_time": "2022-02-08T08:21:05.326Z"
   },
   {
    "duration": 856,
    "start_time": "2022-02-08T08:21:05.330Z"
   },
   {
    "duration": 257,
    "start_time": "2022-02-08T08:21:06.188Z"
   },
   {
    "duration": 25,
    "start_time": "2022-02-08T08:21:06.446Z"
   },
   {
    "duration": 43,
    "start_time": "2022-02-08T08:21:06.472Z"
   },
   {
    "duration": 165,
    "start_time": "2022-02-08T08:21:06.517Z"
   },
   {
    "duration": 30,
    "start_time": "2022-02-08T08:21:06.684Z"
   },
   {
    "duration": 622,
    "start_time": "2022-02-08T08:21:06.716Z"
   },
   {
    "duration": 24,
    "start_time": "2022-02-08T08:21:07.339Z"
   },
   {
    "duration": 132,
    "start_time": "2022-02-08T08:21:07.365Z"
   },
   {
    "duration": 75,
    "start_time": "2022-02-08T08:21:07.498Z"
   },
   {
    "duration": 120,
    "start_time": "2022-02-08T08:22:21.983Z"
   },
   {
    "duration": 4,
    "start_time": "2022-02-08T08:23:13.726Z"
   },
   {
    "duration": 5,
    "start_time": "2022-02-08T08:23:17.478Z"
   },
   {
    "duration": 58,
    "start_time": "2022-02-08T08:23:56.385Z"
   },
   {
    "duration": 5,
    "start_time": "2022-02-08T08:24:45.358Z"
   },
   {
    "duration": 73,
    "start_time": "2022-02-08T08:25:34.564Z"
   },
   {
    "duration": 4,
    "start_time": "2022-02-08T08:25:54.575Z"
   },
   {
    "duration": 1087,
    "start_time": "2022-02-08T09:10:10.055Z"
   },
   {
    "duration": 116,
    "start_time": "2022-02-08T09:10:11.144Z"
   },
   {
    "duration": 23,
    "start_time": "2022-02-08T09:10:11.265Z"
   },
   {
    "duration": 25,
    "start_time": "2022-02-08T09:10:11.290Z"
   },
   {
    "duration": 10,
    "start_time": "2022-02-08T09:10:11.318Z"
   },
   {
    "duration": 42,
    "start_time": "2022-02-08T09:10:11.330Z"
   },
   {
    "duration": 56,
    "start_time": "2022-02-08T09:10:11.376Z"
   },
   {
    "duration": 9,
    "start_time": "2022-02-08T09:10:11.435Z"
   },
   {
    "duration": 25,
    "start_time": "2022-02-08T09:10:11.446Z"
   },
   {
    "duration": 62,
    "start_time": "2022-02-08T09:10:11.473Z"
   },
   {
    "duration": 141,
    "start_time": "2022-02-08T09:10:11.537Z"
   },
   {
    "duration": 5,
    "start_time": "2022-02-08T09:10:11.680Z"
   },
   {
    "duration": 5,
    "start_time": "2022-02-08T09:10:11.687Z"
   },
   {
    "duration": 27,
    "start_time": "2022-02-08T09:10:11.693Z"
   },
   {
    "duration": 13,
    "start_time": "2022-02-08T09:10:11.722Z"
   },
   {
    "duration": 5,
    "start_time": "2022-02-08T09:10:11.737Z"
   },
   {
    "duration": 23,
    "start_time": "2022-02-08T09:10:11.743Z"
   },
   {
    "duration": 3,
    "start_time": "2022-02-08T09:10:11.768Z"
   },
   {
    "duration": 47,
    "start_time": "2022-02-08T09:10:11.773Z"
   },
   {
    "duration": 5,
    "start_time": "2022-02-08T09:10:11.822Z"
   },
   {
    "duration": 51,
    "start_time": "2022-02-08T09:10:11.829Z"
   },
   {
    "duration": 63,
    "start_time": "2022-02-08T09:10:11.883Z"
   },
   {
    "duration": 9,
    "start_time": "2022-02-08T09:10:11.948Z"
   },
   {
    "duration": 658,
    "start_time": "2022-02-08T09:10:11.958Z"
   },
   {
    "duration": 228,
    "start_time": "2022-02-08T09:10:12.618Z"
   },
   {
    "duration": 241,
    "start_time": "2022-02-08T09:10:12.848Z"
   },
   {
    "duration": 214,
    "start_time": "2022-02-08T09:10:13.091Z"
   },
   {
    "duration": 22,
    "start_time": "2022-02-08T09:10:13.307Z"
   },
   {
    "duration": 14,
    "start_time": "2022-02-08T09:10:13.330Z"
   },
   {
    "duration": 5,
    "start_time": "2022-02-08T09:10:13.346Z"
   },
   {
    "duration": 6,
    "start_time": "2022-02-08T09:10:13.353Z"
   },
   {
    "duration": 5,
    "start_time": "2022-02-08T09:10:13.361Z"
   },
   {
    "duration": 57,
    "start_time": "2022-02-08T09:10:13.368Z"
   },
   {
    "duration": 25,
    "start_time": "2022-02-08T09:10:13.427Z"
   },
   {
    "duration": 3,
    "start_time": "2022-02-08T09:10:13.454Z"
   },
   {
    "duration": 897,
    "start_time": "2022-02-08T09:10:13.458Z"
   },
   {
    "duration": 264,
    "start_time": "2022-02-08T09:10:14.356Z"
   },
   {
    "duration": 24,
    "start_time": "2022-02-08T09:10:14.621Z"
   },
   {
    "duration": 20,
    "start_time": "2022-02-08T09:10:14.647Z"
   },
   {
    "duration": 170,
    "start_time": "2022-02-08T09:10:14.668Z"
   },
   {
    "duration": 23,
    "start_time": "2022-02-08T09:10:14.839Z"
   },
   {
    "duration": 625,
    "start_time": "2022-02-08T09:10:14.864Z"
   },
   {
    "duration": 46,
    "start_time": "2022-02-08T09:10:15.491Z"
   },
   {
    "duration": 99,
    "start_time": "2022-02-08T09:10:15.539Z"
   },
   {
    "duration": 103,
    "start_time": "2022-02-08T09:10:15.640Z"
   },
   {
    "duration": 1197,
    "start_time": "2022-02-08T09:15:06.189Z"
   },
   {
    "duration": 132,
    "start_time": "2022-02-08T09:15:07.389Z"
   },
   {
    "duration": 24,
    "start_time": "2022-02-08T09:15:07.524Z"
   },
   {
    "duration": 22,
    "start_time": "2022-02-08T09:15:07.550Z"
   },
   {
    "duration": 19,
    "start_time": "2022-02-08T09:15:07.574Z"
   },
   {
    "duration": 47,
    "start_time": "2022-02-08T09:15:07.595Z"
   },
   {
    "duration": 37,
    "start_time": "2022-02-08T09:15:07.644Z"
   },
   {
    "duration": 10,
    "start_time": "2022-02-08T09:15:07.684Z"
   },
   {
    "duration": 32,
    "start_time": "2022-02-08T09:15:07.696Z"
   },
   {
    "duration": 51,
    "start_time": "2022-02-08T09:15:07.730Z"
   },
   {
    "duration": 171,
    "start_time": "2022-02-08T09:15:07.783Z"
   },
   {
    "duration": 7,
    "start_time": "2022-02-08T09:15:07.956Z"
   },
   {
    "duration": 9,
    "start_time": "2022-02-08T09:15:07.965Z"
   },
   {
    "duration": 10,
    "start_time": "2022-02-08T09:15:07.975Z"
   },
   {
    "duration": 33,
    "start_time": "2022-02-08T09:15:07.987Z"
   },
   {
    "duration": 5,
    "start_time": "2022-02-08T09:15:08.022Z"
   },
   {
    "duration": 29,
    "start_time": "2022-02-08T09:15:08.029Z"
   },
   {
    "duration": 5,
    "start_time": "2022-02-08T09:15:08.061Z"
   },
   {
    "duration": 46,
    "start_time": "2022-02-08T09:15:08.068Z"
   },
   {
    "duration": 6,
    "start_time": "2022-02-08T09:15:08.117Z"
   },
   {
    "duration": 60,
    "start_time": "2022-02-08T09:15:08.125Z"
   },
   {
    "duration": 69,
    "start_time": "2022-02-08T09:15:08.186Z"
   },
   {
    "duration": 10,
    "start_time": "2022-02-08T09:15:08.259Z"
   },
   {
    "duration": 691,
    "start_time": "2022-02-08T09:15:08.271Z"
   },
   {
    "duration": 235,
    "start_time": "2022-02-08T09:15:08.964Z"
   },
   {
    "duration": 245,
    "start_time": "2022-02-08T09:15:09.201Z"
   },
   {
    "duration": 210,
    "start_time": "2022-02-08T09:15:09.448Z"
   },
   {
    "duration": 15,
    "start_time": "2022-02-08T09:15:09.660Z"
   },
   {
    "duration": 13,
    "start_time": "2022-02-08T09:15:09.677Z"
   },
   {
    "duration": 26,
    "start_time": "2022-02-08T09:15:09.691Z"
   },
   {
    "duration": 7,
    "start_time": "2022-02-08T09:15:09.719Z"
   },
   {
    "duration": 14,
    "start_time": "2022-02-08T09:15:09.727Z"
   },
   {
    "duration": 25,
    "start_time": "2022-02-08T09:15:09.742Z"
   },
   {
    "duration": 51,
    "start_time": "2022-02-08T09:15:09.769Z"
   },
   {
    "duration": 3,
    "start_time": "2022-02-08T09:15:09.821Z"
   },
   {
    "duration": 876,
    "start_time": "2022-02-08T09:15:09.826Z"
   },
   {
    "duration": 271,
    "start_time": "2022-02-08T09:15:10.704Z"
   },
   {
    "duration": 36,
    "start_time": "2022-02-08T09:15:10.977Z"
   },
   {
    "duration": 20,
    "start_time": "2022-02-08T09:15:11.015Z"
   },
   {
    "duration": 157,
    "start_time": "2022-02-08T09:15:11.037Z"
   },
   {
    "duration": 30,
    "start_time": "2022-02-08T09:15:11.195Z"
   },
   {
    "duration": 692,
    "start_time": "2022-02-08T09:15:11.227Z"
   },
   {
    "duration": 28,
    "start_time": "2022-02-08T09:15:11.921Z"
   },
   {
    "duration": 102,
    "start_time": "2022-02-08T09:15:11.951Z"
   },
   {
    "duration": 75,
    "start_time": "2022-02-08T09:15:12.055Z"
   },
   {
    "duration": 70,
    "start_time": "2022-02-08T09:17:36.557Z"
   },
   {
    "duration": 1110,
    "start_time": "2022-02-08T09:29:38.119Z"
   },
   {
    "duration": 106,
    "start_time": "2022-02-08T09:29:39.230Z"
   },
   {
    "duration": 21,
    "start_time": "2022-02-08T09:29:39.337Z"
   },
   {
    "duration": 10,
    "start_time": "2022-02-08T09:29:39.360Z"
   },
   {
    "duration": 11,
    "start_time": "2022-02-08T09:29:39.371Z"
   },
   {
    "duration": 28,
    "start_time": "2022-02-08T09:29:39.384Z"
   },
   {
    "duration": 37,
    "start_time": "2022-02-08T09:29:39.414Z"
   },
   {
    "duration": 9,
    "start_time": "2022-02-08T09:29:39.453Z"
   },
   {
    "duration": 17,
    "start_time": "2022-02-08T09:29:39.464Z"
   },
   {
    "duration": 67,
    "start_time": "2022-02-08T09:29:39.483Z"
   },
   {
    "duration": 136,
    "start_time": "2022-02-08T09:29:39.551Z"
   },
   {
    "duration": 5,
    "start_time": "2022-02-08T09:29:39.689Z"
   },
   {
    "duration": 3,
    "start_time": "2022-02-08T09:29:39.696Z"
   },
   {
    "duration": 3,
    "start_time": "2022-02-08T09:29:39.712Z"
   },
   {
    "duration": 15,
    "start_time": "2022-02-08T09:29:39.717Z"
   },
   {
    "duration": 4,
    "start_time": "2022-02-08T09:29:39.733Z"
   },
   {
    "duration": 22,
    "start_time": "2022-02-08T09:29:39.738Z"
   },
   {
    "duration": 3,
    "start_time": "2022-02-08T09:29:39.762Z"
   },
   {
    "duration": 17,
    "start_time": "2022-02-08T09:29:39.766Z"
   },
   {
    "duration": 4,
    "start_time": "2022-02-08T09:29:39.813Z"
   },
   {
    "duration": 51,
    "start_time": "2022-02-08T09:29:39.819Z"
   },
   {
    "duration": 58,
    "start_time": "2022-02-08T09:29:39.872Z"
   },
   {
    "duration": 9,
    "start_time": "2022-02-08T09:29:39.934Z"
   },
   {
    "duration": 625,
    "start_time": "2022-02-08T09:29:39.945Z"
   },
   {
    "duration": 210,
    "start_time": "2022-02-08T09:29:40.571Z"
   },
   {
    "duration": 229,
    "start_time": "2022-02-08T09:29:40.782Z"
   },
   {
    "duration": 201,
    "start_time": "2022-02-08T09:29:41.013Z"
   },
   {
    "duration": 16,
    "start_time": "2022-02-08T09:29:41.216Z"
   },
   {
    "duration": 12,
    "start_time": "2022-02-08T09:29:41.234Z"
   },
   {
    "duration": 7,
    "start_time": "2022-02-08T09:29:41.248Z"
   },
   {
    "duration": 7,
    "start_time": "2022-02-08T09:29:41.256Z"
   },
   {
    "duration": 6,
    "start_time": "2022-02-08T09:29:41.265Z"
   },
   {
    "duration": 68,
    "start_time": "2022-02-08T09:29:41.272Z"
   },
   {
    "duration": 26,
    "start_time": "2022-02-08T09:29:41.342Z"
   },
   {
    "duration": 4,
    "start_time": "2022-02-08T09:29:41.370Z"
   },
   {
    "duration": 839,
    "start_time": "2022-02-08T09:29:41.376Z"
   },
   {
    "duration": 260,
    "start_time": "2022-02-08T09:29:42.217Z"
   },
   {
    "duration": 34,
    "start_time": "2022-02-08T09:29:42.479Z"
   },
   {
    "duration": 21,
    "start_time": "2022-02-08T09:29:42.515Z"
   },
   {
    "duration": 158,
    "start_time": "2022-02-08T09:29:42.538Z"
   },
   {
    "duration": 30,
    "start_time": "2022-02-08T09:29:42.697Z"
   },
   {
    "duration": 591,
    "start_time": "2022-02-08T09:29:42.728Z"
   },
   {
    "duration": 25,
    "start_time": "2022-02-08T09:29:43.321Z"
   },
   {
    "duration": 99,
    "start_time": "2022-02-08T09:29:43.348Z"
   },
   {
    "duration": 82,
    "start_time": "2022-02-08T09:29:43.448Z"
   },
   {
    "duration": 8,
    "start_time": "2022-02-08T09:58:46.583Z"
   },
   {
    "duration": 10,
    "start_time": "2022-02-08T09:58:58.241Z"
   },
   {
    "duration": 315,
    "start_time": "2022-02-08T09:59:07.064Z"
   },
   {
    "duration": 13,
    "start_time": "2022-02-08T09:59:13.944Z"
   },
   {
    "duration": 14,
    "start_time": "2022-02-08T09:59:28.283Z"
   },
   {
    "duration": 13,
    "start_time": "2022-02-08T09:59:37.103Z"
   },
   {
    "duration": 13,
    "start_time": "2022-02-08T10:00:11.990Z"
   },
   {
    "duration": 264,
    "start_time": "2022-02-08T10:00:16.550Z"
   },
   {
    "duration": 7,
    "start_time": "2022-02-08T10:00:26.944Z"
   },
   {
    "duration": 223,
    "start_time": "2022-02-08T10:01:33.598Z"
   },
   {
    "duration": 256,
    "start_time": "2022-02-08T10:01:41.430Z"
   },
   {
    "duration": 236,
    "start_time": "2022-02-08T10:02:02.830Z"
   },
   {
    "duration": 13,
    "start_time": "2022-02-08T10:02:09.750Z"
   },
   {
    "duration": 5,
    "start_time": "2022-02-08T10:22:30.589Z"
   },
   {
    "duration": 3,
    "start_time": "2022-02-08T10:22:32.550Z"
   },
   {
    "duration": 6105,
    "start_time": "2022-02-08T10:22:32.821Z"
   },
   {
    "duration": 4,
    "start_time": "2022-02-08T10:22:43.262Z"
   },
   {
    "duration": 3,
    "start_time": "2022-02-08T10:22:43.502Z"
   },
   {
    "duration": 415,
    "start_time": "2022-02-08T10:22:43.710Z"
   },
   {
    "duration": 3,
    "start_time": "2022-02-08T10:23:52.510Z"
   },
   {
    "duration": 7,
    "start_time": "2022-02-08T10:23:53.211Z"
   },
   {
    "duration": 498,
    "start_time": "2022-02-08T10:23:53.536Z"
   },
   {
    "duration": 3,
    "start_time": "2022-02-08T10:24:05.662Z"
   },
   {
    "duration": 4,
    "start_time": "2022-02-08T10:24:05.902Z"
   },
   {
    "duration": 423,
    "start_time": "2022-02-08T10:24:06.133Z"
   },
   {
    "duration": 2432,
    "start_time": "2022-02-08T10:24:32.143Z"
   },
   {
    "duration": 610,
    "start_time": "2022-02-08T10:24:47.265Z"
   },
   {
    "duration": 515,
    "start_time": "2022-02-08T10:25:46.578Z"
   },
   {
    "duration": 491,
    "start_time": "2022-02-08T10:26:08.069Z"
   },
   {
    "duration": 505,
    "start_time": "2022-02-08T10:27:04.290Z"
   },
   {
    "duration": 1120,
    "start_time": "2022-02-08T10:27:19.830Z"
   },
   {
    "duration": 114,
    "start_time": "2022-02-08T10:27:20.952Z"
   },
   {
    "duration": 21,
    "start_time": "2022-02-08T10:27:21.068Z"
   },
   {
    "duration": 11,
    "start_time": "2022-02-08T10:27:21.091Z"
   },
   {
    "duration": 17,
    "start_time": "2022-02-08T10:27:21.104Z"
   },
   {
    "duration": 24,
    "start_time": "2022-02-08T10:27:21.123Z"
   },
   {
    "duration": 38,
    "start_time": "2022-02-08T10:27:21.149Z"
   },
   {
    "duration": 32,
    "start_time": "2022-02-08T10:27:21.189Z"
   },
   {
    "duration": 18,
    "start_time": "2022-02-08T10:27:21.224Z"
   },
   {
    "duration": 74,
    "start_time": "2022-02-08T10:27:21.243Z"
   },
   {
    "duration": 134,
    "start_time": "2022-02-08T10:27:21.319Z"
   },
   {
    "duration": 5,
    "start_time": "2022-02-08T10:27:21.455Z"
   },
   {
    "duration": 8,
    "start_time": "2022-02-08T10:27:21.461Z"
   },
   {
    "duration": 8,
    "start_time": "2022-02-08T10:27:21.470Z"
   },
   {
    "duration": 17,
    "start_time": "2022-02-08T10:27:21.479Z"
   },
   {
    "duration": 4,
    "start_time": "2022-02-08T10:27:21.513Z"
   },
   {
    "duration": 27,
    "start_time": "2022-02-08T10:27:21.519Z"
   },
   {
    "duration": 4,
    "start_time": "2022-02-08T10:27:21.548Z"
   },
   {
    "duration": 21,
    "start_time": "2022-02-08T10:27:21.553Z"
   },
   {
    "duration": 4,
    "start_time": "2022-02-08T10:27:21.576Z"
   },
   {
    "duration": 78,
    "start_time": "2022-02-08T10:27:21.581Z"
   },
   {
    "duration": 12,
    "start_time": "2022-02-08T10:27:21.661Z"
   },
   {
    "duration": 11,
    "start_time": "2022-02-08T10:27:21.677Z"
   },
   {
    "duration": 59,
    "start_time": "2022-02-08T10:27:21.690Z"
   },
   {
    "duration": 3,
    "start_time": "2022-02-08T10:27:21.751Z"
   },
   {
    "duration": 6,
    "start_time": "2022-02-08T10:27:21.756Z"
   },
   {
    "duration": 552,
    "start_time": "2022-02-08T10:27:21.763Z"
   },
   {
    "duration": 528,
    "start_time": "2022-02-08T10:27:22.316Z"
   },
   {
    "duration": 893,
    "start_time": "2022-02-08T10:27:22.846Z"
   },
   {
    "duration": 231,
    "start_time": "2022-02-08T10:27:23.741Z"
   },
   {
    "duration": 338,
    "start_time": "2022-02-08T10:27:23.974Z"
   },
   {
    "duration": 295,
    "start_time": "2022-02-08T10:27:24.313Z"
   },
   {
    "duration": 17,
    "start_time": "2022-02-08T10:27:24.612Z"
   },
   {
    "duration": 12,
    "start_time": "2022-02-08T10:27:24.631Z"
   },
   {
    "duration": 6,
    "start_time": "2022-02-08T10:27:24.644Z"
   },
   {
    "duration": 6,
    "start_time": "2022-02-08T10:27:24.651Z"
   },
   {
    "duration": 6,
    "start_time": "2022-02-08T10:27:24.659Z"
   },
   {
    "duration": 63,
    "start_time": "2022-02-08T10:27:24.666Z"
   },
   {
    "duration": 24,
    "start_time": "2022-02-08T10:27:24.731Z"
   },
   {
    "duration": 3,
    "start_time": "2022-02-08T10:27:24.757Z"
   },
   {
    "duration": 807,
    "start_time": "2022-02-08T10:27:24.762Z"
   },
   {
    "duration": 263,
    "start_time": "2022-02-08T10:27:25.571Z"
   },
   {
    "duration": 24,
    "start_time": "2022-02-08T10:27:25.835Z"
   },
   {
    "duration": 20,
    "start_time": "2022-02-08T10:27:25.861Z"
   },
   {
    "duration": 174,
    "start_time": "2022-02-08T10:27:25.883Z"
   },
   {
    "duration": 25,
    "start_time": "2022-02-08T10:27:26.059Z"
   },
   {
    "duration": 642,
    "start_time": "2022-02-08T10:27:26.086Z"
   },
   {
    "duration": 26,
    "start_time": "2022-02-08T10:27:26.730Z"
   },
   {
    "duration": 109,
    "start_time": "2022-02-08T10:27:26.757Z"
   },
   {
    "duration": 86,
    "start_time": "2022-02-08T10:27:26.867Z"
   },
   {
    "duration": 333,
    "start_time": "2022-02-08T10:29:24.221Z"
   },
   {
    "duration": 1131,
    "start_time": "2022-02-08T10:29:38.315Z"
   },
   {
    "duration": 112,
    "start_time": "2022-02-08T10:29:39.448Z"
   },
   {
    "duration": 22,
    "start_time": "2022-02-08T10:29:39.563Z"
   },
   {
    "duration": 10,
    "start_time": "2022-02-08T10:29:39.586Z"
   },
   {
    "duration": 21,
    "start_time": "2022-02-08T10:29:39.597Z"
   },
   {
    "duration": 22,
    "start_time": "2022-02-08T10:29:39.619Z"
   },
   {
    "duration": 35,
    "start_time": "2022-02-08T10:29:39.643Z"
   },
   {
    "duration": 9,
    "start_time": "2022-02-08T10:29:39.680Z"
   },
   {
    "duration": 37,
    "start_time": "2022-02-08T10:29:39.690Z"
   },
   {
    "duration": 44,
    "start_time": "2022-02-08T10:29:39.729Z"
   },
   {
    "duration": 150,
    "start_time": "2022-02-08T10:29:39.775Z"
   },
   {
    "duration": 5,
    "start_time": "2022-02-08T10:29:39.927Z"
   },
   {
    "duration": 5,
    "start_time": "2022-02-08T10:29:39.933Z"
   },
   {
    "duration": 4,
    "start_time": "2022-02-08T10:29:39.940Z"
   },
   {
    "duration": 16,
    "start_time": "2022-02-08T10:29:39.946Z"
   },
   {
    "duration": 4,
    "start_time": "2022-02-08T10:29:39.963Z"
   },
   {
    "duration": 55,
    "start_time": "2022-02-08T10:29:39.969Z"
   },
   {
    "duration": 4,
    "start_time": "2022-02-08T10:29:40.026Z"
   },
   {
    "duration": 18,
    "start_time": "2022-02-08T10:29:40.032Z"
   },
   {
    "duration": 5,
    "start_time": "2022-02-08T10:29:40.051Z"
   },
   {
    "duration": 74,
    "start_time": "2022-02-08T10:29:40.057Z"
   },
   {
    "duration": 14,
    "start_time": "2022-02-08T10:29:40.134Z"
   },
   {
    "duration": 11,
    "start_time": "2022-02-08T10:29:40.150Z"
   },
   {
    "duration": 62,
    "start_time": "2022-02-08T10:29:40.163Z"
   },
   {
    "duration": 3,
    "start_time": "2022-02-08T10:29:40.227Z"
   },
   {
    "duration": 6,
    "start_time": "2022-02-08T10:29:40.232Z"
   },
   {
    "duration": 558,
    "start_time": "2022-02-08T10:29:40.240Z"
   },
   {
    "duration": 520,
    "start_time": "2022-02-08T10:29:40.799Z"
   },
   {
    "duration": 251,
    "start_time": "2022-02-08T10:29:41.321Z"
   },
   {
    "duration": 355,
    "start_time": "2022-02-08T10:29:41.573Z"
   },
   {
    "duration": 362,
    "start_time": "2022-02-08T10:29:41.930Z"
   },
   {
    "duration": 23,
    "start_time": "2022-02-08T10:29:42.294Z"
   },
   {
    "duration": 11,
    "start_time": "2022-02-08T10:29:42.319Z"
   },
   {
    "duration": 5,
    "start_time": "2022-02-08T10:29:42.332Z"
   },
   {
    "duration": 11,
    "start_time": "2022-02-08T10:29:42.338Z"
   },
   {
    "duration": 6,
    "start_time": "2022-02-08T10:29:42.351Z"
   },
   {
    "duration": 23,
    "start_time": "2022-02-08T10:29:42.358Z"
   },
   {
    "duration": 53,
    "start_time": "2022-02-08T10:29:42.382Z"
   },
   {
    "duration": 3,
    "start_time": "2022-02-08T10:29:42.436Z"
   },
   {
    "duration": 776,
    "start_time": "2022-02-08T10:29:42.440Z"
   },
   {
    "duration": 260,
    "start_time": "2022-02-08T10:29:43.217Z"
   },
   {
    "duration": 35,
    "start_time": "2022-02-08T10:29:43.478Z"
   },
   {
    "duration": 20,
    "start_time": "2022-02-08T10:29:43.514Z"
   },
   {
    "duration": 167,
    "start_time": "2022-02-08T10:29:43.536Z"
   },
   {
    "duration": 24,
    "start_time": "2022-02-08T10:29:43.705Z"
   },
   {
    "duration": 558,
    "start_time": "2022-02-08T10:29:43.730Z"
   },
   {
    "duration": 29,
    "start_time": "2022-02-08T10:29:44.289Z"
   },
   {
    "duration": 86,
    "start_time": "2022-02-08T10:29:44.319Z"
   },
   {
    "duration": 86,
    "start_time": "2022-02-08T10:29:44.412Z"
   },
   {
    "duration": 252,
    "start_time": "2022-02-08T10:30:12.703Z"
   },
   {
    "duration": 328,
    "start_time": "2022-02-08T10:33:15.943Z"
   },
   {
    "duration": 3,
    "start_time": "2022-02-08T10:33:19.224Z"
   },
   {
    "duration": 199,
    "start_time": "2022-02-08T10:33:19.519Z"
   },
   {
    "duration": 4,
    "start_time": "2022-02-08T10:33:44.863Z"
   },
   {
    "duration": 464,
    "start_time": "2022-02-08T10:33:46.503Z"
   },
   {
    "duration": 3,
    "start_time": "2022-02-08T10:34:07.024Z"
   },
   {
    "duration": 295,
    "start_time": "2022-02-08T10:34:09.619Z"
   },
   {
    "duration": 4,
    "start_time": "2022-02-08T10:36:03.983Z"
   },
   {
    "duration": 306,
    "start_time": "2022-02-08T10:36:05.051Z"
   },
   {
    "duration": 346,
    "start_time": "2022-02-08T10:36:18.451Z"
   },
   {
    "duration": 1139,
    "start_time": "2022-02-08T10:36:24.811Z"
   },
   {
    "duration": 113,
    "start_time": "2022-02-08T10:36:25.952Z"
   },
   {
    "duration": 23,
    "start_time": "2022-02-08T10:36:26.068Z"
   },
   {
    "duration": 19,
    "start_time": "2022-02-08T10:36:26.094Z"
   },
   {
    "duration": 7,
    "start_time": "2022-02-08T10:36:26.114Z"
   },
   {
    "duration": 21,
    "start_time": "2022-02-08T10:36:26.123Z"
   },
   {
    "duration": 37,
    "start_time": "2022-02-08T10:36:26.146Z"
   },
   {
    "duration": 36,
    "start_time": "2022-02-08T10:36:26.184Z"
   },
   {
    "duration": 17,
    "start_time": "2022-02-08T10:36:26.223Z"
   },
   {
    "duration": 50,
    "start_time": "2022-02-08T10:36:26.243Z"
   },
   {
    "duration": 150,
    "start_time": "2022-02-08T10:36:26.311Z"
   },
   {
    "duration": 5,
    "start_time": "2022-02-08T10:36:26.463Z"
   },
   {
    "duration": 5,
    "start_time": "2022-02-08T10:36:26.470Z"
   },
   {
    "duration": 6,
    "start_time": "2022-02-08T10:36:26.476Z"
   },
   {
    "duration": 35,
    "start_time": "2022-02-08T10:36:26.485Z"
   },
   {
    "duration": 4,
    "start_time": "2022-02-08T10:36:26.521Z"
   },
   {
    "duration": 25,
    "start_time": "2022-02-08T10:36:26.526Z"
   },
   {
    "duration": 3,
    "start_time": "2022-02-08T10:36:26.553Z"
   },
   {
    "duration": 19,
    "start_time": "2022-02-08T10:36:26.558Z"
   },
   {
    "duration": 4,
    "start_time": "2022-02-08T10:36:26.578Z"
   },
   {
    "duration": 50,
    "start_time": "2022-02-08T10:36:26.612Z"
   },
   {
    "duration": 13,
    "start_time": "2022-02-08T10:36:26.664Z"
   },
   {
    "duration": 35,
    "start_time": "2022-02-08T10:36:26.678Z"
   },
   {
    "duration": 44,
    "start_time": "2022-02-08T10:36:26.714Z"
   },
   {
    "duration": 3,
    "start_time": "2022-02-08T10:36:26.759Z"
   },
   {
    "duration": 9,
    "start_time": "2022-02-08T10:36:26.764Z"
   },
   {
    "duration": 547,
    "start_time": "2022-02-08T10:36:26.777Z"
   },
   {
    "duration": 514,
    "start_time": "2022-02-08T10:36:27.326Z"
   },
   {
    "duration": 3,
    "start_time": "2022-02-08T10:36:27.842Z"
   },
   {
    "duration": 327,
    "start_time": "2022-02-08T10:36:27.846Z"
   },
   {
    "duration": 292,
    "start_time": "2022-02-08T10:36:28.175Z"
   },
   {
    "duration": 395,
    "start_time": "2022-02-08T10:36:28.469Z"
   },
   {
    "duration": 296,
    "start_time": "2022-02-08T10:36:28.866Z"
   },
   {
    "duration": 14,
    "start_time": "2022-02-08T10:36:29.164Z"
   },
   {
    "duration": 12,
    "start_time": "2022-02-08T10:36:29.180Z"
   },
   {
    "duration": 21,
    "start_time": "2022-02-08T10:36:29.194Z"
   },
   {
    "duration": 6,
    "start_time": "2022-02-08T10:36:29.217Z"
   },
   {
    "duration": 7,
    "start_time": "2022-02-08T10:36:29.224Z"
   },
   {
    "duration": 22,
    "start_time": "2022-02-08T10:36:29.232Z"
   },
   {
    "duration": 58,
    "start_time": "2022-02-08T10:36:29.256Z"
   },
   {
    "duration": 3,
    "start_time": "2022-02-08T10:36:29.316Z"
   },
   {
    "duration": 791,
    "start_time": "2022-02-08T10:36:29.321Z"
   },
   {
    "duration": 271,
    "start_time": "2022-02-08T10:36:30.114Z"
   },
   {
    "duration": 34,
    "start_time": "2022-02-08T10:36:30.386Z"
   },
   {
    "duration": 20,
    "start_time": "2022-02-08T10:36:30.422Z"
   },
   {
    "duration": 162,
    "start_time": "2022-02-08T10:36:30.444Z"
   },
   {
    "duration": 23,
    "start_time": "2022-02-08T10:36:30.612Z"
   },
   {
    "duration": 617,
    "start_time": "2022-02-08T10:36:30.636Z"
   },
   {
    "duration": 26,
    "start_time": "2022-02-08T10:36:31.255Z"
   },
   {
    "duration": 111,
    "start_time": "2022-02-08T10:36:31.283Z"
   },
   {
    "duration": 85,
    "start_time": "2022-02-08T10:36:31.396Z"
   },
   {
    "duration": 13,
    "start_time": "2022-02-08T10:40:33.886Z"
   },
   {
    "duration": 477,
    "start_time": "2022-02-08T10:41:39.758Z"
   },
   {
    "duration": 17,
    "start_time": "2022-02-08T10:41:58.498Z"
   },
   {
    "duration": 412,
    "start_time": "2022-02-08T10:54:12.978Z"
   },
   {
    "duration": 1113,
    "start_time": "2022-02-08T10:56:53.721Z"
   },
   {
    "duration": 110,
    "start_time": "2022-02-08T10:56:54.838Z"
   },
   {
    "duration": 21,
    "start_time": "2022-02-08T10:56:54.950Z"
   },
   {
    "duration": 10,
    "start_time": "2022-02-08T10:56:54.973Z"
   },
   {
    "duration": 8,
    "start_time": "2022-02-08T10:56:54.984Z"
   },
   {
    "duration": 29,
    "start_time": "2022-02-08T10:56:54.994Z"
   },
   {
    "duration": 32,
    "start_time": "2022-02-08T10:56:55.025Z"
   },
   {
    "duration": 9,
    "start_time": "2022-02-08T10:56:55.059Z"
   },
   {
    "duration": 16,
    "start_time": "2022-02-08T10:56:55.071Z"
   },
   {
    "duration": 44,
    "start_time": "2022-02-08T10:56:55.112Z"
   },
   {
    "duration": 132,
    "start_time": "2022-02-08T10:56:55.158Z"
   },
   {
    "duration": 6,
    "start_time": "2022-02-08T10:56:55.291Z"
   },
   {
    "duration": 14,
    "start_time": "2022-02-08T10:56:55.298Z"
   },
   {
    "duration": 7,
    "start_time": "2022-02-08T10:56:55.314Z"
   },
   {
    "duration": 14,
    "start_time": "2022-02-08T10:56:55.323Z"
   },
   {
    "duration": 4,
    "start_time": "2022-02-08T10:56:55.339Z"
   },
   {
    "duration": 24,
    "start_time": "2022-02-08T10:56:55.345Z"
   },
   {
    "duration": 4,
    "start_time": "2022-02-08T10:56:55.371Z"
   },
   {
    "duration": 46,
    "start_time": "2022-02-08T10:56:55.377Z"
   },
   {
    "duration": 4,
    "start_time": "2022-02-08T10:56:55.425Z"
   },
   {
    "duration": 54,
    "start_time": "2022-02-08T10:56:55.431Z"
   },
   {
    "duration": 32,
    "start_time": "2022-02-08T10:56:55.487Z"
   },
   {
    "duration": 9,
    "start_time": "2022-02-08T10:56:55.520Z"
   },
   {
    "duration": 39,
    "start_time": "2022-02-08T10:56:55.531Z"
   },
   {
    "duration": 3,
    "start_time": "2022-02-08T10:56:55.571Z"
   },
   {
    "duration": 11,
    "start_time": "2022-02-08T10:56:55.576Z"
   },
   {
    "duration": 525,
    "start_time": "2022-02-08T10:56:55.591Z"
   },
   {
    "duration": 507,
    "start_time": "2022-02-08T10:56:56.117Z"
   },
   {
    "duration": 3,
    "start_time": "2022-02-08T10:56:56.625Z"
   },
   {
    "duration": 335,
    "start_time": "2022-02-08T10:56:56.630Z"
   },
   {
    "duration": 279,
    "start_time": "2022-02-08T10:56:56.966Z"
   },
   {
    "duration": 388,
    "start_time": "2022-02-08T10:56:57.246Z"
   },
   {
    "duration": 351,
    "start_time": "2022-02-08T10:56:57.636Z"
   },
   {
    "duration": 397,
    "start_time": "2022-02-08T10:56:57.989Z"
   },
   {
    "duration": 6,
    "start_time": "2022-02-08T10:56:58.387Z"
   },
   {
    "duration": 25,
    "start_time": "2022-02-08T10:56:58.395Z"
   },
   {
    "duration": 5,
    "start_time": "2022-02-08T10:56:58.422Z"
   },
   {
    "duration": 5,
    "start_time": "2022-02-08T10:56:58.429Z"
   },
   {
    "duration": 322,
    "start_time": "2022-02-08T10:56:58.436Z"
   },
   {
    "duration": 1275,
    "start_time": "2022-02-08T10:56:57.485Z"
   },
   {
    "duration": 1274,
    "start_time": "2022-02-08T10:56:57.487Z"
   },
   {
    "duration": 1274,
    "start_time": "2022-02-08T10:56:57.488Z"
   },
   {
    "duration": 1273,
    "start_time": "2022-02-08T10:56:57.490Z"
   },
   {
    "duration": 1272,
    "start_time": "2022-02-08T10:56:57.491Z"
   },
   {
    "duration": 1271,
    "start_time": "2022-02-08T10:56:57.493Z"
   },
   {
    "duration": 1271,
    "start_time": "2022-02-08T10:56:57.494Z"
   },
   {
    "duration": 1271,
    "start_time": "2022-02-08T10:56:57.495Z"
   },
   {
    "duration": 1269,
    "start_time": "2022-02-08T10:56:57.497Z"
   },
   {
    "duration": 1269,
    "start_time": "2022-02-08T10:56:57.498Z"
   },
   {
    "duration": 1268,
    "start_time": "2022-02-08T10:56:57.500Z"
   },
   {
    "duration": 1269,
    "start_time": "2022-02-08T10:56:57.501Z"
   },
   {
    "duration": 215,
    "start_time": "2022-02-08T10:57:06.795Z"
   },
   {
    "duration": 16,
    "start_time": "2022-02-08T10:57:10.524Z"
   },
   {
    "duration": 23,
    "start_time": "2022-02-08T11:00:14.651Z"
   },
   {
    "duration": 1164,
    "start_time": "2022-02-08T11:03:02.985Z"
   },
   {
    "duration": 110,
    "start_time": "2022-02-08T11:03:04.151Z"
   },
   {
    "duration": 22,
    "start_time": "2022-02-08T11:03:04.263Z"
   },
   {
    "duration": 9,
    "start_time": "2022-02-08T11:03:04.287Z"
   },
   {
    "duration": 18,
    "start_time": "2022-02-08T11:03:04.298Z"
   },
   {
    "duration": 20,
    "start_time": "2022-02-08T11:03:04.317Z"
   },
   {
    "duration": 34,
    "start_time": "2022-02-08T11:03:04.338Z"
   },
   {
    "duration": 10,
    "start_time": "2022-02-08T11:03:04.373Z"
   },
   {
    "duration": 37,
    "start_time": "2022-02-08T11:03:04.385Z"
   },
   {
    "duration": 45,
    "start_time": "2022-02-08T11:03:04.424Z"
   },
   {
    "duration": 141,
    "start_time": "2022-02-08T11:03:04.471Z"
   },
   {
    "duration": 5,
    "start_time": "2022-02-08T11:03:04.613Z"
   },
   {
    "duration": 5,
    "start_time": "2022-02-08T11:03:04.620Z"
   },
   {
    "duration": 5,
    "start_time": "2022-02-08T11:03:04.627Z"
   },
   {
    "duration": 17,
    "start_time": "2022-02-08T11:03:04.633Z"
   },
   {
    "duration": 4,
    "start_time": "2022-02-08T11:03:04.652Z"
   },
   {
    "duration": 23,
    "start_time": "2022-02-08T11:03:04.657Z"
   },
   {
    "duration": 30,
    "start_time": "2022-02-08T11:03:04.682Z"
   },
   {
    "duration": 16,
    "start_time": "2022-02-08T11:03:04.714Z"
   },
   {
    "duration": 4,
    "start_time": "2022-02-08T11:03:04.732Z"
   },
   {
    "duration": 48,
    "start_time": "2022-02-08T11:03:04.738Z"
   },
   {
    "duration": 37,
    "start_time": "2022-02-08T11:03:04.788Z"
   },
   {
    "duration": 10,
    "start_time": "2022-02-08T11:03:04.827Z"
   },
   {
    "duration": 41,
    "start_time": "2022-02-08T11:03:04.839Z"
   },
   {
    "duration": 3,
    "start_time": "2022-02-08T11:03:04.881Z"
   },
   {
    "duration": 29,
    "start_time": "2022-02-08T11:03:04.886Z"
   },
   {
    "duration": 518,
    "start_time": "2022-02-08T11:03:04.919Z"
   },
   {
    "duration": 505,
    "start_time": "2022-02-08T11:03:05.439Z"
   },
   {
    "duration": 3,
    "start_time": "2022-02-08T11:03:05.946Z"
   },
   {
    "duration": 322,
    "start_time": "2022-02-08T11:03:05.951Z"
   },
   {
    "duration": 270,
    "start_time": "2022-02-08T11:03:06.275Z"
   },
   {
    "duration": 316,
    "start_time": "2022-02-08T11:03:06.546Z"
   },
   {
    "duration": 1234,
    "start_time": "2022-02-08T11:03:05.630Z"
   },
   {
    "duration": 1234,
    "start_time": "2022-02-08T11:03:05.631Z"
   },
   {
    "duration": 1232,
    "start_time": "2022-02-08T11:03:05.633Z"
   },
   {
    "duration": 1232,
    "start_time": "2022-02-08T11:03:05.634Z"
   },
   {
    "duration": 1231,
    "start_time": "2022-02-08T11:03:05.636Z"
   },
   {
    "duration": 1231,
    "start_time": "2022-02-08T11:03:05.638Z"
   },
   {
    "duration": 1230,
    "start_time": "2022-02-08T11:03:05.639Z"
   },
   {
    "duration": 1230,
    "start_time": "2022-02-08T11:03:05.640Z"
   },
   {
    "duration": 1229,
    "start_time": "2022-02-08T11:03:05.642Z"
   },
   {
    "duration": 1217,
    "start_time": "2022-02-08T11:03:05.655Z"
   },
   {
    "duration": 1217,
    "start_time": "2022-02-08T11:03:05.656Z"
   },
   {
    "duration": 1215,
    "start_time": "2022-02-08T11:03:05.658Z"
   },
   {
    "duration": 1215,
    "start_time": "2022-02-08T11:03:05.659Z"
   },
   {
    "duration": 1215,
    "start_time": "2022-02-08T11:03:05.660Z"
   },
   {
    "duration": 1214,
    "start_time": "2022-02-08T11:03:05.662Z"
   },
   {
    "duration": 1214,
    "start_time": "2022-02-08T11:03:05.663Z"
   },
   {
    "duration": 1214,
    "start_time": "2022-02-08T11:03:05.664Z"
   },
   {
    "duration": 1213,
    "start_time": "2022-02-08T11:03:05.666Z"
   },
   {
    "duration": 474,
    "start_time": "2022-02-08T11:05:15.118Z"
   },
   {
    "duration": 410,
    "start_time": "2022-02-08T11:05:40.702Z"
   },
   {
    "duration": 7,
    "start_time": "2022-02-08T11:08:34.734Z"
   },
   {
    "duration": 404,
    "start_time": "2022-02-08T11:08:43.898Z"
   },
   {
    "duration": 1045,
    "start_time": "2022-02-08T11:30:33.476Z"
   },
   {
    "duration": 105,
    "start_time": "2022-02-08T11:30:34.523Z"
   },
   {
    "duration": 21,
    "start_time": "2022-02-08T11:30:34.630Z"
   },
   {
    "duration": 10,
    "start_time": "2022-02-08T11:30:34.652Z"
   },
   {
    "duration": 9,
    "start_time": "2022-02-08T11:30:34.663Z"
   },
   {
    "duration": 21,
    "start_time": "2022-02-08T11:30:34.673Z"
   },
   {
    "duration": 33,
    "start_time": "2022-02-08T11:30:34.712Z"
   },
   {
    "duration": 9,
    "start_time": "2022-02-08T11:30:34.747Z"
   },
   {
    "duration": 17,
    "start_time": "2022-02-08T11:30:34.758Z"
   },
   {
    "duration": 66,
    "start_time": "2022-02-08T11:30:34.777Z"
   },
   {
    "duration": 135,
    "start_time": "2022-02-08T11:30:34.845Z"
   },
   {
    "duration": 4,
    "start_time": "2022-02-08T11:30:34.982Z"
   },
   {
    "duration": 5,
    "start_time": "2022-02-08T11:30:34.987Z"
   },
   {
    "duration": 21,
    "start_time": "2022-02-08T11:30:34.994Z"
   },
   {
    "duration": 16,
    "start_time": "2022-02-08T11:30:35.016Z"
   },
   {
    "duration": 4,
    "start_time": "2022-02-08T11:30:35.034Z"
   },
   {
    "duration": 23,
    "start_time": "2022-02-08T11:30:35.040Z"
   },
   {
    "duration": 5,
    "start_time": "2022-02-08T11:30:35.064Z"
   },
   {
    "duration": 51,
    "start_time": "2022-02-08T11:30:35.070Z"
   },
   {
    "duration": 5,
    "start_time": "2022-02-08T11:30:35.123Z"
   },
   {
    "duration": 52,
    "start_time": "2022-02-08T11:30:35.130Z"
   },
   {
    "duration": 34,
    "start_time": "2022-02-08T11:30:35.184Z"
   },
   {
    "duration": 9,
    "start_time": "2022-02-08T11:30:35.221Z"
   },
   {
    "duration": 39,
    "start_time": "2022-02-08T11:30:35.232Z"
   },
   {
    "duration": 3,
    "start_time": "2022-02-08T11:30:35.273Z"
   },
   {
    "duration": 9,
    "start_time": "2022-02-08T11:30:35.278Z"
   },
   {
    "duration": 530,
    "start_time": "2022-02-08T11:30:35.288Z"
   },
   {
    "duration": 494,
    "start_time": "2022-02-08T11:30:35.819Z"
   },
   {
    "duration": 3,
    "start_time": "2022-02-08T11:30:36.315Z"
   },
   {
    "duration": 317,
    "start_time": "2022-02-08T11:30:36.320Z"
   },
   {
    "duration": 292,
    "start_time": "2022-02-08T11:30:36.639Z"
   },
   {
    "duration": 480,
    "start_time": "2022-02-08T11:30:36.933Z"
   },
   {
    "duration": 6,
    "start_time": "2022-02-08T11:30:37.415Z"
   },
   {
    "duration": 427,
    "start_time": "2022-02-08T11:30:37.423Z"
   },
   {
    "duration": 6,
    "start_time": "2022-02-08T11:30:37.852Z"
   },
   {
    "duration": 417,
    "start_time": "2022-02-08T11:30:37.859Z"
   },
   {
    "duration": 6,
    "start_time": "2022-02-08T11:30:38.277Z"
   },
   {
    "duration": 6,
    "start_time": "2022-02-08T11:30:38.284Z"
   },
   {
    "duration": 31,
    "start_time": "2022-02-08T11:30:38.292Z"
   },
   {
    "duration": 317,
    "start_time": "2022-02-08T11:30:38.324Z"
   },
   {
    "duration": 1275,
    "start_time": "2022-02-08T11:30:37.368Z"
   },
   {
    "duration": 1275,
    "start_time": "2022-02-08T11:30:37.369Z"
   },
   {
    "duration": 1274,
    "start_time": "2022-02-08T11:30:37.371Z"
   },
   {
    "duration": 1272,
    "start_time": "2022-02-08T11:30:37.374Z"
   },
   {
    "duration": 1271,
    "start_time": "2022-02-08T11:30:37.376Z"
   },
   {
    "duration": 1271,
    "start_time": "2022-02-08T11:30:37.377Z"
   },
   {
    "duration": 1270,
    "start_time": "2022-02-08T11:30:37.379Z"
   },
   {
    "duration": 1248,
    "start_time": "2022-02-08T11:30:37.401Z"
   },
   {
    "duration": 1247,
    "start_time": "2022-02-08T11:30:37.403Z"
   },
   {
    "duration": 1247,
    "start_time": "2022-02-08T11:30:37.404Z"
   },
   {
    "duration": 1246,
    "start_time": "2022-02-08T11:30:37.406Z"
   },
   {
    "duration": 1246,
    "start_time": "2022-02-08T11:30:37.407Z"
   },
   {
    "duration": 1095,
    "start_time": "2022-02-08T11:32:31.843Z"
   },
   {
    "duration": 113,
    "start_time": "2022-02-08T11:32:32.940Z"
   },
   {
    "duration": 22,
    "start_time": "2022-02-08T11:32:33.054Z"
   },
   {
    "duration": 10,
    "start_time": "2022-02-08T11:32:33.078Z"
   },
   {
    "duration": 25,
    "start_time": "2022-02-08T11:32:33.090Z"
   },
   {
    "duration": 22,
    "start_time": "2022-02-08T11:32:33.116Z"
   },
   {
    "duration": 34,
    "start_time": "2022-02-08T11:32:33.140Z"
   },
   {
    "duration": 9,
    "start_time": "2022-02-08T11:32:33.176Z"
   },
   {
    "duration": 37,
    "start_time": "2022-02-08T11:32:33.187Z"
   },
   {
    "duration": 48,
    "start_time": "2022-02-08T11:32:33.225Z"
   },
   {
    "duration": 150,
    "start_time": "2022-02-08T11:32:33.275Z"
   },
   {
    "duration": 5,
    "start_time": "2022-02-08T11:32:33.426Z"
   },
   {
    "duration": 4,
    "start_time": "2022-02-08T11:32:33.433Z"
   },
   {
    "duration": 5,
    "start_time": "2022-02-08T11:32:33.439Z"
   },
   {
    "duration": 20,
    "start_time": "2022-02-08T11:32:33.446Z"
   },
   {
    "duration": 4,
    "start_time": "2022-02-08T11:32:33.468Z"
   },
   {
    "duration": 61,
    "start_time": "2022-02-08T11:32:33.473Z"
   },
   {
    "duration": 3,
    "start_time": "2022-02-08T11:32:33.536Z"
   },
   {
    "duration": 27,
    "start_time": "2022-02-08T11:32:33.540Z"
   },
   {
    "duration": 5,
    "start_time": "2022-02-08T11:32:33.569Z"
   },
   {
    "duration": 69,
    "start_time": "2022-02-08T11:32:33.575Z"
   },
   {
    "duration": 15,
    "start_time": "2022-02-08T11:32:33.646Z"
   },
   {
    "duration": 10,
    "start_time": "2022-02-08T11:32:33.665Z"
   },
   {
    "duration": 67,
    "start_time": "2022-02-08T11:32:33.676Z"
   },
   {
    "duration": 3,
    "start_time": "2022-02-08T11:32:33.746Z"
   },
   {
    "duration": 6,
    "start_time": "2022-02-08T11:32:33.750Z"
   },
   {
    "duration": 586,
    "start_time": "2022-02-08T11:32:33.758Z"
   },
   {
    "duration": 531,
    "start_time": "2022-02-08T11:32:34.346Z"
   },
   {
    "duration": 4,
    "start_time": "2022-02-08T11:32:34.879Z"
   },
   {
    "duration": 344,
    "start_time": "2022-02-08T11:32:34.884Z"
   },
   {
    "duration": 295,
    "start_time": "2022-02-08T11:32:35.230Z"
   },
   {
    "duration": 491,
    "start_time": "2022-02-08T11:32:35.527Z"
   },
   {
    "duration": 7,
    "start_time": "2022-02-08T11:32:36.020Z"
   },
   {
    "duration": 529,
    "start_time": "2022-02-08T11:32:36.029Z"
   },
   {
    "duration": 7,
    "start_time": "2022-02-08T11:32:36.560Z"
   },
   {
    "duration": 436,
    "start_time": "2022-02-08T11:32:36.569Z"
   },
   {
    "duration": 7,
    "start_time": "2022-02-08T11:32:37.011Z"
   },
   {
    "duration": 5,
    "start_time": "2022-02-08T11:32:37.020Z"
   },
   {
    "duration": 16,
    "start_time": "2022-02-08T11:32:37.027Z"
   },
   {
    "duration": 318,
    "start_time": "2022-02-08T11:32:37.045Z"
   },
   {
    "duration": 1254,
    "start_time": "2022-02-08T11:32:36.111Z"
   },
   {
    "duration": 1253,
    "start_time": "2022-02-08T11:32:36.113Z"
   },
   {
    "duration": 1252,
    "start_time": "2022-02-08T11:32:36.115Z"
   },
   {
    "duration": 1251,
    "start_time": "2022-02-08T11:32:36.117Z"
   },
   {
    "duration": 1250,
    "start_time": "2022-02-08T11:32:36.119Z"
   },
   {
    "duration": 1214,
    "start_time": "2022-02-08T11:32:36.156Z"
   },
   {
    "duration": 1213,
    "start_time": "2022-02-08T11:32:36.158Z"
   },
   {
    "duration": 1212,
    "start_time": "2022-02-08T11:32:36.160Z"
   },
   {
    "duration": 1211,
    "start_time": "2022-02-08T11:32:36.162Z"
   },
   {
    "duration": 1211,
    "start_time": "2022-02-08T11:32:36.163Z"
   },
   {
    "duration": 1209,
    "start_time": "2022-02-08T11:32:36.165Z"
   },
   {
    "duration": 1208,
    "start_time": "2022-02-08T11:32:36.167Z"
   },
   {
    "duration": 1158,
    "start_time": "2022-02-08T11:34:46.300Z"
   },
   {
    "duration": 113,
    "start_time": "2022-02-08T11:34:47.460Z"
   },
   {
    "duration": 22,
    "start_time": "2022-02-08T11:34:47.575Z"
   },
   {
    "duration": 14,
    "start_time": "2022-02-08T11:34:47.599Z"
   },
   {
    "duration": 8,
    "start_time": "2022-02-08T11:34:47.615Z"
   },
   {
    "duration": 22,
    "start_time": "2022-02-08T11:34:47.625Z"
   },
   {
    "duration": 36,
    "start_time": "2022-02-08T11:34:47.649Z"
   },
   {
    "duration": 34,
    "start_time": "2022-02-08T11:34:47.687Z"
   },
   {
    "duration": 18,
    "start_time": "2022-02-08T11:34:47.724Z"
   },
   {
    "duration": 47,
    "start_time": "2022-02-08T11:34:47.745Z"
   },
   {
    "duration": 153,
    "start_time": "2022-02-08T11:34:47.794Z"
   },
   {
    "duration": 6,
    "start_time": "2022-02-08T11:34:47.949Z"
   },
   {
    "duration": 15,
    "start_time": "2022-02-08T11:34:47.956Z"
   },
   {
    "duration": 16,
    "start_time": "2022-02-08T11:34:47.973Z"
   },
   {
    "duration": 29,
    "start_time": "2022-02-08T11:34:47.991Z"
   },
   {
    "duration": 5,
    "start_time": "2022-02-08T11:34:48.023Z"
   },
   {
    "duration": 23,
    "start_time": "2022-02-08T11:34:48.029Z"
   },
   {
    "duration": 3,
    "start_time": "2022-02-08T11:34:48.054Z"
   },
   {
    "duration": 19,
    "start_time": "2022-02-08T11:34:48.059Z"
   },
   {
    "duration": 34,
    "start_time": "2022-02-08T11:34:48.080Z"
   },
   {
    "duration": 51,
    "start_time": "2022-02-08T11:34:48.115Z"
   },
   {
    "duration": 44,
    "start_time": "2022-02-08T11:34:48.168Z"
   },
   {
    "duration": 10,
    "start_time": "2022-02-08T11:34:48.214Z"
   },
   {
    "duration": 42,
    "start_time": "2022-02-08T11:34:48.226Z"
   },
   {
    "duration": 3,
    "start_time": "2022-02-08T11:34:48.270Z"
   },
   {
    "duration": 6,
    "start_time": "2022-02-08T11:34:48.274Z"
   },
   {
    "duration": 577,
    "start_time": "2022-02-08T11:34:48.283Z"
   },
   {
    "duration": 508,
    "start_time": "2022-02-08T11:34:48.862Z"
   },
   {
    "duration": 3,
    "start_time": "2022-02-08T11:34:49.371Z"
   },
   {
    "duration": 331,
    "start_time": "2022-02-08T11:34:49.376Z"
   },
   {
    "duration": 278,
    "start_time": "2022-02-08T11:34:49.711Z"
   },
   {
    "duration": 481,
    "start_time": "2022-02-08T11:34:49.991Z"
   },
   {
    "duration": 7,
    "start_time": "2022-02-08T11:34:50.473Z"
   },
   {
    "duration": 537,
    "start_time": "2022-02-08T11:34:50.481Z"
   },
   {
    "duration": 545,
    "start_time": "2022-02-08T11:34:51.020Z"
   },
   {
    "duration": 6,
    "start_time": "2022-02-08T11:34:51.567Z"
   },
   {
    "duration": 430,
    "start_time": "2022-02-08T11:34:51.575Z"
   },
   {
    "duration": 10,
    "start_time": "2022-02-08T11:34:52.007Z"
   },
   {
    "duration": 6,
    "start_time": "2022-02-08T11:34:52.018Z"
   },
   {
    "duration": 15,
    "start_time": "2022-02-08T11:34:52.026Z"
   },
   {
    "duration": 318,
    "start_time": "2022-02-08T11:34:52.043Z"
   },
   {
    "duration": 1249,
    "start_time": "2022-02-08T11:34:51.114Z"
   },
   {
    "duration": 1248,
    "start_time": "2022-02-08T11:34:51.116Z"
   },
   {
    "duration": 1248,
    "start_time": "2022-02-08T11:34:51.117Z"
   },
   {
    "duration": 1247,
    "start_time": "2022-02-08T11:34:51.119Z"
   },
   {
    "duration": 1247,
    "start_time": "2022-02-08T11:34:51.120Z"
   },
   {
    "duration": 1246,
    "start_time": "2022-02-08T11:34:51.122Z"
   },
   {
    "duration": 1245,
    "start_time": "2022-02-08T11:34:51.123Z"
   },
   {
    "duration": 1219,
    "start_time": "2022-02-08T11:34:51.150Z"
   },
   {
    "duration": 1218,
    "start_time": "2022-02-08T11:34:51.152Z"
   },
   {
    "duration": 1217,
    "start_time": "2022-02-08T11:34:51.154Z"
   },
   {
    "duration": 1217,
    "start_time": "2022-02-08T11:34:51.155Z"
   },
   {
    "duration": 1216,
    "start_time": "2022-02-08T11:34:51.157Z"
   },
   {
    "duration": 1140,
    "start_time": "2022-02-08T11:38:00.399Z"
   },
   {
    "duration": 108,
    "start_time": "2022-02-08T11:38:01.541Z"
   },
   {
    "duration": 20,
    "start_time": "2022-02-08T11:38:01.651Z"
   },
   {
    "duration": 17,
    "start_time": "2022-02-08T11:38:01.673Z"
   },
   {
    "duration": 12,
    "start_time": "2022-02-08T11:38:01.692Z"
   },
   {
    "duration": 25,
    "start_time": "2022-02-08T11:38:01.706Z"
   },
   {
    "duration": 34,
    "start_time": "2022-02-08T11:38:01.733Z"
   },
   {
    "duration": 9,
    "start_time": "2022-02-08T11:38:01.769Z"
   },
   {
    "duration": 39,
    "start_time": "2022-02-08T11:38:01.780Z"
   },
   {
    "duration": 48,
    "start_time": "2022-02-08T11:38:01.821Z"
   },
   {
    "duration": 148,
    "start_time": "2022-02-08T11:38:01.871Z"
   },
   {
    "duration": 5,
    "start_time": "2022-02-08T11:38:02.020Z"
   },
   {
    "duration": 9,
    "start_time": "2022-02-08T11:38:02.027Z"
   },
   {
    "duration": 10,
    "start_time": "2022-02-08T11:38:02.037Z"
   },
   {
    "duration": 17,
    "start_time": "2022-02-08T11:38:02.049Z"
   },
   {
    "duration": 5,
    "start_time": "2022-02-08T11:38:02.068Z"
   },
   {
    "duration": 46,
    "start_time": "2022-02-08T11:38:02.074Z"
   },
   {
    "duration": 4,
    "start_time": "2022-02-08T11:38:02.121Z"
   },
   {
    "duration": 25,
    "start_time": "2022-02-08T11:38:02.126Z"
   },
   {
    "duration": 4,
    "start_time": "2022-02-08T11:38:02.153Z"
   },
   {
    "duration": 60,
    "start_time": "2022-02-08T11:38:02.158Z"
   },
   {
    "duration": 17,
    "start_time": "2022-02-08T11:38:02.220Z"
   },
   {
    "duration": 13,
    "start_time": "2022-02-08T11:38:02.240Z"
   },
   {
    "duration": 63,
    "start_time": "2022-02-08T11:38:02.255Z"
   },
   {
    "duration": 5,
    "start_time": "2022-02-08T11:38:02.320Z"
   },
   {
    "duration": 6,
    "start_time": "2022-02-08T11:38:02.327Z"
   },
   {
    "duration": 567,
    "start_time": "2022-02-08T11:38:02.334Z"
   },
   {
    "duration": 524,
    "start_time": "2022-02-08T11:38:02.903Z"
   },
   {
    "duration": 3,
    "start_time": "2022-02-08T11:38:03.429Z"
   },
   {
    "duration": 334,
    "start_time": "2022-02-08T11:38:03.433Z"
   },
   {
    "duration": 284,
    "start_time": "2022-02-08T11:38:03.769Z"
   },
   {
    "duration": 496,
    "start_time": "2022-02-08T11:38:04.055Z"
   },
   {
    "duration": 329,
    "start_time": "2022-02-08T11:38:04.552Z"
   },
   {
    "duration": 1283,
    "start_time": "2022-02-08T11:38:03.599Z"
   },
   {
    "duration": 1283,
    "start_time": "2022-02-08T11:38:03.600Z"
   },
   {
    "duration": 1269,
    "start_time": "2022-02-08T11:38:03.615Z"
   },
   {
    "duration": 1268,
    "start_time": "2022-02-08T11:38:03.618Z"
   },
   {
    "duration": 1266,
    "start_time": "2022-02-08T11:38:03.620Z"
   },
   {
    "duration": 1265,
    "start_time": "2022-02-08T11:38:03.622Z"
   },
   {
    "duration": 1265,
    "start_time": "2022-02-08T11:38:03.623Z"
   },
   {
    "duration": 1264,
    "start_time": "2022-02-08T11:38:03.625Z"
   },
   {
    "duration": 1263,
    "start_time": "2022-02-08T11:38:03.627Z"
   },
   {
    "duration": 1263,
    "start_time": "2022-02-08T11:38:03.628Z"
   },
   {
    "duration": 1258,
    "start_time": "2022-02-08T11:38:03.635Z"
   },
   {
    "duration": 1256,
    "start_time": "2022-02-08T11:38:03.637Z"
   },
   {
    "duration": 1255,
    "start_time": "2022-02-08T11:38:03.639Z"
   },
   {
    "duration": 1255,
    "start_time": "2022-02-08T11:38:03.640Z"
   },
   {
    "duration": 1254,
    "start_time": "2022-02-08T11:38:03.642Z"
   },
   {
    "duration": 1250,
    "start_time": "2022-02-08T11:38:03.647Z"
   },
   {
    "duration": 1250,
    "start_time": "2022-02-08T11:38:03.649Z"
   },
   {
    "duration": 1250,
    "start_time": "2022-02-08T11:38:03.650Z"
   },
   {
    "duration": 1670,
    "start_time": "2022-02-08T11:38:17.639Z"
   },
   {
    "duration": 1790,
    "start_time": "2022-02-08T11:39:41.365Z"
   },
   {
    "duration": 1793,
    "start_time": "2022-02-08T11:39:52.721Z"
   },
   {
    "duration": 1296,
    "start_time": "2022-02-08T11:40:31.111Z"
   },
   {
    "duration": 1362,
    "start_time": "2022-02-08T11:42:16.086Z"
   },
   {
    "duration": 1312,
    "start_time": "2022-02-08T11:42:26.958Z"
   },
   {
    "duration": 31,
    "start_time": "2022-02-08T11:56:37.223Z"
   },
   {
    "duration": 35,
    "start_time": "2022-02-08T11:56:58.436Z"
   },
   {
    "duration": 1133,
    "start_time": "2022-02-08T11:57:06.297Z"
   },
   {
    "duration": 107,
    "start_time": "2022-02-08T11:57:07.432Z"
   },
   {
    "duration": 20,
    "start_time": "2022-02-08T11:57:07.540Z"
   },
   {
    "duration": 10,
    "start_time": "2022-02-08T11:57:07.562Z"
   },
   {
    "duration": 8,
    "start_time": "2022-02-08T11:57:07.573Z"
   },
   {
    "duration": 38,
    "start_time": "2022-02-08T11:57:07.582Z"
   },
   {
    "duration": 36,
    "start_time": "2022-02-08T11:57:07.622Z"
   },
   {
    "duration": 9,
    "start_time": "2022-02-08T11:57:07.660Z"
   },
   {
    "duration": 18,
    "start_time": "2022-02-08T11:57:07.671Z"
   },
   {
    "duration": 63,
    "start_time": "2022-02-08T11:57:07.691Z"
   },
   {
    "duration": 140,
    "start_time": "2022-02-08T11:57:07.755Z"
   },
   {
    "duration": 17,
    "start_time": "2022-02-08T11:57:07.896Z"
   },
   {
    "duration": 4,
    "start_time": "2022-02-08T11:57:07.915Z"
   },
   {
    "duration": 7,
    "start_time": "2022-02-08T11:57:07.920Z"
   },
   {
    "duration": 17,
    "start_time": "2022-02-08T11:57:07.929Z"
   },
   {
    "duration": 4,
    "start_time": "2022-02-08T11:57:07.948Z"
   },
   {
    "duration": 23,
    "start_time": "2022-02-08T11:57:07.953Z"
   },
   {
    "duration": 4,
    "start_time": "2022-02-08T11:57:07.978Z"
   },
   {
    "duration": 42,
    "start_time": "2022-02-08T11:57:07.983Z"
   },
   {
    "duration": 4,
    "start_time": "2022-02-08T11:57:08.026Z"
   },
   {
    "duration": 51,
    "start_time": "2022-02-08T11:57:08.032Z"
   },
   {
    "duration": 34,
    "start_time": "2022-02-08T11:57:08.084Z"
   },
   {
    "duration": 9,
    "start_time": "2022-02-08T11:57:08.122Z"
   },
   {
    "duration": 40,
    "start_time": "2022-02-08T11:57:08.133Z"
   },
   {
    "duration": 3,
    "start_time": "2022-02-08T11:57:08.175Z"
   },
   {
    "duration": 7,
    "start_time": "2022-02-08T11:57:08.180Z"
   },
   {
    "duration": 521,
    "start_time": "2022-02-08T11:57:08.211Z"
   },
   {
    "duration": 490,
    "start_time": "2022-02-08T11:57:08.734Z"
   },
   {
    "duration": 3,
    "start_time": "2022-02-08T11:57:09.226Z"
   },
   {
    "duration": 327,
    "start_time": "2022-02-08T11:57:09.230Z"
   },
   {
    "duration": 287,
    "start_time": "2022-02-08T11:57:09.559Z"
   },
   {
    "duration": 477,
    "start_time": "2022-02-08T11:57:09.848Z"
   },
   {
    "duration": 30,
    "start_time": "2022-02-08T11:57:10.326Z"
   },
   {
    "duration": 1355,
    "start_time": "2022-02-08T11:57:10.357Z"
   },
   {
    "duration": 6,
    "start_time": "2022-02-08T11:57:11.713Z"
   },
   {
    "duration": 6,
    "start_time": "2022-02-08T11:57:11.721Z"
   },
   {
    "duration": 16,
    "start_time": "2022-02-08T11:57:11.729Z"
   },
   {
    "duration": 333,
    "start_time": "2022-02-08T11:57:11.746Z"
   },
   {
    "duration": 1122,
    "start_time": "2022-02-08T11:57:10.959Z"
   },
   {
    "duration": 1122,
    "start_time": "2022-02-08T11:57:10.960Z"
   },
   {
    "duration": 1111,
    "start_time": "2022-02-08T11:57:10.972Z"
   },
   {
    "duration": 1111,
    "start_time": "2022-02-08T11:57:10.973Z"
   },
   {
    "duration": 1109,
    "start_time": "2022-02-08T11:57:10.976Z"
   },
   {
    "duration": 1109,
    "start_time": "2022-02-08T11:57:10.977Z"
   },
   {
    "duration": 1108,
    "start_time": "2022-02-08T11:57:10.979Z"
   },
   {
    "duration": 1101,
    "start_time": "2022-02-08T11:57:10.987Z"
   },
   {
    "duration": 1099,
    "start_time": "2022-02-08T11:57:10.989Z"
   },
   {
    "duration": 1098,
    "start_time": "2022-02-08T11:57:10.991Z"
   },
   {
    "duration": 1096,
    "start_time": "2022-02-08T11:57:10.994Z"
   },
   {
    "duration": 1095,
    "start_time": "2022-02-08T11:57:10.996Z"
   },
   {
    "duration": 1362,
    "start_time": "2022-02-08T11:58:48.776Z"
   },
   {
    "duration": 23,
    "start_time": "2022-02-08T11:59:06.220Z"
   },
   {
    "duration": 1311,
    "start_time": "2022-02-08T12:00:23.340Z"
   },
   {
    "duration": 1367,
    "start_time": "2022-02-08T12:01:30.425Z"
   },
   {
    "duration": 1257,
    "start_time": "2022-02-08T12:01:44.161Z"
   },
   {
    "duration": 1372,
    "start_time": "2022-02-08T12:01:55.525Z"
   },
   {
    "duration": 6,
    "start_time": "2022-02-08T12:05:58.044Z"
   },
   {
    "duration": 1229,
    "start_time": "2022-02-08T12:09:17.011Z"
   },
   {
    "duration": 116,
    "start_time": "2022-02-08T12:09:18.242Z"
   },
   {
    "duration": 21,
    "start_time": "2022-02-08T12:09:18.360Z"
   },
   {
    "duration": 11,
    "start_time": "2022-02-08T12:09:18.382Z"
   },
   {
    "duration": 27,
    "start_time": "2022-02-08T12:09:18.395Z"
   },
   {
    "duration": 25,
    "start_time": "2022-02-08T12:09:18.424Z"
   },
   {
    "duration": 46,
    "start_time": "2022-02-08T12:09:18.450Z"
   },
   {
    "duration": 14,
    "start_time": "2022-02-08T12:09:18.499Z"
   },
   {
    "duration": 28,
    "start_time": "2022-02-08T12:09:18.515Z"
   },
   {
    "duration": 51,
    "start_time": "2022-02-08T12:09:18.545Z"
   },
   {
    "duration": 149,
    "start_time": "2022-02-08T12:09:18.598Z"
   },
   {
    "duration": 7,
    "start_time": "2022-02-08T12:09:18.749Z"
   },
   {
    "duration": 16,
    "start_time": "2022-02-08T12:09:18.758Z"
   },
   {
    "duration": 21,
    "start_time": "2022-02-08T12:09:18.776Z"
   },
   {
    "duration": 26,
    "start_time": "2022-02-08T12:09:18.799Z"
   },
   {
    "duration": 7,
    "start_time": "2022-02-08T12:09:18.827Z"
   },
   {
    "duration": 40,
    "start_time": "2022-02-08T12:09:18.836Z"
   },
   {
    "duration": 10,
    "start_time": "2022-02-08T12:09:18.878Z"
   },
   {
    "duration": 27,
    "start_time": "2022-02-08T12:09:18.890Z"
   },
   {
    "duration": 11,
    "start_time": "2022-02-08T12:09:18.918Z"
   },
   {
    "duration": 70,
    "start_time": "2022-02-08T12:09:18.931Z"
   },
   {
    "duration": 17,
    "start_time": "2022-02-08T12:09:19.002Z"
   },
   {
    "duration": 27,
    "start_time": "2022-02-08T12:09:19.022Z"
   },
   {
    "duration": 42,
    "start_time": "2022-02-08T12:09:19.050Z"
   },
   {
    "duration": 3,
    "start_time": "2022-02-08T12:09:19.094Z"
   },
   {
    "duration": 13,
    "start_time": "2022-02-08T12:09:19.099Z"
   },
   {
    "duration": 554,
    "start_time": "2022-02-08T12:09:19.114Z"
   },
   {
    "duration": 515,
    "start_time": "2022-02-08T12:09:19.670Z"
   },
   {
    "duration": 3,
    "start_time": "2022-02-08T12:09:20.187Z"
   },
   {
    "duration": 331,
    "start_time": "2022-02-08T12:09:20.191Z"
   },
   {
    "duration": 291,
    "start_time": "2022-02-08T12:09:20.524Z"
   },
   {
    "duration": 496,
    "start_time": "2022-02-08T12:09:20.817Z"
   },
   {
    "duration": 32,
    "start_time": "2022-02-08T12:09:21.315Z"
   },
   {
    "duration": 1346,
    "start_time": "2022-02-08T12:09:21.349Z"
   },
   {
    "duration": 6,
    "start_time": "2022-02-08T12:09:22.697Z"
   },
   {
    "duration": 12,
    "start_time": "2022-02-08T12:09:22.712Z"
   },
   {
    "duration": 5,
    "start_time": "2022-02-08T12:09:22.726Z"
   },
   {
    "duration": 6,
    "start_time": "2022-02-08T12:09:22.732Z"
   },
   {
    "duration": 15,
    "start_time": "2022-02-08T12:09:22.740Z"
   },
   {
    "duration": 367,
    "start_time": "2022-02-08T12:09:22.757Z"
   },
   {
    "duration": 1246,
    "start_time": "2022-02-08T12:09:21.880Z"
   },
   {
    "duration": 1245,
    "start_time": "2022-02-08T12:09:21.882Z"
   },
   {
    "duration": 1245,
    "start_time": "2022-02-08T12:09:21.883Z"
   },
   {
    "duration": 1244,
    "start_time": "2022-02-08T12:09:21.885Z"
   },
   {
    "duration": 1244,
    "start_time": "2022-02-08T12:09:21.886Z"
   },
   {
    "duration": 1243,
    "start_time": "2022-02-08T12:09:21.888Z"
   },
   {
    "duration": 1223,
    "start_time": "2022-02-08T12:09:21.909Z"
   },
   {
    "duration": 1222,
    "start_time": "2022-02-08T12:09:21.911Z"
   },
   {
    "duration": 1223,
    "start_time": "2022-02-08T12:09:21.912Z"
   },
   {
    "duration": 1222,
    "start_time": "2022-02-08T12:09:21.914Z"
   },
   {
    "duration": 1222,
    "start_time": "2022-02-08T12:09:21.915Z"
   },
   {
    "duration": 1221,
    "start_time": "2022-02-08T12:09:21.917Z"
   },
   {
    "duration": 274,
    "start_time": "2022-02-08T12:11:58.393Z"
   },
   {
    "duration": 650,
    "start_time": "2022-02-08T12:12:22.951Z"
   },
   {
    "duration": 250,
    "start_time": "2022-02-08T12:12:41.840Z"
   },
   {
    "duration": 257,
    "start_time": "2022-02-08T12:12:59.882Z"
   },
   {
    "duration": 1112,
    "start_time": "2022-02-08T12:13:11.724Z"
   },
   {
    "duration": 109,
    "start_time": "2022-02-08T12:13:12.838Z"
   },
   {
    "duration": 23,
    "start_time": "2022-02-08T12:13:12.949Z"
   },
   {
    "duration": 10,
    "start_time": "2022-02-08T12:13:12.974Z"
   },
   {
    "duration": 8,
    "start_time": "2022-02-08T12:13:12.985Z"
   },
   {
    "duration": 33,
    "start_time": "2022-02-08T12:13:12.995Z"
   },
   {
    "duration": 37,
    "start_time": "2022-02-08T12:13:13.030Z"
   },
   {
    "duration": 9,
    "start_time": "2022-02-08T12:13:13.068Z"
   },
   {
    "duration": 37,
    "start_time": "2022-02-08T12:13:13.080Z"
   },
   {
    "duration": 48,
    "start_time": "2022-02-08T12:13:13.119Z"
   },
   {
    "duration": 144,
    "start_time": "2022-02-08T12:13:13.169Z"
   },
   {
    "duration": 5,
    "start_time": "2022-02-08T12:13:13.315Z"
   },
   {
    "duration": 4,
    "start_time": "2022-02-08T12:13:13.322Z"
   },
   {
    "duration": 4,
    "start_time": "2022-02-08T12:13:13.328Z"
   },
   {
    "duration": 14,
    "start_time": "2022-02-08T12:13:13.334Z"
   },
   {
    "duration": 5,
    "start_time": "2022-02-08T12:13:13.350Z"
   },
   {
    "duration": 61,
    "start_time": "2022-02-08T12:13:13.356Z"
   },
   {
    "duration": 4,
    "start_time": "2022-02-08T12:13:13.418Z"
   },
   {
    "duration": 17,
    "start_time": "2022-02-08T12:13:13.424Z"
   },
   {
    "duration": 5,
    "start_time": "2022-02-08T12:13:13.442Z"
   },
   {
    "duration": 71,
    "start_time": "2022-02-08T12:13:13.448Z"
   },
   {
    "duration": 19,
    "start_time": "2022-02-08T12:13:13.521Z"
   },
   {
    "duration": 9,
    "start_time": "2022-02-08T12:13:13.542Z"
   },
   {
    "duration": 66,
    "start_time": "2022-02-08T12:13:13.553Z"
   },
   {
    "duration": 3,
    "start_time": "2022-02-08T12:13:13.620Z"
   },
   {
    "duration": 6,
    "start_time": "2022-02-08T12:13:13.625Z"
   },
   {
    "duration": 564,
    "start_time": "2022-02-08T12:13:13.634Z"
   },
   {
    "duration": 534,
    "start_time": "2022-02-08T12:13:14.201Z"
   },
   {
    "duration": 3,
    "start_time": "2022-02-08T12:13:14.736Z"
   },
   {
    "duration": 330,
    "start_time": "2022-02-08T12:13:14.741Z"
   },
   {
    "duration": 283,
    "start_time": "2022-02-08T12:13:15.072Z"
   },
   {
    "duration": 594,
    "start_time": "2022-02-08T12:13:15.357Z"
   },
   {
    "duration": 31,
    "start_time": "2022-02-08T12:13:15.953Z"
   },
   {
    "duration": 1328,
    "start_time": "2022-02-08T12:13:15.986Z"
   },
   {
    "duration": 5,
    "start_time": "2022-02-08T12:13:17.316Z"
   },
   {
    "duration": 11,
    "start_time": "2022-02-08T12:13:17.323Z"
   },
   {
    "duration": 5,
    "start_time": "2022-02-08T12:13:17.336Z"
   },
   {
    "duration": 6,
    "start_time": "2022-02-08T12:13:17.343Z"
   },
   {
    "duration": 15,
    "start_time": "2022-02-08T12:13:17.351Z"
   },
   {
    "duration": 433,
    "start_time": "2022-02-08T12:13:17.368Z"
   },
   {
    "duration": 1239,
    "start_time": "2022-02-08T12:13:16.564Z"
   },
   {
    "duration": 1239,
    "start_time": "2022-02-08T12:13:16.566Z"
   },
   {
    "duration": 1239,
    "start_time": "2022-02-08T12:13:16.567Z"
   },
   {
    "duration": 1238,
    "start_time": "2022-02-08T12:13:16.569Z"
   },
   {
    "duration": 1238,
    "start_time": "2022-02-08T12:13:16.570Z"
   },
   {
    "duration": 1232,
    "start_time": "2022-02-08T12:13:16.577Z"
   },
   {
    "duration": 1231,
    "start_time": "2022-02-08T12:13:16.579Z"
   },
   {
    "duration": 1220,
    "start_time": "2022-02-08T12:13:16.591Z"
   },
   {
    "duration": 1219,
    "start_time": "2022-02-08T12:13:16.593Z"
   },
   {
    "duration": 1219,
    "start_time": "2022-02-08T12:13:16.595Z"
   },
   {
    "duration": 1219,
    "start_time": "2022-02-08T12:13:16.596Z"
   },
   {
    "duration": 1218,
    "start_time": "2022-02-08T12:13:16.598Z"
   },
   {
    "duration": 284,
    "start_time": "2022-02-08T12:13:36.879Z"
   },
   {
    "duration": 2303,
    "start_time": "2022-02-08T12:15:34.475Z"
   },
   {
    "duration": 1139,
    "start_time": "2022-02-08T12:16:05.327Z"
   },
   {
    "duration": 113,
    "start_time": "2022-02-08T12:16:06.468Z"
   },
   {
    "duration": 22,
    "start_time": "2022-02-08T12:16:06.583Z"
   },
   {
    "duration": 13,
    "start_time": "2022-02-08T12:16:06.607Z"
   },
   {
    "duration": 10,
    "start_time": "2022-02-08T12:16:06.622Z"
   },
   {
    "duration": 23,
    "start_time": "2022-02-08T12:16:06.633Z"
   },
   {
    "duration": 54,
    "start_time": "2022-02-08T12:16:06.658Z"
   },
   {
    "duration": 10,
    "start_time": "2022-02-08T12:16:06.715Z"
   },
   {
    "duration": 18,
    "start_time": "2022-02-08T12:16:06.727Z"
   },
   {
    "duration": 68,
    "start_time": "2022-02-08T12:16:06.747Z"
   },
   {
    "duration": 168,
    "start_time": "2022-02-08T12:16:06.817Z"
   },
   {
    "duration": 5,
    "start_time": "2022-02-08T12:16:06.987Z"
   },
   {
    "duration": 19,
    "start_time": "2022-02-08T12:16:06.994Z"
   },
   {
    "duration": 4,
    "start_time": "2022-02-08T12:16:07.014Z"
   },
   {
    "duration": 15,
    "start_time": "2022-02-08T12:16:07.020Z"
   },
   {
    "duration": 4,
    "start_time": "2022-02-08T12:16:07.037Z"
   },
   {
    "duration": 38,
    "start_time": "2022-02-08T12:16:07.043Z"
   },
   {
    "duration": 31,
    "start_time": "2022-02-08T12:16:07.083Z"
   },
   {
    "duration": 20,
    "start_time": "2022-02-08T12:16:07.116Z"
   },
   {
    "duration": 5,
    "start_time": "2022-02-08T12:16:07.138Z"
   },
   {
    "duration": 75,
    "start_time": "2022-02-08T12:16:07.144Z"
   },
   {
    "duration": 17,
    "start_time": "2022-02-08T12:16:07.220Z"
   },
   {
    "duration": 9,
    "start_time": "2022-02-08T12:16:07.241Z"
   },
   {
    "duration": 63,
    "start_time": "2022-02-08T12:16:07.252Z"
   },
   {
    "duration": 3,
    "start_time": "2022-02-08T12:16:07.317Z"
   },
   {
    "duration": 9,
    "start_time": "2022-02-08T12:16:07.321Z"
   },
   {
    "duration": 575,
    "start_time": "2022-02-08T12:16:07.332Z"
   },
   {
    "duration": 491,
    "start_time": "2022-02-08T12:16:07.909Z"
   },
   {
    "duration": 11,
    "start_time": "2022-02-08T12:16:08.401Z"
   },
   {
    "duration": 312,
    "start_time": "2022-02-08T12:16:08.413Z"
   },
   {
    "duration": 278,
    "start_time": "2022-02-08T12:16:08.727Z"
   },
   {
    "duration": 473,
    "start_time": "2022-02-08T12:16:09.007Z"
   },
   {
    "duration": 38,
    "start_time": "2022-02-08T12:16:09.481Z"
   },
   {
    "duration": 2155,
    "start_time": "2022-02-08T12:16:09.521Z"
   },
   {
    "duration": 7,
    "start_time": "2022-02-08T12:16:11.678Z"
   },
   {
    "duration": 25,
    "start_time": "2022-02-08T12:16:11.687Z"
   },
   {
    "duration": 7,
    "start_time": "2022-02-08T12:16:11.714Z"
   },
   {
    "duration": 7,
    "start_time": "2022-02-08T12:16:11.723Z"
   },
   {
    "duration": 16,
    "start_time": "2022-02-08T12:16:11.732Z"
   },
   {
    "duration": 309,
    "start_time": "2022-02-08T12:16:11.750Z"
   },
   {
    "duration": 1265,
    "start_time": "2022-02-08T12:16:10.796Z"
   },
   {
    "duration": 1259,
    "start_time": "2022-02-08T12:16:10.804Z"
   },
   {
    "duration": 1257,
    "start_time": "2022-02-08T12:16:10.807Z"
   },
   {
    "duration": 1257,
    "start_time": "2022-02-08T12:16:10.808Z"
   },
   {
    "duration": 1256,
    "start_time": "2022-02-08T12:16:10.810Z"
   },
   {
    "duration": 1256,
    "start_time": "2022-02-08T12:16:10.811Z"
   },
   {
    "duration": 1255,
    "start_time": "2022-02-08T12:16:10.813Z"
   },
   {
    "duration": 1255,
    "start_time": "2022-02-08T12:16:10.814Z"
   },
   {
    "duration": 1261,
    "start_time": "2022-02-08T12:16:10.882Z"
   },
   {
    "duration": 1261,
    "start_time": "2022-02-08T12:16:10.884Z"
   },
   {
    "duration": 1258,
    "start_time": "2022-02-08T12:16:10.888Z"
   },
   {
    "duration": 1257,
    "start_time": "2022-02-08T12:16:10.890Z"
   },
   {
    "duration": 1104,
    "start_time": "2022-02-08T12:17:23.845Z"
   },
   {
    "duration": 114,
    "start_time": "2022-02-08T12:17:24.952Z"
   },
   {
    "duration": 23,
    "start_time": "2022-02-08T12:17:25.068Z"
   },
   {
    "duration": 10,
    "start_time": "2022-02-08T12:17:25.093Z"
   },
   {
    "duration": 14,
    "start_time": "2022-02-08T12:17:25.104Z"
   },
   {
    "duration": 23,
    "start_time": "2022-02-08T12:17:25.119Z"
   },
   {
    "duration": 37,
    "start_time": "2022-02-08T12:17:25.144Z"
   },
   {
    "duration": 32,
    "start_time": "2022-02-08T12:17:25.183Z"
   },
   {
    "duration": 19,
    "start_time": "2022-02-08T12:17:25.217Z"
   },
   {
    "duration": 50,
    "start_time": "2022-02-08T12:17:25.237Z"
   },
   {
    "duration": 155,
    "start_time": "2022-02-08T12:17:25.289Z"
   },
   {
    "duration": 5,
    "start_time": "2022-02-08T12:17:25.446Z"
   },
   {
    "duration": 4,
    "start_time": "2022-02-08T12:17:25.452Z"
   },
   {
    "duration": 4,
    "start_time": "2022-02-08T12:17:25.458Z"
   },
   {
    "duration": 19,
    "start_time": "2022-02-08T12:17:25.463Z"
   },
   {
    "duration": 5,
    "start_time": "2022-02-08T12:17:25.484Z"
   },
   {
    "duration": 44,
    "start_time": "2022-02-08T12:17:25.490Z"
   },
   {
    "duration": 3,
    "start_time": "2022-02-08T12:17:25.536Z"
   },
   {
    "duration": 18,
    "start_time": "2022-02-08T12:17:25.541Z"
   },
   {
    "duration": 5,
    "start_time": "2022-02-08T12:17:25.562Z"
   },
   {
    "duration": 85,
    "start_time": "2022-02-08T12:17:25.569Z"
   },
   {
    "duration": 19,
    "start_time": "2022-02-08T12:17:25.656Z"
   },
   {
    "duration": 11,
    "start_time": "2022-02-08T12:17:25.679Z"
   },
   {
    "duration": 44,
    "start_time": "2022-02-08T12:17:25.714Z"
   },
   {
    "duration": 4,
    "start_time": "2022-02-08T12:17:25.761Z"
   },
   {
    "duration": 6,
    "start_time": "2022-02-08T12:17:25.767Z"
   },
   {
    "duration": 585,
    "start_time": "2022-02-08T12:17:25.774Z"
   },
   {
    "duration": 521,
    "start_time": "2022-02-08T12:17:26.361Z"
   },
   {
    "duration": 2,
    "start_time": "2022-02-08T12:17:26.884Z"
   },
   {
    "duration": 340,
    "start_time": "2022-02-08T12:17:26.888Z"
   },
   {
    "duration": 292,
    "start_time": "2022-02-08T12:17:27.230Z"
   },
   {
    "duration": 502,
    "start_time": "2022-02-08T12:17:27.524Z"
   },
   {
    "duration": 32,
    "start_time": "2022-02-08T12:17:28.027Z"
   },
   {
    "duration": 2257,
    "start_time": "2022-02-08T12:17:28.061Z"
   },
   {
    "duration": 7,
    "start_time": "2022-02-08T12:17:30.320Z"
   },
   {
    "duration": 35,
    "start_time": "2022-02-08T12:17:30.329Z"
   },
   {
    "duration": 23,
    "start_time": "2022-02-08T12:17:30.365Z"
   },
   {
    "duration": 20,
    "start_time": "2022-02-08T12:17:30.390Z"
   },
   {
    "duration": 33,
    "start_time": "2022-02-08T12:17:30.412Z"
   },
   {
    "duration": 373,
    "start_time": "2022-02-08T12:17:30.448Z"
   },
   {
    "duration": 1249,
    "start_time": "2022-02-08T12:17:29.575Z"
   },
   {
    "duration": 1248,
    "start_time": "2022-02-08T12:17:29.577Z"
   },
   {
    "duration": 1248,
    "start_time": "2022-02-08T12:17:29.578Z"
   },
   {
    "duration": 1248,
    "start_time": "2022-02-08T12:17:29.580Z"
   },
   {
    "duration": 1248,
    "start_time": "2022-02-08T12:17:29.581Z"
   },
   {
    "duration": 1248,
    "start_time": "2022-02-08T12:17:29.582Z"
   },
   {
    "duration": 1248,
    "start_time": "2022-02-08T12:17:29.584Z"
   },
   {
    "duration": 1248,
    "start_time": "2022-02-08T12:17:29.585Z"
   },
   {
    "duration": 1172,
    "start_time": "2022-02-08T12:17:29.663Z"
   },
   {
    "duration": 1268,
    "start_time": "2022-02-08T12:17:29.668Z"
   },
   {
    "duration": 1267,
    "start_time": "2022-02-08T12:17:29.670Z"
   },
   {
    "duration": 1266,
    "start_time": "2022-02-08T12:17:29.672Z"
   },
   {
    "duration": 2248,
    "start_time": "2022-02-08T12:22:04.121Z"
   },
   {
    "duration": 6,
    "start_time": "2022-02-08T12:23:30.550Z"
   },
   {
    "duration": 1080,
    "start_time": "2022-02-08T12:30:42.173Z"
   },
   {
    "duration": 115,
    "start_time": "2022-02-08T12:30:43.255Z"
   },
   {
    "duration": 20,
    "start_time": "2022-02-08T12:30:43.374Z"
   },
   {
    "duration": 10,
    "start_time": "2022-02-08T12:30:43.396Z"
   },
   {
    "duration": 12,
    "start_time": "2022-02-08T12:30:43.407Z"
   },
   {
    "duration": 24,
    "start_time": "2022-02-08T12:30:43.421Z"
   },
   {
    "duration": 35,
    "start_time": "2022-02-08T12:30:43.447Z"
   },
   {
    "duration": 38,
    "start_time": "2022-02-08T12:30:43.485Z"
   },
   {
    "duration": 16,
    "start_time": "2022-02-08T12:30:43.526Z"
   },
   {
    "duration": 45,
    "start_time": "2022-02-08T12:30:43.544Z"
   },
   {
    "duration": 143,
    "start_time": "2022-02-08T12:30:43.611Z"
   },
   {
    "duration": 6,
    "start_time": "2022-02-08T12:30:43.756Z"
   },
   {
    "duration": 3,
    "start_time": "2022-02-08T12:30:43.764Z"
   },
   {
    "duration": 5,
    "start_time": "2022-02-08T12:30:43.769Z"
   },
   {
    "duration": 39,
    "start_time": "2022-02-08T12:30:43.775Z"
   },
   {
    "duration": 9,
    "start_time": "2022-02-08T12:30:43.816Z"
   },
   {
    "duration": 23,
    "start_time": "2022-02-08T12:30:43.827Z"
   },
   {
    "duration": 4,
    "start_time": "2022-02-08T12:30:43.852Z"
   },
   {
    "duration": 18,
    "start_time": "2022-02-08T12:30:43.857Z"
   },
   {
    "duration": 5,
    "start_time": "2022-02-08T12:30:43.876Z"
   },
   {
    "duration": 84,
    "start_time": "2022-02-08T12:30:43.882Z"
   },
   {
    "duration": 16,
    "start_time": "2022-02-08T12:30:43.968Z"
   },
   {
    "duration": 33,
    "start_time": "2022-02-08T12:30:43.986Z"
   },
   {
    "duration": 43,
    "start_time": "2022-02-08T12:30:44.021Z"
   },
   {
    "duration": 3,
    "start_time": "2022-02-08T12:30:44.065Z"
   },
   {
    "duration": 3,
    "start_time": "2022-02-08T12:30:44.072Z"
   },
   {
    "duration": 570,
    "start_time": "2022-02-08T12:30:44.077Z"
   },
   {
    "duration": 507,
    "start_time": "2022-02-08T12:30:44.649Z"
   },
   {
    "duration": 3,
    "start_time": "2022-02-08T12:30:45.157Z"
   },
   {
    "duration": 317,
    "start_time": "2022-02-08T12:30:45.162Z"
   },
   {
    "duration": 275,
    "start_time": "2022-02-08T12:30:45.480Z"
   },
   {
    "duration": 490,
    "start_time": "2022-02-08T12:30:45.756Z"
   },
   {
    "duration": 30,
    "start_time": "2022-02-08T12:30:46.247Z"
   },
   {
    "duration": 2093,
    "start_time": "2022-02-08T12:30:46.278Z"
   },
   {
    "duration": 6,
    "start_time": "2022-02-08T12:30:48.372Z"
   },
   {
    "duration": 11,
    "start_time": "2022-02-08T12:30:48.379Z"
   },
   {
    "duration": 2267,
    "start_time": "2022-02-08T12:30:48.391Z"
   },
   {
    "duration": 5,
    "start_time": "2022-02-08T12:30:50.660Z"
   },
   {
    "duration": 23,
    "start_time": "2022-02-08T12:30:50.667Z"
   },
   {
    "duration": 574,
    "start_time": "2022-02-08T12:30:50.692Z"
   },
   {
    "duration": 21,
    "start_time": "2022-02-08T12:30:51.268Z"
   },
   {
    "duration": 85,
    "start_time": "2022-02-08T12:30:51.291Z"
   },
   {
    "duration": 81,
    "start_time": "2022-02-08T12:30:51.378Z"
   },
   {
    "duration": 1097,
    "start_time": "2022-02-08T12:32:31.549Z"
   },
   {
    "duration": 115,
    "start_time": "2022-02-08T12:32:32.648Z"
   },
   {
    "duration": 21,
    "start_time": "2022-02-08T12:32:32.765Z"
   },
   {
    "duration": 9,
    "start_time": "2022-02-08T12:32:32.787Z"
   },
   {
    "duration": 15,
    "start_time": "2022-02-08T12:32:32.798Z"
   },
   {
    "duration": 20,
    "start_time": "2022-02-08T12:32:32.814Z"
   },
   {
    "duration": 35,
    "start_time": "2022-02-08T12:32:32.836Z"
   },
   {
    "duration": 10,
    "start_time": "2022-02-08T12:32:32.872Z"
   },
   {
    "duration": 38,
    "start_time": "2022-02-08T12:32:32.885Z"
   },
   {
    "duration": 48,
    "start_time": "2022-02-08T12:32:32.925Z"
   },
   {
    "duration": 143,
    "start_time": "2022-02-08T12:32:32.975Z"
   },
   {
    "duration": 7,
    "start_time": "2022-02-08T12:32:33.120Z"
   },
   {
    "duration": 4,
    "start_time": "2022-02-08T12:32:33.129Z"
   },
   {
    "duration": 5,
    "start_time": "2022-02-08T12:32:33.134Z"
   },
   {
    "duration": 15,
    "start_time": "2022-02-08T12:32:33.140Z"
   },
   {
    "duration": 4,
    "start_time": "2022-02-08T12:32:33.157Z"
   },
   {
    "duration": 69,
    "start_time": "2022-02-08T12:32:33.162Z"
   },
   {
    "duration": 4,
    "start_time": "2022-02-08T12:32:33.233Z"
   },
   {
    "duration": 17,
    "start_time": "2022-02-08T12:32:33.238Z"
   },
   {
    "duration": 4,
    "start_time": "2022-02-08T12:32:33.257Z"
   },
   {
    "duration": 64,
    "start_time": "2022-02-08T12:32:33.262Z"
   },
   {
    "duration": 16,
    "start_time": "2022-02-08T12:32:33.328Z"
   },
   {
    "duration": 9,
    "start_time": "2022-02-08T12:32:33.346Z"
   },
   {
    "duration": 66,
    "start_time": "2022-02-08T12:32:33.356Z"
   },
   {
    "duration": 5,
    "start_time": "2022-02-08T12:32:33.424Z"
   },
   {
    "duration": 5,
    "start_time": "2022-02-08T12:32:33.430Z"
   },
   {
    "duration": 560,
    "start_time": "2022-02-08T12:32:33.438Z"
   },
   {
    "duration": 515,
    "start_time": "2022-02-08T12:32:34.000Z"
   },
   {
    "duration": 4,
    "start_time": "2022-02-08T12:32:34.517Z"
   },
   {
    "duration": 345,
    "start_time": "2022-02-08T12:32:34.523Z"
   },
   {
    "duration": 297,
    "start_time": "2022-02-08T12:32:34.869Z"
   },
   {
    "duration": 485,
    "start_time": "2022-02-08T12:32:35.168Z"
   },
   {
    "duration": 30,
    "start_time": "2022-02-08T12:32:35.654Z"
   },
   {
    "duration": 2199,
    "start_time": "2022-02-08T12:32:35.686Z"
   },
   {
    "duration": 5,
    "start_time": "2022-02-08T12:32:37.887Z"
   },
   {
    "duration": 41,
    "start_time": "2022-02-08T12:32:37.894Z"
   },
   {
    "duration": 2331,
    "start_time": "2022-02-08T12:32:37.937Z"
   },
   {
    "duration": 6,
    "start_time": "2022-02-08T12:32:40.269Z"
   },
   {
    "duration": 40,
    "start_time": "2022-02-08T12:32:40.277Z"
   },
   {
    "duration": 553,
    "start_time": "2022-02-08T12:32:40.318Z"
   },
   {
    "duration": 50,
    "start_time": "2022-02-08T12:32:40.873Z"
   },
   {
    "duration": 62,
    "start_time": "2022-02-08T12:32:40.925Z"
   },
   {
    "duration": 85,
    "start_time": "2022-02-08T12:32:40.988Z"
   },
   {
    "duration": 7,
    "start_time": "2022-02-08T12:33:59.716Z"
   },
   {
    "duration": 1140,
    "start_time": "2022-02-08T12:34:43.691Z"
   },
   {
    "duration": 125,
    "start_time": "2022-02-08T12:34:44.833Z"
   },
   {
    "duration": 22,
    "start_time": "2022-02-08T12:34:44.961Z"
   },
   {
    "duration": 10,
    "start_time": "2022-02-08T12:34:44.985Z"
   },
   {
    "duration": 19,
    "start_time": "2022-02-08T12:34:44.996Z"
   },
   {
    "duration": 28,
    "start_time": "2022-02-08T12:34:45.017Z"
   },
   {
    "duration": 38,
    "start_time": "2022-02-08T12:34:45.047Z"
   },
   {
    "duration": 12,
    "start_time": "2022-02-08T12:34:45.114Z"
   },
   {
    "duration": 17,
    "start_time": "2022-02-08T12:34:45.128Z"
   },
   {
    "duration": 66,
    "start_time": "2022-02-08T12:34:45.146Z"
   },
   {
    "duration": 139,
    "start_time": "2022-02-08T12:34:45.214Z"
   },
   {
    "duration": 5,
    "start_time": "2022-02-08T12:34:45.355Z"
   },
   {
    "duration": 5,
    "start_time": "2022-02-08T12:34:45.362Z"
   },
   {
    "duration": 6,
    "start_time": "2022-02-08T12:34:45.369Z"
   },
   {
    "duration": 35,
    "start_time": "2022-02-08T12:34:45.377Z"
   },
   {
    "duration": 5,
    "start_time": "2022-02-08T12:34:45.414Z"
   },
   {
    "duration": 24,
    "start_time": "2022-02-08T12:34:45.421Z"
   },
   {
    "duration": 4,
    "start_time": "2022-02-08T12:34:45.446Z"
   },
   {
    "duration": 17,
    "start_time": "2022-02-08T12:34:45.452Z"
   },
   {
    "duration": 4,
    "start_time": "2022-02-08T12:34:45.471Z"
   },
   {
    "duration": 92,
    "start_time": "2022-02-08T12:34:45.477Z"
   },
   {
    "duration": 17,
    "start_time": "2022-02-08T12:34:45.570Z"
   },
   {
    "duration": 29,
    "start_time": "2022-02-08T12:34:45.590Z"
   },
   {
    "duration": 41,
    "start_time": "2022-02-08T12:34:45.622Z"
   },
   {
    "duration": 3,
    "start_time": "2022-02-08T12:34:45.665Z"
   },
   {
    "duration": 5,
    "start_time": "2022-02-08T12:34:45.670Z"
   },
   {
    "duration": 592,
    "start_time": "2022-02-08T12:34:45.676Z"
   },
   {
    "duration": 533,
    "start_time": "2022-02-08T12:34:46.269Z"
   },
   {
    "duration": 12,
    "start_time": "2022-02-08T12:34:46.804Z"
   },
   {
    "duration": 340,
    "start_time": "2022-02-08T12:34:46.818Z"
   },
   {
    "duration": 298,
    "start_time": "2022-02-08T12:34:47.160Z"
   },
   {
    "duration": 499,
    "start_time": "2022-02-08T12:34:47.459Z"
   },
   {
    "duration": 31,
    "start_time": "2022-02-08T12:34:47.959Z"
   },
   {
    "duration": 2216,
    "start_time": "2022-02-08T12:34:47.991Z"
   },
   {
    "duration": 6,
    "start_time": "2022-02-08T12:34:50.209Z"
   },
   {
    "duration": 26,
    "start_time": "2022-02-08T12:34:50.217Z"
   },
   {
    "duration": 1065,
    "start_time": "2022-02-08T12:36:01.769Z"
   },
   {
    "duration": 114,
    "start_time": "2022-02-08T12:36:02.836Z"
   },
   {
    "duration": 20,
    "start_time": "2022-02-08T12:36:02.952Z"
   },
   {
    "duration": 9,
    "start_time": "2022-02-08T12:36:02.974Z"
   },
   {
    "duration": 11,
    "start_time": "2022-02-08T12:36:02.985Z"
   },
   {
    "duration": 31,
    "start_time": "2022-02-08T12:36:02.997Z"
   },
   {
    "duration": 35,
    "start_time": "2022-02-08T12:36:03.030Z"
   },
   {
    "duration": 9,
    "start_time": "2022-02-08T12:36:03.067Z"
   },
   {
    "duration": 40,
    "start_time": "2022-02-08T12:36:03.078Z"
   },
   {
    "duration": 49,
    "start_time": "2022-02-08T12:36:03.120Z"
   },
   {
    "duration": 139,
    "start_time": "2022-02-08T12:36:03.171Z"
   },
   {
    "duration": 6,
    "start_time": "2022-02-08T12:36:03.312Z"
   },
   {
    "duration": 5,
    "start_time": "2022-02-08T12:36:03.321Z"
   },
   {
    "duration": 5,
    "start_time": "2022-02-08T12:36:03.328Z"
   },
   {
    "duration": 14,
    "start_time": "2022-02-08T12:36:03.334Z"
   },
   {
    "duration": 3,
    "start_time": "2022-02-08T12:36:03.350Z"
   },
   {
    "duration": 59,
    "start_time": "2022-02-08T12:36:03.355Z"
   },
   {
    "duration": 5,
    "start_time": "2022-02-08T12:36:03.416Z"
   },
   {
    "duration": 18,
    "start_time": "2022-02-08T12:36:03.424Z"
   },
   {
    "duration": 9,
    "start_time": "2022-02-08T12:36:03.443Z"
   },
   {
    "duration": 71,
    "start_time": "2022-02-08T12:36:03.453Z"
   },
   {
    "duration": 16,
    "start_time": "2022-02-08T12:36:03.526Z"
   },
   {
    "duration": 9,
    "start_time": "2022-02-08T12:36:03.545Z"
   },
   {
    "duration": 65,
    "start_time": "2022-02-08T12:36:03.556Z"
   },
   {
    "duration": 5,
    "start_time": "2022-02-08T12:36:03.623Z"
   },
   {
    "duration": 8,
    "start_time": "2022-02-08T12:36:03.630Z"
   },
   {
    "duration": 575,
    "start_time": "2022-02-08T12:36:03.639Z"
   },
   {
    "duration": 519,
    "start_time": "2022-02-08T12:36:04.217Z"
   },
   {
    "duration": 3,
    "start_time": "2022-02-08T12:36:04.739Z"
   },
   {
    "duration": 334,
    "start_time": "2022-02-08T12:36:04.744Z"
   },
   {
    "duration": 296,
    "start_time": "2022-02-08T12:36:05.079Z"
   },
   {
    "duration": 499,
    "start_time": "2022-02-08T12:36:05.377Z"
   },
   {
    "duration": 42,
    "start_time": "2022-02-08T12:36:05.877Z"
   },
   {
    "duration": 2247,
    "start_time": "2022-02-08T12:36:05.921Z"
   },
   {
    "duration": 6,
    "start_time": "2022-02-08T12:36:08.169Z"
   },
   {
    "duration": 37,
    "start_time": "2022-02-08T12:36:08.176Z"
   },
   {
    "duration": 2254,
    "start_time": "2022-02-08T12:36:08.215Z"
   },
   {
    "duration": 5,
    "start_time": "2022-02-08T12:36:10.472Z"
   },
   {
    "duration": 35,
    "start_time": "2022-02-08T12:36:10.478Z"
   },
   {
    "duration": 614,
    "start_time": "2022-02-08T12:36:10.515Z"
   },
   {
    "duration": 24,
    "start_time": "2022-02-08T12:36:11.132Z"
   },
   {
    "duration": 93,
    "start_time": "2022-02-08T12:36:11.158Z"
   },
   {
    "duration": 73,
    "start_time": "2022-02-08T12:36:11.253Z"
   },
   {
    "duration": 30,
    "start_time": "2022-02-08T12:47:48.118Z"
   },
   {
    "duration": 76,
    "start_time": "2022-02-08T12:48:23.259Z"
   },
   {
    "duration": 1214,
    "start_time": "2022-02-08T13:11:23.350Z"
   },
   {
    "duration": 133,
    "start_time": "2022-02-08T13:11:24.567Z"
   },
   {
    "duration": 28,
    "start_time": "2022-02-08T13:11:24.703Z"
   },
   {
    "duration": 10,
    "start_time": "2022-02-08T13:11:24.734Z"
   },
   {
    "duration": 9,
    "start_time": "2022-02-08T13:11:24.747Z"
   },
   {
    "duration": 57,
    "start_time": "2022-02-08T13:11:24.759Z"
   },
   {
    "duration": 54,
    "start_time": "2022-02-08T13:11:24.819Z"
   },
   {
    "duration": 10,
    "start_time": "2022-02-08T13:11:24.876Z"
   },
   {
    "duration": 35,
    "start_time": "2022-02-08T13:11:24.889Z"
   },
   {
    "duration": 50,
    "start_time": "2022-02-08T13:11:24.927Z"
   },
   {
    "duration": 163,
    "start_time": "2022-02-08T13:11:24.979Z"
   },
   {
    "duration": 5,
    "start_time": "2022-02-08T13:11:25.144Z"
   },
   {
    "duration": 5,
    "start_time": "2022-02-08T13:11:25.151Z"
   },
   {
    "duration": 5,
    "start_time": "2022-02-08T13:11:25.158Z"
   },
   {
    "duration": 49,
    "start_time": "2022-02-08T13:11:25.164Z"
   },
   {
    "duration": 6,
    "start_time": "2022-02-08T13:11:25.215Z"
   },
   {
    "duration": 42,
    "start_time": "2022-02-08T13:11:25.222Z"
   },
   {
    "duration": 4,
    "start_time": "2022-02-08T13:11:25.266Z"
   },
   {
    "duration": 47,
    "start_time": "2022-02-08T13:11:25.272Z"
   },
   {
    "duration": 5,
    "start_time": "2022-02-08T13:11:25.321Z"
   },
   {
    "duration": 54,
    "start_time": "2022-02-08T13:11:25.328Z"
   },
   {
    "duration": 40,
    "start_time": "2022-02-08T13:11:25.385Z"
   },
   {
    "duration": 14,
    "start_time": "2022-02-08T13:11:25.427Z"
   },
   {
    "duration": 80,
    "start_time": "2022-02-08T13:11:25.443Z"
   },
   {
    "duration": 4,
    "start_time": "2022-02-08T13:11:25.526Z"
   },
   {
    "duration": 8,
    "start_time": "2022-02-08T13:11:25.532Z"
   },
   {
    "duration": 594,
    "start_time": "2022-02-08T13:11:25.544Z"
   },
   {
    "duration": 540,
    "start_time": "2022-02-08T13:11:26.140Z"
   },
   {
    "duration": 3,
    "start_time": "2022-02-08T13:11:26.682Z"
   },
   {
    "duration": 344,
    "start_time": "2022-02-08T13:11:26.687Z"
   },
   {
    "duration": 294,
    "start_time": "2022-02-08T13:11:27.033Z"
   },
   {
    "duration": 495,
    "start_time": "2022-02-08T13:11:27.329Z"
   },
   {
    "duration": 31,
    "start_time": "2022-02-08T13:11:27.826Z"
   },
   {
    "duration": 2226,
    "start_time": "2022-02-08T13:11:27.859Z"
   },
   {
    "duration": 7,
    "start_time": "2022-02-08T13:11:30.087Z"
   },
   {
    "duration": 33,
    "start_time": "2022-02-08T13:11:30.096Z"
   },
   {
    "duration": 2323,
    "start_time": "2022-02-08T13:11:30.131Z"
   },
   {
    "duration": 6,
    "start_time": "2022-02-08T13:11:32.455Z"
   },
   {
    "duration": 30,
    "start_time": "2022-02-08T13:11:32.462Z"
   },
   {
    "duration": 619,
    "start_time": "2022-02-08T13:11:32.494Z"
   },
   {
    "duration": 28,
    "start_time": "2022-02-08T13:11:33.115Z"
   },
   {
    "duration": 101,
    "start_time": "2022-02-08T13:11:33.145Z"
   },
   {
    "duration": 2,
    "start_time": "2022-02-08T13:11:33.248Z"
   },
   {
    "duration": 91,
    "start_time": "2022-02-08T13:11:33.252Z"
   },
   {
    "duration": 35,
    "start_time": "2022-02-08T13:13:08.814Z"
   },
   {
    "duration": 37,
    "start_time": "2022-02-08T13:13:25.944Z"
   },
   {
    "duration": 44,
    "start_time": "2022-02-08T13:14:17.329Z"
   },
   {
    "duration": 41,
    "start_time": "2022-02-08T13:15:20.253Z"
   },
   {
    "duration": 1144,
    "start_time": "2022-02-08T13:28:25.335Z"
   },
   {
    "duration": 118,
    "start_time": "2022-02-08T13:28:26.481Z"
   },
   {
    "duration": 21,
    "start_time": "2022-02-08T13:28:26.602Z"
   },
   {
    "duration": 12,
    "start_time": "2022-02-08T13:28:26.625Z"
   },
   {
    "duration": 8,
    "start_time": "2022-02-08T13:28:26.639Z"
   },
   {
    "duration": 23,
    "start_time": "2022-02-08T13:28:26.649Z"
   },
   {
    "duration": 64,
    "start_time": "2022-02-08T13:28:26.675Z"
   },
   {
    "duration": 10,
    "start_time": "2022-02-08T13:28:26.742Z"
   },
   {
    "duration": 17,
    "start_time": "2022-02-08T13:28:26.755Z"
   },
   {
    "duration": 74,
    "start_time": "2022-02-08T13:28:26.774Z"
   },
   {
    "duration": 150,
    "start_time": "2022-02-08T13:28:26.850Z"
   },
   {
    "duration": 11,
    "start_time": "2022-02-08T13:28:27.002Z"
   },
   {
    "duration": 5,
    "start_time": "2022-02-08T13:28:27.015Z"
   },
   {
    "duration": 5,
    "start_time": "2022-02-08T13:28:27.022Z"
   },
   {
    "duration": 17,
    "start_time": "2022-02-08T13:28:27.029Z"
   },
   {
    "duration": 5,
    "start_time": "2022-02-08T13:28:27.048Z"
   },
   {
    "duration": 80,
    "start_time": "2022-02-08T13:28:27.055Z"
   },
   {
    "duration": 5,
    "start_time": "2022-02-08T13:28:27.138Z"
   },
   {
    "duration": 19,
    "start_time": "2022-02-08T13:28:27.145Z"
   },
   {
    "duration": 5,
    "start_time": "2022-02-08T13:28:27.166Z"
   },
   {
    "duration": 77,
    "start_time": "2022-02-08T13:28:27.173Z"
   },
   {
    "duration": 13,
    "start_time": "2022-02-08T13:28:27.252Z"
   },
   {
    "duration": 15,
    "start_time": "2022-02-08T13:28:27.267Z"
   },
   {
    "duration": 64,
    "start_time": "2022-02-08T13:28:27.284Z"
   },
   {
    "duration": 4,
    "start_time": "2022-02-08T13:28:27.350Z"
   },
   {
    "duration": 6,
    "start_time": "2022-02-08T13:28:27.356Z"
   },
   {
    "duration": 583,
    "start_time": "2022-02-08T13:28:27.366Z"
   },
   {
    "duration": 527,
    "start_time": "2022-02-08T13:28:27.952Z"
   },
   {
    "duration": 3,
    "start_time": "2022-02-08T13:28:28.481Z"
   },
   {
    "duration": 339,
    "start_time": "2022-02-08T13:28:28.486Z"
   },
   {
    "duration": 295,
    "start_time": "2022-02-08T13:28:28.828Z"
   },
   {
    "duration": 503,
    "start_time": "2022-02-08T13:28:29.126Z"
   },
   {
    "duration": 32,
    "start_time": "2022-02-08T13:28:29.631Z"
   },
   {
    "duration": 2242,
    "start_time": "2022-02-08T13:28:29.665Z"
   },
   {
    "duration": 6,
    "start_time": "2022-02-08T13:28:31.912Z"
   },
   {
    "duration": 23,
    "start_time": "2022-02-08T13:28:31.920Z"
   },
   {
    "duration": 2481,
    "start_time": "2022-02-08T13:28:31.945Z"
   },
   {
    "duration": 8,
    "start_time": "2022-02-08T13:28:34.428Z"
   },
   {
    "duration": 27,
    "start_time": "2022-02-08T13:28:34.438Z"
   },
   {
    "duration": 759,
    "start_time": "2022-02-08T13:28:34.467Z"
   },
   {
    "duration": 60,
    "start_time": "2022-02-08T13:28:35.228Z"
   },
   {
    "duration": 81,
    "start_time": "2022-02-08T13:28:35.290Z"
   },
   {
    "duration": 3,
    "start_time": "2022-02-08T13:28:35.373Z"
   },
   {
    "duration": 92,
    "start_time": "2022-02-08T13:28:35.378Z"
   },
   {
    "duration": 385,
    "start_time": "2022-02-08T13:38:27.018Z"
   },
   {
    "duration": 1038,
    "start_time": "2022-02-08T13:38:35.636Z"
   },
   {
    "duration": 253,
    "start_time": "2022-02-08T13:39:11.176Z"
   },
   {
    "duration": 38,
    "start_time": "2022-02-08T13:39:25.133Z"
   },
   {
    "duration": 48,
    "start_time": "2022-02-08T13:42:39.156Z"
   },
   {
    "duration": 1083,
    "start_time": "2022-02-08T13:44:21.255Z"
   },
   {
    "duration": 111,
    "start_time": "2022-02-08T13:44:22.340Z"
   },
   {
    "duration": 21,
    "start_time": "2022-02-08T13:44:22.453Z"
   },
   {
    "duration": 10,
    "start_time": "2022-02-08T13:44:22.475Z"
   },
   {
    "duration": 9,
    "start_time": "2022-02-08T13:44:22.487Z"
   },
   {
    "duration": 28,
    "start_time": "2022-02-08T13:44:22.498Z"
   },
   {
    "duration": 33,
    "start_time": "2022-02-08T13:44:22.528Z"
   },
   {
    "duration": 9,
    "start_time": "2022-02-08T13:44:22.564Z"
   },
   {
    "duration": 43,
    "start_time": "2022-02-08T13:44:22.575Z"
   },
   {
    "duration": 48,
    "start_time": "2022-02-08T13:44:22.620Z"
   },
   {
    "duration": 148,
    "start_time": "2022-02-08T13:44:22.669Z"
   },
   {
    "duration": 6,
    "start_time": "2022-02-08T13:44:22.818Z"
   },
   {
    "duration": 4,
    "start_time": "2022-02-08T13:44:22.825Z"
   },
   {
    "duration": 5,
    "start_time": "2022-02-08T13:44:22.831Z"
   },
   {
    "duration": 14,
    "start_time": "2022-02-08T13:44:22.837Z"
   },
   {
    "duration": 4,
    "start_time": "2022-02-08T13:44:22.853Z"
   },
   {
    "duration": 57,
    "start_time": "2022-02-08T13:44:22.859Z"
   },
   {
    "duration": 4,
    "start_time": "2022-02-08T13:44:22.918Z"
   },
   {
    "duration": 18,
    "start_time": "2022-02-08T13:44:22.923Z"
   },
   {
    "duration": 5,
    "start_time": "2022-02-08T13:44:22.943Z"
   },
   {
    "duration": 95,
    "start_time": "2022-02-08T13:44:22.950Z"
   },
   {
    "duration": 13,
    "start_time": "2022-02-08T13:44:23.047Z"
   },
   {
    "duration": 11,
    "start_time": "2022-02-08T13:44:23.063Z"
   },
   {
    "duration": 64,
    "start_time": "2022-02-08T13:44:23.076Z"
   },
   {
    "duration": 3,
    "start_time": "2022-02-08T13:44:23.142Z"
   },
   {
    "duration": 13,
    "start_time": "2022-02-08T13:44:23.146Z"
   },
   {
    "duration": 560,
    "start_time": "2022-02-08T13:44:23.160Z"
   },
   {
    "duration": 508,
    "start_time": "2022-02-08T13:44:23.722Z"
   },
   {
    "duration": 3,
    "start_time": "2022-02-08T13:44:24.232Z"
   },
   {
    "duration": 328,
    "start_time": "2022-02-08T13:44:24.237Z"
   },
   {
    "duration": 288,
    "start_time": "2022-02-08T13:44:24.567Z"
   },
   {
    "duration": 489,
    "start_time": "2022-02-08T13:44:24.857Z"
   },
   {
    "duration": 34,
    "start_time": "2022-02-08T13:44:25.348Z"
   },
   {
    "duration": 2206,
    "start_time": "2022-02-08T13:44:25.383Z"
   },
   {
    "duration": 6,
    "start_time": "2022-02-08T13:44:27.591Z"
   },
   {
    "duration": 35,
    "start_time": "2022-02-08T13:44:27.598Z"
   },
   {
    "duration": 2309,
    "start_time": "2022-02-08T13:44:27.635Z"
   },
   {
    "duration": 7,
    "start_time": "2022-02-08T13:44:29.946Z"
   },
   {
    "duration": 19,
    "start_time": "2022-02-08T13:44:29.955Z"
   },
   {
    "duration": 650,
    "start_time": "2022-02-08T13:44:29.976Z"
   },
   {
    "duration": 51,
    "start_time": "2022-02-08T13:44:30.627Z"
   },
   {
    "duration": 1121,
    "start_time": "2022-02-08T13:45:32.096Z"
   },
   {
    "duration": 107,
    "start_time": "2022-02-08T13:45:33.220Z"
   },
   {
    "duration": 16,
    "start_time": "2022-02-08T13:45:33.329Z"
   },
   {
    "duration": 9,
    "start_time": "2022-02-08T13:45:33.347Z"
   },
   {
    "duration": 10,
    "start_time": "2022-02-08T13:45:33.358Z"
   },
   {
    "duration": 22,
    "start_time": "2022-02-08T13:45:33.370Z"
   },
   {
    "duration": 43,
    "start_time": "2022-02-08T13:45:33.394Z"
   },
   {
    "duration": 8,
    "start_time": "2022-02-08T13:45:33.439Z"
   },
   {
    "duration": 19,
    "start_time": "2022-02-08T13:45:33.450Z"
   },
   {
    "duration": 80,
    "start_time": "2022-02-08T13:45:33.471Z"
   },
   {
    "duration": 131,
    "start_time": "2022-02-08T13:45:33.553Z"
   },
   {
    "duration": 5,
    "start_time": "2022-02-08T13:45:33.686Z"
   },
   {
    "duration": 3,
    "start_time": "2022-02-08T13:45:33.693Z"
   },
   {
    "duration": 4,
    "start_time": "2022-02-08T13:45:33.712Z"
   },
   {
    "duration": 14,
    "start_time": "2022-02-08T13:45:33.718Z"
   },
   {
    "duration": 6,
    "start_time": "2022-02-08T13:45:33.733Z"
   },
   {
    "duration": 23,
    "start_time": "2022-02-08T13:45:33.741Z"
   },
   {
    "duration": 3,
    "start_time": "2022-02-08T13:45:33.766Z"
   },
   {
    "duration": 48,
    "start_time": "2022-02-08T13:45:33.771Z"
   },
   {
    "duration": 4,
    "start_time": "2022-02-08T13:45:33.821Z"
   },
   {
    "duration": 50,
    "start_time": "2022-02-08T13:45:33.827Z"
   },
   {
    "duration": 13,
    "start_time": "2022-02-08T13:45:33.878Z"
   },
   {
    "duration": 10,
    "start_time": "2022-02-08T13:45:33.912Z"
   },
   {
    "duration": 41,
    "start_time": "2022-02-08T13:45:33.923Z"
   },
   {
    "duration": 3,
    "start_time": "2022-02-08T13:45:33.966Z"
   },
   {
    "duration": 6,
    "start_time": "2022-02-08T13:45:33.971Z"
   },
   {
    "duration": 534,
    "start_time": "2022-02-08T13:45:33.980Z"
   },
   {
    "duration": 499,
    "start_time": "2022-02-08T13:45:34.517Z"
   },
   {
    "duration": 3,
    "start_time": "2022-02-08T13:45:35.018Z"
   },
   {
    "duration": 317,
    "start_time": "2022-02-08T13:45:35.023Z"
   },
   {
    "duration": 282,
    "start_time": "2022-02-08T13:45:35.342Z"
   },
   {
    "duration": 479,
    "start_time": "2022-02-08T13:45:35.626Z"
   },
   {
    "duration": 35,
    "start_time": "2022-02-08T13:45:36.107Z"
   },
   {
    "duration": 2109,
    "start_time": "2022-02-08T13:45:36.144Z"
   },
   {
    "duration": 7,
    "start_time": "2022-02-08T13:45:38.254Z"
   },
   {
    "duration": 31,
    "start_time": "2022-02-08T13:45:38.262Z"
   },
   {
    "duration": 2252,
    "start_time": "2022-02-08T13:45:38.312Z"
   },
   {
    "duration": 7,
    "start_time": "2022-02-08T13:45:40.566Z"
   },
   {
    "duration": 38,
    "start_time": "2022-02-08T13:45:40.575Z"
   },
   {
    "duration": 563,
    "start_time": "2022-02-08T13:45:40.615Z"
   },
   {
    "duration": 75,
    "start_time": "2022-02-08T13:45:41.179Z"
   },
   {
    "duration": 64,
    "start_time": "2022-02-08T13:45:41.255Z"
   },
   {
    "duration": 1147,
    "start_time": "2022-02-08T13:49:38.493Z"
   },
   {
    "duration": 101,
    "start_time": "2022-02-08T13:49:39.643Z"
   },
   {
    "duration": 17,
    "start_time": "2022-02-08T13:49:39.747Z"
   },
   {
    "duration": 10,
    "start_time": "2022-02-08T13:49:39.766Z"
   },
   {
    "duration": 8,
    "start_time": "2022-02-08T13:49:39.777Z"
   },
   {
    "duration": 41,
    "start_time": "2022-02-08T13:49:39.787Z"
   },
   {
    "duration": 43,
    "start_time": "2022-02-08T13:49:39.829Z"
   },
   {
    "duration": 8,
    "start_time": "2022-02-08T13:49:39.874Z"
   },
   {
    "duration": 37,
    "start_time": "2022-02-08T13:49:39.885Z"
   },
   {
    "duration": 46,
    "start_time": "2022-02-08T13:49:39.924Z"
   },
   {
    "duration": 141,
    "start_time": "2022-02-08T13:49:39.971Z"
   },
   {
    "duration": 5,
    "start_time": "2022-02-08T13:49:40.114Z"
   },
   {
    "duration": 6,
    "start_time": "2022-02-08T13:49:40.120Z"
   },
   {
    "duration": 5,
    "start_time": "2022-02-08T13:49:40.128Z"
   },
   {
    "duration": 15,
    "start_time": "2022-02-08T13:49:40.135Z"
   },
   {
    "duration": 4,
    "start_time": "2022-02-08T13:49:40.151Z"
   },
   {
    "duration": 56,
    "start_time": "2022-02-08T13:49:40.157Z"
   },
   {
    "duration": 4,
    "start_time": "2022-02-08T13:49:40.215Z"
   },
   {
    "duration": 18,
    "start_time": "2022-02-08T13:49:40.220Z"
   },
   {
    "duration": 4,
    "start_time": "2022-02-08T13:49:40.240Z"
   },
   {
    "duration": 69,
    "start_time": "2022-02-08T13:49:40.246Z"
   },
   {
    "duration": 20,
    "start_time": "2022-02-08T13:49:40.317Z"
   },
   {
    "duration": 12,
    "start_time": "2022-02-08T13:49:40.339Z"
   },
   {
    "duration": 60,
    "start_time": "2022-02-08T13:49:40.353Z"
   },
   {
    "duration": 3,
    "start_time": "2022-02-08T13:49:40.415Z"
   },
   {
    "duration": 6,
    "start_time": "2022-02-08T13:49:40.419Z"
   },
   {
    "duration": 543,
    "start_time": "2022-02-08T13:49:40.429Z"
   },
   {
    "duration": 524,
    "start_time": "2022-02-08T13:49:40.974Z"
   },
   {
    "duration": 3,
    "start_time": "2022-02-08T13:49:41.512Z"
   },
   {
    "duration": 331,
    "start_time": "2022-02-08T13:49:41.517Z"
   },
   {
    "duration": 284,
    "start_time": "2022-02-08T13:49:41.849Z"
   },
   {
    "duration": 477,
    "start_time": "2022-02-08T13:49:42.135Z"
   },
   {
    "duration": 30,
    "start_time": "2022-02-08T13:49:42.614Z"
   },
   {
    "duration": 2156,
    "start_time": "2022-02-08T13:49:42.646Z"
   },
   {
    "duration": 11,
    "start_time": "2022-02-08T13:49:44.804Z"
   },
   {
    "duration": 24,
    "start_time": "2022-02-08T13:49:44.817Z"
   },
   {
    "duration": 2334,
    "start_time": "2022-02-08T13:49:44.842Z"
   },
   {
    "duration": 6,
    "start_time": "2022-02-08T13:49:47.178Z"
   },
   {
    "duration": 35,
    "start_time": "2022-02-08T13:49:47.185Z"
   },
   {
    "duration": 598,
    "start_time": "2022-02-08T13:49:47.222Z"
   },
   {
    "duration": 48,
    "start_time": "2022-02-08T13:49:47.822Z"
   },
   {
    "duration": 75,
    "start_time": "2022-02-08T13:49:47.872Z"
   },
   {
    "duration": 138658,
    "start_time": "2022-02-08T13:49:47.949Z"
   },
   {
    "duration": -127,
    "start_time": "2022-02-08T13:52:06.740Z"
   },
   {
    "duration": -135,
    "start_time": "2022-02-08T13:52:06.748Z"
   },
   {
    "duration": -137,
    "start_time": "2022-02-08T13:52:06.751Z"
   },
   {
    "duration": -138,
    "start_time": "2022-02-08T13:52:06.753Z"
   },
   {
    "duration": -139,
    "start_time": "2022-02-08T13:52:06.756Z"
   },
   {
    "duration": 1081,
    "start_time": "2022-02-08T14:01:12.359Z"
   },
   {
    "duration": 113,
    "start_time": "2022-02-08T14:01:13.442Z"
   },
   {
    "duration": 20,
    "start_time": "2022-02-08T14:01:13.558Z"
   },
   {
    "duration": 14,
    "start_time": "2022-02-08T14:01:13.580Z"
   },
   {
    "duration": 9,
    "start_time": "2022-02-08T14:01:13.612Z"
   },
   {
    "duration": 40,
    "start_time": "2022-02-08T14:01:13.623Z"
   },
   {
    "duration": 56,
    "start_time": "2022-02-08T14:01:13.665Z"
   },
   {
    "duration": 10,
    "start_time": "2022-02-08T14:01:13.722Z"
   },
   {
    "duration": 19,
    "start_time": "2022-02-08T14:01:13.735Z"
   },
   {
    "duration": 66,
    "start_time": "2022-02-08T14:01:13.756Z"
   },
   {
    "duration": 147,
    "start_time": "2022-02-08T14:01:13.823Z"
   },
   {
    "duration": 6,
    "start_time": "2022-02-08T14:01:13.972Z"
   },
   {
    "duration": 5,
    "start_time": "2022-02-08T14:01:13.979Z"
   },
   {
    "duration": 28,
    "start_time": "2022-02-08T14:01:13.986Z"
   },
   {
    "duration": 16,
    "start_time": "2022-02-08T14:01:14.016Z"
   },
   {
    "duration": 6,
    "start_time": "2022-02-08T14:01:14.034Z"
   },
   {
    "duration": 39,
    "start_time": "2022-02-08T14:01:14.042Z"
   },
   {
    "duration": 5,
    "start_time": "2022-02-08T14:01:14.083Z"
   },
   {
    "duration": 24,
    "start_time": "2022-02-08T14:01:14.113Z"
   },
   {
    "duration": 6,
    "start_time": "2022-02-08T14:01:14.140Z"
   },
   {
    "duration": 78,
    "start_time": "2022-02-08T14:01:14.147Z"
   },
   {
    "duration": 13,
    "start_time": "2022-02-08T14:01:14.227Z"
   },
   {
    "duration": 12,
    "start_time": "2022-02-08T14:01:14.241Z"
   },
   {
    "duration": 62,
    "start_time": "2022-02-08T14:01:14.255Z"
   },
   {
    "duration": 3,
    "start_time": "2022-02-08T14:01:14.319Z"
   },
   {
    "duration": 7,
    "start_time": "2022-02-08T14:01:14.324Z"
   },
   {
    "duration": 576,
    "start_time": "2022-02-08T14:01:14.336Z"
   },
   {
    "duration": 526,
    "start_time": "2022-02-08T14:01:14.915Z"
   },
   {
    "duration": 3,
    "start_time": "2022-02-08T14:01:15.443Z"
   },
   {
    "duration": 336,
    "start_time": "2022-02-08T14:01:15.448Z"
   },
   {
    "duration": 298,
    "start_time": "2022-02-08T14:01:15.786Z"
   },
   {
    "duration": 495,
    "start_time": "2022-02-08T14:01:16.086Z"
   },
   {
    "duration": 42,
    "start_time": "2022-02-08T14:01:16.583Z"
   },
   {
    "duration": 2161,
    "start_time": "2022-02-08T14:01:16.626Z"
   },
   {
    "duration": 6,
    "start_time": "2022-02-08T14:01:18.789Z"
   },
   {
    "duration": 37,
    "start_time": "2022-02-08T14:01:18.797Z"
   },
   {
    "duration": 2494,
    "start_time": "2022-02-08T14:01:18.836Z"
   },
   {
    "duration": 6,
    "start_time": "2022-02-08T14:01:21.333Z"
   },
   {
    "duration": 21,
    "start_time": "2022-02-08T14:01:21.341Z"
   },
   {
    "duration": 657,
    "start_time": "2022-02-08T14:01:21.364Z"
   },
   {
    "duration": 51,
    "start_time": "2022-02-08T14:01:22.023Z"
   },
   {
    "duration": 76,
    "start_time": "2022-02-08T14:01:22.076Z"
   },
   {
    "duration": 1139,
    "start_time": "2022-02-08T14:03:00.499Z"
   },
   {
    "duration": 112,
    "start_time": "2022-02-08T14:03:01.639Z"
   },
   {
    "duration": 16,
    "start_time": "2022-02-08T14:03:01.753Z"
   },
   {
    "duration": 10,
    "start_time": "2022-02-08T14:03:01.771Z"
   },
   {
    "duration": 11,
    "start_time": "2022-02-08T14:03:01.782Z"
   },
   {
    "duration": 19,
    "start_time": "2022-02-08T14:03:01.812Z"
   },
   {
    "duration": 42,
    "start_time": "2022-02-08T14:03:01.833Z"
   },
   {
    "duration": 10,
    "start_time": "2022-02-08T14:03:01.876Z"
   },
   {
    "duration": 17,
    "start_time": "2022-02-08T14:03:01.912Z"
   },
   {
    "duration": 53,
    "start_time": "2022-02-08T14:03:01.931Z"
   },
   {
    "duration": 144,
    "start_time": "2022-02-08T14:03:01.986Z"
   },
   {
    "duration": 6,
    "start_time": "2022-02-08T14:03:02.132Z"
   },
   {
    "duration": 8,
    "start_time": "2022-02-08T14:03:02.140Z"
   },
   {
    "duration": 6,
    "start_time": "2022-02-08T14:03:02.150Z"
   },
   {
    "duration": 16,
    "start_time": "2022-02-08T14:03:02.158Z"
   },
   {
    "duration": 5,
    "start_time": "2022-02-08T14:03:02.176Z"
   },
   {
    "duration": 24,
    "start_time": "2022-02-08T14:03:02.211Z"
   },
   {
    "duration": 5,
    "start_time": "2022-02-08T14:03:02.237Z"
   },
   {
    "duration": 19,
    "start_time": "2022-02-08T14:03:02.243Z"
   },
   {
    "duration": 5,
    "start_time": "2022-02-08T14:03:02.264Z"
   },
   {
    "duration": 81,
    "start_time": "2022-02-08T14:03:02.271Z"
   },
   {
    "duration": 15,
    "start_time": "2022-02-08T14:03:02.354Z"
   },
   {
    "duration": 11,
    "start_time": "2022-02-08T14:03:02.371Z"
   },
   {
    "duration": 73,
    "start_time": "2022-02-08T14:03:02.384Z"
   },
   {
    "duration": 4,
    "start_time": "2022-02-08T14:03:02.460Z"
   },
   {
    "duration": 10,
    "start_time": "2022-02-08T14:03:02.466Z"
   },
   {
    "duration": 562,
    "start_time": "2022-02-08T14:03:02.480Z"
   },
   {
    "duration": 504,
    "start_time": "2022-02-08T14:03:03.044Z"
   },
   {
    "duration": 4,
    "start_time": "2022-02-08T14:03:03.550Z"
   },
   {
    "duration": 329,
    "start_time": "2022-02-08T14:03:03.556Z"
   },
   {
    "duration": 295,
    "start_time": "2022-02-08T14:03:03.887Z"
   },
   {
    "duration": 483,
    "start_time": "2022-02-08T14:03:04.184Z"
   },
   {
    "duration": 43,
    "start_time": "2022-02-08T14:03:04.669Z"
   },
   {
    "duration": 2143,
    "start_time": "2022-02-08T14:03:04.714Z"
   },
   {
    "duration": 8,
    "start_time": "2022-02-08T14:03:06.859Z"
   },
   {
    "duration": 23,
    "start_time": "2022-02-08T14:03:06.869Z"
   },
   {
    "duration": 2316,
    "start_time": "2022-02-08T14:03:06.913Z"
   },
   {
    "duration": 5,
    "start_time": "2022-02-08T14:03:09.231Z"
   },
   {
    "duration": 19,
    "start_time": "2022-02-08T14:03:09.238Z"
   },
   {
    "duration": 672,
    "start_time": "2022-02-08T14:03:09.259Z"
   },
   {
    "duration": 48,
    "start_time": "2022-02-08T14:03:09.933Z"
   },
   {
    "duration": 31,
    "start_time": "2022-02-08T14:03:09.982Z"
   },
   {
    "duration": 719,
    "start_time": "2022-02-08T14:03:10.015Z"
   },
   {
    "duration": 374,
    "start_time": "2022-02-08T14:03:10.736Z"
   },
   {
    "duration": -83,
    "start_time": "2022-02-08T14:03:11.195Z"
   },
   {
    "duration": -84,
    "start_time": "2022-02-08T14:03:11.197Z"
   },
   {
    "duration": -85,
    "start_time": "2022-02-08T14:03:11.199Z"
   },
   {
    "duration": -87,
    "start_time": "2022-02-08T14:03:11.202Z"
   },
   {
    "duration": -88,
    "start_time": "2022-02-08T14:03:11.204Z"
   },
   {
    "duration": 11,
    "start_time": "2022-02-08T14:04:01.555Z"
   },
   {
    "duration": 14,
    "start_time": "2022-02-08T14:04:06.088Z"
   },
   {
    "duration": 246,
    "start_time": "2022-02-08T14:04:13.887Z"
   },
   {
    "duration": 6891,
    "start_time": "2022-02-08T14:04:38.296Z"
   },
   {
    "duration": 41,
    "start_time": "2022-02-08T14:06:20.156Z"
   },
   {
    "duration": 16,
    "start_time": "2022-02-08T14:06:20.800Z"
   },
   {
    "duration": 186,
    "start_time": "2022-02-08T14:06:21.460Z"
   },
   {
    "duration": 214,
    "start_time": "2022-02-08T14:06:22.108Z"
   },
   {
    "duration": 6945,
    "start_time": "2022-02-08T14:06:31.836Z"
   },
   {
    "duration": 63,
    "start_time": "2022-02-08T14:10:05.708Z"
   },
   {
    "duration": 83,
    "start_time": "2022-02-08T14:10:06.040Z"
   },
   {
    "duration": 3,
    "start_time": "2022-02-08T14:10:06.348Z"
   },
   {
    "duration": 109,
    "start_time": "2022-02-08T14:11:18.640Z"
   },
   {
    "duration": 14,
    "start_time": "2022-02-08T14:12:22.829Z"
   },
   {
    "duration": 38,
    "start_time": "2022-02-08T14:19:09.227Z"
   },
   {
    "duration": 76,
    "start_time": "2022-02-08T14:19:52.360Z"
   },
   {
    "duration": 35,
    "start_time": "2022-02-08T14:20:01.756Z"
   },
   {
    "duration": 35,
    "start_time": "2022-02-08T14:21:04.808Z"
   },
   {
    "duration": 37,
    "start_time": "2022-02-08T14:21:10.146Z"
   },
   {
    "duration": 289,
    "start_time": "2022-02-08T14:21:20.787Z"
   },
   {
    "duration": 37,
    "start_time": "2022-02-08T14:21:32.687Z"
   },
   {
    "duration": 276,
    "start_time": "2022-02-08T14:21:49.787Z"
   },
   {
    "duration": 34,
    "start_time": "2022-02-08T14:21:58.279Z"
   },
   {
    "duration": 38,
    "start_time": "2022-02-08T14:22:10.399Z"
   },
   {
    "duration": 289,
    "start_time": "2022-02-08T14:22:18.115Z"
   },
   {
    "duration": 258,
    "start_time": "2022-02-08T14:22:23.679Z"
   },
   {
    "duration": 36,
    "start_time": "2022-02-08T14:22:32.616Z"
   },
   {
    "duration": 33,
    "start_time": "2022-02-08T14:22:40.307Z"
   },
   {
    "duration": 65,
    "start_time": "2022-02-08T14:39:46.362Z"
   },
   {
    "duration": 69,
    "start_time": "2022-02-08T14:41:47.914Z"
   },
   {
    "duration": 63,
    "start_time": "2022-02-08T14:42:02.786Z"
   },
   {
    "duration": 58,
    "start_time": "2022-02-08T14:45:45.227Z"
   },
   {
    "duration": 61,
    "start_time": "2022-02-08T14:45:49.726Z"
   },
   {
    "duration": 61,
    "start_time": "2022-02-08T14:46:01.528Z"
   },
   {
    "duration": 1132,
    "start_time": "2022-02-08T14:46:06.917Z"
   },
   {
    "duration": 110,
    "start_time": "2022-02-08T14:46:08.050Z"
   },
   {
    "duration": 18,
    "start_time": "2022-02-08T14:46:08.162Z"
   },
   {
    "duration": 10,
    "start_time": "2022-02-08T14:46:08.183Z"
   },
   {
    "duration": 33,
    "start_time": "2022-02-08T14:46:08.194Z"
   },
   {
    "duration": 21,
    "start_time": "2022-02-08T14:46:08.229Z"
   },
   {
    "duration": 34,
    "start_time": "2022-02-08T14:46:08.251Z"
   },
   {
    "duration": 42,
    "start_time": "2022-02-08T14:46:08.287Z"
   },
   {
    "duration": 16,
    "start_time": "2022-02-08T14:46:08.332Z"
   },
   {
    "duration": 45,
    "start_time": "2022-02-08T14:46:08.350Z"
   },
   {
    "duration": 132,
    "start_time": "2022-02-08T14:46:08.397Z"
   },
   {
    "duration": 5,
    "start_time": "2022-02-08T14:46:08.531Z"
   },
   {
    "duration": 4,
    "start_time": "2022-02-08T14:46:08.537Z"
   },
   {
    "duration": 5,
    "start_time": "2022-02-08T14:46:08.542Z"
   },
   {
    "duration": 16,
    "start_time": "2022-02-08T14:46:08.548Z"
   },
   {
    "duration": 5,
    "start_time": "2022-02-08T14:46:08.565Z"
   },
   {
    "duration": 23,
    "start_time": "2022-02-08T14:46:08.571Z"
   },
   {
    "duration": 3,
    "start_time": "2022-02-08T14:46:08.596Z"
   },
   {
    "duration": 33,
    "start_time": "2022-02-08T14:46:08.601Z"
   },
   {
    "duration": 5,
    "start_time": "2022-02-08T14:46:08.635Z"
   },
   {
    "duration": 48,
    "start_time": "2022-02-08T14:46:08.641Z"
   },
   {
    "duration": 12,
    "start_time": "2022-02-08T14:46:08.691Z"
   },
   {
    "duration": 15,
    "start_time": "2022-02-08T14:46:08.704Z"
   },
   {
    "duration": 41,
    "start_time": "2022-02-08T14:46:08.720Z"
   },
   {
    "duration": 3,
    "start_time": "2022-02-08T14:46:08.763Z"
   },
   {
    "duration": 5,
    "start_time": "2022-02-08T14:46:08.768Z"
   },
   {
    "duration": 550,
    "start_time": "2022-02-08T14:46:08.777Z"
   },
   {
    "duration": 661,
    "start_time": "2022-02-08T14:46:09.329Z"
   },
   {
    "duration": 3,
    "start_time": "2022-02-08T14:46:09.991Z"
   },
   {
    "duration": 350,
    "start_time": "2022-02-08T14:46:09.996Z"
   },
   {
    "duration": 343,
    "start_time": "2022-02-08T14:46:10.347Z"
   },
   {
    "duration": 489,
    "start_time": "2022-02-08T14:46:10.692Z"
   },
   {
    "duration": 46,
    "start_time": "2022-02-08T14:46:11.183Z"
   },
   {
    "duration": 2211,
    "start_time": "2022-02-08T14:46:11.232Z"
   },
   {
    "duration": 6,
    "start_time": "2022-02-08T14:46:13.445Z"
   },
   {
    "duration": 22,
    "start_time": "2022-02-08T14:46:13.452Z"
   },
   {
    "duration": 2354,
    "start_time": "2022-02-08T14:46:13.476Z"
   },
   {
    "duration": 5,
    "start_time": "2022-02-08T14:46:15.831Z"
   },
   {
    "duration": 18,
    "start_time": "2022-02-08T14:46:15.837Z"
   },
   {
    "duration": 86,
    "start_time": "2022-02-08T14:46:15.856Z"
   },
   {
    "duration": 71,
    "start_time": "2022-02-08T14:46:15.944Z"
   },
   {
    "duration": 16,
    "start_time": "2022-02-08T14:46:16.017Z"
   },
   {
    "duration": 193,
    "start_time": "2022-02-08T14:46:16.035Z"
   },
   {
    "duration": 330,
    "start_time": "2022-02-08T14:46:16.230Z"
   },
   {
    "duration": -95,
    "start_time": "2022-02-08T14:46:16.657Z"
   },
   {
    "duration": -96,
    "start_time": "2022-02-08T14:46:16.659Z"
   },
   {
    "duration": -95,
    "start_time": "2022-02-08T14:46:16.660Z"
   },
   {
    "duration": -95,
    "start_time": "2022-02-08T14:46:16.661Z"
   },
   {
    "duration": -96,
    "start_time": "2022-02-08T14:46:16.663Z"
   },
   {
    "duration": -97,
    "start_time": "2022-02-08T14:46:16.665Z"
   },
   {
    "duration": 62,
    "start_time": "2022-02-08T14:46:21.741Z"
   },
   {
    "duration": 69,
    "start_time": "2022-02-08T14:46:38.393Z"
   },
   {
    "duration": 64,
    "start_time": "2022-02-08T14:46:41.893Z"
   },
   {
    "duration": 62,
    "start_time": "2022-02-08T14:46:45.817Z"
   },
   {
    "duration": 236,
    "start_time": "2022-02-08T14:50:19.913Z"
   },
   {
    "duration": 22,
    "start_time": "2022-02-08T14:50:30.145Z"
   },
   {
    "duration": 26,
    "start_time": "2022-02-08T14:50:52.925Z"
   },
   {
    "duration": 67,
    "start_time": "2022-02-08T14:52:10.065Z"
   },
   {
    "duration": 96,
    "start_time": "2022-02-08T14:52:15.665Z"
   },
   {
    "duration": 58,
    "start_time": "2022-02-08T14:55:40.145Z"
   },
   {
    "duration": 58,
    "start_time": "2022-02-08T14:56:06.745Z"
   },
   {
    "duration": 66,
    "start_time": "2022-02-08T14:56:11.905Z"
   },
   {
    "duration": 230,
    "start_time": "2022-02-08T14:56:53.345Z"
   },
   {
    "duration": 25,
    "start_time": "2022-02-08T14:57:03.753Z"
   },
   {
    "duration": 2338,
    "start_time": "2022-02-08T15:01:28.833Z"
   },
   {
    "duration": 2429,
    "start_time": "2022-02-08T15:01:50.255Z"
   },
   {
    "duration": 1176,
    "start_time": "2022-02-08T15:10:00.481Z"
   },
   {
    "duration": 106,
    "start_time": "2022-02-08T15:10:01.659Z"
   },
   {
    "duration": 17,
    "start_time": "2022-02-08T15:10:01.767Z"
   },
   {
    "duration": 10,
    "start_time": "2022-02-08T15:10:01.786Z"
   },
   {
    "duration": 10,
    "start_time": "2022-02-08T15:10:01.817Z"
   },
   {
    "duration": 30,
    "start_time": "2022-02-08T15:10:01.829Z"
   },
   {
    "duration": 36,
    "start_time": "2022-02-08T15:10:01.861Z"
   },
   {
    "duration": 14,
    "start_time": "2022-02-08T15:10:01.900Z"
   },
   {
    "duration": 22,
    "start_time": "2022-02-08T15:10:01.917Z"
   },
   {
    "duration": 50,
    "start_time": "2022-02-08T15:10:01.940Z"
   },
   {
    "duration": 154,
    "start_time": "2022-02-08T15:10:01.991Z"
   },
   {
    "duration": 5,
    "start_time": "2022-02-08T15:10:02.147Z"
   },
   {
    "duration": 5,
    "start_time": "2022-02-08T15:10:02.153Z"
   },
   {
    "duration": 8,
    "start_time": "2022-02-08T15:10:02.159Z"
   },
   {
    "duration": 16,
    "start_time": "2022-02-08T15:10:02.169Z"
   },
   {
    "duration": 32,
    "start_time": "2022-02-08T15:10:02.186Z"
   },
   {
    "duration": 31,
    "start_time": "2022-02-08T15:10:02.225Z"
   },
   {
    "duration": 5,
    "start_time": "2022-02-08T15:10:02.258Z"
   },
   {
    "duration": 18,
    "start_time": "2022-02-08T15:10:02.265Z"
   },
   {
    "duration": 6,
    "start_time": "2022-02-08T15:10:02.285Z"
   },
   {
    "duration": 79,
    "start_time": "2022-02-08T15:10:02.292Z"
   },
   {
    "duration": 14,
    "start_time": "2022-02-08T15:10:02.373Z"
   },
   {
    "duration": 41,
    "start_time": "2022-02-08T15:10:02.391Z"
   },
   {
    "duration": 42,
    "start_time": "2022-02-08T15:10:02.435Z"
   },
   {
    "duration": 3,
    "start_time": "2022-02-08T15:10:02.479Z"
   },
   {
    "duration": 17,
    "start_time": "2022-02-08T15:10:02.484Z"
   },
   {
    "duration": 575,
    "start_time": "2022-02-08T15:10:02.503Z"
   },
   {
    "duration": 556,
    "start_time": "2022-02-08T15:10:03.079Z"
   },
   {
    "duration": 3,
    "start_time": "2022-02-08T15:10:03.637Z"
   },
   {
    "duration": 354,
    "start_time": "2022-02-08T15:10:03.642Z"
   },
   {
    "duration": 299,
    "start_time": "2022-02-08T15:10:03.998Z"
   },
   {
    "duration": 491,
    "start_time": "2022-02-08T15:10:04.299Z"
   },
   {
    "duration": 42,
    "start_time": "2022-02-08T15:10:04.791Z"
   },
   {
    "duration": 2192,
    "start_time": "2022-02-08T15:10:04.835Z"
   },
   {
    "duration": 6,
    "start_time": "2022-02-08T15:10:07.029Z"
   },
   {
    "duration": 21,
    "start_time": "2022-02-08T15:10:07.037Z"
   },
   {
    "duration": 2398,
    "start_time": "2022-02-08T15:10:07.060Z"
   },
   {
    "duration": 5,
    "start_time": "2022-02-08T15:10:09.460Z"
   },
   {
    "duration": 18,
    "start_time": "2022-02-08T15:10:09.466Z"
   },
   {
    "duration": 103,
    "start_time": "2022-02-08T15:10:09.485Z"
   },
   {
    "duration": 80,
    "start_time": "2022-02-08T15:10:09.590Z"
   },
   {
    "duration": 26,
    "start_time": "2022-02-08T15:10:09.672Z"
   },
   {
    "duration": 77,
    "start_time": "2022-02-08T15:10:09.699Z"
   },
   {
    "duration": 47,
    "start_time": "2022-02-08T15:10:09.778Z"
   },
   {
    "duration": 2260,
    "start_time": "2022-02-08T15:10:09.827Z"
   },
   {
    "duration": 322,
    "start_time": "2022-02-08T15:10:12.088Z"
   },
   {
    "duration": -89,
    "start_time": "2022-02-08T15:10:12.502Z"
   },
   {
    "duration": -90,
    "start_time": "2022-02-08T15:10:12.504Z"
   },
   {
    "duration": -99,
    "start_time": "2022-02-08T15:10:12.515Z"
   },
   {
    "duration": -104,
    "start_time": "2022-02-08T15:10:12.521Z"
   },
   {
    "duration": -103,
    "start_time": "2022-02-08T15:10:12.522Z"
   },
   {
    "duration": 2179,
    "start_time": "2022-02-08T15:13:36.195Z"
   },
   {
    "duration": 2205,
    "start_time": "2022-02-08T15:14:04.252Z"
   },
   {
    "duration": 2125,
    "start_time": "2022-02-08T15:14:19.159Z"
   },
   {
    "duration": 65,
    "start_time": "2022-02-08T15:14:54.116Z"
   },
   {
    "duration": 74,
    "start_time": "2022-02-08T15:14:59.606Z"
   },
   {
    "duration": 69,
    "start_time": "2022-02-08T15:15:36.909Z"
   },
   {
    "duration": 61,
    "start_time": "2022-02-08T15:15:48.116Z"
   },
   {
    "duration": 1164,
    "start_time": "2022-02-08T15:16:01.292Z"
   },
   {
    "duration": 109,
    "start_time": "2022-02-08T15:16:02.458Z"
   },
   {
    "duration": 23,
    "start_time": "2022-02-08T15:16:02.569Z"
   },
   {
    "duration": 32,
    "start_time": "2022-02-08T15:16:02.595Z"
   },
   {
    "duration": 12,
    "start_time": "2022-02-08T15:16:02.630Z"
   },
   {
    "duration": 24,
    "start_time": "2022-02-08T15:16:02.644Z"
   },
   {
    "duration": 55,
    "start_time": "2022-02-08T15:16:02.670Z"
   },
   {
    "duration": 12,
    "start_time": "2022-02-08T15:16:02.729Z"
   },
   {
    "duration": 23,
    "start_time": "2022-02-08T15:16:02.744Z"
   },
   {
    "duration": 73,
    "start_time": "2022-02-08T15:16:02.769Z"
   },
   {
    "duration": 148,
    "start_time": "2022-02-08T15:16:02.844Z"
   },
   {
    "duration": 5,
    "start_time": "2022-02-08T15:16:02.994Z"
   },
   {
    "duration": 16,
    "start_time": "2022-02-08T15:16:03.001Z"
   },
   {
    "duration": 5,
    "start_time": "2022-02-08T15:16:03.019Z"
   },
   {
    "duration": 18,
    "start_time": "2022-02-08T15:16:03.026Z"
   },
   {
    "duration": 4,
    "start_time": "2022-02-08T15:16:03.046Z"
   },
   {
    "duration": 64,
    "start_time": "2022-02-08T15:16:03.052Z"
   },
   {
    "duration": 7,
    "start_time": "2022-02-08T15:16:03.118Z"
   },
   {
    "duration": 18,
    "start_time": "2022-02-08T15:16:03.128Z"
   },
   {
    "duration": 5,
    "start_time": "2022-02-08T15:16:03.147Z"
   },
   {
    "duration": 75,
    "start_time": "2022-02-08T15:16:03.154Z"
   },
   {
    "duration": 13,
    "start_time": "2022-02-08T15:16:03.231Z"
   },
   {
    "duration": 10,
    "start_time": "2022-02-08T15:16:03.247Z"
   },
   {
    "duration": 71,
    "start_time": "2022-02-08T15:16:03.259Z"
   },
   {
    "duration": 4,
    "start_time": "2022-02-08T15:16:03.331Z"
   },
   {
    "duration": 5,
    "start_time": "2022-02-08T15:16:03.337Z"
   },
   {
    "duration": 586,
    "start_time": "2022-02-08T15:16:03.344Z"
   },
   {
    "duration": 543,
    "start_time": "2022-02-08T15:16:03.932Z"
   },
   {
    "duration": 3,
    "start_time": "2022-02-08T15:16:04.477Z"
   },
   {
    "duration": 345,
    "start_time": "2022-02-08T15:16:04.482Z"
   },
   {
    "duration": 311,
    "start_time": "2022-02-08T15:16:04.829Z"
   },
   {
    "duration": 532,
    "start_time": "2022-02-08T15:16:05.142Z"
   },
   {
    "duration": 61,
    "start_time": "2022-02-08T15:16:05.677Z"
   },
   {
    "duration": 2343,
    "start_time": "2022-02-08T15:16:05.740Z"
   },
   {
    "duration": 8,
    "start_time": "2022-02-08T15:16:08.085Z"
   },
   {
    "duration": 42,
    "start_time": "2022-02-08T15:16:08.095Z"
   },
   {
    "duration": 2442,
    "start_time": "2022-02-08T15:16:08.139Z"
   },
   {
    "duration": 6,
    "start_time": "2022-02-08T15:16:10.583Z"
   },
   {
    "duration": 38,
    "start_time": "2022-02-08T15:16:10.591Z"
   },
   {
    "duration": 92,
    "start_time": "2022-02-08T15:16:10.632Z"
   },
   {
    "duration": 63,
    "start_time": "2022-02-08T15:16:10.727Z"
   },
   {
    "duration": 47,
    "start_time": "2022-02-08T15:16:10.792Z"
   },
   {
    "duration": 79,
    "start_time": "2022-02-08T15:16:10.840Z"
   },
   {
    "duration": 31,
    "start_time": "2022-02-08T15:16:10.921Z"
   },
   {
    "duration": 2291,
    "start_time": "2022-02-08T15:16:10.954Z"
   },
   {
    "duration": 81,
    "start_time": "2022-02-08T15:16:13.247Z"
   },
   {
    "duration": 489,
    "start_time": "2022-02-08T15:16:13.330Z"
   },
   {
    "duration": -127,
    "start_time": "2022-02-08T15:16:13.948Z"
   },
   {
    "duration": -126,
    "start_time": "2022-02-08T15:16:13.950Z"
   },
   {
    "duration": 69,
    "start_time": "2022-02-08T15:18:33.295Z"
   },
   {
    "duration": 65,
    "start_time": "2022-02-08T15:18:42.864Z"
   },
   {
    "duration": 71,
    "start_time": "2022-02-08T15:19:03.556Z"
   },
   {
    "duration": 358,
    "start_time": "2022-02-08T15:21:45.190Z"
   },
   {
    "duration": 407,
    "start_time": "2022-02-08T15:22:30.768Z"
   },
   {
    "duration": 1109,
    "start_time": "2022-02-08T15:24:10.341Z"
   },
   {
    "duration": 104,
    "start_time": "2022-02-08T15:24:11.452Z"
   },
   {
    "duration": 17,
    "start_time": "2022-02-08T15:24:11.558Z"
   },
   {
    "duration": 9,
    "start_time": "2022-02-08T15:24:11.577Z"
   },
   {
    "duration": 24,
    "start_time": "2022-02-08T15:24:11.588Z"
   },
   {
    "duration": 21,
    "start_time": "2022-02-08T15:24:11.614Z"
   },
   {
    "duration": 36,
    "start_time": "2022-02-08T15:24:11.636Z"
   },
   {
    "duration": 10,
    "start_time": "2022-02-08T15:24:11.674Z"
   },
   {
    "duration": 38,
    "start_time": "2022-02-08T15:24:11.686Z"
   },
   {
    "duration": 49,
    "start_time": "2022-02-08T15:24:11.725Z"
   },
   {
    "duration": 143,
    "start_time": "2022-02-08T15:24:11.775Z"
   },
   {
    "duration": 5,
    "start_time": "2022-02-08T15:24:11.920Z"
   },
   {
    "duration": 4,
    "start_time": "2022-02-08T15:24:11.927Z"
   },
   {
    "duration": 5,
    "start_time": "2022-02-08T15:24:11.932Z"
   },
   {
    "duration": 16,
    "start_time": "2022-02-08T15:24:11.938Z"
   },
   {
    "duration": 4,
    "start_time": "2022-02-08T15:24:11.956Z"
   },
   {
    "duration": 59,
    "start_time": "2022-02-08T15:24:11.961Z"
   },
   {
    "duration": 4,
    "start_time": "2022-02-08T15:24:12.022Z"
   },
   {
    "duration": 18,
    "start_time": "2022-02-08T15:24:12.028Z"
   },
   {
    "duration": 4,
    "start_time": "2022-02-08T15:24:12.048Z"
   },
   {
    "duration": 78,
    "start_time": "2022-02-08T15:24:12.053Z"
   },
   {
    "duration": 13,
    "start_time": "2022-02-08T15:24:12.132Z"
   },
   {
    "duration": 10,
    "start_time": "2022-02-08T15:24:12.148Z"
   },
   {
    "duration": 63,
    "start_time": "2022-02-08T15:24:12.160Z"
   },
   {
    "duration": 4,
    "start_time": "2022-02-08T15:24:12.225Z"
   },
   {
    "duration": 5,
    "start_time": "2022-02-08T15:24:12.230Z"
   },
   {
    "duration": 551,
    "start_time": "2022-02-08T15:24:12.237Z"
   },
   {
    "duration": 507,
    "start_time": "2022-02-08T15:24:12.790Z"
   },
   {
    "duration": 3,
    "start_time": "2022-02-08T15:24:13.298Z"
   },
   {
    "duration": 335,
    "start_time": "2022-02-08T15:24:13.303Z"
   },
   {
    "duration": 287,
    "start_time": "2022-02-08T15:24:13.640Z"
   },
   {
    "duration": 488,
    "start_time": "2022-02-08T15:24:13.928Z"
   },
   {
    "duration": 32,
    "start_time": "2022-02-08T15:24:14.418Z"
   },
   {
    "duration": 2187,
    "start_time": "2022-02-08T15:24:14.452Z"
   },
   {
    "duration": 7,
    "start_time": "2022-02-08T15:24:16.641Z"
   },
   {
    "duration": 24,
    "start_time": "2022-02-08T15:24:16.649Z"
   },
   {
    "duration": 2370,
    "start_time": "2022-02-08T15:24:16.675Z"
   },
   {
    "duration": 7,
    "start_time": "2022-02-08T15:24:19.048Z"
   },
   {
    "duration": 18,
    "start_time": "2022-02-08T15:24:19.057Z"
   },
   {
    "duration": 114,
    "start_time": "2022-02-08T15:24:19.077Z"
   },
   {
    "duration": 74,
    "start_time": "2022-02-08T15:24:19.193Z"
   },
   {
    "duration": 25,
    "start_time": "2022-02-08T15:24:19.269Z"
   },
   {
    "duration": 74,
    "start_time": "2022-02-08T15:24:19.295Z"
   },
   {
    "duration": 26,
    "start_time": "2022-02-08T15:24:19.371Z"
   },
   {
    "duration": 2185,
    "start_time": "2022-02-08T15:24:19.412Z"
   },
   {
    "duration": 79,
    "start_time": "2022-02-08T15:24:21.600Z"
   },
   {
    "duration": 412,
    "start_time": "2022-02-08T15:24:21.682Z"
   },
   {
    "duration": 448,
    "start_time": "2022-02-08T15:26:39.317Z"
   },
   {
    "duration": 471,
    "start_time": "2022-02-08T15:27:11.782Z"
   },
   {
    "duration": 548,
    "start_time": "2022-02-08T15:27:17.805Z"
   },
   {
    "duration": 446,
    "start_time": "2022-02-08T15:30:59.777Z"
   },
   {
    "duration": 474,
    "start_time": "2022-02-08T15:31:24.557Z"
   },
   {
    "duration": 333,
    "start_time": "2022-02-08T15:33:59.412Z"
   },
   {
    "duration": 472,
    "start_time": "2022-02-08T15:34:07.766Z"
   },
   {
    "duration": 507,
    "start_time": "2022-02-08T15:34:37.391Z"
   },
   {
    "duration": 450,
    "start_time": "2022-02-08T15:34:48.639Z"
   },
   {
    "duration": 453,
    "start_time": "2022-02-08T15:36:34.031Z"
   },
   {
    "duration": 273,
    "start_time": "2022-02-08T15:36:56.626Z"
   },
   {
    "duration": 459,
    "start_time": "2022-02-08T15:37:45.262Z"
   },
   {
    "duration": 675,
    "start_time": "2022-02-08T15:39:12.001Z"
   },
   {
    "duration": 472,
    "start_time": "2022-02-08T15:39:16.834Z"
   },
   {
    "duration": 560,
    "start_time": "2022-02-08T15:39:37.358Z"
   },
   {
    "duration": 244,
    "start_time": "2022-02-08T15:43:17.307Z"
   },
   {
    "duration": 234,
    "start_time": "2022-02-08T15:43:49.605Z"
   },
   {
    "duration": 1516,
    "start_time": "2022-02-08T15:44:14.709Z"
   },
   {
    "duration": 935,
    "start_time": "2022-02-08T15:45:12.279Z"
   },
   {
    "duration": 354,
    "start_time": "2022-02-08T15:47:53.607Z"
   },
   {
    "duration": 382,
    "start_time": "2022-02-08T15:48:25.774Z"
   },
   {
    "duration": 209,
    "start_time": "2022-02-08T15:49:01.278Z"
   },
   {
    "duration": 14,
    "start_time": "2022-02-08T15:52:19.173Z"
   },
   {
    "duration": 22,
    "start_time": "2022-02-08T15:52:22.477Z"
   },
   {
    "duration": 23,
    "start_time": "2022-02-08T15:52:50.093Z"
   },
   {
    "duration": 24,
    "start_time": "2022-02-08T15:53:19.005Z"
   },
   {
    "duration": 285,
    "start_time": "2022-02-08T15:53:32.941Z"
   },
   {
    "duration": 4,
    "start_time": "2022-02-08T16:22:06.238Z"
   },
   {
    "duration": 21,
    "start_time": "2022-02-08T16:22:55.170Z"
   },
   {
    "duration": 1132,
    "start_time": "2022-02-08T16:24:31.118Z"
   },
   {
    "duration": 116,
    "start_time": "2022-02-08T16:24:32.251Z"
   },
   {
    "duration": 17,
    "start_time": "2022-02-08T16:24:32.369Z"
   },
   {
    "duration": 11,
    "start_time": "2022-02-08T16:24:32.387Z"
   },
   {
    "duration": 20,
    "start_time": "2022-02-08T16:24:32.400Z"
   },
   {
    "duration": 24,
    "start_time": "2022-02-08T16:24:32.422Z"
   },
   {
    "duration": 64,
    "start_time": "2022-02-08T16:24:32.449Z"
   },
   {
    "duration": 9,
    "start_time": "2022-02-08T16:24:32.517Z"
   },
   {
    "duration": 18,
    "start_time": "2022-02-08T16:24:32.528Z"
   },
   {
    "duration": 64,
    "start_time": "2022-02-08T16:24:32.548Z"
   },
   {
    "duration": 161,
    "start_time": "2022-02-08T16:24:32.614Z"
   },
   {
    "duration": 5,
    "start_time": "2022-02-08T16:24:32.777Z"
   },
   {
    "duration": 11,
    "start_time": "2022-02-08T16:24:32.784Z"
   },
   {
    "duration": 4,
    "start_time": "2022-02-08T16:24:32.797Z"
   },
   {
    "duration": 15,
    "start_time": "2022-02-08T16:24:32.812Z"
   },
   {
    "duration": 5,
    "start_time": "2022-02-08T16:24:32.829Z"
   },
   {
    "duration": 26,
    "start_time": "2022-02-08T16:24:32.835Z"
   },
   {
    "duration": 4,
    "start_time": "2022-02-08T16:24:32.862Z"
   },
   {
    "duration": 46,
    "start_time": "2022-02-08T16:24:32.868Z"
   },
   {
    "duration": 6,
    "start_time": "2022-02-08T16:24:32.917Z"
   },
   {
    "duration": 53,
    "start_time": "2022-02-08T16:24:32.925Z"
   },
   {
    "duration": 33,
    "start_time": "2022-02-08T16:24:32.980Z"
   },
   {
    "duration": 11,
    "start_time": "2022-02-08T16:24:33.016Z"
   },
   {
    "duration": 44,
    "start_time": "2022-02-08T16:24:33.029Z"
   },
   {
    "duration": 4,
    "start_time": "2022-02-08T16:24:33.074Z"
   },
   {
    "duration": 7,
    "start_time": "2022-02-08T16:24:33.079Z"
   },
   {
    "duration": 565,
    "start_time": "2022-02-08T16:24:33.087Z"
   },
   {
    "duration": 520,
    "start_time": "2022-02-08T16:24:33.654Z"
   },
   {
    "duration": 2,
    "start_time": "2022-02-08T16:24:34.176Z"
   },
   {
    "duration": 324,
    "start_time": "2022-02-08T16:24:34.180Z"
   },
   {
    "duration": 288,
    "start_time": "2022-02-08T16:24:34.507Z"
   },
   {
    "duration": 502,
    "start_time": "2022-02-08T16:24:34.798Z"
   },
   {
    "duration": 36,
    "start_time": "2022-02-08T16:24:35.301Z"
   },
   {
    "duration": 2139,
    "start_time": "2022-02-08T16:24:35.338Z"
   },
   {
    "duration": 6,
    "start_time": "2022-02-08T16:24:37.478Z"
   },
   {
    "duration": 40,
    "start_time": "2022-02-08T16:24:37.485Z"
   },
   {
    "duration": 2270,
    "start_time": "2022-02-08T16:24:37.527Z"
   },
   {
    "duration": 14,
    "start_time": "2022-02-08T16:24:39.799Z"
   },
   {
    "duration": 28,
    "start_time": "2022-02-08T16:24:39.815Z"
   },
   {
    "duration": 94,
    "start_time": "2022-02-08T16:24:39.845Z"
   },
   {
    "duration": 63,
    "start_time": "2022-02-08T16:24:39.941Z"
   },
   {
    "duration": 30,
    "start_time": "2022-02-08T16:24:40.006Z"
   },
   {
    "duration": 80,
    "start_time": "2022-02-08T16:24:40.038Z"
   },
   {
    "duration": 27,
    "start_time": "2022-02-08T16:24:40.119Z"
   },
   {
    "duration": 2181,
    "start_time": "2022-02-08T16:24:40.157Z"
   },
   {
    "duration": 80,
    "start_time": "2022-02-08T16:24:42.341Z"
   },
   {
    "duration": 491,
    "start_time": "2022-02-08T16:24:42.422Z"
   },
   {
    "duration": 222,
    "start_time": "2022-02-08T16:24:42.915Z"
   },
   {
    "duration": 24,
    "start_time": "2022-02-08T16:24:43.139Z"
   },
   {
    "duration": 320,
    "start_time": "2022-02-08T16:24:43.164Z"
   },
   {
    "duration": 12,
    "start_time": "2022-02-08T16:24:43.485Z"
   },
   {
    "duration": 13,
    "start_time": "2022-02-08T16:25:39.992Z"
   },
   {
    "duration": 23,
    "start_time": "2022-02-08T16:32:23.521Z"
   },
   {
    "duration": 13,
    "start_time": "2022-02-08T16:32:56.719Z"
   },
   {
    "duration": 370,
    "start_time": "2022-02-08T16:33:44.919Z"
   },
   {
    "duration": 296,
    "start_time": "2022-02-08T16:34:31.678Z"
   },
   {
    "duration": 593,
    "start_time": "2022-02-08T16:35:10.726Z"
   },
   {
    "duration": 298,
    "start_time": "2022-02-08T16:35:44.151Z"
   },
   {
    "duration": 676,
    "start_time": "2022-02-08T16:35:54.558Z"
   },
   {
    "duration": 649,
    "start_time": "2022-02-08T16:36:01.142Z"
   },
   {
    "duration": 784,
    "start_time": "2022-02-08T16:36:27.899Z"
   },
   {
    "duration": 489,
    "start_time": "2022-02-08T16:36:34.275Z"
   },
   {
    "duration": 425,
    "start_time": "2022-02-08T16:38:39.459Z"
   },
   {
    "duration": 416,
    "start_time": "2022-02-08T16:38:56.272Z"
   },
   {
    "duration": 1083,
    "start_time": "2022-02-08T16:40:51.752Z"
   },
   {
    "duration": 108,
    "start_time": "2022-02-08T16:40:52.836Z"
   },
   {
    "duration": 16,
    "start_time": "2022-02-08T16:40:52.946Z"
   },
   {
    "duration": 9,
    "start_time": "2022-02-08T16:40:52.964Z"
   },
   {
    "duration": 9,
    "start_time": "2022-02-08T16:40:52.975Z"
   },
   {
    "duration": 37,
    "start_time": "2022-02-08T16:40:52.986Z"
   },
   {
    "duration": 32,
    "start_time": "2022-02-08T16:40:53.025Z"
   },
   {
    "duration": 9,
    "start_time": "2022-02-08T16:40:53.059Z"
   },
   {
    "duration": 17,
    "start_time": "2022-02-08T16:40:53.070Z"
   },
   {
    "duration": 45,
    "start_time": "2022-02-08T16:40:53.111Z"
   },
   {
    "duration": 140,
    "start_time": "2022-02-08T16:40:53.158Z"
   },
   {
    "duration": 15,
    "start_time": "2022-02-08T16:40:53.300Z"
   },
   {
    "duration": 5,
    "start_time": "2022-02-08T16:40:53.317Z"
   },
   {
    "duration": 5,
    "start_time": "2022-02-08T16:40:53.324Z"
   },
   {
    "duration": 16,
    "start_time": "2022-02-08T16:40:53.330Z"
   },
   {
    "duration": 5,
    "start_time": "2022-02-08T16:40:53.348Z"
   },
   {
    "duration": 64,
    "start_time": "2022-02-08T16:40:53.355Z"
   },
   {
    "duration": 5,
    "start_time": "2022-02-08T16:40:53.420Z"
   },
   {
    "duration": 17,
    "start_time": "2022-02-08T16:40:53.427Z"
   },
   {
    "duration": 6,
    "start_time": "2022-02-08T16:40:53.445Z"
   },
   {
    "duration": 79,
    "start_time": "2022-02-08T16:40:53.453Z"
   },
   {
    "duration": 13,
    "start_time": "2022-02-08T16:40:53.534Z"
   },
   {
    "duration": 10,
    "start_time": "2022-02-08T16:40:53.551Z"
   },
   {
    "duration": 71,
    "start_time": "2022-02-08T16:40:53.564Z"
   },
   {
    "duration": 3,
    "start_time": "2022-02-08T16:40:53.637Z"
   },
   {
    "duration": 6,
    "start_time": "2022-02-08T16:40:53.641Z"
   },
   {
    "duration": 544,
    "start_time": "2022-02-08T16:40:53.649Z"
   },
   {
    "duration": 492,
    "start_time": "2022-02-08T16:40:54.195Z"
   },
   {
    "duration": 3,
    "start_time": "2022-02-08T16:40:54.689Z"
   },
   {
    "duration": 325,
    "start_time": "2022-02-08T16:40:54.693Z"
   },
   {
    "duration": 287,
    "start_time": "2022-02-08T16:40:55.020Z"
   },
   {
    "duration": 480,
    "start_time": "2022-02-08T16:40:55.309Z"
   },
   {
    "duration": 42,
    "start_time": "2022-02-08T16:40:55.791Z"
   },
   {
    "duration": 2096,
    "start_time": "2022-02-08T16:40:55.835Z"
   },
   {
    "duration": 6,
    "start_time": "2022-02-08T16:40:57.932Z"
   },
   {
    "duration": 22,
    "start_time": "2022-02-08T16:40:57.939Z"
   },
   {
    "duration": 2247,
    "start_time": "2022-02-08T16:40:57.962Z"
   },
   {
    "duration": 5,
    "start_time": "2022-02-08T16:41:00.212Z"
   },
   {
    "duration": 30,
    "start_time": "2022-02-08T16:41:00.219Z"
   },
   {
    "duration": 92,
    "start_time": "2022-02-08T16:41:00.252Z"
   },
   {
    "duration": 69,
    "start_time": "2022-02-08T16:41:00.345Z"
   },
   {
    "duration": 24,
    "start_time": "2022-02-08T16:41:00.416Z"
   },
   {
    "duration": 85,
    "start_time": "2022-02-08T16:41:00.441Z"
   },
   {
    "duration": 25,
    "start_time": "2022-02-08T16:41:00.527Z"
   },
   {
    "duration": 1151,
    "start_time": "2022-02-08T16:41:00.554Z"
   },
   {
    "duration": 69,
    "start_time": "2022-02-08T16:41:01.707Z"
   },
   {
    "duration": 386,
    "start_time": "2022-02-08T16:41:01.778Z"
   },
   {
    "duration": 20,
    "start_time": "2022-02-08T16:41:02.165Z"
   },
   {
    "duration": 27,
    "start_time": "2022-02-08T16:41:02.187Z"
   },
   {
    "duration": 365,
    "start_time": "2022-02-08T16:41:02.216Z"
   },
   {
    "duration": 1077,
    "start_time": "2022-02-08T17:03:43.465Z"
   },
   {
    "duration": 110,
    "start_time": "2022-02-08T17:03:44.544Z"
   },
   {
    "duration": 16,
    "start_time": "2022-02-08T17:03:44.656Z"
   },
   {
    "duration": 10,
    "start_time": "2022-02-08T17:03:44.674Z"
   },
   {
    "duration": 26,
    "start_time": "2022-02-08T17:03:44.686Z"
   },
   {
    "duration": 22,
    "start_time": "2022-02-08T17:03:44.714Z"
   },
   {
    "duration": 35,
    "start_time": "2022-02-08T17:03:44.738Z"
   },
   {
    "duration": 10,
    "start_time": "2022-02-08T17:03:44.776Z"
   },
   {
    "duration": 16,
    "start_time": "2022-02-08T17:03:44.813Z"
   },
   {
    "duration": 45,
    "start_time": "2022-02-08T17:03:44.831Z"
   },
   {
    "duration": 148,
    "start_time": "2022-02-08T17:03:44.878Z"
   },
   {
    "duration": 5,
    "start_time": "2022-02-08T17:03:45.027Z"
   },
   {
    "duration": 11,
    "start_time": "2022-02-08T17:03:45.034Z"
   },
   {
    "duration": 10,
    "start_time": "2022-02-08T17:03:45.046Z"
   },
   {
    "duration": 19,
    "start_time": "2022-02-08T17:03:45.057Z"
   },
   {
    "duration": 4,
    "start_time": "2022-02-08T17:03:45.078Z"
   },
   {
    "duration": 42,
    "start_time": "2022-02-08T17:03:45.084Z"
   },
   {
    "duration": 4,
    "start_time": "2022-02-08T17:03:45.128Z"
   },
   {
    "duration": 19,
    "start_time": "2022-02-08T17:03:45.133Z"
   },
   {
    "duration": 6,
    "start_time": "2022-02-08T17:03:45.154Z"
   },
   {
    "duration": 79,
    "start_time": "2022-02-08T17:03:45.162Z"
   },
   {
    "duration": 13,
    "start_time": "2022-02-08T17:03:45.242Z"
   },
   {
    "duration": 13,
    "start_time": "2022-02-08T17:03:45.256Z"
   },
   {
    "duration": 58,
    "start_time": "2022-02-08T17:03:45.270Z"
   },
   {
    "duration": 4,
    "start_time": "2022-02-08T17:03:45.329Z"
   },
   {
    "duration": 5,
    "start_time": "2022-02-08T17:03:45.335Z"
   },
   {
    "duration": 549,
    "start_time": "2022-02-08T17:03:45.344Z"
   },
   {
    "duration": 502,
    "start_time": "2022-02-08T17:03:45.896Z"
   },
   {
    "duration": 12,
    "start_time": "2022-02-08T17:03:46.400Z"
   },
   {
    "duration": 320,
    "start_time": "2022-02-08T17:03:46.413Z"
   },
   {
    "duration": 283,
    "start_time": "2022-02-08T17:03:46.735Z"
   },
   {
    "duration": 465,
    "start_time": "2022-02-08T17:03:47.020Z"
   },
   {
    "duration": 40,
    "start_time": "2022-02-08T17:03:47.487Z"
   },
   {
    "duration": 2063,
    "start_time": "2022-02-08T17:03:47.529Z"
   },
   {
    "duration": 6,
    "start_time": "2022-02-08T17:03:49.593Z"
   },
   {
    "duration": 32,
    "start_time": "2022-02-08T17:03:49.601Z"
   },
   {
    "duration": 2242,
    "start_time": "2022-02-08T17:03:49.635Z"
   },
   {
    "duration": 6,
    "start_time": "2022-02-08T17:03:51.878Z"
   },
   {
    "duration": 27,
    "start_time": "2022-02-08T17:03:51.885Z"
   },
   {
    "duration": 79,
    "start_time": "2022-02-08T17:03:51.914Z"
   },
   {
    "duration": 68,
    "start_time": "2022-02-08T17:03:51.995Z"
   },
   {
    "duration": 23,
    "start_time": "2022-02-08T17:03:52.064Z"
   },
   {
    "duration": 80,
    "start_time": "2022-02-08T17:03:52.088Z"
   },
   {
    "duration": 27,
    "start_time": "2022-02-08T17:03:52.170Z"
   },
   {
    "duration": 1126,
    "start_time": "2022-02-08T17:03:52.199Z"
   },
   {
    "duration": 65,
    "start_time": "2022-02-08T17:03:53.327Z"
   },
   {
    "duration": 393,
    "start_time": "2022-02-08T17:03:53.393Z"
   },
   {
    "duration": 35,
    "start_time": "2022-02-08T17:03:53.788Z"
   },
   {
    "duration": 10,
    "start_time": "2022-02-08T17:03:53.825Z"
   },
   {
    "duration": 378,
    "start_time": "2022-02-08T17:03:53.837Z"
   },
   {
    "duration": 1062,
    "start_time": "2022-02-08T17:29:45.076Z"
   },
   {
    "duration": 107,
    "start_time": "2022-02-08T17:29:46.140Z"
   },
   {
    "duration": 16,
    "start_time": "2022-02-08T17:29:46.249Z"
   },
   {
    "duration": 10,
    "start_time": "2022-02-08T17:29:46.267Z"
   },
   {
    "duration": 15,
    "start_time": "2022-02-08T17:29:46.278Z"
   },
   {
    "duration": 34,
    "start_time": "2022-02-08T17:29:46.294Z"
   },
   {
    "duration": 36,
    "start_time": "2022-02-08T17:29:46.330Z"
   },
   {
    "duration": 9,
    "start_time": "2022-02-08T17:29:46.368Z"
   },
   {
    "duration": 37,
    "start_time": "2022-02-08T17:29:46.379Z"
   },
   {
    "duration": 46,
    "start_time": "2022-02-08T17:29:46.418Z"
   },
   {
    "duration": 132,
    "start_time": "2022-02-08T17:29:46.465Z"
   },
   {
    "duration": 5,
    "start_time": "2022-02-08T17:29:46.599Z"
   },
   {
    "duration": 4,
    "start_time": "2022-02-08T17:29:46.612Z"
   },
   {
    "duration": 5,
    "start_time": "2022-02-08T17:29:46.618Z"
   },
   {
    "duration": 15,
    "start_time": "2022-02-08T17:29:46.625Z"
   },
   {
    "duration": 4,
    "start_time": "2022-02-08T17:29:46.641Z"
   },
   {
    "duration": 22,
    "start_time": "2022-02-08T17:29:46.647Z"
   },
   {
    "duration": 3,
    "start_time": "2022-02-08T17:29:46.671Z"
   },
   {
    "duration": 50,
    "start_time": "2022-02-08T17:29:46.676Z"
   },
   {
    "duration": 4,
    "start_time": "2022-02-08T17:29:46.728Z"
   },
   {
    "duration": 50,
    "start_time": "2022-02-08T17:29:46.734Z"
   },
   {
    "duration": 29,
    "start_time": "2022-02-08T17:29:46.786Z"
   },
   {
    "duration": 10,
    "start_time": "2022-02-08T17:29:46.819Z"
   },
   {
    "duration": 45,
    "start_time": "2022-02-08T17:29:46.830Z"
   },
   {
    "duration": 3,
    "start_time": "2022-02-08T17:29:46.877Z"
   },
   {
    "duration": 34,
    "start_time": "2022-02-08T17:29:46.882Z"
   },
   {
    "duration": 525,
    "start_time": "2022-02-08T17:29:46.918Z"
   },
   {
    "duration": 479,
    "start_time": "2022-02-08T17:29:47.445Z"
   },
   {
    "duration": 3,
    "start_time": "2022-02-08T17:29:47.926Z"
   },
   {
    "duration": 318,
    "start_time": "2022-02-08T17:29:47.931Z"
   },
   {
    "duration": 281,
    "start_time": "2022-02-08T17:29:48.250Z"
   },
   {
    "duration": 464,
    "start_time": "2022-02-08T17:29:48.533Z"
   },
   {
    "duration": 34,
    "start_time": "2022-02-08T17:29:48.999Z"
   },
   {
    "duration": 2075,
    "start_time": "2022-02-08T17:29:49.035Z"
   },
   {
    "duration": 7,
    "start_time": "2022-02-08T17:29:51.112Z"
   },
   {
    "duration": 24,
    "start_time": "2022-02-08T17:29:51.120Z"
   },
   {
    "duration": 2207,
    "start_time": "2022-02-08T17:29:51.146Z"
   },
   {
    "duration": 6,
    "start_time": "2022-02-08T17:29:53.354Z"
   },
   {
    "duration": 30,
    "start_time": "2022-02-08T17:29:53.361Z"
   },
   {
    "duration": 85,
    "start_time": "2022-02-08T17:29:53.393Z"
   },
   {
    "duration": 69,
    "start_time": "2022-02-08T17:29:53.480Z"
   },
   {
    "duration": 24,
    "start_time": "2022-02-08T17:29:53.550Z"
   },
   {
    "duration": 75,
    "start_time": "2022-02-08T17:29:53.575Z"
   },
   {
    "duration": 25,
    "start_time": "2022-02-08T17:29:53.651Z"
   },
   {
    "duration": 2054,
    "start_time": "2022-02-08T17:29:53.678Z"
   },
   {
    "duration": 65,
    "start_time": "2022-02-08T17:29:55.734Z"
   },
   {
    "duration": 480,
    "start_time": "2022-02-08T17:29:55.801Z"
   },
   {
    "duration": 35,
    "start_time": "2022-02-08T17:29:56.282Z"
   },
   {
    "duration": 29,
    "start_time": "2022-02-08T17:29:56.319Z"
   },
   {
    "duration": 419,
    "start_time": "2022-02-08T17:29:56.350Z"
   },
   {
    "duration": 7,
    "start_time": "2022-02-08T17:34:23.847Z"
   },
   {
    "duration": 1059,
    "start_time": "2022-02-08T17:37:32.268Z"
   },
   {
    "duration": 104,
    "start_time": "2022-02-08T17:37:33.329Z"
   },
   {
    "duration": 16,
    "start_time": "2022-02-08T17:37:33.434Z"
   },
   {
    "duration": 9,
    "start_time": "2022-02-08T17:37:33.451Z"
   },
   {
    "duration": 7,
    "start_time": "2022-02-08T17:37:33.462Z"
   },
   {
    "duration": 42,
    "start_time": "2022-02-08T17:37:33.470Z"
   },
   {
    "duration": 32,
    "start_time": "2022-02-08T17:37:33.514Z"
   },
   {
    "duration": 8,
    "start_time": "2022-02-08T17:37:33.549Z"
   },
   {
    "duration": 17,
    "start_time": "2022-02-08T17:37:33.559Z"
   },
   {
    "duration": 66,
    "start_time": "2022-02-08T17:37:33.577Z"
   },
   {
    "duration": 135,
    "start_time": "2022-02-08T17:37:33.645Z"
   },
   {
    "duration": 6,
    "start_time": "2022-02-08T17:37:33.782Z"
   },
   {
    "duration": 4,
    "start_time": "2022-02-08T17:37:33.789Z"
   },
   {
    "duration": 20,
    "start_time": "2022-02-08T17:37:33.795Z"
   },
   {
    "duration": 14,
    "start_time": "2022-02-08T17:37:33.817Z"
   },
   {
    "duration": 4,
    "start_time": "2022-02-08T17:37:33.833Z"
   },
   {
    "duration": 21,
    "start_time": "2022-02-08T17:37:33.839Z"
   },
   {
    "duration": 3,
    "start_time": "2022-02-08T17:37:33.862Z"
   },
   {
    "duration": 46,
    "start_time": "2022-02-08T17:37:33.867Z"
   },
   {
    "duration": 5,
    "start_time": "2022-02-08T17:37:33.915Z"
   },
   {
    "duration": 46,
    "start_time": "2022-02-08T17:37:33.921Z"
   },
   {
    "duration": 12,
    "start_time": "2022-02-08T17:37:33.969Z"
   },
   {
    "duration": 33,
    "start_time": "2022-02-08T17:37:33.984Z"
   },
   {
    "duration": 38,
    "start_time": "2022-02-08T17:37:34.019Z"
   },
   {
    "duration": 3,
    "start_time": "2022-02-08T17:37:34.059Z"
   },
   {
    "duration": 6,
    "start_time": "2022-02-08T17:37:34.063Z"
   },
   {
    "duration": 527,
    "start_time": "2022-02-08T17:37:34.071Z"
   },
   {
    "duration": 475,
    "start_time": "2022-02-08T17:37:34.600Z"
   },
   {
    "duration": 3,
    "start_time": "2022-02-08T17:37:35.077Z"
   },
   {
    "duration": 310,
    "start_time": "2022-02-08T17:37:35.081Z"
   },
   {
    "duration": 273,
    "start_time": "2022-02-08T17:37:35.392Z"
   },
   {
    "duration": 466,
    "start_time": "2022-02-08T17:37:35.667Z"
   },
   {
    "duration": 29,
    "start_time": "2022-02-08T17:37:36.135Z"
   },
   {
    "duration": 2026,
    "start_time": "2022-02-08T17:37:36.166Z"
   },
   {
    "duration": 5,
    "start_time": "2022-02-08T17:37:38.194Z"
   },
   {
    "duration": 21,
    "start_time": "2022-02-08T17:37:38.212Z"
   },
   {
    "duration": 2224,
    "start_time": "2022-02-08T17:37:38.235Z"
   },
   {
    "duration": 5,
    "start_time": "2022-02-08T17:37:40.460Z"
   },
   {
    "duration": 17,
    "start_time": "2022-02-08T17:37:40.467Z"
   },
   {
    "duration": 98,
    "start_time": "2022-02-08T17:37:40.485Z"
   },
   {
    "duration": 71,
    "start_time": "2022-02-08T17:37:40.584Z"
   },
   {
    "duration": 26,
    "start_time": "2022-02-08T17:37:40.656Z"
   },
   {
    "duration": 402,
    "start_time": "2022-02-08T17:37:40.683Z"
   },
   {
    "duration": -174,
    "start_time": "2022-02-08T17:37:41.261Z"
   },
   {
    "duration": -175,
    "start_time": "2022-02-08T17:37:41.263Z"
   },
   {
    "duration": -176,
    "start_time": "2022-02-08T17:37:41.265Z"
   },
   {
    "duration": -177,
    "start_time": "2022-02-08T17:37:41.267Z"
   },
   {
    "duration": -178,
    "start_time": "2022-02-08T17:37:41.269Z"
   },
   {
    "duration": -194,
    "start_time": "2022-02-08T17:37:41.286Z"
   },
   {
    "duration": -196,
    "start_time": "2022-02-08T17:37:41.289Z"
   },
   {
    "duration": -196,
    "start_time": "2022-02-08T17:37:41.291Z"
   },
   {
    "duration": 62,
    "start_time": "2022-02-08T17:38:11.378Z"
   },
   {
    "duration": 63,
    "start_time": "2022-02-08T17:38:15.126Z"
   },
   {
    "duration": 392,
    "start_time": "2022-02-08T17:39:10.367Z"
   },
   {
    "duration": 556,
    "start_time": "2022-02-08T17:39:28.039Z"
   },
   {
    "duration": 472,
    "start_time": "2022-02-08T17:41:09.320Z"
   },
   {
    "duration": 509,
    "start_time": "2022-02-08T17:41:20.422Z"
   },
   {
    "duration": 480,
    "start_time": "2022-02-08T17:41:50.355Z"
   },
   {
    "duration": 488,
    "start_time": "2022-02-08T17:42:16.546Z"
   },
   {
    "duration": 7,
    "start_time": "2022-02-08T17:43:03.539Z"
   },
   {
    "duration": 1070,
    "start_time": "2022-02-08T17:43:48.948Z"
   },
   {
    "duration": 100,
    "start_time": "2022-02-08T17:43:50.020Z"
   },
   {
    "duration": 17,
    "start_time": "2022-02-08T17:43:50.121Z"
   },
   {
    "duration": 10,
    "start_time": "2022-02-08T17:43:50.139Z"
   },
   {
    "duration": 8,
    "start_time": "2022-02-08T17:43:50.150Z"
   },
   {
    "duration": 20,
    "start_time": "2022-02-08T17:43:50.160Z"
   },
   {
    "duration": 60,
    "start_time": "2022-02-08T17:43:50.182Z"
   },
   {
    "duration": 9,
    "start_time": "2022-02-08T17:43:50.244Z"
   },
   {
    "duration": 16,
    "start_time": "2022-02-08T17:43:50.255Z"
   },
   {
    "duration": 60,
    "start_time": "2022-02-08T17:43:50.273Z"
   },
   {
    "duration": 133,
    "start_time": "2022-02-08T17:43:50.335Z"
   },
   {
    "duration": 4,
    "start_time": "2022-02-08T17:43:50.470Z"
   },
   {
    "duration": 3,
    "start_time": "2022-02-08T17:43:50.476Z"
   },
   {
    "duration": 33,
    "start_time": "2022-02-08T17:43:50.481Z"
   },
   {
    "duration": 14,
    "start_time": "2022-02-08T17:43:50.516Z"
   },
   {
    "duration": 4,
    "start_time": "2022-02-08T17:43:50.532Z"
   },
   {
    "duration": 22,
    "start_time": "2022-02-08T17:43:50.537Z"
   },
   {
    "duration": 3,
    "start_time": "2022-02-08T17:43:50.561Z"
   },
   {
    "duration": 19,
    "start_time": "2022-02-08T17:43:50.565Z"
   },
   {
    "duration": 4,
    "start_time": "2022-02-08T17:43:50.585Z"
   },
   {
    "duration": 50,
    "start_time": "2022-02-08T17:43:50.591Z"
   },
   {
    "duration": 12,
    "start_time": "2022-02-08T17:43:50.643Z"
   },
   {
    "duration": 10,
    "start_time": "2022-02-08T17:43:50.657Z"
   },
   {
    "duration": 40,
    "start_time": "2022-02-08T17:43:50.668Z"
   },
   {
    "duration": 3,
    "start_time": "2022-02-08T17:43:50.712Z"
   },
   {
    "duration": 5,
    "start_time": "2022-02-08T17:43:50.717Z"
   },
   {
    "duration": 544,
    "start_time": "2022-02-08T17:43:50.725Z"
   },
   {
    "duration": 733,
    "start_time": "2022-02-08T17:43:51.271Z"
   },
   {
    "duration": 7,
    "start_time": "2022-02-08T17:43:52.005Z"
   },
   {
    "duration": 315,
    "start_time": "2022-02-08T17:43:52.013Z"
   },
   {
    "duration": 284,
    "start_time": "2022-02-08T17:43:52.330Z"
   },
   {
    "duration": 475,
    "start_time": "2022-02-08T17:43:52.615Z"
   },
   {
    "duration": 34,
    "start_time": "2022-02-08T17:43:53.092Z"
   },
   {
    "duration": 1992,
    "start_time": "2022-02-08T17:43:53.128Z"
   },
   {
    "duration": 6,
    "start_time": "2022-02-08T17:43:55.121Z"
   },
   {
    "duration": 25,
    "start_time": "2022-02-08T17:43:55.128Z"
   },
   {
    "duration": 2210,
    "start_time": "2022-02-08T17:43:55.154Z"
   },
   {
    "duration": 5,
    "start_time": "2022-02-08T17:43:57.366Z"
   },
   {
    "duration": 17,
    "start_time": "2022-02-08T17:43:57.372Z"
   },
   {
    "duration": 101,
    "start_time": "2022-02-08T17:43:57.390Z"
   },
   {
    "duration": 66,
    "start_time": "2022-02-08T17:43:57.493Z"
   },
   {
    "duration": 25,
    "start_time": "2022-02-08T17:43:57.560Z"
   },
   {
    "duration": 482,
    "start_time": "2022-02-08T17:43:57.587Z"
   },
   {
    "duration": 7,
    "start_time": "2022-02-08T17:43:58.070Z"
   },
   {
    "duration": 8,
    "start_time": "2022-02-08T17:43:58.079Z"
   },
   {
    "duration": 44,
    "start_time": "2022-02-08T17:43:58.088Z"
   },
   {
    "duration": 1636,
    "start_time": "2022-02-08T17:43:58.133Z"
   },
   {
    "duration": 72,
    "start_time": "2022-02-08T17:43:59.770Z"
   },
   {
    "duration": 424,
    "start_time": "2022-02-08T17:43:59.843Z"
   },
   {
    "duration": 21,
    "start_time": "2022-02-08T17:44:00.268Z"
   },
   {
    "duration": 28,
    "start_time": "2022-02-08T17:44:00.291Z"
   },
   {
    "duration": 381,
    "start_time": "2022-02-08T17:44:00.321Z"
   },
   {
    "duration": 20,
    "start_time": "2022-02-08T20:29:13.572Z"
   },
   {
    "duration": 31,
    "start_time": "2022-02-08T20:33:34.386Z"
   },
   {
    "duration": 18,
    "start_time": "2022-02-08T20:34:45.783Z"
   },
   {
    "duration": 18,
    "start_time": "2022-02-08T20:35:33.122Z"
   },
   {
    "duration": 17,
    "start_time": "2022-02-08T20:35:49.833Z"
   },
   {
    "duration": 28,
    "start_time": "2022-02-08T20:36:40.495Z"
   },
   {
    "duration": 17,
    "start_time": "2022-02-08T20:37:33.568Z"
   },
   {
    "duration": 30,
    "start_time": "2022-02-08T20:37:38.043Z"
   },
   {
    "duration": 14,
    "start_time": "2022-02-08T20:37:42.573Z"
   },
   {
    "duration": 28,
    "start_time": "2022-02-08T20:37:46.804Z"
   },
   {
    "duration": 7,
    "start_time": "2022-02-08T20:42:59.171Z"
   },
   {
    "duration": 12,
    "start_time": "2022-02-08T20:43:21.837Z"
   },
   {
    "duration": 28,
    "start_time": "2022-02-08T20:49:32.772Z"
   },
   {
    "duration": 28,
    "start_time": "2022-02-08T20:49:51.301Z"
   },
   {
    "duration": 21,
    "start_time": "2022-02-08T20:53:27.717Z"
   },
   {
    "duration": 22,
    "start_time": "2022-02-08T20:55:18.620Z"
   },
   {
    "duration": 29,
    "start_time": "2022-02-08T20:56:29.308Z"
   },
   {
    "duration": 1123,
    "start_time": "2022-02-08T20:56:34.415Z"
   },
   {
    "duration": 107,
    "start_time": "2022-02-08T20:56:35.540Z"
   },
   {
    "duration": 16,
    "start_time": "2022-02-08T20:56:35.652Z"
   },
   {
    "duration": 10,
    "start_time": "2022-02-08T20:56:35.670Z"
   },
   {
    "duration": 32,
    "start_time": "2022-02-08T20:56:35.681Z"
   },
   {
    "duration": 20,
    "start_time": "2022-02-08T20:56:35.714Z"
   },
   {
    "duration": 35,
    "start_time": "2022-02-08T20:56:35.737Z"
   },
   {
    "duration": 9,
    "start_time": "2022-02-08T20:56:35.774Z"
   },
   {
    "duration": 16,
    "start_time": "2022-02-08T20:56:35.813Z"
   },
   {
    "duration": 48,
    "start_time": "2022-02-08T20:56:35.831Z"
   },
   {
    "duration": 150,
    "start_time": "2022-02-08T20:56:35.882Z"
   },
   {
    "duration": 5,
    "start_time": "2022-02-08T20:56:36.033Z"
   },
   {
    "duration": 5,
    "start_time": "2022-02-08T20:56:36.040Z"
   },
   {
    "duration": 4,
    "start_time": "2022-02-08T20:56:36.047Z"
   },
   {
    "duration": 13,
    "start_time": "2022-02-08T20:56:36.053Z"
   },
   {
    "duration": 5,
    "start_time": "2022-02-08T20:56:36.068Z"
   },
   {
    "duration": 58,
    "start_time": "2022-02-08T20:56:36.074Z"
   },
   {
    "duration": 4,
    "start_time": "2022-02-08T20:56:36.134Z"
   },
   {
    "duration": 18,
    "start_time": "2022-02-08T20:56:36.140Z"
   },
   {
    "duration": 5,
    "start_time": "2022-02-08T20:56:36.160Z"
   },
   {
    "duration": 83,
    "start_time": "2022-02-08T20:56:36.166Z"
   },
   {
    "duration": 13,
    "start_time": "2022-02-08T20:56:36.252Z"
   },
   {
    "duration": 10,
    "start_time": "2022-02-08T20:56:36.268Z"
   },
   {
    "duration": 69,
    "start_time": "2022-02-08T20:56:36.280Z"
   },
   {
    "duration": 3,
    "start_time": "2022-02-08T20:56:36.351Z"
   },
   {
    "duration": 6,
    "start_time": "2022-02-08T20:56:36.356Z"
   },
   {
    "duration": 553,
    "start_time": "2022-02-08T20:56:36.364Z"
   },
   {
    "duration": 509,
    "start_time": "2022-02-08T20:56:36.919Z"
   },
   {
    "duration": 3,
    "start_time": "2022-02-08T20:56:37.430Z"
   },
   {
    "duration": 351,
    "start_time": "2022-02-08T20:56:37.435Z"
   },
   {
    "duration": 286,
    "start_time": "2022-02-08T20:56:37.787Z"
   },
   {
    "duration": 468,
    "start_time": "2022-02-08T20:56:38.075Z"
   },
   {
    "duration": 30,
    "start_time": "2022-02-08T20:56:38.545Z"
   },
   {
    "duration": 2082,
    "start_time": "2022-02-08T20:56:38.577Z"
   },
   {
    "duration": 6,
    "start_time": "2022-02-08T20:56:40.660Z"
   },
   {
    "duration": 23,
    "start_time": "2022-02-08T20:56:40.667Z"
   },
   {
    "duration": 2346,
    "start_time": "2022-02-08T20:56:40.691Z"
   },
   {
    "duration": 5,
    "start_time": "2022-02-08T20:56:43.039Z"
   },
   {
    "duration": 29,
    "start_time": "2022-02-08T20:56:43.046Z"
   },
   {
    "duration": 90,
    "start_time": "2022-02-08T20:56:43.077Z"
   },
   {
    "duration": 70,
    "start_time": "2022-02-08T20:56:43.168Z"
   },
   {
    "duration": 23,
    "start_time": "2022-02-08T20:56:43.240Z"
   },
   {
    "duration": 501,
    "start_time": "2022-02-08T20:56:43.265Z"
   },
   {
    "duration": 7,
    "start_time": "2022-02-08T20:56:43.768Z"
   },
   {
    "duration": 7,
    "start_time": "2022-02-08T20:56:43.777Z"
   },
   {
    "duration": 44,
    "start_time": "2022-02-08T20:56:43.786Z"
   },
   {
    "duration": 1663,
    "start_time": "2022-02-08T20:56:43.831Z"
   },
   {
    "duration": 71,
    "start_time": "2022-02-08T20:56:45.495Z"
   },
   {
    "duration": 441,
    "start_time": "2022-02-08T20:56:45.567Z"
   },
   {
    "duration": 24,
    "start_time": "2022-02-08T20:56:46.012Z"
   },
   {
    "duration": 12,
    "start_time": "2022-02-08T20:56:46.038Z"
   },
   {
    "duration": 394,
    "start_time": "2022-02-08T20:56:46.052Z"
   },
   {
    "duration": 20,
    "start_time": "2022-02-08T20:56:46.447Z"
   },
   {
    "duration": 46,
    "start_time": "2022-02-08T20:56:46.468Z"
   },
   {
    "duration": 19,
    "start_time": "2022-02-08T20:56:46.516Z"
   },
   {
    "duration": 305,
    "start_time": "2022-02-08T20:56:46.537Z"
   },
   {
    "duration": 51,
    "start_time": "2022-02-08T20:59:14.471Z"
   },
   {
    "duration": 13,
    "start_time": "2022-02-08T20:59:23.583Z"
   },
   {
    "duration": 52,
    "start_time": "2022-02-08T21:00:47.209Z"
   },
   {
    "duration": 14,
    "start_time": "2022-02-08T21:00:49.913Z"
   },
   {
    "duration": 54,
    "start_time": "2022-02-08T21:01:04.889Z"
   },
   {
    "duration": 13,
    "start_time": "2022-02-08T21:01:06.638Z"
   },
   {
    "duration": 52,
    "start_time": "2022-02-08T21:01:57.362Z"
   },
   {
    "duration": 10,
    "start_time": "2022-02-08T21:01:58.369Z"
   },
   {
    "duration": 53,
    "start_time": "2022-02-08T21:02:53.183Z"
   },
   {
    "duration": 10,
    "start_time": "2022-02-08T21:02:53.695Z"
   },
   {
    "duration": 62,
    "start_time": "2022-02-08T21:03:05.046Z"
   },
   {
    "duration": 10,
    "start_time": "2022-02-08T21:03:06.292Z"
   },
   {
    "duration": 30,
    "start_time": "2022-02-08T21:03:27.527Z"
   },
   {
    "duration": 62,
    "start_time": "2022-02-08T21:03:28.193Z"
   },
   {
    "duration": 63,
    "start_time": "2022-02-08T21:03:35.799Z"
   },
   {
    "duration": 255,
    "start_time": "2022-02-08T21:05:18.247Z"
   },
   {
    "duration": 13,
    "start_time": "2022-02-08T21:07:09.453Z"
   },
   {
    "duration": 12,
    "start_time": "2022-02-08T21:07:35.989Z"
   },
   {
    "duration": 16,
    "start_time": "2022-02-08T21:09:48.564Z"
   },
   {
    "duration": 15,
    "start_time": "2022-02-08T21:10:05.866Z"
   },
   {
    "duration": 16,
    "start_time": "2022-02-08T21:10:35.519Z"
   },
   {
    "duration": 15,
    "start_time": "2022-02-08T21:10:39.149Z"
   },
   {
    "duration": 251,
    "start_time": "2022-02-08T21:14:46.378Z"
   },
   {
    "duration": 234,
    "start_time": "2022-02-08T21:14:53.983Z"
   },
   {
    "duration": 227,
    "start_time": "2022-02-08T21:15:08.784Z"
   },
   {
    "duration": 1209,
    "start_time": "2022-02-08T21:17:29.731Z"
   },
   {
    "duration": 111,
    "start_time": "2022-02-08T21:17:30.942Z"
   },
   {
    "duration": 17,
    "start_time": "2022-02-08T21:17:31.058Z"
   },
   {
    "duration": 10,
    "start_time": "2022-02-08T21:17:31.076Z"
   },
   {
    "duration": 30,
    "start_time": "2022-02-08T21:17:31.088Z"
   },
   {
    "duration": 24,
    "start_time": "2022-02-08T21:17:31.119Z"
   },
   {
    "duration": 36,
    "start_time": "2022-02-08T21:17:31.146Z"
   },
   {
    "duration": 34,
    "start_time": "2022-02-08T21:17:31.184Z"
   },
   {
    "duration": 35,
    "start_time": "2022-02-08T21:17:31.220Z"
   },
   {
    "duration": 50,
    "start_time": "2022-02-08T21:17:31.256Z"
   },
   {
    "duration": 144,
    "start_time": "2022-02-08T21:17:31.312Z"
   },
   {
    "duration": 5,
    "start_time": "2022-02-08T21:17:31.458Z"
   },
   {
    "duration": 7,
    "start_time": "2022-02-08T21:17:31.464Z"
   },
   {
    "duration": 6,
    "start_time": "2022-02-08T21:17:31.473Z"
   },
   {
    "duration": 38,
    "start_time": "2022-02-08T21:17:31.481Z"
   },
   {
    "duration": 5,
    "start_time": "2022-02-08T21:17:31.521Z"
   },
   {
    "duration": 26,
    "start_time": "2022-02-08T21:17:31.527Z"
   },
   {
    "duration": 4,
    "start_time": "2022-02-08T21:17:31.555Z"
   },
   {
    "duration": 20,
    "start_time": "2022-02-08T21:17:31.560Z"
   },
   {
    "duration": 33,
    "start_time": "2022-02-08T21:17:31.582Z"
   },
   {
    "duration": 60,
    "start_time": "2022-02-08T21:17:31.617Z"
   },
   {
    "duration": 32,
    "start_time": "2022-02-08T21:17:31.681Z"
   },
   {
    "duration": 14,
    "start_time": "2022-02-08T21:17:31.716Z"
   },
   {
    "duration": 47,
    "start_time": "2022-02-08T21:17:31.732Z"
   },
   {
    "duration": 3,
    "start_time": "2022-02-08T21:17:31.781Z"
   },
   {
    "duration": 28,
    "start_time": "2022-02-08T21:17:31.786Z"
   },
   {
    "duration": 550,
    "start_time": "2022-02-08T21:17:31.815Z"
   },
   {
    "duration": 516,
    "start_time": "2022-02-08T21:17:32.367Z"
   },
   {
    "duration": 3,
    "start_time": "2022-02-08T21:17:32.885Z"
   },
   {
    "duration": 318,
    "start_time": "2022-02-08T21:17:32.890Z"
   },
   {
    "duration": 280,
    "start_time": "2022-02-08T21:17:33.212Z"
   },
   {
    "duration": 465,
    "start_time": "2022-02-08T21:17:33.494Z"
   },
   {
    "duration": 32,
    "start_time": "2022-02-08T21:17:33.961Z"
   },
   {
    "duration": 2089,
    "start_time": "2022-02-08T21:17:33.995Z"
   },
   {
    "duration": 6,
    "start_time": "2022-02-08T21:17:36.086Z"
   },
   {
    "duration": 38,
    "start_time": "2022-02-08T21:17:36.093Z"
   },
   {
    "duration": 2244,
    "start_time": "2022-02-08T21:17:36.133Z"
   },
   {
    "duration": 5,
    "start_time": "2022-02-08T21:17:38.378Z"
   },
   {
    "duration": 31,
    "start_time": "2022-02-08T21:17:38.385Z"
   },
   {
    "duration": 80,
    "start_time": "2022-02-08T21:17:38.417Z"
   },
   {
    "duration": 67,
    "start_time": "2022-02-08T21:17:38.499Z"
   },
   {
    "duration": 25,
    "start_time": "2022-02-08T21:17:38.567Z"
   },
   {
    "duration": 506,
    "start_time": "2022-02-08T21:17:38.593Z"
   },
   {
    "duration": 12,
    "start_time": "2022-02-08T21:17:39.101Z"
   },
   {
    "duration": 6,
    "start_time": "2022-02-08T21:17:39.114Z"
   },
   {
    "duration": 25,
    "start_time": "2022-02-08T21:17:39.122Z"
   },
   {
    "duration": 1668,
    "start_time": "2022-02-08T21:17:39.149Z"
   },
   {
    "duration": 69,
    "start_time": "2022-02-08T21:17:40.819Z"
   },
   {
    "duration": 451,
    "start_time": "2022-02-08T21:17:40.890Z"
   },
   {
    "duration": 24,
    "start_time": "2022-02-08T21:17:41.343Z"
   },
   {
    "duration": 24,
    "start_time": "2022-02-08T21:17:41.369Z"
   },
   {
    "duration": 422,
    "start_time": "2022-02-08T21:17:41.395Z"
   },
   {
    "duration": 21,
    "start_time": "2022-02-08T21:17:41.819Z"
   },
   {
    "duration": 26,
    "start_time": "2022-02-08T21:17:41.842Z"
   },
   {
    "duration": 49,
    "start_time": "2022-02-08T21:17:41.869Z"
   },
   {
    "duration": 62,
    "start_time": "2022-02-08T21:17:41.919Z"
   },
   {
    "duration": 12,
    "start_time": "2022-02-08T21:17:41.983Z"
   },
   {
    "duration": 12,
    "start_time": "2022-02-08T21:17:42.012Z"
   },
   {
    "duration": 11,
    "start_time": "2022-02-08T21:17:42.026Z"
   },
   {
    "duration": 6,
    "start_time": "2022-02-08T21:17:42.038Z"
   },
   {
    "duration": 3041,
    "start_time": "2022-02-08T21:20:05.054Z"
   },
   {
    "duration": 1079,
    "start_time": "2022-02-08T21:20:25.956Z"
   },
   {
    "duration": 105,
    "start_time": "2022-02-08T21:20:27.037Z"
   },
   {
    "duration": 16,
    "start_time": "2022-02-08T21:20:27.144Z"
   },
   {
    "duration": 9,
    "start_time": "2022-02-08T21:20:27.162Z"
   },
   {
    "duration": 9,
    "start_time": "2022-02-08T21:20:27.173Z"
   },
   {
    "duration": 40,
    "start_time": "2022-02-08T21:20:27.184Z"
   },
   {
    "duration": 35,
    "start_time": "2022-02-08T21:20:27.225Z"
   },
   {
    "duration": 10,
    "start_time": "2022-02-08T21:20:27.261Z"
   },
   {
    "duration": 39,
    "start_time": "2022-02-08T21:20:27.273Z"
   },
   {
    "duration": 46,
    "start_time": "2022-02-08T21:20:27.314Z"
   },
   {
    "duration": 139,
    "start_time": "2022-02-08T21:20:27.362Z"
   },
   {
    "duration": 5,
    "start_time": "2022-02-08T21:20:27.502Z"
   },
   {
    "duration": 5,
    "start_time": "2022-02-08T21:20:27.512Z"
   },
   {
    "duration": 6,
    "start_time": "2022-02-08T21:20:27.518Z"
   },
   {
    "duration": 17,
    "start_time": "2022-02-08T21:20:27.525Z"
   },
   {
    "duration": 4,
    "start_time": "2022-02-08T21:20:27.543Z"
   },
   {
    "duration": 25,
    "start_time": "2022-02-08T21:20:27.549Z"
   },
   {
    "duration": 4,
    "start_time": "2022-02-08T21:20:27.576Z"
   },
   {
    "duration": 18,
    "start_time": "2022-02-08T21:20:27.612Z"
   },
   {
    "duration": 7,
    "start_time": "2022-02-08T21:20:27.632Z"
   },
   {
    "duration": 71,
    "start_time": "2022-02-08T21:20:27.641Z"
   },
   {
    "duration": 23,
    "start_time": "2022-02-08T21:20:27.714Z"
   },
   {
    "duration": 13,
    "start_time": "2022-02-08T21:20:27.739Z"
   },
   {
    "duration": 69,
    "start_time": "2022-02-08T21:20:27.754Z"
   },
   {
    "duration": 5,
    "start_time": "2022-02-08T21:20:27.825Z"
   },
   {
    "duration": 5,
    "start_time": "2022-02-08T21:20:27.832Z"
   },
   {
    "duration": 566,
    "start_time": "2022-02-08T21:20:27.842Z"
   },
   {
    "duration": 539,
    "start_time": "2022-02-08T21:20:28.413Z"
   },
   {
    "duration": 3,
    "start_time": "2022-02-08T21:20:28.954Z"
   },
   {
    "duration": 366,
    "start_time": "2022-02-08T21:20:28.959Z"
   },
   {
    "duration": 296,
    "start_time": "2022-02-08T21:20:29.327Z"
   },
   {
    "duration": 517,
    "start_time": "2022-02-08T21:20:29.625Z"
   },
   {
    "duration": 32,
    "start_time": "2022-02-08T21:20:30.144Z"
   },
   {
    "duration": 2228,
    "start_time": "2022-02-08T21:20:30.178Z"
   },
   {
    "duration": 8,
    "start_time": "2022-02-08T21:20:32.407Z"
   },
   {
    "duration": 24,
    "start_time": "2022-02-08T21:20:32.417Z"
   },
   {
    "duration": 2314,
    "start_time": "2022-02-08T21:20:32.443Z"
   },
   {
    "duration": 6,
    "start_time": "2022-02-08T21:20:34.759Z"
   },
   {
    "duration": 19,
    "start_time": "2022-02-08T21:20:34.767Z"
   },
   {
    "duration": 102,
    "start_time": "2022-02-08T21:20:34.787Z"
   },
   {
    "duration": 77,
    "start_time": "2022-02-08T21:20:34.890Z"
   },
   {
    "duration": 27,
    "start_time": "2022-02-08T21:20:34.969Z"
   },
   {
    "duration": 522,
    "start_time": "2022-02-08T21:20:34.997Z"
   },
   {
    "duration": 6,
    "start_time": "2022-02-08T21:20:35.521Z"
   },
   {
    "duration": 9,
    "start_time": "2022-02-08T21:20:35.529Z"
   },
   {
    "duration": 30,
    "start_time": "2022-02-08T21:20:35.540Z"
   },
   {
    "duration": 1767,
    "start_time": "2022-02-08T21:20:35.572Z"
   },
   {
    "duration": 81,
    "start_time": "2022-02-08T21:20:37.341Z"
   },
   {
    "duration": 455,
    "start_time": "2022-02-08T21:20:37.424Z"
   },
   {
    "duration": 34,
    "start_time": "2022-02-08T21:20:37.881Z"
   },
   {
    "duration": 10,
    "start_time": "2022-02-08T21:20:37.916Z"
   },
   {
    "duration": 411,
    "start_time": "2022-02-08T21:20:37.928Z"
   },
   {
    "duration": 21,
    "start_time": "2022-02-08T21:20:38.341Z"
   },
   {
    "duration": 27,
    "start_time": "2022-02-08T21:20:38.364Z"
   },
   {
    "duration": 41,
    "start_time": "2022-02-08T21:20:38.392Z"
   },
   {
    "duration": 57,
    "start_time": "2022-02-08T21:20:38.435Z"
   },
   {
    "duration": 27,
    "start_time": "2022-02-08T21:20:38.494Z"
   },
   {
    "duration": 10,
    "start_time": "2022-02-08T21:20:38.523Z"
   },
   {
    "duration": 12,
    "start_time": "2022-02-08T21:20:38.534Z"
   },
   {
    "duration": 5,
    "start_time": "2022-02-08T21:20:38.547Z"
   },
   {
    "duration": 5,
    "start_time": "2022-02-08T21:21:25.271Z"
   },
   {
    "duration": 325,
    "start_time": "2022-02-08T21:21:34.731Z"
   },
   {
    "duration": 5,
    "start_time": "2022-02-08T21:21:44.073Z"
   },
   {
    "duration": 1111,
    "start_time": "2022-02-08T21:30:39.608Z"
   },
   {
    "duration": 97,
    "start_time": "2022-02-08T21:30:40.721Z"
   },
   {
    "duration": 15,
    "start_time": "2022-02-08T21:30:40.821Z"
   },
   {
    "duration": 10,
    "start_time": "2022-02-08T21:30:40.838Z"
   },
   {
    "duration": 16,
    "start_time": "2022-02-08T21:30:40.849Z"
   },
   {
    "duration": 27,
    "start_time": "2022-02-08T21:30:40.866Z"
   },
   {
    "duration": 48,
    "start_time": "2022-02-08T21:30:40.894Z"
   },
   {
    "duration": 9,
    "start_time": "2022-02-08T21:30:40.944Z"
   },
   {
    "duration": 18,
    "start_time": "2022-02-08T21:30:40.955Z"
   },
   {
    "duration": 69,
    "start_time": "2022-02-08T21:30:40.975Z"
   },
   {
    "duration": 130,
    "start_time": "2022-02-08T21:30:41.046Z"
   },
   {
    "duration": 5,
    "start_time": "2022-02-08T21:30:41.178Z"
   },
   {
    "duration": 5,
    "start_time": "2022-02-08T21:30:41.184Z"
   },
   {
    "duration": 23,
    "start_time": "2022-02-08T21:30:41.190Z"
   },
   {
    "duration": 14,
    "start_time": "2022-02-08T21:30:41.215Z"
   },
   {
    "duration": 4,
    "start_time": "2022-02-08T21:30:41.230Z"
   },
   {
    "duration": 23,
    "start_time": "2022-02-08T21:30:41.235Z"
   },
   {
    "duration": 3,
    "start_time": "2022-02-08T21:30:41.260Z"
   },
   {
    "duration": 48,
    "start_time": "2022-02-08T21:30:41.265Z"
   },
   {
    "duration": 5,
    "start_time": "2022-02-08T21:30:41.315Z"
   },
   {
    "duration": 63,
    "start_time": "2022-02-08T21:30:41.322Z"
   },
   {
    "duration": 28,
    "start_time": "2022-02-08T21:30:41.387Z"
   },
   {
    "duration": 10,
    "start_time": "2022-02-08T21:30:41.419Z"
   },
   {
    "duration": 42,
    "start_time": "2022-02-08T21:30:41.432Z"
   },
   {
    "duration": 4,
    "start_time": "2022-02-08T21:30:41.476Z"
   },
   {
    "duration": 33,
    "start_time": "2022-02-08T21:30:41.482Z"
   },
   {
    "duration": 518,
    "start_time": "2022-02-08T21:30:41.517Z"
   },
   {
    "duration": 497,
    "start_time": "2022-02-08T21:30:42.037Z"
   },
   {
    "duration": 3,
    "start_time": "2022-02-08T21:30:42.536Z"
   },
   {
    "duration": 309,
    "start_time": "2022-02-08T21:30:42.540Z"
   },
   {
    "duration": 284,
    "start_time": "2022-02-08T21:30:42.850Z"
   },
   {
    "duration": 480,
    "start_time": "2022-02-08T21:30:43.136Z"
   },
   {
    "duration": 30,
    "start_time": "2022-02-08T21:30:43.618Z"
   },
   {
    "duration": 2085,
    "start_time": "2022-02-08T21:30:43.650Z"
   },
   {
    "duration": 6,
    "start_time": "2022-02-08T21:30:45.737Z"
   },
   {
    "duration": 22,
    "start_time": "2022-02-08T21:30:45.744Z"
   },
   {
    "duration": 2205,
    "start_time": "2022-02-08T21:30:45.768Z"
   },
   {
    "duration": 6,
    "start_time": "2022-02-08T21:30:47.975Z"
   },
   {
    "duration": 38,
    "start_time": "2022-02-08T21:30:47.982Z"
   },
   {
    "duration": 80,
    "start_time": "2022-02-08T21:30:48.022Z"
   },
   {
    "duration": 64,
    "start_time": "2022-02-08T21:30:48.104Z"
   },
   {
    "duration": 46,
    "start_time": "2022-02-08T21:30:48.170Z"
   },
   {
    "duration": 481,
    "start_time": "2022-02-08T21:30:48.218Z"
   },
   {
    "duration": 16,
    "start_time": "2022-02-08T21:30:48.701Z"
   },
   {
    "duration": 7,
    "start_time": "2022-02-08T21:30:48.719Z"
   },
   {
    "duration": 33,
    "start_time": "2022-02-08T21:30:48.727Z"
   },
   {
    "duration": 1709,
    "start_time": "2022-02-08T21:30:48.762Z"
   },
   {
    "duration": 79,
    "start_time": "2022-02-08T21:30:50.472Z"
   },
   {
    "duration": 449,
    "start_time": "2022-02-08T21:30:50.553Z"
   },
   {
    "duration": 27,
    "start_time": "2022-02-08T21:30:51.003Z"
   },
   {
    "duration": 10,
    "start_time": "2022-02-08T21:30:51.032Z"
   },
   {
    "duration": 410,
    "start_time": "2022-02-08T21:30:51.044Z"
   },
   {
    "duration": 19,
    "start_time": "2022-02-08T21:30:51.456Z"
   },
   {
    "duration": 44,
    "start_time": "2022-02-08T21:30:51.477Z"
   },
   {
    "duration": 20,
    "start_time": "2022-02-08T21:30:51.522Z"
   },
   {
    "duration": 77,
    "start_time": "2022-02-08T21:30:51.544Z"
   },
   {
    "duration": 11,
    "start_time": "2022-02-08T21:30:51.623Z"
   },
   {
    "duration": 11,
    "start_time": "2022-02-08T21:30:51.635Z"
   },
   {
    "duration": 12,
    "start_time": "2022-02-08T21:30:51.647Z"
   },
   {
    "duration": 5,
    "start_time": "2022-02-08T21:30:51.660Z"
   },
   {
    "duration": 8,
    "start_time": "2022-02-08T21:30:51.667Z"
   },
   {
    "duration": 44,
    "start_time": "2022-02-08T21:30:51.676Z"
   },
   {
    "duration": 1078,
    "start_time": "2022-02-08T21:34:37.355Z"
   },
   {
    "duration": 103,
    "start_time": "2022-02-08T21:34:38.435Z"
   },
   {
    "duration": 17,
    "start_time": "2022-02-08T21:34:38.540Z"
   },
   {
    "duration": 10,
    "start_time": "2022-02-08T21:34:38.558Z"
   },
   {
    "duration": 10,
    "start_time": "2022-02-08T21:34:38.569Z"
   },
   {
    "duration": 44,
    "start_time": "2022-02-08T21:34:38.580Z"
   },
   {
    "duration": 34,
    "start_time": "2022-02-08T21:34:38.626Z"
   },
   {
    "duration": 8,
    "start_time": "2022-02-08T21:34:38.663Z"
   },
   {
    "duration": 44,
    "start_time": "2022-02-08T21:34:38.673Z"
   },
   {
    "duration": 46,
    "start_time": "2022-02-08T21:34:38.718Z"
   },
   {
    "duration": 138,
    "start_time": "2022-02-08T21:34:38.765Z"
   },
   {
    "duration": 7,
    "start_time": "2022-02-08T21:34:38.905Z"
   },
   {
    "duration": 5,
    "start_time": "2022-02-08T21:34:38.914Z"
   },
   {
    "duration": 5,
    "start_time": "2022-02-08T21:34:38.921Z"
   },
   {
    "duration": 20,
    "start_time": "2022-02-08T21:34:38.928Z"
   },
   {
    "duration": 5,
    "start_time": "2022-02-08T21:34:38.949Z"
   },
   {
    "duration": 59,
    "start_time": "2022-02-08T21:34:38.956Z"
   },
   {
    "duration": 3,
    "start_time": "2022-02-08T21:34:39.017Z"
   },
   {
    "duration": 18,
    "start_time": "2022-02-08T21:34:39.021Z"
   },
   {
    "duration": 4,
    "start_time": "2022-02-08T21:34:39.040Z"
   },
   {
    "duration": 68,
    "start_time": "2022-02-08T21:34:39.045Z"
   },
   {
    "duration": 12,
    "start_time": "2022-02-08T21:34:39.115Z"
   },
   {
    "duration": 9,
    "start_time": "2022-02-08T21:34:39.130Z"
   },
   {
    "duration": 40,
    "start_time": "2022-02-08T21:34:39.141Z"
   },
   {
    "duration": 3,
    "start_time": "2022-02-08T21:34:39.183Z"
   },
   {
    "duration": 26,
    "start_time": "2022-02-08T21:34:39.187Z"
   },
   {
    "duration": 517,
    "start_time": "2022-02-08T21:34:39.215Z"
   },
   {
    "duration": 485,
    "start_time": "2022-02-08T21:34:39.733Z"
   },
   {
    "duration": 3,
    "start_time": "2022-02-08T21:34:40.220Z"
   },
   {
    "duration": 313,
    "start_time": "2022-02-08T21:34:40.224Z"
   },
   {
    "duration": 274,
    "start_time": "2022-02-08T21:34:40.539Z"
   },
   {
    "duration": 467,
    "start_time": "2022-02-08T21:34:40.815Z"
   },
   {
    "duration": 40,
    "start_time": "2022-02-08T21:34:41.284Z"
   },
   {
    "duration": 2081,
    "start_time": "2022-02-08T21:34:41.326Z"
   },
   {
    "duration": 6,
    "start_time": "2022-02-08T21:34:43.409Z"
   },
   {
    "duration": 23,
    "start_time": "2022-02-08T21:34:43.417Z"
   },
   {
    "duration": 2189,
    "start_time": "2022-02-08T21:34:43.441Z"
   },
   {
    "duration": 5,
    "start_time": "2022-02-08T21:34:45.632Z"
   },
   {
    "duration": 41,
    "start_time": "2022-02-08T21:34:45.639Z"
   },
   {
    "duration": 78,
    "start_time": "2022-02-08T21:34:45.681Z"
   },
   {
    "duration": 69,
    "start_time": "2022-02-08T21:34:45.760Z"
   },
   {
    "duration": 25,
    "start_time": "2022-02-08T21:34:45.831Z"
   },
   {
    "duration": 484,
    "start_time": "2022-02-08T21:34:45.857Z"
   },
   {
    "duration": 6,
    "start_time": "2022-02-08T21:34:46.342Z"
   },
   {
    "duration": 10,
    "start_time": "2022-02-08T21:34:46.350Z"
   },
   {
    "duration": 52,
    "start_time": "2022-02-08T21:34:46.361Z"
   },
   {
    "duration": 1632,
    "start_time": "2022-02-08T21:34:46.414Z"
   },
   {
    "duration": 74,
    "start_time": "2022-02-08T21:34:48.048Z"
   },
   {
    "duration": 426,
    "start_time": "2022-02-08T21:34:48.124Z"
   },
   {
    "duration": 21,
    "start_time": "2022-02-08T21:34:48.552Z"
   },
   {
    "duration": 9,
    "start_time": "2022-02-08T21:34:48.575Z"
   },
   {
    "duration": 407,
    "start_time": "2022-02-08T21:34:48.586Z"
   },
   {
    "duration": 26,
    "start_time": "2022-02-08T21:34:48.994Z"
   },
   {
    "duration": 25,
    "start_time": "2022-02-08T21:34:49.022Z"
   },
   {
    "duration": 20,
    "start_time": "2022-02-08T21:34:49.049Z"
   },
   {
    "duration": 80,
    "start_time": "2022-02-08T21:34:49.071Z"
   },
   {
    "duration": 11,
    "start_time": "2022-02-08T21:34:49.153Z"
   },
   {
    "duration": 19,
    "start_time": "2022-02-08T21:34:49.165Z"
   },
   {
    "duration": 28,
    "start_time": "2022-02-08T21:34:49.185Z"
   },
   {
    "duration": 5,
    "start_time": "2022-02-08T21:34:49.214Z"
   },
   {
    "duration": 7,
    "start_time": "2022-02-08T21:34:49.220Z"
   },
   {
    "duration": 6,
    "start_time": "2022-02-08T21:34:49.228Z"
   },
   {
    "duration": 1090,
    "start_time": "2022-02-08T21:39:38.429Z"
   },
   {
    "duration": 104,
    "start_time": "2022-02-08T21:39:39.521Z"
   },
   {
    "duration": 18,
    "start_time": "2022-02-08T21:39:39.627Z"
   },
   {
    "duration": 9,
    "start_time": "2022-02-08T21:39:39.647Z"
   },
   {
    "duration": 8,
    "start_time": "2022-02-08T21:39:39.658Z"
   },
   {
    "duration": 44,
    "start_time": "2022-02-08T21:39:39.668Z"
   },
   {
    "duration": 33,
    "start_time": "2022-02-08T21:39:39.714Z"
   },
   {
    "duration": 9,
    "start_time": "2022-02-08T21:39:39.749Z"
   },
   {
    "duration": 17,
    "start_time": "2022-02-08T21:39:39.760Z"
   },
   {
    "duration": 59,
    "start_time": "2022-02-08T21:39:39.779Z"
   },
   {
    "duration": 136,
    "start_time": "2022-02-08T21:39:39.840Z"
   },
   {
    "duration": 4,
    "start_time": "2022-02-08T21:39:39.978Z"
   },
   {
    "duration": 5,
    "start_time": "2022-02-08T21:39:39.984Z"
   },
   {
    "duration": 21,
    "start_time": "2022-02-08T21:39:39.991Z"
   },
   {
    "duration": 14,
    "start_time": "2022-02-08T21:39:40.014Z"
   },
   {
    "duration": 4,
    "start_time": "2022-02-08T21:39:40.030Z"
   },
   {
    "duration": 25,
    "start_time": "2022-02-08T21:39:40.036Z"
   },
   {
    "duration": 4,
    "start_time": "2022-02-08T21:39:40.062Z"
   },
   {
    "duration": 24,
    "start_time": "2022-02-08T21:39:40.067Z"
   },
   {
    "duration": 21,
    "start_time": "2022-02-08T21:39:40.093Z"
   },
   {
    "duration": 49,
    "start_time": "2022-02-08T21:39:40.116Z"
   },
   {
    "duration": 12,
    "start_time": "2022-02-08T21:39:40.166Z"
   },
   {
    "duration": 32,
    "start_time": "2022-02-08T21:39:40.181Z"
   },
   {
    "duration": 40,
    "start_time": "2022-02-08T21:39:40.215Z"
   },
   {
    "duration": 3,
    "start_time": "2022-02-08T21:39:40.257Z"
   },
   {
    "duration": 7,
    "start_time": "2022-02-08T21:39:40.261Z"
   },
   {
    "duration": 536,
    "start_time": "2022-02-08T21:39:40.269Z"
   },
   {
    "duration": 495,
    "start_time": "2022-02-08T21:39:40.807Z"
   },
   {
    "duration": 4,
    "start_time": "2022-02-08T21:39:41.303Z"
   },
   {
    "duration": 329,
    "start_time": "2022-02-08T21:39:41.312Z"
   },
   {
    "duration": 282,
    "start_time": "2022-02-08T21:39:41.642Z"
   },
   {
    "duration": 466,
    "start_time": "2022-02-08T21:39:41.926Z"
   },
   {
    "duration": 39,
    "start_time": "2022-02-08T21:39:42.393Z"
   },
   {
    "duration": 2048,
    "start_time": "2022-02-08T21:39:42.434Z"
   },
   {
    "duration": 8,
    "start_time": "2022-02-08T21:39:44.484Z"
   },
   {
    "duration": 38,
    "start_time": "2022-02-08T21:39:44.494Z"
   },
   {
    "duration": 2272,
    "start_time": "2022-02-08T21:39:44.534Z"
   },
   {
    "duration": 6,
    "start_time": "2022-02-08T21:39:46.808Z"
   },
   {
    "duration": 17,
    "start_time": "2022-02-08T21:39:46.816Z"
   },
   {
    "duration": 98,
    "start_time": "2022-02-08T21:39:46.834Z"
   },
   {
    "duration": 58,
    "start_time": "2022-02-08T21:39:46.934Z"
   },
   {
    "duration": 39,
    "start_time": "2022-02-08T21:39:46.993Z"
   },
   {
    "duration": 476,
    "start_time": "2022-02-08T21:39:47.034Z"
   },
   {
    "duration": 6,
    "start_time": "2022-02-08T21:39:47.512Z"
   },
   {
    "duration": 8,
    "start_time": "2022-02-08T21:39:47.520Z"
   },
   {
    "duration": 29,
    "start_time": "2022-02-08T21:39:47.530Z"
   },
   {
    "duration": 1663,
    "start_time": "2022-02-08T21:39:47.561Z"
   },
   {
    "duration": 65,
    "start_time": "2022-02-08T21:39:49.225Z"
   },
   {
    "duration": 431,
    "start_time": "2022-02-08T21:39:49.292Z"
   },
   {
    "duration": 29,
    "start_time": "2022-02-08T21:39:49.725Z"
   },
   {
    "duration": 14,
    "start_time": "2022-02-08T21:39:49.756Z"
   },
   {
    "duration": 410,
    "start_time": "2022-02-08T21:39:49.772Z"
   },
   {
    "duration": 32,
    "start_time": "2022-02-08T21:39:50.184Z"
   },
   {
    "duration": 25,
    "start_time": "2022-02-08T21:39:50.218Z"
   },
   {
    "duration": 21,
    "start_time": "2022-02-08T21:39:50.244Z"
   },
   {
    "duration": 83,
    "start_time": "2022-02-08T21:39:50.267Z"
   },
   {
    "duration": 11,
    "start_time": "2022-02-08T21:39:50.352Z"
   },
   {
    "duration": 10,
    "start_time": "2022-02-08T21:39:50.364Z"
   },
   {
    "duration": 10,
    "start_time": "2022-02-08T21:39:50.376Z"
   },
   {
    "duration": 26,
    "start_time": "2022-02-08T21:39:50.388Z"
   },
   {
    "duration": 25,
    "start_time": "2022-02-08T21:39:50.416Z"
   },
   {
    "duration": 13,
    "start_time": "2022-02-08T21:39:50.443Z"
   },
   {
    "duration": 97,
    "start_time": "2022-02-08T21:46:57.220Z"
   },
   {
    "duration": 100,
    "start_time": "2022-02-08T21:47:09.044Z"
   },
   {
    "duration": 19,
    "start_time": "2022-02-08T21:49:08.813Z"
   },
   {
    "duration": 34,
    "start_time": "2022-02-08T21:49:14.284Z"
   },
   {
    "duration": 86,
    "start_time": "2022-02-08T21:50:04.213Z"
   },
   {
    "duration": 77,
    "start_time": "2022-02-08T21:50:09.452Z"
   },
   {
    "duration": 26,
    "start_time": "2022-02-08T21:50:38.077Z"
   },
   {
    "duration": 39,
    "start_time": "2022-02-08T21:50:43.078Z"
   },
   {
    "duration": 95,
    "start_time": "2022-02-08T21:51:35.363Z"
   },
   {
    "duration": 100,
    "start_time": "2022-02-08T21:51:47.605Z"
   },
   {
    "duration": 337,
    "start_time": "2022-02-08T21:52:29.513Z"
   },
   {
    "duration": 250,
    "start_time": "2022-02-08T21:52:37.863Z"
   },
   {
    "duration": -209,
    "start_time": "2022-02-08T21:58:42.590Z"
   },
   {
    "duration": 5504,
    "start_time": "2022-02-08T21:58:49.437Z"
   },
   {
    "duration": 22,
    "start_time": "2022-02-08T21:59:31.855Z"
   },
   {
    "duration": 60,
    "start_time": "2022-02-08T21:59:56.672Z"
   },
   {
    "duration": 9,
    "start_time": "2022-02-08T22:01:21.445Z"
   },
   {
    "duration": 7,
    "start_time": "2022-02-08T22:01:36.180Z"
   },
   {
    "duration": 22,
    "start_time": "2022-02-08T22:07:46.842Z"
   },
   {
    "duration": 74,
    "start_time": "2022-02-08T22:08:09.877Z"
   },
   {
    "duration": 15,
    "start_time": "2022-02-08T22:08:13.974Z"
   },
   {
    "duration": 102,
    "start_time": "2022-02-08T23:06:36.732Z"
   },
   {
    "duration": 485,
    "start_time": "2022-02-08T23:07:45.506Z"
   },
   {
    "duration": 1166,
    "start_time": "2022-02-08T23:08:00.169Z"
   },
   {
    "duration": 108,
    "start_time": "2022-02-08T23:08:01.337Z"
   },
   {
    "duration": 17,
    "start_time": "2022-02-08T23:08:01.449Z"
   },
   {
    "duration": 10,
    "start_time": "2022-02-08T23:08:01.468Z"
   },
   {
    "duration": 13,
    "start_time": "2022-02-08T23:08:01.480Z"
   },
   {
    "duration": 36,
    "start_time": "2022-02-08T23:08:01.495Z"
   },
   {
    "duration": 35,
    "start_time": "2022-02-08T23:08:01.533Z"
   },
   {
    "duration": 9,
    "start_time": "2022-02-08T23:08:01.571Z"
   },
   {
    "duration": 36,
    "start_time": "2022-02-08T23:08:01.582Z"
   },
   {
    "duration": 46,
    "start_time": "2022-02-08T23:08:01.620Z"
   },
   {
    "duration": 145,
    "start_time": "2022-02-08T23:08:01.668Z"
   },
   {
    "duration": 5,
    "start_time": "2022-02-08T23:08:01.815Z"
   },
   {
    "duration": 15,
    "start_time": "2022-02-08T23:08:01.822Z"
   },
   {
    "duration": 9,
    "start_time": "2022-02-08T23:08:01.838Z"
   },
   {
    "duration": 20,
    "start_time": "2022-02-08T23:08:01.848Z"
   },
   {
    "duration": 5,
    "start_time": "2022-02-08T23:08:01.870Z"
   },
   {
    "duration": 43,
    "start_time": "2022-02-08T23:08:01.877Z"
   },
   {
    "duration": 4,
    "start_time": "2022-02-08T23:08:01.922Z"
   },
   {
    "duration": 21,
    "start_time": "2022-02-08T23:08:01.928Z"
   },
   {
    "duration": 9,
    "start_time": "2022-02-08T23:08:01.950Z"
   },
   {
    "duration": 66,
    "start_time": "2022-02-08T23:08:01.960Z"
   },
   {
    "duration": 12,
    "start_time": "2022-02-08T23:08:02.030Z"
   },
   {
    "duration": 10,
    "start_time": "2022-02-08T23:08:02.045Z"
   },
   {
    "duration": 60,
    "start_time": "2022-02-08T23:08:02.057Z"
   },
   {
    "duration": 4,
    "start_time": "2022-02-08T23:08:02.119Z"
   },
   {
    "duration": 13,
    "start_time": "2022-02-08T23:08:02.125Z"
   },
   {
    "duration": 517,
    "start_time": "2022-02-08T23:08:02.140Z"
   },
   {
    "duration": 490,
    "start_time": "2022-02-08T23:08:02.659Z"
   },
   {
    "duration": 4,
    "start_time": "2022-02-08T23:08:03.151Z"
   },
   {
    "duration": 321,
    "start_time": "2022-02-08T23:08:03.157Z"
   },
   {
    "duration": 277,
    "start_time": "2022-02-08T23:08:03.480Z"
   },
   {
    "duration": 470,
    "start_time": "2022-02-08T23:08:03.759Z"
   },
   {
    "duration": 30,
    "start_time": "2022-02-08T23:08:04.231Z"
   },
   {
    "duration": 2123,
    "start_time": "2022-02-08T23:08:04.263Z"
   },
   {
    "duration": 6,
    "start_time": "2022-02-08T23:08:06.387Z"
   },
   {
    "duration": 34,
    "start_time": "2022-02-08T23:08:06.395Z"
   },
   {
    "duration": 2246,
    "start_time": "2022-02-08T23:08:06.431Z"
   },
   {
    "duration": 6,
    "start_time": "2022-02-08T23:08:08.679Z"
   },
   {
    "duration": 30,
    "start_time": "2022-02-08T23:08:08.686Z"
   },
   {
    "duration": 84,
    "start_time": "2022-02-08T23:08:08.717Z"
   },
   {
    "duration": 68,
    "start_time": "2022-02-08T23:08:08.802Z"
   },
   {
    "duration": 41,
    "start_time": "2022-02-08T23:08:08.871Z"
   },
   {
    "duration": 600,
    "start_time": "2022-02-08T23:08:08.914Z"
   },
   {
    "duration": 7,
    "start_time": "2022-02-08T23:08:09.516Z"
   },
   {
    "duration": 8,
    "start_time": "2022-02-08T23:08:09.524Z"
   },
   {
    "duration": 27,
    "start_time": "2022-02-08T23:08:09.534Z"
   },
   {
    "duration": 1695,
    "start_time": "2022-02-08T23:08:09.563Z"
   },
   {
    "duration": 83,
    "start_time": "2022-02-08T23:08:11.259Z"
   },
   {
    "duration": 451,
    "start_time": "2022-02-08T23:08:11.344Z"
   },
   {
    "duration": 36,
    "start_time": "2022-02-08T23:08:11.797Z"
   },
   {
    "duration": 12,
    "start_time": "2022-02-08T23:08:11.835Z"
   },
   {
    "duration": 414,
    "start_time": "2022-02-08T23:08:11.849Z"
   },
   {
    "duration": 20,
    "start_time": "2022-02-08T23:08:12.265Z"
   },
   {
    "duration": 47,
    "start_time": "2022-02-08T23:08:12.286Z"
   },
   {
    "duration": 23,
    "start_time": "2022-02-08T23:08:12.335Z"
   },
   {
    "duration": 78,
    "start_time": "2022-02-08T23:08:12.360Z"
   },
   {
    "duration": 12,
    "start_time": "2022-02-08T23:08:12.440Z"
   },
   {
    "duration": 11,
    "start_time": "2022-02-08T23:08:12.455Z"
   },
   {
    "duration": 12,
    "start_time": "2022-02-08T23:08:12.468Z"
   },
   {
    "duration": 6,
    "start_time": "2022-02-08T23:08:12.513Z"
   },
   {
    "duration": 13,
    "start_time": "2022-02-08T23:08:12.521Z"
   },
   {
    "duration": 17,
    "start_time": "2022-02-08T23:08:12.536Z"
   },
   {
    "duration": 668,
    "start_time": "2022-02-08T23:09:50.415Z"
   },
   {
    "duration": 1062,
    "start_time": "2022-02-08T23:10:47.267Z"
   },
   {
    "duration": 102,
    "start_time": "2022-02-08T23:10:48.331Z"
   },
   {
    "duration": 17,
    "start_time": "2022-02-08T23:10:48.435Z"
   },
   {
    "duration": 9,
    "start_time": "2022-02-08T23:10:48.454Z"
   },
   {
    "duration": 8,
    "start_time": "2022-02-08T23:10:48.465Z"
   },
   {
    "duration": 43,
    "start_time": "2022-02-08T23:10:48.474Z"
   },
   {
    "duration": 31,
    "start_time": "2022-02-08T23:10:48.519Z"
   },
   {
    "duration": 9,
    "start_time": "2022-02-08T23:10:48.554Z"
   },
   {
    "duration": 17,
    "start_time": "2022-02-08T23:10:48.565Z"
   },
   {
    "duration": 70,
    "start_time": "2022-02-08T23:10:48.584Z"
   },
   {
    "duration": 139,
    "start_time": "2022-02-08T23:10:48.656Z"
   },
   {
    "duration": 15,
    "start_time": "2022-02-08T23:10:48.797Z"
   },
   {
    "duration": 4,
    "start_time": "2022-02-08T23:10:48.814Z"
   },
   {
    "duration": 4,
    "start_time": "2022-02-08T23:10:48.820Z"
   },
   {
    "duration": 14,
    "start_time": "2022-02-08T23:10:48.826Z"
   },
   {
    "duration": 3,
    "start_time": "2022-02-08T23:10:48.842Z"
   },
   {
    "duration": 23,
    "start_time": "2022-02-08T23:10:48.847Z"
   },
   {
    "duration": 3,
    "start_time": "2022-02-08T23:10:48.872Z"
   },
   {
    "duration": 50,
    "start_time": "2022-02-08T23:10:48.877Z"
   },
   {
    "duration": 4,
    "start_time": "2022-02-08T23:10:48.928Z"
   },
   {
    "duration": 51,
    "start_time": "2022-02-08T23:10:48.934Z"
   },
   {
    "duration": 37,
    "start_time": "2022-02-08T23:10:48.986Z"
   },
   {
    "duration": 9,
    "start_time": "2022-02-08T23:10:49.027Z"
   },
   {
    "duration": 44,
    "start_time": "2022-02-08T23:10:49.037Z"
   },
   {
    "duration": 3,
    "start_time": "2022-02-08T23:10:49.082Z"
   },
   {
    "duration": 26,
    "start_time": "2022-02-08T23:10:49.087Z"
   },
   {
    "duration": 539,
    "start_time": "2022-02-08T23:10:49.115Z"
   },
   {
    "duration": 502,
    "start_time": "2022-02-08T23:10:49.656Z"
   },
   {
    "duration": 3,
    "start_time": "2022-02-08T23:10:50.160Z"
   },
   {
    "duration": 322,
    "start_time": "2022-02-08T23:10:50.164Z"
   },
   {
    "duration": 272,
    "start_time": "2022-02-08T23:10:50.487Z"
   },
   {
    "duration": 460,
    "start_time": "2022-02-08T23:10:50.761Z"
   },
   {
    "duration": 29,
    "start_time": "2022-02-08T23:10:51.223Z"
   },
   {
    "duration": 2042,
    "start_time": "2022-02-08T23:10:51.253Z"
   },
   {
    "duration": 16,
    "start_time": "2022-02-08T23:10:53.296Z"
   },
   {
    "duration": 24,
    "start_time": "2022-02-08T23:10:53.313Z"
   },
   {
    "duration": 2180,
    "start_time": "2022-02-08T23:10:53.339Z"
   },
   {
    "duration": 6,
    "start_time": "2022-02-08T23:10:55.520Z"
   },
   {
    "duration": 16,
    "start_time": "2022-02-08T23:10:55.527Z"
   },
   {
    "duration": 104,
    "start_time": "2022-02-08T23:10:55.545Z"
   },
   {
    "duration": 66,
    "start_time": "2022-02-08T23:10:55.650Z"
   },
   {
    "duration": 25,
    "start_time": "2022-02-08T23:10:55.718Z"
   },
   {
    "duration": 622,
    "start_time": "2022-02-08T23:10:55.745Z"
   },
   {
    "duration": 7,
    "start_time": "2022-02-08T23:10:56.369Z"
   },
   {
    "duration": 9,
    "start_time": "2022-02-08T23:10:56.378Z"
   },
   {
    "duration": 45,
    "start_time": "2022-02-08T23:10:56.389Z"
   },
   {
    "duration": 1659,
    "start_time": "2022-02-08T23:10:56.436Z"
   },
   {
    "duration": 71,
    "start_time": "2022-02-08T23:10:58.097Z"
   },
   {
    "duration": 420,
    "start_time": "2022-02-08T23:10:58.170Z"
   },
   {
    "duration": 30,
    "start_time": "2022-02-08T23:10:58.592Z"
   },
   {
    "duration": 11,
    "start_time": "2022-02-08T23:10:58.623Z"
   },
   {
    "duration": 400,
    "start_time": "2022-02-08T23:10:58.636Z"
   },
   {
    "duration": 20,
    "start_time": "2022-02-08T23:10:59.037Z"
   },
   {
    "duration": 24,
    "start_time": "2022-02-08T23:10:59.059Z"
   },
   {
    "duration": 41,
    "start_time": "2022-02-08T23:10:59.085Z"
   },
   {
    "duration": 57,
    "start_time": "2022-02-08T23:10:59.127Z"
   },
   {
    "duration": 30,
    "start_time": "2022-02-08T23:10:59.186Z"
   },
   {
    "duration": 9,
    "start_time": "2022-02-08T23:10:59.218Z"
   },
   {
    "duration": 9,
    "start_time": "2022-02-08T23:10:59.228Z"
   },
   {
    "duration": 5,
    "start_time": "2022-02-08T23:10:59.239Z"
   },
   {
    "duration": 8,
    "start_time": "2022-02-08T23:10:59.245Z"
   },
   {
    "duration": 6,
    "start_time": "2022-02-08T23:10:59.254Z"
   },
   {
    "duration": 893,
    "start_time": "2022-02-08T23:12:16.279Z"
   },
   {
    "duration": 959,
    "start_time": "2022-02-08T23:13:43.702Z"
   },
   {
    "duration": 496,
    "start_time": "2022-02-08T23:14:48.248Z"
   },
   {
    "duration": 890,
    "start_time": "2022-02-08T23:15:13.760Z"
   },
   {
    "duration": 1023,
    "start_time": "2022-02-08T23:16:17.815Z"
   },
   {
    "duration": 782,
    "start_time": "2022-02-08T23:16:50.675Z"
   },
   {
    "duration": 927,
    "start_time": "2022-02-08T23:17:19.163Z"
   },
   {
    "duration": 1096,
    "start_time": "2022-02-08T23:17:32.844Z"
   },
   {
    "duration": 103,
    "start_time": "2022-02-08T23:17:33.942Z"
   },
   {
    "duration": 16,
    "start_time": "2022-02-08T23:17:34.047Z"
   },
   {
    "duration": 8,
    "start_time": "2022-02-08T23:17:34.065Z"
   },
   {
    "duration": 8,
    "start_time": "2022-02-08T23:17:34.075Z"
   },
   {
    "duration": 40,
    "start_time": "2022-02-08T23:17:34.085Z"
   },
   {
    "duration": 34,
    "start_time": "2022-02-08T23:17:34.127Z"
   },
   {
    "duration": 8,
    "start_time": "2022-02-08T23:17:34.164Z"
   },
   {
    "duration": 17,
    "start_time": "2022-02-08T23:17:34.174Z"
   },
   {
    "duration": 61,
    "start_time": "2022-02-08T23:17:34.192Z"
   },
   {
    "duration": 141,
    "start_time": "2022-02-08T23:17:34.255Z"
   },
   {
    "duration": 5,
    "start_time": "2022-02-08T23:17:34.398Z"
   },
   {
    "duration": 4,
    "start_time": "2022-02-08T23:17:34.412Z"
   },
   {
    "duration": 6,
    "start_time": "2022-02-08T23:17:34.418Z"
   },
   {
    "duration": 16,
    "start_time": "2022-02-08T23:17:34.425Z"
   },
   {
    "duration": 5,
    "start_time": "2022-02-08T23:17:34.442Z"
   },
   {
    "duration": 24,
    "start_time": "2022-02-08T23:17:34.450Z"
   },
   {
    "duration": 38,
    "start_time": "2022-02-08T23:17:34.476Z"
   },
   {
    "duration": 17,
    "start_time": "2022-02-08T23:17:34.516Z"
   },
   {
    "duration": 5,
    "start_time": "2022-02-08T23:17:34.535Z"
   },
   {
    "duration": 75,
    "start_time": "2022-02-08T23:17:34.542Z"
   },
   {
    "duration": 13,
    "start_time": "2022-02-08T23:17:34.618Z"
   },
   {
    "duration": 11,
    "start_time": "2022-02-08T23:17:34.634Z"
   },
   {
    "duration": 71,
    "start_time": "2022-02-08T23:17:34.648Z"
   },
   {
    "duration": 4,
    "start_time": "2022-02-08T23:17:34.720Z"
   },
   {
    "duration": 6,
    "start_time": "2022-02-08T23:17:34.725Z"
   },
   {
    "duration": 537,
    "start_time": "2022-02-08T23:17:34.733Z"
   },
   {
    "duration": 498,
    "start_time": "2022-02-08T23:17:35.272Z"
   },
   {
    "duration": 3,
    "start_time": "2022-02-08T23:17:35.773Z"
   },
   {
    "duration": 329,
    "start_time": "2022-02-08T23:17:35.778Z"
   },
   {
    "duration": 278,
    "start_time": "2022-02-08T23:17:36.108Z"
   },
   {
    "duration": 478,
    "start_time": "2022-02-08T23:17:36.387Z"
   },
   {
    "duration": 31,
    "start_time": "2022-02-08T23:17:36.867Z"
   },
   {
    "duration": 2101,
    "start_time": "2022-02-08T23:17:36.911Z"
   },
   {
    "duration": 6,
    "start_time": "2022-02-08T23:17:39.014Z"
   },
   {
    "duration": 22,
    "start_time": "2022-02-08T23:17:39.022Z"
   },
   {
    "duration": 2199,
    "start_time": "2022-02-08T23:17:39.045Z"
   },
   {
    "duration": 5,
    "start_time": "2022-02-08T23:17:41.246Z"
   },
   {
    "duration": 17,
    "start_time": "2022-02-08T23:17:41.253Z"
   },
   {
    "duration": 115,
    "start_time": "2022-02-08T23:17:41.271Z"
   },
   {
    "duration": 69,
    "start_time": "2022-02-08T23:17:41.388Z"
   },
   {
    "duration": 26,
    "start_time": "2022-02-08T23:17:41.458Z"
   },
   {
    "duration": 72,
    "start_time": "2022-02-08T23:17:41.486Z"
   },
   {
    "duration": -222,
    "start_time": "2022-02-08T23:17:41.782Z"
   },
   {
    "duration": -222,
    "start_time": "2022-02-08T23:17:41.783Z"
   },
   {
    "duration": -223,
    "start_time": "2022-02-08T23:17:41.785Z"
   },
   {
    "duration": -223,
    "start_time": "2022-02-08T23:17:41.786Z"
   },
   {
    "duration": -225,
    "start_time": "2022-02-08T23:17:41.788Z"
   },
   {
    "duration": -228,
    "start_time": "2022-02-08T23:17:41.792Z"
   },
   {
    "duration": -228,
    "start_time": "2022-02-08T23:17:41.793Z"
   },
   {
    "duration": -229,
    "start_time": "2022-02-08T23:17:41.795Z"
   },
   {
    "duration": -230,
    "start_time": "2022-02-08T23:17:41.797Z"
   },
   {
    "duration": -230,
    "start_time": "2022-02-08T23:17:41.798Z"
   },
   {
    "duration": -231,
    "start_time": "2022-02-08T23:17:41.800Z"
   },
   {
    "duration": -231,
    "start_time": "2022-02-08T23:17:41.801Z"
   },
   {
    "duration": -232,
    "start_time": "2022-02-08T23:17:41.803Z"
   },
   {
    "duration": -233,
    "start_time": "2022-02-08T23:17:41.805Z"
   },
   {
    "duration": -234,
    "start_time": "2022-02-08T23:17:41.807Z"
   },
   {
    "duration": -235,
    "start_time": "2022-02-08T23:17:41.809Z"
   },
   {
    "duration": -235,
    "start_time": "2022-02-08T23:17:41.810Z"
   },
   {
    "duration": -236,
    "start_time": "2022-02-08T23:17:41.812Z"
   },
   {
    "duration": -236,
    "start_time": "2022-02-08T23:17:41.813Z"
   },
   {
    "duration": 1159,
    "start_time": "2022-02-08T23:18:00.898Z"
   },
   {
    "duration": 1130,
    "start_time": "2022-02-08T23:18:54.792Z"
   },
   {
    "duration": 107,
    "start_time": "2022-02-08T23:18:55.924Z"
   },
   {
    "duration": 17,
    "start_time": "2022-02-08T23:18:56.033Z"
   },
   {
    "duration": 11,
    "start_time": "2022-02-08T23:18:56.052Z"
   },
   {
    "duration": 9,
    "start_time": "2022-02-08T23:18:56.064Z"
   },
   {
    "duration": 42,
    "start_time": "2022-02-08T23:18:56.075Z"
   },
   {
    "duration": 34,
    "start_time": "2022-02-08T23:18:56.119Z"
   },
   {
    "duration": 8,
    "start_time": "2022-02-08T23:18:56.156Z"
   },
   {
    "duration": 18,
    "start_time": "2022-02-08T23:18:56.166Z"
   },
   {
    "duration": 67,
    "start_time": "2022-02-08T23:18:56.185Z"
   },
   {
    "duration": 158,
    "start_time": "2022-02-08T23:18:56.254Z"
   },
   {
    "duration": 5,
    "start_time": "2022-02-08T23:18:56.413Z"
   },
   {
    "duration": 5,
    "start_time": "2022-02-08T23:18:56.420Z"
   },
   {
    "duration": 4,
    "start_time": "2022-02-08T23:18:56.427Z"
   },
   {
    "duration": 15,
    "start_time": "2022-02-08T23:18:56.432Z"
   },
   {
    "duration": 4,
    "start_time": "2022-02-08T23:18:56.449Z"
   },
   {
    "duration": 67,
    "start_time": "2022-02-08T23:18:56.455Z"
   },
   {
    "duration": 4,
    "start_time": "2022-02-08T23:18:56.524Z"
   },
   {
    "duration": 18,
    "start_time": "2022-02-08T23:18:56.530Z"
   },
   {
    "duration": 4,
    "start_time": "2022-02-08T23:18:56.550Z"
   },
   {
    "duration": 70,
    "start_time": "2022-02-08T23:18:56.556Z"
   },
   {
    "duration": 12,
    "start_time": "2022-02-08T23:18:56.627Z"
   },
   {
    "duration": 9,
    "start_time": "2022-02-08T23:18:56.643Z"
   },
   {
    "duration": 61,
    "start_time": "2022-02-08T23:18:56.654Z"
   },
   {
    "duration": 3,
    "start_time": "2022-02-08T23:18:56.716Z"
   },
   {
    "duration": 6,
    "start_time": "2022-02-08T23:18:56.721Z"
   },
   {
    "duration": 561,
    "start_time": "2022-02-08T23:18:56.728Z"
   },
   {
    "duration": 502,
    "start_time": "2022-02-08T23:18:57.291Z"
   },
   {
    "duration": 3,
    "start_time": "2022-02-08T23:18:57.795Z"
   },
   {
    "duration": 321,
    "start_time": "2022-02-08T23:18:57.799Z"
   },
   {
    "duration": 283,
    "start_time": "2022-02-08T23:18:58.122Z"
   },
   {
    "duration": 476,
    "start_time": "2022-02-08T23:18:58.407Z"
   },
   {
    "duration": 33,
    "start_time": "2022-02-08T23:18:58.885Z"
   },
   {
    "duration": 2088,
    "start_time": "2022-02-08T23:18:58.920Z"
   },
   {
    "duration": 7,
    "start_time": "2022-02-08T23:19:01.009Z"
   },
   {
    "duration": 24,
    "start_time": "2022-02-08T23:19:01.017Z"
   },
   {
    "duration": 2246,
    "start_time": "2022-02-08T23:19:01.043Z"
   },
   {
    "duration": 5,
    "start_time": "2022-02-08T23:19:03.291Z"
   },
   {
    "duration": 18,
    "start_time": "2022-02-08T23:19:03.312Z"
   },
   {
    "duration": 98,
    "start_time": "2022-02-08T23:19:03.332Z"
   },
   {
    "duration": 62,
    "start_time": "2022-02-08T23:19:03.431Z"
   },
   {
    "duration": 40,
    "start_time": "2022-02-08T23:19:03.494Z"
   },
   {
    "duration": 516,
    "start_time": "2022-02-08T23:19:03.535Z"
   },
   {
    "duration": 7,
    "start_time": "2022-02-08T23:19:04.053Z"
   },
   {
    "duration": 16,
    "start_time": "2022-02-08T23:19:04.061Z"
   },
   {
    "duration": 39,
    "start_time": "2022-02-08T23:19:04.078Z"
   },
   {
    "duration": 1695,
    "start_time": "2022-02-08T23:19:04.119Z"
   },
   {
    "duration": 69,
    "start_time": "2022-02-08T23:19:05.816Z"
   },
   {
    "duration": 453,
    "start_time": "2022-02-08T23:19:05.887Z"
   },
   {
    "duration": 21,
    "start_time": "2022-02-08T23:19:06.342Z"
   },
   {
    "duration": 10,
    "start_time": "2022-02-08T23:19:06.365Z"
   },
   {
    "duration": 912,
    "start_time": "2022-02-08T23:19:06.377Z"
   },
   {
    "duration": 30,
    "start_time": "2022-02-08T23:19:07.291Z"
   },
   {
    "duration": 28,
    "start_time": "2022-02-08T23:19:07.323Z"
   },
   {
    "duration": 22,
    "start_time": "2022-02-08T23:19:07.353Z"
   },
   {
    "duration": 84,
    "start_time": "2022-02-08T23:19:07.377Z"
   },
   {
    "duration": 12,
    "start_time": "2022-02-08T23:19:07.463Z"
   },
   {
    "duration": 14,
    "start_time": "2022-02-08T23:19:07.477Z"
   },
   {
    "duration": 30,
    "start_time": "2022-02-08T23:19:07.493Z"
   },
   {
    "duration": 6,
    "start_time": "2022-02-08T23:19:07.525Z"
   },
   {
    "duration": 5,
    "start_time": "2022-02-08T23:19:07.533Z"
   },
   {
    "duration": 5,
    "start_time": "2022-02-08T23:19:07.540Z"
   },
   {
    "duration": 1174,
    "start_time": "2022-02-08T23:25:28.975Z"
   },
   {
    "duration": 112,
    "start_time": "2022-02-08T23:25:30.151Z"
   },
   {
    "duration": 19,
    "start_time": "2022-02-08T23:25:30.265Z"
   },
   {
    "duration": 11,
    "start_time": "2022-02-08T23:25:30.286Z"
   },
   {
    "duration": 21,
    "start_time": "2022-02-08T23:25:30.298Z"
   },
   {
    "duration": 37,
    "start_time": "2022-02-08T23:25:30.321Z"
   },
   {
    "duration": 37,
    "start_time": "2022-02-08T23:25:30.360Z"
   },
   {
    "duration": 11,
    "start_time": "2022-02-08T23:25:30.414Z"
   },
   {
    "duration": 22,
    "start_time": "2022-02-08T23:25:30.427Z"
   },
   {
    "duration": 67,
    "start_time": "2022-02-08T23:25:30.451Z"
   },
   {
    "duration": 142,
    "start_time": "2022-02-08T23:25:30.520Z"
   },
   {
    "duration": 6,
    "start_time": "2022-02-08T23:25:30.663Z"
   },
   {
    "duration": 10,
    "start_time": "2022-02-08T23:25:30.670Z"
   },
   {
    "duration": 7,
    "start_time": "2022-02-08T23:25:30.682Z"
   },
   {
    "duration": 28,
    "start_time": "2022-02-08T23:25:30.691Z"
   },
   {
    "duration": 5,
    "start_time": "2022-02-08T23:25:30.721Z"
   },
   {
    "duration": 25,
    "start_time": "2022-02-08T23:25:30.728Z"
   },
   {
    "duration": 7,
    "start_time": "2022-02-08T23:25:30.755Z"
   },
   {
    "duration": 19,
    "start_time": "2022-02-08T23:25:30.764Z"
   },
   {
    "duration": 5,
    "start_time": "2022-02-08T23:25:30.784Z"
   },
   {
    "duration": 50,
    "start_time": "2022-02-08T23:25:30.813Z"
   },
   {
    "duration": 12,
    "start_time": "2022-02-08T23:25:30.865Z"
   },
   {
    "duration": 33,
    "start_time": "2022-02-08T23:25:30.880Z"
   },
   {
    "duration": 44,
    "start_time": "2022-02-08T23:25:30.916Z"
   },
   {
    "duration": 4,
    "start_time": "2022-02-08T23:25:30.961Z"
   },
   {
    "duration": 8,
    "start_time": "2022-02-08T23:25:30.966Z"
   },
   {
    "duration": 544,
    "start_time": "2022-02-08T23:25:30.975Z"
   },
   {
    "duration": 496,
    "start_time": "2022-02-08T23:25:31.520Z"
   },
   {
    "duration": 3,
    "start_time": "2022-02-08T23:25:32.018Z"
   },
   {
    "duration": 317,
    "start_time": "2022-02-08T23:25:32.023Z"
   },
   {
    "duration": 276,
    "start_time": "2022-02-08T23:25:32.342Z"
   },
   {
    "duration": 481,
    "start_time": "2022-02-08T23:25:32.620Z"
   },
   {
    "duration": 37,
    "start_time": "2022-02-08T23:25:33.102Z"
   },
   {
    "duration": 2046,
    "start_time": "2022-02-08T23:25:33.140Z"
   },
   {
    "duration": 6,
    "start_time": "2022-02-08T23:25:35.188Z"
   },
   {
    "duration": 34,
    "start_time": "2022-02-08T23:25:35.195Z"
   },
   {
    "duration": 2210,
    "start_time": "2022-02-08T23:25:35.230Z"
   },
   {
    "duration": 5,
    "start_time": "2022-02-08T23:25:37.442Z"
   },
   {
    "duration": 19,
    "start_time": "2022-02-08T23:25:37.448Z"
   },
   {
    "duration": 103,
    "start_time": "2022-02-08T23:25:37.469Z"
   },
   {
    "duration": 69,
    "start_time": "2022-02-08T23:25:37.574Z"
   },
   {
    "duration": 24,
    "start_time": "2022-02-08T23:25:37.645Z"
   },
   {
    "duration": 510,
    "start_time": "2022-02-08T23:25:37.671Z"
   },
   {
    "duration": 7,
    "start_time": "2022-02-08T23:25:38.182Z"
   },
   {
    "duration": 23,
    "start_time": "2022-02-08T23:25:38.190Z"
   },
   {
    "duration": 28,
    "start_time": "2022-02-08T23:25:38.215Z"
   },
   {
    "duration": 1670,
    "start_time": "2022-02-08T23:25:38.244Z"
   },
   {
    "duration": 66,
    "start_time": "2022-02-08T23:25:39.915Z"
   },
   {
    "duration": 448,
    "start_time": "2022-02-08T23:25:39.983Z"
   },
   {
    "duration": 22,
    "start_time": "2022-02-08T23:25:40.433Z"
   },
   {
    "duration": 11,
    "start_time": "2022-02-08T23:25:40.457Z"
   },
   {
    "duration": 857,
    "start_time": "2022-02-08T23:25:40.470Z"
   },
   {
    "duration": 28,
    "start_time": "2022-02-08T23:25:41.329Z"
   },
   {
    "duration": 28,
    "start_time": "2022-02-08T23:25:41.360Z"
   },
   {
    "duration": 43,
    "start_time": "2022-02-08T23:25:41.390Z"
   },
   {
    "duration": 58,
    "start_time": "2022-02-08T23:25:41.434Z"
   },
   {
    "duration": 27,
    "start_time": "2022-02-08T23:25:41.494Z"
   },
   {
    "duration": 10,
    "start_time": "2022-02-08T23:25:41.522Z"
   },
   {
    "duration": 9,
    "start_time": "2022-02-08T23:25:41.534Z"
   },
   {
    "duration": 5,
    "start_time": "2022-02-08T23:25:41.545Z"
   },
   {
    "duration": 4,
    "start_time": "2022-02-08T23:25:41.552Z"
   },
   {
    "duration": 6,
    "start_time": "2022-02-08T23:25:41.557Z"
   },
   {
    "duration": 1091,
    "start_time": "2022-02-08T23:57:54.523Z"
   },
   {
    "duration": 103,
    "start_time": "2022-02-08T23:57:55.615Z"
   },
   {
    "duration": 16,
    "start_time": "2022-02-08T23:57:55.722Z"
   },
   {
    "duration": 9,
    "start_time": "2022-02-08T23:57:55.739Z"
   },
   {
    "duration": 7,
    "start_time": "2022-02-08T23:57:55.750Z"
   },
   {
    "duration": 20,
    "start_time": "2022-02-08T23:57:55.758Z"
   },
   {
    "duration": 56,
    "start_time": "2022-02-08T23:57:55.780Z"
   },
   {
    "duration": 8,
    "start_time": "2022-02-08T23:57:55.838Z"
   },
   {
    "duration": 18,
    "start_time": "2022-02-08T23:57:55.848Z"
   },
   {
    "duration": 61,
    "start_time": "2022-02-08T23:57:55.867Z"
   },
   {
    "duration": 129,
    "start_time": "2022-02-08T23:57:55.929Z"
   },
   {
    "duration": 4,
    "start_time": "2022-02-08T23:57:56.060Z"
   },
   {
    "duration": 4,
    "start_time": "2022-02-08T23:57:56.066Z"
   },
   {
    "duration": 6,
    "start_time": "2022-02-08T23:57:56.071Z"
   },
   {
    "duration": 35,
    "start_time": "2022-02-08T23:57:56.078Z"
   },
   {
    "duration": 5,
    "start_time": "2022-02-08T23:57:56.114Z"
   },
   {
    "duration": 23,
    "start_time": "2022-02-08T23:57:56.120Z"
   },
   {
    "duration": 3,
    "start_time": "2022-02-08T23:57:56.144Z"
   },
   {
    "duration": 16,
    "start_time": "2022-02-08T23:57:56.149Z"
   },
   {
    "duration": 4,
    "start_time": "2022-02-08T23:57:56.167Z"
   },
   {
    "duration": 77,
    "start_time": "2022-02-08T23:57:56.172Z"
   },
   {
    "duration": 12,
    "start_time": "2022-02-08T23:57:56.253Z"
   },
   {
    "duration": 11,
    "start_time": "2022-02-08T23:57:56.267Z"
   },
   {
    "duration": 61,
    "start_time": "2022-02-08T23:57:56.279Z"
   },
   {
    "duration": 3,
    "start_time": "2022-02-08T23:57:56.342Z"
   },
   {
    "duration": 6,
    "start_time": "2022-02-08T23:57:56.346Z"
   },
   {
    "duration": 524,
    "start_time": "2022-02-08T23:57:56.354Z"
   },
   {
    "duration": 475,
    "start_time": "2022-02-08T23:57:56.880Z"
   },
   {
    "duration": 2,
    "start_time": "2022-02-08T23:57:57.357Z"
   },
   {
    "duration": 304,
    "start_time": "2022-02-08T23:57:57.361Z"
   },
   {
    "duration": 266,
    "start_time": "2022-02-08T23:57:57.667Z"
   },
   {
    "duration": 441,
    "start_time": "2022-02-08T23:57:57.935Z"
   },
   {
    "duration": 40,
    "start_time": "2022-02-08T23:57:58.377Z"
   },
   {
    "duration": 1968,
    "start_time": "2022-02-08T23:57:58.418Z"
   },
   {
    "duration": 7,
    "start_time": "2022-02-08T23:58:00.387Z"
   },
   {
    "duration": 34,
    "start_time": "2022-02-08T23:58:00.395Z"
   },
   {
    "duration": 2130,
    "start_time": "2022-02-08T23:58:00.431Z"
   },
   {
    "duration": 5,
    "start_time": "2022-02-08T23:58:02.562Z"
   },
   {
    "duration": 17,
    "start_time": "2022-02-08T23:58:02.569Z"
   },
   {
    "duration": 94,
    "start_time": "2022-02-08T23:58:02.587Z"
   },
   {
    "duration": 64,
    "start_time": "2022-02-08T23:58:02.683Z"
   },
   {
    "duration": 23,
    "start_time": "2022-02-08T23:58:02.748Z"
   },
   {
    "duration": 470,
    "start_time": "2022-02-08T23:58:02.772Z"
   },
   {
    "duration": 6,
    "start_time": "2022-02-08T23:58:03.243Z"
   },
   {
    "duration": 8,
    "start_time": "2022-02-08T23:58:03.250Z"
   },
   {
    "duration": 29,
    "start_time": "2022-02-08T23:58:03.259Z"
   },
   {
    "duration": 1622,
    "start_time": "2022-02-08T23:58:03.290Z"
   },
   {
    "duration": 64,
    "start_time": "2022-02-08T23:58:04.913Z"
   },
   {
    "duration": 428,
    "start_time": "2022-02-08T23:58:04.979Z"
   },
   {
    "duration": 21,
    "start_time": "2022-02-08T23:58:05.408Z"
   },
   {
    "duration": 11,
    "start_time": "2022-02-08T23:58:05.431Z"
   },
   {
    "duration": 890,
    "start_time": "2022-02-08T23:58:05.444Z"
   },
   {
    "duration": 21,
    "start_time": "2022-02-08T23:58:06.336Z"
   },
   {
    "duration": 29,
    "start_time": "2022-02-08T23:58:06.358Z"
   },
   {
    "duration": 43,
    "start_time": "2022-02-08T23:58:06.388Z"
   },
   {
    "duration": 58,
    "start_time": "2022-02-08T23:58:06.433Z"
   },
   {
    "duration": 13,
    "start_time": "2022-02-08T23:58:06.512Z"
   },
   {
    "duration": 11,
    "start_time": "2022-02-08T23:58:06.526Z"
   },
   {
    "duration": 10,
    "start_time": "2022-02-08T23:58:06.539Z"
   },
   {
    "duration": 5,
    "start_time": "2022-02-08T23:58:06.551Z"
   },
   {
    "duration": 8,
    "start_time": "2022-02-08T23:58:06.557Z"
   },
   {
    "duration": 5,
    "start_time": "2022-02-08T23:58:06.566Z"
   },
   {
    "duration": 1585,
    "start_time": "2022-02-09T00:00:49.638Z"
   },
   {
    "duration": 103,
    "start_time": "2022-02-09T00:00:51.225Z"
   },
   {
    "duration": 16,
    "start_time": "2022-02-09T00:00:51.330Z"
   },
   {
    "duration": 10,
    "start_time": "2022-02-09T00:00:51.348Z"
   },
   {
    "duration": 7,
    "start_time": "2022-02-09T00:00:51.360Z"
   },
   {
    "duration": 43,
    "start_time": "2022-02-09T00:00:51.369Z"
   },
   {
    "duration": 36,
    "start_time": "2022-02-09T00:00:51.414Z"
   },
   {
    "duration": 9,
    "start_time": "2022-02-09T00:00:51.453Z"
   },
   {
    "duration": 18,
    "start_time": "2022-02-09T00:00:51.464Z"
   },
   {
    "duration": 67,
    "start_time": "2022-02-09T00:00:51.483Z"
   },
   {
    "duration": 139,
    "start_time": "2022-02-09T00:00:51.552Z"
   },
   {
    "duration": 5,
    "start_time": "2022-02-09T00:00:51.693Z"
   },
   {
    "duration": 15,
    "start_time": "2022-02-09T00:00:51.700Z"
   },
   {
    "duration": 10,
    "start_time": "2022-02-09T00:00:51.717Z"
   },
   {
    "duration": 17,
    "start_time": "2022-02-09T00:00:51.729Z"
   },
   {
    "duration": 5,
    "start_time": "2022-02-09T00:00:51.747Z"
   },
   {
    "duration": 24,
    "start_time": "2022-02-09T00:00:51.754Z"
   },
   {
    "duration": 4,
    "start_time": "2022-02-09T00:00:51.779Z"
   },
   {
    "duration": 37,
    "start_time": "2022-02-09T00:00:51.785Z"
   },
   {
    "duration": 4,
    "start_time": "2022-02-09T00:00:51.824Z"
   },
   {
    "duration": 49,
    "start_time": "2022-02-09T00:00:51.830Z"
   },
   {
    "duration": 34,
    "start_time": "2022-02-09T00:00:51.881Z"
   },
   {
    "duration": 10,
    "start_time": "2022-02-09T00:00:51.919Z"
   },
   {
    "duration": 40,
    "start_time": "2022-02-09T00:00:51.931Z"
   },
   {
    "duration": 3,
    "start_time": "2022-02-09T00:00:51.973Z"
   },
   {
    "duration": 7,
    "start_time": "2022-02-09T00:00:51.978Z"
   },
   {
    "duration": 491,
    "start_time": "2022-02-09T00:00:52.013Z"
   },
   {
    "duration": 472,
    "start_time": "2022-02-09T00:00:52.505Z"
   },
   {
    "duration": 3,
    "start_time": "2022-02-09T00:00:52.979Z"
   },
   {
    "duration": 306,
    "start_time": "2022-02-09T00:00:52.983Z"
   },
   {
    "duration": 263,
    "start_time": "2022-02-09T00:00:53.291Z"
   },
   {
    "duration": 436,
    "start_time": "2022-02-09T00:00:53.556Z"
   },
   {
    "duration": 38,
    "start_time": "2022-02-09T00:00:53.993Z"
   },
   {
    "duration": 1980,
    "start_time": "2022-02-09T00:00:54.032Z"
   },
   {
    "duration": 6,
    "start_time": "2022-02-09T00:00:56.014Z"
   },
   {
    "duration": 21,
    "start_time": "2022-02-09T00:00:56.021Z"
   },
   {
    "duration": 2179,
    "start_time": "2022-02-09T00:00:56.044Z"
   },
   {
    "duration": 5,
    "start_time": "2022-02-09T00:00:58.225Z"
   },
   {
    "duration": 19,
    "start_time": "2022-02-09T00:00:58.232Z"
   },
   {
    "duration": 96,
    "start_time": "2022-02-09T00:00:58.252Z"
   },
   {
    "duration": 64,
    "start_time": "2022-02-09T00:00:58.350Z"
   },
   {
    "duration": 23,
    "start_time": "2022-02-09T00:00:58.416Z"
   },
   {
    "duration": 477,
    "start_time": "2022-02-09T00:00:58.441Z"
   },
   {
    "duration": 6,
    "start_time": "2022-02-09T00:00:58.919Z"
   },
   {
    "duration": 9,
    "start_time": "2022-02-09T00:00:58.927Z"
   },
   {
    "duration": 31,
    "start_time": "2022-02-09T00:00:58.937Z"
   },
   {
    "duration": 1601,
    "start_time": "2022-02-09T00:00:58.970Z"
   },
   {
    "duration": 71,
    "start_time": "2022-02-09T00:01:00.573Z"
   },
   {
    "duration": 429,
    "start_time": "2022-02-09T00:01:00.646Z"
   },
   {
    "duration": 36,
    "start_time": "2022-02-09T00:01:01.077Z"
   },
   {
    "duration": 11,
    "start_time": "2022-02-09T00:01:01.115Z"
   },
   {
    "duration": 845,
    "start_time": "2022-02-09T00:01:01.128Z"
   },
   {
    "duration": 19,
    "start_time": "2022-02-09T00:01:01.974Z"
   },
   {
    "duration": 40,
    "start_time": "2022-02-09T00:01:01.994Z"
   },
   {
    "duration": 20,
    "start_time": "2022-02-09T00:01:02.036Z"
   },
   {
    "duration": 77,
    "start_time": "2022-02-09T00:01:02.057Z"
   },
   {
    "duration": 10,
    "start_time": "2022-02-09T00:01:02.136Z"
   },
   {
    "duration": 13,
    "start_time": "2022-02-09T00:01:02.148Z"
   },
   {
    "duration": 10,
    "start_time": "2022-02-09T00:01:02.163Z"
   },
   {
    "duration": 5,
    "start_time": "2022-02-09T00:01:02.174Z"
   },
   {
    "duration": 10,
    "start_time": "2022-02-09T00:01:02.180Z"
   },
   {
    "duration": 5,
    "start_time": "2022-02-09T00:01:02.211Z"
   }
  ],
  "kernelspec": {
   "display_name": "Python 3 (ipykernel)",
   "language": "python",
   "name": "python3"
  },
  "language_info": {
   "codemirror_mode": {
    "name": "ipython",
    "version": 3
   },
   "file_extension": ".py",
   "mimetype": "text/x-python",
   "name": "python",
   "nbconvert_exporter": "python",
   "pygments_lexer": "ipython3",
   "version": "3.7.8"
  },
  "toc": {
   "base_numbering": 1,
   "nav_menu": {},
   "number_sections": true,
   "sideBar": true,
   "skip_h1_title": true,
   "title_cell": "Table of Contents",
   "title_sidebar": "Contents",
   "toc_cell": false,
   "toc_position": {},
   "toc_section_display": true,
   "toc_window_display": false
  }
 },
 "nbformat": 4,
 "nbformat_minor": 2
}
